{
 "cells": [
  {
   "cell_type": "code",
   "execution_count": 12,
   "id": "c6ef2b77-22da-4c96-b4d4-46cc400062e0",
   "metadata": {},
   "outputs": [
    {
     "name": "stdout",
     "output_type": "stream",
     "text": [
      "Running on PyMC v5.10.3\n"
     ]
    }
   ],
   "source": [
    "#Tables and matrices\n",
    "import numpy as np\n",
    "import pandas as pd\n",
    "\n",
    "#Stats\n",
    "import scipy.stats as st\n",
    "from scipy.optimize import fmin\n",
    "from scipy import integrate\n",
    "from scipy.stats.mstats import mquantiles\n",
    "import statsmodels.formula.api as smf\n",
    "import statsmodels.api as sm \n",
    "from statsmodels.stats.diagnostic import het_breuschpagan #Heteroskedasticity test\n",
    "from statsmodels.stats.diagnostic import het_white #Heteroskedasticity test\n",
    "\n",
    "#Probabilistic programs\n",
    "#!pip install numpy mkl #if you are in an intel machine i.e. in mac M# chips no\n",
    "#!pip install pymc\n",
    "#!pip install pytensor\n",
    "import pymc as pm\n",
    "import pytensor.tensor as pt\n",
    "#import aesara.tensor as at\n",
    "print('Running on PyMC v{}'.format(pm.__version__))\n",
    "\n",
    "\n",
    "#Graphs \n",
    "#IMPORTANT: properly install ipywidgets and nodejs for interactive graphs\n",
    "#If you are in jupyterlab, activate the widget extension (it should be in the latest versions)\n",
    "import seaborn as sns\n",
    "import matplotlib.pyplot as plt\n",
    "from matplotlib import cm\n",
    "from matplotlib.gridspec import GridSpec\n",
    "from matplotlib import animation, rc\n",
    "from IPython.display import display, HTML, Markdown\n",
    "import ipywidgets as widgets\n",
    "from ipywidgets import interact, interactive, fixed, HBox, VBox, Layout\n",
    "from mpl_toolkits.mplot3d import axes3d\n",
    "import arviz as az"
   ]
  },
  {
   "cell_type": "code",
   "execution_count": 18,
   "id": "b8636983-217d-4ba9-ac6c-bca644628cf8",
   "metadata": {},
   "outputs": [],
   "source": [
    "def f(k,robust = False): #Esta función tiene comandos para la regresión y para gráficas.\n",
    "    #k: heterosdactity parameter...larger more heteroscedasticity\n",
    "    f, axes = plt.subplots(1, 2, figsize=(12, 4))\n",
    "    #El ruido puede ser una función complicada que depende del nivel de la variable independiente X\n",
    "    Y_noise = np.random.normal(loc = 0, scale = X_data**k, size = n)\n",
    "    Y = pd.DataFrame({\"X\": X_data, \"Y\": Y_raw + Y_noise})\n",
    "    \n",
    "    # Regresión\n",
    "    model = smf.ols(formula='Y ~ X', data = Y)\n",
    "    if robust == True:\n",
    "        results = model.fit(cov_type='HC3') #errores standard robustos (a heterocedasticidad)\n",
    "    else:\n",
    "        results = model.fit() \n",
    "    residuals = results.resid\n",
    "    Y['predictions'] = results.predict(Y['X'])\n",
    "    white_test = het_white(residuals,  model.exog)\n",
    "    bp_test = het_breuschpagan(residuals, model.exog)\n",
    "    \n",
    "    \n",
    "    #Gráficas\n",
    "    sns.scatterplot(x = 'X', y='Y', data=Y, color = 'black', ax = axes[0])\n",
    "    axes[0].set_title(\"Heteroskedasticity \\n Variance in y depends x level\")\n",
    "    axes[0].plot(Y['X'], Y['predictions'], color = 'red')\n",
    "    axes[1].axis('off')\n",
    "    const = str(round(results.params[0],3))\n",
    "    slope = str(round(results.params[1],3))\n",
    "    axes[1].text(0, 0.5, 'Truth: Intercept: 1.370; Coef. X: 2.097 \\nRegres: Intercept: ' + const + '; Coef. X: ' + slope,\n",
    "        color='black', fontsize=15)\n",
    "    \n",
    "    #Output\n",
    "    plt.show()\n",
    "    print(results.summary()) \n",
    "    print(\"Durbin Watson measures autocorrelation of residuals. Close to 2 is good, zero autocorrelations\")\n",
    "    print(\"Jarque Bera is a test of normality of the residuals for large samples (n>2000). Large values and p<0.05 not normal\")\n",
    "    labels = ['LM-Statistic','LM-Test p-value', 'F-Statistic', 'F-Test p-value']\n",
    "    print(\"Breusch Pagan test (p<0.05 there is Heteroskedasticity): \", dict(zip(labels[2:4], bp_test[2:4]))) # p<0.05 hay heterocedasticidad\n",
    "    print(\"White test (p<0.05 there is Heteroskedasticity): \", dict(zip(labels[2:4], white_test[2:4]))) # p<0.05 hay heterocedasticidad\n",
    "\n"
   ]
  },
  {
   "cell_type": "markdown",
   "id": "d40c97b7-9e6d-490e-945f-aeb1ef2c8c61",
   "metadata": {},
   "source": [
    "# Heteroskedasticity\n",
    "\n",
    "It can bias the estimates as shown below"
   ]
  },
  {
   "cell_type": "code",
   "execution_count": 19,
   "id": "bba669fa-12b6-476f-a203-0e809ec0467c",
   "metadata": {},
   "outputs": [
    {
     "data": {
      "application/vnd.jupyter.widget-view+json": {
       "model_id": "24bb8cbf877345e68117ba50efeb2c6b",
       "version_major": 2,
       "version_minor": 0
      },
      "text/plain": [
       "interactive(children=(FloatSlider(value=1.25, description='k', max=3.0, step=0.2), Checkbox(value=False, descr…"
      ]
     },
     "metadata": {},
     "output_type": "display_data"
    }
   ],
   "source": [
    "n = 2000\n",
    "X_data = np.linspace(1,100, n)\n",
    "Y_raw = 1.37 + 2.097 * X_data #The underlying truth ... the majority of the times is unknown...here for pedagogical reasons we do know it\n",
    "\n",
    "interact(f, k = widgets.FloatSlider(min=0, max=3, step=.2, value=1.25), \n",
    "         robust = widgets.Checkbox(value = False, description = 'Std. err. robustos')); #Larger k more heteroskedasticity\n"
   ]
  },
  {
   "cell_type": "code",
   "execution_count": null,
   "id": "9c839dc1-f78b-41a9-b59a-d02ab46fae71",
   "metadata": {},
   "outputs": [],
   "source": []
  },
  {
   "cell_type": "code",
   "execution_count": null,
   "id": "896a3b38-a7cc-4a4e-bae8-956e3a5f7610",
   "metadata": {},
   "outputs": [],
   "source": []
  }
 ],
 "metadata": {
  "kernelspec": {
   "display_name": "Python 3 (ipykernel)",
   "language": "python",
   "name": "python3"
  },
  "language_info": {
   "codemirror_mode": {
    "name": "ipython",
    "version": 3
   },
   "file_extension": ".py",
   "mimetype": "text/x-python",
   "name": "python",
   "nbconvert_exporter": "python",
   "pygments_lexer": "ipython3",
   "version": "3.11.7"
  }
 },
 "nbformat": 4,
 "nbformat_minor": 5
}
