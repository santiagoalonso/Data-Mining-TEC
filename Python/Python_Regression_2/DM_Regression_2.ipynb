{
 "cells": [
  {
   "cell_type": "code",
   "execution_count": null,
   "id": "ed070482-11fe-48f9-82da-886ed6c8d9ed",
   "metadata": {},
   "outputs": [],
   "source": [
    "#Tables and matrices\n",
    "import numpy as np\n",
    "import pandas as pd\n",
    "\n",
    "#Stats\n",
    "import scipy.stats as st\n",
    "from scipy.optimize import fmin\n",
    "from scipy import integrate\n",
    "from scipy.stats.mstats import mquantiles\n",
    "import statsmodels.formula.api as smf\n",
    "import statsmodels.api as sm \n",
    "from statsmodels.stats.diagnostic import het_breuschpagan #Heteroskedasticity test\n",
    "from statsmodels.stats.diagnostic import het_white #Heteroskedasticity test\n",
    "from sklearn.metrics import confusion_matrix\n",
    "\n",
    "#Probabilistic programs\n",
    "#!pip install numpy mkl #if you are in an intel machine i.e. in mac M# chips no\n",
    "#!pip install pymc\n",
    "#!pip install pytensor\n",
    "import pymc as pm\n",
    "import pytensor.tensor as pt\n",
    "#import aesara.tensor as at\n",
    "print('Running on PyMC v{}'.format(pm.__version__))\n",
    "\n",
    "\n",
    "#Graphs \n",
    "#IMPORTANT: properly install ipywidgets and nodejs for interactive graphs\n",
    "#If you are in jupyterlab, activate the widget extension (it should be in the latest versions)\n",
    "import seaborn as sns\n",
    "import matplotlib.pyplot as plt\n",
    "from matplotlib import cm\n",
    "from matplotlib.gridspec import GridSpec\n",
    "from matplotlib import animation, rc\n",
    "from IPython.display import display, HTML, Markdown\n",
    "import ipywidgets as widgets\n",
    "from ipywidgets import interact, interactive, fixed, HBox, VBox, Layout\n",
    "from mpl_toolkits.mplot3d import axes3d\n",
    "import arviz as az"
   ]
  },
  {
   "cell_type": "markdown",
   "id": "20e6d893-ef3d-450e-8223-1c946ee33579",
   "metadata": {},
   "source": [
    "# Causal Regression"
   ]
  },
  {
   "cell_type": "markdown",
   "id": "ace9abca-ed73-4f8f-99cd-fea1ff4b9d7d",
   "metadata": {},
   "source": [
    "CLASE CORTES TRANSVERSALES"
   ]
  },
  {
   "cell_type": "code",
   "execution_count": null,
   "id": "445f1643-f280-4152-978e-8a8739e31f4c",
   "metadata": {},
   "outputs": [],
   "source": []
  },
  {
   "cell_type": "code",
   "execution_count": null,
   "id": "737c508d-417c-462e-b80c-1bd0a1be80b8",
   "metadata": {},
   "outputs": [],
   "source": []
  },
  {
   "cell_type": "code",
   "execution_count": null,
   "id": "465c3892-65b8-4833-a25b-fa851f6071af",
   "metadata": {},
   "outputs": [],
   "source": []
  },
  {
   "cell_type": "markdown",
   "id": "19d8f559-6593-4c51-8553-ffd96a7006ef",
   "metadata": {},
   "source": [
    "# Trou Normand \n",
    "Bayesian Causal Regressions"
   ]
  },
  {
   "cell_type": "code",
   "execution_count": null,
   "id": "192636d3-a28b-4f3e-b98b-dfaae2feab94",
   "metadata": {},
   "outputs": [],
   "source": [
    "https://www.pymc-labs.com/blog-posts/causal-analysis-with-pymc-answering-what-if-with-the-new-do-operator/\n",
    "\n",
    "https://causalpy.readthedocs.io/"
   ]
  },
  {
   "cell_type": "code",
   "execution_count": null,
   "id": "8e2cbed1-39bc-4708-a98d-acd914091aad",
   "metadata": {},
   "outputs": [],
   "source": []
  }
 ],
 "metadata": {
  "kernelspec": {
   "display_name": "Python 3 (ipykernel)",
   "language": "python",
   "name": "python3"
  },
  "language_info": {
   "codemirror_mode": {
    "name": "ipython",
    "version": 3
   },
   "file_extension": ".py",
   "mimetype": "text/x-python",
   "name": "python",
   "nbconvert_exporter": "python",
   "pygments_lexer": "ipython3",
   "version": "3.11.7"
  }
 },
 "nbformat": 4,
 "nbformat_minor": 5
}
