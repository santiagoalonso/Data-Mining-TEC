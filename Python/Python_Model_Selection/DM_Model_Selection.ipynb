{
 "cells": [
  {
   "cell_type": "code",
   "execution_count": 1,
   "id": "85b9583b-d808-4bdd-b805-b049b5c6d81f",
   "metadata": {
    "editable": true,
    "slideshow": {
     "slide_type": ""
    },
    "tags": []
   },
   "outputs": [
    {
     "name": "stderr",
     "output_type": "stream",
     "text": [
      "WARNING (pytensor.tensor.blas): Using NumPy C-API based implementation for BLAS functions.\n"
     ]
    },
    {
     "name": "stdout",
     "output_type": "stream",
     "text": [
      "Running on PyMC v5.10.3\n"
     ]
    }
   ],
   "source": [
    "#Tables and matrices\n",
    "import numpy as np\n",
    "import pandas as pd\n",
    "\n",
    "#Stats\n",
    "import scipy.stats as st\n",
    "from scipy.optimize import fmin\n",
    "from scipy import integrate\n",
    "from scipy.stats.mstats import mquantiles\n",
    "\n",
    "\n",
    "#Probabilistic programs\n",
    "#!pip install numpy mkl #if you are in an intel machine i.e. in mac M# chips no\n",
    "#!pip install pymc\n",
    "#!pip install pytensor\n",
    "import pymc as pm\n",
    "import pytensor.tensor as pt\n",
    "#import aesara.tensor as at\n",
    "print('Running on PyMC v{}'.format(pm.__version__))\n",
    "\n",
    "\n",
    "#Graphs \n",
    "#IMPORTANT: properly install ipywidgets and nodejs for interactive graphs\n",
    "#If you are in jupyterlab, activate the widget extension (it should be in the latest versions)\n",
    "import seaborn as sns\n",
    "import matplotlib.pyplot as plt\n",
    "from matplotlib import cm\n",
    "from matplotlib.gridspec import GridSpec\n",
    "from matplotlib import animation, rc\n",
    "from IPython.display import display, HTML, Markdown\n",
    "import ipywidgets as widgets\n",
    "from ipywidgets import interact, interactive, fixed, HBox, VBox, Layout\n",
    "from mpl_toolkits.mplot3d import axes3d\n",
    "import arviz as az"
   ]
  },
  {
   "cell_type": "code",
   "execution_count": null,
   "id": "262c7c87-f703-49c1-83d3-b16ad77e8f8e",
   "metadata": {},
   "outputs": [],
   "source": []
  }
 ],
 "metadata": {
  "kernelspec": {
   "display_name": "Python 3 (ipykernel)",
   "language": "python",
   "name": "python3"
  },
  "language_info": {
   "codemirror_mode": {
    "name": "ipython",
    "version": 3
   },
   "file_extension": ".py",
   "mimetype": "text/x-python",
   "name": "python",
   "nbconvert_exporter": "python",
   "pygments_lexer": "ipython3",
   "version": "3.11.7"
  }
 },
 "nbformat": 4,
 "nbformat_minor": 5
}
