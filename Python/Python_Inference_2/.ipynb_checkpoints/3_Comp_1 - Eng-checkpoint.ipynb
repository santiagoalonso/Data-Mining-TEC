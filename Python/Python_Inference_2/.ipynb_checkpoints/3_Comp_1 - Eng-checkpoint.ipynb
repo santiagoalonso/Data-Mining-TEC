{
 "cells": [
  {
   "cell_type": "code",
   "execution_count": 1,
   "metadata": {
    "slideshow": {
     "slide_type": "skip"
    }
   },
   "outputs": [],
   "source": [
    "#Tables and matrices\n",
    "import numpy as np\n",
    "import pandas as pd\n",
    "\n",
    "#Stats \n",
    "import scipy.stats as st\n",
    "from scipy.optimize import fmin\n",
    "from scipy import integrate\n",
    "\n",
    "#Graphs\n",
    "import seaborn as sns\n",
    "import plotly.graph_objects as go\n",
    "import altair as alt\n",
    "from altair_saver import save #ademas instalar en terminal: brew cask install chromedriver\n",
    "import matplotlib.pyplot as plt\n",
    "from matplotlib import cm\n",
    "from matplotlib.gridspec import GridSpec\n",
    "from matplotlib import animation, rc\n",
    "from IPython.display import display, HTML, Markdown\n",
    "import ipywidgets as widgets\n",
    "from ipywidgets import interact, interactive, fixed, HBox, VBox, Layout\n",
    "from graphviz import Source, Digraph\n",
    "import dot2tex as d2t\n",
    "from latex import build_pdf\n",
    "from mpl_toolkits.mplot3d import axes3d\n"
   ]
  },
  {
   "cell_type": "markdown",
   "metadata": {
    "slideshow": {
     "slide_type": "slide"
    }
   },
   "source": [
    "# Computational methods for obtaining the posterior\n",
    "Santiago Alonso-Díaz, PhD <br>\n",
    "Universidad Javeriana"
   ]
  },
  {
   "cell_type": "markdown",
   "metadata": {
    "slideshow": {
     "slide_type": "slide"
    }
   },
   "source": [
    "Ideal: analytical solutions (formulas)<br>\n",
    "Reality: hard to get <br>\n",
    "Solution: computational methods (algorithms)<br><br>\n",
    "\n",
    "<center><img src=\"img/3_CB/MCMC_robot.svg\" width = \"1000\" height = '1000'></center>"
   ]
  },
  {
   "cell_type": "markdown",
   "metadata": {
    "slideshow": {
     "slide_type": "subslide"
    }
   },
   "source": [
    "Metaphor:<br>\n",
    "What is the mountain? <br>\n",
    "What is an abyss for the algorithm?<br>\n",
    "Where does it start? <br>\n",
    "Does it have to go to other mountains?<br><br>\n",
    "\n",
    "<center><img src=\"img/3_CB/MCMC_robot.svg\" width = \"1000\" height = '1000'></center>"
   ]
  },
  {
   "cell_type": "markdown",
   "metadata": {
    "slideshow": {
     "slide_type": "slide"
    }
   },
   "source": [
    "# Intro. Markov"
   ]
  },
  {
   "cell_type": "markdown",
   "metadata": {
    "slideshow": {
     "slide_type": "subslide"
    }
   },
   "source": [
    "Data could be non-gaussian. For instance, with multiple modes:\n",
    "\n",
    "<center><img src=\"img/3_CB/3modes.svg\" width = \"600\" height = '600'></center>\n",
    "\n",
    "What could each mode represents?"
   ]
  },
  {
   "cell_type": "markdown",
   "metadata": {
    "slideshow": {
     "slide_type": "subslide"
    }
   },
   "source": [
    "What happens if we impose a normal distribution?<br>\n",
    " \n",
    "<center><img src=\"img/3_CB/3modes_posterior.svg\" width = \"600\" height = '600'></center>\n",
    "\n",
    "It does not represent reality."
   ]
  },
  {
   "cell_type": "markdown",
   "metadata": {
    "slideshow": {
     "slide_type": "subslide"
    }
   },
   "source": [
    "Computational methods will allow us to propose more elaborate models.\n",
    "\n",
    "Let's start with `MCMC` algorithms."
   ]
  },
  {
   "cell_type": "markdown",
   "metadata": {
    "slideshow": {
     "slide_type": "subslide"
    }
   },
   "source": [
    "Let's first remember what does it mean that a process is `Markov`"
   ]
  },
  {
   "cell_type": "markdown",
   "metadata": {
    "slideshow": {
     "slide_type": "subslide"
    }
   },
   "source": [
    "Markov process (s: state):\n",
    "$$p(s_1,s_2, s_3, ..., s_n) = p(s_1)p(s_2|s_1)p(s_3|s_2) ... p(s_n|s_{n-1}) $$\n"
   ]
  },
  {
   "cell_type": "markdown",
   "metadata": {
    "slideshow": {
     "slide_type": "fragment"
    }
   },
   "source": [
    "In natural language:\n",
    "\n",
    "There is no memory of the whole sequence. There is only access to the current state to determine the probability of subsequent states."
   ]
  },
  {
   "cell_type": "markdown",
   "metadata": {
    "slideshow": {
     "slide_type": "subslide"
    }
   },
   "source": [
    "Markov processes are defined by the transition probabilities (transition between states)\n",
    "\n",
    "<center><img src=\"img/3_CB/markov1.gv.svg\" width = \"650\" height = '650'></center>\n"
   ]
  },
  {
   "cell_type": "markdown",
   "metadata": {
    "slideshow": {
     "slide_type": "subslide"
    }
   },
   "source": [
    "Another example <br>\n",
    "\n",
    "<center><img src=\"img/3_CB/Monopolio.png\" width = \"400\" height = '400'></center>"
   ]
  },
  {
   "cell_type": "markdown",
   "metadata": {
    "slideshow": {
     "slide_type": "subslide"
    }
   },
   "source": [
    "Another example ... debate: Is language Markovian?\n",
    "\n",
    "<center><img src=\"img/3_CB/markov2.gv.svg\" width = \"650\" height = '650'></center>"
   ]
  },
  {
   "cell_type": "markdown",
   "metadata": {
    "slideshow": {
     "slide_type": "slide"
    }
   },
   "source": [
    "# Bayes & Markov (MCMC)\n",
    "\n",
    "| <img src=\"img/2_CB/Thomas_Bayes.gif\" width = \"200\" height = '200'>  | <img src=\"img/3_CB/AAMarkov.jpg\" width = \"200\" height = '200'> |\n",
    "|:---:|:---:|\n",
    "|     |     |\n"
   ]
  },
  {
   "cell_type": "markdown",
   "metadata": {
    "slideshow": {
     "slide_type": "subslide"
    }
   },
   "source": [
    "What does Markov has to do with a Bayesian posterior?\n",
    "\n",
    "Let's imagine a model of unequal scores (GRE, SAT, SABER) in education. This model will have hidden/latent variables: social capital, academic resources, emotional support, economic support.<br>\n",
    "\n",
    "The question is how can we take a sample score, given those latent variables?\n",
    "\n",
    "<center><img src=\"img/3_CB/3modes.svg\" width = \"400\" height = '400'></center>"
   ]
  },
  {
   "cell_type": "markdown",
   "metadata": {
    "slideshow": {
     "slide_type": "subslide"
    }
   },
   "source": [
    "Problem: sample values from probabilistic models <br>\n",
    "Solution: MCMC algorithm.  \n",
    "<center><img src=\"img/3_CB/markov3.gv.svg\" width = \"650\" height = '650'></center>"
   ]
  },
  {
   "cell_type": "markdown",
   "metadata": {
    "slideshow": {
     "slide_type": "subslide"
    }
   },
   "source": [
    "Animation of an MCMC algorithm in action. <br>\n",
    "Basic idea: propose a sample and the algorithm acepts or rejects.\n",
    "\n",
    "<center><img src=\"img/3_CB/MCMC_animation.gif\" width = \"651\" height = '650'></center>\n",
    "\n",
    "<p style = 'font-size: 15px'>Source: https://blog.stata.com/2016/11/15/introduction-to-bayesian-statistics-part-2-mcmc-and-the-metropolis-hastings-algorithm/ </p>"
   ]
  },
  {
   "cell_type": "markdown",
   "metadata": {
    "slideshow": {
     "slide_type": "subslide"
    }
   },
   "source": [
    "Some initial comments:\n",
    "* We can sample from non-normalized posteriors (i.e. without the marginal).\n",
    "* Many algorithms use logarithms to avoid over and underflows (i.e products become sums with logarithms).\n",
    "* One useful metaphor is to think of MCMC algorithms as strategies to visit a landscape, proportional to its importance (next slide)\n"
   ]
  },
  {
   "cell_type": "markdown",
   "metadata": {
    "slideshow": {
     "slide_type": "subslide"
    }
   },
   "source": [
    "Politician metaphor (Kruschke, 2014). \n",
    "\n",
    "Problem: Organize a political rally in `Estadio Campin` in Bogotá. The organizers want the stadium filled proportionally to the population of each district.\n",
    "\n",
    "<center><img src=\"img/3_CB/localidades_bogota.jpg\" width = \"550\" height = '550'></center>"
   ]
  },
  {
   "cell_type": "markdown",
   "metadata": {
    "slideshow": {
     "slide_type": "subslide"
    }
   },
   "source": [
    "Strategy:\n",
    "\n",
    "1. Start recluting in a random district.\n",
    "\n",
    "2. Propose another district by throwing a coin twice, for north-south and east-west from the current district.\n",
    "\n",
    "3. If the district has more population than the current one, move to that district. Else, go probabilistically. For instance, if it has 50% of the population go with 50% probability to the new district, else continue in the current district.\n",
    "\n",
    "4. In general, $Prob_{move} = min(\\frac{population_{proposal}}{population_{current}},1)$\n",
    "\n",
    "<center><img src=\"img/3_CB/localidades_bogota.jpg\" width = \"250\" height = '250'></center>\n",
    "\n",
    "This heuristic/algorithm is efficient in the long run: we recruit from each district in proportion to its population.\n"
   ]
  },
  {
   "cell_type": "markdown",
   "metadata": {
    "slideshow": {
     "slide_type": "subslide"
    }
   },
   "source": [
    "Metaphor elements:<br>\n",
    "District -> Regions of the posterior <br>\n",
    "District population -> Posterior height/density <br>\n",
    "Recruited citizen -> Sample\n",
    "\n",
    "<center><img src=\"img/3_CB/3Density.svg\" width = \"650\" height = '650'></center>\n"
   ]
  },
  {
   "cell_type": "markdown",
   "metadata": {
    "slideshow": {
     "slide_type": "subslide"
    }
   },
   "source": [
    "There are many MCMC algorithms (Gibbs, Metropolis, Hamiltonian). Many share some elements:\n",
    "\n",
    "1. Initial position/sample\n",
    "2. Ways to propose new potential samples\n",
    "3. Acept/reject the proposed sample based on how much it respects the data and priors.\n",
    "4. If it accepts the proposal, that becomes the new state. If it rejects, continue in the current sample/state.\n",
    "5. Repeat from step 1 as many iterations or samples required."
   ]
  },
  {
   "cell_type": "markdown",
   "metadata": {
    "slideshow": {
     "slide_type": "slide"
    }
   },
   "source": [
    "Languages like Python, R, Julia, have packages that implement MCMC algorithms.\n",
    "\n",
    "Before explaining some of the algorithms, search in the Internet how to use the .pdf,.cdf,.rvs functions:\n",
    "* scipy.stats.norm.pdf; scipy.stats.norm.cdf; scipy.stats.norm.rvs\n",
    "* scipy.stats.multivariate_normal.pdf; scipy.stats.multivariate_normal.cdf; scipy.stats.multivariate_normal.rvs\n",
    "* scipy.stats.beta.pdf; scipy.stats.beta.cdf; scipy.stats.beta.rvs\n",
    "* scipy.stats.dirichlet.pdf; scipy.stats.dirichlet.cdf; scipy.stats.dirichlet.rvs"
   ]
  },
  {
   "cell_type": "markdown",
   "metadata": {
    "slideshow": {
     "slide_type": "slide"
    }
   },
   "source": [
    "# Overview Gibbs Sampler\n",
    "\n",
    "Python has packages that run MCMC samplers. Here we will try to generate intuitions for popular ones: \n",
    "* Gibbs\n",
    "* Metropolis-Hastings\n",
    "* Hamiltonian"
   ]
  },
  {
   "cell_type": "markdown",
   "metadata": {
    "slideshow": {
     "slide_type": "subslide"
    }
   },
   "source": [
    "Let's assume that the image has the real distribution of a pair of latent/unobserved variables <br>\n",
    "\n",
    "Let's see how a Gibbs sampler would work with a multivariate normal case (x=confidence, y=impatience).\n",
    "\n",
    "<center><img src=\"img/3_CB/bivariate_normal.svg\" width = \"400\" height = '400'></center>\n"
   ]
  },
  {
   "cell_type": "markdown",
   "metadata": {
    "slideshow": {
     "slide_type": "subslide"
    }
   },
   "source": [
    "Let's focus on a multivariate normal with two dimensions: p(var1, var1). \n",
    "\n",
    "Namely: p(confidence, impatience). Note that there is a negative correlation (e.g. Kidd, 2013). \n",
    "\n",
    "We want to take samples from this space (e.g. to approximate a 95% confidence interval) <br><br>\n",
    "\n",
    "<center><img src=\"img/3_CB/bivariate_normal.svg\" width = \"401\" height = '400'></center>"
   ]
  },
  {
   "cell_type": "markdown",
   "metadata": {
    "slideshow": {
     "slide_type": "subslide"
    }
   },
   "source": [
    "The basic idea behind a Gibbs sampler is:\n",
    "\n",
    "* Suppose that we know the joint distribution $p(confidence, impatience)$, but it is hard to sample from\n",
    "\n",
    "* Suppose, however, that it is easy to sample from the conditional distributions: $p(confidence|impatience)$ y de $p(impatience|confidence)$. For instance, both are normal.\n",
    "\n",
    "* The algorithm does the following:\n",
    "    1. Picks some random initial values for confidence and impatience.\n",
    "    2. Samples a random value from $p(confidence|impatience)$,\n",
    "    3. Then from $p(impatience|confidence)$, \n",
    "    4. Repeats 2 y 3 until the desired number of samples (Gibbs always accepts the proposed samples).\n"
   ]
  },
  {
   "cell_type": "markdown",
   "metadata": {
    "slideshow": {
     "slide_type": "subslide"
    }
   },
   "source": [
    "Thus, for Gibbs we need:\n",
    "* Joint distribution:\n",
    "\n",
    "\\begin{equation}\n",
    "p(conf, impa) \\sim N\\left( \n",
    "\\begin{bmatrix}\n",
    "\\mu_{conf} \\\\\n",
    "\\mu_{impa} \n",
    "\\end{bmatrix}\n",
    "\\begin{bmatrix}\n",
    "1 & \\rho_{conf,impa} \\\\\n",
    "\\rho_{conf,impa} & 1 \n",
    "\\end{bmatrix}\n",
    "\\right)\n",
    "\\end{equation}\n",
    "\n",
    "* Conditional <span style = 'font-size: 10px'> (This is the formula for the conditionals of a normal multivariate; google it)</span> \n",
    "<br><br>\n",
    "\n",
    "\\begin{equation}\n",
    "p(conf|impa) \\sim N(\\mu_{conf} + \\rho_{conf,impa}(impa-\\mu_{impa}),1-\\rho_{conf,impa}^2))\n",
    "\\end{equation}\n",
    "\n",
    "\\begin{equation}\n",
    "p(impa|conf) \\sim N(\\mu_{impa} + \\rho_{conf,impa}(conf-\\mu_{conf}),1-\\rho_{conf,impa}^2))\n",
    "\\end{equation}\n",
    "\n",
    "Now, just apply the algorithm\n"
   ]
  },
  {
   "cell_type": "code",
   "execution_count": 2,
   "metadata": {
    "slideshow": {
     "slide_type": "subslide"
    }
   },
   "outputs": [],
   "source": [
    "#Gibbs sampler example for a normal multivariate (two dimensions)\n",
    "#Parametres: joint distribution\n",
    "mean_joint = [6, 25] #[impatience, confidence]\n",
    "corr = -0.6\n",
    "cov = [[1, corr], [corr, 1]]\n",
    "\n",
    "#Step 1: initial values\n",
    "conf_samp = st.uniform.rvs(20,30,1)\n",
    "impa_samp = st.uniform.rvs(0,10,1)\n",
    "niter = 200 #iterations (in Gibbs, iterations=samples)\n",
    "joint = pd.DataFrame({'impatience': np.repeat(float('nan'),niter),\n",
    "                     'confidence': np.repeat(float('nan'),niter)})\n",
    "for i in range(niter):\n",
    "    #Step 2: sample a random value from the conditional for var1 (confidence)\n",
    "    conf_samp = st.norm.rvs(mean_joint[1]+corr*(impa_samp-mean_joint[0]),1-corr**2,1)\n",
    "\n",
    "    #Step 3: sample a random value from the conditional for var2 (impatience)\n",
    "    impa_samp = st.norm.rvs(mean_joint[0]+corr*(conf_samp-mean_joint[1]),1-corr**2,1)\n",
    "\n",
    "    joint.loc[i,'impatience'] = impa_samp\n",
    "    joint.loc[i,'confidence'] = conf_samp\n"
   ]
  },
  {
   "cell_type": "markdown",
   "metadata": {
    "slideshow": {
     "slide_type": "subslide"
    }
   },
   "source": [
    "The algorithm does a good job exploring the space\n",
    "\n",
    "<center><img src=\"img/3_CB/Gibbs_animation-min.gif\" width = \"401\" height = '400'></center>\n"
   ]
  },
  {
   "cell_type": "markdown",
   "metadata": {
    "slideshow": {
     "slide_type": "subslide"
    }
   },
   "source": [
    "With Gibbs:\n",
    "\n",
    "* We can sample any joint distribution $p(\\theta_1, \\theta_2, ... \\theta_n, data)$; not just a normal.\n",
    "\n",
    "* You need to know the conditional probabilities of each variable given the others.\n",
    "\n",
    "* The algorithm is markovian: the next sample just depends on the current sample. \n",
    "\n",
    "* Advantage: All proposed samples are accepted. Disadvantage: you need to obtain the conditionals\n",
    "\n"
   ]
  },
  {
   "cell_type": "markdown",
   "metadata": {
    "slideshow": {
     "slide_type": "slide"
    }
   },
   "source": [
    "# Overview Metropolis & Metropolis-Hastings"
   ]
  },
  {
   "cell_type": "markdown",
   "metadata": {
    "slideshow": {
     "slide_type": "subslide"
    }
   },
   "source": [
    "Gibbs is a case of Metropolis-Hastings:\n",
    "\n",
    "* Both need a proposal distribution; the algorithm rejects or accepts proposed samples.\n",
    "\n",
    "* In Gibbs, the proposed samples come from the (known) conditional distributions that are easy to sample. \n",
    "\n",
    "* In Metropolis-Hastings, proposal distributions do not need to be the conditionals.\n"
   ]
  },
  {
   "cell_type": "markdown",
   "metadata": {
    "slideshow": {
     "slide_type": "subslide"
    }
   },
   "source": [
    "Let's recall an usual example again: determine the probability of binary events from some observed data (e.g. win/lose, category 1/category 2, guilty/inocente) \n",
    "\n",
    "We solve it with Bayes theorem.\n",
    "\n",
    "\\begin{align}\n",
    "p(\\theta|data) &\\propto p(data|\\theta)p(\\theta)\\\\\n",
    "               &\\propto binomial(n, z, \\theta)beta(\\alpha,\\beta)\\\\\n",
    "\\end{align}\n",
    "\n",
    "where n is the number of \"throws\", z number of successes, $\\theta$ success probability, $\\alpha$, y $\\beta$ prior parameters\n"
   ]
  },
  {
   "cell_type": "markdown",
   "metadata": {
    "slideshow": {
     "slide_type": "subslide"
    }
   },
   "source": [
    "In the Metropolis-Hastings below, we propose posterior samples from a normal distribution that \"jumps\" every time it finds a good sample. \n",
    "\n",
    "To accept or reject a sample, we calculate a ratio `r` between the posterior probability of the proposed sample and the current, and already accepted, sample. The proposed sample is accepted (or rejected) if that ratio is sufficiently hight (or low).  \n",
    "\n",
    "<center><img src=\"img/3_CB/MCMC_animation.gif\" width = \"651\" height = '650'></center>\n",
    "\n",
    "<p style = 'font-size: 15px'>Source: https://blog.stata.com/2016/11/15/introduction-to-bayesian-statistics-part-2-mcmc-and-the-metropolis-hastings-algorithm/ </p>"
   ]
  },
  {
   "cell_type": "markdown",
   "metadata": {
    "slideshow": {
     "slide_type": "subslide"
    }
   },
   "source": [
    "The proposal distribution in Metropolis (without the Hastings):\n",
    "* Jumps to another point in space when a new sample is accepted. You can see it in the visualization: the center of the normal distribution (the proposal distribution) moves to the newly accepted sample $\\theta^{*}$.  \n",
    "* Must be symmetrical: $q(\\theta^{*}|\\theta) = q(\\theta|\\theta^{*})$. Evita sesgos (e.g. saltos mayores desde algunos puntos).\n",
    "\n",
    "<center><img src=\"img/3_CB/MCMC_animation2.gif\" width = \"550\" height = '550'></center>\n",
    "\n",
    "<p style = 'font-size: 15px'>Source: https://blog.stata.com/2016/11/15/introduction-to-bayesian-statistics-part-2-mcmc-and-the-metropolis-hastings-algorithm/ </p>\n",
    "\n",
    " "
   ]
  },
  {
   "cell_type": "markdown",
   "metadata": {
    "slideshow": {
     "slide_type": "subslide"
    }
   },
   "source": [
    "Metropolis-Hastings (MH) is a more general version. It does not need a symmetrical proposal distribution q. To compensate, the ratio r of posteriors changes to a ratio of ratios. \n",
    "\n",
    "| Metropolis | Metropolis-Hastings |\n",
    "|:--:|:--:|\n",
    "| \\begin{equation} \\frac{p(\\theta^{*}\\|y)}{p(\\theta\\|y)} \\end{equation} |  \\begin{equation} \\frac{p(\\theta^{*}\\|y) / q(\\theta^{*}\\|\\theta)}{p(\\theta\\|y)/ q(\\theta\\|\\theta^{*})} \\end{equation}  |\n"
   ]
  },
  {
   "cell_type": "markdown",
   "metadata": {
    "slideshow": {
     "slide_type": "subslide"
    }
   },
   "source": [
    "Let's do a concrete example. Let's estimate a bayesian mean and variance of a Gaussian process (e.g. scores in a test)\n",
    "\n",
    "Note that the frequentist point estimate is direct: the mean and the variance of the data (just apply the formula).\n",
    "\n",
    "The Bayesian estimate is a posterior belief given the data. Think of it as a distribution of values given the data and prior beliefs.\n",
    "\n",
    "We could use the normal (likelihood)-normal (prior) formula but let's use algorithms, in particular Metropolis-Hastings."
   ]
  },
  {
   "cell_type": "code",
   "execution_count": 5,
   "metadata": {
    "slideshow": {
     "slide_type": "subslide"
    }
   },
   "outputs": [],
   "source": [
    "# Metropolis-Hastings\n",
    "# Data \n",
    "population_size = 50000 \n",
    "mu_real = 50 #real parameter; in a real world application we do not know it, we want to infer it.\n",
    "sigma_real = 10 \n",
    "population = np.random.normal(mu_real,sigma_real,population_size)\n",
    "n = 150 #we only observe n data points\n",
    "data = pd.DataFrame({'sample': population[np.random.randint(0, population_size, n)]})\n"
   ]
  },
  {
   "cell_type": "code",
   "execution_count": 14,
   "metadata": {
    "slideshow": {
     "slide_type": "subslide"
    }
   },
   "outputs": [],
   "source": [
    "#Graphs using altair () (correr celda anterior)\n",
    "#Tutorial: https://altair-viz.github.io/getting_started/overview.html\n",
    "bins = 20\n",
    "bar = alt.Chart(data).mark_bar().encode(\n",
    "    alt.X(\"sample\", axis=alt.Axis(title=\"Variable\"), bin=alt.Bin(maxbins=bins)),\n",
    "    alt.Y('count()', axis=alt.Axis(title=\"Frequencies\"))\n",
    ")\n",
    "\n",
    "den_data = alt.Chart(data).transform_density(#transformaciones a la data\n",
    "    density = 'sample',\n",
    "    counts = True,\n",
    "    steps=bins\n",
    ").mark_line( #tipo de gráfica\n",
    "    color='red',\n",
    "    opacity=.35,\n",
    "    strokeWidth = 5\n",
    ").encode(#detalles de los ejes\n",
    "    alt.X('value:Q', axis=alt.Axis(title=\"Variable\")),\n",
    "    alt.Y('density:Q', axis=alt.Axis(title=\"Density (kde)\")),\n",
    ").properties(width=400, height=300)\n",
    "\n",
    "#both = (den_data).configure_axis(titleFontSize=20, labelFontSize = 15, grid=False) \n",
    "both = (bar).configure_axis(titleFontSize=20, labelFontSize = 15, grid=False)\n",
    "#save(both, \"img/3_CB/Metropolis_data.svg\", method='selenium', webdriver='chrome') # si no sirve, salvar con los 3 punticos\n",
    "#save(both, \"img/3_CB/Metropolis_data.html\") #salva la gráfica en html"
   ]
  },
  {
   "cell_type": "code",
   "execution_count": 15,
   "metadata": {
    "slideshow": {
     "slide_type": "fragment"
    }
   },
   "outputs": [
    {
     "data": {
      "text/html": [
       "\n",
       "<div id=\"altair-viz-93ac9ba65fc9475a97761c30dda3af6f\"></div>\n",
       "<script type=\"text/javascript\">\n",
       "  (function(spec, embedOpt){\n",
       "    let outputDiv = document.currentScript.previousElementSibling;\n",
       "    if (outputDiv.id !== \"altair-viz-93ac9ba65fc9475a97761c30dda3af6f\") {\n",
       "      outputDiv = document.getElementById(\"altair-viz-93ac9ba65fc9475a97761c30dda3af6f\");\n",
       "    }\n",
       "    const paths = {\n",
       "      \"vega\": \"https://cdn.jsdelivr.net/npm//vega@5?noext\",\n",
       "      \"vega-lib\": \"https://cdn.jsdelivr.net/npm//vega-lib?noext\",\n",
       "      \"vega-lite\": \"https://cdn.jsdelivr.net/npm//vega-lite@4.8.1?noext\",\n",
       "      \"vega-embed\": \"https://cdn.jsdelivr.net/npm//vega-embed@6?noext\",\n",
       "    };\n",
       "\n",
       "    function loadScript(lib) {\n",
       "      return new Promise(function(resolve, reject) {\n",
       "        var s = document.createElement('script');\n",
       "        s.src = paths[lib];\n",
       "        s.async = true;\n",
       "        s.onload = () => resolve(paths[lib]);\n",
       "        s.onerror = () => reject(`Error loading script: ${paths[lib]}`);\n",
       "        document.getElementsByTagName(\"head\")[0].appendChild(s);\n",
       "      });\n",
       "    }\n",
       "\n",
       "    function showError(err) {\n",
       "      outputDiv.innerHTML = `<div class=\"error\" style=\"color:red;\">${err}</div>`;\n",
       "      throw err;\n",
       "    }\n",
       "\n",
       "    function displayChart(vegaEmbed) {\n",
       "      vegaEmbed(outputDiv, spec, embedOpt)\n",
       "        .catch(err => showError(`Javascript Error: ${err.message}<br>This usually means there's a typo in your chart specification. See the javascript console for the full traceback.`));\n",
       "    }\n",
       "\n",
       "    if(typeof define === \"function\" && define.amd) {\n",
       "      requirejs.config({paths});\n",
       "      require([\"vega-embed\"], displayChart, err => showError(`Error loading script: ${err.message}`));\n",
       "    } else if (typeof vegaEmbed === \"function\") {\n",
       "      displayChart(vegaEmbed);\n",
       "    } else {\n",
       "      loadScript(\"vega\")\n",
       "        .then(() => loadScript(\"vega-lite\"))\n",
       "        .then(() => loadScript(\"vega-embed\"))\n",
       "        .catch(showError)\n",
       "        .then(() => displayChart(vegaEmbed));\n",
       "    }\n",
       "  })({\"config\": {\"view\": {\"continuousWidth\": 400, \"continuousHeight\": 300}, \"axis\": {\"grid\": false, \"labelFontSize\": 15, \"titleFontSize\": 20}}, \"data\": {\"name\": \"data-b40fb672f5df0c4a5b6530fdf9b8d84c\"}, \"mark\": \"bar\", \"encoding\": {\"x\": {\"type\": \"quantitative\", \"axis\": {\"title\": \"Variable\"}, \"bin\": {\"maxbins\": 20}, \"field\": \"sample\"}, \"y\": {\"type\": \"quantitative\", \"aggregate\": \"count\", \"axis\": {\"title\": \"Frequencies\"}}}, \"$schema\": \"https://vega.github.io/schema/vega-lite/v4.8.1.json\", \"datasets\": {\"data-b40fb672f5df0c4a5b6530fdf9b8d84c\": [{\"sample\": 56.66437089156938}, {\"sample\": 70.1222737432444}, {\"sample\": 55.46642428893278}, {\"sample\": 48.35415305229295}, {\"sample\": 47.32820649634272}, {\"sample\": 42.3722343370326}, {\"sample\": 65.20487034513071}, {\"sample\": 57.09981399530821}, {\"sample\": 58.82010705244451}, {\"sample\": 47.00413546603327}, {\"sample\": 57.7634917878716}, {\"sample\": 49.13890598989623}, {\"sample\": 56.326517463233536}, {\"sample\": 64.25104881048}, {\"sample\": 52.101667774447186}, {\"sample\": 61.85487971266747}, {\"sample\": 53.295256015085265}, {\"sample\": 46.54853153668344}, {\"sample\": 53.197603742962755}, {\"sample\": 72.22039310252569}, {\"sample\": 55.207817793004146}, {\"sample\": 37.64683647650898}, {\"sample\": 47.90259425254552}, {\"sample\": 28.623266955077106}, {\"sample\": 51.96913596880008}, {\"sample\": 50.50248320116957}, {\"sample\": 50.730699456715705}, {\"sample\": 47.43411047702995}, {\"sample\": 52.73468173929258}, {\"sample\": 38.056838349683986}, {\"sample\": 61.331898894170365}, {\"sample\": 70.20791233978002}, {\"sample\": 48.559794881707795}, {\"sample\": 38.49616850987176}, {\"sample\": 49.90167906646811}, {\"sample\": 37.455623148133824}, {\"sample\": 49.26287119314716}, {\"sample\": 51.31797732948116}, {\"sample\": 53.90665594693689}, {\"sample\": 43.32392841337442}, {\"sample\": 59.82794747626088}, {\"sample\": 41.9977647520223}, {\"sample\": 77.84337319203047}, {\"sample\": 41.97643464847542}, {\"sample\": 41.01254156044092}, {\"sample\": 42.776787499147304}, {\"sample\": 62.63788446046864}, {\"sample\": 47.03807335911224}, {\"sample\": 51.49273086720202}, {\"sample\": 49.45970534094422}, {\"sample\": 62.42991392097449}, {\"sample\": 67.43299296117115}, {\"sample\": 42.16002054901792}, {\"sample\": 55.582502506834324}, {\"sample\": 65.84815512315615}, {\"sample\": 35.249201395440444}, {\"sample\": 46.85229075438708}, {\"sample\": 47.67833060175776}, {\"sample\": 42.199347126196265}, {\"sample\": 50.14254660623088}, {\"sample\": 49.230483652140265}, {\"sample\": 46.38217960388856}, {\"sample\": 70.45359572711669}, {\"sample\": 56.159432274177355}, {\"sample\": 52.27692654470968}, {\"sample\": 53.37204329798026}, {\"sample\": 49.92275894711518}, {\"sample\": 51.19486367638108}, {\"sample\": 49.312934597630615}, {\"sample\": 40.00573028975783}, {\"sample\": 52.07011950067719}, {\"sample\": 51.70785541976745}, {\"sample\": 59.69222778462564}, {\"sample\": 37.28218064409016}, {\"sample\": 52.75845191258336}, {\"sample\": 39.23705328935399}, {\"sample\": 56.823465937124034}, {\"sample\": 49.768297655630136}, {\"sample\": 36.197126283125186}, {\"sample\": 42.503802339789495}, {\"sample\": 54.87931711512904}, {\"sample\": 48.229762564241376}, {\"sample\": 38.59600774229556}, {\"sample\": 51.90735817132522}, {\"sample\": 47.80696322962815}, {\"sample\": 44.01313923305602}, {\"sample\": 57.2698080433357}, {\"sample\": 50.199738212412534}, {\"sample\": 37.137936838581936}, {\"sample\": 76.2934799228272}, {\"sample\": 51.34729401976674}, {\"sample\": 39.416001187005875}, {\"sample\": 54.257702105210015}, {\"sample\": 45.75708396689755}, {\"sample\": 52.433813371408185}, {\"sample\": 64.36277273916959}, {\"sample\": 56.70765137453024}, {\"sample\": 61.04695403960364}, {\"sample\": 41.9437096236022}, {\"sample\": 38.71136707708652}, {\"sample\": 41.04693578137011}, {\"sample\": 55.54158998625748}, {\"sample\": 47.54075345066074}, {\"sample\": 42.1836029396192}, {\"sample\": 61.58001611203844}, {\"sample\": 44.508258753111996}, {\"sample\": 56.53362594694951}, {\"sample\": 63.3258040568935}, {\"sample\": 50.63046835617651}, {\"sample\": 49.30406954647971}, {\"sample\": 44.65060063829259}, {\"sample\": 47.949824651412726}, {\"sample\": 43.57870551600187}, {\"sample\": 48.40019780014254}, {\"sample\": 27.367296716598215}, {\"sample\": 67.69233866014916}, {\"sample\": 50.94785091213079}, {\"sample\": 74.15095074939592}, {\"sample\": 62.58349816073256}, {\"sample\": 40.4486779287317}, {\"sample\": 53.23766050185274}, {\"sample\": 43.485971240683114}, {\"sample\": 43.28016776239954}, {\"sample\": 48.19605313975627}, {\"sample\": 53.43447248279695}, {\"sample\": 58.29622699354327}, {\"sample\": 62.906944014937054}, {\"sample\": 33.08269717142133}, {\"sample\": 35.996011832522164}, {\"sample\": 47.64382563877161}, {\"sample\": 46.531433041166196}, {\"sample\": 45.97966861815267}, {\"sample\": 59.94904335826969}, {\"sample\": 28.149508958185294}, {\"sample\": 44.76481282132103}, {\"sample\": 49.805588668268165}, {\"sample\": 67.1706422104849}, {\"sample\": 44.489016153937214}, {\"sample\": 64.83791606723103}, {\"sample\": 49.66056337128638}, {\"sample\": 61.22164277619518}, {\"sample\": 63.611052496015866}, {\"sample\": 63.0137005385278}, {\"sample\": 53.84774319609803}, {\"sample\": 30.287223446473043}, {\"sample\": 53.668453843507834}, {\"sample\": 49.8747616786005}, {\"sample\": 68.33274073166436}, {\"sample\": 41.137471137475956}, {\"sample\": 58.14726332225743}]}}, {\"mode\": \"vega-lite\"});\n",
       "</script>"
      ],
      "text/plain": [
       "alt.Chart(...)"
      ]
     },
     "execution_count": 15,
     "metadata": {},
     "output_type": "execute_result"
    }
   ],
   "source": [
    "#Conteos y densidad de la data (kernel estimate)\n",
    "both "
   ]
  },
  {
   "cell_type": "markdown",
   "metadata": {
    "slideshow": {
     "slide_type": "subslide"
    }
   },
   "source": [
    "These are the sampling MH algorithm steps:\n",
    "1. Define your likelihood & prior\n",
    "2. Define a proposal distribution $q(\\theta)$\n",
    "3. Take a random sample from $q(\\theta)$. Call that sample $\\theta^{*}$\n",
    "4. Estimate the ratio of ratios $\\frac{p(\\theta^{*}|y) / q(\\theta^{*}|\\theta)}{p(\\theta|y)/ q(\\theta|\\theta^{*})}$\n",
    "5. Acept o reject $\\theta^{*}$. If accepted, move $q(\\theta)$. If rejecte, do not move.\n",
    "6. Repeat 1-4 as many iterations as you want."
   ]
  },
  {
   "cell_type": "code",
   "execution_count": 16,
   "metadata": {
    "slideshow": {
     "slide_type": "subslide"
    }
   },
   "outputs": [],
   "source": [
    "##### Step 1\n",
    "#Prior & likelihood\n",
    "def log_prior(pars):\n",
    "    '''\n",
    "    Priors \n",
    "        mean: uniform\n",
    "        std. dev: uniform (positive)\n",
    "    Assumption: \n",
    "        parameters are independent (i.e. we can multiply probs.; in log sum)\n",
    "    Input: \n",
    "        pars[0] = mean, pars[1] = std. dev\n",
    "    Output: \n",
    "        log. density\n",
    "    '''\n",
    "    log_prob_mu = st.uniform.logpdf(pars[0], -100, 200)\n",
    "    log_prob_sd = st.uniform.logpdf(pars[1], 0, 100)   \n",
    "    return log_prob_sd + log_prob_mu\n",
    "def log_lik_normal(pars,data):\n",
    "    #Input: pars[0] = mean, pars[1] = std. dev, data \n",
    "    #Output: log. density\n",
    "    return np.sum(st.norm.logpdf(data, pars[0], pars[1]))"
   ]
  },
  {
   "cell_type": "code",
   "execution_count": 17,
   "metadata": {
    "slideshow": {
     "slide_type": "subslide"
    }
   },
   "outputs": [],
   "source": [
    "##### Step 2 & 3 \n",
    "# Proposal distribution\n",
    "class propuesta: #proposal distribution\n",
    "    #Con MH, no es necesario que sea simétrica.\n",
    "    #Acá usamos diferentes std y densidades (truncada normal y normal)\n",
    "    def __init__(self):\n",
    "        self.scales = [7, 2] #standar deviations   \n",
    "    def rvs(self, pars):\n",
    "        left_lim = 0 #trunking limits for the normal (just positive values)\n",
    "        right_lim = 50\n",
    "        a = (left_lim - pars[1]) / self.scales[1] \n",
    "        b = (right_lim - pars[1]) / self.scales[1]        \n",
    "        rand_var = [st.norm.rvs(pars[0], self.scales[0], size=1), \n",
    "                    st.truncnorm.rvs(a=a, b=b, loc=pars[1], \n",
    "                                     scale=self.scales[1], size=1)]        \n",
    "        return rand_var    \n",
    "    def log_pdf(self, x, pars):\n",
    "        mu_logpdf = st.norm.logpdf(x[0], pars[0], self.scales[0]) \n",
    "        left_lim = 0 #trunking limits for the normal (just positive values)\n",
    "        right_lim = 50\n",
    "        a = (left_lim - pars[1]) / self.scales[1]\n",
    "        b = (right_lim - pars[1]) / self.scales[1]\n",
    "        sd_logpdf = st.truncnorm.logpdf(x[1], a=a, b=b, loc=pars[1], \n",
    "                                        scale=self.scales[1]) \n",
    "        return sd_logpdf + mu_logpdf"
   ]
  },
  {
   "cell_type": "code",
   "execution_count": 19,
   "metadata": {
    "slideshow": {
     "slide_type": "subslide"
    }
   },
   "outputs": [],
   "source": [
    "##### Step 4 & 5\n",
    "# Ratio of ratios and aceptance procedure\n",
    "def aceptar(x, x_nuevo, data):\n",
    "    # Posteriors (without the normalizing constant i.e marginal)\n",
    "    posterior_nuevo = log_prior(x_nuevo)+log_lik_normal(x_nuevo, data) \n",
    "    posterior_actual = log_prior(x)+log_lik_normal(x, data)\n",
    "    # Proposal\n",
    "    propuesta_nuevo = propuesta().log_pdf(x_nuevo, x)\n",
    "    propuesta_actual = propuesta().log_pdf(x, x_nuevo)\n",
    "    # Ratios\n",
    "    ratio1 = posterior_nuevo - propuesta_nuevo #Substraction because a ratio in log is a substraction\n",
    "    ratio2 = posterior_actual - propuesta_actual\n",
    "    ratio_de_ratios = ratio1-ratio2 #Substraction because a ratio in log is a substraction\n",
    "    # Acept\n",
    "    u = st.uniform.rvs(0, 1, size = 1)\n",
    "    acceptance_prob = np.min([1, np.exp(ratio_de_ratios)]) #exp to transform logaritmos\n",
    "    if u<acceptance_prob:\n",
    "        return True\n",
    "    else:\n",
    "        return False\n",
    "#Metropolis"
   ]
  },
  {
   "cell_type": "code",
   "execution_count": 20,
   "metadata": {
    "slideshow": {
     "slide_type": "subslide"
    }
   },
   "outputs": [],
   "source": [
    "##### Step 6\n",
    "# Repeat\n",
    "def metropolis_hastings(par_inicial, iteraciones, data):\n",
    "    x = par_inicial\n",
    "    aceptado = []\n",
    "    rechazado = []   \n",
    "    for i in range(iteraciones):\n",
    "        x_nuevo =  propuesta().rvs(x)  \n",
    "        if aceptar(x, x_nuevo, data):\n",
    "            x = x_nuevo\n",
    "            aceptado.append(x_nuevo)\n",
    "        else:\n",
    "            rechazado.append(x_nuevo)                               \n",
    "    return np.array(aceptado), np.array(rechazado) "
   ]
  },
  {
   "cell_type": "code",
   "execution_count": 22,
   "metadata": {
    "slideshow": {
     "slide_type": "subslide"
    }
   },
   "outputs": [
    {
     "name": "stderr",
     "output_type": "stream",
     "text": [
      "<ipython-input-19-4c0bbde8a9a0>:16: RuntimeWarning: overflow encountered in exp\n",
      "  acceptance_prob = np.min([1, np.exp(ratio_de_ratios)]) #exp to transform logaritmos\n"
     ]
    }
   ],
   "source": [
    "##### Resultados\n",
    "#Chain 1\n",
    "par_inicial, iteraciones = [data.mean(), data.std()], 5000\n",
    "A1, R1 = metropolis_hastings(par_inicial, iteraciones, data)\n",
    "#Chain 2\n",
    "par_inicial, iteraciones = [4, 1], 5000\n",
    "A2, R2 = metropolis_hastings(par_inicial, iteraciones, data)"
   ]
  },
  {
   "cell_type": "code",
   "execution_count": 25,
   "metadata": {
    "slideshow": {
     "slide_type": "skip"
    }
   },
   "outputs": [],
   "source": [
    "def my_MH_plot(A1, A2):\n",
    "    print(\"Chain 1\", \n",
    "      '\\n95% HDI mean: [', round(np.percentile(A1[:,0],[2.5])[0],2), ',', \n",
    "          round(np.percentile(A1[:,0],[97.5])[0],2),']',\n",
    "      '\\n95% HDI std. dev.: [', round(np.percentile(A1[:,1],[2.5])[0],2), ',', \n",
    "          round(np.percentile(A1[:,1],[97.5])[0],2),']',\n",
    "      '\\naccept:', A1.shape[0]/iteraciones)\n",
    "    print(\"\\nChain 2. \", \n",
    "      '\\n95% HDI mean: [', round(np.percentile(A2[:,0],[2.5])[0],2), ',', \n",
    "          round(np.percentile(A2[:,0],[97.5])[0],2),']',\n",
    "      '\\n95% HDI std. dev.: [', round(np.percentile(A2[:,1],[2.5])[0],2), ',', \n",
    "          round(np.percentile(A2[:,1],[97.5])[0],2),']',\n",
    "      '\\naccept:', A2.shape[0]/iteraciones)\n",
    "    fig, ax = plt.subplots(2,2, figsize=[7,5])\n",
    "    ax[0,0].plot(np.arange(A1.shape[0]), A1[:,0])\n",
    "    ax[0,0].set_title('Mean \\n (chain 1)')\n",
    "    ax[0,1].plot(np.arange(A1.shape[0]), A1[:,1])\n",
    "    ax[0,1].set_title('Std. dev. \\n (chain 1)');\n",
    "    ax[1,0].plot(np.arange(A2.shape[0]), A2[:,0])\n",
    "    ax[1,0].set_title('Mean \\n (chain 2)')\n",
    "    ax[1,1].plot(np.arange(A2.shape[0]), A2[:,1])\n",
    "    ax[1,1].set_title('Std. dev. \\n (chain 2)');\n",
    "    plt.tight_layout();"
   ]
  },
  {
   "cell_type": "code",
   "execution_count": 26,
   "metadata": {
    "scrolled": true,
    "slideshow": {
     "slide_type": "subslide"
    }
   },
   "outputs": [
    {
     "name": "stdout",
     "output_type": "stream",
     "text": [
      "Chain 1 \n",
      "95% HDI mean: [ 49.09 , 52.85 ] \n",
      "95% HDI std. dev.: [ 8.65 , 11.4 ] \n",
      "accept: 0.0558\n",
      "\n",
      "Chain 2.  \n",
      "95% HDI mean: [ 24.29 , 53.01 ] \n",
      "95% HDI std. dev.: [ 8.65 , 12.53 ] \n",
      "accept: 0.0626\n"
     ]
    },
    {
     "data": {
      "image/png": "[encoded data removed]",
      "text/plain": [
       "<Figure size 504x360 with 4 Axes>"
      ]
     },
     "metadata": {
      "needs_background": "light"
     },
     "output_type": "display_data"
    }
   ],
   "source": [
    "# Both chains converge. We can do tests later, for the moment let's use our eyes.  \n",
    "# Traces gravitate the same values (but with low acceptance)\n",
    "my_MH_plot(A1, A2) #Note the initial \"burn-in\" "
   ]
  },
  {
   "cell_type": "code",
   "execution_count": 29,
   "metadata": {
    "slideshow": {
     "slide_type": "skip"
    }
   },
   "outputs": [],
   "source": [
    "data_mcmc = pd.DataFrame({'mean': np.concatenate((A1[:,0],A2[:,0]))[:,0],\n",
    "                         'std_dev':  np.concatenate((A1[:,1],A2[:,1]))[:,0]})\n",
    "def my_alt_plot(var, ext, title = ''):    \n",
    "    den = alt.Chart(data_mcmc).transform_density(#transformaciones a la data\n",
    "        density = var, extent = ext, counts = True, steps=bins\n",
    "    ).mark_line( #tipo de gráfica\n",
    "        color='green', opacity=.75, strokeWidth = 5\n",
    "    ).encode(#detalles de los ejes\n",
    "        alt.X('value:Q', axis=alt.Axis(title=var)),\n",
    "        alt.Y('density:Q', axis=alt.Axis(title=\"Density\")),\n",
    "    ).properties(\n",
    "        width=250, height=250, title = title\n",
    "    )\n",
    "\n",
    "    return den\n",
    "mcmc_den_p = my_alt_plot('mean', [46,53], title = 'Posterior mean')\n",
    "mcmc_den_e = my_alt_plot('std_dev', [6.5,12], title = 'Posterior std. dev.')\n",
    "plot = (mcmc_den_p|mcmc_den_e).configure_axis(\n",
    "    titleFontSize=20, labelFontSize = 15, grid=False\n",
    ").configure_title(\n",
    "    fontSize=24\n",
    ")"
   ]
  },
  {
   "cell_type": "code",
   "execution_count": 30,
   "metadata": {
    "slideshow": {
     "slide_type": "subslide"
    }
   },
   "outputs": [
    {
     "data": {
      "text/html": [
       "\n",
       "<div id=\"altair-viz-b6a3b3916c9d43afaacfce9b42ea87d7\"></div>\n",
       "<script type=\"text/javascript\">\n",
       "  (function(spec, embedOpt){\n",
       "    let outputDiv = document.currentScript.previousElementSibling;\n",
       "    if (outputDiv.id !== \"altair-viz-b6a3b3916c9d43afaacfce9b42ea87d7\") {\n",
       "      outputDiv = document.getElementById(\"altair-viz-b6a3b3916c9d43afaacfce9b42ea87d7\");\n",
       "    }\n",
       "    const paths = {\n",
       "      \"vega\": \"https://cdn.jsdelivr.net/npm//vega@5?noext\",\n",
       "      \"vega-lib\": \"https://cdn.jsdelivr.net/npm//vega-lib?noext\",\n",
       "      \"vega-lite\": \"https://cdn.jsdelivr.net/npm//vega-lite@4.8.1?noext\",\n",
       "      \"vega-embed\": \"https://cdn.jsdelivr.net/npm//vega-embed@6?noext\",\n",
       "    };\n",
       "\n",
       "    function loadScript(lib) {\n",
       "      return new Promise(function(resolve, reject) {\n",
       "        var s = document.createElement('script');\n",
       "        s.src = paths[lib];\n",
       "        s.async = true;\n",
       "        s.onload = () => resolve(paths[lib]);\n",
       "        s.onerror = () => reject(`Error loading script: ${paths[lib]}`);\n",
       "        document.getElementsByTagName(\"head\")[0].appendChild(s);\n",
       "      });\n",
       "    }\n",
       "\n",
       "    function showError(err) {\n",
       "      outputDiv.innerHTML = `<div class=\"error\" style=\"color:red;\">${err}</div>`;\n",
       "      throw err;\n",
       "    }\n",
       "\n",
       "    function displayChart(vegaEmbed) {\n",
       "      vegaEmbed(outputDiv, spec, embedOpt)\n",
       "        .catch(err => showError(`Javascript Error: ${err.message}<br>This usually means there's a typo in your chart specification. See the javascript console for the full traceback.`));\n",
       "    }\n",
       "\n",
       "    if(typeof define === \"function\" && define.amd) {\n",
       "      requirejs.config({paths});\n",
       "      require([\"vega-embed\"], displayChart, err => showError(`Error loading script: ${err.message}`));\n",
       "    } else if (typeof vegaEmbed === \"function\") {\n",
       "      displayChart(vegaEmbed);\n",
       "    } else {\n",
       "      loadScript(\"vega\")\n",
       "        .then(() => loadScript(\"vega-lite\"))\n",
       "        .then(() => loadScript(\"vega-embed\"))\n",
       "        .catch(showError)\n",
       "        .then(() => displayChart(vegaEmbed));\n",
       "    }\n",
       "  })({\"config\": {\"view\": {\"continuousWidth\": 400, \"continuousHeight\": 300}, \"axis\": {\"grid\": false, \"labelFontSize\": 15, \"titleFontSize\": 20}, \"title\": {\"fontSize\": 24}}, \"hconcat\": [{\"mark\": {\"type\": \"line\", \"color\": \"green\", \"opacity\": 0.75, \"strokeWidth\": 5}, \"encoding\": {\"x\": {\"type\": \"quantitative\", \"axis\": {\"title\": \"mean\"}, \"field\": \"value\"}, \"y\": {\"type\": \"quantitative\", \"axis\": {\"title\": \"Density\"}, \"field\": \"density\"}}, \"height\": 250, \"title\": \"Posterior mean\", \"transform\": [{\"density\": \"mean\", \"counts\": true, \"extent\": [46, 53], \"steps\": 20}], \"width\": 250}, {\"mark\": {\"type\": \"line\", \"color\": \"green\", \"opacity\": 0.75, \"strokeWidth\": 5}, \"encoding\": {\"x\": {\"type\": \"quantitative\", \"axis\": {\"title\": \"std_dev\"}, \"field\": \"value\"}, \"y\": {\"type\": \"quantitative\", \"axis\": {\"title\": \"Density\"}, \"field\": \"density\"}}, \"height\": 250, \"title\": \"Posterior std. dev.\", \"transform\": [{\"density\": \"std_dev\", \"counts\": true, \"extent\": [6.5, 12], \"steps\": 20}], \"width\": 250}], \"data\": {\"name\": \"data-4fb5db8b374cdff1bcb237bb9f8f16fa\"}, \"$schema\": \"https://vega.github.io/schema/vega-lite/v4.8.1.json\", \"datasets\": {\"data-4fb5db8b374cdff1bcb237bb9f8f16fa\": [{\"mean\": 50.79584138190352, \"std_dev\": 10.430942039157516}, {\"mean\": 52.35984540640451, \"std_dev\": 9.754199434168395}, {\"mean\": 52.842840820968, \"std_dev\": 9.902533719129606}, {\"mean\": 52.3746043650638, \"std_dev\": 10.877768997246687}, {\"mean\": 51.756928992561726, \"std_dev\": 9.60622754843637}, {\"mean\": 51.254170110275766, \"std_dev\": 10.35057073144035}, {\"mean\": 51.39661324660364, \"std_dev\": 10.380703715951078}, {\"mean\": 50.22658659500545, \"std_dev\": 10.77604857912909}, {\"mean\": 52.24897693346725, \"std_dev\": 10.167260290362089}, {\"mean\": 50.356946695630015, \"std_dev\": 10.118481813562745}, {\"mean\": 52.059833161833126, \"std_dev\": 9.646237528717394}, {\"mean\": 51.8703713785491, \"std_dev\": 9.292846122180704}, {\"mean\": 50.541933347237695, \"std_dev\": 10.507237367863945}, {\"mean\": 51.081723770238554, \"std_dev\": 9.250981519782354}, {\"mean\": 51.69933479761991, \"std_dev\": 10.962183672774874}, {\"mean\": 50.129784267547585, \"std_dev\": 10.53538587173635}, {\"mean\": 49.091176443246454, \"std_dev\": 11.18576964023038}, {\"mean\": 50.05564432234575, \"std_dev\": 11.619298093827597}, {\"mean\": 51.28585019734989, \"std_dev\": 12.216740375416128}, {\"mean\": 53.08193499278322, \"std_dev\": 8.844030409092902}, {\"mean\": 53.86143372899262, \"std_dev\": 9.901999917440358}, {\"mean\": 52.42952113904257, \"std_dev\": 8.490629318612324}, {\"mean\": 49.59998931088725, \"std_dev\": 8.68643851138049}, {\"mean\": 51.48926784581799, \"std_dev\": 8.199994255947153}, {\"mean\": 50.65026322183461, \"std_dev\": 8.526095094250989}, {\"mean\": 50.60263653161575, \"std_dev\": 10.107422841039732}, {\"mean\": 51.40348378343599, \"std_dev\": 10.079151453647915}, {\"mean\": 51.264194534182785, \"std_dev\": 10.737006001905886}, {\"mean\": 51.30487323691873, \"std_dev\": 10.603222521436848}, {\"mean\": 51.84253282506304, \"std_dev\": 9.751927014557738}, {\"mean\": 49.69643344493742, \"std_dev\": 8.81701440332764}, {\"mean\": 48.57930564374827, \"std_dev\": 9.933876828845676}, {\"mean\": 53.328668052407565, \"std_dev\": 9.488542721911045}, {\"mean\": 50.41521843558304, \"std_dev\": 8.455078780062768}, {\"mean\": 51.412675650961006, \"std_dev\": 10.846221454940036}, {\"mean\": 51.55269177350402, \"std_dev\": 10.179531406455123}, {\"mean\": 50.54671223468986, \"std_dev\": 9.845135402357378}, {\"mean\": 50.965973338705204, \"std_dev\": 9.224821682578828}, {\"mean\": 49.37929034210763, \"std_dev\": 10.019800971004434}, {\"mean\": 49.11990507179016, \"std_dev\": 10.896369237208493}, {\"mean\": 52.49251450269513, \"std_dev\": 8.558542994612214}, {\"mean\": 50.79776733467041, \"std_dev\": 10.60157474374402}, {\"mean\": 51.32820830939585, \"std_dev\": 9.531564040268297}, {\"mean\": 52.02064422799952, \"std_dev\": 11.176914704830573}, {\"mean\": 50.59414548520444, \"std_dev\": 9.541642347359755}, {\"mean\": 50.40569652802471, \"std_dev\": 9.519438567696616}, {\"mean\": 50.03586534502794, \"std_dev\": 9.466370095216142}, {\"mean\": 51.66210503948898, \"std_dev\": 9.905830860274634}, {\"mean\": 50.910318829595106, \"std_dev\": 11.35132949176592}, {\"mean\": 52.84257827669628, \"std_dev\": 9.704127841755483}, {\"mean\": 50.2107157491893, \"std_dev\": 9.849635318798482}, {\"mean\": 50.0337011045609, \"std_dev\": 9.738967801626794}, {\"mean\": 51.07172253003032, \"std_dev\": 11.077751642657624}, {\"mean\": 50.38756203651637, \"std_dev\": 10.958870104379207}, {\"mean\": 51.40299301901284, \"std_dev\": 10.645370159608982}, {\"mean\": 50.539531842883136, \"std_dev\": 9.634886298273083}, {\"mean\": 51.0966424587108, \"std_dev\": 9.784270910880277}, {\"mean\": 51.17598114496848, \"std_dev\": 10.547726512895444}, {\"mean\": 51.43220640413923, \"std_dev\": 10.397158906252056}, {\"mean\": 51.97230579200555, \"std_dev\": 9.934768407678513}, {\"mean\": 50.24739306431013, \"std_dev\": 10.304582635311597}, {\"mean\": 51.71553251893623, \"std_dev\": 9.263637630485151}, {\"mean\": 50.87768376791442, \"std_dev\": 10.701814711911389}, {\"mean\": 51.01758019928474, \"std_dev\": 9.202071472102961}, {\"mean\": 51.50605724026717, \"std_dev\": 9.193586162801903}, {\"mean\": 51.19251834613883, \"std_dev\": 10.666466593948156}, {\"mean\": 49.13711619108017, \"std_dev\": 9.797223045375983}, {\"mean\": 49.27263580743546, \"std_dev\": 9.39695341286611}, {\"mean\": 48.774263652280624, \"std_dev\": 10.960606966983512}, {\"mean\": 50.11719384976744, \"std_dev\": 10.23636384111179}, {\"mean\": 50.081158558745564, \"std_dev\": 10.194173208062551}, {\"mean\": 52.49445993827736, \"std_dev\": 10.738441879743494}, {\"mean\": 51.64588817249937, \"std_dev\": 10.011646527599686}, {\"mean\": 49.36170044857887, \"std_dev\": 9.46755350116468}, {\"mean\": 51.76030011287015, \"std_dev\": 8.570709699691864}, {\"mean\": 51.15672313686183, \"std_dev\": 9.82525330598352}, {\"mean\": 50.94169284723083, \"std_dev\": 10.50610441935056}, {\"mean\": 50.62703009871702, \"std_dev\": 10.24055620260178}, {\"mean\": 51.141269700159356, \"std_dev\": 9.150633344233386}, {\"mean\": 51.339980055087864, \"std_dev\": 9.166312273208465}, {\"mean\": 50.66284031757725, \"std_dev\": 8.939987075716587}, {\"mean\": 50.14308486030415, \"std_dev\": 9.652978637812671}, {\"mean\": 52.294035129107996, \"std_dev\": 9.346651064807851}, {\"mean\": 51.08067867967805, \"std_dev\": 10.886221243001744}, {\"mean\": 51.9181064176417, \"std_dev\": 10.883449221673294}, {\"mean\": 52.43764222683798, \"std_dev\": 10.134033245695067}, {\"mean\": 50.061268999886636, \"std_dev\": 9.70439638637192}, {\"mean\": 50.05772875892197, \"std_dev\": 9.844558882262282}, {\"mean\": 50.83184986782751, \"std_dev\": 10.576492404196383}, {\"mean\": 50.390618690723436, \"std_dev\": 9.25590732744194}, {\"mean\": 51.14207907509363, \"std_dev\": 10.514104047307026}, {\"mean\": 51.21913695593769, \"std_dev\": 9.657755873232372}, {\"mean\": 51.60444795979671, \"std_dev\": 8.926842050444943}, {\"mean\": 52.47407961881547, \"std_dev\": 10.274327483502375}, {\"mean\": 51.86788072669416, \"std_dev\": 9.751199206148973}, {\"mean\": 52.753848146678585, \"std_dev\": 10.048187585035267}, {\"mean\": 52.63124330581268, \"std_dev\": 9.575524417624976}, {\"mean\": 51.232004205291915, \"std_dev\": 9.185728714590123}, {\"mean\": 51.46241881456738, \"std_dev\": 9.90417856463287}, {\"mean\": 50.34183761988265, \"std_dev\": 9.205356253340023}, {\"mean\": 50.28853591814747, \"std_dev\": 9.09725694174728}, {\"mean\": 51.132342365910965, \"std_dev\": 10.39644977408567}, {\"mean\": 50.70475550623308, \"std_dev\": 10.867677437441333}, {\"mean\": 49.69666766230653, \"std_dev\": 8.984324737099795}, {\"mean\": 51.896756066973026, \"std_dev\": 9.07088810713841}, {\"mean\": 53.02673192003952, \"std_dev\": 9.88019168132878}, {\"mean\": 52.66418968208274, \"std_dev\": 9.941574128846078}, {\"mean\": 50.844270029903875, \"std_dev\": 10.263629823518363}, {\"mean\": 51.52229357249206, \"std_dev\": 9.893415335552335}, {\"mean\": 52.1163550983595, \"std_dev\": 9.65878869885699}, {\"mean\": 52.371805940638275, \"std_dev\": 9.466928060471966}, {\"mean\": 50.91530269581608, \"std_dev\": 10.127159632448004}, {\"mean\": 50.52443190237128, \"std_dev\": 9.80552386349559}, {\"mean\": 50.28971348459715, \"std_dev\": 10.168189017820264}, {\"mean\": 51.23440487595086, \"std_dev\": 9.30006063636701}, {\"mean\": 51.78870313174809, \"std_dev\": 10.24289157849429}, {\"mean\": 50.74303681028869, \"std_dev\": 9.437764487436176}, {\"mean\": 52.30256141341635, \"std_dev\": 10.143960890093803}, {\"mean\": 51.12212918094367, \"std_dev\": 9.402455793769672}, {\"mean\": 50.45214944629695, \"std_dev\": 9.675892877148419}, {\"mean\": 51.35581842160531, \"std_dev\": 8.934791244298511}, {\"mean\": 51.45344821451226, \"std_dev\": 9.224241053109033}, {\"mean\": 50.423345309588015, \"std_dev\": 10.002451712640292}, {\"mean\": 50.47659234686421, \"std_dev\": 11.322942211793096}, {\"mean\": 50.43919756608951, \"std_dev\": 9.006611448383712}, {\"mean\": 49.702912052182704, \"std_dev\": 9.38345510566722}, {\"mean\": 51.536605883621235, \"std_dev\": 9.077769657319982}, {\"mean\": 49.598814585558515, \"std_dev\": 9.539411758951138}, {\"mean\": 51.8015025839035, \"std_dev\": 10.309079271875529}, {\"mean\": 50.833661987182005, \"std_dev\": 10.064329547587178}, {\"mean\": 52.59887445853737, \"std_dev\": 10.595863454501064}, {\"mean\": 49.859023711087175, \"std_dev\": 9.742992086884499}, {\"mean\": 51.47980010284483, \"std_dev\": 9.135350586374486}, {\"mean\": 51.47566796955773, \"std_dev\": 9.368305318729387}, {\"mean\": 50.89914925228262, \"std_dev\": 10.466599723723162}, {\"mean\": 49.639536640455255, \"std_dev\": 9.415895009489967}, {\"mean\": 50.831039124699565, \"std_dev\": 11.171383182804439}, {\"mean\": 49.56863100866896, \"std_dev\": 9.369915617931948}, {\"mean\": 52.17331164691632, \"std_dev\": 10.671270450842698}, {\"mean\": 50.66006525823996, \"std_dev\": 10.569824133773503}, {\"mean\": 51.68785877141625, \"std_dev\": 10.836763184995435}, {\"mean\": 50.40889477966412, \"std_dev\": 9.117408866295733}, {\"mean\": 51.37291691486234, \"std_dev\": 8.391602506123407}, {\"mean\": 52.27220491897341, \"std_dev\": 8.777217929745156}, {\"mean\": 49.09789360672639, \"std_dev\": 10.591221885518271}, {\"mean\": 51.40265216031567, \"std_dev\": 10.742693699810912}, {\"mean\": 51.952174905206434, \"std_dev\": 10.581183701045127}, {\"mean\": 48.8092364921095, \"std_dev\": 11.950026648047263}, {\"mean\": 52.4790926813345, \"std_dev\": 11.59919665915332}, {\"mean\": 48.33458512932651, \"std_dev\": 10.408238203134555}, {\"mean\": 48.40774716822789, \"std_dev\": 10.715913786209494}, {\"mean\": 50.75155671938217, \"std_dev\": 9.449216940629762}, {\"mean\": 51.03567144633269, \"std_dev\": 9.089658146413512}, {\"mean\": 52.65491675332157, \"std_dev\": 10.488179787552047}, {\"mean\": 52.606600916052734, \"std_dev\": 10.107397136785877}, {\"mean\": 52.469252978156575, \"std_dev\": 9.180391929812366}, {\"mean\": 49.44270123287002, \"std_dev\": 10.068446646414364}, {\"mean\": 51.003045619008205, \"std_dev\": 8.872673204994989}, {\"mean\": 49.44866230453404, \"std_dev\": 9.990316276458605}, {\"mean\": 50.56840460548911, \"std_dev\": 11.024736820638402}, {\"mean\": 50.20916430982848, \"std_dev\": 8.756170990430611}, {\"mean\": 49.433615475560195, \"std_dev\": 9.694221150390339}, {\"mean\": 51.82357911061356, \"std_dev\": 9.374293307228768}, {\"mean\": 51.30346663022842, \"std_dev\": 9.88582711149922}, {\"mean\": 50.38458304018427, \"std_dev\": 10.108299975429158}, {\"mean\": 52.63346559858435, \"std_dev\": 9.954894943798257}, {\"mean\": 51.31344473328005, \"std_dev\": 9.920109084569741}, {\"mean\": 51.47667040296484, \"std_dev\": 8.864314498750591}, {\"mean\": 49.41727507304528, \"std_dev\": 10.176528093992081}, {\"mean\": 50.20773004116183, \"std_dev\": 9.835762402759531}, {\"mean\": 51.38963794725731, \"std_dev\": 9.926279907548093}, {\"mean\": 52.1664338182458, \"std_dev\": 10.183829347858904}, {\"mean\": 51.34469384920046, \"std_dev\": 9.443499904780154}, {\"mean\": 53.34626575511705, \"std_dev\": 9.212064553981584}, {\"mean\": 49.01172735249827, \"std_dev\": 9.169808137685608}, {\"mean\": 49.08905527312575, \"std_dev\": 11.400905148183151}, {\"mean\": 49.953177452815936, \"std_dev\": 9.935811854559587}, {\"mean\": 51.26870890256703, \"std_dev\": 10.946111538475165}, {\"mean\": 51.088785559989134, \"std_dev\": 10.367643087809428}, {\"mean\": 51.18236208979714, \"std_dev\": 9.86209399790871}, {\"mean\": 52.24022907407796, \"std_dev\": 9.892302636753616}, {\"mean\": 50.32221218073813, \"std_dev\": 9.560457887954064}, {\"mean\": 51.84215337952848, \"std_dev\": 9.95503398486965}, {\"mean\": 51.387575088643054, \"std_dev\": 10.176196848045734}, {\"mean\": 50.8071153830859, \"std_dev\": 9.896363298773243}, {\"mean\": 50.56890918785019, \"std_dev\": 9.412828355606921}, {\"mean\": 52.19832516990256, \"std_dev\": 10.532056994730068}, {\"mean\": 53.23681164552796, \"std_dev\": 10.044060541872309}, {\"mean\": 49.81873799537246, \"std_dev\": 9.149552365367034}, {\"mean\": 51.76379390218163, \"std_dev\": 10.095423112951188}, {\"mean\": 51.34429252405612, \"std_dev\": 9.775352217093399}, {\"mean\": 51.39463476950722, \"std_dev\": 10.454929444085757}, {\"mean\": 52.360953555694685, \"std_dev\": 11.020356463099843}, {\"mean\": 53.09837866344409, \"std_dev\": 11.422470173346934}, {\"mean\": 50.5330352968337, \"std_dev\": 9.826026811800618}, {\"mean\": 50.03312346716176, \"std_dev\": 9.69213267068525}, {\"mean\": 51.18476719406141, \"std_dev\": 10.391481649257033}, {\"mean\": 51.151993810347875, \"std_dev\": 9.17035608481234}, {\"mean\": 50.40557288818187, \"std_dev\": 10.647253766240576}, {\"mean\": 50.23626366184634, \"std_dev\": 9.708387401468634}, {\"mean\": 50.84525914089862, \"std_dev\": 10.621737242702089}, {\"mean\": 49.752348510851924, \"std_dev\": 9.49463152964289}, {\"mean\": 50.44949138886915, \"std_dev\": 10.166091474599643}, {\"mean\": 51.52672652164188, \"std_dev\": 9.93727688890324}, {\"mean\": 52.33698410597576, \"std_dev\": 9.526503244691256}, {\"mean\": 49.451895470053216, \"std_dev\": 10.468949248481273}, {\"mean\": 51.54218180216437, \"std_dev\": 10.375513562012175}, {\"mean\": 49.6245108812786, \"std_dev\": 9.838514682575928}, {\"mean\": 50.936284689591, \"std_dev\": 9.918482200705169}, {\"mean\": 51.650141871594975, \"std_dev\": 10.799915380248304}, {\"mean\": 52.24313017161522, \"std_dev\": 9.785491291113658}, {\"mean\": 51.4292086395592, \"std_dev\": 9.092851905356266}, {\"mean\": 50.08740839926238, \"std_dev\": 9.486062218523113}, {\"mean\": 49.32392938142017, \"std_dev\": 9.423185698394873}, {\"mean\": 51.0571622781416, \"std_dev\": 10.588604143219595}, {\"mean\": 50.56879585038187, \"std_dev\": 10.102424899726065}, {\"mean\": 50.36594053850935, \"std_dev\": 9.329889592703948}, {\"mean\": 52.17481236283418, \"std_dev\": 9.189927472700372}, {\"mean\": 49.70816826772702, \"std_dev\": 10.839379284359152}, {\"mean\": 50.06976273116957, \"std_dev\": 9.955333644963412}, {\"mean\": 50.685554567446076, \"std_dev\": 10.149701076028997}, {\"mean\": 51.937645888873526, \"std_dev\": 9.474574022561615}, {\"mean\": 49.99893117136435, \"std_dev\": 8.657643655287536}, {\"mean\": 51.9631916119134, \"std_dev\": 11.240310149135274}, {\"mean\": 51.57623527769754, \"std_dev\": 10.458931371861718}, {\"mean\": 51.343071167937936, \"std_dev\": 10.370953075224485}, {\"mean\": 51.545114117473226, \"std_dev\": 10.332266787869855}, {\"mean\": 51.20997966683718, \"std_dev\": 9.112057905071286}, {\"mean\": 49.59516479493234, \"std_dev\": 11.447494296251136}, {\"mean\": 49.306110209876216, \"std_dev\": 10.359078071443612}, {\"mean\": 52.483854135832445, \"std_dev\": 9.686800757256865}, {\"mean\": 52.24763859337123, \"std_dev\": 10.057215147167021}, {\"mean\": 52.53539639713597, \"std_dev\": 9.988622415387074}, {\"mean\": 51.707620415573274, \"std_dev\": 10.680814807129329}, {\"mean\": 50.48441275819304, \"std_dev\": 10.893430352647623}, {\"mean\": 52.37096915352054, \"std_dev\": 10.261737729522945}, {\"mean\": 50.2030168739335, \"std_dev\": 9.514359724045551}, {\"mean\": 51.24961001735548, \"std_dev\": 8.799076419371238}, {\"mean\": 50.84307770053401, \"std_dev\": 8.713444779686165}, {\"mean\": 50.864893199231645, \"std_dev\": 9.985977310953993}, {\"mean\": 51.84664039367532, \"std_dev\": 10.054736893777832}, {\"mean\": 51.03699018145444, \"std_dev\": 10.73893770011396}, {\"mean\": 50.280157081270886, \"std_dev\": 10.851896402925489}, {\"mean\": 50.40700961491041, \"std_dev\": 9.415674980933915}, {\"mean\": 52.05246244111229, \"std_dev\": 9.150591386001214}, {\"mean\": 50.57815783098515, \"std_dev\": 8.909768912623985}, {\"mean\": 49.49676985299349, \"std_dev\": 9.778339664648092}, {\"mean\": 51.74131551094256, \"std_dev\": 10.244900985475267}, {\"mean\": 51.81199062426882, \"std_dev\": 9.84458248993652}, {\"mean\": 51.067556028273216, \"std_dev\": 10.289462802502072}, {\"mean\": 49.8620669730922, \"std_dev\": 9.584989259688857}, {\"mean\": 49.653301242243735, \"std_dev\": 9.689247603056089}, {\"mean\": 52.413741537068304, \"std_dev\": 9.177297256182595}, {\"mean\": 52.45075280031872, \"std_dev\": 9.757281586113482}, {\"mean\": 51.100912673653916, \"std_dev\": 9.926108145821141}, {\"mean\": 51.13707788686666, \"std_dev\": 9.811265914707006}, {\"mean\": 52.110938974082686, \"std_dev\": 10.538248666668515}, {\"mean\": 49.926655844453585, \"std_dev\": 9.448099408400955}, {\"mean\": 51.67875363386578, \"std_dev\": 10.938918000706803}, {\"mean\": 49.94753090894677, \"std_dev\": 9.940358356919791}, {\"mean\": 50.126985622332505, \"std_dev\": 9.563675656693784}, {\"mean\": 50.99226676525647, \"std_dev\": 9.929478029692932}, {\"mean\": 51.22638425000873, \"std_dev\": 9.438727737375727}, {\"mean\": 51.275580298796214, \"std_dev\": 10.175526989814628}, {\"mean\": 50.49821408161511, \"std_dev\": 10.388656117297764}, {\"mean\": 50.08789193920606, \"std_dev\": 9.787534112888293}, {\"mean\": 52.06906510968545, \"std_dev\": 9.283040999030439}, {\"mean\": 51.601011388125755, \"std_dev\": 10.302725175207309}, {\"mean\": 51.84774445509873, \"std_dev\": 10.261075242178801}, {\"mean\": 49.51452515088955, \"std_dev\": 12.178674883862746}, {\"mean\": 49.64604073127753, \"std_dev\": 10.75609226848723}, {\"mean\": 50.287563906026094, \"std_dev\": 10.994923854010487}, {\"mean\": 51.20278997893304, \"std_dev\": 9.08579618979726}, {\"mean\": 50.60805945526236, \"std_dev\": 11.151313417542708}, {\"mean\": 49.98208156437881, \"std_dev\": 10.947597536178003}, {\"mean\": 50.6223501059601, \"std_dev\": 9.327633926940997}, {\"mean\": 51.70058038823734, \"std_dev\": 9.987006053945278}, {\"mean\": 51.714253762479586, \"std_dev\": 9.913691969139453}, {\"mean\": 50.498561705878444, \"std_dev\": 9.44077789639731}, {\"mean\": -2.2282712249101886, \"std_dev\": 1.2115741791894599}, {\"mean\": -1.185048899913988, \"std_dev\": 4.336910828900251}, {\"mean\": 3.657966809891395, \"std_dev\": 6.508440294998431}, {\"mean\": -2.8021541065228153, \"std_dev\": 7.509329892903561}, {\"mean\": 2.308528134773174, \"std_dev\": 8.443425602812482}, {\"mean\": 10.780583618705847, \"std_dev\": 12.163384623783053}, {\"mean\": 14.117656617330491, \"std_dev\": 12.785912344357401}, {\"mean\": 23.492399373709596, \"std_dev\": 10.054654005783362}, {\"mean\": 24.489979358387423, \"std_dev\": 13.554502036117357}, {\"mean\": 27.09002478212655, \"std_dev\": 15.256173043070083}, {\"mean\": 32.78475643369042, \"std_dev\": 19.166469830530335}, {\"mean\": 37.10969392272304, \"std_dev\": 18.179593230288873}, {\"mean\": 42.88185480169008, \"std_dev\": 17.594871003793337}, {\"mean\": 52.77146001969619, \"std_dev\": 15.44710099623531}, {\"mean\": 50.00785827520702, \"std_dev\": 12.911141370568805}, {\"mean\": 50.91302600635826, \"std_dev\": 11.116357929646915}, {\"mean\": 50.882591387442375, \"std_dev\": 11.192401010437711}, {\"mean\": 50.14247206332737, \"std_dev\": 10.340685499378397}, {\"mean\": 52.704684652417974, \"std_dev\": 9.863712739814702}, {\"mean\": 51.626695792926526, \"std_dev\": 11.117628657533897}, {\"mean\": 52.226763771862416, \"std_dev\": 11.119622228366149}, {\"mean\": 50.92411859269066, \"std_dev\": 11.483613450159002}, {\"mean\": 50.62023347732188, \"std_dev\": 9.403998782383196}, {\"mean\": 50.95273272718023, \"std_dev\": 10.09341680677695}, {\"mean\": 51.181381719746504, \"std_dev\": 9.483825871999603}, {\"mean\": 52.41630316915311, \"std_dev\": 10.559360542667546}, {\"mean\": 50.88741956821385, \"std_dev\": 10.577734761335407}, {\"mean\": 50.69246425321544, \"std_dev\": 10.3548783515814}, {\"mean\": 51.45235614645149, \"std_dev\": 9.691982849224926}, {\"mean\": 50.15365244517934, \"std_dev\": 10.331057794202547}, {\"mean\": 49.5538769666833, \"std_dev\": 9.569323933843187}, {\"mean\": 52.44229343493502, \"std_dev\": 10.706722296061283}, {\"mean\": 50.97874574969859, \"std_dev\": 10.0835367612721}, {\"mean\": 51.01819766922831, \"std_dev\": 11.302876124154839}, {\"mean\": 50.289898952997895, \"std_dev\": 10.580519654561423}, {\"mean\": 53.00701591765514, \"std_dev\": 9.929161945811696}, {\"mean\": 50.74813986095829, \"std_dev\": 10.349238244915906}, {\"mean\": 50.880663484467206, \"std_dev\": 9.824256821484125}, {\"mean\": 50.81763030313574, \"std_dev\": 9.895877851421952}, {\"mean\": 52.32584188795259, \"std_dev\": 10.156838692651663}, {\"mean\": 50.15313053469152, \"std_dev\": 9.596991680959881}, {\"mean\": 51.07151754130245, \"std_dev\": 9.573843574759433}, {\"mean\": 51.294279335628, \"std_dev\": 9.94467910152092}, {\"mean\": 53.835890632587244, \"std_dev\": 10.315219131067803}, {\"mean\": 52.43286725465807, \"std_dev\": 9.821832625203939}, {\"mean\": 51.703537860642754, \"std_dev\": 10.489506532969516}, {\"mean\": 50.042293610411114, \"std_dev\": 9.560712148704537}, {\"mean\": 52.58242688943262, \"std_dev\": 10.854294547596782}, {\"mean\": 52.066044206883255, \"std_dev\": 8.961702254306072}, {\"mean\": 49.99692434528821, \"std_dev\": 11.588619646051256}, {\"mean\": 51.98121969675069, \"std_dev\": 8.581101427214113}, {\"mean\": 50.87906769810389, \"std_dev\": 8.833669211395073}, {\"mean\": 49.67693703695738, \"std_dev\": 10.865222796419436}, {\"mean\": 50.66331236586336, \"std_dev\": 9.166482785121637}, {\"mean\": 50.28408557266075, \"std_dev\": 9.427250258771126}, {\"mean\": 49.9646634842736, \"std_dev\": 10.583041397239867}, {\"mean\": 50.85450613684889, \"std_dev\": 9.996481862893155}, {\"mean\": 50.48233426370066, \"std_dev\": 10.411335718085171}, {\"mean\": 52.29253108817961, \"std_dev\": 9.948945821269817}, {\"mean\": 51.55508822821255, \"std_dev\": 10.536859924897415}, {\"mean\": 51.83634216912089, \"std_dev\": 10.106740308454517}, {\"mean\": 51.31026093272226, \"std_dev\": 9.254900444434584}, {\"mean\": 51.44801651000673, \"std_dev\": 10.264145193071103}, {\"mean\": 49.36814437109872, \"std_dev\": 10.725013215558839}, {\"mean\": 52.35655449753189, \"std_dev\": 8.534692208270352}, {\"mean\": 50.5467325376112, \"std_dev\": 8.736932236465597}, {\"mean\": 52.20345698797603, \"std_dev\": 9.223878039145214}, {\"mean\": 51.97751125603148, \"std_dev\": 9.65581091167608}, {\"mean\": 50.57693141326865, \"std_dev\": 10.505743488159574}, {\"mean\": 51.11742620734404, \"std_dev\": 10.341130733707633}, {\"mean\": 50.60689734648757, \"std_dev\": 9.996368892289002}, {\"mean\": 51.65848625577767, \"std_dev\": 9.829906119104862}, {\"mean\": 50.883198007983324, \"std_dev\": 9.161010399776316}, {\"mean\": 50.803762713527775, \"std_dev\": 8.838914827628912}, {\"mean\": 52.31759547499395, \"std_dev\": 10.0068697388848}, {\"mean\": 51.406617000801866, \"std_dev\": 8.983663400157461}, {\"mean\": 52.041305941485305, \"std_dev\": 10.559228179970011}, {\"mean\": 50.62280362835212, \"std_dev\": 10.713006710816947}, {\"mean\": 50.53665908545493, \"std_dev\": 9.437570849305587}, {\"mean\": 51.31223486943818, \"std_dev\": 8.991848653460439}, {\"mean\": 51.52670844838836, \"std_dev\": 9.21879635566857}, {\"mean\": 52.45688155023903, \"std_dev\": 10.16838895353314}, {\"mean\": 49.342404113572904, \"std_dev\": 10.64743900718169}, {\"mean\": 49.6355289431541, \"std_dev\": 10.85188964490961}, {\"mean\": 52.96048198576533, \"std_dev\": 10.355697705675565}, {\"mean\": 49.761370194619644, \"std_dev\": 12.467276004500302}, {\"mean\": 47.66988623956494, \"std_dev\": 9.226424754255055}, {\"mean\": 51.989210490097804, \"std_dev\": 10.327960558243308}, {\"mean\": 51.88666218715615, \"std_dev\": 9.714975954926292}, {\"mean\": 50.861592881508926, \"std_dev\": 10.232378828928285}, {\"mean\": 52.85535005685114, \"std_dev\": 8.919592810179358}, {\"mean\": 52.134564190457716, \"std_dev\": 10.632099959731287}, {\"mean\": 51.336924243165384, \"std_dev\": 10.5082798202493}, {\"mean\": 50.766338046787254, \"std_dev\": 10.462235907879997}, {\"mean\": 50.22326587956442, \"std_dev\": 9.711789859320763}, {\"mean\": 49.7381895596723, \"std_dev\": 10.961519949808592}, {\"mean\": 50.56895659528396, \"std_dev\": 9.527807199366025}, {\"mean\": 51.80774023371279, \"std_dev\": 10.834952353914227}, {\"mean\": 50.63283283773034, \"std_dev\": 9.366020308900278}, {\"mean\": 51.77810976493317, \"std_dev\": 9.614537105683217}, {\"mean\": 52.24593211022844, \"std_dev\": 9.637015813637067}, {\"mean\": 51.26235645343872, \"std_dev\": 9.236662403353249}, {\"mean\": 52.054867788027465, \"std_dev\": 9.90213298514838}, {\"mean\": 51.98653441093962, \"std_dev\": 10.04274911381985}, {\"mean\": 50.234068557625264, \"std_dev\": 10.167321767759473}, {\"mean\": 50.097868059821955, \"std_dev\": 9.518805397958642}, {\"mean\": 52.02621656814402, \"std_dev\": 9.13204101326351}, {\"mean\": 50.24043623563419, \"std_dev\": 9.313629125070358}, {\"mean\": 49.66744474145055, \"std_dev\": 10.025073718230603}, {\"mean\": 52.5373250755999, \"std_dev\": 10.441361866136615}, {\"mean\": 51.62233503643869, \"std_dev\": 9.004270541903708}, {\"mean\": 51.45042435822309, \"std_dev\": 8.804775545932028}, {\"mean\": 49.768099458205235, \"std_dev\": 9.241526932736718}, {\"mean\": 49.80844275766021, \"std_dev\": 10.810254153025047}, {\"mean\": 54.11934787171526, \"std_dev\": 11.646301014601006}, {\"mean\": 53.749176763687075, \"std_dev\": 11.560106951230384}, {\"mean\": 52.449154789245235, \"std_dev\": 12.39773804873577}, {\"mean\": 50.24027226901494, \"std_dev\": 12.16576373999549}, {\"mean\": 49.82339486026627, \"std_dev\": 10.153997987768571}, {\"mean\": 50.02743114053981, \"std_dev\": 10.560190791203631}, {\"mean\": 51.16552567320618, \"std_dev\": 11.050167167592697}, {\"mean\": 52.23905497539831, \"std_dev\": 10.090961291959255}, {\"mean\": 49.841191930042505, \"std_dev\": 10.469482126766136}, {\"mean\": 50.39219383458546, \"std_dev\": 10.140321935551185}, {\"mean\": 50.428052805864674, \"std_dev\": 10.200354340829852}, {\"mean\": 51.331604498858205, \"std_dev\": 9.329551572317158}, {\"mean\": 51.22950251884977, \"std_dev\": 9.42960269076985}, {\"mean\": 50.61832362235174, \"std_dev\": 9.455095446086988}, {\"mean\": 48.46164344437727, \"std_dev\": 9.826841304579869}, {\"mean\": 50.243707500333514, \"std_dev\": 9.532756605392208}, {\"mean\": 51.030920485389046, \"std_dev\": 10.611200457106689}, {\"mean\": 51.74768882201824, \"std_dev\": 9.291396468394597}, {\"mean\": 51.84917159846525, \"std_dev\": 10.381728973360275}, {\"mean\": 52.26682930479924, \"std_dev\": 9.962057012506591}, {\"mean\": 52.31628684302611, \"std_dev\": 9.729782330464527}, {\"mean\": 50.102182763872236, \"std_dev\": 9.784286606914419}, {\"mean\": 50.493826510517465, \"std_dev\": 9.660308823589286}, {\"mean\": 51.61165233632378, \"std_dev\": 10.758446900483326}, {\"mean\": 52.43023376374246, \"std_dev\": 9.700699074808266}, {\"mean\": 50.829777462057635, \"std_dev\": 10.481149094515}, {\"mean\": 50.08029893190994, \"std_dev\": 10.552863810628036}, {\"mean\": 49.44188178070034, \"std_dev\": 10.117750761375161}, {\"mean\": 49.944578048167955, \"std_dev\": 10.838747700760372}, {\"mean\": 50.10943862148898, \"std_dev\": 10.558999401745211}, {\"mean\": 50.91598751121333, \"std_dev\": 9.707625375534956}, {\"mean\": 50.173232632466956, \"std_dev\": 10.726931300325063}, {\"mean\": 50.78960587084384, \"std_dev\": 9.176856067968293}, {\"mean\": 51.92904378092961, \"std_dev\": 9.37773748919417}, {\"mean\": 52.41827242255339, \"std_dev\": 9.64547341516698}, {\"mean\": 50.49990992790207, \"std_dev\": 9.209339083821977}, {\"mean\": 49.48445244395376, \"std_dev\": 10.420980179176967}, {\"mean\": 48.71544980980902, \"std_dev\": 10.327368002252195}, {\"mean\": 48.62799508798136, \"std_dev\": 10.497948364110927}, {\"mean\": 53.72560235734742, \"std_dev\": 10.09673838525972}, {\"mean\": 49.026307765143116, \"std_dev\": 11.904849597288102}, {\"mean\": 53.00192949853775, \"std_dev\": 10.583458700923776}, {\"mean\": 52.38888875457068, \"std_dev\": 10.55396515950754}, {\"mean\": 51.21703971747244, \"std_dev\": 9.184039312796266}, {\"mean\": 50.461627695692336, \"std_dev\": 9.159293713230383}, {\"mean\": 52.16144856155284, \"std_dev\": 8.795169528884513}, {\"mean\": 51.61436633944784, \"std_dev\": 9.33736100530862}, {\"mean\": 50.69010692022913, \"std_dev\": 9.879312164364833}, {\"mean\": 51.48440609994557, \"std_dev\": 9.664837829984993}, {\"mean\": 51.29971821527183, \"std_dev\": 8.929598955019378}, {\"mean\": 51.22589477677739, \"std_dev\": 10.483172171847123}, {\"mean\": 50.715401784627105, \"std_dev\": 9.648926063265556}, {\"mean\": 52.06974917826047, \"std_dev\": 10.588532635484178}, {\"mean\": 51.79263350600922, \"std_dev\": 9.70826122622983}, {\"mean\": 50.38732748868028, \"std_dev\": 10.281432252144391}, {\"mean\": 51.501253653694874, \"std_dev\": 9.56327485503566}, {\"mean\": 52.02169069946261, \"std_dev\": 9.620532043537064}, {\"mean\": 51.77605866909204, \"std_dev\": 9.47902951171644}, {\"mean\": 50.66908625702584, \"std_dev\": 9.32743113828303}, {\"mean\": 51.288445090841726, \"std_dev\": 10.13904595022302}, {\"mean\": 50.11521522737166, \"std_dev\": 10.089740373392724}, {\"mean\": 49.79341947128665, \"std_dev\": 9.960406258870195}, {\"mean\": 50.97028406105771, \"std_dev\": 10.673602236454178}, {\"mean\": 50.11330292588806, \"std_dev\": 10.290339194075846}, {\"mean\": 51.16720352666861, \"std_dev\": 9.930693375084452}, {\"mean\": 50.25578762921932, \"std_dev\": 8.678229898985926}, {\"mean\": 50.9755416508523, \"std_dev\": 8.662065278533186}, {\"mean\": 52.67130668874539, \"std_dev\": 10.901143989608823}, {\"mean\": 51.148322949869836, \"std_dev\": 10.321526785374889}, {\"mean\": 52.08669886399995, \"std_dev\": 10.507968353472036}, {\"mean\": 50.1526991226414, \"std_dev\": 8.855542631049792}, {\"mean\": 51.94247260104358, \"std_dev\": 9.83915943750665}, {\"mean\": 51.347984998535686, \"std_dev\": 10.485522032851176}, {\"mean\": 51.94719046664513, \"std_dev\": 9.268464088885358}, {\"mean\": 52.52191938324725, \"std_dev\": 9.318897358117583}, {\"mean\": 51.16862445224359, \"std_dev\": 9.737360033036449}, {\"mean\": 50.06676423080585, \"std_dev\": 9.781134707589004}, {\"mean\": 52.06337577826307, \"std_dev\": 10.394841895210506}, {\"mean\": 51.71869450451423, \"std_dev\": 10.838593427616937}, {\"mean\": 51.059258642901305, \"std_dev\": 9.816084709233092}, {\"mean\": 51.038219021547754, \"std_dev\": 10.667251776880835}, {\"mean\": 52.725617275365124, \"std_dev\": 10.074387544909849}, {\"mean\": 49.76005148608558, \"std_dev\": 10.794565403733747}, {\"mean\": 51.259657858255814, \"std_dev\": 9.811124341917209}, {\"mean\": 51.42403833401201, \"std_dev\": 9.356339269247895}, {\"mean\": 50.7677984812426, \"std_dev\": 9.861838154814908}, {\"mean\": 50.97204578988759, \"std_dev\": 10.185760343714634}, {\"mean\": 51.74326225846516, \"std_dev\": 9.614848374403959}, {\"mean\": 51.206521875013784, \"std_dev\": 10.074297987159104}, {\"mean\": 52.232462816191045, \"std_dev\": 11.189200568687985}, {\"mean\": 52.15174430953085, \"std_dev\": 9.978770664947548}, {\"mean\": 51.965904809926066, \"std_dev\": 9.963936347331614}, {\"mean\": 51.10474813247442, \"std_dev\": 10.023010035044447}, {\"mean\": 50.99615127943641, \"std_dev\": 10.558322395942598}, {\"mean\": 51.764895681048245, \"std_dev\": 10.306986950772085}, {\"mean\": 50.76819094362746, \"std_dev\": 9.615650470567939}, {\"mean\": 53.12334987910798, \"std_dev\": 10.250547414388393}, {\"mean\": 51.59517174739854, \"std_dev\": 8.744270038110807}, {\"mean\": 49.190553778491356, \"std_dev\": 9.965295870359595}, {\"mean\": 50.99664108740562, \"std_dev\": 11.113687225458827}, {\"mean\": 52.19032917172051, \"std_dev\": 10.285602988645547}, {\"mean\": 49.87744259671718, \"std_dev\": 10.201677600314003}, {\"mean\": 50.80825253357313, \"std_dev\": 9.188894920955414}, {\"mean\": 50.14041378169638, \"std_dev\": 9.088221502323227}, {\"mean\": 51.22373404149005, \"std_dev\": 9.075345016355294}, {\"mean\": 51.12948656677171, \"std_dev\": 9.753785317871479}, {\"mean\": 51.2437461942052, \"std_dev\": 9.55323060804709}, {\"mean\": 51.01280146433133, \"std_dev\": 9.98748475413982}, {\"mean\": 51.527260266960305, \"std_dev\": 9.545268797170758}, {\"mean\": 51.44450156636633, \"std_dev\": 9.866154263370765}, {\"mean\": 51.02106446297112, \"std_dev\": 9.520485246293243}, {\"mean\": 51.559851486034496, \"std_dev\": 9.057992376806688}, {\"mean\": 50.19407652273221, \"std_dev\": 11.036894563285795}, {\"mean\": 51.705341607610514, \"std_dev\": 10.359544085906025}, {\"mean\": 49.19859967834683, \"std_dev\": 10.960585795275383}, {\"mean\": 50.74534143344026, \"std_dev\": 8.961743779565987}, {\"mean\": 50.356710553506446, \"std_dev\": 9.65987928035077}, {\"mean\": 51.701816746993636, \"std_dev\": 9.875751776780021}, {\"mean\": 50.947381931649794, \"std_dev\": 9.590187360332173}, {\"mean\": 50.94077818236632, \"std_dev\": 10.942328412982963}, {\"mean\": 51.481561176186304, \"std_dev\": 9.290453043768686}, {\"mean\": 52.97372715609179, \"std_dev\": 9.70651557368082}, {\"mean\": 52.741435800249576, \"std_dev\": 10.640190430261478}, {\"mean\": 52.66910055818158, \"std_dev\": 10.055693426735852}, {\"mean\": 51.858208321116464, \"std_dev\": 10.528139095709486}, {\"mean\": 51.286135237771234, \"std_dev\": 10.577446100967467}, {\"mean\": 51.420869950930616, \"std_dev\": 10.43428878268496}, {\"mean\": 50.91322223845111, \"std_dev\": 9.297664186675396}, {\"mean\": 52.19934987489787, \"std_dev\": 8.99680086158926}, {\"mean\": 50.52001601294746, \"std_dev\": 11.05520449604264}, {\"mean\": 51.52414419141018, \"std_dev\": 10.001704080818621}, {\"mean\": 53.04004252118842, \"std_dev\": 10.022792409951657}, {\"mean\": 53.01574851860707, \"std_dev\": 9.56427015373}, {\"mean\": 51.73953209487337, \"std_dev\": 9.764156327965939}, {\"mean\": 50.08712748676976, \"std_dev\": 10.042105834230554}, {\"mean\": 51.15996389186034, \"std_dev\": 9.034999779315953}, {\"mean\": 49.81181215658214, \"std_dev\": 9.89587870410487}, {\"mean\": 51.26018976071772, \"std_dev\": 10.822615420591761}, {\"mean\": 51.72735091808305, \"std_dev\": 9.703713377893791}, {\"mean\": 50.60332244620249, \"std_dev\": 9.220713054010039}, {\"mean\": 50.46539297439208, \"std_dev\": 10.826607626849649}, {\"mean\": 50.942587687370434, \"std_dev\": 9.19638040871211}, {\"mean\": 51.908154380373425, \"std_dev\": 9.878371225202091}, {\"mean\": 52.109423042824034, \"std_dev\": 10.158938052394245}, {\"mean\": 51.319975664678395, \"std_dev\": 10.453326708693607}, {\"mean\": 52.02406809372861, \"std_dev\": 10.565746345213505}, {\"mean\": 50.81748740863685, \"std_dev\": 10.846026786589945}, {\"mean\": 49.41131581505332, \"std_dev\": 10.049902003377454}, {\"mean\": 50.686206258414316, \"std_dev\": 8.992076714988752}, {\"mean\": 50.558530193095386, \"std_dev\": 9.23438454726251}, {\"mean\": 51.3190092405755, \"std_dev\": 10.075262928240253}, {\"mean\": 50.33633525930741, \"std_dev\": 11.204754729368373}, {\"mean\": 50.53306441991177, \"std_dev\": 8.931667965946136}, {\"mean\": 50.10213722145588, \"std_dev\": 10.073552319452281}, {\"mean\": 51.496128228025356, \"std_dev\": 9.97571925604245}, {\"mean\": 50.990639897272025, \"std_dev\": 10.805770215006747}, {\"mean\": 51.350169968979195, \"std_dev\": 10.768275475321023}, {\"mean\": 49.89573889152379, \"std_dev\": 10.007797062548944}, {\"mean\": 50.59714747896137, \"std_dev\": 10.910330423962808}, {\"mean\": 49.99409598799902, \"std_dev\": 10.997188890753405}, {\"mean\": 50.44183921938614, \"std_dev\": 9.950393520965672}, {\"mean\": 50.78985137423295, \"std_dev\": 9.668427412930257}, {\"mean\": 52.61470916253187, \"std_dev\": 10.153487062258474}, {\"mean\": 52.40334070410483, \"std_dev\": 9.594215185641817}, {\"mean\": 51.06059120471996, \"std_dev\": 9.573125337265228}, {\"mean\": 51.360034539099885, \"std_dev\": 8.972288888444059}, {\"mean\": 52.3562488066031, \"std_dev\": 10.108188287870359}, {\"mean\": 52.65012068585615, \"std_dev\": 10.485944167222051}, {\"mean\": 51.77290133911594, \"std_dev\": 10.173352221558847}, {\"mean\": 50.469440528600074, \"std_dev\": 9.942072330699759}, {\"mean\": 50.988120357594276, \"std_dev\": 10.7587086227518}, {\"mean\": 50.42822633173741, \"std_dev\": 10.986521431023643}, {\"mean\": 51.00172443497667, \"std_dev\": 12.107666004736805}, {\"mean\": 52.43792873639867, \"std_dev\": 11.81942989920439}, {\"mean\": 50.937660289811774, \"std_dev\": 10.545644869147281}, {\"mean\": 51.41373353690344, \"std_dev\": 8.464051125393802}, {\"mean\": 50.32425777004728, \"std_dev\": 10.906539258239853}, {\"mean\": 50.04268903409803, \"std_dev\": 11.471924378046237}, {\"mean\": 50.68175475711312, \"std_dev\": 10.78199694768956}, {\"mean\": 50.369704090336114, \"std_dev\": 10.27000469333871}, {\"mean\": 51.270535397110486, \"std_dev\": 10.185525049615515}, {\"mean\": 51.46781572515849, \"std_dev\": 10.426231926780506}, {\"mean\": 49.844574818785894, \"std_dev\": 10.403383034613075}, {\"mean\": 49.99696863081436, \"std_dev\": 9.040719491623623}, {\"mean\": 50.205057507147984, \"std_dev\": 10.021575201059553}, {\"mean\": 51.64107248376511, \"std_dev\": 10.24112151291878}, {\"mean\": 51.16002271341156, \"std_dev\": 10.175658011654836}, {\"mean\": 51.21275535605594, \"std_dev\": 10.264518841990366}, {\"mean\": 51.779203253522745, \"std_dev\": 10.177413430991688}, {\"mean\": 52.27405208744742, \"std_dev\": 10.62432261258027}, {\"mean\": 49.82961235245934, \"std_dev\": 11.601990698887475}, {\"mean\": 51.610647579669156, \"std_dev\": 10.430711778297068}, {\"mean\": 53.760098735415156, \"std_dev\": 9.97576560043887}, {\"mean\": 51.38926737683718, \"std_dev\": 9.309977943931912}, {\"mean\": 52.51508818234743, \"std_dev\": 9.71522095454574}, {\"mean\": 52.05293584424771, \"std_dev\": 10.620905264126705}, {\"mean\": 49.72200202100516, \"std_dev\": 10.20192289093878}, {\"mean\": 50.77383887238305, \"std_dev\": 8.901041418494371}, {\"mean\": 51.09962377046106, \"std_dev\": 9.199156699469835}]}}, {\"mode\": \"vega-lite\"});\n",
       "</script>"
      ],
      "text/plain": [
       "alt.HConcatChart(...)"
      ]
     },
     "execution_count": 30,
     "metadata": {},
     "output_type": "execute_result"
    }
   ],
   "source": [
    "# Resultados (en forma de distribución, ambas cadenas)\n",
    "plot"
   ]
  },
  {
   "cell_type": "markdown",
   "metadata": {
    "slideshow": {
     "slide_type": "subslide"
    }
   },
   "source": [
    "\"All models are wrong but some models are useful.\" (Box,1976)\n",
    "\n",
    "Does our model predict the data?<br>\n",
    "*Posterior predictive check* ($y^{rep}$: simulated value; $y$: data; $\\theta$: parameters)\n",
    "\n",
    "$$p(y^{rep}|y) = \\int p(y^{rep}|\\theta) p(\\theta|y) d\\theta $$"
   ]
  },
  {
   "cell_type": "markdown",
   "metadata": {
    "slideshow": {
     "slide_type": "fragment"
    }
   },
   "source": [
    "In (almost) simpler language: <br> \n",
    "In the integral, the 1st term is the likelihood, the 2nd the posterior. We can implement it with (many) random values of the parameters $\\theta$."
   ]
  },
  {
   "cell_type": "code",
   "execution_count": 31,
   "metadata": {
    "slideshow": {
     "slide_type": "subslide"
    }
   },
   "outputs": [],
   "source": [
    "# Posterior predictive check\n",
    "n_rep = 5000 \n",
    "y_rep = []\n",
    "for n in range(n_rep):\n",
    "    #posterior (2do termino integral)\n",
    "    idx = np.random.randint(data_mcmc.shape[0])\n",
    "    prom_rep = data_mcmc.loc[idx,'mean']\n",
    "    idx = np.random.randint(data_mcmc.shape[0])\n",
    "    desv_est_rep = data_mcmc.loc[idx,'std_dev']\n",
    "    \n",
    "    #likelihood (1er termino integral)\n",
    "    y_rep.append(st.norm.rvs(prom_rep, desv_est_rep, size=1))\n"
   ]
  },
  {
   "cell_type": "code",
   "execution_count": 32,
   "metadata": {
    "slideshow": {
     "slide_type": "skip"
    }
   },
   "outputs": [],
   "source": [
    "data_ppc = pd.DataFrame({'y_rep':np.array(y_rep)[:,0]}) \n",
    "den_ppc = alt.Chart(data_ppc).transform_density(#transformaciones a la data\n",
    "        density = 'y_rep', extent = [20,80], counts = True, steps=bins\n",
    "    ).mark_line( #tipo de gráfica\n",
    "        color='green', opacity=.75, strokeWidth = 5\n",
    "    ).encode(#detalles de los ejes\n",
    "        alt.X('value:Q', axis=alt.Axis(title='y_rep')),\n",
    "        alt.Y('density:Q', axis=alt.Axis(title=\"Density (kde)\")),\n",
    "    ).properties(\n",
    "        width=250, height=250, title = 'PPC'\n",
    "    )\n",
    "plot_ppc_data = (den_ppc | den_data.properties(\n",
    "    width=250, height=250, title = 'Data')\n",
    ").configure_axis(\n",
    "    titleFontSize=20, labelFontSize = 15, grid=False\n",
    ").configure_title(\n",
    "    fontSize=24\n",
    ")"
   ]
  },
  {
   "cell_type": "code",
   "execution_count": 33,
   "metadata": {
    "slideshow": {
     "slide_type": "fragment"
    }
   },
   "outputs": [
    {
     "data": {
      "text/html": [
       "\n",
       "<div id=\"altair-viz-c563138378b245f29b28dfb15135d355\"></div>\n",
       "<script type=\"text/javascript\">\n",
       "  (function(spec, embedOpt){\n",
       "    let outputDiv = document.currentScript.previousElementSibling;\n",
       "    if (outputDiv.id !== \"altair-viz-c563138378b245f29b28dfb15135d355\") {\n",
       "      outputDiv = document.getElementById(\"altair-viz-c563138378b245f29b28dfb15135d355\");\n",
       "    }\n",
       "    const paths = {\n",
       "      \"vega\": \"https://cdn.jsdelivr.net/npm//vega@5?noext\",\n",
       "      \"vega-lib\": \"https://cdn.jsdelivr.net/npm//vega-lib?noext\",\n",
       "      \"vega-lite\": \"https://cdn.jsdelivr.net/npm//vega-lite@4.8.1?noext\",\n",
       "      \"vega-embed\": \"https://cdn.jsdelivr.net/npm//vega-embed@6?noext\",\n",
       "    };\n",
       "\n",
       "    function loadScript(lib) {\n",
       "      return new Promise(function(resolve, reject) {\n",
       "        var s = document.createElement('script');\n",
       "        s.src = paths[lib];\n",
       "        s.async = true;\n",
       "        s.onload = () => resolve(paths[lib]);\n",
       "        s.onerror = () => reject(`Error loading script: ${paths[lib]}`);\n",
       "        document.getElementsByTagName(\"head\")[0].appendChild(s);\n",
       "      });\n",
       "    }\n",
       "\n",
       "    function showError(err) {\n",
       "      outputDiv.innerHTML = `<div class=\"error\" style=\"color:red;\">${err}</div>`;\n",
       "      throw err;\n",
       "    }\n",
       "\n",
       "    function displayChart(vegaEmbed) {\n",
       "      vegaEmbed(outputDiv, spec, embedOpt)\n",
       "        .catch(err => showError(`Javascript Error: ${err.message}<br>This usually means there's a typo in your chart specification. See the javascript console for the full traceback.`));\n",
       "    }\n",
       "\n",
       "    if(typeof define === \"function\" && define.amd) {\n",
       "      requirejs.config({paths});\n",
       "      require([\"vega-embed\"], displayChart, err => showError(`Error loading script: ${err.message}`));\n",
       "    } else if (typeof vegaEmbed === \"function\") {\n",
       "      displayChart(vegaEmbed);\n",
       "    } else {\n",
       "      loadScript(\"vega\")\n",
       "        .then(() => loadScript(\"vega-lite\"))\n",
       "        .then(() => loadScript(\"vega-embed\"))\n",
       "        .catch(showError)\n",
       "        .then(() => displayChart(vegaEmbed));\n",
       "    }\n",
       "  })({\"config\": {\"view\": {\"continuousWidth\": 400, \"continuousHeight\": 300}, \"axis\": {\"grid\": false, \"labelFontSize\": 15, \"titleFontSize\": 20}, \"title\": {\"fontSize\": 24}}, \"hconcat\": [{\"data\": {\"name\": \"data-afcef491125a954990d666b3b507e328\"}, \"mark\": {\"type\": \"line\", \"color\": \"green\", \"opacity\": 0.75, \"strokeWidth\": 5}, \"encoding\": {\"x\": {\"type\": \"quantitative\", \"axis\": {\"title\": \"y_rep\"}, \"field\": \"value\"}, \"y\": {\"type\": \"quantitative\", \"axis\": {\"title\": \"Density (kde)\"}, \"field\": \"density\"}}, \"height\": 250, \"title\": \"PPC\", \"transform\": [{\"density\": \"y_rep\", \"counts\": true, \"extent\": [20, 80], \"steps\": 20}], \"width\": 250}, {\"data\": {\"name\": \"data-b40fb672f5df0c4a5b6530fdf9b8d84c\"}, \"mark\": {\"type\": \"line\", \"color\": \"red\", \"opacity\": 0.35, \"strokeWidth\": 5}, \"encoding\": {\"x\": {\"type\": \"quantitative\", \"axis\": {\"title\": \"Variable\"}, \"field\": \"value\"}, \"y\": {\"type\": \"quantitative\", \"axis\": {\"title\": \"Density (kde)\"}, \"field\": \"density\"}}, \"height\": 250, \"title\": \"Data\", \"transform\": [{\"density\": \"sample\", \"counts\": true, \"steps\": 20}], \"width\": 250}], \"$schema\": \"https://vega.github.io/schema/vega-lite/v4.8.1.json\", \"datasets\": {\"data-afcef491125a954990d666b3b507e328\": [{\"y_rep\": 54.78942381374806}, {\"y_rep\": 23.3088994669432}, {\"y_rep\": 56.10471911215624}, {\"y_rep\": 60.693580732298976}, {\"y_rep\": 39.8382647134858}, {\"y_rep\": 57.25192774246266}, {\"y_rep\": 55.49420858767696}, {\"y_rep\": 71.83436897785934}, {\"y_rep\": 52.68136754937483}, {\"y_rep\": 39.85167179040998}, {\"y_rep\": 66.31918156004932}, {\"y_rep\": 52.53234953651696}, {\"y_rep\": 54.914151305757315}, {\"y_rep\": 56.58648160137206}, {\"y_rep\": 45.44963851977968}, {\"y_rep\": 60.05202239152884}, {\"y_rep\": 45.518848911973315}, {\"y_rep\": 62.74367981363678}, {\"y_rep\": 70.11547174611125}, {\"y_rep\": 44.353060428335205}, {\"y_rep\": 71.47270817657068}, {\"y_rep\": 56.728253554702924}, {\"y_rep\": 56.15845656663694}, {\"y_rep\": 67.67178919909136}, {\"y_rep\": 50.30163467720766}, {\"y_rep\": 53.730825381701834}, {\"y_rep\": 52.39916763571872}, {\"y_rep\": 54.08916387964958}, {\"y_rep\": 37.37505653719262}, {\"y_rep\": 46.169540831727986}, {\"y_rep\": 31.55492033660379}, {\"y_rep\": 53.76186283377223}, {\"y_rep\": 30.692378093809474}, {\"y_rep\": 45.9641538399648}, {\"y_rep\": 47.91754897370774}, {\"y_rep\": 59.64909049703088}, {\"y_rep\": 45.3070913316235}, {\"y_rep\": 50.652598052920574}, {\"y_rep\": 40.50397776059088}, {\"y_rep\": 45.92909621631839}, {\"y_rep\": 57.128909642748766}, {\"y_rep\": 49.80039728071544}, {\"y_rep\": 70.83295557498342}, {\"y_rep\": 42.77884824555296}, {\"y_rep\": 67.40743993746774}, {\"y_rep\": 3.2997884083845648}, {\"y_rep\": 67.32587009561622}, {\"y_rep\": 56.394765832223385}, {\"y_rep\": 55.51639039706129}, {\"y_rep\": 48.1832745876325}, {\"y_rep\": 41.0217201891316}, {\"y_rep\": 46.6904195422182}, {\"y_rep\": 52.96478746288901}, {\"y_rep\": 36.49126212276116}, {\"y_rep\": 43.88577930846789}, {\"y_rep\": 39.645245030715394}, {\"y_rep\": 48.576663145244865}, {\"y_rep\": 56.755912704406896}, {\"y_rep\": 51.06967645030709}, {\"y_rep\": 52.93331457373874}, {\"y_rep\": 54.150589100579985}, {\"y_rep\": 44.83361970233009}, {\"y_rep\": 57.249061327394365}, {\"y_rep\": 50.713208223406255}, {\"y_rep\": 49.87460094054001}, {\"y_rep\": 49.16780622162644}, {\"y_rep\": 38.7337328147239}, {\"y_rep\": 43.830672960574326}, {\"y_rep\": 60.9944725752121}, {\"y_rep\": 68.87616266439997}, {\"y_rep\": 53.58916141509986}, {\"y_rep\": 60.000478461048694}, {\"y_rep\": 57.6651146555442}, {\"y_rep\": 50.4295862297616}, {\"y_rep\": 49.85021141357701}, {\"y_rep\": 53.74426521172027}, {\"y_rep\": 52.77467879996142}, {\"y_rep\": 31.698794005749008}, {\"y_rep\": 54.65786886459245}, {\"y_rep\": 65.70373719270991}, {\"y_rep\": 43.676381268960114}, {\"y_rep\": 55.57210482463336}, {\"y_rep\": 44.21636467332686}, {\"y_rep\": 33.310359406082895}, {\"y_rep\": 58.51971389280502}, {\"y_rep\": 67.9232783155265}, {\"y_rep\": 51.86552481633122}, {\"y_rep\": 51.626390763733404}, {\"y_rep\": 44.452854749990685}, {\"y_rep\": 33.91797908760733}, {\"y_rep\": 43.75829286388177}, {\"y_rep\": 58.140382760894084}, {\"y_rep\": 54.18294300913357}, {\"y_rep\": 51.05782595304015}, {\"y_rep\": 51.531956571988665}, {\"y_rep\": 53.7776980587113}, {\"y_rep\": 60.421567951744905}, {\"y_rep\": 55.16478842252958}, {\"y_rep\": 43.84363977717029}, {\"y_rep\": 60.393032545258095}, {\"y_rep\": 63.15058545032069}, {\"y_rep\": 58.65509665248688}, {\"y_rep\": 42.65219382724711}, {\"y_rep\": 52.19621968018042}, {\"y_rep\": 48.335329677119034}, {\"y_rep\": 25.172067905430357}, {\"y_rep\": 36.60181689875961}, {\"y_rep\": 68.40320902927596}, {\"y_rep\": 45.53405839380571}, {\"y_rep\": 47.56244058964098}, {\"y_rep\": 49.49914611959858}, {\"y_rep\": 41.48436484803582}, {\"y_rep\": 50.559274897862025}, {\"y_rep\": 63.0550581354867}, {\"y_rep\": 55.0846687284067}, {\"y_rep\": 43.32398380508037}, {\"y_rep\": 65.3702365877112}, {\"y_rep\": 50.73235739808268}, {\"y_rep\": 47.3705872282526}, {\"y_rep\": 45.088770611133256}, {\"y_rep\": 60.76208081069916}, {\"y_rep\": 45.51487115259601}, {\"y_rep\": 34.72365418379202}, {\"y_rep\": 33.55921028090846}, {\"y_rep\": 45.94952763919604}, {\"y_rep\": 61.00238378796543}, {\"y_rep\": 54.569008355328855}, {\"y_rep\": 47.76827454620886}, {\"y_rep\": 22.22215514069776}, {\"y_rep\": 69.28484289498955}, {\"y_rep\": 37.72989406093257}, {\"y_rep\": 55.282259937858306}, {\"y_rep\": 57.82368404057997}, {\"y_rep\": 56.700966042433464}, {\"y_rep\": 35.73055897363913}, {\"y_rep\": 47.68383164599171}, {\"y_rep\": 44.50657054338583}, {\"y_rep\": 50.50737928975937}, {\"y_rep\": 47.87706659882871}, {\"y_rep\": 38.08496760398963}, {\"y_rep\": 61.25462849641652}, {\"y_rep\": 57.944469927113175}, {\"y_rep\": 60.624095615559526}, {\"y_rep\": 54.45146748882895}, {\"y_rep\": 82.05196124285621}, {\"y_rep\": 51.57422641277649}, {\"y_rep\": 65.37267954897094}, {\"y_rep\": 53.88463090010052}, {\"y_rep\": 49.77252113612627}, {\"y_rep\": 55.594892843452676}, {\"y_rep\": 48.62652538110994}, {\"y_rep\": 25.382762311304727}, {\"y_rep\": 64.49338767590957}, {\"y_rep\": 36.555811365225004}, {\"y_rep\": 59.68898008866889}, {\"y_rep\": 28.755936571414406}, {\"y_rep\": 56.91676581584013}, {\"y_rep\": 65.28437311026032}, {\"y_rep\": 48.206635448938066}, {\"y_rep\": 58.965559399388354}, {\"y_rep\": 59.20557725567094}, {\"y_rep\": 39.16441566681788}, {\"y_rep\": 68.99943385094245}, {\"y_rep\": 52.99722609878331}, {\"y_rep\": 68.60596507467329}, {\"y_rep\": 51.64880866660968}, {\"y_rep\": 58.776269679843324}, {\"y_rep\": 51.2860499168644}, {\"y_rep\": 64.76053651603749}, {\"y_rep\": 47.888630152454134}, {\"y_rep\": 50.162784285592146}, {\"y_rep\": 55.3620722884833}, {\"y_rep\": 70.32265794938549}, {\"y_rep\": 70.70617238244186}, {\"y_rep\": 49.29085430664315}, {\"y_rep\": 54.64859819356977}, {\"y_rep\": 33.014098684829484}, {\"y_rep\": 38.91098474288765}, {\"y_rep\": 42.381930658814085}, {\"y_rep\": 44.395848329294424}, {\"y_rep\": 53.76999228017575}, {\"y_rep\": 58.84378950071195}, {\"y_rep\": 36.47128680867748}, {\"y_rep\": 34.3498125648899}, {\"y_rep\": 49.748462645004146}, {\"y_rep\": 6.170478955343913}, {\"y_rep\": 61.76917448546256}, {\"y_rep\": 58.40490174336935}, {\"y_rep\": 48.438096996391884}, {\"y_rep\": 43.65259496707296}, {\"y_rep\": 62.977733054981115}, {\"y_rep\": 67.06823014136282}, {\"y_rep\": 40.4069136761734}, {\"y_rep\": 37.13186603939873}, {\"y_rep\": 55.30001193788238}, {\"y_rep\": 48.40577420369466}, {\"y_rep\": 59.99237946589281}, {\"y_rep\": 44.318027619285715}, {\"y_rep\": 50.55691208225604}, {\"y_rep\": 60.055736366526205}, {\"y_rep\": 51.84583502887427}, {\"y_rep\": 68.76872993784411}, {\"y_rep\": 45.197318655695405}, {\"y_rep\": 63.86970212545854}, {\"y_rep\": 46.44266974622478}, {\"y_rep\": 43.018492772397025}, {\"y_rep\": 63.95597895167306}, {\"y_rep\": 52.976069296756954}, {\"y_rep\": 30.284214489315445}, {\"y_rep\": 61.99735579148171}, {\"y_rep\": 46.28459202559825}, {\"y_rep\": 57.175522073415316}, {\"y_rep\": 40.586604847010705}, {\"y_rep\": 60.920433911225224}, {\"y_rep\": 38.43365108939023}, {\"y_rep\": 45.120584802287446}, {\"y_rep\": 44.93478773194821}, {\"y_rep\": 50.43905685559814}, {\"y_rep\": 36.03640239880912}, {\"y_rep\": 46.579466874046076}, {\"y_rep\": 54.66837590072598}, {\"y_rep\": 60.486263196274436}, {\"y_rep\": 58.035269853525584}, {\"y_rep\": 53.66948325714046}, {\"y_rep\": 48.388345115520835}, {\"y_rep\": 77.90996844516383}, {\"y_rep\": 49.74962900208601}, {\"y_rep\": 53.60391436055613}, {\"y_rep\": 42.074288450449835}, {\"y_rep\": 58.85413741238345}, {\"y_rep\": 64.3295383981311}, {\"y_rep\": 52.08690364841496}, {\"y_rep\": 48.62984288576886}, {\"y_rep\": 45.16332839284486}, {\"y_rep\": 39.36881719409874}, {\"y_rep\": 40.45289462687336}, {\"y_rep\": 41.19498955572595}, {\"y_rep\": 60.26717806641254}, {\"y_rep\": 60.63698291590253}, {\"y_rep\": 47.43915549918762}, {\"y_rep\": 68.68467939367093}, {\"y_rep\": 48.25541310735986}, {\"y_rep\": 41.75758489407986}, {\"y_rep\": 50.83825883624988}, {\"y_rep\": 58.473639617076614}, {\"y_rep\": 67.09405175960644}, {\"y_rep\": 41.2081503584191}, {\"y_rep\": 50.664353866489215}, {\"y_rep\": 35.52997616396476}, {\"y_rep\": 37.002157284906424}, {\"y_rep\": 31.502407643249025}, {\"y_rep\": 43.633703836088856}, {\"y_rep\": 41.60018745325722}, {\"y_rep\": 59.1116335079471}, {\"y_rep\": 43.26354497763982}, {\"y_rep\": 46.90951676638515}, {\"y_rep\": 41.43914415134669}, {\"y_rep\": 51.859617266869826}, {\"y_rep\": 40.83602828475111}, {\"y_rep\": 59.52940887142127}, {\"y_rep\": 64.59102406568599}, {\"y_rep\": 60.87337306825607}, {\"y_rep\": 42.23472368916222}, {\"y_rep\": 62.03088993321737}, {\"y_rep\": 68.02031203786773}, {\"y_rep\": 44.55169651068793}, {\"y_rep\": 60.23404688390918}, {\"y_rep\": 50.37020219309664}, {\"y_rep\": -1.2282485685861566}, {\"y_rep\": 33.54806519630609}, {\"y_rep\": 51.96571203888224}, {\"y_rep\": 56.03164360943122}, {\"y_rep\": 5.02952810082358}, {\"y_rep\": 34.53620767299168}, {\"y_rep\": 52.31146081924238}, {\"y_rep\": 55.88242471585593}, {\"y_rep\": 70.77122059659452}, {\"y_rep\": 34.288181883763514}, {\"y_rep\": 49.309283654500106}, {\"y_rep\": 25.395481099736152}, {\"y_rep\": 40.840412844174715}, {\"y_rep\": 47.238646310157876}, {\"y_rep\": 70.25311932069378}, {\"y_rep\": 27.575755365516535}, {\"y_rep\": 52.835740793418815}, {\"y_rep\": 35.04587929035778}, {\"y_rep\": 54.12628576498714}, {\"y_rep\": 48.19883293442237}, {\"y_rep\": 36.0244517314657}, {\"y_rep\": 48.41941749512909}, {\"y_rep\": 67.54986170368124}, {\"y_rep\": 52.76929426592732}, {\"y_rep\": 40.07655542533611}, {\"y_rep\": 54.16629947497447}, {\"y_rep\": 40.316880951794474}, {\"y_rep\": 37.47434497604209}, {\"y_rep\": 45.81852719831453}, {\"y_rep\": 53.15943677174716}, {\"y_rep\": 54.40318452825348}, {\"y_rep\": 41.13654136661827}, {\"y_rep\": 48.32143002952371}, {\"y_rep\": 58.5946755464653}, {\"y_rep\": 60.801753140643214}, {\"y_rep\": 49.10779742451508}, {\"y_rep\": 60.47794244311163}, {\"y_rep\": 47.82995961369236}, {\"y_rep\": 61.22523655265032}, {\"y_rep\": 68.73271450342818}, {\"y_rep\": 48.98683804152302}, {\"y_rep\": 52.71188290720403}, {\"y_rep\": 64.79428891214118}, {\"y_rep\": 30.368459122003426}, {\"y_rep\": 58.1899713040353}, {\"y_rep\": 41.82376015307811}, {\"y_rep\": 50.77170881008093}, {\"y_rep\": 53.84514776374901}, {\"y_rep\": 55.0087480928515}, {\"y_rep\": 44.31378986871487}, {\"y_rep\": 54.32358220570418}, {\"y_rep\": 41.44968810326303}, {\"y_rep\": 62.345045004774924}, {\"y_rep\": 51.73447018952792}, {\"y_rep\": 34.89851786963267}, {\"y_rep\": 65.7073976826987}, {\"y_rep\": 51.88357840036034}, {\"y_rep\": 50.44245951613165}, {\"y_rep\": 51.95163589794917}, {\"y_rep\": 38.57483959331566}, {\"y_rep\": 52.40809749069984}, {\"y_rep\": 53.12818223020642}, {\"y_rep\": 79.0148759668827}, {\"y_rep\": 63.3206026648768}, {\"y_rep\": 48.7900391823486}, {\"y_rep\": 46.96218255288029}, {\"y_rep\": 52.393167863763836}, {\"y_rep\": 48.91497073112603}, {\"y_rep\": 51.84446386403824}, {\"y_rep\": 55.8813439563752}, {\"y_rep\": 43.95179253369142}, {\"y_rep\": 42.262898514171496}, {\"y_rep\": 55.3782459518208}, {\"y_rep\": 51.16721976182065}, {\"y_rep\": 57.88596834504958}, {\"y_rep\": 42.90555643495101}, {\"y_rep\": 37.72922397360602}, {\"y_rep\": 53.00076189236941}, {\"y_rep\": 42.97813576078135}, {\"y_rep\": 38.87835755251062}, {\"y_rep\": 35.73128979851299}, {\"y_rep\": 34.760752337625675}, {\"y_rep\": 48.3906500476508}, {\"y_rep\": 32.4614965862288}, {\"y_rep\": 60.03285591201532}, {\"y_rep\": 51.528871432478006}, {\"y_rep\": 56.841716679727256}, {\"y_rep\": 42.7734417674802}, {\"y_rep\": 46.56090304259822}, {\"y_rep\": 36.200480335161046}, {\"y_rep\": 44.45485593833861}, {\"y_rep\": 46.731348427362406}, {\"y_rep\": 41.31912982526417}, {\"y_rep\": 57.401656524684654}, {\"y_rep\": 61.31103702211442}, {\"y_rep\": 67.12873936019547}, {\"y_rep\": 48.344979513157256}, {\"y_rep\": 45.05477536711654}, {\"y_rep\": 28.42843059397997}, {\"y_rep\": 50.66370424764104}, {\"y_rep\": 56.62553928353171}, {\"y_rep\": 58.57642895650739}, {\"y_rep\": 49.64609102074082}, {\"y_rep\": 69.57458400034552}, {\"y_rep\": 55.244152027029735}, {\"y_rep\": 61.216286163963844}, {\"y_rep\": 45.781144638112245}, {\"y_rep\": 53.259610204115674}, {\"y_rep\": 64.01750430179034}, {\"y_rep\": 34.350370596708515}, {\"y_rep\": 30.86501413146786}, {\"y_rep\": 64.44413719407216}, {\"y_rep\": 63.612218671476334}, {\"y_rep\": 51.843428729249595}, {\"y_rep\": 13.816173899216635}, {\"y_rep\": 55.889662902014315}, {\"y_rep\": 48.14519724846968}, {\"y_rep\": 61.013737747567156}, {\"y_rep\": 41.224343695119266}, {\"y_rep\": 54.42033313880079}, {\"y_rep\": 53.579653233808045}, {\"y_rep\": 56.539238380456815}, {\"y_rep\": 63.05711130192622}, {\"y_rep\": 52.77410279143204}, {\"y_rep\": 51.995226810888404}, {\"y_rep\": 23.655731733490256}, {\"y_rep\": 55.195075362570755}, {\"y_rep\": 44.46861340627291}, {\"y_rep\": 54.514209477784846}, {\"y_rep\": 58.398995330096064}, {\"y_rep\": 70.81531711868924}, {\"y_rep\": 37.65483180713785}, {\"y_rep\": 45.99511805303621}, {\"y_rep\": 64.40547835987199}, {\"y_rep\": 38.04378706424383}, {\"y_rep\": 35.012429735363845}, {\"y_rep\": 57.22224978552653}, {\"y_rep\": 46.546467985479694}, {\"y_rep\": 46.939386195027794}, {\"y_rep\": 58.02525057704961}, {\"y_rep\": 49.20486589418311}, {\"y_rep\": 42.29356943086704}, {\"y_rep\": 29.621707815186447}, {\"y_rep\": 51.630725809514196}, {\"y_rep\": 60.88759914373784}, {\"y_rep\": 53.182192803675996}, {\"y_rep\": 35.447900833394854}, {\"y_rep\": 58.08354641737221}, {\"y_rep\": 51.315796345222715}, {\"y_rep\": 50.86053851711205}, {\"y_rep\": 51.66927291227625}, {\"y_rep\": 49.76141892138477}, {\"y_rep\": 58.46988891403626}, {\"y_rep\": 46.852869564663855}, {\"y_rep\": 45.304365744345404}, {\"y_rep\": 52.177929177456384}, {\"y_rep\": 44.82955179051983}, {\"y_rep\": 44.75551204373028}, {\"y_rep\": 51.66785804793722}, {\"y_rep\": 42.183089415725455}, {\"y_rep\": 61.9000716829116}, {\"y_rep\": 47.56110588097071}, {\"y_rep\": 22.380104583313926}, {\"y_rep\": 68.72680259850046}, {\"y_rep\": 62.0817252246017}, {\"y_rep\": 57.719331990482736}, {\"y_rep\": 80.59037514896694}, {\"y_rep\": 50.28050697448806}, {\"y_rep\": 46.217276207844144}, {\"y_rep\": 41.18915537907337}, {\"y_rep\": 51.72655077962646}, {\"y_rep\": 45.72997814702682}, {\"y_rep\": 60.54725318261287}, {\"y_rep\": 6.841857798995149}, {\"y_rep\": 58.206638232752354}, {\"y_rep\": 41.648727632978414}, {\"y_rep\": -8.71088078040961}, {\"y_rep\": 45.79005103779881}, {\"y_rep\": 53.94411782888387}, {\"y_rep\": 48.1815614698508}, {\"y_rep\": 60.60139891685187}, {\"y_rep\": 52.08912585983079}, {\"y_rep\": 54.96723457161285}, {\"y_rep\": 35.88522015795732}, {\"y_rep\": 54.888913484589885}, {\"y_rep\": 40.48436855001928}, {\"y_rep\": 55.17335246669856}, {\"y_rep\": 64.91526175145414}, {\"y_rep\": 37.90247144354946}, {\"y_rep\": 62.497185260269326}, {\"y_rep\": 71.82716413992239}, {\"y_rep\": 54.548767562206365}, {\"y_rep\": 50.87731182320085}, {\"y_rep\": 52.73308289468871}, {\"y_rep\": 65.92320924634157}, {\"y_rep\": 55.75497378753842}, {\"y_rep\": 44.48920250421144}, {\"y_rep\": 65.97769298202515}, {\"y_rep\": 51.24289266491282}, {\"y_rep\": 29.56230617302787}, {\"y_rep\": 56.29279816829696}, {\"y_rep\": 48.02034730912178}, {\"y_rep\": 55.13417982964454}, {\"y_rep\": 59.64765921736766}, {\"y_rep\": 64.87792854407438}, {\"y_rep\": 43.671634783101005}, {\"y_rep\": 65.84187398999524}, {\"y_rep\": 48.57484346031538}, {\"y_rep\": 52.90203152306229}, {\"y_rep\": 59.42390030683916}, {\"y_rep\": 49.71887478904133}, {\"y_rep\": 32.58827970066338}, {\"y_rep\": 76.80685977645277}, {\"y_rep\": 49.59910290682354}, {\"y_rep\": 48.40152891207905}, {\"y_rep\": 58.92201614786404}, {\"y_rep\": 58.61368221636502}, {\"y_rep\": 55.399925441608836}, {\"y_rep\": 49.19879544200382}, {\"y_rep\": 47.32918590101997}, {\"y_rep\": 41.96062324489871}, {\"y_rep\": 57.00915315981436}, {\"y_rep\": 41.064281227661766}, {\"y_rep\": 64.30521172561475}, {\"y_rep\": 60.44425107880944}, {\"y_rep\": 43.77456991367308}, {\"y_rep\": 37.39929002795856}, {\"y_rep\": 30.778720343461025}, {\"y_rep\": 39.19447476265053}, {\"y_rep\": 40.64967676337507}, {\"y_rep\": 39.46068140799292}, {\"y_rep\": 58.16930146212429}, {\"y_rep\": 55.53451990935072}, {\"y_rep\": 44.284713435025054}, {\"y_rep\": 49.22027827815904}, {\"y_rep\": 62.036478229747686}, {\"y_rep\": 55.98173012439045}, {\"y_rep\": 49.469541932804105}, {\"y_rep\": 56.423420499334114}, {\"y_rep\": 40.59350380024827}, {\"y_rep\": 41.72466371868204}, {\"y_rep\": 30.723560552374558}, {\"y_rep\": 46.77913967046203}, {\"y_rep\": 52.3099581626569}, {\"y_rep\": 58.15582575741593}, {\"y_rep\": 66.42582994964582}, {\"y_rep\": 43.80803264942234}, {\"y_rep\": 46.498146459327515}, {\"y_rep\": 57.72113783756166}, {\"y_rep\": 41.6816876115072}, {\"y_rep\": 61.678933478111965}, {\"y_rep\": 53.09498725106416}, {\"y_rep\": 36.311833346081045}, {\"y_rep\": 70.57322193497355}, {\"y_rep\": 51.82211008523686}, {\"y_rep\": 52.14460663728658}, {\"y_rep\": -1.4100402824413356}, {\"y_rep\": 46.8440143331568}, {\"y_rep\": 53.63023496091899}, {\"y_rep\": 57.08921044671274}, {\"y_rep\": 52.02159891741077}, {\"y_rep\": 37.398274151314794}, {\"y_rep\": 62.690812353019}, {\"y_rep\": 52.43284245134894}, {\"y_rep\": 61.57590833763312}, {\"y_rep\": 33.05203560992165}, {\"y_rep\": 28.823503112983207}, {\"y_rep\": 46.46028897439185}, {\"y_rep\": 64.6764908882271}, {\"y_rep\": 59.45081870367129}, {\"y_rep\": 47.42882850298135}, {\"y_rep\": 71.9259205734743}, {\"y_rep\": 58.20574297915657}, {\"y_rep\": 46.76458677572949}, {\"y_rep\": 33.62661873394558}, {\"y_rep\": 56.64542064843885}, {\"y_rep\": 35.29998895614668}, {\"y_rep\": 52.19942596774146}, {\"y_rep\": 46.70637372166469}, {\"y_rep\": 43.86423508483051}, {\"y_rep\": 38.88088967539217}, {\"y_rep\": 43.48219906209792}, {\"y_rep\": 47.80220163099367}, {\"y_rep\": 44.75719956977698}, {\"y_rep\": 47.06401689355773}, {\"y_rep\": 38.77515708354917}, {\"y_rep\": 45.49373639143343}, {\"y_rep\": 51.069898221928625}, {\"y_rep\": 44.895728155440366}, {\"y_rep\": 52.35071040164067}, {\"y_rep\": 67.21411039175}, {\"y_rep\": 53.607547761565336}, {\"y_rep\": 53.858940678330555}, {\"y_rep\": 60.63442621119889}, {\"y_rep\": 59.84583305623174}, {\"y_rep\": 69.05836209082372}, {\"y_rep\": 46.39960032782618}, {\"y_rep\": 69.86524086781495}, {\"y_rep\": 39.468976014759136}, {\"y_rep\": 47.98902360358755}, {\"y_rep\": 37.7156379303758}, {\"y_rep\": 48.485851914041085}, {\"y_rep\": 35.945342321886585}, {\"y_rep\": 41.83698082761096}, {\"y_rep\": 67.21233789272729}, {\"y_rep\": 53.09468199136531}, {\"y_rep\": 42.55814826079704}, {\"y_rep\": 57.52042705335214}, {\"y_rep\": 43.51687867042135}, {\"y_rep\": 34.898577872317134}, {\"y_rep\": 42.609116630466715}, {\"y_rep\": 55.10525927865444}, {\"y_rep\": 34.034176824351604}, {\"y_rep\": 44.17128548607076}, {\"y_rep\": 53.08367308886802}, {\"y_rep\": 48.53923500443875}, {\"y_rep\": 60.43353639851604}, {\"y_rep\": 43.451964777849625}, {\"y_rep\": 49.01551714005516}, {\"y_rep\": 61.19471732775847}, {\"y_rep\": 48.49333886165593}, {\"y_rep\": 53.11677752416697}, {\"y_rep\": 7.4568435097010335}, {\"y_rep\": 62.38750477186109}, {\"y_rep\": 31.575093309957584}, {\"y_rep\": 48.01571058239706}, {\"y_rep\": 44.37697309831093}, {\"y_rep\": 52.11509933016579}, {\"y_rep\": 53.60067619693688}, {\"y_rep\": 61.50941672139417}, {\"y_rep\": 59.65559666691048}, {\"y_rep\": 63.4203998502095}, {\"y_rep\": 55.19329444927079}, {\"y_rep\": 65.3947610511885}, {\"y_rep\": 40.02022895786442}, {\"y_rep\": 60.26679830599147}, {\"y_rep\": 56.558013634154534}, {\"y_rep\": 49.6129603364968}, {\"y_rep\": 47.39379736902984}, {\"y_rep\": 50.060753738543944}, {\"y_rep\": 18.079048390542358}, {\"y_rep\": 50.24214831791437}, {\"y_rep\": 49.25487632178973}, {\"y_rep\": 48.43594244453489}, {\"y_rep\": 52.82423721457911}, {\"y_rep\": 40.75174159051345}, {\"y_rep\": 49.36488241567766}, {\"y_rep\": 68.45312799848759}, {\"y_rep\": 53.38007298183899}, {\"y_rep\": 45.75278475673756}, {\"y_rep\": 51.56447376520436}, {\"y_rep\": 56.632176424591194}, {\"y_rep\": 45.14889797781845}, {\"y_rep\": 50.46633640959822}, {\"y_rep\": 45.10272684544002}, {\"y_rep\": 31.767881997321584}, {\"y_rep\": 43.705249991001494}, {\"y_rep\": 53.48343614052606}, {\"y_rep\": 52.559259113956884}, {\"y_rep\": 62.94726919360332}, {\"y_rep\": 46.4968009834304}, {\"y_rep\": 53.30153546156839}, {\"y_rep\": 55.962521478112265}, {\"y_rep\": 45.11586638026718}, {\"y_rep\": 52.98383691951106}, {\"y_rep\": 50.37024088171807}, {\"y_rep\": 46.04384248080364}, {\"y_rep\": 67.93583107909078}, {\"y_rep\": 46.79250352984963}, {\"y_rep\": 45.23677496118202}, {\"y_rep\": 53.880833019721166}, {\"y_rep\": 53.52801587108634}, {\"y_rep\": 58.101314342762485}, {\"y_rep\": 45.724577808888675}, {\"y_rep\": 57.63405313510928}, {\"y_rep\": 54.09865769225118}, {\"y_rep\": 73.12284263591766}, {\"y_rep\": 42.09907286608264}, {\"y_rep\": 45.142455596837785}, {\"y_rep\": 49.08858591148996}, {\"y_rep\": 55.929872128487666}, {\"y_rep\": 53.61684672094263}, {\"y_rep\": 50.44837839546235}, {\"y_rep\": 58.096749662124566}, {\"y_rep\": 54.97453318923191}, {\"y_rep\": 46.87858937519438}, {\"y_rep\": 68.0370522997281}, {\"y_rep\": 39.069895635913255}, {\"y_rep\": 59.44927662196272}, {\"y_rep\": 39.11374052425747}, {\"y_rep\": 31.084679598859076}, {\"y_rep\": 42.96639834544275}, {\"y_rep\": 49.0543252847553}, {\"y_rep\": 41.6335178871624}, {\"y_rep\": 49.443177175372576}, {\"y_rep\": 40.66626678932616}, {\"y_rep\": 61.412944393937906}, {\"y_rep\": 48.52706918769814}, {\"y_rep\": 51.906017427759004}, {\"y_rep\": 68.89810205140174}, {\"y_rep\": 47.17416615715758}, {\"y_rep\": 63.257585036368894}, {\"y_rep\": 49.123086617134966}, {\"y_rep\": 38.72865820173969}, {\"y_rep\": 36.506239513015615}, {\"y_rep\": 68.45726667295496}, {\"y_rep\": 48.49762131723691}, {\"y_rep\": 50.160611586031756}, {\"y_rep\": 57.28803637569754}, {\"y_rep\": 50.867964072645385}, {\"y_rep\": 52.837683202406836}, {\"y_rep\": 26.408674604324673}, {\"y_rep\": 55.372623796027476}, {\"y_rep\": 55.34562008063105}, {\"y_rep\": 49.69460704334246}, {\"y_rep\": 41.586894070949725}, {\"y_rep\": 40.13999247749603}, {\"y_rep\": 55.8709714700993}, {\"y_rep\": 55.732109928982695}, {\"y_rep\": 40.491937497656814}, {\"y_rep\": 61.417104186563456}, {\"y_rep\": 57.02849140160859}, {\"y_rep\": 68.46792570906271}, {\"y_rep\": 52.892980225312435}, {\"y_rep\": 41.846908046130345}, {\"y_rep\": 54.03473967343024}, {\"y_rep\": 55.02493024801112}, {\"y_rep\": 53.566588394173436}, {\"y_rep\": 43.578265979741076}, {\"y_rep\": 53.02572025361383}, {\"y_rep\": 45.41820797868232}, {\"y_rep\": 44.075348736303454}, {\"y_rep\": 62.39482818349495}, {\"y_rep\": 58.0942869068179}, {\"y_rep\": 37.68702917894253}, {\"y_rep\": 52.435095169928424}, {\"y_rep\": 53.30267176556248}, {\"y_rep\": 36.472894203408956}, {\"y_rep\": 58.12021705415415}, {\"y_rep\": 41.53667756900691}, {\"y_rep\": 56.582343749380534}, {\"y_rep\": 36.58545573877234}, {\"y_rep\": 47.53045731449857}, {\"y_rep\": 52.54145633337689}, {\"y_rep\": 56.50562528919576}, {\"y_rep\": 36.16781002629116}, {\"y_rep\": 51.82208753156092}, {\"y_rep\": 52.11275507492726}, {\"y_rep\": 57.67339682587438}, {\"y_rep\": 46.31184841305461}, {\"y_rep\": 69.89399311246093}, {\"y_rep\": 55.21028105421357}, {\"y_rep\": 48.125112960834656}, {\"y_rep\": 55.99604036627926}, {\"y_rep\": 12.881721951378497}, {\"y_rep\": 61.13961459808671}, {\"y_rep\": 49.47428356609075}, {\"y_rep\": 55.443792482841346}, {\"y_rep\": 51.84317220065987}, {\"y_rep\": 37.962345332039554}, {\"y_rep\": 69.08442318300274}, {\"y_rep\": 46.28133927715885}, {\"y_rep\": 38.34266264803249}, {\"y_rep\": 42.95710358632202}, {\"y_rep\": 61.50188787846423}, {\"y_rep\": -4.681427707905499}, {\"y_rep\": 43.39905764911993}, {\"y_rep\": 59.34754596244827}, {\"y_rep\": 56.108035597373025}, {\"y_rep\": 50.33008115087533}, {\"y_rep\": 42.8299170485389}, {\"y_rep\": 37.34385547967483}, {\"y_rep\": 47.86867536541673}, {\"y_rep\": 55.59205142910389}, {\"y_rep\": 63.30062888024132}, {\"y_rep\": 52.633322793546306}, {\"y_rep\": 48.363997126632725}, {\"y_rep\": 39.78129439051232}, {\"y_rep\": 51.86223240367124}, {\"y_rep\": 39.66651806217335}, {\"y_rep\": 39.09661925517835}, {\"y_rep\": 50.08719512073687}, {\"y_rep\": 49.4104240796014}, {\"y_rep\": 47.45900191626773}, {\"y_rep\": 30.88709195634493}, {\"y_rep\": 66.19568909004349}, {\"y_rep\": 44.05022489849078}, {\"y_rep\": 67.72905009056434}, {\"y_rep\": 46.991398703845704}, {\"y_rep\": 64.0943226238543}, {\"y_rep\": 28.38210090048044}, {\"y_rep\": 66.13535087671355}, {\"y_rep\": 66.31229928726914}, {\"y_rep\": 38.26607906967498}, {\"y_rep\": 48.04940941644738}, {\"y_rep\": 49.94926262541789}, {\"y_rep\": 47.44366745275621}, {\"y_rep\": 69.16017570529296}, {\"y_rep\": 45.25660898512712}, {\"y_rep\": 45.51283285056716}, {\"y_rep\": 60.756260356386804}, {\"y_rep\": 55.30130042787611}, {\"y_rep\": 43.92217046121764}, {\"y_rep\": 42.62405679624436}, {\"y_rep\": 59.81883640529295}, {\"y_rep\": 69.5853386030557}, {\"y_rep\": 60.291645586816145}, {\"y_rep\": 45.68356550304092}, {\"y_rep\": 53.13069569232014}, {\"y_rep\": 47.313570573871296}, {\"y_rep\": 64.70530510028895}, {\"y_rep\": 58.0774726238039}, {\"y_rep\": 34.40202684380697}, {\"y_rep\": 71.29153650942001}, {\"y_rep\": 54.65810130179213}, {\"y_rep\": 45.14708433381177}, {\"y_rep\": 44.610029874680684}, {\"y_rep\": 50.92763868801433}, {\"y_rep\": 42.45982809836828}, {\"y_rep\": 59.67016981200183}, {\"y_rep\": 68.33353537387367}, {\"y_rep\": 64.95648735428857}, {\"y_rep\": 34.85631252009523}, {\"y_rep\": 52.35542225483716}, {\"y_rep\": 55.119447063383745}, {\"y_rep\": 61.62615413615885}, {\"y_rep\": 40.18141206874627}, {\"y_rep\": 37.58180923697214}, {\"y_rep\": 43.87897946915447}, {\"y_rep\": 52.220274894270844}, {\"y_rep\": 63.307285314124016}, {\"y_rep\": 41.136391663941986}, {\"y_rep\": 54.23253489947947}, {\"y_rep\": 59.24654843781424}, {\"y_rep\": 65.19812327703835}, {\"y_rep\": 53.432800550221216}, {\"y_rep\": 68.87781968001822}, {\"y_rep\": 58.50702687325886}, {\"y_rep\": 60.92092148389437}, {\"y_rep\": 54.02597770742228}, {\"y_rep\": 47.758227103175024}, {\"y_rep\": 48.5078634340134}, {\"y_rep\": 68.81435917849437}, {\"y_rep\": 45.781997079006196}, {\"y_rep\": 45.58730626075234}, {\"y_rep\": 52.429548539153416}, {\"y_rep\": 56.548774103573535}, {\"y_rep\": 68.92288337699209}, {\"y_rep\": 44.32070913438244}, {\"y_rep\": 46.95081832711961}, {\"y_rep\": 52.67428087082344}, {\"y_rep\": 41.26535580705149}, {\"y_rep\": 51.38277039884272}, {\"y_rep\": 41.25024393382773}, {\"y_rep\": 51.38733234229444}, {\"y_rep\": 51.2948436922266}, {\"y_rep\": 49.13849626989343}, {\"y_rep\": 76.69281421734595}, {\"y_rep\": 58.09113975933688}, {\"y_rep\": 50.0746841458476}, {\"y_rep\": 32.16768980420758}, {\"y_rep\": 45.14676400652945}, {\"y_rep\": 52.59047986686012}, {\"y_rep\": 49.21448149600726}, {\"y_rep\": 50.14461060045891}, {\"y_rep\": 66.6122032522153}, {\"y_rep\": 45.129392407889625}, {\"y_rep\": 63.61291635667703}, {\"y_rep\": 46.01044608163005}, {\"y_rep\": 51.16082650296092}, {\"y_rep\": 62.23414741193321}, {\"y_rep\": 43.986545445971196}, {\"y_rep\": 54.45243581381979}, {\"y_rep\": 48.68255373280883}, {\"y_rep\": 45.946876790318385}, {\"y_rep\": 59.805585317680915}, {\"y_rep\": 60.1157195095488}, {\"y_rep\": 47.67978665992629}, {\"y_rep\": 66.18629211616313}, {\"y_rep\": 44.74199853579073}, {\"y_rep\": 50.360858558564175}, {\"y_rep\": 45.9039982006069}, {\"y_rep\": 40.374176172998204}, {\"y_rep\": 49.45191297945148}, {\"y_rep\": 62.93867717590482}, {\"y_rep\": 61.38837108539644}, {\"y_rep\": 44.130507695220736}, {\"y_rep\": 60.57711485664194}, {\"y_rep\": 63.32304831343209}, {\"y_rep\": 53.95611859326466}, {\"y_rep\": 13.141717195265095}, {\"y_rep\": 60.49887156834028}, {\"y_rep\": 42.42694711528849}, {\"y_rep\": 68.65391105159988}, {\"y_rep\": 60.24999743423563}, {\"y_rep\": 46.30972256912459}, {\"y_rep\": 58.15298526147063}, {\"y_rep\": 52.85483536548431}, {\"y_rep\": 46.37899682452164}, {\"y_rep\": 53.59677375729402}, {\"y_rep\": 48.611625843173016}, {\"y_rep\": 58.93196994656762}, {\"y_rep\": 40.10395084799214}, {\"y_rep\": 52.42840401237533}, {\"y_rep\": 65.18036548479299}, {\"y_rep\": 39.665259532020976}, {\"y_rep\": 38.347334253574566}, {\"y_rep\": 58.090243505357826}, {\"y_rep\": 32.04062877091786}, {\"y_rep\": 47.523831994151394}, {\"y_rep\": 51.13686197288887}, {\"y_rep\": 45.41658554337172}, {\"y_rep\": 35.482310242127035}, {\"y_rep\": 52.243024377892304}, {\"y_rep\": 44.72328270568428}, {\"y_rep\": 62.64113376986348}, {\"y_rep\": 33.08923194407777}, {\"y_rep\": 52.207055935305355}, {\"y_rep\": 33.701921589068334}, {\"y_rep\": 47.9817714587862}, {\"y_rep\": 40.87850978579222}, {\"y_rep\": 46.525345912955004}, {\"y_rep\": 68.66982295522547}, {\"y_rep\": 39.7249543448051}, {\"y_rep\": 48.150103565202684}, {\"y_rep\": 55.071488137032134}, {\"y_rep\": 24.70553793701769}, {\"y_rep\": 50.86683211546519}, {\"y_rep\": 46.54336488481823}, {\"y_rep\": 50.79731463071534}, {\"y_rep\": 65.57659350393912}, {\"y_rep\": 46.98114401155468}, {\"y_rep\": 50.29464408965745}, {\"y_rep\": 60.4309296551874}, {\"y_rep\": 41.916622188335324}, {\"y_rep\": 48.60575070742454}, {\"y_rep\": 49.88030999188004}, {\"y_rep\": 56.76068152946909}, {\"y_rep\": 57.01587625691663}, {\"y_rep\": 60.115745403453985}, {\"y_rep\": 38.39811279746709}, {\"y_rep\": 42.988240794649535}, {\"y_rep\": 57.07083339004255}, {\"y_rep\": 48.994976467800356}, {\"y_rep\": 49.16685137848378}, {\"y_rep\": 53.230902322600315}, {\"y_rep\": 56.155743403956656}, {\"y_rep\": 39.76785439925818}, {\"y_rep\": 78.03901645696726}, {\"y_rep\": 45.57021980807127}, {\"y_rep\": 43.8164248458507}, {\"y_rep\": 32.743797474308344}, {\"y_rep\": 42.103569122291205}, {\"y_rep\": 54.16398271012393}, {\"y_rep\": 56.99697993168447}, {\"y_rep\": 42.82410911194521}, {\"y_rep\": 61.69099020256643}, {\"y_rep\": 49.04204589769591}, {\"y_rep\": 45.524791640229175}, {\"y_rep\": 57.86899178560118}, {\"y_rep\": 57.797373558006406}, {\"y_rep\": 46.41305923588634}, {\"y_rep\": 53.0602357234212}, {\"y_rep\": 45.828831054456636}, {\"y_rep\": 69.01699317685286}, {\"y_rep\": 48.852519172208375}, {\"y_rep\": 53.88827111106934}, {\"y_rep\": 59.46936932876912}, {\"y_rep\": 51.47704842580546}, {\"y_rep\": 48.780690540043054}, {\"y_rep\": 47.32585435928429}, {\"y_rep\": 52.619800345396186}, {\"y_rep\": 55.12449105379979}, {\"y_rep\": 49.95732715201652}, {\"y_rep\": 45.31360704614576}, {\"y_rep\": 56.599751991718264}, {\"y_rep\": 48.87622106012447}, {\"y_rep\": 24.012418790736277}, {\"y_rep\": 52.821949348485674}, {\"y_rep\": 69.68680654653508}, {\"y_rep\": 39.92143384724838}, {\"y_rep\": 55.81344116499399}, {\"y_rep\": 49.50305894024989}, {\"y_rep\": 53.65002232072365}, {\"y_rep\": 66.55284758237424}, {\"y_rep\": 39.80052933854954}, {\"y_rep\": 72.71425516455045}, {\"y_rep\": 60.517615866745444}, {\"y_rep\": 40.03131160449057}, {\"y_rep\": 22.995331675767233}, {\"y_rep\": 47.34281215034976}, {\"y_rep\": 53.46197655964898}, {\"y_rep\": 55.5530385135278}, {\"y_rep\": 68.86943910948412}, {\"y_rep\": 51.21213017356565}, {\"y_rep\": 52.294218423020325}, {\"y_rep\": 37.619548290031084}, {\"y_rep\": 45.81514496455625}, {\"y_rep\": 63.74636244106587}, {\"y_rep\": 37.10423998934905}, {\"y_rep\": 56.49003536342585}, {\"y_rep\": 48.667163605101265}, {\"y_rep\": 55.04498408754486}, {\"y_rep\": 51.16159676441373}, {\"y_rep\": 60.60920556861579}, {\"y_rep\": 38.65594351962281}, {\"y_rep\": 50.737298535882815}, {\"y_rep\": 4.994051604138219}, {\"y_rep\": 69.44767874661704}, {\"y_rep\": 43.43688097777276}, {\"y_rep\": 68.48571485495302}, {\"y_rep\": 56.06501035960463}, {\"y_rep\": 52.799111862753065}, {\"y_rep\": 55.058444268399185}, {\"y_rep\": 55.090987863664196}, {\"y_rep\": 53.79980977071831}, {\"y_rep\": 47.10159117587762}, {\"y_rep\": 66.53645361243026}, {\"y_rep\": 47.06559864291008}, {\"y_rep\": 43.99223966358984}, {\"y_rep\": 41.80772375886002}, {\"y_rep\": 58.82134422680951}, {\"y_rep\": 45.30497962467921}, {\"y_rep\": 39.39350126146787}, {\"y_rep\": 48.03402845532155}, {\"y_rep\": 38.770720075881}, {\"y_rep\": 34.93208949944443}, {\"y_rep\": 38.679933459571615}, {\"y_rep\": 64.23016370350324}, {\"y_rep\": 53.13107932446093}, {\"y_rep\": 50.99600247460083}, {\"y_rep\": 54.270148294292134}, {\"y_rep\": 46.9710380813327}, {\"y_rep\": 61.98647081917038}, {\"y_rep\": 41.1541441407917}, {\"y_rep\": 54.79007944324103}, {\"y_rep\": 73.80570839980791}, {\"y_rep\": 46.618528490385614}, {\"y_rep\": 42.62622210205054}, {\"y_rep\": 53.65767599175327}, {\"y_rep\": 38.34737535179323}, {\"y_rep\": 64.61736920809682}, {\"y_rep\": 53.96935551968785}, {\"y_rep\": 32.53458358713562}, {\"y_rep\": 50.479562138551195}, {\"y_rep\": 60.98427960901866}, {\"y_rep\": 55.020336737365625}, {\"y_rep\": 57.511348475760165}, {\"y_rep\": 32.71865063767902}, {\"y_rep\": 47.06470697673643}, {\"y_rep\": 67.1155299457852}, {\"y_rep\": 31.941223466039983}, {\"y_rep\": 23.398095294186174}, {\"y_rep\": 44.285410880532346}, {\"y_rep\": 49.15673071854514}, {\"y_rep\": 55.078450124795275}, {\"y_rep\": 54.069539527382005}, {\"y_rep\": 47.61155104938827}, {\"y_rep\": 66.78620364618044}, {\"y_rep\": 48.87108470480245}, {\"y_rep\": 48.428448192406435}, {\"y_rep\": 41.09828995442494}, {\"y_rep\": 38.25728292773339}, {\"y_rep\": 57.235711433209715}, {\"y_rep\": 43.49381688123365}, {\"y_rep\": 33.287076429941344}, {\"y_rep\": 42.23366898212019}, {\"y_rep\": 47.22662606451853}, {\"y_rep\": 55.07126284816124}, {\"y_rep\": 55.23139804326769}, {\"y_rep\": 35.239913027519776}, {\"y_rep\": 49.016031655165285}, {\"y_rep\": 23.172564517874893}, {\"y_rep\": 49.284181084377806}, {\"y_rep\": 43.254963036073654}, {\"y_rep\": 56.97493065371656}, {\"y_rep\": 37.49568392151012}, {\"y_rep\": 61.95877524077978}, {\"y_rep\": 56.1977514477874}, {\"y_rep\": 39.44090771599218}, {\"y_rep\": 42.04469995258682}, {\"y_rep\": 34.6592387660695}, {\"y_rep\": 70.28227248739283}, {\"y_rep\": 55.03487792512283}, {\"y_rep\": 50.477920234642404}, {\"y_rep\": 50.4535264463255}, {\"y_rep\": 54.38311317571909}, {\"y_rep\": 53.72655869846248}, {\"y_rep\": 53.81763826867552}, {\"y_rep\": 31.55888528598898}, {\"y_rep\": 59.81496550838848}, {\"y_rep\": 69.08589672268403}, {\"y_rep\": 51.73484737521685}, {\"y_rep\": 48.84187983779644}, {\"y_rep\": 36.25852736590627}, {\"y_rep\": 40.36946527347899}, {\"y_rep\": 36.96502914606377}, {\"y_rep\": 66.76002706128419}, {\"y_rep\": 49.52310734511054}, {\"y_rep\": 51.74757097613386}, {\"y_rep\": 55.81445153981591}, {\"y_rep\": 50.17570916504893}, {\"y_rep\": 54.48133809733149}, {\"y_rep\": 53.19945478725774}, {\"y_rep\": 48.97127927514883}, {\"y_rep\": 46.00023538891068}, {\"y_rep\": 55.615054366203196}, {\"y_rep\": 64.28037543215663}, {\"y_rep\": 49.410298628374626}, {\"y_rep\": 53.847977804836304}, {\"y_rep\": 40.02921982235025}, {\"y_rep\": 52.83897591471289}, {\"y_rep\": 31.936395801606814}, {\"y_rep\": 44.9175388621256}, {\"y_rep\": 61.27105829067129}, {\"y_rep\": 57.50850420850496}, {\"y_rep\": 56.40475715870249}, {\"y_rep\": 49.88352572954163}, {\"y_rep\": 29.459665465872263}, {\"y_rep\": 53.57950280886092}, {\"y_rep\": 62.48935286980921}, {\"y_rep\": 37.454555642333766}, {\"y_rep\": 55.51498980752302}, {\"y_rep\": 45.7249056469772}, {\"y_rep\": 64.49469547317524}, {\"y_rep\": 51.985665694345414}, {\"y_rep\": 48.05611574964458}, {\"y_rep\": 53.70030608440747}, {\"y_rep\": 49.95332246547552}, {\"y_rep\": 54.80028693144197}, {\"y_rep\": 56.637765313473196}, {\"y_rep\": 63.621926971359315}, {\"y_rep\": 46.06541392371584}, {\"y_rep\": 43.54508688008618}, {\"y_rep\": 62.04755754355376}, {\"y_rep\": 57.999444750571854}, {\"y_rep\": 54.93619934515274}, {\"y_rep\": 53.373659975833355}, {\"y_rep\": 56.586597965244934}, {\"y_rep\": 39.70898887158778}, {\"y_rep\": 49.67299364262337}, {\"y_rep\": 64.55160396828894}, {\"y_rep\": 58.12670316665009}, {\"y_rep\": 50.1905722955771}, {\"y_rep\": 65.43203125844846}, {\"y_rep\": 60.42039731597809}, {\"y_rep\": 49.372337580474415}, {\"y_rep\": 62.597899443966625}, {\"y_rep\": 56.5637824761877}, {\"y_rep\": 55.642197563223576}, {\"y_rep\": 39.000375903411005}, {\"y_rep\": 56.90735245284523}, {\"y_rep\": 61.34464153528164}, {\"y_rep\": 34.88485743126843}, {\"y_rep\": 52.69916425793453}, {\"y_rep\": 69.29632516719431}, {\"y_rep\": 63.51534196735521}, {\"y_rep\": 41.68563956023167}, {\"y_rep\": 54.04262579232972}, {\"y_rep\": 77.41566292443105}, {\"y_rep\": 52.15568463202211}, {\"y_rep\": 62.95292188577427}, {\"y_rep\": 49.40972039186091}, {\"y_rep\": 46.45417120786515}, {\"y_rep\": 64.14446730636637}, {\"y_rep\": 56.84719533717068}, {\"y_rep\": 41.371500953540554}, {\"y_rep\": 40.36047063014142}, {\"y_rep\": 63.06842861729282}, {\"y_rep\": 53.51148922438284}, {\"y_rep\": 44.42110094974156}, {\"y_rep\": 59.13144236115703}, {\"y_rep\": 56.23554981722353}, {\"y_rep\": 50.121185833892135}, {\"y_rep\": 58.54740601603942}, {\"y_rep\": 39.54133854737655}, {\"y_rep\": 53.964577931133974}, {\"y_rep\": 47.03216489778026}, {\"y_rep\": 55.60750865186368}, {\"y_rep\": 53.06031145121668}, {\"y_rep\": 60.96886508356338}, {\"y_rep\": 55.13458757331964}, {\"y_rep\": 51.52885247983245}, {\"y_rep\": 58.231723964866816}, {\"y_rep\": 47.90262679795079}, {\"y_rep\": 15.701368367175222}, {\"y_rep\": 37.062580356377055}, {\"y_rep\": 58.14726510691331}, {\"y_rep\": 48.96063231256343}, {\"y_rep\": 46.69588936904064}, {\"y_rep\": 55.30699038399776}, {\"y_rep\": 45.74864275909894}, {\"y_rep\": 41.95991962715219}, {\"y_rep\": 61.57083074757818}, {\"y_rep\": 61.96850251224054}, {\"y_rep\": 71.98285071408368}, {\"y_rep\": 56.271890518785696}, {\"y_rep\": 53.64814772016103}, {\"y_rep\": 63.240197517293595}, {\"y_rep\": 42.08852252210703}, {\"y_rep\": 58.01418438382626}, {\"y_rep\": 56.81087230989096}, {\"y_rep\": 32.58419393265619}, {\"y_rep\": 41.0653090087103}, {\"y_rep\": 20.977110859947466}, {\"y_rep\": 56.71126590829832}, {\"y_rep\": 64.56521565049663}, {\"y_rep\": 42.41186416910324}, {\"y_rep\": 44.11045087723197}, {\"y_rep\": 2.529732516636202}, {\"y_rep\": 58.400906909922554}, {\"y_rep\": 46.52678997927686}, {\"y_rep\": 49.53257163821723}, {\"y_rep\": 67.65602158343043}, {\"y_rep\": 48.32500363166858}, {\"y_rep\": 55.27061289642078}, {\"y_rep\": 58.990915877003864}, {\"y_rep\": 30.225095133246228}, {\"y_rep\": 65.00463833978532}, {\"y_rep\": 43.21766832354981}, {\"y_rep\": 45.921320844653216}, {\"y_rep\": 53.088838159841906}, {\"y_rep\": 37.09940811670597}, {\"y_rep\": 37.87909629486386}, {\"y_rep\": 11.065555343611742}, {\"y_rep\": 57.035135587415176}, {\"y_rep\": 41.05932996736896}, {\"y_rep\": 45.65450096829494}, {\"y_rep\": 51.18641940058911}, {\"y_rep\": 39.15396623751138}, {\"y_rep\": 62.348756805548675}, {\"y_rep\": 55.16875130653526}, {\"y_rep\": 51.92472477188368}, {\"y_rep\": 43.26297297046853}, {\"y_rep\": 36.97062823472713}, {\"y_rep\": 50.24797507886607}, {\"y_rep\": 47.94924743301129}, {\"y_rep\": 46.22565344547678}, {\"y_rep\": 51.872132326322124}, {\"y_rep\": 66.99780493821848}, {\"y_rep\": 41.948789629320586}, {\"y_rep\": 52.43085481055191}, {\"y_rep\": 42.405489266452875}, {\"y_rep\": 50.83284577436376}, {\"y_rep\": 61.949849494733755}, {\"y_rep\": 47.74665007285268}, {\"y_rep\": 52.20520658295091}, {\"y_rep\": 44.267532711077656}, {\"y_rep\": 54.104729523208725}, {\"y_rep\": 62.205366493285005}, {\"y_rep\": 42.33051277219992}, {\"y_rep\": 55.45271411029305}, {\"y_rep\": 56.837997209826625}, {\"y_rep\": 61.73550505148478}, {\"y_rep\": 31.063678884617236}, {\"y_rep\": 48.73107024072706}, {\"y_rep\": 55.45092864451375}, {\"y_rep\": 36.11264993880769}, {\"y_rep\": 45.698117600796316}, {\"y_rep\": 53.90875161792804}, {\"y_rep\": 57.1682491619977}, {\"y_rep\": 30.655789769135467}, {\"y_rep\": 56.615880034085826}, {\"y_rep\": 47.74735431387033}, {\"y_rep\": 51.404869068024425}, {\"y_rep\": 48.07439043968724}, {\"y_rep\": 57.28152850218619}, {\"y_rep\": 53.24915695656674}, {\"y_rep\": 27.891328065755587}, {\"y_rep\": 62.265343109907526}, {\"y_rep\": 53.78022623750329}, {\"y_rep\": 63.794669933070395}, {\"y_rep\": 60.627590550076484}, {\"y_rep\": 57.96283451259953}, {\"y_rep\": 58.9950270541034}, {\"y_rep\": 68.36486234829654}, {\"y_rep\": 54.80604311643405}, {\"y_rep\": 33.267082309715825}, {\"y_rep\": 50.58592682603682}, {\"y_rep\": 56.3388952589017}, {\"y_rep\": 67.2683178541207}, {\"y_rep\": 53.84864585758566}, {\"y_rep\": 59.058127639084205}, {\"y_rep\": 38.02699384600038}, {\"y_rep\": 54.90122348643267}, {\"y_rep\": 66.92502291685814}, {\"y_rep\": 40.724259853358944}, {\"y_rep\": 33.79872800124116}, {\"y_rep\": 48.637961920484486}, {\"y_rep\": 63.67553606307609}, {\"y_rep\": 66.36510098091517}, {\"y_rep\": 43.305159660183094}, {\"y_rep\": 64.54049497801807}, {\"y_rep\": 85.05498172202684}, {\"y_rep\": 62.03148984473534}, {\"y_rep\": 47.02167877156823}, {\"y_rep\": 69.77275214521381}, {\"y_rep\": 57.022076288502106}, {\"y_rep\": 50.88574998416124}, {\"y_rep\": 55.16022457569434}, {\"y_rep\": 53.09747875524568}, {\"y_rep\": 53.15462331507992}, {\"y_rep\": 53.03183149553093}, {\"y_rep\": 102.05742634401072}, {\"y_rep\": 56.082618238354584}, {\"y_rep\": 59.538731337957756}, {\"y_rep\": 54.4220966111175}, {\"y_rep\": 47.23046345868589}, {\"y_rep\": 43.924396342676175}, {\"y_rep\": 48.79143064556694}, {\"y_rep\": 50.351761206155835}, {\"y_rep\": 49.484538544714425}, {\"y_rep\": 43.400297898061886}, {\"y_rep\": 50.77543783853443}, {\"y_rep\": 45.441191149335765}, {\"y_rep\": 58.15474488606678}, {\"y_rep\": 42.191937345720774}, {\"y_rep\": 36.9112058603412}, {\"y_rep\": 59.79593529250563}, {\"y_rep\": 57.13113824656812}, {\"y_rep\": 37.02519668550996}, {\"y_rep\": 58.56457219282148}, {\"y_rep\": 49.00595504430838}, {\"y_rep\": 57.35996530396244}, {\"y_rep\": 62.38895653468143}, {\"y_rep\": 40.87334305886867}, {\"y_rep\": 68.62217936361745}, {\"y_rep\": 60.080875817387}, {\"y_rep\": 42.28357736718323}, {\"y_rep\": 46.76160650737386}, {\"y_rep\": 34.81145163877369}, {\"y_rep\": 67.46084403606795}, {\"y_rep\": 49.519490815929}, {\"y_rep\": 48.860781311190614}, {\"y_rep\": 25.76206738686799}, {\"y_rep\": 48.436349742945154}, {\"y_rep\": 62.9007181297583}, {\"y_rep\": 13.253682672256758}, {\"y_rep\": 30.748833403436}, {\"y_rep\": 42.87413479068416}, {\"y_rep\": 63.463280531643626}, {\"y_rep\": 45.792281089891404}, {\"y_rep\": 44.75986339343447}, {\"y_rep\": 53.15026773994312}, {\"y_rep\": 45.85575147058471}, {\"y_rep\": 42.87522996741935}, {\"y_rep\": 57.67723984980796}, {\"y_rep\": 45.41385223657497}, {\"y_rep\": 68.61254150072963}, {\"y_rep\": 36.833010615634464}, {\"y_rep\": 43.125104494162436}, {\"y_rep\": 64.24441839476182}, {\"y_rep\": 41.72315214316505}, {\"y_rep\": 46.36013900602589}, {\"y_rep\": 50.90900788352791}, {\"y_rep\": 49.579971703559465}, {\"y_rep\": 45.163246972354386}, {\"y_rep\": 61.56081655723621}, {\"y_rep\": 51.05207997587934}, {\"y_rep\": 49.984828365261976}, {\"y_rep\": 50.135105052280025}, {\"y_rep\": 44.733250728170766}, {\"y_rep\": 67.12594502225154}, {\"y_rep\": 48.6980556789418}, {\"y_rep\": 61.3198756987325}, {\"y_rep\": 69.8672255604522}, {\"y_rep\": 52.78448357734042}, {\"y_rep\": 52.08500943667433}, {\"y_rep\": 36.492193960248}, {\"y_rep\": 47.35558516193581}, {\"y_rep\": 60.09063890777421}, {\"y_rep\": 66.9962233144864}, {\"y_rep\": 39.44977297776651}, {\"y_rep\": 49.412774324064976}, {\"y_rep\": 53.04970128871125}, {\"y_rep\": 52.07122176314648}, {\"y_rep\": 65.82268905337935}, {\"y_rep\": 38.467024892897584}, {\"y_rep\": 49.23237242197244}, {\"y_rep\": 55.144837809681846}, {\"y_rep\": 54.5015958250481}, {\"y_rep\": 50.58306874232806}, {\"y_rep\": 60.52050291571628}, {\"y_rep\": 49.71741780732377}, {\"y_rep\": 60.718071587171664}, {\"y_rep\": 58.449774126982746}, {\"y_rep\": 60.90974167053291}, {\"y_rep\": 58.429468310473915}, {\"y_rep\": 60.33887757645901}, {\"y_rep\": 46.663403427431014}, {\"y_rep\": 47.508837924529615}, {\"y_rep\": 54.18326200131721}, {\"y_rep\": 62.46134935463887}, {\"y_rep\": -13.387978811994225}, {\"y_rep\": 61.670509501125935}, {\"y_rep\": 50.28315619503639}, {\"y_rep\": 49.06691567578928}, {\"y_rep\": 45.079700346370394}, {\"y_rep\": 46.32876256527551}, {\"y_rep\": 49.620573383622705}, {\"y_rep\": 38.17670483034864}, {\"y_rep\": 51.89258217311863}, {\"y_rep\": 14.32973200651348}, {\"y_rep\": 51.5343977895493}, {\"y_rep\": 61.41960823905094}, {\"y_rep\": 42.34473253139553}, {\"y_rep\": 40.47353233886315}, {\"y_rep\": 71.13355401694564}, {\"y_rep\": 54.41914904540489}, {\"y_rep\": 47.889058381357266}, {\"y_rep\": 50.06939690364255}, {\"y_rep\": 29.129911327928397}, {\"y_rep\": 5.577653253083646}, {\"y_rep\": 40.29914689934165}, {\"y_rep\": 55.96933849437606}, {\"y_rep\": 48.514286088420256}, {\"y_rep\": 53.25857475214714}, {\"y_rep\": 58.84114051027425}, {\"y_rep\": 52.59938192692055}, {\"y_rep\": 50.5381375550925}, {\"y_rep\": 36.842680075172545}, {\"y_rep\": 45.76536495754098}, {\"y_rep\": 53.75207918426971}, {\"y_rep\": 38.360823606037755}, {\"y_rep\": 21.993421122480363}, {\"y_rep\": 67.68457825289174}, {\"y_rep\": 62.30498857066098}, {\"y_rep\": 58.095359165303286}, {\"y_rep\": 50.43649054907158}, {\"y_rep\": 58.32519942756905}, {\"y_rep\": 58.634878462192205}, {\"y_rep\": 32.52118258296615}, {\"y_rep\": 41.86021106694409}, {\"y_rep\": 33.75089223137884}, {\"y_rep\": -1.6797057661186034}, {\"y_rep\": 51.21460648666623}, {\"y_rep\": 47.38978228728605}, {\"y_rep\": 51.54358799728219}, {\"y_rep\": 56.312147637287026}, {\"y_rep\": 50.49767306559788}, {\"y_rep\": 35.14534719501307}, {\"y_rep\": 44.094232463418585}, {\"y_rep\": 53.78897052187192}, {\"y_rep\": 42.057528627503196}, {\"y_rep\": 34.185916836474064}, {\"y_rep\": 56.903365989900244}, {\"y_rep\": 45.798520318020685}, {\"y_rep\": 40.06128279534785}, {\"y_rep\": 52.90531854689038}, {\"y_rep\": 63.83117255124391}, {\"y_rep\": 48.16297161489047}, {\"y_rep\": 49.27327928527027}, {\"y_rep\": 66.1427660756789}, {\"y_rep\": 60.01993756966968}, {\"y_rep\": 66.17552033177111}, {\"y_rep\": 60.25247180904915}, {\"y_rep\": 45.26362577553103}, {\"y_rep\": 58.8459897223596}, {\"y_rep\": 59.90902930873379}, {\"y_rep\": 65.47191545767298}, {\"y_rep\": -3.9440626728143346}, {\"y_rep\": 47.6756309117139}, {\"y_rep\": 73.0011052330165}, {\"y_rep\": 48.469085701477944}, {\"y_rep\": 58.2620590479927}, {\"y_rep\": 51.75382277652504}, {\"y_rep\": 54.204583432611855}, {\"y_rep\": 60.16169841120496}, {\"y_rep\": 56.9497760266371}, {\"y_rep\": 46.36872472173827}, {\"y_rep\": 53.659991778022814}, {\"y_rep\": 43.92335988166527}, {\"y_rep\": 41.716702983331906}, {\"y_rep\": 55.20764988141086}, {\"y_rep\": 20.294126427213868}, {\"y_rep\": 49.47754629423462}, {\"y_rep\": 49.19599978327472}, {\"y_rep\": 56.20520174523946}, {\"y_rep\": 46.860169584500284}, {\"y_rep\": 34.398833255338346}, {\"y_rep\": 42.66238483731545}, {\"y_rep\": 56.90556802712921}, {\"y_rep\": 45.764459006459894}, {\"y_rep\": 59.4134918230845}, {\"y_rep\": 66.36488035339241}, {\"y_rep\": 42.930844934940936}, {\"y_rep\": 72.62003524534589}, {\"y_rep\": 61.397649935675716}, {\"y_rep\": 47.02431645689196}, {\"y_rep\": 37.4111734984984}, {\"y_rep\": 53.91140072889484}, {\"y_rep\": 59.59791649058927}, {\"y_rep\": 68.1869591109808}, {\"y_rep\": 50.970009560052056}, {\"y_rep\": 56.94369286373594}, {\"y_rep\": 38.08337513514574}, {\"y_rep\": 58.56275340500703}, {\"y_rep\": 48.43653774523004}, {\"y_rep\": 56.36621337396704}, {\"y_rep\": 31.156757209954844}, {\"y_rep\": 35.2093460410458}, {\"y_rep\": 41.33413733569329}, {\"y_rep\": 36.70861080083263}, {\"y_rep\": 52.23815877079133}, {\"y_rep\": 57.996784518203576}, {\"y_rep\": 55.746829574032105}, {\"y_rep\": 43.922512006826466}, {\"y_rep\": 43.07269112942788}, {\"y_rep\": 46.614761616349696}, {\"y_rep\": 66.32914157954662}, {\"y_rep\": 62.23395197540912}, {\"y_rep\": 45.48898033407365}, {\"y_rep\": 42.55639459316235}, {\"y_rep\": 44.80490805631895}, {\"y_rep\": 34.06996187567084}, {\"y_rep\": 35.23625926136792}, {\"y_rep\": 68.92815472249282}, {\"y_rep\": 50.07074844741599}, {\"y_rep\": 35.240975996478895}, {\"y_rep\": 53.97350446431699}, {\"y_rep\": 37.74599376142726}, {\"y_rep\": 51.534824577274016}, {\"y_rep\": 51.50090556883423}, {\"y_rep\": 55.056869501011334}, {\"y_rep\": 53.299981116809015}, {\"y_rep\": 60.428123431549785}, {\"y_rep\": 41.7304330280101}, {\"y_rep\": 40.53708003980577}, {\"y_rep\": 5.439713743654884}, {\"y_rep\": 40.123442637822194}, {\"y_rep\": 63.01100831955442}, {\"y_rep\": 58.41053955014161}, {\"y_rep\": 58.82403438730793}, {\"y_rep\": 42.956457504184954}, {\"y_rep\": 44.26824330332815}, {\"y_rep\": 60.808761715833704}, {\"y_rep\": 51.91938445750954}, {\"y_rep\": 42.56117464884831}, {\"y_rep\": 52.593780503445956}, {\"y_rep\": 50.98473918853176}, {\"y_rep\": 34.14829017269266}, {\"y_rep\": 60.847938518707686}, {\"y_rep\": 44.80449901758783}, {\"y_rep\": 60.620453963754834}, {\"y_rep\": 53.46320245191824}, {\"y_rep\": 40.36340002872288}, {\"y_rep\": 69.53210599727757}, {\"y_rep\": 53.676437727816634}, {\"y_rep\": 40.458878449889546}, {\"y_rep\": 62.60390015679127}, {\"y_rep\": 59.23444855673928}, {\"y_rep\": 54.797422411468915}, {\"y_rep\": 45.28050760296214}, {\"y_rep\": 56.73691554890855}, {\"y_rep\": 31.91760080740779}, {\"y_rep\": 46.543513242493894}, {\"y_rep\": -17.75177324069213}, {\"y_rep\": 57.37760068599743}, {\"y_rep\": 42.06252983811056}, {\"y_rep\": 46.57648873477783}, {\"y_rep\": 60.856589782589474}, {\"y_rep\": 48.3438929148226}, {\"y_rep\": 69.14066943200706}, {\"y_rep\": 38.37298534579259}, {\"y_rep\": 56.108251669640914}, {\"y_rep\": 56.787545071465836}, {\"y_rep\": 65.96948924511427}, {\"y_rep\": 38.595336712710946}, {\"y_rep\": 57.666170984257434}, {\"y_rep\": 40.41690322255493}, {\"y_rep\": 48.65317895973625}, {\"y_rep\": 55.08082788462428}, {\"y_rep\": 59.413538680734476}, {\"y_rep\": 35.906242262318045}, {\"y_rep\": 43.72567252089811}, {\"y_rep\": 54.94044010216494}, {\"y_rep\": 55.69718820266331}, {\"y_rep\": 37.40461932247076}, {\"y_rep\": 48.60143238478999}, {\"y_rep\": 54.13869652380269}, {\"y_rep\": 48.642646180853625}, {\"y_rep\": 52.17672047765174}, {\"y_rep\": 55.61890407989049}, {\"y_rep\": 64.24446617225479}, {\"y_rep\": 40.20405045479098}, {\"y_rep\": 39.24805636478067}, {\"y_rep\": 51.3960855577846}, {\"y_rep\": 46.8500332248421}, {\"y_rep\": 62.939344587437255}, {\"y_rep\": 20.00959888537537}, {\"y_rep\": 58.82359571956559}, {\"y_rep\": 48.40031172183574}, {\"y_rep\": 58.237574673719784}, {\"y_rep\": 61.30047977036362}, {\"y_rep\": 61.58270960695959}, {\"y_rep\": 59.35160729238374}, {\"y_rep\": 60.893099719798926}, {\"y_rep\": 57.938219705639}, {\"y_rep\": 39.81102091779753}, {\"y_rep\": 52.29632195769054}, {\"y_rep\": 65.51405328426233}, {\"y_rep\": 61.16829316775059}, {\"y_rep\": 60.67380927570527}, {\"y_rep\": 50.697280407959816}, {\"y_rep\": 32.3014383478445}, {\"y_rep\": 51.39915332571323}, {\"y_rep\": 55.90688133428431}, {\"y_rep\": 59.97121668172754}, {\"y_rep\": 63.12276956209885}, {\"y_rep\": 33.87660785404802}, {\"y_rep\": 44.30942313865252}, {\"y_rep\": 64.37851649230531}, {\"y_rep\": 54.0125212995371}, {\"y_rep\": 59.6742189225374}, {\"y_rep\": 49.956087994761816}, {\"y_rep\": 52.29032118712454}, {\"y_rep\": 29.24736934353431}, {\"y_rep\": 38.99485465330467}, {\"y_rep\": 39.6423636694482}, {\"y_rep\": 53.44303798731567}, {\"y_rep\": 45.379608504216655}, {\"y_rep\": 60.01293642050835}, {\"y_rep\": 43.286461668422}, {\"y_rep\": 55.16084039672477}, {\"y_rep\": 68.50077555461384}, {\"y_rep\": 44.46792123745578}, {\"y_rep\": 53.34193637954194}, {\"y_rep\": 44.357185363165875}, {\"y_rep\": 54.11209628835429}, {\"y_rep\": 70.16021873498056}, {\"y_rep\": 58.76871508493051}, {\"y_rep\": 57.56906168804869}, {\"y_rep\": 56.01811408649438}, {\"y_rep\": 44.76918191735691}, {\"y_rep\": 34.66048799108398}, {\"y_rep\": 60.20759147056898}, {\"y_rep\": 45.82318297448914}, {\"y_rep\": 64.79831764833331}, {\"y_rep\": 62.16620089435969}, {\"y_rep\": 43.768546394962485}, {\"y_rep\": 57.134128596733234}, {\"y_rep\": 40.31777238018748}, {\"y_rep\": 59.657080839100836}, {\"y_rep\": 55.62787806191204}, {\"y_rep\": 57.30877812126161}, {\"y_rep\": 44.44575436434054}, {\"y_rep\": 58.775056248442425}, {\"y_rep\": 59.33257304076835}, {\"y_rep\": 61.754981285838504}, {\"y_rep\": 49.595108057918104}, {\"y_rep\": 55.818211092999675}, {\"y_rep\": 43.49602283481544}, {\"y_rep\": 63.11725214672836}, {\"y_rep\": 77.65062750383191}, {\"y_rep\": 51.396324009081}, {\"y_rep\": 69.3181963350536}, {\"y_rep\": 52.790423346961376}, {\"y_rep\": 59.580987131537675}, {\"y_rep\": 51.38936031327028}, {\"y_rep\": 59.87113205347867}, {\"y_rep\": 48.378522854230226}, {\"y_rep\": 65.23585655749129}, {\"y_rep\": 52.22425491701465}, {\"y_rep\": 60.79680750023745}, {\"y_rep\": 42.248891249636536}, {\"y_rep\": 53.408556163962615}, {\"y_rep\": 39.381097678216506}, {\"y_rep\": 45.85448244400075}, {\"y_rep\": 50.28388209258268}, {\"y_rep\": 63.21421919077957}, {\"y_rep\": 35.85204974548516}, {\"y_rep\": 60.1478606321314}, {\"y_rep\": 42.844215384390026}, {\"y_rep\": 55.26055871253625}, {\"y_rep\": 53.9356202194745}, {\"y_rep\": 54.32734466727069}, {\"y_rep\": 43.20393764361705}, {\"y_rep\": 59.03130413047257}, {\"y_rep\": 49.718758199049084}, {\"y_rep\": 45.421746461546874}, {\"y_rep\": 39.40938023528384}, {\"y_rep\": 49.25731360778552}, {\"y_rep\": 45.106678098533905}, {\"y_rep\": -20.153110825721285}, {\"y_rep\": 44.283373352072516}, {\"y_rep\": 56.423883966390015}, {\"y_rep\": 59.6461451242227}, {\"y_rep\": 63.786077117071066}, {\"y_rep\": 52.31041436374354}, {\"y_rep\": 60.80962510588132}, {\"y_rep\": 40.427212813819146}, {\"y_rep\": 43.78229761327748}, {\"y_rep\": 26.527476484939104}, {\"y_rep\": 49.91118198744911}, {\"y_rep\": 60.1561974234154}, {\"y_rep\": 32.677861590413556}, {\"y_rep\": 43.31527914704408}, {\"y_rep\": 55.979399067293166}, {\"y_rep\": 66.05894124953474}, {\"y_rep\": 32.210350315093336}, {\"y_rep\": 53.02291973112814}, {\"y_rep\": 46.529933162737}, {\"y_rep\": 59.92527192416238}, {\"y_rep\": 36.15761194104095}, {\"y_rep\": 54.263824890120276}, {\"y_rep\": 49.358506213644}, {\"y_rep\": 47.231294772345336}, {\"y_rep\": 63.85569409204368}, {\"y_rep\": 44.33593591435754}, {\"y_rep\": 58.10455109304574}, {\"y_rep\": 50.76221258525408}, {\"y_rep\": 76.52675529827425}, {\"y_rep\": 61.09541705577867}, {\"y_rep\": 50.7364539499479}, {\"y_rep\": 46.84725958544663}, {\"y_rep\": 53.96491900362037}, {\"y_rep\": 49.40040005671574}, {\"y_rep\": 53.85251252653433}, {\"y_rep\": 52.81387326122938}, {\"y_rep\": 49.87323517597429}, {\"y_rep\": 57.64071039767471}, {\"y_rep\": 24.414752927003665}, {\"y_rep\": 36.07458796800584}, {\"y_rep\": 52.31846428068159}, {\"y_rep\": 35.360066118119235}, {\"y_rep\": 49.87023211656437}, {\"y_rep\": 55.55827566986548}, {\"y_rep\": 62.878797170953504}, {\"y_rep\": 47.039343848737474}, {\"y_rep\": 52.60869344532103}, {\"y_rep\": 28.03970259470534}, {\"y_rep\": 50.15863351721272}, {\"y_rep\": 48.189603910854004}, {\"y_rep\": 53.5144247536603}, {\"y_rep\": 56.58498390415515}, {\"y_rep\": 40.21891423386465}, {\"y_rep\": 47.30169849543472}, {\"y_rep\": 33.27928839934349}, {\"y_rep\": 74.15042750362645}, {\"y_rep\": 45.652461170342704}, {\"y_rep\": 61.56857355970439}, {\"y_rep\": 50.45342382040321}, {\"y_rep\": 42.61003926054427}, {\"y_rep\": 47.38231212618956}, {\"y_rep\": 39.24092422808445}, {\"y_rep\": 62.49023348188957}, {\"y_rep\": 61.37701801128678}, {\"y_rep\": 53.234124478375115}, {\"y_rep\": 45.17257058795884}, {\"y_rep\": 48.8146421514094}, {\"y_rep\": 53.99436586458021}, {\"y_rep\": 44.13722007840255}, {\"y_rep\": 51.52960806363202}, {\"y_rep\": 52.55346116451208}, {\"y_rep\": 39.4091642607812}, {\"y_rep\": 37.07306947123827}, {\"y_rep\": 40.19559956835859}, {\"y_rep\": 42.28195153122385}, {\"y_rep\": 71.49258721345426}, {\"y_rep\": 54.13405915806082}, {\"y_rep\": 55.31573587594209}, {\"y_rep\": 43.65588763740282}, {\"y_rep\": 36.2759267228825}, {\"y_rep\": 33.37815528246467}, {\"y_rep\": 57.021534674343926}, {\"y_rep\": 53.59728503001189}, {\"y_rep\": 51.32715799422093}, {\"y_rep\": 40.1544343375004}, {\"y_rep\": 56.300219421394786}, {\"y_rep\": 57.98428441786143}, {\"y_rep\": 45.04285010474726}, {\"y_rep\": 55.92911650506314}, {\"y_rep\": 50.2720680893395}, {\"y_rep\": 56.53434768591599}, {\"y_rep\": 76.40298514957112}, {\"y_rep\": 31.30919622053224}, {\"y_rep\": 9.135424469397591}, {\"y_rep\": 54.38264934506681}, {\"y_rep\": 43.74906547930091}, {\"y_rep\": 43.13484273483759}, {\"y_rep\": 49.75928528324312}, {\"y_rep\": 66.17066456513083}, {\"y_rep\": 53.94866935857262}, {\"y_rep\": 49.03831025426623}, {\"y_rep\": 47.730341215090306}, {\"y_rep\": 29.43183014597246}, {\"y_rep\": 53.84482345567278}, {\"y_rep\": 48.13118535413285}, {\"y_rep\": 44.23865440512169}, {\"y_rep\": 52.92954020683555}, {\"y_rep\": 50.64740977635984}, {\"y_rep\": 49.67621602735113}, {\"y_rep\": 25.49749217438}, {\"y_rep\": 54.07195523297243}, {\"y_rep\": 38.75426770366266}, {\"y_rep\": 49.97073737430736}, {\"y_rep\": 59.471050708357765}, {\"y_rep\": 61.915020866413585}, {\"y_rep\": 63.75067499923686}, {\"y_rep\": 47.86663333125284}, {\"y_rep\": 49.29982150153184}, {\"y_rep\": 38.55530059616879}, {\"y_rep\": 39.6615739438145}, {\"y_rep\": 45.981427504065145}, {\"y_rep\": 33.64480035568655}, {\"y_rep\": 42.517591686856065}, {\"y_rep\": 19.616768938004107}, {\"y_rep\": 48.59491949987183}, {\"y_rep\": 50.8662146004268}, {\"y_rep\": 53.27988869680615}, {\"y_rep\": 50.30845486858094}, {\"y_rep\": 50.93326976924675}, {\"y_rep\": 58.01147154173515}, {\"y_rep\": 59.36988763949028}, {\"y_rep\": 48.57413211595119}, {\"y_rep\": 53.54872950127471}, {\"y_rep\": 63.64622760825497}, {\"y_rep\": 58.39723422838552}, {\"y_rep\": 51.789060230417896}, {\"y_rep\": 48.5917923895013}, {\"y_rep\": 45.75073857516069}, {\"y_rep\": 41.30239056575905}, {\"y_rep\": 71.62681626905302}, {\"y_rep\": 50.365715293088954}, {\"y_rep\": 54.83793209092934}, {\"y_rep\": 45.05875000757561}, {\"y_rep\": 46.32484575560492}, {\"y_rep\": 39.8104892810062}, {\"y_rep\": 48.34636339810708}, {\"y_rep\": 36.507336035714495}, {\"y_rep\": 38.52260998957129}, {\"y_rep\": 34.64402022574491}, {\"y_rep\": 63.5375706932212}, {\"y_rep\": 57.910308143877266}, {\"y_rep\": 47.09476939702425}, {\"y_rep\": 58.21774835330009}, {\"y_rep\": 39.74920170638488}, {\"y_rep\": 36.272590463353175}, {\"y_rep\": 41.51965192524661}, {\"y_rep\": 54.79981823797964}, {\"y_rep\": 57.222078046312085}, {\"y_rep\": 43.40786064428306}, {\"y_rep\": 55.19838386602823}, {\"y_rep\": 55.42730002341381}, {\"y_rep\": 41.94445952646506}, {\"y_rep\": 58.321069817924005}, {\"y_rep\": 58.77612699107526}, {\"y_rep\": 59.60834289558522}, {\"y_rep\": 52.565716980997436}, {\"y_rep\": 53.03897532914534}, {\"y_rep\": 58.143059544133635}, {\"y_rep\": 44.782927448420374}, {\"y_rep\": 43.466022248688006}, {\"y_rep\": 48.942574522751556}, {\"y_rep\": 43.38182935997589}, {\"y_rep\": 38.78713908688238}, {\"y_rep\": 51.019065647065496}, {\"y_rep\": 45.939929886363544}, {\"y_rep\": 66.5634761122018}, {\"y_rep\": 59.84559390546627}, {\"y_rep\": 68.63409218982461}, {\"y_rep\": 64.31850570389591}, {\"y_rep\": 48.346580170102115}, {\"y_rep\": 36.82292300515891}, {\"y_rep\": 33.491985696628234}, {\"y_rep\": 46.72336446900158}, {\"y_rep\": 46.80867548512643}, {\"y_rep\": 75.97905101437142}, {\"y_rep\": 63.25374369642882}, {\"y_rep\": 62.56405489253848}, {\"y_rep\": 56.06629368472444}, {\"y_rep\": 54.58597699296989}, {\"y_rep\": 52.66728825789359}, {\"y_rep\": 59.73018124969763}, {\"y_rep\": 56.78172745213702}, {\"y_rep\": 34.992631110254024}, {\"y_rep\": 49.89420435681179}, {\"y_rep\": 47.24227664388801}, {\"y_rep\": 55.023303320418826}, {\"y_rep\": 54.936074678226035}, {\"y_rep\": 55.27903507761196}, {\"y_rep\": 50.78736218542162}, {\"y_rep\": 46.16511230437027}, {\"y_rep\": 39.90481237866659}, {\"y_rep\": 64.75083557912991}, {\"y_rep\": 55.446790908444186}, {\"y_rep\": 54.751982901325405}, {\"y_rep\": 39.58305700744269}, {\"y_rep\": 48.37778781547754}, {\"y_rep\": 48.81534032129484}, {\"y_rep\": 33.404249968931126}, {\"y_rep\": 52.2424977144983}, {\"y_rep\": 44.05469158100389}, {\"y_rep\": 58.7667005832367}, {\"y_rep\": 56.735739249773516}, {\"y_rep\": 0.3682893953770674}, {\"y_rep\": 66.16730962555035}, {\"y_rep\": 64.54191333518065}, {\"y_rep\": 51.308759535135245}, {\"y_rep\": 41.681971915554435}, {\"y_rep\": 60.475712900928556}, {\"y_rep\": 48.90336637547594}, {\"y_rep\": 48.87510417299791}, {\"y_rep\": 57.170028775019844}, {\"y_rep\": 32.306085859949164}, {\"y_rep\": 47.59914173772295}, {\"y_rep\": 49.94965860217203}, {\"y_rep\": 52.59052557129949}, {\"y_rep\": 39.98619559098606}, {\"y_rep\": 69.60323053912013}, {\"y_rep\": 60.07469068865079}, {\"y_rep\": 45.270242117792094}, {\"y_rep\": 72.18544900300911}, {\"y_rep\": 67.82317219241742}, {\"y_rep\": 58.087552478856225}, {\"y_rep\": 44.106391006379496}, {\"y_rep\": 49.03656338714571}, {\"y_rep\": 50.149449061237036}, {\"y_rep\": 49.82035560448407}, {\"y_rep\": 41.35570650727041}, {\"y_rep\": 63.20568317205794}, {\"y_rep\": 68.19962778348123}, {\"y_rep\": 60.09079412603965}, {\"y_rep\": 52.34175394534369}, {\"y_rep\": 40.45326091914238}, {\"y_rep\": 43.19237081555582}, {\"y_rep\": 52.22053438623898}, {\"y_rep\": 67.15692534403107}, {\"y_rep\": 55.99184536391932}, {\"y_rep\": 59.9388915718805}, {\"y_rep\": 37.302457311352285}, {\"y_rep\": 46.02864827442391}, {\"y_rep\": 36.68889783382352}, {\"y_rep\": 37.65972314224696}, {\"y_rep\": 60.39801476769878}, {\"y_rep\": 53.053038440126066}, {\"y_rep\": 70.97088959910343}, {\"y_rep\": 50.24353801081825}, {\"y_rep\": 59.423886357656336}, {\"y_rep\": 44.134558038229805}, {\"y_rep\": 51.61752498056221}, {\"y_rep\": 63.966026203678936}, {\"y_rep\": 50.23341070557236}, {\"y_rep\": 38.735093282798985}, {\"y_rep\": 41.7590423949621}, {\"y_rep\": 50.27213648047548}, {\"y_rep\": 55.08418443053765}, {\"y_rep\": 52.63012235135886}, {\"y_rep\": 25.191498897792293}, {\"y_rep\": 34.00752279262299}, {\"y_rep\": 73.51419800442048}, {\"y_rep\": 60.861231659721334}, {\"y_rep\": 65.62283535808629}, {\"y_rep\": 29.72466621160369}, {\"y_rep\": 55.87163658575333}, {\"y_rep\": 46.39555912339411}, {\"y_rep\": 49.316097975431894}, {\"y_rep\": 42.87066867180106}, {\"y_rep\": 45.19700660324797}, {\"y_rep\": 51.50039298159651}, {\"y_rep\": 52.68415117405823}, {\"y_rep\": 40.01943753700762}, {\"y_rep\": 69.60777318535192}, {\"y_rep\": 42.416249650837095}, {\"y_rep\": 48.30310080094448}, {\"y_rep\": 71.33582357033481}, {\"y_rep\": 52.324293254278345}, {\"y_rep\": 51.95211192793719}, {\"y_rep\": 52.15937320485764}, {\"y_rep\": 27.712600331551428}, {\"y_rep\": 57.19713460187624}, {\"y_rep\": 41.74972780871754}, {\"y_rep\": 39.10230400009036}, {\"y_rep\": 52.98828712363146}, {\"y_rep\": 49.36769657369187}, {\"y_rep\": 55.44131089916834}, {\"y_rep\": 53.20924124433749}, {\"y_rep\": 42.576451276539046}, {\"y_rep\": 59.97498481107523}, {\"y_rep\": 38.25310041895813}, {\"y_rep\": 32.49922090156722}, {\"y_rep\": 42.238138415849605}, {\"y_rep\": 54.31595875794612}, {\"y_rep\": 55.05640833295821}, {\"y_rep\": 48.42942092512088}, {\"y_rep\": 57.296757436383224}, {\"y_rep\": 55.23737273577509}, {\"y_rep\": 55.45634871261011}, {\"y_rep\": 50.55651133057427}, {\"y_rep\": 48.479044594957706}, {\"y_rep\": 35.46060072093805}, {\"y_rep\": 46.74190817283943}, {\"y_rep\": 37.34348983649679}, {\"y_rep\": 50.76487852682356}, {\"y_rep\": 57.563100204856646}, {\"y_rep\": 53.74166591056996}, {\"y_rep\": 49.03693153686712}, {\"y_rep\": 45.07416044112675}, {\"y_rep\": 56.069102007670814}, {\"y_rep\": 67.19098665436297}, {\"y_rep\": 51.71727944794065}, {\"y_rep\": 58.266578101196146}, {\"y_rep\": 53.00083014451486}, {\"y_rep\": 46.891807602891916}, {\"y_rep\": 48.11479575267702}, {\"y_rep\": 56.22650791121691}, {\"y_rep\": 48.848435611185266}, {\"y_rep\": 40.36299465549783}, {\"y_rep\": 49.90330300322716}, {\"y_rep\": 54.803556681777}, {\"y_rep\": 55.1865305848384}, {\"y_rep\": 54.759471192636695}, {\"y_rep\": 51.77657965997855}, {\"y_rep\": 52.25692637023453}, {\"y_rep\": 37.63534005561539}, {\"y_rep\": 51.15174832816733}, {\"y_rep\": 51.16812044375417}, {\"y_rep\": 49.98532147566194}, {\"y_rep\": -16.2308071273653}, {\"y_rep\": 66.1945921423495}, {\"y_rep\": 55.711285566820045}, {\"y_rep\": 45.74986416036257}, {\"y_rep\": 56.27083105221392}, {\"y_rep\": 35.916245969917426}, {\"y_rep\": 57.105236429446194}, {\"y_rep\": 5.175044917618866}, {\"y_rep\": 41.67156848699529}, {\"y_rep\": 44.252051101176676}, {\"y_rep\": 42.39597709999302}, {\"y_rep\": 47.53105452886238}, {\"y_rep\": 52.545479178110746}, {\"y_rep\": 44.3440566919208}, {\"y_rep\": 57.700351814713166}, {\"y_rep\": 54.61484818121162}, {\"y_rep\": 52.494556878287916}, {\"y_rep\": 62.09938428395771}, {\"y_rep\": 61.67115383148304}, {\"y_rep\": 49.88232180281083}, {\"y_rep\": 47.49455145711384}, {\"y_rep\": 55.39927459143857}, {\"y_rep\": 51.013356819320826}, {\"y_rep\": 57.868045816728824}, {\"y_rep\": 61.98577495607523}, {\"y_rep\": 66.80075992203322}, {\"y_rep\": 41.1106409464872}, {\"y_rep\": 43.363935727421705}, {\"y_rep\": 42.869486406913886}, {\"y_rep\": 67.68845796467761}, {\"y_rep\": 43.04442797764875}, {\"y_rep\": 46.2123840669216}, {\"y_rep\": 50.204839419496956}, {\"y_rep\": 54.783206674301205}, {\"y_rep\": 27.79888969785697}, {\"y_rep\": 52.345052515731595}, {\"y_rep\": 53.32670941333775}, {\"y_rep\": 52.089982479281225}, {\"y_rep\": 48.4776759111484}, {\"y_rep\": 34.48365896889064}, {\"y_rep\": 44.45657983981293}, {\"y_rep\": 70.36603729897709}, {\"y_rep\": 57.238479154283574}, {\"y_rep\": 41.769475078173286}, {\"y_rep\": 52.657428561265235}, {\"y_rep\": 42.28446836137772}, {\"y_rep\": 64.60010157354276}, {\"y_rep\": 31.8636270445392}, {\"y_rep\": 69.73407089424795}, {\"y_rep\": 41.419671323935496}, {\"y_rep\": 39.58342370675218}, {\"y_rep\": 43.24862617731063}, {\"y_rep\": 54.85275013008415}, {\"y_rep\": 51.41629729272256}, {\"y_rep\": 44.66458000464384}, {\"y_rep\": 54.95904875637372}, {\"y_rep\": 44.667269065755704}, {\"y_rep\": 64.57391579164248}, {\"y_rep\": 68.43020706605225}, {\"y_rep\": 51.30918734033395}, {\"y_rep\": 59.716800875391336}, {\"y_rep\": 38.856595428442546}, {\"y_rep\": 55.25010048768195}, {\"y_rep\": 65.52059377554654}, {\"y_rep\": 39.724436803943256}, {\"y_rep\": 49.9213903620983}, {\"y_rep\": 47.121762051367654}, {\"y_rep\": 54.110478773673265}, {\"y_rep\": 33.484673950251235}, {\"y_rep\": 58.82496451822267}, {\"y_rep\": 55.81476978237641}, {\"y_rep\": 59.82153678501269}, {\"y_rep\": 58.213611862685894}, {\"y_rep\": 54.27860753376126}, {\"y_rep\": 59.03357710556013}, {\"y_rep\": 54.99242889291575}, {\"y_rep\": 43.0704280657849}, {\"y_rep\": 49.02967541823515}, {\"y_rep\": 48.58897273466088}, {\"y_rep\": 56.31164607250338}, {\"y_rep\": 53.018461630995795}, {\"y_rep\": 42.065358690436454}, {\"y_rep\": 49.31826706609355}, {\"y_rep\": 62.02011949660509}, {\"y_rep\": 64.0178578626734}, {\"y_rep\": 43.561400075947596}, {\"y_rep\": 40.33732070502442}, {\"y_rep\": 41.620097814019765}, {\"y_rep\": 37.420303190126354}, {\"y_rep\": 60.57747146946836}, {\"y_rep\": 49.47378987323069}, {\"y_rep\": 60.357091685204956}, {\"y_rep\": 41.05812187121579}, {\"y_rep\": 36.09671485484243}, {\"y_rep\": 67.22070153793825}, {\"y_rep\": 52.60744489960777}, {\"y_rep\": 62.2596763149145}, {\"y_rep\": 43.182950278647844}, {\"y_rep\": 35.81443678689551}, {\"y_rep\": 62.523209762109786}, {\"y_rep\": 51.714470618547175}, {\"y_rep\": 64.43549348095254}, {\"y_rep\": 46.59345252732307}, {\"y_rep\": 4.378312783730273}, {\"y_rep\": 60.13765235327385}, {\"y_rep\": 59.518809336843}, {\"y_rep\": 61.877859043842186}, {\"y_rep\": 47.174824334242686}, {\"y_rep\": 59.242805053640936}, {\"y_rep\": 31.05546191281212}, {\"y_rep\": 47.29759964852035}, {\"y_rep\": 61.32153656885959}, {\"y_rep\": 38.87993234636658}, {\"y_rep\": 58.75245902455603}, {\"y_rep\": 45.91692769136418}, {\"y_rep\": 60.92010440153855}, {\"y_rep\": 62.51078757470519}, {\"y_rep\": 48.75191554926316}, {\"y_rep\": 52.51423564314919}, {\"y_rep\": 46.95755974584458}, {\"y_rep\": 67.86840475302206}, {\"y_rep\": 63.26234947739479}, {\"y_rep\": 64.18550327443153}, {\"y_rep\": 39.621712161610034}, {\"y_rep\": 51.72586517597311}, {\"y_rep\": -3.9958735946856754}, {\"y_rep\": 59.46492519639777}, {\"y_rep\": 46.78217805070909}, {\"y_rep\": 67.81355602960724}, {\"y_rep\": 49.553905058157795}, {\"y_rep\": 52.287105837313135}, {\"y_rep\": 41.39752757774063}, {\"y_rep\": 40.03602244059756}, {\"y_rep\": 45.06611764562795}, {\"y_rep\": 55.18825558089031}, {\"y_rep\": 60.667763165766075}, {\"y_rep\": 74.56831028619361}, {\"y_rep\": 45.80808098191059}, {\"y_rep\": 3.2084982852616677}, {\"y_rep\": 48.60334025857297}, {\"y_rep\": 27.789711247281907}, {\"y_rep\": 70.95963195376336}, {\"y_rep\": 54.944558206620115}, {\"y_rep\": 58.90883279227859}, {\"y_rep\": 49.660812575804954}, {\"y_rep\": 52.67696043570086}, {\"y_rep\": 57.00741428986192}, {\"y_rep\": 46.16675949359656}, {\"y_rep\": 55.22298637385724}, {\"y_rep\": 47.2267029845996}, {\"y_rep\": 68.14733730409037}, {\"y_rep\": 38.22446497438129}, {\"y_rep\": 25.671655105786428}, {\"y_rep\": 46.56682014609583}, {\"y_rep\": 22.984224898430448}, {\"y_rep\": 69.33788906964033}, {\"y_rep\": 57.22549438903579}, {\"y_rep\": 54.096146120701626}, {\"y_rep\": 41.76850773922709}, {\"y_rep\": 50.578318372394826}, {\"y_rep\": 57.845189650703574}, {\"y_rep\": 50.713724504096895}, {\"y_rep\": 47.56727713337554}, {\"y_rep\": 33.68535836281407}, {\"y_rep\": 40.05627411706165}, {\"y_rep\": 25.02340633018485}, {\"y_rep\": 46.94159206760432}, {\"y_rep\": 61.61028725463045}, {\"y_rep\": 47.836082211531064}, {\"y_rep\": 52.99202597017111}, {\"y_rep\": 41.82854613013224}, {\"y_rep\": 49.61591663623053}, {\"y_rep\": 66.42971452418008}, {\"y_rep\": 51.820022816851534}, {\"y_rep\": 50.12081607620496}, {\"y_rep\": 54.99370827088787}, {\"y_rep\": 62.68231803239256}, {\"y_rep\": 51.194974138992414}, {\"y_rep\": 33.70266223447459}, {\"y_rep\": 53.895909887468214}, {\"y_rep\": 56.04106994670086}, {\"y_rep\": 50.589253727837786}, {\"y_rep\": 39.660611205257126}, {\"y_rep\": 43.996365087595976}, {\"y_rep\": 73.0073275571468}, {\"y_rep\": 44.526986738874925}, {\"y_rep\": 53.541971156323285}, {\"y_rep\": 58.670227105680745}, {\"y_rep\": 64.11914427160293}, {\"y_rep\": 47.52771654669914}, {\"y_rep\": 44.628376085727716}, {\"y_rep\": 46.026935754017174}, {\"y_rep\": 66.62685283523551}, {\"y_rep\": 62.69528055343564}, {\"y_rep\": 50.74445079324083}, {\"y_rep\": 60.98360415265552}, {\"y_rep\": 39.257556678269225}, {\"y_rep\": 47.02685735461861}, {\"y_rep\": 50.297804981221944}, {\"y_rep\": 42.50075518269204}, {\"y_rep\": 46.024292634937645}, {\"y_rep\": 65.65482436128636}, {\"y_rep\": 41.579474518733456}, {\"y_rep\": 63.016736719227865}, {\"y_rep\": 38.71167671735792}, {\"y_rep\": 46.96121485605783}, {\"y_rep\": 59.0700762767091}, {\"y_rep\": 48.51422562975377}, {\"y_rep\": 39.70745884649833}, {\"y_rep\": 6.182231138830984}, {\"y_rep\": 50.992108163385474}, {\"y_rep\": 49.139918978070114}, {\"y_rep\": 44.819879207474266}, {\"y_rep\": 63.961395223919936}, {\"y_rep\": 60.89921256627344}, {\"y_rep\": 54.22408950349388}, {\"y_rep\": 45.81314291760332}, {\"y_rep\": 46.055265170388346}, {\"y_rep\": 71.01246156530704}, {\"y_rep\": 64.71370577788699}, {\"y_rep\": 56.646141221728726}, {\"y_rep\": 46.1878505359724}, {\"y_rep\": 51.01663318658817}, {\"y_rep\": 49.27591275370218}, {\"y_rep\": 42.595459748784954}, {\"y_rep\": 53.761232228660184}, {\"y_rep\": 46.2291492085009}, {\"y_rep\": 52.279701971245295}, {\"y_rep\": 49.09859812618017}, {\"y_rep\": 59.36706096498119}, {\"y_rep\": 39.32226508081757}, {\"y_rep\": 22.49235059323597}, {\"y_rep\": 52.482628207096944}, {\"y_rep\": 56.93468719333374}, {\"y_rep\": 56.35635005503193}, {\"y_rep\": 44.68178133254396}, {\"y_rep\": 65.51882716059256}, {\"y_rep\": 60.23799795319948}, {\"y_rep\": 50.35305882558712}, {\"y_rep\": 54.493666477009334}, {\"y_rep\": 48.41157034595419}, {\"y_rep\": 70.3524662696511}, {\"y_rep\": 51.31205441536872}, {\"y_rep\": 66.4539177779239}, {\"y_rep\": 54.02477923476965}, {\"y_rep\": 29.475410666345116}, {\"y_rep\": 36.35373051443251}, {\"y_rep\": 44.01812633050594}, {\"y_rep\": 36.593034370501826}, {\"y_rep\": 47.549057016147685}, {\"y_rep\": 56.650495455754424}, {\"y_rep\": 46.57071277977944}, {\"y_rep\": 37.21432263763982}, {\"y_rep\": 46.29091191905092}, {\"y_rep\": 36.5198757934374}, {\"y_rep\": 49.8182139304643}, {\"y_rep\": 69.30946784191761}, {\"y_rep\": 42.85297749379192}, {\"y_rep\": 49.87277865635831}, {\"y_rep\": 59.90725105130626}, {\"y_rep\": 39.196642396631}, {\"y_rep\": 48.32278220869266}, {\"y_rep\": 59.26260684102693}, {\"y_rep\": 45.85967114636528}, {\"y_rep\": 62.57324784357191}, {\"y_rep\": 49.36998904938301}, {\"y_rep\": 40.831590849599245}, {\"y_rep\": 51.270736194589226}, {\"y_rep\": 49.75240611086993}, {\"y_rep\": 37.33021823369556}, {\"y_rep\": 47.113028953557574}, {\"y_rep\": 52.21005658212691}, {\"y_rep\": 35.86703822840696}, {\"y_rep\": 50.434766505465994}, {\"y_rep\": 44.27436242101399}, {\"y_rep\": 42.234225524312635}, {\"y_rep\": 49.92731910317374}, {\"y_rep\": 41.52077562782546}, {\"y_rep\": 38.23518551876609}, {\"y_rep\": 46.39744727888671}, {\"y_rep\": 59.45717416723925}, {\"y_rep\": 54.226555190679036}, {\"y_rep\": 46.696996594744355}, {\"y_rep\": 43.410162975007616}, {\"y_rep\": 48.204567065381426}, {\"y_rep\": 47.23133732683733}, {\"y_rep\": 62.93350513889443}, {\"y_rep\": 42.23785213452269}, {\"y_rep\": 33.44822697055692}, {\"y_rep\": 49.52991324127848}, {\"y_rep\": 42.99964519746632}, {\"y_rep\": 62.51596885723572}, {\"y_rep\": 53.481892694680006}, {\"y_rep\": 62.74171222427125}, {\"y_rep\": 48.25517057205773}, {\"y_rep\": 59.42243126063151}, {\"y_rep\": 54.93858053420061}, {\"y_rep\": 53.65905269762029}, {\"y_rep\": 50.556000496276276}, {\"y_rep\": 43.47870343700001}, {\"y_rep\": 53.45982734097815}, {\"y_rep\": 36.256537415388095}, {\"y_rep\": 40.520537741937126}, {\"y_rep\": 50.9174315995461}, {\"y_rep\": 44.02056605041879}, {\"y_rep\": 58.22628953650614}, {\"y_rep\": 55.14081659170978}, {\"y_rep\": 37.443355629159}, {\"y_rep\": 45.75131537174752}, {\"y_rep\": 42.52771516389131}, {\"y_rep\": 42.9834638232318}, {\"y_rep\": 70.81318442039947}, {\"y_rep\": 52.6992501318411}, {\"y_rep\": 46.962945206598285}, {\"y_rep\": 42.62742367289094}, {\"y_rep\": 35.40173281389981}, {\"y_rep\": 58.61983785662007}, {\"y_rep\": 33.72466881867666}, {\"y_rep\": 44.66970862849872}, {\"y_rep\": 47.24527062832384}, {\"y_rep\": 49.53050388984755}, {\"y_rep\": 45.311904055657735}, {\"y_rep\": 48.602566246304015}, {\"y_rep\": 61.66629085529463}, {\"y_rep\": 21.80436146827056}, {\"y_rep\": 48.33950663376166}, {\"y_rep\": 51.28386985456457}, {\"y_rep\": 48.62373774062772}, {\"y_rep\": 59.53693749649916}, {\"y_rep\": 50.523336611696095}, {\"y_rep\": 40.33062148241885}, {\"y_rep\": 56.22770730343652}, {\"y_rep\": 44.2725004136139}, {\"y_rep\": 47.23659059675085}, {\"y_rep\": 47.848462042010475}, {\"y_rep\": 56.63992292523233}, {\"y_rep\": 55.75543354230445}, {\"y_rep\": 43.24202371455418}, {\"y_rep\": 60.41848714066844}, {\"y_rep\": 37.14402816444426}, {\"y_rep\": 53.27718818075051}, {\"y_rep\": 42.75228019831796}, {\"y_rep\": 43.40169365158752}, {\"y_rep\": 59.158140192981215}, {\"y_rep\": 55.09424749130152}, {\"y_rep\": 61.65281082685415}, {\"y_rep\": 63.78271516361113}, {\"y_rep\": 41.20583573562765}, {\"y_rep\": 85.69433297640481}, {\"y_rep\": 60.32443364890801}, {\"y_rep\": 45.80340825937901}, {\"y_rep\": 49.891563476226416}, {\"y_rep\": 58.24861318266964}, {\"y_rep\": 45.3772674531387}, {\"y_rep\": 38.31000970744921}, {\"y_rep\": 38.20710763355021}, {\"y_rep\": 54.22993306397874}, {\"y_rep\": 47.81739167584057}, {\"y_rep\": 34.64798737200445}, {\"y_rep\": 37.95228059609808}, {\"y_rep\": 44.44036661418661}, {\"y_rep\": 52.97667620334941}, {\"y_rep\": 45.57276770189902}, {\"y_rep\": 23.881817582696957}, {\"y_rep\": 53.7876729414756}, {\"y_rep\": 56.83902513248443}, {\"y_rep\": 63.94545341026977}, {\"y_rep\": 45.33475772105594}, {\"y_rep\": 36.91631321258994}, {\"y_rep\": 55.651044364500706}, {\"y_rep\": 46.32331755024903}, {\"y_rep\": 51.72710596431055}, {\"y_rep\": 56.58303604779859}, {\"y_rep\": 72.05938913926371}, {\"y_rep\": 49.851805662287596}, {\"y_rep\": 52.79495865320568}, {\"y_rep\": 46.097536170124606}, {\"y_rep\": 62.335153273846785}, {\"y_rep\": 44.14547330355732}, {\"y_rep\": 44.95569922507134}, {\"y_rep\": 54.38181474505899}, {\"y_rep\": 51.40068995650005}, {\"y_rep\": 61.061414893938746}, {\"y_rep\": 43.7832207887523}, {\"y_rep\": 48.28152897574425}, {\"y_rep\": 47.78930816023174}, {\"y_rep\": 37.28782174918773}, {\"y_rep\": 61.140042027298506}, {\"y_rep\": 49.569790584673264}, {\"y_rep\": 53.710081257683186}, {\"y_rep\": 58.962362917421956}, {\"y_rep\": 41.73457142507851}, {\"y_rep\": 53.16066857615087}, {\"y_rep\": 38.06555657393367}, {\"y_rep\": 50.80629750505314}, {\"y_rep\": 59.690559495049534}, {\"y_rep\": 66.50484559250913}, {\"y_rep\": 55.91905267166615}, {\"y_rep\": 42.674386647744086}, {\"y_rep\": 61.44004063208153}, {\"y_rep\": 70.4513179658583}, {\"y_rep\": 36.71713670101257}, {\"y_rep\": 51.688088349216805}, {\"y_rep\": 75.28216904776862}, {\"y_rep\": 54.146688481114225}, {\"y_rep\": 41.835793364851426}, {\"y_rep\": 59.078212492402294}, {\"y_rep\": 56.45581273423325}, {\"y_rep\": 61.04962581567152}, {\"y_rep\": 26.660674672749135}, {\"y_rep\": 55.093968975289535}, {\"y_rep\": 52.594564488966675}, {\"y_rep\": 47.85816699777863}, {\"y_rep\": 52.26087200657132}, {\"y_rep\": 54.6255090374917}, {\"y_rep\": 67.91073940294908}, {\"y_rep\": 45.9731299197869}, {\"y_rep\": 38.102169090693835}, {\"y_rep\": 45.88423368153698}, {\"y_rep\": 34.929095700484126}, {\"y_rep\": 30.39025427900676}, {\"y_rep\": 45.40233933908074}, {\"y_rep\": 36.35035350470079}, {\"y_rep\": 45.15397250070157}, {\"y_rep\": 46.734029827055636}, {\"y_rep\": 54.354273764729264}, {\"y_rep\": 61.2599500626048}, {\"y_rep\": 49.446814195887725}, {\"y_rep\": 46.377030207900724}, {\"y_rep\": 49.98949808241737}, {\"y_rep\": 62.498821159384285}, {\"y_rep\": 46.94336578151054}, {\"y_rep\": 50.36032635050062}, {\"y_rep\": 44.33199528533431}, {\"y_rep\": 68.53293024821365}, {\"y_rep\": 67.93952851317624}, {\"y_rep\": 49.31662082254287}, {\"y_rep\": 53.86662359432649}, {\"y_rep\": 58.08273077340992}, {\"y_rep\": 42.14829128841488}, {\"y_rep\": 48.442714487938844}, {\"y_rep\": 60.05424772445906}, {\"y_rep\": 68.53685296128656}, {\"y_rep\": 56.539673346678995}, {\"y_rep\": 63.641436401141966}, {\"y_rep\": 45.53402877632026}, {\"y_rep\": 50.95913835577352}, {\"y_rep\": 57.22513139406749}, {\"y_rep\": 17.84368046438582}, {\"y_rep\": 48.49843821767204}, {\"y_rep\": 53.9277596673132}, {\"y_rep\": 51.18324736520791}, {\"y_rep\": 47.89047694171101}, {\"y_rep\": 52.11246736767499}, {\"y_rep\": 48.58506491366657}, {\"y_rep\": 48.50026628360393}, {\"y_rep\": 43.802836594281416}, {\"y_rep\": 69.88563667983908}, {\"y_rep\": 50.20894415749846}, {\"y_rep\": 24.556673348977853}, {\"y_rep\": 42.14489265794444}, {\"y_rep\": 43.86973267067216}, {\"y_rep\": 52.003883579890854}, {\"y_rep\": 64.85514082912766}, {\"y_rep\": 46.51967823356179}, {\"y_rep\": 65.52168065145442}, {\"y_rep\": 44.65433373590035}, {\"y_rep\": 44.95191387435231}, {\"y_rep\": 34.087484152497375}, {\"y_rep\": 46.894665925882826}, {\"y_rep\": 40.01037851211929}, {\"y_rep\": 59.89031219410287}, {\"y_rep\": 54.80732545389449}, {\"y_rep\": 41.04788581216962}, {\"y_rep\": 65.91786644355223}, {\"y_rep\": 50.15227651741472}, {\"y_rep\": 58.055287966896515}, {\"y_rep\": 42.21138806552933}, {\"y_rep\": 38.32701257784042}, {\"y_rep\": 52.08932382995148}, {\"y_rep\": 59.26704059634615}, {\"y_rep\": 51.48258911059361}, {\"y_rep\": 48.70861398968068}, {\"y_rep\": 63.972946548807506}, {\"y_rep\": 48.52584850435022}, {\"y_rep\": 50.25978475578489}, {\"y_rep\": 70.80890740207322}, {\"y_rep\": 39.493020310266736}, {\"y_rep\": 31.769899307335447}, {\"y_rep\": 20.511972907225754}, {\"y_rep\": 56.623928170798}, {\"y_rep\": 57.548914668588324}, {\"y_rep\": 56.22792271942842}, {\"y_rep\": 57.185636996289574}, {\"y_rep\": 46.763050910228145}, {\"y_rep\": 69.91647657625231}, {\"y_rep\": 50.35047573943968}, {\"y_rep\": 48.438716102154096}, {\"y_rep\": 52.64302852213124}, {\"y_rep\": 50.890978137216635}, {\"y_rep\": 49.80708027958305}, {\"y_rep\": 38.15015624791882}, {\"y_rep\": 36.12342450801657}, {\"y_rep\": 50.17001970821852}, {\"y_rep\": 50.93068681052239}, {\"y_rep\": 45.73483707042714}, {\"y_rep\": 49.420273895578}, {\"y_rep\": 55.185181567584934}, {\"y_rep\": 55.47226742107066}, {\"y_rep\": 37.286217328628865}, {\"y_rep\": 39.847576975039665}, {\"y_rep\": 65.19512299235997}, {\"y_rep\": 42.6157208521883}, {\"y_rep\": 53.36506311165879}, {\"y_rep\": 45.74502694962919}, {\"y_rep\": 45.944781818592986}, {\"y_rep\": 58.327465977559676}, {\"y_rep\": 60.13743659736751}, {\"y_rep\": 45.56234655327803}, {\"y_rep\": 39.64544417812484}, {\"y_rep\": 57.82908587421076}, {\"y_rep\": 34.88576933188125}, {\"y_rep\": 35.53550786646181}, {\"y_rep\": 55.523032870484556}, {\"y_rep\": 56.31044744909324}, {\"y_rep\": 36.770813106682525}, {\"y_rep\": 54.81315515048953}, {\"y_rep\": 54.519256746747814}, {\"y_rep\": 48.13809024796893}, {\"y_rep\": 59.190131283578765}, {\"y_rep\": 40.81371156412951}, {\"y_rep\": 63.51137311391156}, {\"y_rep\": 56.114332637555314}, {\"y_rep\": 63.798037128866}, {\"y_rep\": 59.44774963662782}, {\"y_rep\": 50.911258631453286}, {\"y_rep\": 72.60108378432794}, {\"y_rep\": 29.552981404927372}, {\"y_rep\": 57.232303752789484}, {\"y_rep\": 68.18792942930632}, {\"y_rep\": 44.16327615895325}, {\"y_rep\": 46.57832533539222}, {\"y_rep\": 43.6615602425511}, {\"y_rep\": 49.68921852468798}, {\"y_rep\": 57.99540738619283}, {\"y_rep\": 30.95146432386474}, {\"y_rep\": 53.222102488999205}, {\"y_rep\": 55.39026356881592}, {\"y_rep\": 59.354628156443255}, {\"y_rep\": 50.306244453581755}, {\"y_rep\": 53.390418542772004}, {\"y_rep\": 62.877342001623745}, {\"y_rep\": 46.27610252654936}, {\"y_rep\": 47.8441553163358}, {\"y_rep\": 53.440009532051086}, {\"y_rep\": 41.271095777613006}, {\"y_rep\": 70.51651906556344}, {\"y_rep\": 53.281969468537746}, {\"y_rep\": 50.82962455344101}, {\"y_rep\": 43.08783199129139}, {\"y_rep\": 61.27177645704807}, {\"y_rep\": 54.875348342651996}, {\"y_rep\": 44.20038312502935}, {\"y_rep\": 53.97700091880906}, {\"y_rep\": 65.82278509361669}, {\"y_rep\": 49.62611458215067}, {\"y_rep\": 37.56994003271019}, {\"y_rep\": 50.06704430851159}, {\"y_rep\": 45.0283646653682}, {\"y_rep\": 49.36410847850235}, {\"y_rep\": 54.600229055991406}, {\"y_rep\": 45.44489009754727}, {\"y_rep\": 60.50609999921156}, {\"y_rep\": 61.97055103607087}, {\"y_rep\": 53.40976702908212}, {\"y_rep\": 65.14436089307468}, {\"y_rep\": 36.51069964830124}, {\"y_rep\": 46.74906226954849}, {\"y_rep\": 71.20767641715419}, {\"y_rep\": 42.25754895247125}, {\"y_rep\": 49.048485098283976}, {\"y_rep\": 48.54689519442123}, {\"y_rep\": 60.04645718802678}, {\"y_rep\": 55.96879007823183}, {\"y_rep\": 54.532163284509316}, {\"y_rep\": 57.810461227128876}, {\"y_rep\": 52.15777139399818}, {\"y_rep\": 49.0453231295485}, {\"y_rep\": 51.127113642904206}, {\"y_rep\": 20.00758581513122}, {\"y_rep\": 63.412197967640225}, {\"y_rep\": 40.0955421264562}, {\"y_rep\": 55.19484419131637}, {\"y_rep\": 59.9224245439828}, {\"y_rep\": 51.36174651874673}, {\"y_rep\": 67.573350114374}, {\"y_rep\": 53.57854128776715}, {\"y_rep\": 55.125044111456965}, {\"y_rep\": 59.241110138020574}, {\"y_rep\": 48.922390804889055}, {\"y_rep\": 74.74821190105428}, {\"y_rep\": 55.49183547228612}, {\"y_rep\": 54.54801226006582}, {\"y_rep\": 48.934261279472906}, {\"y_rep\": 49.2548574849299}, {\"y_rep\": 63.093826649204125}, {\"y_rep\": 42.45505992146552}, {\"y_rep\": 42.24408114022663}, {\"y_rep\": 39.59512626302325}, {\"y_rep\": 48.563785098650584}, {\"y_rep\": 48.74865225298952}, {\"y_rep\": 32.05716911564488}, {\"y_rep\": 50.54506942724355}, {\"y_rep\": 47.627507044150114}, {\"y_rep\": 70.1475794939096}, {\"y_rep\": 46.43947166864334}, {\"y_rep\": 61.630109676601656}, {\"y_rep\": 56.370599870366995}, {\"y_rep\": 60.13098095492809}, {\"y_rep\": 53.74427199181422}, {\"y_rep\": 52.7611267640696}, {\"y_rep\": 38.33071389719221}, {\"y_rep\": 70.59714701627522}, {\"y_rep\": 68.80811807133298}, {\"y_rep\": 51.824151785537}, {\"y_rep\": 58.88797747743657}, {\"y_rep\": 60.472153810505105}, {\"y_rep\": 40.48118624481019}, {\"y_rep\": 37.84285709166568}, {\"y_rep\": 50.71571107704025}, {\"y_rep\": 39.32483679257825}, {\"y_rep\": 51.27026673968348}, {\"y_rep\": 50.763404672912976}, {\"y_rep\": 64.04465536592896}, {\"y_rep\": 46.469251050359}, {\"y_rep\": 57.67724422003702}, {\"y_rep\": 43.566590793451375}, {\"y_rep\": 53.442419153841946}, {\"y_rep\": 57.22238015236006}, {\"y_rep\": 44.97550040729466}, {\"y_rep\": 58.860428572411934}, {\"y_rep\": 50.86822700325268}, {\"y_rep\": 54.7530028398563}, {\"y_rep\": 52.43288018406263}, {\"y_rep\": 60.59625540118413}, {\"y_rep\": 36.28589493294461}, {\"y_rep\": 36.905895749535944}, {\"y_rep\": 53.6667182780851}, {\"y_rep\": 61.1010161129238}, {\"y_rep\": 58.32890186869076}, {\"y_rep\": 56.15962614718346}, {\"y_rep\": 35.70055545829885}, {\"y_rep\": 63.048740786369166}, {\"y_rep\": 66.93448400144365}, {\"y_rep\": 34.74593091186026}, {\"y_rep\": 55.94375464605019}, {\"y_rep\": 70.69305414045732}, {\"y_rep\": 45.12031443033395}, {\"y_rep\": 63.71500974309083}, {\"y_rep\": 53.844537265781156}, {\"y_rep\": 33.00225634422955}, {\"y_rep\": 73.3198511750435}, {\"y_rep\": 65.286169948046}, {\"y_rep\": 46.345985825919065}, {\"y_rep\": 49.80905835301528}, {\"y_rep\": 44.0248083519338}, {\"y_rep\": 43.854727886418125}, {\"y_rep\": 37.77548828291337}, {\"y_rep\": 47.22690601386003}, {\"y_rep\": 40.223227709896186}, {\"y_rep\": 45.080256168256476}, {\"y_rep\": 51.05276706322381}, {\"y_rep\": 56.47531212484876}, {\"y_rep\": 63.725332838612296}, {\"y_rep\": 50.23413485772114}, {\"y_rep\": 35.92006171113143}, {\"y_rep\": 49.59343664088081}, {\"y_rep\": 51.560984929709264}, {\"y_rep\": 34.32955353273814}, {\"y_rep\": 50.85815072931711}, {\"y_rep\": 54.78297543560567}, {\"y_rep\": 51.70717629624239}, {\"y_rep\": 60.895818923765844}, {\"y_rep\": 39.272284974539275}, {\"y_rep\": 54.91744685983968}, {\"y_rep\": 64.60834384515051}, {\"y_rep\": 46.070193492437504}, {\"y_rep\": 48.70183301851236}, {\"y_rep\": 47.42401375247138}, {\"y_rep\": 0.6286377717751874}, {\"y_rep\": 36.8723637708093}, {\"y_rep\": 45.41039084900102}, {\"y_rep\": 48.55342988585156}, {\"y_rep\": 49.728458803247456}, {\"y_rep\": 53.775687346620295}, {\"y_rep\": 26.8042339865495}, {\"y_rep\": 57.48549570710129}, {\"y_rep\": 49.93816350343117}, {\"y_rep\": 38.88573769683644}, {\"y_rep\": 38.122758960886664}, {\"y_rep\": 43.11285009560505}, {\"y_rep\": 54.88061229361076}, {\"y_rep\": 58.20989106124388}, {\"y_rep\": 44.9565204007089}, {\"y_rep\": 53.26698747192965}, {\"y_rep\": 63.345852654455314}, {\"y_rep\": 48.72265399366258}, {\"y_rep\": 55.42618795025407}, {\"y_rep\": 64.00445208626599}, {\"y_rep\": 41.77873447555503}, {\"y_rep\": 70.53263678031884}, {\"y_rep\": 30.252648957346477}, {\"y_rep\": 36.48604483922615}, {\"y_rep\": 37.94986495641885}, {\"y_rep\": 39.35256991045242}, {\"y_rep\": 52.85310086838996}, {\"y_rep\": 61.04813147486179}, {\"y_rep\": 40.314596741260274}, {\"y_rep\": 57.917394596555155}, {\"y_rep\": 56.0351908828017}, {\"y_rep\": 57.928085660408264}, {\"y_rep\": 38.17944847472354}, {\"y_rep\": 57.96609333376323}, {\"y_rep\": 41.08852068594738}, {\"y_rep\": 39.737913907041246}, {\"y_rep\": 45.903620181250275}, {\"y_rep\": 44.68403558174482}, {\"y_rep\": 46.521088531972545}, {\"y_rep\": 65.93929958341916}, {\"y_rep\": 44.01053035939198}, {\"y_rep\": 57.75557898355331}, {\"y_rep\": 64.4442251849683}, {\"y_rep\": 65.27299160959491}, {\"y_rep\": 40.97046564999023}, {\"y_rep\": 54.36355078700806}, {\"y_rep\": 47.037516411632645}, {\"y_rep\": 52.728778427194975}, {\"y_rep\": 53.097571185642884}, {\"y_rep\": 36.93664542361199}, {\"y_rep\": 47.333789880574955}, {\"y_rep\": 39.95995556208586}, {\"y_rep\": 54.38120208543353}, {\"y_rep\": 38.98969130583248}, {\"y_rep\": 25.43497756254066}, {\"y_rep\": 58.45439760906874}, {\"y_rep\": 57.2617792387551}, {\"y_rep\": 49.933031732130324}, {\"y_rep\": 45.22565913557355}, {\"y_rep\": 50.52700629722617}, {\"y_rep\": 58.0619043285678}, {\"y_rep\": 49.899281181468076}, {\"y_rep\": 45.41529098822411}, {\"y_rep\": 67.72686869171028}, {\"y_rep\": 42.94609391073155}, {\"y_rep\": 48.73261735298968}, {\"y_rep\": 62.42829273549057}, {\"y_rep\": 57.25260736979831}, {\"y_rep\": 72.10492155770174}, {\"y_rep\": 41.799189765816756}, {\"y_rep\": 61.523352101349936}, {\"y_rep\": 38.62611349831704}, {\"y_rep\": 66.86029469907757}, {\"y_rep\": 44.0173151643257}, {\"y_rep\": 45.943642561503246}, {\"y_rep\": 47.52958752953379}, {\"y_rep\": 54.68183183946014}, {\"y_rep\": 36.40110744056483}, {\"y_rep\": 59.394382617639415}, {\"y_rep\": 59.87500024044609}, {\"y_rep\": 41.898227887218056}, {\"y_rep\": 35.60133839084113}, {\"y_rep\": 41.31783848535376}, {\"y_rep\": 50.46456348710572}, {\"y_rep\": 50.9466938061739}, {\"y_rep\": 34.03832211730975}, {\"y_rep\": 38.17266780691665}, {\"y_rep\": 50.269186836262755}, {\"y_rep\": 51.02636065965202}, {\"y_rep\": 49.12079927201852}, {\"y_rep\": 76.91832882531588}, {\"y_rep\": 41.21900712718119}, {\"y_rep\": 80.30446576640486}, {\"y_rep\": 51.34939452908129}, {\"y_rep\": 41.46779899010933}, {\"y_rep\": 51.20941401124896}, {\"y_rep\": 60.627798407107235}, {\"y_rep\": 72.36229903291901}, {\"y_rep\": 34.466213171905345}, {\"y_rep\": 51.92310883390711}, {\"y_rep\": 71.47904659263487}, {\"y_rep\": 48.56290307535648}, {\"y_rep\": 49.22685737831151}, {\"y_rep\": 43.30962358343344}, {\"y_rep\": 67.10024755816309}, {\"y_rep\": 58.23971739783531}, {\"y_rep\": 59.89193450732544}, {\"y_rep\": 62.76230413131958}, {\"y_rep\": 50.814069436853515}, {\"y_rep\": 61.45599585386975}, {\"y_rep\": 58.7054775405325}, {\"y_rep\": 47.49947745247053}, {\"y_rep\": 54.95990979447489}, {\"y_rep\": 49.73852855578784}, {\"y_rep\": 32.25174965585345}, {\"y_rep\": 53.771168770773855}, {\"y_rep\": 62.59889837093283}, {\"y_rep\": 30.300314951503452}, {\"y_rep\": 52.22458450029157}, {\"y_rep\": 53.53238337130749}, {\"y_rep\": 46.3446188105195}, {\"y_rep\": 75.80804456388759}, {\"y_rep\": 42.06173887137327}, {\"y_rep\": 50.33331290933332}, {\"y_rep\": 42.62718458931362}, {\"y_rep\": 32.91931169587359}, {\"y_rep\": 49.53237805155421}, {\"y_rep\": 74.2471234035842}, {\"y_rep\": 59.39929269523299}, {\"y_rep\": 64.90190777640039}, {\"y_rep\": 14.380826421661174}, {\"y_rep\": 50.20191698061144}, {\"y_rep\": 49.84523439182901}, {\"y_rep\": 61.31615397430369}, {\"y_rep\": 56.29897286350756}, {\"y_rep\": 56.479801572255845}, {\"y_rep\": 52.27060797149907}, {\"y_rep\": 58.75078728408184}, {\"y_rep\": 56.54179553116198}, {\"y_rep\": 47.209322951962086}, {\"y_rep\": 61.452393409124966}, {\"y_rep\": 58.82336904891772}, {\"y_rep\": 44.52382775582517}, {\"y_rep\": 53.62837280073141}, {\"y_rep\": 44.568014243944134}, {\"y_rep\": 58.97225839285866}, {\"y_rep\": 44.66272640169706}, {\"y_rep\": 40.70479581817461}, {\"y_rep\": 72.63375309734921}, {\"y_rep\": 54.82844292348587}, {\"y_rep\": 60.710788270719995}, {\"y_rep\": 72.57311011964974}, {\"y_rep\": 59.94271405039444}, {\"y_rep\": 66.35819186519683}, {\"y_rep\": 46.81032785925806}, {\"y_rep\": 62.83185353712008}, {\"y_rep\": 69.79903632807992}, {\"y_rep\": 30.14383205190639}, {\"y_rep\": 38.41655091852338}, {\"y_rep\": 56.577688629419505}, {\"y_rep\": 56.74871916239966}, {\"y_rep\": 74.7455994252546}, {\"y_rep\": 54.743858207516865}, {\"y_rep\": 21.883126261002634}, {\"y_rep\": 40.65463096029024}, {\"y_rep\": 53.946069151994706}, {\"y_rep\": 60.32042658210064}, {\"y_rep\": 42.338593635959576}, {\"y_rep\": 65.28438419078087}, {\"y_rep\": 49.105268939445104}, {\"y_rep\": 65.53307646532859}, {\"y_rep\": 53.70770548308707}, {\"y_rep\": 37.739354366458585}, {\"y_rep\": 52.35656248212669}, {\"y_rep\": 47.752685462577624}, {\"y_rep\": 58.04803598731095}, {\"y_rep\": 62.640410961305406}, {\"y_rep\": 34.951059553183754}, {\"y_rep\": 47.074672275385495}, {\"y_rep\": 52.308431719892944}, {\"y_rep\": 50.49915282602627}, {\"y_rep\": 65.66112742483196}, {\"y_rep\": 41.08362178013194}, {\"y_rep\": 55.91710657254488}, {\"y_rep\": 43.10436411092953}, {\"y_rep\": 43.23209007834692}, {\"y_rep\": 61.124263432800134}, {\"y_rep\": 42.56846126570377}, {\"y_rep\": 52.541575882698346}, {\"y_rep\": 64.58662523020143}, {\"y_rep\": 46.82622081818453}, {\"y_rep\": 48.817532939196184}, {\"y_rep\": 62.6584176609931}, {\"y_rep\": 47.66447452316723}, {\"y_rep\": 56.54972967740918}, {\"y_rep\": 52.2186193981087}, {\"y_rep\": 49.113540186638744}, {\"y_rep\": 58.2385823451564}, {\"y_rep\": 36.937224494976064}, {\"y_rep\": 40.238566166978515}, {\"y_rep\": 45.579614744229275}, {\"y_rep\": 54.32508127417398}, {\"y_rep\": 48.23141676932867}, {\"y_rep\": 33.11508467193495}, {\"y_rep\": 50.16230441103956}, {\"y_rep\": 25.084216238712862}, {\"y_rep\": 39.98690185138158}, {\"y_rep\": 60.68079466269891}, {\"y_rep\": 45.44654340077516}, {\"y_rep\": 43.25418399880572}, {\"y_rep\": 46.90528009263846}, {\"y_rep\": 53.07612502315832}, {\"y_rep\": 49.88476654689}, {\"y_rep\": 52.420940721155986}, {\"y_rep\": 29.106720695256776}, {\"y_rep\": 67.32763414222563}, {\"y_rep\": 41.17744472835899}, {\"y_rep\": 82.61129938165222}, {\"y_rep\": 46.957571066969}, {\"y_rep\": 49.03280162448566}, {\"y_rep\": 45.3476966231873}, {\"y_rep\": 47.10801362105306}, {\"y_rep\": 55.464328903835465}, {\"y_rep\": 53.93519423919807}, {\"y_rep\": 43.102692151943344}, {\"y_rep\": 47.546913147221986}, {\"y_rep\": 61.10906133698879}, {\"y_rep\": 59.07395847209759}, {\"y_rep\": 40.825898724384466}, {\"y_rep\": 59.43721190074449}, {\"y_rep\": 47.5706035529588}, {\"y_rep\": 78.88315672869192}, {\"y_rep\": 51.45759598584542}, {\"y_rep\": 47.71427715879571}, {\"y_rep\": 49.93397179092118}, {\"y_rep\": 59.16796898576945}, {\"y_rep\": 47.93743628840233}, {\"y_rep\": 57.05180270323734}, {\"y_rep\": -18.042781633691707}, {\"y_rep\": 53.00331703881411}, {\"y_rep\": 60.55579122342214}, {\"y_rep\": 49.8429475025963}, {\"y_rep\": 45.77214524109559}, {\"y_rep\": 47.4115213719571}, {\"y_rep\": 54.55266359828557}, {\"y_rep\": 49.771547525887}, {\"y_rep\": 62.28868043125012}, {\"y_rep\": 62.34812100420593}, {\"y_rep\": 46.079571584228525}, {\"y_rep\": 60.50374927799499}, {\"y_rep\": 52.35806980618539}, {\"y_rep\": 41.176904277988676}, {\"y_rep\": 46.29333105432233}, {\"y_rep\": 40.460766756688045}, {\"y_rep\": 65.19312708983203}, {\"y_rep\": 31.102140893641593}, {\"y_rep\": 48.42220576718547}, {\"y_rep\": 46.73342472650737}, {\"y_rep\": 49.61611245397731}, {\"y_rep\": 64.65820528278782}, {\"y_rep\": 52.23349953520774}, {\"y_rep\": 64.34164477053669}, {\"y_rep\": 60.22011791902645}, {\"y_rep\": 43.44202913631955}, {\"y_rep\": 49.80221214444653}, {\"y_rep\": 31.935521993930138}, {\"y_rep\": 62.90453199323394}, {\"y_rep\": 54.91895428588366}, {\"y_rep\": 43.90715393506183}, {\"y_rep\": 72.29466984668194}, {\"y_rep\": 37.37339666535696}, {\"y_rep\": 47.37406964368524}, {\"y_rep\": 62.622453923751365}, {\"y_rep\": 45.02286995388371}, {\"y_rep\": 27.44221160647968}, {\"y_rep\": 59.325179954884305}, {\"y_rep\": 44.64850100175721}, {\"y_rep\": 45.82363178616338}, {\"y_rep\": 40.50873697519529}, {\"y_rep\": 54.00627505221157}, {\"y_rep\": 32.87115024166934}, {\"y_rep\": 30.936943633689232}, {\"y_rep\": 51.73020397197146}, {\"y_rep\": 30.85951768537972}, {\"y_rep\": 53.22845819961928}, {\"y_rep\": 63.583210224507965}, {\"y_rep\": 61.02085299540476}, {\"y_rep\": 38.73092471293653}, {\"y_rep\": 46.72145126999505}, {\"y_rep\": 56.546705092966704}, {\"y_rep\": 56.51076542052683}, {\"y_rep\": 34.79766273482215}, {\"y_rep\": 53.78711927740092}, {\"y_rep\": 45.86039151958542}, {\"y_rep\": 59.343452545995994}, {\"y_rep\": 65.99960975654511}, {\"y_rep\": 61.70509445235415}, {\"y_rep\": 66.59096379653731}, {\"y_rep\": 54.27487534769098}, {\"y_rep\": 54.00960666080521}, {\"y_rep\": 60.448943140231464}, {\"y_rep\": 49.54801319362564}, {\"y_rep\": 40.477286752136266}, {\"y_rep\": 63.45108162187458}, {\"y_rep\": 54.43238679225409}, {\"y_rep\": 71.90100575128737}, {\"y_rep\": 55.88352352597045}, {\"y_rep\": 38.73322692222749}, {\"y_rep\": 55.184574173465315}, {\"y_rep\": 62.681310770477694}, {\"y_rep\": 41.156494793715396}, {\"y_rep\": 38.56514513733583}, {\"y_rep\": 54.44104262090238}, {\"y_rep\": 58.420767096164056}, {\"y_rep\": 55.78531848531867}, {\"y_rep\": 50.05516407308371}, {\"y_rep\": 34.126120151026356}, {\"y_rep\": 63.96596430058775}, {\"y_rep\": 50.43560316395375}, {\"y_rep\": 34.657530246355094}, {\"y_rep\": 3.341214178374716}, {\"y_rep\": 29.87101031609606}, {\"y_rep\": 44.05347621073554}, {\"y_rep\": 49.56445101107659}, {\"y_rep\": 67.3250112224702}, {\"y_rep\": 44.42319915406968}, {\"y_rep\": 59.582309122903}, {\"y_rep\": 36.91712452802646}, {\"y_rep\": 56.62403436434265}, {\"y_rep\": 39.31932394651544}, {\"y_rep\": 43.668622419729566}, {\"y_rep\": 48.70050792635952}, {\"y_rep\": 49.811838865961555}, {\"y_rep\": 63.125755001195465}, {\"y_rep\": 58.24338035793305}, {\"y_rep\": 68.11204510892574}, {\"y_rep\": 56.971747445657584}, {\"y_rep\": 43.30017162292023}, {\"y_rep\": -2.579771330576742}, {\"y_rep\": 51.9400806617964}, {\"y_rep\": 40.90343228099512}, {\"y_rep\": 47.28186593949437}, {\"y_rep\": 59.83347899075381}, {\"y_rep\": 54.086721758476756}, {\"y_rep\": 61.02077066869368}, {\"y_rep\": 67.78479336606983}, {\"y_rep\": 57.52180889295858}, {\"y_rep\": 69.37081967515155}, {\"y_rep\": 54.22757953093715}, {\"y_rep\": 30.826266596138428}, {\"y_rep\": 43.35955765249934}, {\"y_rep\": 37.63073803737477}, {\"y_rep\": 40.855076281697414}, {\"y_rep\": 69.20237971471518}, {\"y_rep\": 29.458420488434914}, {\"y_rep\": 63.67179997300898}, {\"y_rep\": 58.59460263872704}, {\"y_rep\": 46.37516110969936}, {\"y_rep\": 27.565132436772565}, {\"y_rep\": 67.3745503449882}, {\"y_rep\": 56.997941451912304}, {\"y_rep\": 38.49062018207317}, {\"y_rep\": 56.030612141458064}, {\"y_rep\": 52.02084207740266}, {\"y_rep\": 44.70374130589471}, {\"y_rep\": 49.983522512524736}, {\"y_rep\": 43.50695181900874}, {\"y_rep\": 48.38521726866527}, {\"y_rep\": 46.83161036063723}, {\"y_rep\": 55.41973906223215}, {\"y_rep\": 52.192244892962165}, {\"y_rep\": 44.72753616181928}, {\"y_rep\": 64.38224168275411}, {\"y_rep\": 67.50162017043301}, {\"y_rep\": 54.04457419975295}, {\"y_rep\": 65.64456548135884}, {\"y_rep\": 79.09747414693959}, {\"y_rep\": 43.39496228206001}, {\"y_rep\": 77.81301363925553}, {\"y_rep\": 43.62523389155509}, {\"y_rep\": 50.92910165962226}, {\"y_rep\": 43.974992857084565}, {\"y_rep\": 54.55014822093757}, {\"y_rep\": 9.002519183349746}, {\"y_rep\": 45.68799726603937}, {\"y_rep\": 66.48589112708923}, {\"y_rep\": 45.90310582891759}, {\"y_rep\": 35.47707409484007}, {\"y_rep\": 42.996155432010106}, {\"y_rep\": 68.56025706004431}, {\"y_rep\": 28.83674247522598}, {\"y_rep\": 35.92835357350035}, {\"y_rep\": 56.33018338815201}, {\"y_rep\": 46.9485048831305}, {\"y_rep\": 64.03198718622716}, {\"y_rep\": 48.33155737122774}, {\"y_rep\": 37.35049054615306}, {\"y_rep\": 54.72846637156786}, {\"y_rep\": 60.957363209328314}, {\"y_rep\": 42.33904031883744}, {\"y_rep\": 70.05008974460212}, {\"y_rep\": 51.66765393500745}, {\"y_rep\": 42.55395428205465}, {\"y_rep\": 47.89144728452314}, {\"y_rep\": 50.26654836836874}, {\"y_rep\": 54.220745576446404}, {\"y_rep\": 52.81126176215061}, {\"y_rep\": 39.9323325156973}, {\"y_rep\": 27.74111233846973}, {\"y_rep\": 46.616898778001094}, {\"y_rep\": 57.07882725919646}, {\"y_rep\": 58.52521352295542}, {\"y_rep\": 19.203383853854994}, {\"y_rep\": 48.35099780948236}, {\"y_rep\": 66.13062758015528}, {\"y_rep\": 55.95549385953774}, {\"y_rep\": 46.33590635870008}, {\"y_rep\": 70.4310296407345}, {\"y_rep\": 5.614837844448177}, {\"y_rep\": 45.71665526339944}, {\"y_rep\": 35.105576865581014}, {\"y_rep\": 52.24016831047794}, {\"y_rep\": 55.82786791533678}, {\"y_rep\": 59.90421450273212}, {\"y_rep\": 35.84370969421173}, {\"y_rep\": 63.548014084077906}, {\"y_rep\": 52.017854949066304}, {\"y_rep\": 42.728475223821754}, {\"y_rep\": 45.61958303775938}, {\"y_rep\": 40.67568183725846}, {\"y_rep\": 43.51906583596883}, {\"y_rep\": 58.905712360209876}, {\"y_rep\": 57.93570995997108}, {\"y_rep\": 42.27447574768285}, {\"y_rep\": 54.10919980710448}, {\"y_rep\": 54.99396749654576}, {\"y_rep\": 45.26134564395315}, {\"y_rep\": 44.422064993121964}, {\"y_rep\": 53.433593182959115}, {\"y_rep\": 34.43530533887488}, {\"y_rep\": 48.19194445355728}, {\"y_rep\": 40.33403583240484}, {\"y_rep\": 34.584001182808244}, {\"y_rep\": 67.02419722545042}, {\"y_rep\": 52.7924963032141}, {\"y_rep\": 84.07815012685418}, {\"y_rep\": 53.087156609736034}, {\"y_rep\": 48.3008971345202}, {\"y_rep\": 62.235321045924834}, {\"y_rep\": 43.349487717631284}, {\"y_rep\": 60.82995498553147}, {\"y_rep\": 46.97100401179685}, {\"y_rep\": 50.47927703106393}, {\"y_rep\": 48.791341183490715}, {\"y_rep\": 38.1404912510896}, {\"y_rep\": 37.55906231739678}, {\"y_rep\": 47.99267553086929}, {\"y_rep\": 40.33810530075389}, {\"y_rep\": 57.93476446943354}, {\"y_rep\": 53.10148741950597}, {\"y_rep\": 51.02494858349863}, {\"y_rep\": 44.66077902104247}, {\"y_rep\": 55.282258581092954}, {\"y_rep\": 30.796378758478856}, {\"y_rep\": 61.66724193265071}, {\"y_rep\": 61.44044759111892}, {\"y_rep\": 45.60699351971651}, {\"y_rep\": 40.27042440507077}, {\"y_rep\": 54.55867506687041}, {\"y_rep\": 39.79135516398378}, {\"y_rep\": 67.5529520692464}, {\"y_rep\": 44.42628989238195}, {\"y_rep\": 51.081751420738925}, {\"y_rep\": 20.238085625506923}, {\"y_rep\": 49.254359565845654}, {\"y_rep\": 62.22494500826259}, {\"y_rep\": 42.74895790280361}, {\"y_rep\": 55.41176218242787}, {\"y_rep\": 54.94269849511899}, {\"y_rep\": 52.35757167278268}, {\"y_rep\": 48.16815787907121}, {\"y_rep\": 47.02083953919354}, {\"y_rep\": 61.996547962338056}, {\"y_rep\": 59.596619729870085}, {\"y_rep\": 42.34572103517844}, {\"y_rep\": 61.95957951741996}, {\"y_rep\": 76.23959703935037}, {\"y_rep\": 57.892138608502464}, {\"y_rep\": 40.45932216361067}, {\"y_rep\": 64.59329115484407}, {\"y_rep\": 38.36796206717728}, {\"y_rep\": 60.24733818339514}, {\"y_rep\": 65.02366951729319}, {\"y_rep\": 46.6603836784587}, {\"y_rep\": 48.39789075945764}, {\"y_rep\": 69.74118599781738}, {\"y_rep\": 43.450135575446744}, {\"y_rep\": 53.55038136198996}, {\"y_rep\": 47.04338171308908}, {\"y_rep\": 55.17249448540005}, {\"y_rep\": 51.22374381824668}, {\"y_rep\": 45.47749907393955}, {\"y_rep\": 58.22726105276803}, {\"y_rep\": 55.64743194299653}, {\"y_rep\": 50.44913665215919}, {\"y_rep\": 42.836338770777914}, {\"y_rep\": 62.73493717314235}, {\"y_rep\": 51.57889881955914}, {\"y_rep\": 46.33490904691805}, {\"y_rep\": 57.43249816705628}, {\"y_rep\": 57.00139290955105}, {\"y_rep\": 58.930157483860384}, {\"y_rep\": 35.04957291416409}, {\"y_rep\": 44.949698126356665}, {\"y_rep\": 31.940151455033583}, {\"y_rep\": 64.52948318775805}, {\"y_rep\": 42.24969600496901}, {\"y_rep\": 52.780421869559305}, {\"y_rep\": 23.03556338606708}, {\"y_rep\": 45.75047345097919}, {\"y_rep\": 47.443639283155356}, {\"y_rep\": 56.961962251002205}, {\"y_rep\": 46.47143394664119}, {\"y_rep\": 55.76741721745175}, {\"y_rep\": 52.22350473335611}, {\"y_rep\": 41.63362200566542}, {\"y_rep\": 47.65150723162439}, {\"y_rep\": 57.42130974925135}, {\"y_rep\": 56.96340052988023}, {\"y_rep\": 37.5934104300911}, {\"y_rep\": 44.82908158748802}, {\"y_rep\": 34.93023082448218}, {\"y_rep\": 65.81196098195511}, {\"y_rep\": 45.40782611331397}, {\"y_rep\": 43.57050814311494}, {\"y_rep\": 29.147262620592286}, {\"y_rep\": 31.9293520614041}, {\"y_rep\": 47.54654983261209}, {\"y_rep\": 47.05972935548248}, {\"y_rep\": 35.33008026597547}, {\"y_rep\": 25.4198541180794}, {\"y_rep\": 58.36355760534802}, {\"y_rep\": 52.75961206854843}, {\"y_rep\": 63.227776468006}, {\"y_rep\": 47.35562896901864}, {\"y_rep\": 53.725260317858286}, {\"y_rep\": 48.52109450027719}, {\"y_rep\": 40.71555651041437}, {\"y_rep\": 37.74210349762005}, {\"y_rep\": 48.906319825557794}, {\"y_rep\": 53.78624479377856}, {\"y_rep\": 52.1391692929302}, {\"y_rep\": 69.60010023906369}, {\"y_rep\": 34.833910885600936}, {\"y_rep\": 52.315440854989795}, {\"y_rep\": 54.77013149751083}, {\"y_rep\": 53.31785353357831}, {\"y_rep\": 50.54659564438074}, {\"y_rep\": 55.77133606838568}, {\"y_rep\": 49.87705339609738}, {\"y_rep\": 59.38707025511614}, {\"y_rep\": 59.78398379155678}, {\"y_rep\": 54.111850126317265}, {\"y_rep\": 52.70205339790711}, {\"y_rep\": 64.50179241925392}, {\"y_rep\": 61.98793798973713}, {\"y_rep\": 48.021229903261975}, {\"y_rep\": 51.665272126609764}, {\"y_rep\": 42.048315214462484}, {\"y_rep\": 44.9470901205321}, {\"y_rep\": 41.83688212874647}, {\"y_rep\": 53.32760972185424}, {\"y_rep\": 56.01192675893842}, {\"y_rep\": 37.24320735887282}, {\"y_rep\": 61.404839403885674}, {\"y_rep\": 63.186691818250786}, {\"y_rep\": 65.95842388841014}, {\"y_rep\": 41.59004028672113}, {\"y_rep\": 50.09042035704215}, {\"y_rep\": 60.459932122480176}, {\"y_rep\": 43.11138808599353}, {\"y_rep\": 51.550079247452175}, {\"y_rep\": 61.01481208483379}, {\"y_rep\": 43.05632158628274}, {\"y_rep\": 37.15536714906237}, {\"y_rep\": 51.27752582813486}, {\"y_rep\": 50.33368154790651}, {\"y_rep\": 45.61732614412725}, {\"y_rep\": 57.929496869234}, {\"y_rep\": 67.46228977987401}, {\"y_rep\": 54.32158607966234}, {\"y_rep\": 33.463663596574904}, {\"y_rep\": 49.14083603287862}, {\"y_rep\": 50.069914002606005}, {\"y_rep\": 46.819353809799374}, {\"y_rep\": 55.97418825104675}, {\"y_rep\": 39.15725002170167}, {\"y_rep\": 70.17777458725057}, {\"y_rep\": 52.65785989897749}, {\"y_rep\": 43.02509214933735}, {\"y_rep\": 52.357056734113534}, {\"y_rep\": 40.31695550471573}, {\"y_rep\": 48.123037711593874}, {\"y_rep\": 56.94489088410505}, {\"y_rep\": 50.87524465681308}, {\"y_rep\": 55.57255822086244}, {\"y_rep\": 68.48141476116182}, {\"y_rep\": 61.00892610716356}, {\"y_rep\": 73.28458241822196}, {\"y_rep\": -14.720371018785524}, {\"y_rep\": 51.34882911322528}, {\"y_rep\": 55.57141973245293}, {\"y_rep\": 45.343502666265366}, {\"y_rep\": 36.94230036281102}, {\"y_rep\": 50.61608596170556}, {\"y_rep\": 51.05335195733143}, {\"y_rep\": 41.536155517713134}, {\"y_rep\": 58.37383459018138}, {\"y_rep\": 58.407251216869156}, {\"y_rep\": 55.0593455766751}, {\"y_rep\": 3.704024513168733}, {\"y_rep\": 59.019125973507165}, {\"y_rep\": 44.24222725333515}, {\"y_rep\": 44.69621962511334}, {\"y_rep\": 49.1965543631361}, {\"y_rep\": 59.40016135113305}, {\"y_rep\": 33.446946998711425}, {\"y_rep\": 67.72806931720183}, {\"y_rep\": 41.93144715874815}, {\"y_rep\": 56.7101822693075}, {\"y_rep\": 54.27513980817608}, {\"y_rep\": 30.754987690728388}, {\"y_rep\": 34.23556362138492}, {\"y_rep\": 52.639061797951975}, {\"y_rep\": 49.90265461648991}, {\"y_rep\": 62.0612294936319}, {\"y_rep\": 62.3768328322808}, {\"y_rep\": 65.55229059195669}, {\"y_rep\": 52.79744222532523}, {\"y_rep\": 62.89655889073499}, {\"y_rep\": 41.608580097192345}, {\"y_rep\": 52.06430231138165}, {\"y_rep\": 33.216484351493634}, {\"y_rep\": 55.84113371332365}, {\"y_rep\": 24.963962239763646}, {\"y_rep\": 57.79441918137085}, {\"y_rep\": 41.799834407155366}, {\"y_rep\": 63.582153969945914}, {\"y_rep\": 56.78462893623243}, {\"y_rep\": 45.003077380802175}, {\"y_rep\": 51.36074229695842}, {\"y_rep\": 70.63687987912152}, {\"y_rep\": 51.63443259754824}, {\"y_rep\": 41.244584796200655}, {\"y_rep\": 41.55637400795341}, {\"y_rep\": 45.119009789220584}, {\"y_rep\": 52.449717169583906}, {\"y_rep\": 64.15001952474059}, {\"y_rep\": 50.418703489651925}, {\"y_rep\": 51.808859042558446}, {\"y_rep\": 45.73138959056316}, {\"y_rep\": 64.14613299322805}, {\"y_rep\": 59.922339077970406}, {\"y_rep\": 39.76610140773154}, {\"y_rep\": 49.3233141250751}, {\"y_rep\": 47.665437846303995}, {\"y_rep\": 38.4977590230307}, {\"y_rep\": 42.48036224057805}, {\"y_rep\": 56.04323173213196}, {\"y_rep\": 51.443267846748874}, {\"y_rep\": 51.60755123984677}, {\"y_rep\": 62.89114609881369}, {\"y_rep\": 63.23730407429059}, {\"y_rep\": 72.31036630625985}, {\"y_rep\": 36.89296360548005}, {\"y_rep\": 57.337660947690964}, {\"y_rep\": 39.22841313060954}, {\"y_rep\": 48.29714701524565}, {\"y_rep\": 54.5190552820751}, {\"y_rep\": 54.44455542802267}, {\"y_rep\": 71.41038377906351}, {\"y_rep\": 51.937487246932946}, {\"y_rep\": 60.331697732334106}, {\"y_rep\": 45.26740984435234}, {\"y_rep\": 58.591885090512115}, {\"y_rep\": 44.685140706053474}, {\"y_rep\": 45.670611445484646}, {\"y_rep\": 48.51337468027696}, {\"y_rep\": 64.9038705836578}, {\"y_rep\": 36.48019862614662}, {\"y_rep\": 55.17302436557372}, {\"y_rep\": 49.758175092674094}, {\"y_rep\": 55.142264003936354}, {\"y_rep\": 58.35953940683655}, {\"y_rep\": 45.99107652321522}, {\"y_rep\": 64.53915313746444}, {\"y_rep\": 57.381654769446214}, {\"y_rep\": 38.83105902520481}, {\"y_rep\": 50.239116595911064}, {\"y_rep\": 47.00754191440783}, {\"y_rep\": 53.655871379277265}, {\"y_rep\": 40.833949272578664}, {\"y_rep\": 33.99976807287953}, {\"y_rep\": 43.18135319834187}, {\"y_rep\": 66.4312781988369}, {\"y_rep\": 56.60920402094082}, {\"y_rep\": 35.99687648958136}, {\"y_rep\": 51.25985228829617}, {\"y_rep\": 41.81017396520866}, {\"y_rep\": 49.29788747988506}, {\"y_rep\": 50.44232267154236}, {\"y_rep\": 63.32297701601603}, {\"y_rep\": 48.865427295359964}, {\"y_rep\": 56.654908744360384}, {\"y_rep\": 55.43731442015281}, {\"y_rep\": 58.819138954503636}, {\"y_rep\": 68.79177499011737}, {\"y_rep\": 50.05116567334698}, {\"y_rep\": 68.99011059371938}, {\"y_rep\": 67.5838972225218}, {\"y_rep\": 33.136731428617374}, {\"y_rep\": 63.19483488903822}, {\"y_rep\": 60.48397299839834}, {\"y_rep\": 50.474744672503014}, {\"y_rep\": 53.47474737307074}, {\"y_rep\": 48.81476432744794}, {\"y_rep\": 44.60984123685595}, {\"y_rep\": 49.229025830432974}, {\"y_rep\": 47.246402926789415}, {\"y_rep\": 67.81946420398832}, {\"y_rep\": 63.95299352024723}, {\"y_rep\": 72.10367103291402}, {\"y_rep\": 57.51220302469421}, {\"y_rep\": 61.00508230541381}, {\"y_rep\": 59.594416231900055}, {\"y_rep\": 62.57756249387651}, {\"y_rep\": 35.49733724382807}, {\"y_rep\": 33.01065046603332}, {\"y_rep\": 36.71582734723976}, {\"y_rep\": 50.44205359342001}, {\"y_rep\": 57.59945619571587}, {\"y_rep\": 34.506391379773106}, {\"y_rep\": 59.11619810223244}, {\"y_rep\": 60.75488492371979}, {\"y_rep\": 49.538850657760115}, {\"y_rep\": 67.87915526576651}, {\"y_rep\": 57.02665977554299}, {\"y_rep\": 48.78392687202527}, {\"y_rep\": 39.55222004815602}, {\"y_rep\": 51.04186547543671}, {\"y_rep\": 37.57117833582058}, {\"y_rep\": 55.87487021330789}, {\"y_rep\": 42.34376023034853}, {\"y_rep\": 64.45441631548928}, {\"y_rep\": 63.64240865481092}, {\"y_rep\": 53.11730975580558}, {\"y_rep\": 51.13157846862963}, {\"y_rep\": 38.88511820197151}, {\"y_rep\": 63.1454739540452}, {\"y_rep\": 48.34752772462603}, {\"y_rep\": 31.056665773873643}, {\"y_rep\": 54.19238385264254}, {\"y_rep\": 41.27807312567581}, {\"y_rep\": 43.63794000627235}, {\"y_rep\": 57.25175012007191}, {\"y_rep\": 60.77625077567604}, {\"y_rep\": 48.41306115928093}, {\"y_rep\": 54.840848212194565}, {\"y_rep\": 54.555243777880236}, {\"y_rep\": 51.19824889771988}, {\"y_rep\": 16.61183285395473}, {\"y_rep\": 35.33871294258368}, {\"y_rep\": 49.494369571879815}, {\"y_rep\": 70.80997586299779}, {\"y_rep\": 56.13241023906846}, {\"y_rep\": 39.73939712261017}, {\"y_rep\": 47.50584696003126}, {\"y_rep\": 15.918018182976432}, {\"y_rep\": 50.36554463067045}, {\"y_rep\": 55.36629612564562}, {\"y_rep\": 53.82343266757423}, {\"y_rep\": 52.302645562796414}, {\"y_rep\": 43.74277734054428}, {\"y_rep\": 68.4696700949859}, {\"y_rep\": 60.495645035756674}, {\"y_rep\": 54.836372167770044}, {\"y_rep\": 51.73614087665136}, {\"y_rep\": 52.48007208422853}, {\"y_rep\": -17.891711140368532}, {\"y_rep\": 56.53367866070291}, {\"y_rep\": 57.101604973273695}, {\"y_rep\": 69.2522197607314}, {\"y_rep\": 38.73293696585971}, {\"y_rep\": 67.04772497624536}, {\"y_rep\": 47.34315706202226}, {\"y_rep\": 39.92159005109543}, {\"y_rep\": 53.20407823870985}, {\"y_rep\": 54.75358466719582}, {\"y_rep\": 70.48046862414427}, {\"y_rep\": 52.632386807720174}, {\"y_rep\": 44.81156342699035}, {\"y_rep\": 51.221428177319154}, {\"y_rep\": 50.43799468661409}, {\"y_rep\": 50.468415603247294}, {\"y_rep\": 42.839208336243665}, {\"y_rep\": 45.65272907308288}, {\"y_rep\": 68.93376604250706}, {\"y_rep\": 26.85225652540684}, {\"y_rep\": 42.332590109592225}, {\"y_rep\": 38.87598237759409}, {\"y_rep\": 46.61762731645735}, {\"y_rep\": 62.78179434274534}, {\"y_rep\": 53.002053926430904}, {\"y_rep\": 56.96534241729981}, {\"y_rep\": 65.86770273881692}, {\"y_rep\": 57.397830802247086}, {\"y_rep\": 50.798146432036624}, {\"y_rep\": 57.084817526011825}, {\"y_rep\": 49.726798749957354}, {\"y_rep\": 6.314028942192781}, {\"y_rep\": 53.50926356372774}, {\"y_rep\": 52.69849257592079}, {\"y_rep\": 53.530852286368116}, {\"y_rep\": 49.21898361614495}, {\"y_rep\": 55.74393373441442}, {\"y_rep\": 52.60498299021164}, {\"y_rep\": 52.860804838938535}, {\"y_rep\": 43.735732824410555}, {\"y_rep\": 52.16773528389701}, {\"y_rep\": 50.51845293040514}, {\"y_rep\": 58.280020171967216}, {\"y_rep\": 74.1706584707342}, {\"y_rep\": 47.998306332440706}, {\"y_rep\": 55.422917312272546}, {\"y_rep\": 47.86997977283324}, {\"y_rep\": 37.916915410302245}, {\"y_rep\": 43.09434661643688}, {\"y_rep\": 71.02799089284952}, {\"y_rep\": 71.16461064642546}, {\"y_rep\": 59.076626015777784}, {\"y_rep\": 59.03791600785123}, {\"y_rep\": 43.557386016251854}, {\"y_rep\": 39.66780009317655}, {\"y_rep\": 55.53228062314351}, {\"y_rep\": 51.86349472175971}, {\"y_rep\": 61.45097533104453}, {\"y_rep\": 51.56654817058847}, {\"y_rep\": 62.981421720973515}, {\"y_rep\": 44.86976725619055}, {\"y_rep\": 68.04659946081101}, {\"y_rep\": 43.09992165812297}, {\"y_rep\": 53.80145772649617}, {\"y_rep\": 49.30633855243349}, {\"y_rep\": 63.59163046627475}, {\"y_rep\": 68.84037510175807}, {\"y_rep\": 40.27287522190681}, {\"y_rep\": 52.57962168953199}, {\"y_rep\": 21.30453669580089}, {\"y_rep\": 44.60833903696846}, {\"y_rep\": 50.67618811973838}, {\"y_rep\": 44.969520647602}, {\"y_rep\": 48.49449819286175}, {\"y_rep\": 56.7425192926248}, {\"y_rep\": 51.482626546788694}, {\"y_rep\": 49.876892767024636}, {\"y_rep\": 48.23013443372874}, {\"y_rep\": 59.426756658360986}, {\"y_rep\": 35.70563066383454}, {\"y_rep\": 56.13919155616298}, {\"y_rep\": 63.22017623359403}, {\"y_rep\": 63.72311674339352}, {\"y_rep\": 42.420158099037785}, {\"y_rep\": 47.50046571434401}, {\"y_rep\": 74.65903764671953}, {\"y_rep\": 51.19133811607017}, {\"y_rep\": 72.35710289147887}, {\"y_rep\": 36.31220262895181}, {\"y_rep\": 67.67480189241034}, {\"y_rep\": 46.78725721447769}, {\"y_rep\": 55.03177582686665}, {\"y_rep\": 50.34049199583345}, {\"y_rep\": 37.31352003935076}, {\"y_rep\": 58.50787085288943}, {\"y_rep\": 61.15129442251431}, {\"y_rep\": 73.07307499403066}, {\"y_rep\": 50.849045259216105}, {\"y_rep\": 57.90982960837725}, {\"y_rep\": 41.83369287015302}, {\"y_rep\": 48.73146559720312}, {\"y_rep\": 46.264921256812414}, {\"y_rep\": 60.33053398706021}, {\"y_rep\": 66.34973952528547}, {\"y_rep\": 46.37833873131441}, {\"y_rep\": 50.42755845026223}, {\"y_rep\": 61.68340805757059}, {\"y_rep\": -2.5559254354811944}, {\"y_rep\": 65.27136951732345}, {\"y_rep\": 51.31600842874726}, {\"y_rep\": 47.42848136859087}, {\"y_rep\": 50.10414409059968}, {\"y_rep\": 40.06603185898956}, {\"y_rep\": 45.09340158281885}, {\"y_rep\": 66.8915210912785}, {\"y_rep\": 28.766519450686783}, {\"y_rep\": 43.00131285576213}, {\"y_rep\": 60.3400716798962}, {\"y_rep\": 45.514828365646416}, {\"y_rep\": 65.77064914514584}, {\"y_rep\": 46.38382787938039}, {\"y_rep\": 48.794682201228824}, {\"y_rep\": 41.2981617792298}, {\"y_rep\": 37.90311078419099}, {\"y_rep\": 39.28243510045174}, {\"y_rep\": 70.92802030002522}, {\"y_rep\": 58.010748589957515}, {\"y_rep\": 52.67030694293031}, {\"y_rep\": 49.68953879418186}, {\"y_rep\": 49.71410519812863}, {\"y_rep\": 51.64636092171836}, {\"y_rep\": 42.090971595894935}, {\"y_rep\": 65.74629560099189}, {\"y_rep\": 60.254782950654786}, {\"y_rep\": 66.42157639077391}, {\"y_rep\": 44.50013061916428}, {\"y_rep\": 40.06348534727754}, {\"y_rep\": 39.800481857560044}, {\"y_rep\": 55.345539908438255}, {\"y_rep\": 59.79763946264093}, {\"y_rep\": 51.35103915971358}, {\"y_rep\": 54.841688086659396}, {\"y_rep\": 56.51245722686828}, {\"y_rep\": 54.06632306929612}, {\"y_rep\": 62.768759626627535}, {\"y_rep\": 45.39200243202325}, {\"y_rep\": 66.16535890408025}, {\"y_rep\": 55.01150897075915}, {\"y_rep\": 36.2956875863163}, {\"y_rep\": 34.97675461745588}, {\"y_rep\": 54.950332630207186}, {\"y_rep\": 43.37373132414042}, {\"y_rep\": 54.986995145259236}, {\"y_rep\": 33.08329406476962}, {\"y_rep\": 51.135656904632796}, {\"y_rep\": 53.58797500984458}, {\"y_rep\": 46.89667072989638}, {\"y_rep\": 46.8948189901177}, {\"y_rep\": 38.35496500853465}, {\"y_rep\": 59.238768117242344}, {\"y_rep\": 63.21307827914138}, {\"y_rep\": 35.21266076485857}, {\"y_rep\": 34.982437592824574}, {\"y_rep\": 47.37672274287076}, {\"y_rep\": 43.92416515923102}, {\"y_rep\": 66.7235882947185}, {\"y_rep\": 37.43835308938469}, {\"y_rep\": 40.656197706153876}, {\"y_rep\": 54.411385525041055}, {\"y_rep\": 40.425829691284676}, {\"y_rep\": 54.052366397741274}, {\"y_rep\": 64.15439423731392}, {\"y_rep\": -5.0870333069842655}, {\"y_rep\": 51.54352251292202}, {\"y_rep\": 37.02366670542706}, {\"y_rep\": 56.36382553764915}, {\"y_rep\": 51.14620474113713}, {\"y_rep\": 61.17889391687898}, {\"y_rep\": 47.97594146533106}, {\"y_rep\": 50.238903606362946}, {\"y_rep\": 62.494460555928086}, {\"y_rep\": 43.507618922671696}, {\"y_rep\": 69.06904068415402}, {\"y_rep\": 46.71601470696024}, {\"y_rep\": 54.91808690825674}, {\"y_rep\": 74.57016456511522}, {\"y_rep\": 46.21928947427093}, {\"y_rep\": 24.59122043884378}, {\"y_rep\": 51.58824750750243}, {\"y_rep\": 46.472267209420544}, {\"y_rep\": 53.57376604124483}, {\"y_rep\": 41.24947861196988}, {\"y_rep\": 62.860678439614965}, {\"y_rep\": 55.24974099018459}, {\"y_rep\": 49.99578575575251}, {\"y_rep\": 46.59235130887614}, {\"y_rep\": 40.71952182747831}, {\"y_rep\": 52.432193488371475}, {\"y_rep\": 51.360630186899265}, {\"y_rep\": 43.07876953669695}, {\"y_rep\": 58.8803604573425}, {\"y_rep\": 44.85870117924199}, {\"y_rep\": 59.05128596323755}, {\"y_rep\": 40.22403072763906}, {\"y_rep\": 53.26646739062691}, {\"y_rep\": 37.86522987725484}, {\"y_rep\": 58.313611290936706}, {\"y_rep\": 43.97739528940903}, {\"y_rep\": 46.29716040986474}, {\"y_rep\": 46.56649728963509}, {\"y_rep\": 20.36225734625942}, {\"y_rep\": 55.64314285581209}, {\"y_rep\": 49.794527630958164}, {\"y_rep\": 57.342964321131454}, {\"y_rep\": 50.62078483537328}, {\"y_rep\": 65.46369501754513}, {\"y_rep\": 48.98394963987255}, {\"y_rep\": 39.107675701473454}, {\"y_rep\": 57.20571941831464}, {\"y_rep\": 48.736235718464044}, {\"y_rep\": 57.11530197593192}, {\"y_rep\": 39.92599678659721}, {\"y_rep\": 49.15945198293197}, {\"y_rep\": 57.86654481325719}, {\"y_rep\": 66.02565363236299}, {\"y_rep\": 34.37208777743865}, {\"y_rep\": 58.139400406084604}, {\"y_rep\": 49.94213891013746}, {\"y_rep\": 42.93301490938921}, {\"y_rep\": 52.62392765217821}, {\"y_rep\": 46.29585376232022}, {\"y_rep\": 40.957198823991874}, {\"y_rep\": 36.3809766111017}, {\"y_rep\": 56.10002603574002}, {\"y_rep\": 39.04385517143209}, {\"y_rep\": 58.641542797996394}, {\"y_rep\": 49.78814841644372}, {\"y_rep\": 59.85170266648925}, {\"y_rep\": 42.53343131167979}, {\"y_rep\": 51.25732316768903}, {\"y_rep\": 65.02673764054434}, {\"y_rep\": 55.359820051547146}, {\"y_rep\": 67.07326766848091}, {\"y_rep\": 28.623253115546948}, {\"y_rep\": 52.144168898354586}, {\"y_rep\": 51.08156947547165}, {\"y_rep\": 57.204226606434844}, {\"y_rep\": 48.73707764296842}, {\"y_rep\": 56.29236463301095}, {\"y_rep\": 54.11782352549807}, {\"y_rep\": 46.91359410552219}, {\"y_rep\": 34.32501837553367}, {\"y_rep\": 59.55669798875375}, {\"y_rep\": 54.50569789362922}, {\"y_rep\": 63.44119473167173}, {\"y_rep\": 49.367454613352336}, {\"y_rep\": 33.02539809489487}, {\"y_rep\": 45.48784558592512}, {\"y_rep\": 66.60070988105369}, {\"y_rep\": 22.999980251812197}, {\"y_rep\": 43.69022355821374}, {\"y_rep\": 45.83596655753532}, {\"y_rep\": 42.802353019501396}, {\"y_rep\": 36.06767768370288}, {\"y_rep\": 36.00844723514429}, {\"y_rep\": 45.478071175175884}, {\"y_rep\": 62.51185361645927}, {\"y_rep\": 58.92963339347982}, {\"y_rep\": 66.41732548881596}, {\"y_rep\": 50.078655286367294}, {\"y_rep\": 52.83303420973668}, {\"y_rep\": 62.18460387196085}, {\"y_rep\": 57.50126176706285}, {\"y_rep\": 61.883452953404536}, {\"y_rep\": 46.32673080344841}, {\"y_rep\": 65.01874688938585}, {\"y_rep\": 38.8998006005985}, {\"y_rep\": 50.524704538258256}, {\"y_rep\": 43.742091137445954}, {\"y_rep\": 55.20936960246331}, {\"y_rep\": 39.74373466881154}, {\"y_rep\": 35.960378882096364}, {\"y_rep\": 42.6395892749264}, {\"y_rep\": 47.01185661838966}, {\"y_rep\": 45.996796481144415}, {\"y_rep\": 45.231109486360054}, {\"y_rep\": 64.71170289359425}, {\"y_rep\": 41.77605779026116}, {\"y_rep\": 63.04437249924221}, {\"y_rep\": 38.8761426117416}, {\"y_rep\": 52.9860790083908}, {\"y_rep\": 39.917804082037556}, {\"y_rep\": 82.04454300499218}, {\"y_rep\": 41.449543009625216}, {\"y_rep\": 64.21699701860308}, {\"y_rep\": 48.73838600827763}, {\"y_rep\": 59.819172785985984}, {\"y_rep\": 54.292604585916976}, {\"y_rep\": 66.4442297592539}, {\"y_rep\": 54.85577303799942}, {\"y_rep\": 53.75070102840254}, {\"y_rep\": 63.93973784366526}, {\"y_rep\": 61.75924569206482}, {\"y_rep\": 52.49283760071804}, {\"y_rep\": 48.268807961091674}, {\"y_rep\": 24.021750403298846}, {\"y_rep\": 43.273647585615095}, {\"y_rep\": 41.616579835132114}, {\"y_rep\": 51.7132622160491}, {\"y_rep\": 49.916959870445396}, {\"y_rep\": 47.20542938561443}, {\"y_rep\": 40.223454110956865}, {\"y_rep\": 51.35627295620157}, {\"y_rep\": 51.253331309099885}, {\"y_rep\": 59.91164519975225}, {\"y_rep\": 50.894863935243755}, {\"y_rep\": 49.38906900476999}, {\"y_rep\": 44.196197065785185}, {\"y_rep\": 63.68172690424352}, {\"y_rep\": 45.22116930437905}, {\"y_rep\": 48.9733941106265}, {\"y_rep\": 57.66068415541248}, {\"y_rep\": 46.417398400647514}, {\"y_rep\": 39.5572036226351}, {\"y_rep\": 63.98277134899164}, {\"y_rep\": 68.52914349893341}, {\"y_rep\": 53.650938334612505}, {\"y_rep\": 37.388172199012516}, {\"y_rep\": 54.67917724120311}, {\"y_rep\": 56.479921238081495}, {\"y_rep\": 45.92275823943208}, {\"y_rep\": 38.68803022359127}, {\"y_rep\": 43.818843563194434}, {\"y_rep\": 33.405009315370705}, {\"y_rep\": 44.98089221526568}, {\"y_rep\": 43.70371507064147}, {\"y_rep\": 50.801179959371865}, {\"y_rep\": 55.47584313106061}, {\"y_rep\": 61.18314558864593}, {\"y_rep\": 34.81078052630426}, {\"y_rep\": 38.16788248203201}, {\"y_rep\": 56.41752801388697}, {\"y_rep\": 53.23492170312294}, {\"y_rep\": 32.381370193103805}, {\"y_rep\": 39.23482100336507}, {\"y_rep\": 39.995297836759946}, {\"y_rep\": 41.463036812633256}, {\"y_rep\": 55.636970034021594}, {\"y_rep\": 54.1463793134889}, {\"y_rep\": 56.67917824511456}, {\"y_rep\": 57.791942299463585}, {\"y_rep\": 74.46099965600212}, {\"y_rep\": 35.545043397368026}, {\"y_rep\": 50.891289493987195}, {\"y_rep\": 60.84731230519767}, {\"y_rep\": 57.69096070448576}, {\"y_rep\": 43.30932246002363}, {\"y_rep\": 32.944171231375826}, {\"y_rep\": 53.60679422735719}, {\"y_rep\": 72.03777172671117}, {\"y_rep\": 49.990929222322904}, {\"y_rep\": 58.23140891100204}, {\"y_rep\": 60.74117275954558}, {\"y_rep\": 25.070462083233572}, {\"y_rep\": 61.286677705217784}, {\"y_rep\": 59.26467793265078}, {\"y_rep\": 52.10445548415386}, {\"y_rep\": 38.84390612003185}, {\"y_rep\": 51.996372438507464}, {\"y_rep\": 38.8817684242305}, {\"y_rep\": 66.86694054496179}, {\"y_rep\": 55.22172284585238}, {\"y_rep\": 59.87341909288643}, {\"y_rep\": 55.66402204864527}, {\"y_rep\": 51.597606432352144}, {\"y_rep\": 54.078763800903644}, {\"y_rep\": 45.73832245146135}, {\"y_rep\": 44.8700931077393}, {\"y_rep\": 51.59426840333806}, {\"y_rep\": 63.294049435027226}, {\"y_rep\": 50.808732225196444}, {\"y_rep\": 58.6829887389985}, {\"y_rep\": 56.43329377412242}, {\"y_rep\": 39.43352346794056}, {\"y_rep\": 43.476167182517344}, {\"y_rep\": 52.65319346818514}, {\"y_rep\": 52.21815079982871}, {\"y_rep\": 47.633469692954456}, {\"y_rep\": 53.02006131953847}, {\"y_rep\": 51.179194892001256}, {\"y_rep\": 51.37928068453355}, {\"y_rep\": 51.15522629274362}, {\"y_rep\": 48.807269736459126}, {\"y_rep\": 59.94039326371497}, {\"y_rep\": 51.4660902598254}, {\"y_rep\": 44.26250511610688}, {\"y_rep\": 60.00515079858033}, {\"y_rep\": 66.19007695066279}, {\"y_rep\": 57.55837649996052}, {\"y_rep\": 59.908529434617826}, {\"y_rep\": 44.65494029563506}, {\"y_rep\": 56.4992160459406}, {\"y_rep\": 50.883607190610526}, {\"y_rep\": 58.89795987890808}, {\"y_rep\": 55.37357638154295}, {\"y_rep\": 55.66057092152562}, {\"y_rep\": 61.76938843858582}, {\"y_rep\": 49.062375652759926}, {\"y_rep\": 41.25888862531491}, {\"y_rep\": 40.78374354957435}, {\"y_rep\": 49.729176410043266}, {\"y_rep\": 58.38872612712839}, {\"y_rep\": 41.42063628084716}, {\"y_rep\": 48.48698010416371}, {\"y_rep\": 58.333026760090895}, {\"y_rep\": 68.88836568925618}, {\"y_rep\": 36.73653658539747}, {\"y_rep\": 63.966234521592696}, {\"y_rep\": 49.27331758267677}, {\"y_rep\": 49.651646860257486}, {\"y_rep\": 57.502347793225525}, {\"y_rep\": 52.682392494146114}, {\"y_rep\": -17.555191954489697}, {\"y_rep\": 46.75956033337486}, {\"y_rep\": 41.18755724616543}, {\"y_rep\": 40.0533672526406}, {\"y_rep\": 55.231153885489256}, {\"y_rep\": 60.56671290096406}, {\"y_rep\": 54.8625588629364}, {\"y_rep\": 57.499685319861534}, {\"y_rep\": 57.163580319845785}, {\"y_rep\": 49.12474896042133}, {\"y_rep\": 53.91688380231765}, {\"y_rep\": 60.87239520027812}, {\"y_rep\": 62.988455900433344}, {\"y_rep\": 52.65644674327763}, {\"y_rep\": 64.75879542006187}, {\"y_rep\": 48.23050387668893}, {\"y_rep\": 51.622832383608916}, {\"y_rep\": 37.174075754301214}, {\"y_rep\": 59.53032531409721}, {\"y_rep\": 69.85556446040658}, {\"y_rep\": 48.05397838069221}, {\"y_rep\": 64.71165219876885}, {\"y_rep\": 39.17315156609355}, {\"y_rep\": 43.90441098979266}, {\"y_rep\": 40.74516755338528}, {\"y_rep\": 49.106894146706885}, {\"y_rep\": 54.09332926657594}, {\"y_rep\": -0.3838613596227787}, {\"y_rep\": 55.47515137993493}, {\"y_rep\": 52.200047569420164}, {\"y_rep\": 36.25846218456493}, {\"y_rep\": 52.570971117719154}, {\"y_rep\": 58.146076752138185}, {\"y_rep\": 39.15155393149565}, {\"y_rep\": 50.56463396820546}, {\"y_rep\": 55.579097258764826}, {\"y_rep\": 58.23685489654227}, {\"y_rep\": 58.484981290458705}, {\"y_rep\": 51.97282160625148}, {\"y_rep\": 46.85713785686294}, {\"y_rep\": 42.7121896768105}, {\"y_rep\": 59.77565468000512}, {\"y_rep\": 48.22810820061976}, {\"y_rep\": 43.04229553029873}, {\"y_rep\": 32.33073105817778}, {\"y_rep\": 49.62969882535142}, {\"y_rep\": 58.372597939089864}, {\"y_rep\": 37.68655436368623}, {\"y_rep\": 1.3351792726948544}, {\"y_rep\": 55.98150111875168}, {\"y_rep\": 54.35005027919499}, {\"y_rep\": 47.15603420840243}, {\"y_rep\": 43.35131225137063}, {\"y_rep\": 59.04034580424819}, {\"y_rep\": 33.874543314522846}, {\"y_rep\": 33.66461476394659}, {\"y_rep\": 52.944330312832385}, {\"y_rep\": 44.54711621507637}, {\"y_rep\": 52.24881025131146}, {\"y_rep\": 62.66496505130114}, {\"y_rep\": 53.69674948537739}, {\"y_rep\": 51.60977120190311}, {\"y_rep\": 53.896771629628134}, {\"y_rep\": 38.790891659621266}, {\"y_rep\": 60.39102138188265}, {\"y_rep\": 39.11715869564499}, {\"y_rep\": 38.926107745508595}, {\"y_rep\": 61.84407659748799}, {\"y_rep\": 72.12183286528092}, {\"y_rep\": 48.662358203696385}, {\"y_rep\": 48.30637487973611}, {\"y_rep\": 49.28734096914668}, {\"y_rep\": 61.851471584903535}, {\"y_rep\": 64.32140449671246}, {\"y_rep\": 73.9719437179644}, {\"y_rep\": 45.9987839326705}, {\"y_rep\": 53.53816209973072}, {\"y_rep\": 56.819440113709135}, {\"y_rep\": 44.00162304000109}, {\"y_rep\": 47.476514458350394}, {\"y_rep\": 46.723681641223884}, {\"y_rep\": 35.31252876331884}, {\"y_rep\": 47.74338063336507}, {\"y_rep\": 63.15126022926968}, {\"y_rep\": 53.61955054587679}, {\"y_rep\": 51.6850058987021}, {\"y_rep\": 47.12687455326598}, {\"y_rep\": 61.61946150444241}, {\"y_rep\": 51.404292391239515}, {\"y_rep\": 77.75377565299948}, {\"y_rep\": 59.55666364952231}, {\"y_rep\": 45.049267815679926}, {\"y_rep\": 69.28816400929561}, {\"y_rep\": 65.67006365737701}, {\"y_rep\": 49.08978092118978}, {\"y_rep\": 36.96419590455729}, {\"y_rep\": 57.60166150116942}, {\"y_rep\": 53.93118384614924}, {\"y_rep\": 43.014368217506295}, {\"y_rep\": 57.19898813950289}, {\"y_rep\": 44.90451502016452}, {\"y_rep\": 54.28714172832063}, {\"y_rep\": 58.20248385077803}, {\"y_rep\": 29.766179437339915}, {\"y_rep\": 60.64049840452854}, {\"y_rep\": 50.22641451886376}, {\"y_rep\": 64.65889133556085}, {\"y_rep\": 51.135084693557594}, {\"y_rep\": 53.92203668945736}, {\"y_rep\": 40.76180380544797}, {\"y_rep\": 47.874486840419465}, {\"y_rep\": 47.330809463755266}, {\"y_rep\": 50.52294332736915}, {\"y_rep\": 47.81855463643652}, {\"y_rep\": 4.195371070598831}, {\"y_rep\": 70.93662527930631}, {\"y_rep\": 48.405226357556295}, {\"y_rep\": 57.69173885023244}, {\"y_rep\": 49.92794156134481}, {\"y_rep\": 50.828189560569626}, {\"y_rep\": 49.249306927352684}, {\"y_rep\": 61.52705344522252}, {\"y_rep\": 40.40353061566878}, {\"y_rep\": 34.52683696679213}, {\"y_rep\": 49.22290693156491}, {\"y_rep\": 50.469191978732134}, {\"y_rep\": 56.73804907997585}, {\"y_rep\": 41.70823815268099}, {\"y_rep\": 53.76725317728372}, {\"y_rep\": 61.949000119164054}, {\"y_rep\": 59.95715034288865}, {\"y_rep\": 45.52625585864313}, {\"y_rep\": 57.90925881038044}, {\"y_rep\": 42.22718421296265}, {\"y_rep\": 64.71590083437172}, {\"y_rep\": 37.94516494426047}, {\"y_rep\": 47.40241692484472}, {\"y_rep\": 53.55228949028729}, {\"y_rep\": 40.775470553771584}, {\"y_rep\": 49.29464336444338}, {\"y_rep\": 65.50670177416602}, {\"y_rep\": 54.45788746061145}, {\"y_rep\": 54.94015651463076}, {\"y_rep\": 64.35942202311723}, {\"y_rep\": 47.4222982212432}, {\"y_rep\": 57.4584003156466}, {\"y_rep\": 48.48741967348039}, {\"y_rep\": 52.99834383224998}, {\"y_rep\": 37.738907935039165}, {\"y_rep\": 51.02667409171653}, {\"y_rep\": 27.66556558818863}, {\"y_rep\": 54.44808330512288}, {\"y_rep\": 55.59527908330271}, {\"y_rep\": 40.93317864067126}, {\"y_rep\": 51.12672456220605}, {\"y_rep\": 49.44147702652826}, {\"y_rep\": 51.449513659523234}, {\"y_rep\": 42.8276310482025}, {\"y_rep\": 49.965139696673255}, {\"y_rep\": 57.34572609522856}, {\"y_rep\": 42.52334582199223}, {\"y_rep\": 57.175592168478794}, {\"y_rep\": 46.94916225985455}, {\"y_rep\": 35.003904154469936}, {\"y_rep\": 38.80140432643738}, {\"y_rep\": 50.82776024999464}, {\"y_rep\": 50.85215532126399}, {\"y_rep\": 50.82892754391897}, {\"y_rep\": 46.20112483156202}, {\"y_rep\": 59.06550208572499}, {\"y_rep\": 51.21195294012463}, {\"y_rep\": 61.39876607738991}, {\"y_rep\": 55.27783700293176}, {\"y_rep\": 52.55965387067182}, {\"y_rep\": 29.965909871074867}, {\"y_rep\": 56.17240197217932}, {\"y_rep\": 48.175208189739436}, {\"y_rep\": 34.81972701313547}, {\"y_rep\": 46.70158239623812}, {\"y_rep\": 58.5985067724282}, {\"y_rep\": 60.271011276807684}, {\"y_rep\": 39.90052564283316}, {\"y_rep\": 59.10137204152497}, {\"y_rep\": 53.72800831164602}, {\"y_rep\": 58.04356882133729}, {\"y_rep\": 51.79240795474364}, {\"y_rep\": 46.283599370600975}, {\"y_rep\": 50.7991739312606}, {\"y_rep\": 6.823130721909338}, {\"y_rep\": 56.44705801708401}, {\"y_rep\": 53.4250237709484}, {\"y_rep\": 62.37947888706044}, {\"y_rep\": 53.93021558674497}, {\"y_rep\": 51.12796772218226}, {\"y_rep\": 39.5281824424165}, {\"y_rep\": 61.88464083387498}, {\"y_rep\": 37.15726214789769}, {\"y_rep\": 47.03651373537754}, {\"y_rep\": 42.13963217389161}, {\"y_rep\": 63.07120225056952}, {\"y_rep\": 30.652556626318486}, {\"y_rep\": 49.80535506950906}, {\"y_rep\": 59.78445860931079}, {\"y_rep\": 33.10038996078025}, {\"y_rep\": 41.90136239481865}, {\"y_rep\": 47.14061195603561}, {\"y_rep\": 49.96083520038089}, {\"y_rep\": 40.590331180282696}, {\"y_rep\": 52.7639944177522}, {\"y_rep\": 61.80277130890306}, {\"y_rep\": 53.79754594469151}, {\"y_rep\": 73.5768377628094}, {\"y_rep\": 37.296303710500105}, {\"y_rep\": 65.13815855592463}, {\"y_rep\": 53.06335221421789}, {\"y_rep\": 69.48815388992448}, {\"y_rep\": 53.028493921087765}, {\"y_rep\": 62.31918393845433}, {\"y_rep\": 67.51373694259811}, {\"y_rep\": 50.076901517333525}, {\"y_rep\": 52.447941639437495}, {\"y_rep\": 50.730481018189884}, {\"y_rep\": 57.556936091393}, {\"y_rep\": 59.53448142228495}, {\"y_rep\": 38.7254366570002}, {\"y_rep\": 44.33406140141999}, {\"y_rep\": 53.96703944911929}, {\"y_rep\": 63.399161792148355}, {\"y_rep\": 31.1232600252979}, {\"y_rep\": 60.09303559013692}, {\"y_rep\": 58.72331303249608}, {\"y_rep\": 38.7480186719131}, {\"y_rep\": 52.50304803952175}, {\"y_rep\": 38.87238162239818}, {\"y_rep\": -15.499514614102633}, {\"y_rep\": 47.485334096585696}, {\"y_rep\": 51.731978693160585}, {\"y_rep\": 76.98168086625347}, {\"y_rep\": 67.8713730810197}, {\"y_rep\": 50.876180761975526}, {\"y_rep\": 53.12732593996211}, {\"y_rep\": 59.36542316148282}, {\"y_rep\": 20.58598856320566}, {\"y_rep\": 65.75178786860909}, {\"y_rep\": 51.8208019606345}, {\"y_rep\": 40.068283027274916}, {\"y_rep\": 55.67284994309318}, {\"y_rep\": 58.938596044882715}, {\"y_rep\": 35.08142680090356}, {\"y_rep\": 49.587789401688966}, {\"y_rep\": 40.35520872126448}, {\"y_rep\": 49.332562824562245}, {\"y_rep\": 46.85012238709987}, {\"y_rep\": 55.38650906789008}, {\"y_rep\": 38.067193390217085}, {\"y_rep\": 58.85653844767171}, {\"y_rep\": 40.53354814430075}, {\"y_rep\": 60.07599069818161}, {\"y_rep\": 62.9880716733764}, {\"y_rep\": 55.92614831141515}, {\"y_rep\": 58.486086720434415}, {\"y_rep\": 67.45938670256577}, {\"y_rep\": 38.427157217619445}, {\"y_rep\": 49.36069718511092}, {\"y_rep\": 47.72717461013576}, {\"y_rep\": 46.13038130295526}, {\"y_rep\": 41.08874515480892}, {\"y_rep\": 43.194887285484896}, {\"y_rep\": 43.16103112573636}, {\"y_rep\": 60.52719423030796}, {\"y_rep\": 34.956585817858496}, {\"y_rep\": 56.42794384010284}, {\"y_rep\": 50.375426212607486}, {\"y_rep\": 58.887103032860566}, {\"y_rep\": 58.95237528375021}, {\"y_rep\": 53.39259073539913}, {\"y_rep\": 38.77698087877464}, {\"y_rep\": 46.764454723540695}, {\"y_rep\": 66.56047058682306}, {\"y_rep\": 48.19811002724439}, {\"y_rep\": 43.8321332897662}, {\"y_rep\": 56.48309865750481}, {\"y_rep\": 37.641776450735044}, {\"y_rep\": 46.40260914697909}, {\"y_rep\": 45.85044346556066}, {\"y_rep\": 63.04075729168425}, {\"y_rep\": 44.9026931013757}, {\"y_rep\": 52.47594216613017}, {\"y_rep\": 48.17146771730207}, {\"y_rep\": 55.23267957687383}, {\"y_rep\": 42.63915417022917}, {\"y_rep\": 51.379572421340775}, {\"y_rep\": 43.4215115776053}, {\"y_rep\": 41.777945850433426}, {\"y_rep\": 30.29181935351699}, {\"y_rep\": 53.92897229233373}, {\"y_rep\": 41.02354077820537}, {\"y_rep\": 57.91974029965101}, {\"y_rep\": 50.25858482944751}, {\"y_rep\": 35.467572538553455}, {\"y_rep\": 66.06471494524527}, {\"y_rep\": 50.899483126344975}, {\"y_rep\": 10.451341336439572}, {\"y_rep\": 38.447139444475}, {\"y_rep\": 61.123337601523254}, {\"y_rep\": 58.42615894923245}, {\"y_rep\": 40.3169276749927}, {\"y_rep\": 43.92714695797978}, {\"y_rep\": 55.894248824395035}, {\"y_rep\": 68.20926370078584}, {\"y_rep\": 41.729120611143685}, {\"y_rep\": 48.67236423875367}, {\"y_rep\": 37.69648292447317}, {\"y_rep\": 53.13774398921618}, {\"y_rep\": 41.50829678292321}, {\"y_rep\": 47.36560752671146}, {\"y_rep\": 49.15160225757969}, {\"y_rep\": 46.641177760015964}, {\"y_rep\": 48.22748122707329}, {\"y_rep\": 55.08113037699921}, {\"y_rep\": 63.41107206335399}, {\"y_rep\": 41.784522135677165}, {\"y_rep\": 47.4284400709708}, {\"y_rep\": 70.65701659029199}, {\"y_rep\": 54.626632045544795}, {\"y_rep\": 37.101958871446044}, {\"y_rep\": 56.58097879358454}, {\"y_rep\": 53.22470704851181}, {\"y_rep\": 58.95159750697757}, {\"y_rep\": 49.1726967955511}, {\"y_rep\": 43.44064429706499}, {\"y_rep\": 55.22213997821725}, {\"y_rep\": 59.993320870220565}, {\"y_rep\": 57.338014719831996}, {\"y_rep\": 58.493635229676414}, {\"y_rep\": 50.69758167385049}, {\"y_rep\": 55.18956064615103}, {\"y_rep\": 44.77569980222757}, {\"y_rep\": 30.68258609251984}, {\"y_rep\": 74.44211133034938}, {\"y_rep\": 47.09133859907662}, {\"y_rep\": 39.81836956764385}, {\"y_rep\": 52.16743498823851}, {\"y_rep\": 53.40044729784498}, {\"y_rep\": 59.23273684850692}, {\"y_rep\": 59.436324517927176}, {\"y_rep\": 62.83098914686367}, {\"y_rep\": 50.81903801841676}, {\"y_rep\": 51.31993748107613}, {\"y_rep\": 39.64135485379454}, {\"y_rep\": 66.95054270134428}, {\"y_rep\": 58.473952006437834}, {\"y_rep\": 49.75775164545637}, {\"y_rep\": 55.160393266844984}, {\"y_rep\": 69.84628337284367}, {\"y_rep\": 35.764403381774684}, {\"y_rep\": 45.000084058833686}, {\"y_rep\": 35.025707178575}, {\"y_rep\": 44.5065823537154}, {\"y_rep\": 50.95178318234318}, {\"y_rep\": 48.84587415839784}, {\"y_rep\": 41.34889416272453}, {\"y_rep\": 46.2778152960167}, {\"y_rep\": 46.71835935500698}, {\"y_rep\": 22.59085809814044}, {\"y_rep\": 52.64758380443067}, {\"y_rep\": 43.61046125148326}, {\"y_rep\": 35.1034663777894}, {\"y_rep\": 49.25779066402293}, {\"y_rep\": 49.26867545037603}, {\"y_rep\": 45.332657576985724}, {\"y_rep\": 35.978642146175204}, {\"y_rep\": 55.17424062813858}, {\"y_rep\": 50.42714092798511}, {\"y_rep\": 50.86153892097753}, {\"y_rep\": 42.34106887331044}, {\"y_rep\": 36.402964351799746}, {\"y_rep\": 60.339728737985666}, {\"y_rep\": 54.7375317195078}, {\"y_rep\": 71.82949075480036}, {\"y_rep\": 46.88606337182526}, {\"y_rep\": 67.0729297524441}, {\"y_rep\": 51.61527930109859}, {\"y_rep\": 63.85927094644248}, {\"y_rep\": 43.33211364313892}, {\"y_rep\": 47.07756317215228}, {\"y_rep\": 66.2391841268531}, {\"y_rep\": 46.02808942939315}, {\"y_rep\": 58.56171039442693}, {\"y_rep\": 43.68636782014464}, {\"y_rep\": 11.645016553496522}, {\"y_rep\": 59.128514616119}, {\"y_rep\": 28.724072989200472}, {\"y_rep\": 29.35475514937744}, {\"y_rep\": 58.71739705801286}, {\"y_rep\": 59.474078882755975}, {\"y_rep\": 51.580319382738814}, {\"y_rep\": 58.57966599417355}, {\"y_rep\": 46.216978973521144}, {\"y_rep\": 30.670630066609622}, {\"y_rep\": 36.15125198311354}, {\"y_rep\": 50.01525457958307}, {\"y_rep\": 40.790752129887494}, {\"y_rep\": 52.381313549915774}, {\"y_rep\": 38.66788948676262}, {\"y_rep\": 53.229467871757656}, {\"y_rep\": 32.30605536284314}, {\"y_rep\": 57.41635460474942}, {\"y_rep\": 59.4945583335897}, {\"y_rep\": 62.86625822891075}, {\"y_rep\": 57.235592409627436}, {\"y_rep\": 67.38375974081892}, {\"y_rep\": 52.261045605940225}, {\"y_rep\": 21.24001664444322}, {\"y_rep\": 50.74518490102079}, {\"y_rep\": 55.64987572300133}, {\"y_rep\": 61.33100293776676}, {\"y_rep\": 60.355499277159645}, {\"y_rep\": 50.9500466520315}, {\"y_rep\": 61.54043836064631}, {\"y_rep\": 56.19776380226177}, {\"y_rep\": 42.33991406535766}, {\"y_rep\": 46.7798354565416}, {\"y_rep\": 50.096767554285435}, {\"y_rep\": 65.72108736677573}, {\"y_rep\": 34.476066473184886}, {\"y_rep\": 47.47005539574651}, {\"y_rep\": 49.76751473966271}, {\"y_rep\": 52.49844623326334}, {\"y_rep\": 44.47123908948745}, {\"y_rep\": 43.35927884903048}, {\"y_rep\": 54.60796564396512}, {\"y_rep\": 54.74353932209715}, {\"y_rep\": 44.01028614065542}, {\"y_rep\": 51.898106388035735}, {\"y_rep\": 49.50905257531934}, {\"y_rep\": 65.73682589836697}, {\"y_rep\": 63.74543028559877}, {\"y_rep\": 20.14401622744937}, {\"y_rep\": 65.40008265574674}, {\"y_rep\": 48.30503764769108}, {\"y_rep\": 56.51481464838845}, {\"y_rep\": 32.92696609712992}, {\"y_rep\": 43.1168677261276}, {\"y_rep\": 59.304329778825306}, {\"y_rep\": 41.92664228760982}, {\"y_rep\": 44.11073252611784}, {\"y_rep\": 40.609019599350695}, {\"y_rep\": 51.17292427376767}, {\"y_rep\": 45.257126105272256}, {\"y_rep\": 48.21070172804661}, {\"y_rep\": 72.08958628232445}, {\"y_rep\": 39.577026055912384}, {\"y_rep\": 47.10301316808233}, {\"y_rep\": 60.17400094033511}, {\"y_rep\": 46.94904264512252}, {\"y_rep\": 62.14524869808511}, {\"y_rep\": 43.381501068248376}, {\"y_rep\": 52.51069567503397}, {\"y_rep\": 54.48654730876245}, {\"y_rep\": 41.89553113352656}, {\"y_rep\": 53.102872634521596}, {\"y_rep\": 45.8033161123123}, {\"y_rep\": 49.440583981821604}, {\"y_rep\": 50.76969778267939}, {\"y_rep\": 34.03174927118111}, {\"y_rep\": 53.14337234783789}, {\"y_rep\": 49.664078728564505}, {\"y_rep\": 36.01528738903238}, {\"y_rep\": 54.67630866859107}, {\"y_rep\": 72.96737929041203}, {\"y_rep\": 64.3625601817998}, {\"y_rep\": 66.96024638469895}, {\"y_rep\": 50.62880806605241}, {\"y_rep\": 70.77155224377937}, {\"y_rep\": 66.98844846677493}, {\"y_rep\": 59.4348120140306}, {\"y_rep\": 45.43400091926828}, {\"y_rep\": 56.574836269026434}, {\"y_rep\": 46.31740768476937}, {\"y_rep\": 46.71537118642798}, {\"y_rep\": 58.238273361193144}, {\"y_rep\": 50.958956333393715}, {\"y_rep\": 54.20943552157483}, {\"y_rep\": 59.7105856853876}, {\"y_rep\": 40.45228367194301}, {\"y_rep\": 58.23860482182883}, {\"y_rep\": 67.54465416571105}, {\"y_rep\": 29.852892999170535}, {\"y_rep\": 52.32176353614778}, {\"y_rep\": 58.8964293583553}, {\"y_rep\": 50.33762866399503}, {\"y_rep\": 54.907932938042315}, {\"y_rep\": 46.89318626007937}, {\"y_rep\": 58.17635384166016}, {\"y_rep\": 51.99220046702144}, {\"y_rep\": 58.78482999537256}, {\"y_rep\": 43.84227391924193}, {\"y_rep\": 19.702883668330347}, {\"y_rep\": 62.16688334681043}, {\"y_rep\": 44.91547237650593}, {\"y_rep\": -15.135839177085199}, {\"y_rep\": 54.665138329518406}, {\"y_rep\": 44.94272336876907}, {\"y_rep\": 60.98170413196974}, {\"y_rep\": 46.63070159084255}, {\"y_rep\": 51.00486046332693}, {\"y_rep\": 55.65257364089656}, {\"y_rep\": 53.091013787507215}, {\"y_rep\": 69.62367876748475}, {\"y_rep\": 36.626886685485616}, {\"y_rep\": 44.57811395675186}, {\"y_rep\": 40.776193492446524}, {\"y_rep\": 67.74492950384536}, {\"y_rep\": 60.52041166426727}, {\"y_rep\": 48.0946423624529}, {\"y_rep\": 51.15015931496908}, {\"y_rep\": 65.42255821543287}, {\"y_rep\": 38.14593498199692}, {\"y_rep\": 46.846531706313094}, {\"y_rep\": 65.94181931941775}, {\"y_rep\": 42.3401308442617}, {\"y_rep\": 58.44128654623377}, {\"y_rep\": 44.08332764224418}, {\"y_rep\": 45.32531441306348}, {\"y_rep\": 54.876693123420594}, {\"y_rep\": 47.67230784617278}, {\"y_rep\": 58.96558730827571}, {\"y_rep\": 60.83730166043703}, {\"y_rep\": 63.871640628679266}, {\"y_rep\": 32.786248600082786}, {\"y_rep\": 55.22599425528373}, {\"y_rep\": 56.00445735408372}, {\"y_rep\": 38.70683875409349}, {\"y_rep\": 47.68607293159647}, {\"y_rep\": 37.03686820635374}, {\"y_rep\": 62.27129506527839}, {\"y_rep\": 49.496428152275406}, {\"y_rep\": 50.99038638274312}, {\"y_rep\": 50.5835106538697}, {\"y_rep\": 49.66234502547792}, {\"y_rep\": 54.53054064984251}, {\"y_rep\": 49.36782281111926}, {\"y_rep\": 78.615097105931}, {\"y_rep\": 64.2041598022225}, {\"y_rep\": 4.20912356064052}, {\"y_rep\": 57.855134594259766}, {\"y_rep\": 6.446821047982765}, {\"y_rep\": 45.71873554355808}, {\"y_rep\": 47.54838990343427}, {\"y_rep\": 49.439157738379286}, {\"y_rep\": 59.59163705651996}, {\"y_rep\": 64.79852914197181}, {\"y_rep\": 42.85616636066139}, {\"y_rep\": 41.740117085867666}, {\"y_rep\": 72.74498556795294}, {\"y_rep\": 34.577709735391416}, {\"y_rep\": 37.450419650943886}, {\"y_rep\": 60.23624448416932}, {\"y_rep\": 70.25900228746461}, {\"y_rep\": 35.28999309890324}, {\"y_rep\": 51.55377365725691}, {\"y_rep\": 41.709806141772205}, {\"y_rep\": 46.829250379333544}, {\"y_rep\": 36.212250910204105}, {\"y_rep\": 59.2967566950853}, {\"y_rep\": 44.686557704116744}, {\"y_rep\": 56.79925512465549}, {\"y_rep\": 69.84368695940458}, {\"y_rep\": 59.703444228806404}, {\"y_rep\": 58.73816117981297}, {\"y_rep\": 58.38848500503015}, {\"y_rep\": 50.814702348836406}, {\"y_rep\": 47.850396479135256}, {\"y_rep\": 51.935599385533045}, {\"y_rep\": 25.89377267763497}, {\"y_rep\": 41.8544435380487}, {\"y_rep\": 39.82771462914422}, {\"y_rep\": 58.159124097309885}, {\"y_rep\": 77.91220810766072}, {\"y_rep\": 62.43701951426803}, {\"y_rep\": 36.28914712002628}, {\"y_rep\": 73.04806330249608}, {\"y_rep\": 43.34919720321539}, {\"y_rep\": 57.708645844232436}, {\"y_rep\": 47.138008131416306}, {\"y_rep\": 51.36262882033294}, {\"y_rep\": 60.25172579212603}, {\"y_rep\": 50.377364074712396}, {\"y_rep\": 29.729863037273105}, {\"y_rep\": 47.04333493469244}, {\"y_rep\": 64.54214783837278}, {\"y_rep\": 44.07331748124426}, {\"y_rep\": 58.3565002429302}, {\"y_rep\": 43.804880676238305}, {\"y_rep\": 57.813740214306094}, {\"y_rep\": 59.634749107323884}, {\"y_rep\": 41.95883411760347}, {\"y_rep\": 33.01759319213252}, {\"y_rep\": 54.41399943698583}, {\"y_rep\": 43.77156089641225}, {\"y_rep\": 45.70098602748454}, {\"y_rep\": 52.546182965099405}, {\"y_rep\": 70.54960923071826}, {\"y_rep\": 31.794035085828632}, {\"y_rep\": 50.68790779229201}, {\"y_rep\": 64.77165750376555}, {\"y_rep\": 47.83571284258085}, {\"y_rep\": 57.97479340839042}, {\"y_rep\": 16.04420356051771}, {\"y_rep\": 44.09368492708429}, {\"y_rep\": 47.60334024876947}, {\"y_rep\": 59.88980834241396}, {\"y_rep\": 51.89895178786842}, {\"y_rep\": 38.27632275420264}, {\"y_rep\": 47.20418707989226}, {\"y_rep\": 47.88586620290683}, {\"y_rep\": 54.79918551291285}, {\"y_rep\": 51.48963722670504}, {\"y_rep\": 38.488715821479545}, {\"y_rep\": 51.5975544296841}, {\"y_rep\": 36.63511756227349}, {\"y_rep\": 52.76467209430344}, {\"y_rep\": 55.552720540953466}, {\"y_rep\": 45.21351368836196}, {\"y_rep\": 48.49269818037312}, {\"y_rep\": 62.141563675597396}, {\"y_rep\": 67.55698719614061}, {\"y_rep\": 55.12846854736728}, {\"y_rep\": 41.63268004096772}, {\"y_rep\": 46.11496633235404}, {\"y_rep\": 54.63693137929332}, {\"y_rep\": 49.128521462599956}, {\"y_rep\": 52.41497496913319}, {\"y_rep\": 30.443664903725313}, {\"y_rep\": 51.6859401564945}, {\"y_rep\": 58.58532791574892}, {\"y_rep\": 46.27418257834264}, {\"y_rep\": 25.33962256107631}, {\"y_rep\": 62.67076209927055}, {\"y_rep\": 51.546069588966354}, {\"y_rep\": 51.01058166915882}, {\"y_rep\": 33.71126797600232}, {\"y_rep\": 52.539213647769934}, {\"y_rep\": 60.24276408400911}, {\"y_rep\": 57.552523565603785}, {\"y_rep\": 26.328225251431327}, {\"y_rep\": 56.31455597147997}, {\"y_rep\": 56.735900868622146}, {\"y_rep\": 65.50471629168837}, {\"y_rep\": 42.81535840609991}, {\"y_rep\": 55.640511881031685}, {\"y_rep\": 62.3743361274376}, {\"y_rep\": 58.69234089959048}, {\"y_rep\": 55.641084464934686}, {\"y_rep\": 52.555571181366716}, {\"y_rep\": 56.52255913415427}, {\"y_rep\": 54.90879378951876}, {\"y_rep\": 40.66287516965005}, {\"y_rep\": 58.064175599482446}, {\"y_rep\": 42.37009958481637}, {\"y_rep\": 36.76719026179995}, {\"y_rep\": 45.65572864923744}, {\"y_rep\": 71.8100309676317}, {\"y_rep\": 38.17521932786508}, {\"y_rep\": 53.20807133127258}, {\"y_rep\": 57.66995813753226}, {\"y_rep\": 62.20252803908977}, {\"y_rep\": 50.50712040766337}, {\"y_rep\": 57.452561223300684}, {\"y_rep\": 49.80551915467329}, {\"y_rep\": 54.85611545531355}, {\"y_rep\": 61.44476993666032}, {\"y_rep\": 31.060765060376756}, {\"y_rep\": 73.9064201935386}, {\"y_rep\": 63.15710574579819}, {\"y_rep\": 57.44319222991921}, {\"y_rep\": 56.51275625552644}, {\"y_rep\": 38.542313488449345}, {\"y_rep\": 49.670791488875764}, {\"y_rep\": 58.37124229310878}, {\"y_rep\": 45.0119810647007}, {\"y_rep\": 57.76209966673283}, {\"y_rep\": 44.194217913817624}, {\"y_rep\": 36.580155438222974}, {\"y_rep\": 54.47914325936509}, {\"y_rep\": 69.13889730252059}, {\"y_rep\": 46.12939013763335}, {\"y_rep\": 55.84300991995071}, {\"y_rep\": 39.49455223509449}, {\"y_rep\": 54.728106848154894}, {\"y_rep\": 61.628020008281304}, {\"y_rep\": 49.12985785840267}, {\"y_rep\": 49.598892879984625}, {\"y_rep\": 39.21636566271903}, {\"y_rep\": 50.31290794713112}, {\"y_rep\": 67.54914098962749}, {\"y_rep\": 43.62149151926363}, {\"y_rep\": 39.973569989815125}, {\"y_rep\": 58.60871239462618}, {\"y_rep\": 55.11546655952828}, {\"y_rep\": 38.277164158869226}, {\"y_rep\": 56.867722982519396}, {\"y_rep\": 64.0196285597379}, {\"y_rep\": 44.3100823394934}, {\"y_rep\": 52.1049410710738}, {\"y_rep\": 44.64748138514747}, {\"y_rep\": 45.77247524121241}, {\"y_rep\": 55.82098229374863}, {\"y_rep\": 71.29340883843443}, {\"y_rep\": 48.94258157201505}, {\"y_rep\": 46.726738590237474}, {\"y_rep\": 51.79183739947921}, {\"y_rep\": 43.87983824955936}, {\"y_rep\": 47.563302459873405}, {\"y_rep\": 45.68091288092179}, {\"y_rep\": 49.45517796002709}, {\"y_rep\": 52.56191197813399}, {\"y_rep\": 61.482101731170616}, {\"y_rep\": 49.76919079299042}, {\"y_rep\": 52.30097119661137}, {\"y_rep\": 61.71195810868497}, {\"y_rep\": 49.70766916614281}, {\"y_rep\": 64.9722049109644}, {\"y_rep\": 38.81423207663743}, {\"y_rep\": 71.81171273789539}, {\"y_rep\": 52.74587603032416}, {\"y_rep\": 48.99641765883992}, {\"y_rep\": 56.40717603006746}, {\"y_rep\": 54.67029612989744}, {\"y_rep\": 38.47607113050066}, {\"y_rep\": 48.27427067961841}, {\"y_rep\": 43.83189652504981}, {\"y_rep\": 63.691872189676246}, {\"y_rep\": 33.88601519438115}, {\"y_rep\": 49.23328929521635}, {\"y_rep\": 46.28703760680565}, {\"y_rep\": 52.08100558859665}, {\"y_rep\": 29.03487291801582}, {\"y_rep\": 83.23884163465763}, {\"y_rep\": 57.922016610308354}, {\"y_rep\": 36.12197831762519}, {\"y_rep\": 59.35889364582994}, {\"y_rep\": 39.7353074178395}, {\"y_rep\": 48.51616135898628}, {\"y_rep\": 45.87911721221305}, {\"y_rep\": 47.53985265988423}, {\"y_rep\": 40.047736344579825}, {\"y_rep\": 45.55778826261278}, {\"y_rep\": 43.50652446214179}, {\"y_rep\": 61.791418066387145}, {\"y_rep\": 31.080605391299496}, {\"y_rep\": 40.66804017526435}, {\"y_rep\": 64.85567488574209}, {\"y_rep\": 52.157053768754736}, {\"y_rep\": 72.17764686760015}, {\"y_rep\": 45.43502123305672}, {\"y_rep\": 66.42082712981713}, {\"y_rep\": 31.149108034330013}, {\"y_rep\": 50.58185652019492}, {\"y_rep\": 33.470751858352465}, {\"y_rep\": 58.065462066651534}, {\"y_rep\": 44.63623912228566}, {\"y_rep\": 37.36040622663285}, {\"y_rep\": 48.38637938268949}, {\"y_rep\": 46.70886694911252}, {\"y_rep\": 50.93570564152857}, {\"y_rep\": 53.76607199730096}, {\"y_rep\": 49.36557964224687}, {\"y_rep\": 52.97720657632966}, {\"y_rep\": 66.21753925765967}, {\"y_rep\": 51.88381322059136}, {\"y_rep\": 36.58623074701056}, {\"y_rep\": 30.062240400613398}, {\"y_rep\": 55.86258550193195}, {\"y_rep\": -5.332774360966482}, {\"y_rep\": 61.61315376480962}, {\"y_rep\": 43.172819604764356}, {\"y_rep\": 60.2621727416574}, {\"y_rep\": 54.74987891659358}, {\"y_rep\": 41.617271223240074}, {\"y_rep\": 35.92920215035021}, {\"y_rep\": 61.8298254341846}, {\"y_rep\": 54.41823404730976}, {\"y_rep\": 47.857670978222856}, {\"y_rep\": 52.30414158816934}, {\"y_rep\": 65.71231234408525}, {\"y_rep\": 61.10441243923693}, {\"y_rep\": 41.54723853189583}, {\"y_rep\": 31.672857725653728}, {\"y_rep\": 52.57939116087685}, {\"y_rep\": 50.23118517459707}, {\"y_rep\": 37.799146887460466}, {\"y_rep\": 35.64060922626085}, {\"y_rep\": 34.563552233116084}, {\"y_rep\": 43.28623083395798}, {\"y_rep\": 62.16909408169563}, {\"y_rep\": 38.612415281502706}, {\"y_rep\": 42.048186593906486}, {\"y_rep\": 44.167717889978796}, {\"y_rep\": 54.4171988780331}, {\"y_rep\": 45.182888742420914}, {\"y_rep\": 42.331054300936486}, {\"y_rep\": 48.533617634569204}, {\"y_rep\": 57.23607444812112}, {\"y_rep\": 55.024996981030824}, {\"y_rep\": 65.92674729258172}, {\"y_rep\": 44.17580207789294}, {\"y_rep\": 62.8733515103781}, {\"y_rep\": 52.25725683244698}, {\"y_rep\": 40.08102439854014}, {\"y_rep\": 61.02711550752336}, {\"y_rep\": 53.83372893627832}, {\"y_rep\": 49.31616045429374}, {\"y_rep\": 53.65634157575107}, {\"y_rep\": 60.50410581991747}, {\"y_rep\": 48.465411860337355}, {\"y_rep\": 71.89505640448947}, {\"y_rep\": 44.72214095402644}, {\"y_rep\": 61.25914608286366}, {\"y_rep\": 37.60812279980464}, {\"y_rep\": 39.94067272140306}, {\"y_rep\": 48.57384383487884}, {\"y_rep\": 39.08930490719142}, {\"y_rep\": 48.094645703551876}, {\"y_rep\": 54.2483638311947}, {\"y_rep\": 48.785355521408334}, {\"y_rep\": 44.880850174546595}, {\"y_rep\": 43.63277806700063}, {\"y_rep\": 46.18523197528101}, {\"y_rep\": 68.83454065979241}, {\"y_rep\": 54.88735496176365}, {\"y_rep\": 41.92322673695461}, {\"y_rep\": 63.11735158791561}, {\"y_rep\": 55.371313257333604}, {\"y_rep\": 62.781175237532416}, {\"y_rep\": 50.340532319797866}, {\"y_rep\": 41.80623619593366}, {\"y_rep\": 60.6544438068837}, {\"y_rep\": 45.09530386250081}, {\"y_rep\": 48.91446850285447}, {\"y_rep\": 36.60525099284449}, {\"y_rep\": 53.77417248132954}, {\"y_rep\": 65.12914836723434}, {\"y_rep\": 35.01069421766948}, {\"y_rep\": 21.238250949418266}, {\"y_rep\": 54.862340345372516}, {\"y_rep\": 54.71724821588782}, {\"y_rep\": 54.83432334824976}, {\"y_rep\": 41.02162817083085}, {\"y_rep\": 53.19342034803397}, {\"y_rep\": 46.830982767426775}, {\"y_rep\": 51.26094110786503}, {\"y_rep\": 51.74547984404607}, {\"y_rep\": 73.92269161870311}, {\"y_rep\": 27.14321224239152}, {\"y_rep\": 39.97038268570263}, {\"y_rep\": 33.828893704916005}, {\"y_rep\": 56.80025259428227}, {\"y_rep\": 49.617678617534565}, {\"y_rep\": 46.06100788770333}, {\"y_rep\": 27.68333233925879}, {\"y_rep\": 61.79882054195075}, {\"y_rep\": 55.54874139472441}, {\"y_rep\": 41.387471708262055}, {\"y_rep\": 28.092763009526326}, {\"y_rep\": 50.22965878672645}, {\"y_rep\": 61.00646972956796}, {\"y_rep\": 44.17364257035557}, {\"y_rep\": 51.72603288178976}, {\"y_rep\": 69.6653029424761}, {\"y_rep\": 61.587591422735606}, {\"y_rep\": 60.6768891824546}, {\"y_rep\": 32.951369106526826}, {\"y_rep\": 62.936675328852175}, {\"y_rep\": 53.962655485927606}, {\"y_rep\": 53.853402414066565}, {\"y_rep\": 49.2837160688524}, {\"y_rep\": 59.09156833573717}, {\"y_rep\": 41.807693363004624}, {\"y_rep\": 36.02232765484768}, {\"y_rep\": 2.408216081593178}, {\"y_rep\": 53.708160130201655}, {\"y_rep\": 16.25676034940485}, {\"y_rep\": 38.52622343569955}, {\"y_rep\": 80.66897020932933}, {\"y_rep\": 50.7337850141066}, {\"y_rep\": 42.456151260651225}, {\"y_rep\": 45.063929809603586}, {\"y_rep\": 44.90725718046066}, {\"y_rep\": 49.89885704581586}, {\"y_rep\": 66.8327301744538}, {\"y_rep\": 52.716785920380076}, {\"y_rep\": 34.65003936153658}, {\"y_rep\": 63.419427208074914}, {\"y_rep\": 59.57636836937157}, {\"y_rep\": 45.233424190449014}, {\"y_rep\": 59.382447624015484}, {\"y_rep\": 53.94247669659199}, {\"y_rep\": 57.21349454498025}, {\"y_rep\": 59.75433858164516}, {\"y_rep\": 41.87595756536437}, {\"y_rep\": 56.811871868458006}, {\"y_rep\": 60.84452808281695}, {\"y_rep\": 33.8932623274857}, {\"y_rep\": 38.1538456400285}, {\"y_rep\": 42.93168885755941}, {\"y_rep\": 54.603696750910125}, {\"y_rep\": 60.93119817157032}, {\"y_rep\": 44.40458762489373}, {\"y_rep\": 62.386063235873124}, {\"y_rep\": 31.941857509065965}, {\"y_rep\": 54.84085827356473}, {\"y_rep\": 47.246187174014636}, {\"y_rep\": 47.24812145219174}, {\"y_rep\": 47.8559063809352}, {\"y_rep\": 40.84141603968171}, {\"y_rep\": 63.142602482277844}, {\"y_rep\": 48.52367370929196}, {\"y_rep\": 51.16615900758963}, {\"y_rep\": 63.74411071631514}, {\"y_rep\": 45.79847574624319}, {\"y_rep\": 39.24538290049749}, {\"y_rep\": 55.633159797117415}, {\"y_rep\": 49.07012776471468}, {\"y_rep\": 55.45584929703481}, {\"y_rep\": 11.528108740139324}, {\"y_rep\": 41.51753845094059}, {\"y_rep\": 62.383879599469324}, {\"y_rep\": 35.36274554617769}, {\"y_rep\": 52.27651933199797}, {\"y_rep\": 68.65077408000984}, {\"y_rep\": 48.32146643226568}, {\"y_rep\": 49.465391125024915}, {\"y_rep\": 70.01899642903398}, {\"y_rep\": 59.05478875903847}, {\"y_rep\": 39.158208958658825}, {\"y_rep\": 42.832054365263126}, {\"y_rep\": 35.63186513731423}, {\"y_rep\": 47.86156228892557}, {\"y_rep\": 34.981281159420895}, {\"y_rep\": 51.50748870290793}, {\"y_rep\": 49.90092041301611}, {\"y_rep\": 48.916986028380826}, {\"y_rep\": 41.032907958802966}, {\"y_rep\": 52.07164629967073}, {\"y_rep\": 70.94506904997674}, {\"y_rep\": 64.19009911118113}, {\"y_rep\": 56.93948692643114}, {\"y_rep\": 66.75775057388677}, {\"y_rep\": 51.15188186577493}, {\"y_rep\": 34.254803235630085}, {\"y_rep\": 39.808705916761554}, {\"y_rep\": 45.37675245899758}, {\"y_rep\": 61.48699613094014}, {\"y_rep\": 59.70407053814127}, {\"y_rep\": 23.35849217873213}, {\"y_rep\": 51.025554388507686}, {\"y_rep\": 52.91514086365302}, {\"y_rep\": 56.412743191102344}, {\"y_rep\": 57.70119295495236}, {\"y_rep\": 40.464520236437345}, {\"y_rep\": 30.959063128929124}, {\"y_rep\": 64.33714370471212}, {\"y_rep\": 42.901246024253}, {\"y_rep\": 49.85911601081916}, {\"y_rep\": 58.032081239647596}, {\"y_rep\": 65.86821461552577}, {\"y_rep\": 48.06958032960127}, {\"y_rep\": 43.999252592305616}, {\"y_rep\": 54.00450024052422}, {\"y_rep\": 49.8484583469282}, {\"y_rep\": 60.06686883624929}, {\"y_rep\": 63.03110093878238}, {\"y_rep\": 38.47887904378826}, {\"y_rep\": 48.145972470910316}, {\"y_rep\": 40.618318785646636}, {\"y_rep\": 37.71030455323759}, {\"y_rep\": 35.71544355768628}, {\"y_rep\": 49.76952945404955}, {\"y_rep\": 44.54211990663917}, {\"y_rep\": 55.34770269689444}, {\"y_rep\": 42.34592133809043}, {\"y_rep\": 55.53431970099284}, {\"y_rep\": 50.17956530828997}, {\"y_rep\": 52.17306119082466}, {\"y_rep\": 43.157348555625866}, {\"y_rep\": 37.97560888811857}, {\"y_rep\": 55.66989997956786}, {\"y_rep\": 50.314527306066445}, {\"y_rep\": 63.228654141413045}, {\"y_rep\": 39.364828185117844}, {\"y_rep\": 39.714678071704725}, {\"y_rep\": 64.20916290364485}, {\"y_rep\": 55.95687450239322}, {\"y_rep\": 63.35629102240963}, {\"y_rep\": 28.433891976347095}, {\"y_rep\": 44.81864337350495}, {\"y_rep\": 61.27876927971535}, {\"y_rep\": 69.9785987650689}, {\"y_rep\": 53.728599134701724}, {\"y_rep\": 29.39511671012901}, {\"y_rep\": 52.62243581304015}, {\"y_rep\": 41.770778250266204}, {\"y_rep\": 71.94149411035028}, {\"y_rep\": 36.59608712040168}, {\"y_rep\": 42.4908116308788}, {\"y_rep\": 58.90439333133992}, {\"y_rep\": 62.838309431251254}, {\"y_rep\": 63.50886413492827}, {\"y_rep\": 54.22408494495255}, {\"y_rep\": 49.52497897079592}, {\"y_rep\": 27.987137321752684}, {\"y_rep\": 60.4562132793979}, {\"y_rep\": 29.417166705327606}, {\"y_rep\": 44.018430379340906}, {\"y_rep\": 53.2862444304805}, {\"y_rep\": 49.44377228835822}, {\"y_rep\": 56.47113992431812}, {\"y_rep\": 68.43275895174865}, {\"y_rep\": 38.50202776638353}, {\"y_rep\": 49.92401890976742}, {\"y_rep\": 52.24991758894544}, {\"y_rep\": 33.37706986459787}, {\"y_rep\": 45.271021077458016}, {\"y_rep\": 53.025208685863205}, {\"y_rep\": 40.54733254180286}, {\"y_rep\": 54.647680416610925}, {\"y_rep\": 42.329248430102986}, {\"y_rep\": 68.23869783850552}, {\"y_rep\": -15.063753630352139}, {\"y_rep\": 43.68778016229007}, {\"y_rep\": 48.59538308744175}, {\"y_rep\": 43.55462678265403}, {\"y_rep\": 48.202777858060465}, {\"y_rep\": 50.53763603492845}, {\"y_rep\": 50.52012912176163}, {\"y_rep\": 61.85310876853289}, {\"y_rep\": 44.15843105131495}, {\"y_rep\": 32.346324950992496}, {\"y_rep\": 36.77488959543588}, {\"y_rep\": 31.24327008357009}, {\"y_rep\": 48.47909348804696}, {\"y_rep\": 47.759314220751726}, {\"y_rep\": 46.680817485242436}, {\"y_rep\": 39.06641963386956}, {\"y_rep\": 56.647128613641286}, {\"y_rep\": 45.63415351912454}, {\"y_rep\": 54.799370670822064}, {\"y_rep\": 60.76937495064273}, {\"y_rep\": 64.03571381264872}, {\"y_rep\": 52.450480178502076}, {\"y_rep\": 30.949673065771858}, {\"y_rep\": 66.26282264893564}, {\"y_rep\": 50.150055004511074}, {\"y_rep\": 18.2975749042244}, {\"y_rep\": 31.074492572609255}, {\"y_rep\": 49.35229992737068}, {\"y_rep\": 49.96851262191803}, {\"y_rep\": 50.78474537592162}, {\"y_rep\": 40.37883444954049}, {\"y_rep\": 58.86111301212273}, {\"y_rep\": 44.0484333275367}, {\"y_rep\": 33.00682538668653}, {\"y_rep\": 41.915959850358405}, {\"y_rep\": 50.451292203499854}, {\"y_rep\": 48.74218566118416}, {\"y_rep\": 36.58502268111356}, {\"y_rep\": 28.31217097614669}, {\"y_rep\": 45.83672236408121}, {\"y_rep\": 48.84280577973756}, {\"y_rep\": 43.11641632894823}, {\"y_rep\": 52.73746830766474}, {\"y_rep\": 37.967001584706914}, {\"y_rep\": 40.535504446664206}, {\"y_rep\": 51.84506558790396}, {\"y_rep\": 43.77721372393959}, {\"y_rep\": 64.89028789734616}, {\"y_rep\": 53.189066607758505}, {\"y_rep\": 53.704293712142345}, {\"y_rep\": 62.27340667999759}, {\"y_rep\": 47.6831891955797}, {\"y_rep\": 39.309552178768186}, {\"y_rep\": 56.731962637257276}, {\"y_rep\": 60.09212350808187}, {\"y_rep\": 46.78708861288706}, {\"y_rep\": 40.923138215750434}, {\"y_rep\": 43.59373925022185}, {\"y_rep\": 42.559244452082254}, {\"y_rep\": 51.68261279751688}, {\"y_rep\": 36.020621921112664}, {\"y_rep\": 53.99866120152437}, {\"y_rep\": 53.50857851756417}, {\"y_rep\": 59.64983634092062}, {\"y_rep\": 47.68482532934476}, {\"y_rep\": 51.44101388042033}, {\"y_rep\": 36.279673951084234}, {\"y_rep\": 50.42810181767537}, {\"y_rep\": 39.186738142476855}, {\"y_rep\": 53.31308178204245}, {\"y_rep\": 52.70216261908439}, {\"y_rep\": 47.266111482540445}, {\"y_rep\": 45.959321547615275}, {\"y_rep\": 43.443784465456964}, {\"y_rep\": 67.46761384850822}, {\"y_rep\": 44.70022157971569}, {\"y_rep\": 53.872463283893715}, {\"y_rep\": 50.89267293824972}, {\"y_rep\": 49.68222476330584}, {\"y_rep\": 76.3362351635381}, {\"y_rep\": 48.49824337015329}, {\"y_rep\": 46.11068307326298}, {\"y_rep\": 48.50349998980589}, {\"y_rep\": 73.72071543369495}, {\"y_rep\": 66.58724558339607}], \"data-b40fb672f5df0c4a5b6530fdf9b8d84c\": [{\"sample\": 56.66437089156938}, {\"sample\": 70.1222737432444}, {\"sample\": 55.46642428893278}, {\"sample\": 48.35415305229295}, {\"sample\": 47.32820649634272}, {\"sample\": 42.3722343370326}, {\"sample\": 65.20487034513071}, {\"sample\": 57.09981399530821}, {\"sample\": 58.82010705244451}, {\"sample\": 47.00413546603327}, {\"sample\": 57.7634917878716}, {\"sample\": 49.13890598989623}, {\"sample\": 56.326517463233536}, {\"sample\": 64.25104881048}, {\"sample\": 52.101667774447186}, {\"sample\": 61.85487971266747}, {\"sample\": 53.295256015085265}, {\"sample\": 46.54853153668344}, {\"sample\": 53.197603742962755}, {\"sample\": 72.22039310252569}, {\"sample\": 55.207817793004146}, {\"sample\": 37.64683647650898}, {\"sample\": 47.90259425254552}, {\"sample\": 28.623266955077106}, {\"sample\": 51.96913596880008}, {\"sample\": 50.50248320116957}, {\"sample\": 50.730699456715705}, {\"sample\": 47.43411047702995}, {\"sample\": 52.73468173929258}, {\"sample\": 38.056838349683986}, {\"sample\": 61.331898894170365}, {\"sample\": 70.20791233978002}, {\"sample\": 48.559794881707795}, {\"sample\": 38.49616850987176}, {\"sample\": 49.90167906646811}, {\"sample\": 37.455623148133824}, {\"sample\": 49.26287119314716}, {\"sample\": 51.31797732948116}, {\"sample\": 53.90665594693689}, {\"sample\": 43.32392841337442}, {\"sample\": 59.82794747626088}, {\"sample\": 41.9977647520223}, {\"sample\": 77.84337319203047}, {\"sample\": 41.97643464847542}, {\"sample\": 41.01254156044092}, {\"sample\": 42.776787499147304}, {\"sample\": 62.63788446046864}, {\"sample\": 47.03807335911224}, {\"sample\": 51.49273086720202}, {\"sample\": 49.45970534094422}, {\"sample\": 62.42991392097449}, {\"sample\": 67.43299296117115}, {\"sample\": 42.16002054901792}, {\"sample\": 55.582502506834324}, {\"sample\": 65.84815512315615}, {\"sample\": 35.249201395440444}, {\"sample\": 46.85229075438708}, {\"sample\": 47.67833060175776}, {\"sample\": 42.199347126196265}, {\"sample\": 50.14254660623088}, {\"sample\": 49.230483652140265}, {\"sample\": 46.38217960388856}, {\"sample\": 70.45359572711669}, {\"sample\": 56.159432274177355}, {\"sample\": 52.27692654470968}, {\"sample\": 53.37204329798026}, {\"sample\": 49.92275894711518}, {\"sample\": 51.19486367638108}, {\"sample\": 49.312934597630615}, {\"sample\": 40.00573028975783}, {\"sample\": 52.07011950067719}, {\"sample\": 51.70785541976745}, {\"sample\": 59.69222778462564}, {\"sample\": 37.28218064409016}, {\"sample\": 52.75845191258336}, {\"sample\": 39.23705328935399}, {\"sample\": 56.823465937124034}, {\"sample\": 49.768297655630136}, {\"sample\": 36.197126283125186}, {\"sample\": 42.503802339789495}, {\"sample\": 54.87931711512904}, {\"sample\": 48.229762564241376}, {\"sample\": 38.59600774229556}, {\"sample\": 51.90735817132522}, {\"sample\": 47.80696322962815}, {\"sample\": 44.01313923305602}, {\"sample\": 57.2698080433357}, {\"sample\": 50.199738212412534}, {\"sample\": 37.137936838581936}, {\"sample\": 76.2934799228272}, {\"sample\": 51.34729401976674}, {\"sample\": 39.416001187005875}, {\"sample\": 54.257702105210015}, {\"sample\": 45.75708396689755}, {\"sample\": 52.433813371408185}, {\"sample\": 64.36277273916959}, {\"sample\": 56.70765137453024}, {\"sample\": 61.04695403960364}, {\"sample\": 41.9437096236022}, {\"sample\": 38.71136707708652}, {\"sample\": 41.04693578137011}, {\"sample\": 55.54158998625748}, {\"sample\": 47.54075345066074}, {\"sample\": 42.1836029396192}, {\"sample\": 61.58001611203844}, {\"sample\": 44.508258753111996}, {\"sample\": 56.53362594694951}, {\"sample\": 63.3258040568935}, {\"sample\": 50.63046835617651}, {\"sample\": 49.30406954647971}, {\"sample\": 44.65060063829259}, {\"sample\": 47.949824651412726}, {\"sample\": 43.57870551600187}, {\"sample\": 48.40019780014254}, {\"sample\": 27.367296716598215}, {\"sample\": 67.69233866014916}, {\"sample\": 50.94785091213079}, {\"sample\": 74.15095074939592}, {\"sample\": 62.58349816073256}, {\"sample\": 40.4486779287317}, {\"sample\": 53.23766050185274}, {\"sample\": 43.485971240683114}, {\"sample\": 43.28016776239954}, {\"sample\": 48.19605313975627}, {\"sample\": 53.43447248279695}, {\"sample\": 58.29622699354327}, {\"sample\": 62.906944014937054}, {\"sample\": 33.08269717142133}, {\"sample\": 35.996011832522164}, {\"sample\": 47.64382563877161}, {\"sample\": 46.531433041166196}, {\"sample\": 45.97966861815267}, {\"sample\": 59.94904335826969}, {\"sample\": 28.149508958185294}, {\"sample\": 44.76481282132103}, {\"sample\": 49.805588668268165}, {\"sample\": 67.1706422104849}, {\"sample\": 44.489016153937214}, {\"sample\": 64.83791606723103}, {\"sample\": 49.66056337128638}, {\"sample\": 61.22164277619518}, {\"sample\": 63.611052496015866}, {\"sample\": 63.0137005385278}, {\"sample\": 53.84774319609803}, {\"sample\": 30.287223446473043}, {\"sample\": 53.668453843507834}, {\"sample\": 49.8747616786005}, {\"sample\": 68.33274073166436}, {\"sample\": 41.137471137475956}, {\"sample\": 58.14726332225743}]}}, {\"mode\": \"vega-lite\"});\n",
       "</script>"
      ],
      "text/plain": [
       "alt.HConcatChart(...)"
      ]
     },
     "execution_count": 33,
     "metadata": {},
     "output_type": "execute_result"
    }
   ],
   "source": [
    "plot_ppc_data"
   ]
  },
  {
   "cell_type": "markdown",
   "metadata": {
    "slideshow": {
     "slide_type": "subslide"
    }
   },
   "source": [
    "Does Metropolis-Hastings always converge to the posterior?\n",
    "\n",
    "Short answer: yes (but it could take long).<br>\n",
    "Long answer: chapter 7, Kruschke, 2d edition. \n"
   ]
  },
  {
   "cell_type": "markdown",
   "metadata": {
    "slideshow": {
     "slide_type": "subslide"
    }
   },
   "source": [
    "Does Metropolis-Hastings always converge to the posterior?\n",
    "\n",
    "Intuition. Assume we have a posterior $\\theta=0.15$. The following chain converges to that posterior.\n",
    "\n",
    "<center><img src=\"img/3_CB/mcmc_diagram.svg\" width = \"350\" height = '350'></center>\n",
    "<p style = 'font-size: 10px'>Fuente: https://people.duke.edu/~ccc14/sta-663/MCMC.html </p>\n",
    "\n",
    "A chain converges if it is:\n",
    "* Irreducible (can go to any state)\n",
    "* Aperiodic (we never get stuck in a loop between states)\n",
    "* Positive recurrence (the expected time to come back to the original state must be finite)"
   ]
  },
  {
   "cell_type": "markdown",
   "metadata": {
    "slideshow": {
     "slide_type": "slide"
    }
   },
   "source": [
    "# An important tool: gradient descent  "
   ]
  },
  {
   "cell_type": "markdown",
   "metadata": {
    "slideshow": {
     "slide_type": "subslide"
    }
   },
   "source": [
    "Objective: obtain the posterior distribution\n",
    "\n",
    "Previous solution: stochastic method (Markov + Montecarlo)\n",
    "\n",
    "Complementary solution: follow a gradient along the posterior distribution\n"
   ]
  },
  {
   "cell_type": "markdown",
   "metadata": {
    "slideshow": {
     "slide_type": "subslide"
    }
   },
   "source": [
    "What is gradient descent (ascent)?<br>\n",
    "Alpinist metaphor\n",
    "\n",
    "<center><img src=\"img/3_CB/3D_panorama.svg\" width = \"500\" height = '500'></center>\n"
   ]
  },
  {
   "cell_type": "markdown",
   "metadata": {
    "slideshow": {
     "slide_type": "subslide"
    }
   },
   "source": [
    "The descent (minimization) algorithm looks, in general, like this:\n",
    "* Estimate the negative gradient (slope) of the function in the current point: $\\nabla f(x_k)$\n",
    "\n",
    "* Move in the direction of the negative gradient."
   ]
  },
  {
   "cell_type": "markdown",
   "metadata": {
    "slideshow": {
     "slide_type": "subslide"
    }
   },
   "source": [
    "Let's see an implementation (github.com/dtnewman/):\n",
    "\n",
    "$$f(x) = x^3 - 2x^2+2$$"
   ]
  },
  {
   "cell_type": "code",
   "execution_count": 34,
   "metadata": {
    "slideshow": {
     "slide_type": "fragment"
    }
   },
   "outputs": [
    {
     "data": {
      "image/png": "[encoded data removed]",
      "text/plain": [
       "<Figure size 360x324 with 1 Axes>"
      ]
     },
     "metadata": {
      "needs_background": "light"
     },
     "output_type": "display_data"
    }
   ],
   "source": [
    "fig, ax = plt.subplots(1,1, figsize=[5,4.5]);\n",
    "f = lambda x: x**3-2*x**2+2 \n",
    "x = np.linspace(-1,2.5,1000)\n",
    "ax.plot(x, f(x), lw = 3);\n",
    "ax.set_title('Find the minimum (local)', fontsize=25);\n",
    "#fig.savefig(\"img/3_CB/Gradient_Desc.svg\"), plt.close();\n",
    "#plt.close()="
   ]
  },
  {
   "cell_type": "code",
   "execution_count": 35,
   "metadata": {
    "slideshow": {
     "slide_type": "subslide"
    }
   },
   "outputs": [],
   "source": [
    "# Code: 2D gradient descent github.com/dtnewman/stochastic_gradient_descent/\n",
    "\n",
    "def f_prime(x): #derivative (slope) of our function\n",
    "    return 3*x**2-4*x\n",
    "\n",
    "x_old,  x_new = 0, 2.5 #starting position\n",
    "n_k = 0.01 #step size\n",
    "precision = 0.001\n",
    "x_list, y_list = [x_new], [f(x_new)]    \n",
    "while abs(x_new - x_old) > precision:       \n",
    "    x_old = x_new\n",
    "    s_k = -f_prime(x_old)\n",
    "    x_new = x_old + n_k * s_k #The \"vigor\" of the descent depends on the gradient\n",
    "    x_list.append(x_new), y_list.append(f(x_new))        \n"
   ]
  },
  {
   "cell_type": "code",
   "execution_count": 39,
   "metadata": {
    "slideshow": {
     "slide_type": "skip"
    }
   },
   "outputs": [],
   "source": [
    "#Plot\n",
    "def animate(i, x_list):\n",
    "    idx = int(i)\n",
    "    ax.plot(x_list[i], f(x_list[i]),'ro')\n",
    "    if idx>0:\n",
    "        x = x_list[(idx-1):(idx+1)]\n",
    "        y = [f(x[0]),f(x[1])]\n",
    "        ax.plot(x,y,'r')\n",
    "fig, ax = plt.subplots(1,1, figsize=[7,7]);\n",
    "ax.set_title('Find the minimum (local)', fontsize=25)\n",
    "x = np.linspace(-0.75,2.5,1000)\n",
    "ax.plot(x, f(x), lw = 3);\n",
    "# call the animator.  blit=True means only re-draw the parts that have changed.\n",
    "anim = animation.FuncAnimation(fig, animate, interval = 500, \n",
    "                               frames = len(x_list), blit=False, fargs = ([x_list]))\n",
    "writer = animation.PillowWriter(fps=5)\n",
    "#anim.save('img/3_CB/Gradient_animation.gif', writer = writer); #Compress online\n",
    "plt.close()"
   ]
  },
  {
   "cell_type": "markdown",
   "metadata": {
    "slideshow": {
     "slide_type": "fragment"
    }
   },
   "source": [
    "<center><img src=\"img/3_CB/Gradient_animation.gif\" width = \"350\" height = '350'></center>"
   ]
  },
  {
   "cell_type": "markdown",
   "metadata": {
    "slideshow": {
     "slide_type": "subslide"
    }
   },
   "source": [
    "Can we accelarate the algorithm? \n",
    "\n",
    "Yes. Make adaptive steps. "
   ]
  },
  {
   "cell_type": "code",
   "execution_count": 40,
   "metadata": {
    "slideshow": {
     "slide_type": "subslide"
    }
   },
   "outputs": [],
   "source": [
    "# We pass the following function to a minimizing routine in python (fmin)\n",
    "def f2(n,x,s):\n",
    "    #n: step; fmin adapts this step to minimize y faster\n",
    "    #s: gradient; x: coordinate x\n",
    "    x = x + n*s #movement along x\n",
    "    y = f(x) #y (to minimize)\n",
    "    return y \n",
    "\n",
    "x_old,  x_new = 0, 2.5 #starting position\n",
    "n_k_init = 0.1 #step size (initial value passed to fmin)\n",
    "x_list, y_list = [x_new], [f(x_new)]\n",
    "while abs(x_new - x_old) > precision:\n",
    "    x_old = x_new\n",
    "    s_k = -f_prime(x_old)   \n",
    "    \n",
    "    # use scipy fmin function to find ideal step size.\n",
    "    n_k = fmin(f2,n_k_init,(x_old,s_k), full_output = False, disp = False)\n",
    "    \n",
    "    x_new = x_old + n_k * s_k\n",
    "    x_list.append(x_new)\n",
    "    y_list.append(f(x_new))"
   ]
  },
  {
   "cell_type": "code",
   "execution_count": 41,
   "metadata": {
    "slideshow": {
     "slide_type": "skip"
    }
   },
   "outputs": [
    {
     "name": "stderr",
     "output_type": "stream",
     "text": [
      "C:\\ProgramData\\Anaconda3\\lib\\site-packages\\numpy\\core\\_asarray.py:136: VisibleDeprecationWarning: Creating an ndarray from ragged nested sequences (which is a list-or-tuple of lists-or-tuples-or ndarrays with different lengths or shapes) is deprecated. If you meant to do this, you must specify 'dtype=object' when creating the ndarray\n",
      "  return array(a, dtype, copy=False, order=order, subok=True)\n"
     ]
    }
   ],
   "source": [
    "fig, ax = plt.subplots(1,1, figsize=[7,7]);\n",
    "ax.set_title('Find the minimum (local)\\n adaptive', fontsize=25)\n",
    "x = np.linspace(-0.75,2.5,1000)\n",
    "ax.plot(x, f(x), lw = 3);\n",
    "# call the animator.  blit=True means only re-draw the parts that have changed.\n",
    "anim = animation.FuncAnimation(fig, animate, interval = 500, \n",
    "                               frames = len(x_list), blit=False, fargs = ([x_list]))\n",
    "writer = animation.PillowWriter(fps=5)\n",
    "#anim.save('img/3_CB/Gradient_adapt_animation.gif', writer = writer); #Compress online\n",
    "plt.close()"
   ]
  },
  {
   "cell_type": "markdown",
   "metadata": {
    "slideshow": {
     "slide_type": "subslide"
    }
   },
   "source": [
    "|<img src=\"img/3_CB/Gradient_animation.gif\" width = \"300\" height = '300'>|<img src=\"img/3_CB/Gradient_adapt_animation.gif\" width = \"300\" height = '300'>|\n",
    "|:-:|:-:|\n",
    "|||"
   ]
  },
  {
   "cell_type": "markdown",
   "metadata": {
    "slideshow": {
     "slide_type": "subslide"
    }
   },
   "source": [
    "Gradient descent does not always find global minimums (or max); mostly local.\n",
    "\n",
    "We can search any function. For instance, ordinary least squares (OLS):\n",
    "$${1 \\over m} \\sum\\limits_{i=1}^m (h_\\beta(x_i)-y_i)^2$$\n",
    "\n",
    "There can be many $\\beta$, you just need to define all the partial derivatives."
   ]
  },
  {
   "cell_type": "markdown",
   "metadata": {
    "slideshow": {
     "slide_type": "subslide"
    }
   },
   "source": [
    "In Bayesian models and analyses we want to explore the posterior $p(\\theta_1,...\\theta_n|data)$. \n",
    "\n",
    "It is usually a complicated multidimensional functions. There are MCMC algorithms that explore using gradients. An important one is Hamiltonian MCMC. <br><br>\n",
    "\n",
    "<center><img src=\"img/3_CB/3D_panorama.svg\" width = \"400\" height = '400'></center>"
   ]
  },
  {
   "cell_type": "markdown",
   "metadata": {
    "slideshow": {
     "slide_type": "subslide"
    }
   },
   "source": [
    "We will use Hamiltonian MCMC a lot. Here is the intuition: explore the posterior using gradients and momentum.<br><br>\n",
    "\n",
    "<center><img src=\"img/3_CB/Hamiltonian_MCMC_1.svg\" width = \"475\" height = '475'></center>\n",
    "\n",
    "Fuente: Betancourt (2018)"
   ]
  },
  {
   "cell_type": "markdown",
   "metadata": {
    "slideshow": {
     "slide_type": "slide"
    }
   },
   "source": [
    "# Variational inference"
   ]
  },
  {
   "cell_type": "markdown",
   "metadata": {
    "slideshow": {
     "slide_type": "subslide"
    }
   },
   "source": [
    "Painter metaphor (similarity)\n",
    "<center><img src=\"img/3_CB/triple_self_portrait.jpg\" width = \"400\" height = '400'></center>\n",
    "<p style = 'font-size: 15px'>Source: https://displate.com/tonycenteno/displates </p>\n"
   ]
  },
  {
   "cell_type": "markdown",
   "metadata": {
    "slideshow": {
     "slide_type": "subslide"
    }
   },
   "source": [
    "Problem: Some posteriors are intractable or impossible to sample with MCMC.\n",
    "\n",
    "Solution: variational inference: pick a distribution similar enough that is easy to sample. That distribution is called variational distribution."
   ]
  },
  {
   "cell_type": "markdown",
   "metadata": {
    "slideshow": {
     "slide_type": "subslide"
    }
   },
   "source": [
    "What does it mean \"similar\"?\n",
    "<center><img src=\"img/3_CB/KL_1.svg\" width = \"600\" height = '600'></center>\n"
   ]
  },
  {
   "cell_type": "markdown",
   "metadata": {
    "slideshow": {
     "slide_type": "subslide"
    }
   },
   "source": [
    "One could think of many criteria. Here we will use Kullback–Leibler (KL) divergence\n",
    "\n",
    "$$ D_{KL} (q(z)\\|p(z|x)) = \\int_z q(z) log \\left(\\frac{q(z)}{p(z|x)} \\right)dz$$\n",
    "\n",
    "$q(z)$: Candidate (variational) <br>\n",
    "$p(z|x)$: Posterior \n",
    "\n",
    "Positive and asimetric: \n",
    "\n",
    "\\begin{equation} D_{KL} (q(z)\\|p(z|x)) \\ne D_{KL} (p(z|x)\\|q(z))\\end{equation}\n",
    "\n"
   ]
  },
  {
   "cell_type": "markdown",
   "metadata": {
    "slideshow": {
     "slide_type": "subslide"
    }
   },
   "source": [
    "It is the average of $log \\left(\\frac{q(z)}{p(z|x)} \\right)$, weighted by $q(z)$\n",
    "\n",
    "$$ D_{KL} (q(z)\\|p(z|x)) = \\int_z q(z) log \\left(\\frac{q(z)}{p(z|x)} \\right)dz$$\n",
    "\n",
    "If we rewrite $log \\left(\\frac{q(z)}{p(z|x)} \\right) = log(q(z)) - log(p(z|x))$. \n",
    "\n",
    "Thus, KL divergence is the average of the difference of the log. probabilities of z. \n",
    "\n",
    "It measures how much information we lose when we use q to approximate p. \n",
    "\n",
    "Objective: minimize KL (e.g. with gradient descent).\n"
   ]
  },
  {
   "cell_type": "code",
   "execution_count": 42,
   "metadata": {
    "slideshow": {
     "slide_type": "subslide"
    }
   },
   "outputs": [
    {
     "name": "stdout",
     "output_type": "stream",
     "text": [
      "The KL divergence between q & p is:  8.8069\n"
     ]
    }
   ],
   "source": [
    "#Example simple\n",
    "def KL(x, p, q):\n",
    "    return p(x) * np.log( p(x) / q(x) ) \n",
    "p = st.norm(10,2).pdf\n",
    "q = st.norm(18,4).pdf\n",
    "kl_int, err = integrate.quad(KL,-50,50,args=(q,p))\n",
    "print(\"The KL divergence between q & p is: \", round(kl_int,4))"
   ]
  },
  {
   "cell_type": "markdown",
   "metadata": {
    "slideshow": {
     "slide_type": "fragment"
    }
   },
   "source": [
    "<center><img src=\"img/3_CB/KL_2.svg\" width = \"600\" height = '600'></center>"
   ]
  },
  {
   "cell_type": "markdown",
   "metadata": {
    "slideshow": {
     "slide_type": "subslide"
    }
   },
   "source": [
    "We want to minimize the KL divergence between the posterior $p$ and the candidate $q$, which is easier to sample. \n",
    "\n",
    "But first, let's write the KL divergence differently"
   ]
  },
  {
   "cell_type": "markdown",
   "metadata": {
    "slideshow": {
     "slide_type": "subslide"
    }
   },
   "source": [
    "\\begin{aligned}\n",
    "D_{\\text{KL}} \\big( q(\\boldsymbol{z}) || p(\\boldsymbol{z} | \\boldsymbol{x}) \\big) &= \\int\\limits_{\\boldsymbol{z}} q(\\boldsymbol{z}) \\log \\Big[ \\frac{q(\\boldsymbol{z})}{p(\\boldsymbol{z} | \\boldsymbol{x})} \\Big] d\\boldsymbol{z} \\\\\n",
    "\\end{aligned}\n",
    " "
   ]
  },
  {
   "cell_type": "markdown",
   "metadata": {
    "slideshow": {
     "slide_type": "fragment"
    }
   },
   "source": [
    "Let's apply logarithm properties and split the integral\n",
    "\n",
    "\\begin{aligned}\n",
    "&= \\int\\limits_{\\boldsymbol{z}} \\Big[ q(\\boldsymbol{z}) \\log q(\\boldsymbol{z}) \\Big] d\\boldsymbol{z} - \\int\\limits_{\\boldsymbol{z}} \\Big[ q(\\boldsymbol{z}) \\log p(\\boldsymbol{z} | \\boldsymbol{x}) \\Big] d\\boldsymbol{z}  \n",
    "\\end{aligned}\n"
   ]
  },
  {
   "cell_type": "markdown",
   "metadata": {
    "slideshow": {
     "slide_type": "fragment"
    }
   },
   "source": [
    "Note that they are expected values, weighted by $q(z)$\n",
    "\n",
    "\\begin{aligned}\n",
    "&= \\mathbb{E}_{q} \\big[ \\log q(\\boldsymbol{z}) \\big] - \\mathbb{E}_{q} \\big[ \\log p(\\boldsymbol{z} | \\boldsymbol{x}) \\big] \n",
    "\\end{aligned}\n",
    "\n"
   ]
  },
  {
   "cell_type": "markdown",
   "metadata": {
    "slideshow": {
     "slide_type": "subslide"
    }
   },
   "source": [
    "Let's apply the definition of conditional probability,\n",
    "\n",
    "\\begin{aligned}\n",
    "&= \\mathbb{E}_{q} \\big[ \\log q(\\boldsymbol{z}) \\big] - \\mathbb{E}_{q} \\big[ \\log p(\\boldsymbol{z} | \\boldsymbol{x}) \\big] \\\\\n",
    "&= \\mathbb{E}_{q} \\big[ \\log q(\\boldsymbol{z}) \\big] - \\mathbb{E}_{q} \\bigg[ \\log \\Big[ \\frac{p(\\boldsymbol{x}, \\boldsymbol{z}) }{p(\\boldsymbol{x})} \\Big] \\bigg] \n",
    "\\end{aligned}\n"
   ]
  },
  {
   "cell_type": "markdown",
   "metadata": {
    "slideshow": {
     "slide_type": "fragment"
    }
   },
   "source": [
    "Logarithm properties \n",
    "\n",
    "\\begin{aligned}\n",
    "&= \\mathbb{E}_{q} \\big[ \\log q(\\boldsymbol{z}) \\big] - \\mathbb{E}_{q} \\big[ \\log p(\\boldsymbol{x}, \\boldsymbol{z}) \\big] + \\mathbb{E}_{q} \\big[ \\log p(\\boldsymbol{x}) \\big]\n",
    "\\end{aligned}\n"
   ]
  },
  {
   "cell_type": "markdown",
   "metadata": {
    "slideshow": {
     "slide_type": "fragment"
    }
   },
   "source": [
    "$\\mathbb{E}_{q} \\big[ \\log p(\\boldsymbol{x}) \\big] = \\log p(\\boldsymbol{x})$ i.e. the prior for x (i.e. data) is independent of q(z) by definition\n",
    "\n",
    "\\begin{aligned}\n",
    "&= \\mathbb{E}_{q} \\big[ \\log q(\\boldsymbol{z}) \\big] - \\mathbb{E}_{q} \\big[ \\log p(\\boldsymbol{x}, \\boldsymbol{z}) \\big] + \\log p(\\boldsymbol{x})\n",
    "\\end{aligned}"
   ]
  },
  {
   "cell_type": "markdown",
   "metadata": {
    "slideshow": {
     "slide_type": "subslide"
    }
   },
   "source": [
    "Thus, the KL divergence is:\n",
    "\n",
    "\\begin{aligned}\n",
    "D_{\\text{KL}} \\big( q(\\boldsymbol{z}) || p(\\boldsymbol{z} | \\boldsymbol{x}) \\big) &= \\mathbb{E}_{q} \\big[ \\log q(\\boldsymbol{z}) \\big] - \\mathbb{E}_{q} \\big[ \\log p(\\boldsymbol{x}, \\boldsymbol{z}) \\big] + \\log p(\\boldsymbol{x})\n",
    "\\end{aligned}\n",
    "\n",
    "Now we define evidence lower bound (ELBO) as a reorganization of the first two terms:\n",
    "\n",
    "\\begin{aligned}\n",
    "ELBO &= \\mathbb{E}_{q} \\big[ \\log p(\\boldsymbol{x}, \\boldsymbol{z}) \\big] - \\mathbb{E}_{q} \\big[ \\log q(\\boldsymbol{z}) \\big] \n",
    "\\end{aligned}\n",
    "\n",
    "The KL divergence ends as:\n",
    "\n",
    "\\begin{aligned}\n",
    "D_{\\text{KL}} \\big( q(\\boldsymbol{z}) || p(\\boldsymbol{z} | \\boldsymbol{x}) \\big) &= -ELBO + log(p(x)\n",
    "\\end{aligned}\n",
    "\n"
   ]
  },
  {
   "cell_type": "markdown",
   "metadata": {
    "slideshow": {
     "slide_type": "subslide"
    }
   },
   "source": [
    "$\\log p(\\boldsymbol{x})$ is a constant, it does not afect the minimization. That is, *maximize ELBO* is equivalant to minimizing KL divergence\n",
    "\n",
    "\\begin{aligned}\n",
    "D_{\\text{KL}} \\big( q(\\boldsymbol{z}) || p(\\boldsymbol{z} | \\boldsymbol{x}) \\big) &= -ELBO + log(p(x)\n",
    "\\end{aligned}\n",
    "\n",
    "\n",
    "It is called evidence lower bound because it is a lower limit of the logarithm of the evidence \n",
    "($D_{\\text{KL}}$ always positive)\n",
    "\n",
    "\\begin{aligned}\n",
    "log(p(x) &= ELBO + D_{\\text{KL}} \\big( q(\\boldsymbol{z}) || p(\\boldsymbol{z} | \\boldsymbol{x}) \\big)\\\\\n",
    "&\\ge ELBO\n",
    "\\end{aligned}"
   ]
  },
  {
   "cell_type": "markdown",
   "metadata": {
    "slideshow": {
     "slide_type": "subslide"
    }
   },
   "source": [
    "Thus, we want to maximize ELBO with respecto to the parameters z. \n",
    "\n",
    "\\begin{aligned}\n",
    "ELBO &= \\mathbb{E}_{q} \\big[ \\log p(\\boldsymbol{x}, \\boldsymbol{z}) \\big] - \\mathbb{E}_{q} \\big[ \\log q(\\boldsymbol{z}) \\big] \n",
    "\\end{aligned}\n",
    "\n",
    "We have $p(x,z)$. How do we pick $q(z)$? Half science, half art. <br><br>\n",
    "\n",
    "<center><img src=\"img/3_CB/triple_self_portrait.jpg\" width = \"300\" height = '300'></center>\n",
    "<p style = 'font-size: 15px'>Source: https://displate.com/tonycenteno/displates </p>\n"
   ]
  },
  {
   "cell_type": "markdown",
   "metadata": {
    "slideshow": {
     "slide_type": "subslide"
    }
   },
   "source": [
    "One possibility is with mean-field variational family. \n",
    "\n",
    "$$ q(z_1, ... z_m) = \\prod_{j=1}^{m} q(z_j)$$\n",
    "\n",
    "Each parameter $z_j$ has their own distribution $q(z_j)$ (e.g. normal) and independent from each other.\n",
    "\n",
    "$q$ is just an approximation for the posterior. In the actual posterior, it is likely that the parameters are not independent because the posterior is the generative model of the data.\n"
   ]
  },
  {
   "cell_type": "markdown",
   "metadata": {
    "slideshow": {
     "slide_type": "subslide"
    }
   },
   "source": [
    "Variational inference is:\n",
    "\n",
    "* A method to find parameters of a distribution that is easy to sample and similar to the posterior distribution.\n",
    "* We need to define the posterior p and the candidate (variational) q\n",
    "* We can minimize the divergence with computational methods (e.g. gradient descent; expectation maximization)."
   ]
  },
  {
   "cell_type": "markdown",
   "metadata": {
    "slideshow": {
     "slide_type": "slide"
    }
   },
   "source": [
    "# Conclusion\n",
    "\n",
    "* Mathematical expressions for the posteriors are hard to obtain (even impossible)\n",
    "\n",
    "* We rather use computational methods:\n",
    " "
   ]
  },
  {
   "cell_type": "markdown",
   "metadata": {
    "slideshow": {
     "slide_type": "fragment"
    }
   },
   "source": [
    "|MCMC|Variational Inference|\n",
    "|:-:|:-:|\n",
    "|Unbiased <br> Slow| Biased <br> Fast|"
   ]
  },
  {
   "cell_type": "code",
   "execution_count": null,
   "metadata": {
    "slideshow": {
     "slide_type": "skip"
    }
   },
   "outputs": [],
   "source": [
    "!jupyter nbconvert --to slides --SlidesExporter.reveal_theme='solarized' --SlidesExporter.reveal_transition='none' --SlidesExporter.reveal_scroll=True 3_Comp_1.ipynb #Saves slide"
   ]
  },
  {
   "cell_type": "markdown",
   "metadata": {
    "slideshow": {
     "slide_type": "skip"
    }
   },
   "source": [
    "\n",
    "Para salvar las diapositivas a PDF (en Chrome), correr nbconvert para que abra las diapositivas en un servidor local (la transition y el theme son opcionales):\n",
    "\n",
    "!jupyter nbconvert --to slides --SlidesExporter.reveal_theme='solarized' --SlidesExporter.reveal_transition='convex' nombre_de_mi_notebook.ipynb --post serve\n",
    "\n",
    "Luego, a la dirección añadirle ?print-pdf después del .html:\n",
    "\n",
    "http://127.0.0.1:8000/nombre_de_mi_notebook.slides.html?print-pdf\n",
    "\n",
    "Y luego, imprimir y darle salvar como pdf"
   ]
  },
  {
   "cell_type": "code",
   "execution_count": null,
   "metadata": {
    "slideshow": {
     "slide_type": "skip"
    }
   },
   "outputs": [],
   "source": [
    "#Para salvar a pdf\n",
    "!jupyter nbconvert --to slides --SlidesExporter.reveal_theme='solarized' --SlidesExporter.reveal_transition='convex' 3_Comp_1.ipynb --post serve"
   ]
  },
  {
   "cell_type": "markdown",
   "metadata": {
    "slideshow": {
     "slide_type": "skip"
    }
   },
   "source": [
    "# Anexos"
   ]
  },
  {
   "cell_type": "code",
   "execution_count": null,
   "metadata": {
    "slideshow": {
     "slide_type": "skip"
    }
   },
   "outputs": [],
   "source": [
    "array = np.linspace(0,100,300)\n",
    "mode1 = st.norm.pdf(array, loc=10, scale = 3)\n",
    "mode2 = st.norm.pdf(array, loc=30, scale = 6)\n",
    "mode3 = st.norm.pdf(array, loc=50, scale = 4)\n",
    "\n",
    "distribution = mode1+mode2+mode3\n",
    "fig, ax = plt.subplots(1,1, figsize = [6,5])\n",
    "ax.plot(array, distribution,'k-')\n",
    "ax.set_title('Pruebas para Acceso a la Universidad', \n",
    "            fontsize = 18)\n",
    "ax.set_ylabel('Densidad', fontsize=16)\n",
    "ax.set_xlabel('Puntajes', fontsize=16)\n",
    "#fig.savefig('img/3_CB/3modes.svg')"
   ]
  },
  {
   "cell_type": "code",
   "execution_count": null,
   "metadata": {
    "slideshow": {
     "slide_type": "skip"
    }
   },
   "outputs": [],
   "source": [
    "#Correr la anterior celda\n",
    "posterior = st.norm.pdf(array, loc=40, scale = 15)\n",
    "fig, ax = plt.subplots(1,1, figsize = [6,5])\n",
    "ax.plot(array, distribution,'k-', label = 'Data')\n",
    "ax.plot(array, posterior,'r-', label = 'Posterior')\n",
    "ax.set_title('Pruebas para Acceso a la Universidad', \n",
    "            fontsize = 18)\n",
    "ax.set_ylabel('Densidad', fontsize = 16)\n",
    "ax.set_xlabel('Puntajes', fontsize = 16)\n",
    "ax.legend(fontsize = 12)\n",
    "#fig.savefig('img/3_CB/3modes_posterior.svg')"
   ]
  },
  {
   "cell_type": "code",
   "execution_count": null,
   "metadata": {
    "slideshow": {
     "slide_type": "skip"
    }
   },
   "outputs": [],
   "source": [
    "dot_text = 'digraph G {rankdir=LR;\\\n",
    "                       Descanso -> Estudiar [label=0.1, fontsize=12];\\\n",
    "                       Descanso -> Gimnasio [label=0.3, fontsize=12];\\\n",
    "                       Estudiar -> Descanso [label=0.5, fontsize=12];\\\n",
    "                       Estudiar -> Gimnasio [label=0.2, fontsize=12];\\\n",
    "                       Gimnasio -> Descanso [label=0.75, fontsize=12];\\\n",
    "                       Gimnasio -> Estudiar [label=0.2, fontsize=12];\\\n",
    "                       Descanso -> Descanso [label=0.6, fontsize=12];\\\n",
    "                       Estudiar -> Estudiar [label=0.3, fontsize=12];\\\n",
    "                       Gimnasio -> Gimnasio [label=0.05, fontsize=12];\\\n",
    "                       Descanso [shape=circle];\\\n",
    "                       Estudiar [shape=circle];\\\n",
    "                       Gimnasio [shape=circle];\\\n",
    "                       }' #warning: use single quote at start and end; double quotes for labels\n",
    "src = Source(dot_text)\n",
    "#src.render('img/3_CB/markov1.gv', format ='svg', view=False);\n",
    "#display(src);"
   ]
  },
  {
   "cell_type": "code",
   "execution_count": null,
   "metadata": {
    "slideshow": {
     "slide_type": "skip"
    }
   },
   "outputs": [],
   "source": [
    "dot_text = 'digraph G {rankdir=LR;\\\n",
    "                       Tengo -> Una [label=0.65, fontsize=12];\\\n",
    "                       Tengo -> Oportunidad [label=0.345, fontsize=12];\\\n",
    "                       Una -> Tengo [label=0.05, fontsize=12];\\\n",
    "                       Una -> Oportunidad [label=0.9, fontsize=12];\\\n",
    "                       Oportunidad -> Tengo [label=0.1, fontsize=12];\\\n",
    "                       Oportunidad -> Una [label=0.85, fontsize=12];\\\n",
    "                       Tengo -> Tengo [label=0.05, fontsize=12];\\\n",
    "                       Una -> Una [label=0.05, fontsize=12];\\\n",
    "                       Oportunidad -> Oportunidad [label=0.05, fontsize=12];\\\n",
    "                       Tengo [shape=circle];\\\n",
    "                       Una [shape=circle];\\\n",
    "                       Oportunidad [shape=circle];\\\n",
    "                       }' #warning: use single quote at start and end; double quotes for labels\n",
    "src = Source(dot_text)\n",
    "#src.render('img/3_CB/markov2.gv', format ='svg', view=False);"
   ]
  },
  {
   "cell_type": "code",
   "execution_count": null,
   "metadata": {
    "slideshow": {
     "slide_type": "skip"
    }
   },
   "outputs": [],
   "source": [
    "dot_text = 'digraph G {rankdir=LR;\\\n",
    "                       \"Valor 1\" -> \"Valor 2\" [label=\"??\", fontsize=12];\\\n",
    "                       \"Valor 1\" -> \"Valor n\" [label=\"??\", fontsize=12];\\\n",
    "                       \"Valor 2\" -> \"Valor n\" [label=\"??\", fontsize=12];\\\n",
    "                       \"Valor 1\" -> \"Valor 1\" [label=\"??\", fontsize=12];\\\n",
    "                       \"Valor 2\" -> \"Valor 2\" [label=\"??\", fontsize=12];\\\n",
    "                       \"Valor n\" -> \"Valor n\" [label=\"??\", fontsize=12];\\\n",
    "                       \"Valor 1\" [shape=circle];\\\n",
    "                       \"Valor 2\" [shape=circle];\\\n",
    "                       \"Valor n\" [shape=circle];\\\n",
    "                       }' #warning: use single quote at start and end; double quotes for labels\n",
    "src = Source(dot_text)\n",
    "#src.render('img/3_CB/markov3.gv', format ='svg', view=False);\n",
    "src"
   ]
  },
  {
   "cell_type": "code",
   "execution_count": null,
   "metadata": {
    "slideshow": {
     "slide_type": "skip"
    }
   },
   "outputs": [],
   "source": [
    "fig = plt.figure(figsize=[8,6])\n",
    "ax = fig.gca(projection='3d')\n",
    "X, Y, Z = axes3d.get_test_data()\n",
    "ax.plot_surface(X, Y, Z, rstride=8, cstride=8, alpha=0.3)\n",
    "cset = ax.contour(X, Y, Z, zdir='z', offset=-100, cmap=cm.coolwarm)\n",
    "cset = ax.contour(X, Y, Z, zdir='x', offset=-40, cmap=cm.coolwarm)\n",
    "cset = ax.contour(X, Y, Z, zdir='y', offset=40, cmap=cm.coolwarm)\n",
    "\n",
    "ax.set_xlabel('Emociones', fontsize = 16)\n",
    "ax.set_xlim(-40, 40)\n",
    "ax.set_xticks([])\n",
    "ax.set_ylabel('Cognición', fontsize = 16)\n",
    "ax.set_ylim(-40, 40)\n",
    "ax.set_yticks([])\n",
    "ax.set_zlabel('Densidad \\n P(puntaje>75)', fontsize = 16)\n",
    "ax.set_zlim(-100, 100)\n",
    "ax.set_zticks([])\n",
    "\n",
    "#fig.savefig('img/3_CB/3Density.svg')\n",
    "#plt.show()"
   ]
  },
  {
   "cell_type": "code",
   "execution_count": null,
   "metadata": {
    "slideshow": {
     "slide_type": "skip"
    }
   },
   "outputs": [],
   "source": [
    "#Ejemplo Gibbs sampler para multivariada normal bidimensional\n",
    "#Parametros joint distribution\n",
    "mean_joint = [6, 25] #[impaciencia, confianza]\n",
    "corr = -0.6\n",
    "cov = [[1, corr], [corr, 1]]\n",
    "\n",
    "fig2 = plt.figure()\n",
    "rv = st.multivariate_normal(mean = mean_joint, cov = cov)\n",
    "samples = rv.rvs(1000)\n",
    "joint_p = sns.jointplot(samples[:,0], samples[:,1], kind=\"kde\", color = 'k')\n",
    "joint_p.set_axis_labels('Impaciencia', 'Confianza', fontsize=22)\n",
    "joint_p.savefig('img/3_CB/bivariate_normal.svg')\n",
    "\n",
    "\n",
    "#Algoritmo\n",
    "#Paso 1: valores iniciales\n",
    "conf_samp = st.uniform.rvs(20,30,1)\n",
    "impa_samp = st.uniform.rvs(0,10,1)\n",
    "niter = 300 #número de iteraciones\n",
    "joint = pd.DataFrame({'impaciencia': np.repeat(float('nan'),niter),\n",
    "                     'confianza': np.repeat(float('nan'),niter)})\n",
    "for i in range(niter):\n",
    "    #Paso 2: samplear un valor aleatorio de confianza\n",
    "    conf_samp = st.norm.rvs(mean_joint[1]+corr*(impa_samp-mean_joint[0]),1-corr**2,1)\n",
    "\n",
    "    #Paso 3: samplear un valor aleatorio de impaciencia\n",
    "    impa_samp = st.norm.rvs(mean_joint[0]+corr*(conf_samp-mean_joint[1]),1-corr**2,1)\n",
    "\n",
    "    joint.loc[i,'impaciencia'] = impa_samp\n",
    "    joint.loc[i,'confianza'] = conf_samp\n",
    "\n",
    "    \n",
    "imp = samples[:,0]\n",
    "conf = samples[:,1]\n",
    "xmin = imp.min()\n",
    "xmax = imp.max()\n",
    "ymin = conf.min()\n",
    "ymax = conf.max()\n",
    "X, Y = np.mgrid[xmin:xmax:100j, ymin:ymax:100j]\n",
    "positions = np.vstack([X.ravel(), Y.ravel()])\n",
    "values = np.vstack([imp, conf])\n",
    "kde = st.gaussian_kde(values)\n",
    "Z = np.reshape(kde(positions).T, X.shape)\n",
    "\n",
    "fig, ax = plt.subplots(figsize = [5,5])\n",
    "x = np.linspace(xmin,xmax,100)\n",
    "y = np.linspace(ymin,ymax,100)\n",
    "ax.contour(x, y, Z, cmap='gray')\n",
    "ax.set_xlim([2,10])\n",
    "ax.set_ylim([21,29])\n",
    "ax.set_xlabel('Impaciencia', fontsize = 18)\n",
    "ax.set_ylabel('Confianza', fontsize = 18)\n",
    "ax.grid(True, color='gray', alpha = 0.25)\n",
    "ax.set_facecolor([1,1,1])\n",
    "ax.plot(-100, -100, 'ro', alpha = 0.4, label='Muestra Gibbs')\n",
    "ax.legend(facecolor = 'white')\n",
    "def animate(i):\n",
    "    idx = int(i)\n",
    "    ax.plot(joint.loc[idx,'impaciencia'],\n",
    "            joint.loc[idx,'confianza'],\n",
    "            'ro', alpha = 0.4)\n",
    "\n",
    "\n",
    "# call the animator.  blit=True means only re-draw the parts that have changed.\n",
    "anim = animation.FuncAnimation(fig, animate, interval = 100, \n",
    "                               frames = len(joint.index), blit=False)\n",
    "writer = animation.PillowWriter(fps=15) \n",
    "#anim.save('img/3_CB/Gibbs_animation.gif', writer = writer); #Compress online"
   ]
  },
  {
   "cell_type": "code",
   "execution_count": null,
   "metadata": {
    "slideshow": {
     "slide_type": "skip"
    }
   },
   "outputs": [],
   "source": [
    "class scaled_inv_chi2:\n",
    "    # An scaled invese chi2 with v degrees of freedom and scale s\n",
    "    # is the same as an inverse gamma with alpha = v/2, beta = (v/2)*(s^2) \n",
    "    def pdf(x, v, s):\n",
    "        alpha = v/2 #shape\n",
    "        beta = v/2 * s**2 #scale\n",
    "        return st.invgamma.pdf(x, a=alpha, scale=beta)\n",
    "    \n",
    "    def cdf(x, v, s):\n",
    "        alpha = v/2 #shape\n",
    "        beta = v/2 * s**2 #scale\n",
    "        return st.invgamma.pdf(x, a=alpha, scale=beta)\n",
    "    \n",
    "    def rvs(v, s, size):\n",
    "        #random samle\n",
    "        alpha = v/2 #shape\n",
    "        beta = v/2 * s**2 #scale\n",
    "        return st.invgamma.rvs(a=alpha, scale=beta, size=size)"
   ]
  },
  {
   "cell_type": "code",
   "execution_count": null,
   "metadata": {
    "slideshow": {
     "slide_type": "skip"
    }
   },
   "outputs": [],
   "source": [
    "dot_text = 'digraph G {rankdir=LR;\\\n",
    "           /* general properties*/\\\n",
    "           node [margin=0, fixedsize=true,\\\n",
    "                 height=0.5, width=0.5];\\\n",
    "           a1 -> a2 [label=\"1\", lblstyle=\"font=\\normalsize\"];\\\n",
    "           a1 -> a1 [label = \"0\", lblstyle=\"font=\\normalsize\"];\\\n",
    "           a2 -> a1 [label=\" \", label=\"$a$\", lblstyle=\"font=\\\\normalsize\"];\\\n",
    "           a2 -> a2 [label=\" \", label=\"$1-a$\", lblstyle=\"font=\\\\normalsize\"];\\\n",
    "           a1[shape=circle, label=\"$\\\\theta$\"]\\\n",
    "           a2[shape=circle, label=\"$1-\\\\theta$\"]\\\n",
    "        }' #warning: use single quote at start and end; double quotes for labels\n",
    "s = Source(dot_text, filename=\"img/3_CB/mcmc_diagram.gv\", format=\"svg\") #THIS IS NOT THE FINAL ONE\n",
    "s.view()\n",
    "#a = t/{1-t}\n",
    "\n",
    "\n",
    "#To typeset latex stuff on the image: \n",
    "#1) open svg in inkscape and write latex formulas. Export as pdf (click the one that says latex)\n",
    "#   to change fontsize of latex in inkscape write before the expression: t/{1-t}\n",
    "#        \\fontsize{34pt}{1em} $latex expression$ ... change #pt for size\n",
    "#2) go to overleaf or latex editor of choice and do this (https://castel.dev/post/lecture-notes-2/):\n",
    "#   2.1) In the preamble:\n",
    "#  \\usepackage{import}\n",
    "#  \\usepackage{xifthen}\n",
    "#  \\usepackage{pdfpages}\n",
    "#  \\usepackage{transparent}\n",
    "#  \\usepackage{graphics} \n",
    "\n",
    "#  \\newcommand{\\incfig}[1]{%\n",
    "#      \\def\\svgwidth{\\columnwidth}\n",
    "#      \\import{./figures/}{#1.pdf_tex} %PUT the inkscape .pdf_tex AND .pdf in a local folder called figures\n",
    "#  }\n",
    "#   2.2)In the body:\n",
    "#  \\begin{figure}[ht]\n",
    "#      \\centering\n",
    "#      \\scalebox{.65}{\\incfig{your_inkscape.pdf_tex}} #change scalebox proportion to rescale\n",
    "#      \\caption{Riemmans theorem}\n",
    "#      \\label{fig:riemmans-theorem}\n",
    "#  \\end{figure}\n"
   ]
  },
  {
   "cell_type": "code",
   "execution_count": null,
   "metadata": {
    "slideshow": {
     "slide_type": "skip"
    }
   },
   "outputs": [],
   "source": [
    "# Read data from a csv\n",
    "z_data = pd.read_csv('https://raw.githubusercontent.com/plotly/datasets/master/api_docs/mt_bruno_elevation.csv')\n",
    "\n",
    "fig = go.Figure(data=[go.Surface(z=z_data.values, showscale=False)])\n",
    "\n",
    "fig.update_layout(title='Panorama de una función', \n",
    "                  scene = dict(\n",
    "                    xaxis_title='X',\n",
    "                    yaxis_title='Y',\n",
    "                    zaxis_title='Z'),\n",
    "                  autosize=True,                  \n",
    "                  width=500, height=500,\n",
    "                  margin=dict(l=10, r=5, b=20, t=40));\n",
    "\n",
    "#fig.show()\n",
    "#fig.write_image(\"img/3_CB/3D_panorama.svg\")"
   ]
  },
  {
   "cell_type": "code",
   "execution_count": null,
   "metadata": {
    "slideshow": {
     "slide_type": "skip"
    }
   },
   "outputs": [],
   "source": [
    "#KL divergence\n",
    "xp = np.linspace(5, 16, 100)\n",
    "p = st.norm.pdf(xp, 10, 2)\n",
    "xq = np.linspace(6.5, 30, 100)\n",
    "q = st.norm.pdf(xq, 18, 4) \n",
    "xq2 = np.linspace(-5, 10, 100)\n",
    "q2 = st.norm.pdf(xq2, 2, 2) \n",
    "xq3 = np.linspace(-10, 25, 100)\n",
    "q3 = st.norm.pdf(xq3, 7, 6) \n",
    "\n",
    "fig, ax = plt.subplots(1,1, figsize=[7,4])\n",
    "ax.plot(xp, p, c='red', label = 'Posterior')\n",
    "ax.plot(xq, q, c='green', linestyle='-', label = 'Candidata 1');\n",
    "ax.plot(xq2, q2, c='green', linestyle='--', label = 'Candidata 2');\n",
    "ax.plot(xq3, q3, c='green', linestyle=':', label = 'Candidata 3');\n",
    "ax.set_xlabel('Parámetros', fontsize = 15)\n",
    "ax.set_ylabel('Densidad', fontsize = 15)\n",
    "ax.set_title('¿Cuál es más parecida al posterior?', fontsize = 20)\n",
    "ax.legend()\n",
    "fig.savefig('img/3_CB/KL_1.svg')\n",
    "#plt.close()\n",
    "\n",
    "def KL(x, p, q):\n",
    "    return p(x) * np.log( p(x) / q(x) ) \n",
    "p_pdf = st.norm(10,2).pdf\n",
    "q_pdf = st.norm(18,4).pdf\n",
    "q2_pdf = st.norm(2,2).pdf\n",
    "q3_pdf = st.norm(7,6).pdf\n",
    "KLq_int, err = integrate.quad(KL, -30, 30, args=(q_pdf,p_pdf)) \n",
    "KLq2_int, err = integrate.quad(KL, -30, 30, args=(q2_pdf,p_pdf)) \n",
    "KLq3_int, err = integrate.quad(KL, -30, 30, args=(q3_pdf,p_pdf)) \n",
    "\n",
    "fig, ax = plt.subplots(1,1, figsize=[7,4])\n",
    "ax.plot(xp, p, c='red', label = 'Posterior')\n",
    "ax.plot(xq, q, c='green', linestyle='-', label = 'Candidata 1. KL: '+str(round(KLq_int,2)));\n",
    "ax.plot(xq2, q2, c='green', linestyle='--', label = 'Candidata 2. KL: '+str(round(KLq2_int,2)));\n",
    "ax.plot(xq3, q3, c='green', linestyle=':', label = 'Candidata 3. KL: '+str(round(KLq3_int,2)));\n",
    "ax.set_xlabel('Parámetros', fontsize = 15)\n",
    "ax.set_ylabel('Densidad', fontsize = 15)\n",
    "ax.set_title('¿Cuál es más parecida al posterior?', fontsize = 20)\n",
    "ax.legend()\n",
    "fig.savefig('img/3_CB/KL_2.svg')\n",
    "#plt.close()"
   ]
  },
  {
   "cell_type": "code",
   "execution_count": null,
   "metadata": {
    "slideshow": {
     "slide_type": "skip"
    }
   },
   "outputs": [],
   "source": []
  }
 ],
 "metadata": {
  "celltoolbar": "Slideshow",
  "kernelspec": {
   "display_name": "Python 3 (ipykernel)",
   "language": "python",
   "name": "python3"
  },
  "language_info": {
   "codemirror_mode": {
    "name": "ipython",
    "version": 3
   },
   "file_extension": ".py",
   "mimetype": "text/x-python",
   "name": "python",
   "nbconvert_exporter": "python",
   "pygments_lexer": "ipython3",
   "version": "3.11.7"
  },
  "rise": {
   "chalkboard": {
    "color": [
     "rgb(250, 0, 0)",
     "rgb(0, 250, 250)"
    ]
   },
   "enable_chalkboard": true,
   "scroll": true,
   "theme": "simple",
   "transition": "none"
  }
 },
 "nbformat": 4,
 "nbformat_minor": 4
}
