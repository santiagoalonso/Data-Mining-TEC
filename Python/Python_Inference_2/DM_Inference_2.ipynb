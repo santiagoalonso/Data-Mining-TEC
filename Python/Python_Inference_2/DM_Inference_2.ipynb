{
 "cells": [
  {
   "cell_type": "code",
   "execution_count": 12,
   "id": "f0efce6f-a453-41ed-b34d-b8b2a2fb9a32",
   "metadata": {},
   "outputs": [
    {
     "name": "stdout",
     "output_type": "stream",
     "text": [
      "Running on PyMC v5.10.3\n"
     ]
    }
   ],
   "source": [
    "#Tables and matrices\n",
    "import numpy as np\n",
    "import pandas as pd\n",
    "\n",
    "#Stats\n",
    "import scipy.stats as st\n",
    "from scipy.optimize import fmin\n",
    "from scipy import integrate\n",
    "from scipy.stats.mstats import mquantiles\n",
    "\n",
    "\n",
    "#Probabilistic programs\n",
    "#!pip install numpy mkl #if you are in an intel machine i.e. in mac M# chips no\n",
    "#!pip install pymc\n",
    "#!pip install pytensor\n",
    "import pymc as pm\n",
    "import pytensor.tensor as pt\n",
    "#import aesara.tensor as at\n",
    "print('Running on PyMC v{}'.format(pm.__version__))\n",
    "\n",
    "\n",
    "#Graphs\n",
    "import seaborn as sns\n",
    "import matplotlib.pyplot as plt\n",
    "from matplotlib import cm\n",
    "from matplotlib.gridspec import GridSpec\n",
    "from matplotlib import animation, rc\n",
    "from IPython.display import display, HTML, Markdown\n",
    "import ipywidgets as widgets\n",
    "from ipywidgets import interact, interactive, fixed, HBox, VBox, Layout\n",
    "from mpl_toolkits.mplot3d import axes3d\n",
    "import arviz as az"
   ]
  },
  {
   "cell_type": "markdown",
   "id": "77cc4abe-e377-4475-b615-ccb0bc6921d9",
   "metadata": {
    "slideshow": {
     "slide_type": "slide"
    }
   },
   "source": [
    "# Posteriors, priors, & likelihoods"
   ]
  },
  {
   "cell_type": "markdown",
   "id": "9c016c3e-0b61-4ae4-9fd0-6519aac0b033",
   "metadata": {
    "slideshow": {
     "slide_type": "subslide"
    }
   },
   "source": [
    "\n",
    " \n",
    "| Prior (beliefs)  | <font size = '20'>   <pre>  </pre> </font>  | Likelihood (data) |   \n",
    "|:---:|---|:---:|\n",
    "| <img src=\"1_CB/Bayes1.png\" width = \"300\" height = '300'> |  |  <img src=\"1_CB/Bayes2.jpg\" width = \"300\" height = '300'>  |  \n",
    "\n"
   ]
  },
  {
   "cell_type": "markdown",
   "id": "5463e9d0-0608-48a4-aff5-de321da44c07",
   "metadata": {
    "slideshow": {
     "slide_type": "subslide"
    }
   },
   "source": [
    "\n",
    "| Prior (beliefs)  | <font size = '20'>   <pre>  </pre> </font>  | Likelihood (data) |   \n",
    "|:---:|---|:---:|\n",
    "| <img src=\"1_CB/Bayes3.jpg\" width = \"300\" height = '300'> |  |  <img src=\"1_CB/Bayes4.png\" width = \"300\" height = '300'>  |  \n"
   ]
  },
  {
   "cell_type": "markdown",
   "id": "a33350f6-4f82-4581-b347-9cf1ece0c9d9",
   "metadata": {
    "slideshow": {
     "slide_type": "subslide"
    }
   },
   "source": [
    "Prior Electric vehicles save the enviroment ... likelihood not enough lithium\n",
    "| Prior (beliefs)  | <font size = '20'>   <pre>  </pre> </font>  | Likelihood (data) |   \n",
    "|:---:|---|:---:|\n",
    "| <img src=\"1_CB/EV_vs_GAS.jpg\" width = \"300\" height = '300'> |  |  <img src=\"1_CB/Lithium_Needs.png\" width = \"500\" height = '500'>  |  \n"
   ]
  },
  {
   "cell_type": "markdown",
   "id": "6433cc59-7c9b-4c0f-831b-c6d7d928f4bb",
   "metadata": {
    "slideshow": {
     "slide_type": "subslide"
    }
   },
   "source": [
    "### ¿Extraterrestrial? ¿Likelihood? ¿Prior?\n",
    "\n",
    "<center><img src=\"1_CB/Bayes5.jpg\" width = \"400\" height = '400'></center> \n"
   ]
  },
  {
   "cell_type": "markdown",
   "id": "9e620591-8aed-43c9-9428-3c93bcd250ca",
   "metadata": {
    "slideshow": {
     "slide_type": "subslide"
    }
   },
   "source": [
    "\n",
    "Bayes found how to combine priors y likelihoods\n",
    "\n",
    "\n",
    "$$ Posterior = \\frac{Prior \\times Likelihood}{Marginal} $$"
   ]
  },
  {
   "cell_type": "markdown",
   "id": "540cb02a-7889-473d-89cc-81733e960d8e",
   "metadata": {
    "slideshow": {
     "slide_type": "fragment"
    }
   },
   "source": [
    "Same formula, different \"names\"\n",
    "\n",
    "$$ Belief_{t+1} = \\frac{Belief_t \\times Likelihood}{Marginal} $$"
   ]
  },
  {
   "cell_type": "markdown",
   "id": "94bf6161-166e-4bae-a94a-45af24a2d4ce",
   "metadata": {
    "slideshow": {
     "slide_type": "fragment"
    }
   },
   "source": [
    "Same formula expanded\n",
    "\n",
    "\n",
    "$$ p(Hypothesis|Data) = \\frac{p(Hypothesis) \\times p(Data|Hypothesis)}{p(Data)} $$"
   ]
  },
  {
   "cell_type": "markdown",
   "id": "f793fe78-5d71-4a66-8a06-89db7a5f4078",
   "metadata": {
    "slideshow": {
     "slide_type": "slide"
    }
   },
   "source": [
    "# Theorem's proof"
   ]
  },
  {
   "cell_type": "markdown",
   "id": "75ceede7-4d4f-4d73-a640-e25980b9da30",
   "metadata": {
    "slideshow": {
     "slide_type": "subslide"
    }
   },
   "source": [
    "<center><img src=\"1_CB/Bayes6.svg\" width = \"600\" height = '600'></center> \n"
   ]
  },
  {
   "cell_type": "markdown",
   "id": "d4da9b11-8958-4692-9b1d-bac6b5b903e2",
   "metadata": {
    "slideshow": {
     "slide_type": "subslide"
    }
   },
   "source": [
    "<center><img src=\"1_CB/Bayes7.svg\" width = \"600\" height = '600'></center> \n"
   ]
  },
  {
   "cell_type": "markdown",
   "id": "29cef145-57ba-4c6f-9ae2-adad72053ba2",
   "metadata": {
    "slideshow": {
     "slide_type": "subslide"
    }
   },
   "source": [
    "<center><img src=\"1_CB/Bayes8.svg\" width = \"600\" height = '600'></center> \n"
   ]
  },
  {
   "cell_type": "markdown",
   "id": "d6b1bf56-3bf5-42a6-9417-87210337ef07",
   "metadata": {
    "slideshow": {
     "slide_type": "slide"
    }
   },
   "source": [
    "# Visualization of posteriors, priors, y likelihoods"
   ]
  },
  {
   "cell_type": "markdown",
   "id": "1303a815-04bc-404b-b9ba-3d20dcc17784",
   "metadata": {
    "slideshow": {
     "slide_type": "subslide"
    }
   },
   "source": [
    "## Hipotheses space (events)\n",
    "<center><img src=\"1_CB/Bayes9.svg\" width = \"400\" height = '400'></center> \n"
   ]
  },
  {
   "cell_type": "markdown",
   "id": "3aca1eac-c213-430f-a634-85a01cd58e89",
   "metadata": {
    "slideshow": {
     "slide_type": "subslide"
    }
   },
   "source": [
    "## Hipotheses space (events)\n",
    "<center><img src=\"1_CB/Bayes10.svg\" width = \"400\" height = '400'></center> \n"
   ]
  },
  {
   "cell_type": "markdown",
   "id": "e3437678-c774-42dd-8820-c0fa13c8b950",
   "metadata": {
    "slideshow": {
     "slide_type": "subslide"
    }
   },
   "source": [
    "## Priors\n",
    "<center><img src=\"1_CB/Bayes11.svg\" width = \"600\" height = '600'></center> \n"
   ]
  },
  {
   "cell_type": "markdown",
   "id": "349659f5-b6e5-40dc-abd6-88c729d82c09",
   "metadata": {
    "slideshow": {
     "slide_type": "subslide"
    }
   },
   "source": [
    "## Data\n",
    "### Marginal: overall probability of the data, across all priors (gray divided by the hypotheses space area)\n",
    "\n",
    "\n",
    "<center><img src=\"1_CB/Bayes12.svg\" width = \"550\" height = '550'></center> \n"
   ]
  },
  {
   "cell_type": "markdown",
   "id": "29c05c26-1fe2-40f9-9c5d-d820a150c6f9",
   "metadata": {
    "slideshow": {
     "slide_type": "subslide"
    }
   },
   "source": [
    "## Likelihoods\n",
    "<center><img src=\"1_CB/Bayes13.svg\" width = \"550\" height = '550'></center> \n"
   ]
  },
  {
   "cell_type": "markdown",
   "id": "ce97e2f8-3b86-404d-9a15-1d0b713382f5",
   "metadata": {
    "slideshow": {
     "slide_type": "subslide"
    }
   },
   "source": [
    "<center><img src=\"1_CB/Bayes14.svg\" width = \"550\" height = '550'></center> \n"
   ]
  },
  {
   "cell_type": "markdown",
   "id": "6f024f4d-f2ed-4349-910c-5beb67d7d2e4",
   "metadata": {
    "slideshow": {
     "slide_type": "subslide"
    }
   },
   "source": [
    "\n",
    "<center><img src=\"1_CB/Bayes15.svg\" width = \"550\" height = '550'></center> \n"
   ]
  },
  {
   "cell_type": "markdown",
   "id": "0a59df96-8bb7-4296-aeb8-160c8b96376f",
   "metadata": {
    "slideshow": {
     "slide_type": "subslide"
    }
   },
   "source": [
    "## Posterior\n",
    "\n",
    "<center><img src=\"1_CB/Bayes16.svg\" width = \"550\" height = '550'></center> \n"
   ]
  },
  {
   "cell_type": "markdown",
   "id": "e33d988f-387a-4d28-ba56-8c8176260c2f",
   "metadata": {
    "slideshow": {
     "slide_type": "subslide"
    }
   },
   "source": [
    "## Posterior vs. likelihood\n",
    "<center><img src=\"1_CB/Bayes17.svg\" width = \"700\" height = '700'></center> "
   ]
  },
  {
   "cell_type": "code",
   "execution_count": null,
   "id": "d7e1a664-2109-4016-9cde-5f2ee9258a8d",
   "metadata": {},
   "outputs": [],
   "source": []
  }
 ],
 "metadata": {
  "kernelspec": {
   "display_name": "Python 3 (ipykernel)",
   "language": "python",
   "name": "python3"
  },
  "language_info": {
   "codemirror_mode": {
    "name": "ipython",
    "version": 3
   },
   "file_extension": ".py",
   "mimetype": "text/x-python",
   "name": "python",
   "nbconvert_exporter": "python",
   "pygments_lexer": "ipython3",
   "version": "3.11.7"
  }
 },
 "nbformat": 4,
 "nbformat_minor": 5
}
