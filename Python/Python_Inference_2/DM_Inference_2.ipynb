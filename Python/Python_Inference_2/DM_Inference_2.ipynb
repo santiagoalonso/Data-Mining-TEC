{
 "cells": [
  {
   "cell_type": "code",
   "execution_count": 5,
   "id": "f0efce6f-a453-41ed-b34d-b8b2a2fb9a32",
   "metadata": {
    "editable": true,
    "slideshow": {
     "slide_type": ""
    },
    "tags": []
   },
   "outputs": [
    {
     "name": "stdout",
     "output_type": "stream",
     "text": [
      "Running on PyMC v5.10.3\n"
     ]
    }
   ],
   "source": [
    "#Tables and matrices\n",
    "import numpy as np\n",
    "import pandas as pd\n",
    "\n",
    "#Stats\n",
    "import scipy.stats as st\n",
    "from scipy.optimize import fmin\n",
    "from scipy import integrate\n",
    "from scipy.stats.mstats import mquantiles\n",
    "\n",
    "\n",
    "#Probabilistic programs\n",
    "#!pip install numpy mkl #if you are in an intel machine i.e. in mac M# chips no\n",
    "#!pip install pymc\n",
    "#!pip install pytensor\n",
    "import pymc as pm\n",
    "import pytensor.tensor as pt\n",
    "#import aesara.tensor as at\n",
    "print('Running on PyMC v{}'.format(pm.__version__))\n",
    "\n",
    "\n",
    "#Graphs \n",
    "#IMPORTANT: properly install ipywidgets and nodejs for interactive graphs\n",
    "#If you are in jupyterlab, activate the widget extension (it should be in the latest versions)\n",
    "import seaborn as sns\n",
    "import matplotlib.pyplot as plt\n",
    "from matplotlib import cm\n",
    "from matplotlib.gridspec import GridSpec\n",
    "from matplotlib import animation, rc\n",
    "from IPython.display import display, HTML, Markdown\n",
    "import ipywidgets as widgets\n",
    "from ipywidgets import interact, interactive, fixed, HBox, VBox, Layout\n",
    "from mpl_toolkits.mplot3d import axes3d\n",
    "import arviz as az"
   ]
  },
  {
   "cell_type": "markdown",
   "id": "77cc4abe-e377-4475-b615-ccb0bc6921d9",
   "metadata": {
    "editable": true,
    "slideshow": {
     "slide_type": "slide"
    },
    "tags": []
   },
   "source": [
    "# Posteriors, priors, & likelihoods"
   ]
  },
  {
   "cell_type": "markdown",
   "id": "9c016c3e-0b61-4ae4-9fd0-6519aac0b033",
   "metadata": {
    "editable": true,
    "slideshow": {
     "slide_type": "subslide"
    },
    "tags": []
   },
   "source": [
    "\n",
    " \n",
    "| Prior (beliefs)  | <font size = '20'>   <pre>  </pre> </font>  | Likelihood (data) |   \n",
    "|:---:|---|:---:|\n",
    "| <img src=\"1_CB/Bayes1.png\" width = \"300\" height = '300'> |  |  <img src=\"1_CB/Bayes2.jpg\" width = \"300\" height = '300'>  |  \n",
    "\n"
   ]
  },
  {
   "cell_type": "markdown",
   "id": "5463e9d0-0608-48a4-aff5-de321da44c07",
   "metadata": {
    "slideshow": {
     "slide_type": "subslide"
    }
   },
   "source": [
    "\n",
    "| Prior (beliefs)  | <font size = '20'>   <pre>  </pre> </font>  | Likelihood (data) |   \n",
    "|:---:|---|:---:|\n",
    "| <img src=\"1_CB/Bayes3.jpg\" width = \"300\" height = '300'> |  |  <img src=\"1_CB/Bayes4.png\" width = \"300\" height = '300'>  |  \n"
   ]
  },
  {
   "cell_type": "markdown",
   "id": "a33350f6-4f82-4581-b347-9cf1ece0c9d9",
   "metadata": {
    "slideshow": {
     "slide_type": "subslide"
    }
   },
   "source": [
    "| Prior (beliefs)  | <font size = '20'>   <pre>  </pre> </font>  | Likelihood (data) |   \n",
    "|:---:|---|:---:|\n",
    "| <img src=\"1_CB/EV_vs_GAS.jpg\" width = \"300\" height = '300'> |  |  <img src=\"1_CB/Lithium_Needs.png\" width = \"500\" height = '500'>  |  \n"
   ]
  },
  {
   "cell_type": "markdown",
   "id": "e63358be-db87-4b8d-890e-65d6a3f8f2f8",
   "metadata": {
    "slideshow": {
     "slide_type": "subslide"
    }
   },
   "source": [
    "| Prior (beliefs)  | <font size = '20'>   <pre>  </pre> </font>  | Likelihood (data) |   \n",
    "|:---:|---|:---:|\n",
    "| <img src=\"1_CB/SBF.webp\" width = \"400\" height = '400'> |  |  <img src=\"1_CB/SBF_2.png\" width = \"500\" height = '500'>  |  \n"
   ]
  },
  {
   "cell_type": "markdown",
   "id": "df1ace4e-24af-4b9f-b976-ce2ed3988802",
   "metadata": {
    "editable": true,
    "slideshow": {
     "slide_type": "subslide"
    },
    "tags": []
   },
   "source": [
    "| Prior (beliefs)  | <font size = '20'>   <pre>  </pre> </font>  | Likelihood (data) |   \n",
    "|:---:|---|:---:|\n",
    "| <img src=\"1_CB/AGI.jpg\" width = \"300\" height = '300'> |  |  <img src=\"1_CB/vanRooij.png\" width = \"400\" height = '400'>  |  \n"
   ]
  },
  {
   "cell_type": "markdown",
   "id": "c78afa95-0f50-4a1b-84bf-58fdd29a3882",
   "metadata": {
    "editable": true,
    "slideshow": {
     "slide_type": "subslide"
    },
    "tags": []
   },
   "source": [
    "| Prior (beliefs)  | <font size = '20'>   <pre>  </pre> </font>  | Likelihood (data) |   \n",
    "|:---:|---|:---:|\n",
    "| This X market segment will grow |  |  Sales from that segment grew  |  \n"
   ]
  },
  {
   "cell_type": "markdown",
   "id": "9e620591-8aed-43c9-9428-3c93bcd250ca",
   "metadata": {
    "slideshow": {
     "slide_type": "subslide"
    }
   },
   "source": [
    "\n",
    "Bayes found how to combine priors y likelihoods\n",
    "\n",
    "\n",
    "$$ Posterior = \\frac{Prior \\times Likelihood}{Marginal} $$"
   ]
  },
  {
   "cell_type": "markdown",
   "id": "540cb02a-7889-473d-89cc-81733e960d8e",
   "metadata": {
    "slideshow": {
     "slide_type": "fragment"
    }
   },
   "source": [
    "Same formula, different \"names\"\n",
    "\n",
    "$$ Belief_{t+1} = \\frac{Belief_t \\times Likelihood}{Marginal} $$"
   ]
  },
  {
   "cell_type": "markdown",
   "id": "94bf6161-166e-4bae-a94a-45af24a2d4ce",
   "metadata": {
    "slideshow": {
     "slide_type": "fragment"
    }
   },
   "source": [
    "Same formula expanded\n",
    "\n",
    "\n",
    "$$ p(Hypothesis|Data) = \\frac{p(Hypothesis) \\times p(Data|Hypothesis)}{p(Data)} $$"
   ]
  },
  {
   "cell_type": "markdown",
   "id": "f793fe78-5d71-4a66-8a06-89db7a5f4078",
   "metadata": {
    "slideshow": {
     "slide_type": "slide"
    }
   },
   "source": [
    "# Theorem's proof"
   ]
  },
  {
   "cell_type": "markdown",
   "id": "75ceede7-4d4f-4d73-a640-e25980b9da30",
   "metadata": {
    "slideshow": {
     "slide_type": "subslide"
    }
   },
   "source": [
    "<center><img src=\"1_CB/Bayes6.svg\" width = \"600\" height = '600'></center> \n"
   ]
  },
  {
   "cell_type": "markdown",
   "id": "d4da9b11-8958-4692-9b1d-bac6b5b903e2",
   "metadata": {
    "slideshow": {
     "slide_type": "subslide"
    }
   },
   "source": [
    "<center><img src=\"1_CB/Bayes7.svg\" width = \"600\" height = '600'></center> \n"
   ]
  },
  {
   "cell_type": "markdown",
   "id": "29cef145-57ba-4c6f-9ae2-adad72053ba2",
   "metadata": {
    "slideshow": {
     "slide_type": "subslide"
    }
   },
   "source": [
    "<center><img src=\"1_CB/Bayes8.svg\" width = \"600\" height = '600'></center> \n"
   ]
  },
  {
   "cell_type": "markdown",
   "id": "d6b1bf56-3bf5-42a6-9417-87210337ef07",
   "metadata": {
    "slideshow": {
     "slide_type": "slide"
    }
   },
   "source": [
    "# Visualization of posteriors, priors, y likelihoods"
   ]
  },
  {
   "cell_type": "markdown",
   "id": "1303a815-04bc-404b-b9ba-3d20dcc17784",
   "metadata": {
    "slideshow": {
     "slide_type": "subslide"
    }
   },
   "source": [
    "## Hipotheses space (events)\n",
    "<center><img src=\"1_CB/Bayes9.svg\" width = \"400\" height = '400'></center> \n"
   ]
  },
  {
   "cell_type": "markdown",
   "id": "3aca1eac-c213-430f-a634-85a01cd58e89",
   "metadata": {
    "editable": true,
    "slideshow": {
     "slide_type": "subslide"
    },
    "tags": []
   },
   "source": [
    "## Hipotheses space (events)\n",
    "<center><img src=\"1_CB/Bayes10.svg\" width = \"400\" height = '400'></center> \n"
   ]
  },
  {
   "cell_type": "markdown",
   "id": "e3437678-c774-42dd-8820-c0fa13c8b950",
   "metadata": {
    "slideshow": {
     "slide_type": "subslide"
    }
   },
   "source": [
    "## Priors\n",
    "<center><img src=\"1_CB/Bayes11.svg\" width = \"600\" height = '600'></center> \n"
   ]
  },
  {
   "cell_type": "markdown",
   "id": "349659f5-b6e5-40dc-abd6-88c729d82c09",
   "metadata": {
    "slideshow": {
     "slide_type": "subslide"
    }
   },
   "source": [
    "## Data\n",
    "### Marginal: overall probability of the data, across all priors (gray divided by the hypotheses space area)\n",
    "\n",
    "\n",
    "<center><img src=\"1_CB/Bayes12.svg\" width = \"550\" height = '550'></center> \n"
   ]
  },
  {
   "cell_type": "markdown",
   "id": "29c05c26-1fe2-40f9-9c5d-d820a150c6f9",
   "metadata": {
    "slideshow": {
     "slide_type": "subslide"
    }
   },
   "source": [
    "## Likelihoods\n",
    "<center><img src=\"1_CB/Bayes13.svg\" width = \"550\" height = '550'></center> \n"
   ]
  },
  {
   "cell_type": "markdown",
   "id": "ce97e2f8-3b86-404d-9a15-1d0b713382f5",
   "metadata": {
    "slideshow": {
     "slide_type": "subslide"
    }
   },
   "source": [
    "<center><img src=\"1_CB/Bayes14.svg\" width = \"550\" height = '550'></center> \n"
   ]
  },
  {
   "cell_type": "markdown",
   "id": "6f024f4d-f2ed-4349-910c-5beb67d7d2e4",
   "metadata": {
    "slideshow": {
     "slide_type": "subslide"
    }
   },
   "source": [
    "\n",
    "<center><img src=\"1_CB/Bayes15.svg\" width = \"550\" height = '550'></center> \n"
   ]
  },
  {
   "cell_type": "markdown",
   "id": "0a59df96-8bb7-4296-aeb8-160c8b96376f",
   "metadata": {
    "slideshow": {
     "slide_type": "subslide"
    }
   },
   "source": [
    "## Posterior\n",
    "\n",
    "<center><img src=\"1_CB/Bayes16.svg\" width = \"550\" height = '550'></center> \n"
   ]
  },
  {
   "cell_type": "markdown",
   "id": "e33d988f-387a-4d28-ba56-8c8176260c2f",
   "metadata": {
    "slideshow": {
     "slide_type": "subslide"
    }
   },
   "source": [
    "## Posterior vs. likelihood\n",
    "<center><img src=\"1_CB/Bayes17.svg\" width = \"700\" height = '700'></center> "
   ]
  },
  {
   "cell_type": "markdown",
   "id": "11baeb74-8430-4401-b0f5-8f484ab9ec9c",
   "metadata": {
    "editable": true,
    "slideshow": {
     "slide_type": "slide"
    },
    "tags": []
   },
   "source": [
    "# A simple binary case"
   ]
  },
  {
   "cell_type": "markdown",
   "id": "9c168f82-c0ad-4db9-9d40-7767c8db5108",
   "metadata": {
    "editable": true,
    "slideshow": {
     "slide_type": "subslide"
    },
    "tags": []
   },
   "source": [
    "Frequentist probability: frequency of events; there is a point estimate\n",
    "\n",
    "|Problem|Data|$\\theta$|\n",
    "|:-------:|:-------:|:-------:|\n",
    "|<img src=\"2_CB/Coin_cara.png\" width = \"105\" height = '105'>|1 head, 6 tails|$\\frac{1}{7}$|"
   ]
  },
  {
   "cell_type": "markdown",
   "id": "86b42751-107d-43d4-939d-828f8df883d6",
   "metadata": {
    "editable": true,
    "slideshow": {
     "slide_type": "subslide"
    },
    "tags": []
   },
   "source": [
    "Bayesian probability: beliefs; there is a distribution over the potential estimate\n",
    "\n",
    "|Problem|Data|$\\theta$|\n",
    "|:-------:|:-------:|:-------:|\n",
    "|<img src=\"2_CB/Coin_cara.png\" width = \"105\" height = '105'>|1 head, 6 tails|<img src=\"2_CB/beta.svg\" width = \"200\" height = '200'>|\n"
   ]
  },
  {
   "cell_type": "markdown",
   "id": "b0709bb2-8213-40ac-a560-299200406e45",
   "metadata": {
    "editable": true,
    "slideshow": {
     "slide_type": "subslide"
    },
    "tags": []
   },
   "source": [
    "Bayes lure: \n",
    "\n",
    "We can combine prior knowledge about an hypothesis ($p(\\theta))$ and update that prior with data to obtain a new posterior belief/knowledge ($p(\\theta|data)$).\n",
    "\n",
    "$$ p(\\theta|data) = \\frac{p(data|\\theta)p(\\theta)}{p(data)}$$\n",
    "\n",
    "Today's posterior is the future prior"
   ]
  },
  {
   "cell_type": "markdown",
   "id": "3900dbec-f555-479d-9539-ca973010ddaa",
   "metadata": {
    "editable": true,
    "slideshow": {
     "slide_type": "subslide"
    },
    "tags": []
   },
   "source": [
    "Prior: lands heads 50% of the times. <br>\n",
    "Data: after 10 throws, only lands heads once <br>\n",
    "Posterior: lands heads 35% of the times (under some likelihood)"
   ]
  },
  {
   "cell_type": "markdown",
   "id": "6c784409-83fa-4738-b9d1-b4149916e8d2",
   "metadata": {
    "editable": true,
    "slideshow": {
     "slide_type": "slide"
    },
    "tags": []
   },
   "source": [
    "# Where do posteriors come from?\n",
    "\n",
    "The Bayesian setup requires to define likelihoods and priors to obtain a posterior belief after observing data:\n",
    "<center><img src=\"2_CB/bayes_framework.gv.svg\" width = \"350\" height = '350'></center>\n",
    "\n",
    "The posterior comes from a) analytical solutions or b) computational methods (the majority)"
   ]
  },
  {
   "cell_type": "markdown",
   "id": "7295913b-ad9d-4c31-8c25-180e949c4ea3",
   "metadata": {
    "editable": true,
    "slideshow": {
     "slide_type": "subslide"
    },
    "tags": []
   },
   "source": [
    "### Let's see a pair of analytical solutions:\n",
    "1) Beta posterior\n",
    "2) Normal posterior"
   ]
  },
  {
   "cell_type": "markdown",
   "id": "e8e9f9f3-0016-4366-a9fc-84f1aa1a9bb2",
   "metadata": {
    "slideshow": {
     "slide_type": "slide"
    }
   },
   "source": [
    "### Analytical derivation of a Beta posterior \n",
    "###### Likelihood: Bernoulli\n",
    "###### Prior: Beta\n",
    "###### Posterior: Beta (we will prove this)\n"
   ]
  },
  {
   "cell_type": "markdown",
   "id": "8fbb0e7a-90df-4e42-accf-0e0478362999",
   "metadata": {
    "slideshow": {
     "slide_type": "subslide"
    }
   },
   "source": [
    "Data: binary and independent (e.g. heads-tails; point-no point; pass-fail; happy-unhappy)\n",
    "\n",
    "Objective: to estimate the latent probability of one of the binary outcomes\n",
    "\n",
    "Model: Beta (prior) - Bernoulli (LH)\n",
    "\n",
    "<center><img src=\"2_CB/beta_bernoulli.svg\" width = \"600\" height = '600'></center>"
   ]
  },
  {
   "cell_type": "markdown",
   "id": "c0b0e7c2-699b-46c6-a5e6-921a4ac47f9f",
   "metadata": {
    "slideshow": {
     "slide_type": "fragment"
    }
   },
   "source": [
    "Prior (our model for beliefs) & likelihood (our model for the data):\n",
    "\n",
    "$$posterior \\propto Beta \\times Bernoulli$$\n"
   ]
  },
  {
   "cell_type": "markdown",
   "id": "b591304a-317f-45ef-8d65-a63d8e14026d",
   "metadata": {
    "slideshow": {
     "slide_type": "fragment"
    }
   },
   "source": [
    "Let's plug in the formulas\n",
    "\n",
    "$$P(\\theta|successes,tries,\\alpha,\\beta,p) \\propto \\frac{\\theta^{\\alpha-1}(1-\\theta)^{\\beta-1}}{B(\\alpha,\\beta)} \\times p^{successes}(1-p)^{tries-successes}$$"
   ]
  },
  {
   "cell_type": "markdown",
   "id": "698ed758-e058-4fc5-9a32-e62201b75cc6",
   "metadata": {
    "slideshow": {
     "slide_type": "subslide"
    }
   },
   "source": [
    "pars = $\\alpha,\\beta,p$ <br>\n",
    "N = tries<br>\n",
    "z = successes"
   ]
  },
  {
   "cell_type": "markdown",
   "id": "558e3d1a-0669-458d-8225-d6140c43d409",
   "metadata": {
    "slideshow": {
     "slide_type": "subslide"
    }
   },
   "source": [
    "After some algebra we realize that multiplying a Beta and a Bernoulli function results in:\n",
    "\n",
    "$$ p(\\theta|z,N,\\alpha,\\beta) \\sim beta(z+\\alpha, N-z+\\beta) $$ \n",
    "\n",
    "The posterior includes data (N,z) and previous beliefs ($\\alpha$, $\\beta$).\n",
    "\n",
    "We started with a beta for the prior and a Bernoulli for the likelihood. We ended with a posterior beta, thus the prior was a conjugate (https://en.wikipedia.org/wiki/Conjugate_prior).\n"
   ]
  },
  {
   "cell_type": "code",
   "execution_count": 6,
   "id": "2e4d9ee2-add5-4832-af33-37904a1301db",
   "metadata": {
    "editable": true,
    "slideshow": {
     "slide_type": "subslide"
    },
    "tags": []
   },
   "outputs": [],
   "source": [
    "# Interactive plot. Belief update after data\n",
    "theta_real = 0.375 #heads probability (this is the one we want to infer; in the real world we do not know it)\n",
    "def posterior_beta(lanzamientos, a, b):\n",
    "    #Likelihood: observed heads follow a Bernoulli\n",
    "    #Prior: Beta with parameters a, b \n",
    "    \n",
    "    #Experiment (data)\n",
    "    np.random.seed(seed=1144)\n",
    "    caras = st.bernoulli.rvs(theta_real, size=lanzamientos).sum() #heads\n",
    "    \n",
    "    #Prior (belief)\n",
    "    prior_par = np.array([a,b]) \n",
    "    \n",
    "    #Posterior (updated belief)\n",
    "    #Obtained analytically\n",
    "    nsims = 10000\n",
    "    a = caras + prior_par[0]\n",
    "    b = lanzamientos - caras + prior_par[1]\n",
    "    posterior_samples = np.sort(st.beta.rvs(a = a, b = b, size = nsims)) \n",
    "    posterior_pdf = st.beta.pdf(x = posterior_samples, a = a, b = b)\n",
    "    \n",
    "    #Graph\n",
    "    fig, ax = plt.subplots(1,1, figsize=(5,5))\n",
    "    idx1 = np.where(posterior_samples>=np.percentile(posterior_samples,q=2.5))[0][0]\n",
    "    idx2 = np.where(posterior_samples>=np.percentile(posterior_samples,q=97.5))[0][0]\n",
    "    text = \"[\" + str(np.round(posterior_samples[idx1],3)) +\\\n",
    "    \",\" + str(np.round(a/(a+b),3)) +\\\n",
    "    \",\" + str(np.round(posterior_samples[idx2],3)) + \"]\"\n",
    "    ax.plot(posterior_samples, posterior_pdf,'r-', lw=5, alpha=0.8, \n",
    "            label = '[2.5%, mean, 97.5%]  = ' + text)\n",
    "    ax.set_title('Posterior (belief of heads) \\n Real prob.: ' + str(theta_real))\n",
    "    ax.set_xlabel('Heads probability')\n",
    "    ax.set_ylabel('Density')\n",
    "    ax.set_xlim([0,1])\n",
    "    ax.set_ylim([0,1.2*np.max(posterior_pdf)])\n",
    "    ax.legend(loc = 'upper right')\n",
    "    "
   ]
  },
  {
   "cell_type": "code",
   "execution_count": 7,
   "id": "572bd8af-c842-44c7-8e75-205b44b80b47",
   "metadata": {
    "editable": true,
    "scrolled": true,
    "slideshow": {
     "slide_type": "subslide"
    },
    "tags": []
   },
   "outputs": [
    {
     "data": {
      "application/vnd.jupyter.widget-view+json": {
       "model_id": "8702993b7a2b4ccc91085035c796bbc7",
       "version_major": 2,
       "version_minor": 0
      },
      "text/plain": [
       "VBox(children=(HBox(children=(VBox(children=(BoundedIntText(value=3, description='Throws: ', max=1000000, min=…"
      ]
     },
     "execution_count": 7,
     "metadata": {},
     "output_type": "execute_result"
    }
   ],
   "source": [
    "w_experimento = widgets.BoundedIntText(value = 3, description = 'Throws: ',\n",
    "                                      min = 1, max = 1000000)\n",
    "w_prior_par_a = widgets.BoundedIntText(value = 1, description = 'Prior par a: ',\n",
    "                        min = 1, max = 1000000)\n",
    "w_prior_par_b = widgets.BoundedIntText(value = 1, description = 'Prior par b: ',\n",
    "                        min = 1, max = 1000000)\n",
    "out = widgets.interactive_output(posterior_beta, \n",
    "                                 {'lanzamientos': w_experimento, \n",
    "                                  'a': w_prior_par_a, 'b': w_prior_par_b})\n",
    "left_widgets = VBox([w_experimento])\n",
    "right_widgets = VBox([w_prior_par_a, w_prior_par_b])\n",
    "top = HBox([left_widgets, right_widgets])\n",
    "VBox([top, out])\n"
   ]
  },
  {
   "cell_type": "markdown",
   "id": "df47c527-3fab-4a93-bdc6-c8d7cbff7290",
   "metadata": {
    "slideshow": {
     "slide_type": "subslide"
    }
   },
   "source": [
    "Example 2; based on Kahneman, 2011, Thinking, Fast, and Slow.\n",
    "\n",
    "Objective: guess the profession.\n",
    "\n",
    "Charles is shy, kind, but with little interest in socializing. He likes order and is precise in his work.\n",
    "\n",
    "¿Electrical Engineer or Business major?\n"
   ]
  },
  {
   "cell_type": "markdown",
   "id": "65205e71-6626-46c2-b1e2-557d4398745b",
   "metadata": {
    "slideshow": {
     "slide_type": "fragment"
    }
   },
   "source": [
    "Kahneman found that the majority would say electrical engineer. <br>\n",
    "Why? <br>\n",
    "Judgment guided by the likelihood that Charles' observables are more likely in an engineer? <br>\n",
    "Do we neglect the prior that more people study Business?"
   ]
  },
  {
   "cell_type": "code",
   "execution_count": 32,
   "id": "aea9fec7-abfb-43bf-a536-484c2dff10ee",
   "metadata": {
    "slideshow": {
     "slide_type": "subslide"
    }
   },
   "outputs": [],
   "source": [
    "#Example: electrical engineer or business major.\n",
    "#Based on: Davidson-Pilon (2015).\n",
    "def posterior_beta_carlos(a_prior, b_prior, data_experimento):\n",
    "    #Bayes\n",
    "    prior_par = np.array([a_prior,b_prior])\n",
    "    prior_mean = [a_prior/(a_prior+b_prior), 1 - a_prior/(a_prior+b_prior)]\n",
    "    nsims = 10000\n",
    "    juicio_ing = data_experimento[0] #people that said engineer\n",
    "    juicio_todos = data_experimento.sum() #whole sample\n",
    "    a =  juicio_ing + prior_par[0] #we will see later in the course why a, b take this form (bernoulli-beta model)\n",
    "    b = juicio_todos - juicio_ing + prior_par[1]\n",
    "    posterior_mean = [a/(a+b), 1 - a/(a+b)] #With uniform prior\n",
    "    \n",
    "    a =  juicio_ing + prior_real[0]\n",
    "    b = juicio_todos - juicio_ing + prior_real[1]\n",
    "    posterior_real_mean = [a/(a+b), 1 - a/(a+b)] #With a data-based prior\n",
    "    \n",
    "    #Graph\n",
    "    #With uniform prior\n",
    "    #fig, ax = plt.subplots(1,2, figsize=(12, 3))\n",
    "    fig, ax = plt.subplots(1,1, figsize=(12, 3))\n",
    "    colors = [\"#348ABD\", \"#A60628\"]\n",
    "    fig.suptitle('Prior and posteriors of professions')\n",
    "    ax.bar([0, .7], prior_real, alpha=0.70, width=0.25, color=colors[0], label=\"Prior (data-based)\",\n",
    "            lw=3, edgecolor=\"#348ABD\")\n",
    "    ax.bar([0+0.25, .7+0.25], posterior_mean, alpha=0.7,\n",
    "            width=0.25, color=colors[1], label=\"Posterior with uniform prior\",\n",
    "            lw=3, edgecolor=\"#A60628\")\n",
    "    ax.set_xticks([0.20, 0.95])\n",
    "    ax.set_xticklabels([\"Engineer\", \"Business\"])\n",
    "    #ax[0].set_title(\"Prior real y posterior de las profesiones de Carlos\")\n",
    "    ax.set_ylabel(\"Probability\")\n",
    "    ax.set_ylim([0,1.1])\n",
    "    ax.legend(loc=\"upper right\");\n"
   ]
  },
  {
   "cell_type": "code",
   "execution_count": 33,
   "id": "f8582a8c-75ad-46a3-bec9-7728e5a0b535",
   "metadata": {
    "slideshow": {
     "slide_type": "subslide"
    }
   },
   "outputs": [
    {
     "name": "stdout",
     "output_type": "stream",
     "text": [
      "Data experiment: \n",
      "Electrical: 133798\n",
      "Business: 44600\n"
     ]
    },
    {
     "data": {
      "image/png": "[encoded data removed]",
      "text/plain": [
       "<Figure size 1200x300 with 1 Axes>"
      ]
     },
     "metadata": {},
     "output_type": "display_data"
    }
   ],
   "source": [
    "#Real data: Colombia, data min. educacion 2001-2018.\n",
    "grad = np.array([24763, 153635]) #number of degrees [electrical, business]\n",
    "prior_real = [grad[0]/grad.sum(), grad[1]/grad.sum()] \n",
    "\n",
    "#Experiment. We ask a lot of people and found the following number of\n",
    "#people saying that Charles is: [electrical engineer, business major]\n",
    "data_experimento = np.array([round(grad.sum()*3/4), round(grad.sum()*1/4)]) \n",
    "print('Data experiment: \\nElectrical: ' + str(data_experimento[0]) + \"\\nBusiness: \"  + str(data_experimento[1]))\n",
    "\n",
    "#The real prior (blue), looks different from the observed beliefs (posterior, red)\n",
    "#The posterior is robust to different priors. People are biased. \n",
    "#They use the likelihood: the probability of Carlos personality, given the hypothesis that\n",
    "#he is an engineer \n",
    "posterior_beta_carlos(1, 1, data_experimento) "
   ]
  },
  {
   "cell_type": "markdown",
   "id": "a841de6e-f47f-4f64-8991-6ccbf883ad1d",
   "metadata": {
    "editable": true,
    "slideshow": {
     "slide_type": "subslide"
    },
    "tags": []
   },
   "source": [
    "What hypotheses or latent $\\theta$ are interesting in finance, insurance, real sector, artificial intelligence, your industry?\n",
    "\n",
    "For instance, [minute 16](https://www.youtube.com/watch?v=RY-M0tvN77s) or [minute 1](https://www.youtube.com/watch?v=twpZhNqVExc)\n",
    "\n",
    "* Consumer acquisition costs\n",
    "* Consumer life value\n",
    "* Leadership\n",
    "* Consume Preferences\n",
    "* Product placement\n",
    "* Innovation capacities\n",
    "* Entrepreneurship\n",
    "* Subjective utility\n",
    "* Risk aversion\n",
    "* Impulsivity (e.g. intertemporal discounting)\n",
    "* Trust\n",
    "* Selfishness \n",
    "* Altruism\n",
    "* Empathy\n",
    "* Psychopathy\n",
    "* Perceptual sensitivity\n",
    "* Math ability\n",
    "* Capacity (in bits) of a learner\n",
    "* Pragmatic interpretation of a sentence\n",
    "* Object identity in the visual field\n",
    "* Creativity\n",
    "* Uncertainty\n",
    "* Others\n",
    "\n"
   ]
  },
  {
   "cell_type": "markdown",
   "id": "11a89429-c4fc-4c9a-9e12-ee898cbcaebc",
   "metadata": {
    "slideshow": {
     "slide_type": "slide"
    }
   },
   "source": [
    "# Analytical derivation of a normal posterior \n",
    "### Likelihood: Normal\n",
    "### Prior: Normal"
   ]
  },
  {
   "cell_type": "markdown",
   "id": "c02feb6c-03eb-4f22-b7af-1f91828330df",
   "metadata": {
    "slideshow": {
     "slide_type": "subslide"
    }
   },
   "source": [
    "Likelihood (normal)\n",
    "$$ p(y|\\theta) = \\frac{1}{\\sqrt{2\\pi}\\sigma}e^{-\\frac{1}{2\\sigma^2}(y-\\theta)^2}$$\n",
    "\n",
    "Prior (normal)\n",
    "$$ p(\\theta) = \\frac{1}{\\sqrt{2\\pi}\\tau_0}e^{-\\frac{1}{2\\tau_0^2}(\\theta-\\mu_0)^2}$$\n"
   ]
  },
  {
   "cell_type": "markdown",
   "id": "726ff4d6-114a-448b-99a7-5907815af5f7",
   "metadata": {
    "slideshow": {
     "slide_type": "subslide"
    }
   },
   "source": [
    "The typical Bayesian setup, without the marginal, is to define likelihoods and priors: \n",
    "<center><img src=\"2_CB/bayes_framework.gv.svg\" width = \"350\" height = '350'></center>"
   ]
  },
  {
   "cell_type": "markdown",
   "id": "cb970233-4753-4008-a5c7-2f484d4ddbd9",
   "metadata": {
    "slideshow": {
     "slide_type": "subslide"
    }
   },
   "source": [
    "The typical Bayesian setup, without the marginal, is to define likelihoods and priors:\n",
    "\n",
    "$$posterior \\propto prior \\times likelihood$$\n"
   ]
  },
  {
   "cell_type": "markdown",
   "id": "15a73730-2c55-4033-8267-1262889fa723",
   "metadata": {
    "slideshow": {
     "slide_type": "fragment"
    }
   },
   "source": [
    "Prior (our model for beliefs) & likelihood (our model for the data):\n",
    "\n",
    "$$posterior \\propto Normal (\\mu_0,\\tau_0^2) \\times Normal(\\theta,\\sigma^2)$$\n"
   ]
  },
  {
   "cell_type": "markdown",
   "id": "73377ef8-0daf-4a0b-91cc-03957bdec7fb",
   "metadata": {
    "slideshow": {
     "slide_type": "fragment"
    }
   },
   "source": [
    "Let's plug in the formulas:\n",
    "\n",
    "$$P(\\theta|y, \\sigma,\\tau_0,\\mu_0) \\propto \\frac{1}{\\sqrt{2\\pi}\\sigma}e^{-\\frac{1}{2\\sigma^2}(y-\\theta)^2}\\times \\frac{1}{\\sqrt{2\\pi}\\tau_0}e^{-\\frac{1}{2\\tau_0^2}(\\theta-\\mu_0)^2}$$"
   ]
  },
  {
   "cell_type": "markdown",
   "id": "9931efc1-bbf1-4af9-9acd-d8229e578259",
   "metadata": {},
   "source": [
    "After some algebra ..."
   ]
  },
  {
   "cell_type": "markdown",
   "id": "6cf77f1e-ee54-4764-8454-87c00b784ec9",
   "metadata": {
    "slideshow": {
     "slide_type": "subslide"
    }
   },
   "source": [
    "The posterior is $Normal(\\mu_1,\\sigma_1^2)$\n",
    "\n",
    "\\begin{align}\n",
    "P(\\theta|y, \\sigma,\\tau_0,\\mu_0) &\\propto e^{-\\frac{1}{\\frac{2\\sigma^2\\tau_0^2}{\\tau_0^2 + \\sigma^2}}\\left(\\left(\\theta - \\frac{(\\sigma^2\\mu_0 + \\tau_0^2 y)}{\\tau_0^2 + \\sigma^2}\\right)^2\\right)}\n",
    "\\end{align}\n",
    "\n",
    "$\\mu_1 = \\frac{(\\sigma^2\\mu_0 + \\tau_0^2 y)}{\\tau_0^2 + \\sigma^2} = \\frac{\\tau_0^{-2}\\mu_0 + \\sigma^{-2} y}{\\tau_0^{-2} + \\sigma^{-2}}$ \n",
    "\n",
    "$\\sigma_1 = \\frac{\\sigma^2\\tau_0^2}{\\tau_0^2 + \\sigma^2} = \\frac{1}{\\frac{1}{\\sigma^2} + \\frac{1}{\\tau_0^2}}$\n",
    "\n",
    "Note: the 2nd equal in $\\mu_1$ y $\\sigma_1$ is obtained by dividing the numerator and denominator by $\\frac{1}{\\sigma^2\\tau_0^2}$"
   ]
  },
  {
   "cell_type": "markdown",
   "id": "f55de894-4047-42cc-bfa2-bdbd942fb99d",
   "metadata": {
    "slideshow": {
     "slide_type": "subslide"
    }
   },
   "source": [
    "Looks nasty but let's analyze the result:\n",
    "\n",
    "$\\mu_1 = \\frac{\\tau_0^{-2}\\mu_0 + \\sigma^{-2} y}{\\tau_0^{-2} + \\sigma^{-2}}$ \n",
    "\n",
    "$\\sigma_1^2 = \\frac{1}{\\frac{1}{\\sigma^2} + \\frac{1}{\\tau_0^2}}$\n",
    "\n",
    "The mean of the posterior is a compromise between data ($y$) and the prior mean ($\\mu_0$). The compromise scales with the variance of the likelihood and the prior.\n",
    "\n",
    "The posterior variance is always lower than the variance of the likelihood and the prior.\n",
    "\n",
    "Note: if $y$ has n data points, change $y$ by it's mean and divide $\\sigma^2$ by n; the final posterior is similar. "
   ]
  },
  {
   "cell_type": "markdown",
   "id": "c970ac67-8649-41cb-b4c7-dc24592420ef",
   "metadata": {
    "slideshow": {
     "slide_type": "subslide"
    }
   },
   "source": [
    "Important Bayesian lesson (visually):\n",
    "\n",
    "There is a \"tug of war\" between prior beliefs and likelihood of the data for the final posterior beliefs.\n",
    "\n",
    "<center><img src=\"2_CB/Prior_vs_LH.svg\" width = \"551\" height = '550'></center>"
   ]
  },
  {
   "cell_type": "code",
   "execution_count": null,
   "id": "5707f31c-daec-4a3b-9f38-92d76a588f43",
   "metadata": {},
   "outputs": [],
   "source": []
  }
 ],
 "metadata": {
  "kernelspec": {
   "display_name": "Python 3 (ipykernel)",
   "language": "python",
   "name": "python3"
  },
  "language_info": {
   "codemirror_mode": {
    "name": "ipython",
    "version": 3
   },
   "file_extension": ".py",
   "mimetype": "text/x-python",
   "name": "python",
   "nbconvert_exporter": "python",
   "pygments_lexer": "ipython3",
   "version": "3.11.7"
  }
 },
 "nbformat": 4,
 "nbformat_minor": 5
}
