{
 "cells": [
  {
   "cell_type": "markdown",
   "metadata": {},
   "source": [
    "# Introducción Python "
   ]
  },
  {
   "cell_type": "markdown",
   "metadata": {},
   "source": [
    "Autores : Cindee Madison, Thomas Kluyver (https://bids.github.io/2016-01-14-berkeley/python/00-python-intro.html)\n",
    "\n",
    "Gracias a: Justin Kitzes, Matt Davis\n",
    "\n",
    "Traducción y extensiones por: Santiago Alonso\n",
    "\n",
    "Si está en windows, instale mingw-w64. En mac, Xcode.\n",
    "* http://mingw-w64.org/doku.php\n",
    "    * https://sourceforge.net/projects/mingw-w64/files/mingw-w64/\n",
    "        * Bajar archivo MinGW-W64-install.exe\n",
    "        * Instalar el archivo (escoger architecture x86_64)\n",
    "        * Añadir a PATH \n",
    "            * Buscar la carpeta donde se instalo MinGW. Ir a la carpeta bin y copiar la dirección.\n",
    "            * En el buscador general de Win10, escribir \"edit the system variables\".\n",
    "            * Buscar path y darle edit.\n",
    "            * Click en new. Pegar dirección de la carpeta bin.\n",
    "            * Reiniciar computador         \n",
    "\n",
    "\n",
    "Instale Anaconda (https://www.anaconda.com/products/individual).\n",
    "\n",
    "Instale jupyterlab. Para instalar jupyterlab corra UNO de los siguientes en terminal (macos) o command prompt (windows): \n",
    "* conda install -c conda-forge jupyterlab  \n",
    "* pip install jupyterlab\n",
    "\n",
    "Instale pymc3 (https://github.com/pymc-devs/pymc3/wiki/Installation-Guide-(Windows))\n",
    "\n",
    "Solo uno de los dos anteriores. Si no le instala la última versión de jupyterlab, esto depronto sirve (no es 100% necesario tener la ultima versión):\n",
    "* pip install --upgrade jupyter jupyter-client jupyter-console jupyter-core jupyterlab_server jupyterlab"
   ]
  },
  {
   "cell_type": "markdown",
   "metadata": {},
   "source": [
    "Ejercicios para practicar en:\n",
    "* https://horstmann.com/codecheck/python-questions.html"
   ]
  },
  {
   "cell_type": "markdown",
   "metadata": {
    "tags": [
     "Tema"
    ]
   },
   "source": [
    "## 1. VARIABLES \n",
    "\n",
    "El componente más básico de cualquier lenguaje de programación son \"cosas\" o (en casos especiales) objetos\n",
    "\n",
    "Las \"cosas\" básicas más comunes en Python son: \n",
    "- integer\n",
    "- float \n",
    "- strings \n",
    "- booleans \n",
    "- Otros (e.g. pandas dataframes, numpy array). Conoceremos muchos de estos a medida que avancemos en la lección.\n"
   ]
  },
  {
   "cell_type": "markdown",
   "metadata": {},
   "source": [
    "__TIP:__ Este tutorial está hecho en un jupyter notebook. Para correr rápidamente el código de una celda del notebook, presione shift + enter."
   ]
  },
  {
   "cell_type": "markdown",
   "metadata": {},
   "source": [
    "__TIP:__ Para añadir una nueva celda oprima el signo + en el menu de arriba. Cambie el tipo de celda a Markdown, Code, o Raw dependiendo de lo que desee. "
   ]
  },
  {
   "cell_type": "code",
   "execution_count": null,
   "metadata": {},
   "outputs": [],
   "source": [
    "# Una \"cosa\" (integer)\n",
    "2"
   ]
  },
  {
   "cell_type": "code",
   "execution_count": null,
   "metadata": {},
   "outputs": [],
   "source": [
    "# Use la función print para imprimir multiples \"cosas\"\n",
    "# Note que puede usar comillas dobles o sencillas para strings\n",
    "print(2)\n",
    "print(\"hola mundo\")\n",
    "print('hola mundo')"
   ]
  },
  {
   "cell_type": "code",
   "execution_count": null,
   "metadata": {
    "jupyter": {
     "outputs_hidden": false
    }
   },
   "outputs": [],
   "source": [
    "# La función type nos dice el tipo de la cosa \n",
    "print(type(a))\n",
    "print(type(b))\n",
    "print(type(c))"
   ]
  },
  {
   "cell_type": "code",
   "execution_count": null,
   "metadata": {},
   "outputs": [],
   "source": [
    "# Las \"cosas\" pueden guardarse en variables\n",
    "a = 2\n",
    "b = 'hello'\n",
    "c = True  # This is case sensitive\n",
    "print(a, b, c)"
   ]
  },
  {
   "cell_type": "markdown",
   "metadata": {
    "tags": [
     "Ejercicio"
    ]
   },
   "source": [
    "### <span style=\"color:purple\">Ahora usted</span>\n",
    "Haga tres variables con los nombres y tipos que usted quiera. Para hacerlo, cree una celda de código abajo de esta"
   ]
  },
  {
   "cell_type": "markdown",
   "metadata": {
    "tags": [
     "Tema"
    ]
   },
   "source": [
    "## 2. COMANDOS QUE OPERAN SOBRE LAS \"COSAS\"\n",
    "\n",
    "Solo guardar información en variables no es muy útil. Queremos hacer operaciones y manipulaciones sobre esa data y variables.\n",
    "\n",
    "Hay muchas formas de hacer operaciones. Veamos tres muy comunes."
   ]
  },
  {
   "cell_type": "markdown",
   "metadata": {},
   "source": [
    "### 2.1 Operadores\n",
    "\n",
    "Hay operadores de varios tipos. Tal vez los que todos conocemos bien son los usuales operadores matemáticos (e.g. +). En python, aplicados a números (int o float), funcionan como esperaríamos.\n",
    "\n",
    "Hay otros operadores, por ejemplo booleanos. Veamos algunos ejemplos a continuación.\n"
   ]
  },
  {
   "cell_type": "code",
   "execution_count": null,
   "metadata": {
    "jupyter": {
     "outputs_hidden": false
    }
   },
   "outputs": [],
   "source": [
    "# Los operadores matemáticos funcionan en números como esperamos\n",
    "a = 2\n",
    "b = 3\n",
    "print(a + b)\n",
    "print(a * b)\n",
    "print(a ** b)  # a elevado a la b (PRECAUCIÓN: diferencia con R: a^b hace otra cosa)\n",
    "print(a / b)   # Usemos Python 3; en Python 2 es diferente"
   ]
  },
  {
   "cell_type": "code",
   "execution_count": null,
   "metadata": {
    "jupyter": {
     "outputs_hidden": false
    }
   },
   "outputs": [],
   "source": [
    "# Algunos operadores también se pueden usar con strings\n",
    "print('hello' + 'world')\n",
    "print('hello' * 3)\n",
    "#print('hello' / 3)  # You can't do this!"
   ]
  },
  {
   "cell_type": "code",
   "execution_count": null,
   "metadata": {
    "jupyter": {
     "outputs_hidden": false
    }
   },
   "outputs": [],
   "source": [
    "# Los operadores Booleanos comparan \"cosas\" \n",
    "a = (1 > 3)\n",
    "b = (3 == 3)\n",
    "c = 'vaca' == 'Vaca' \n",
    "d = 'vaca' == 'vaca'\n",
    "print(a)\n",
    "print(b)\n",
    "print(c)\n",
    "print(d)\n",
    "print(a or b)\n",
    "print(a and b)"
   ]
  },
  {
   "cell_type": "markdown",
   "metadata": {},
   "source": [
    "### 2.2 Funciones\n",
    "\n",
    "Son grupos de instrucciones que transforman el input deseado. "
   ]
  },
  {
   "cell_type": "code",
   "execution_count": null,
   "metadata": {
    "jupyter": {
     "outputs_hidden": false
    }
   },
   "outputs": [],
   "source": [
    "# Hay miles de funciones que operan sobre \"cosas\"\n",
    "print(type(3))\n",
    "print(len('hello'))\n",
    "print(round(3.3))"
   ]
  },
  {
   "cell_type": "markdown",
   "metadata": {},
   "source": [
    "__TIP:__ Para saber qué hace una función, escriba el nombre de la función seguido de el signo de pregunta."
   ]
  },
  {
   "cell_type": "code",
   "execution_count": null,
   "metadata": {
    "jupyter": {
     "outputs_hidden": false
    }
   },
   "outputs": [],
   "source": [
    "round?\n",
    "round(3.14159, 2)"
   ]
  },
  {
   "cell_type": "markdown",
   "metadata": {},
   "source": [
    "__TIP:__ Muchas funciones no están incluidas en la instalación base de Python. Hay paquetes científicos que hay que instalar e importar manualmente. Aprenderemos de algunos importantes en este curso."
   ]
  },
  {
   "cell_type": "code",
   "execution_count": null,
   "metadata": {
    "jupyter": {
     "outputs_hidden": false
    }
   },
   "outputs": [],
   "source": [
    "# Muchas funciones importantes están en paquetes externos. \n",
    "# Conozcamos numpy y pandas\n",
    "import numpy as np  #le pusimos a numpy un apodo \"np\", para acortar cuando lo usamos\n",
    "import pandas as pd"
   ]
  },
  {
   "cell_type": "code",
   "execution_count": null,
   "metadata": {
    "jupyter": {
     "outputs_hidden": false
    }
   },
   "outputs": [],
   "source": [
    "# Para ver las funciones que tiene un paquete, escriba el nombre/apodo seguido de un punto y oprima tab.\n",
    "# También, vaya a foros como stackoverflow cuando tenga dudas o errores\n",
    "# pd?\n",
    "# pd."
   ]
  },
  {
   "cell_type": "code",
   "execution_count": null,
   "metadata": {
    "jupyter": {
     "outputs_hidden": false
    }
   },
   "outputs": [],
   "source": [
    "# Algunos ejemplos de funciones y 'cosas' en numpy \n",
    "print(np.sqrt(4))\n",
    "print(np.pi)  # No es una función, es una variable\n",
    "print(np.sin(np.pi))"
   ]
  },
  {
   "cell_type": "markdown",
   "metadata": {},
   "source": [
    "### 2.3 Métodos\n",
    "\n",
    "Ya es momento de dejar hablar de 'cosas'. En python hay objetos de diferentes clases. Antes nos referíamos a int, strings, o arrays numpy como \"cosas\" pero de hecho son objetos de clase int, de clase string, y de clase numpy. \n",
    "\n",
    "En los términos más sencillos, piense un objeto como una colección de data y funciones. Las funciones las llamaremos métodos y la sintaxis es diferente. En vez de `function(arguments)`, los métodos se usan `variable.method(arguments)`\n",
    "\n",
    "Por ejemplo, strings son objetos donde la data son caracteres, con varios métodos aplicables a esa data. "
   ]
  },
  {
   "cell_type": "code",
   "execution_count": null,
   "metadata": {
    "jupyter": {
     "outputs_hidden": false
    }
   },
   "outputs": [],
   "source": [
    "# Un string es un objeto \n",
    "a = 'hola, mundo'\n",
    "print(type(a))"
   ]
  },
  {
   "cell_type": "code",
   "execution_count": null,
   "metadata": {
    "jupyter": {
     "outputs_hidden": false
    }
   },
   "outputs": [],
   "source": [
    "# Los objetos tienen varios métodos; depende de la clase. Los métodos para strings son diferentes a los de int o numpy\n",
    "#a. #para ver los métodos y data/valores dentro del objeto a\n",
    "print(a.capitalize())\n",
    "print(a.replace('l', 'X'))"
   ]
  },
  {
   "cell_type": "markdown",
   "metadata": {
    "tags": [
     "Ejercicio"
    ]
   },
   "source": [
    "### EJERCICIO 1 - Conversión\n",
    "\n",
    "En este tutorial, vamos a construir poco a poco un programa que calcule la varianza de alturas. La data está en pies, así que lo primero es convertirla a metros. Por el momento, solo convertiremos un valor. Este es el factor de conversión: \n",
    "\n",
    "## $inch = \\frac{metre}{39}$\n",
    "\n",
    "1. Cree una celda de code abajo de esta. En esa celda haga lo siguiente.\n",
    "1. Cree una variable llamada `inches_in_metre` que indique cuantos inches hay en un metro.\n",
    "1. Cree una variable (`inches`) con cualquier valor en inches.\n",
    "2. Divida `inches` por `inches_in_metre`, y guarde el resultado en una nueva variable `metres`.\n",
    "1. Imprima el resultado en pantalla"
   ]
  },
  {
   "cell_type": "markdown",
   "metadata": {
    "tags": [
     "Tema"
    ]
   },
   "source": [
    "## 3. COLECCIÓN DE OBJETOS\n",
    "\n",
    "En el anterior ejercicio, manipulamos un valor. En ciencia de datos, incluyendo economía, tenemos datos más complejos. En el ejemplo que estamos construyendo nos interesa las características y distribución de varias alturas. Python tiene varios objetos que nos permite manipular colecciones de objetos.\n",
    "\n",
    "Casi con certeza, su trabajo científico en Python va a usar alguno de estos objetos: `lists`, `tuples`, `dictionaries`, `numpy arrays`, `pandas dataframes`. Miremos cada uno de ellos para que pueden servirle\n"
   ]
  },
  {
   "cell_type": "markdown",
   "metadata": {},
   "source": [
    "### 3.1 Lists\n",
    "\n",
    "Las lists son probablemente los contenedores de objetos más flexibles. \n",
    "\n",
    "Las lists se declaran con corchetes cuadrados []. \n",
    "\n",
    "Elementos individuales en una lista se pueden seleccionar con la sintaxis `a[ind]`."
   ]
  },
  {
   "cell_type": "code",
   "execution_count": null,
   "metadata": {
    "jupyter": {
     "outputs_hidden": false
    }
   },
   "outputs": [],
   "source": [
    "# Las listas son creadas con corchetes cuadrados \n",
    "a = ['blueberry', 'strawberry', 'pineapple']\n",
    "print(a, type(a))"
   ]
  },
  {
   "cell_type": "code",
   "execution_count": null,
   "metadata": {
    "jupyter": {
     "outputs_hidden": false
    }
   },
   "outputs": [],
   "source": [
    "# Las listas, y en general cualquier objeto que tenga varios elementos, se indexan con corchetes cuadrados\n",
    "# NOTA IMPORTANTE: El primer indice es zero no uno \n",
    "print(a[0])\n",
    "print(a[1])\n",
    "print(a[2])"
   ]
  },
  {
   "cell_type": "code",
   "execution_count": null,
   "metadata": {
    "jupyter": {
     "outputs_hidden": false
    }
   },
   "outputs": [],
   "source": [
    "## Puede indexar contando desde el ultimo elemento de la lista usando indices negativos\n",
    "print('último item es:', a[-1])\n",
    "print('penúltimo item es:', a[-2])"
   ]
  },
  {
   "cell_type": "code",
   "execution_count": null,
   "metadata": {
    "jupyter": {
     "outputs_hidden": false
    }
   },
   "outputs": [],
   "source": [
    "# Puede acceder a varios items de la lista a la vez con slicing, con dos puntos entre los indices\n",
    "# NOTA: El ultimo valor no se incluye (per ejemplo en 0:2, no incluye el indice 2, va hasta el indice 1)\n",
    "print('a =', a)\n",
    "print('get first two:', a[0:2])"
   ]
  },
  {
   "cell_type": "code",
   "execution_count": null,
   "metadata": {
    "jupyter": {
     "outputs_hidden": false
    }
   },
   "outputs": [],
   "source": [
    "# Los dos puntos pueden ir al comienzo o al final o solos\n",
    "print(a[:2]) #comienzo hasta el item 1 (item 1 es el 2, recuerde que contamos desde 0)\n",
    "print(a[2:]) #item 2 hasta el final\n",
    "print(a[:]) #toda la lista\n",
    "print(a[:-1]) #comienzo hasta el penultimo item (i.e. hasta el -2, recordar que -1 no se incluye)"
   ]
  },
  {
   "cell_type": "code",
   "execution_count": null,
   "metadata": {
    "jupyter": {
     "outputs_hidden": false
    }
   },
   "outputs": [],
   "source": [
    "# Las listas son objetos y tienen métodos p.ej. append\n",
    "a.append('banana')\n",
    "print(a)\n",
    "\n",
    "a.append([1,2])\n",
    "print(a)\n",
    "\n",
    "a.pop() #¿Qué hace?\n",
    "print(a)"
   ]
  },
  {
   "cell_type": "markdown",
   "metadata": {},
   "source": [
    "\n",
    "__PRECAUCIÓN:__ Una importante fuente de confusión para nuevos usuarios de Python es que hay objetos inmutables y mutables. Muchos objetos que agrupan otros objetos, como las listas, son mutables. Esto quiere decir que son apuntadores que apuntan a la data en la memoria, NO son la data como tal. \n",
    "\n",
    "Parece confuso pero veamos un ejemplo para aclarar."
   ]
  },
  {
   "cell_type": "code",
   "execution_count": null,
   "metadata": {
    "jupyter": {
     "outputs_hidden": false
    }
   },
   "outputs": [],
   "source": [
    "#Int, float, strings, son inmutables\n",
    "a = 1\n",
    "b = a\n",
    "print('original b', b)\n",
    "a = 2\n",
    "print('¿Qué es b después de cambiar a?', b)\n",
    "\n",
    "#Las listas son mutables\n",
    "a = [1, 2, 3]\n",
    "b = a\n",
    "print('original b', b)\n",
    "a[0] = 42\n",
    "print('¿Qué es b después de cambiar a?', b) # !!!Cambie a pero tambien cambio b!!!\n",
    "\n",
    "#¿Qué hacer si se quiere que otra lista sea igual a otra sin que el cambio en una se refleje en la otra? Ver el modulo copy\n",
    "import copy\n",
    "a = [1,2,3]\n",
    "b = copy.deepcopy(a)\n",
    "print('original b', b)\n",
    "a[0] = 42\n",
    "print('¿Qué es b después de cambiar a?', b) \n"
   ]
  },
  {
   "cell_type": "markdown",
   "metadata": {},
   "source": [
    "### EJERCICIO 2 - Ponga muchas alturas (en metros) en una lista\n",
    "\n",
    "1. Cree una celda de code abajo de esta.\n",
    "1. Preguntele a cinco personas alrededor suyo su altura en metros\n",
    "2. Pongalas en una lista llamada `heights`.\n",
    "3. Adjunte su propia altura a la lista anterior con el método `append`\n",
    "4. Imprima la primera altura de la lista \n",
    "5. Imprima el último elemento de la lista\n",
    "6. Utilicé la función `len` en la lista `heights`. ¿Qué hace la función?"
   ]
  },
  {
   "cell_type": "markdown",
   "metadata": {},
   "source": [
    "### 3.2 Tuplas\n",
    "\n",
    "No diremos mucho de tuplas excepto que son parecidas a las listas con dos importantes excepciones:\n",
    "\n",
    "1. Se declaran usando () no con []\n",
    "1. Son inmutables, es decir, una vez creadas no se puede cambiar los valores\n",
    "\n",
    "Es más común usar listas pero las tuples usualmente se usan para: \n",
    "\n",
    "1. Cuando la posición de un elemento es esencial, como en coordenadas coord = (x,y)\n",
    "1. Cuando se quiere evitar modificaciones accidentales de items e.g. shape = (12,23)"
   ]
  },
  {
   "cell_type": "code",
   "execution_count": null,
   "metadata": {
    "jupyter": {
     "outputs_hidden": false
    }
   },
   "outputs": [],
   "source": [
    "xy = (23, 45)\n",
    "print(xy[0])\n",
    "xy[0] = \"this won't work with a tuple\""
   ]
  },
  {
   "cell_type": "markdown",
   "metadata": {},
   "source": [
    "### ¿Qué es un traceback error?\n",
    "\n",
    "Traceback errors aparecen cuando intenta hacer algo con el código que no debe hacer. Pretende ser informativo, pero no siempre lo es.\n",
    "\n",
    "Hay muchos tipos de error. El error que aparece cuando corre la celda anterior tiene las siguientes características:\n",
    "\n",
    "1. **TypeError** significa que se usó una variable de una forma no es aceptable por Python\n",
    "2. En especifico, los objetos `tuple` son inmutables, no podemos asignar nuevos valores a los items.\n",
    "3. En notebooks Jupyter, la flecha ----> apunta a la línea donde ocurrió el error.\n",
    "4. En caso de no entender bien el error, se puede copiar el texto del error y buscarlo en Google. Stackoverflow, un foro de usuarios de lenguajes de programación, es particularmente bueno para aclarar. \n",
    "    \n"
   ]
  },
  {
   "cell_type": "markdown",
   "metadata": {},
   "source": [
    "### 3.3 Diccionarios\n",
    "\n",
    "Al igual que las listas, sirven para guardar colecciones de objetos. Su principal diferencia es que permite recuperar items por su nombre en vez de posición. \n",
    "\n",
    "Se declaran usando corchetes de llave {}."
   ]
  },
  {
   "cell_type": "code",
   "execution_count": null,
   "metadata": {
    "jupyter": {
     "outputs_hidden": false
    }
   },
   "outputs": [],
   "source": [
    "# Diccionarios guardan objetos como pares key:value\n",
    "convertors = {'inches_in_feet' : 12,\n",
    "              'inches_in_metre' : 39}\n",
    "\n",
    "print(convertors)\n",
    "print(convertors['inches_in_feet'])"
   ]
  },
  {
   "cell_type": "code",
   "execution_count": null,
   "metadata": {
    "jupyter": {
     "outputs_hidden": false
    }
   },
   "outputs": [],
   "source": [
    "## Add a new key:value pair\n",
    "convertors['metres_in_mile'] = 1609.34\n",
    "print(convertors)"
   ]
  },
  {
   "cell_type": "code",
   "execution_count": null,
   "metadata": {
    "jupyter": {
     "outputs_hidden": false
    }
   },
   "outputs": [],
   "source": [
    "# Raise a KEY error\n",
    "print(convertors['blueberry'])"
   ]
  },
  {
   "cell_type": "markdown",
   "metadata": {},
   "source": [
    "### 3.4 Numpy arrays (ndarrays)\n",
    "\n",
    "Numpy arrays (ndarrays) no son objetos de Python básico pero son muy útiles. Se pueden pensar como vectores o matrices. Entre otras razones, son importantes por:\n",
    "\n",
    "1. Los arrays pueden tener n-dimensiones (e.g. matrices mxn)\n",
    "1. Se pueden hacer operaciones de matrices con numpy arrays\n",
    "1. Se pueden concatenar\n",
    "\n",
    "Ahora que estamos empezando nuestro recorrido por Python para ciencia de datos, es recomendable tratar de siempre usar ndarrays para guardar colecciones de objetos de la misma clase. Dejar los otros tipos, como listas o tuplas, para usos muy específicos.\n"
   ]
  },
  {
   "cell_type": "code",
   "execution_count": null,
   "metadata": {
    "jupyter": {
     "outputs_hidden": false
    }
   },
   "outputs": [],
   "source": [
    "# Necesitamos importar la libreria numpy (además de permitirnos construir ndarrays, tiene muchos métodos y atributos útiles)\n",
    "# La importamos con el apodo np, comunmente usado en la comunidad de usuarios de Python\n",
    "# Ya la habíamos importado arriba, no es necesario hacerlo 2 veces pero por motivos pedagógicos acá va de nuevo.\n",
    "\n",
    "import numpy as np"
   ]
  },
  {
   "cell_type": "code",
   "execution_count": null,
   "metadata": {
    "jupyter": {
     "outputs_hidden": false
    }
   },
   "outputs": [],
   "source": [
    "# Hacer un numpy array de una list\n",
    "alist = [2, 3, 4]\n",
    "blist = [5, 6, 7]\n",
    "a = np.array(alist)\n",
    "b = np.array(blist)\n",
    "print(a, type(a))\n",
    "print(b, type(b))"
   ]
  },
  {
   "cell_type": "code",
   "execution_count": null,
   "metadata": {
    "jupyter": {
     "outputs_hidden": false
    }
   },
   "outputs": [],
   "source": [
    "# Hacer aritmética con arrays\n",
    "print(a**2)\n",
    "print(np.sin(a))\n",
    "print(a * b)\n",
    "print(a.dot(b), np.dot(a, b))"
   ]
  },
  {
   "cell_type": "code",
   "execution_count": null,
   "metadata": {
    "jupyter": {
     "outputs_hidden": false
    }
   },
   "outputs": [],
   "source": [
    "# Los operadores Booleanos también funcionan con arrays y devuelven arrays con valores Booleanos\n",
    "print(a > 2)\n",
    "print(b == 6)\n",
    "\n",
    "c = a > 2\n",
    "print(c)\n",
    "print(type(c))\n",
    "print(c.dtype)"
   ]
  },
  {
   "cell_type": "code",
   "execution_count": null,
   "metadata": {
    "jupyter": {
     "outputs_hidden": false
    }
   },
   "outputs": [],
   "source": [
    "# Indexar/acceder a elementos de arrays\n",
    "print(a[0:2])\n",
    "\n",
    "c = np.random.rand(3,3)\n",
    "print(c)\n",
    "print('\\n')\n",
    "print(c[1,1])\n",
    "print(c[1:3,0:2])\n",
    "\n",
    "c[0,:] = a\n",
    "print('\\n')\n",
    "print(c)"
   ]
  },
  {
   "cell_type": "code",
   "execution_count": null,
   "metadata": {
    "jupyter": {
     "outputs_hidden": false
    }
   },
   "outputs": [],
   "source": [
    "# Los arrays se pueden indexar con arrays Booleanos (logic indexing)\n",
    "print(a)\n",
    "print(b)\n",
    "print(a > 2)\n",
    "print(a[a > 2])\n",
    "print(b[a > 2])\n",
    "\n",
    "b[a == 3] = 77\n",
    "print(b)"
   ]
  },
  {
   "cell_type": "code",
   "execution_count": null,
   "metadata": {
    "jupyter": {
     "outputs_hidden": false
    }
   },
   "outputs": [],
   "source": [
    "# Los ndarrays tienen atributos además de métodos\n",
    "#c.\n",
    "print(c.shape)\n",
    "print(c.prod())"
   ]
  },
  {
   "cell_type": "code",
   "execution_count": null,
   "metadata": {
    "jupyter": {
     "outputs_hidden": false
    }
   },
   "outputs": [],
   "source": [
    "# Hay métodos que nos permiten hacer arrays llenos de unos o zeros \n",
    "# Útil para cosas como inicializar una variable que luego se llena con otros elementos\n",
    "print(np.zeros(5), '\\n')\n",
    "print(np.ones(5), '\\n')\n",
    "print(np.identity(5), '\\n')"
   ]
  },
  {
   "cell_type": "code",
   "execution_count": null,
   "metadata": {
    "jupyter": {
     "outputs_hidden": false
    }
   },
   "outputs": [],
   "source": [
    "# También tiene métodos para inicializar secuencias de números\n",
    "print(np.arange(0, 10, 2))"
   ]
  },
  {
   "cell_type": "markdown",
   "metadata": {},
   "source": [
    "### 3.5 Pandas dataframes\n",
    "\n",
    "Los dataframes son parecidos a los numpy arrays, de hecho se construyen sobre ellos, y también se pueden pensar como matrices donde cada columna tiene que ser de la misma clase de objetos (e.g. una columna son strings; otra números; otra listas; etc).\n",
    "\n",
    "Al mismo tiempo, un dataframe y numpy ndarray difieren. Por ejemplo, los numpy array se procesan más rápido por Python pero los dataframe tienen métodos que no tienen los ndarrays y que son muy útiles. Por eso aprendemos ambos.\n"
   ]
  },
  {
   "cell_type": "code",
   "execution_count": 1,
   "metadata": {},
   "outputs": [],
   "source": [
    "# Necesitamos importar la libreria pandas (además de permitirnos construir dataframes, tiene muchos métodos y atributos útiles)\n",
    "# La importamos con el apodo pd, comunmente usado en la comunidad de usuarios de Python\n",
    "# Ya la habíamos importado arriba, no es necesario hacerlo 2 veces pero por motivos pedagógicos acá va de nuevo.\n",
    "import pandas as pd"
   ]
  },
  {
   "cell_type": "code",
   "execution_count": null,
   "metadata": {},
   "outputs": [],
   "source": [
    "# Un dataframe se puede construir con otros objetos como diccionarios\n",
    "data = {\n",
    "    'manzanas': [3, 2, 0, 1], \n",
    "    'naranjas': [0, 3, 7, 2]\n",
    "}\n",
    "compras = pd.DataFrame(data) #Cada key del diccionario es una columna del dataframe\n",
    "compras\n"
   ]
  },
  {
   "cell_type": "code",
   "execution_count": null,
   "metadata": {},
   "outputs": [],
   "source": [
    "# Construir con un numpy array\n",
    "data_numpy_array = np.array([[3, 2, 0, 1], [0, 3, 7, 2]])\n",
    "compras = pd.DataFrame(np.transpose(data_numpy_array), \n",
    "                       columns = ['manzanas','naranjas'])\n",
    "compras\n"
   ]
  },
  {
   "cell_type": "code",
   "execution_count": null,
   "metadata": {},
   "outputs": [],
   "source": [
    "# Construir con una lista\n",
    "data_list = [[3, 0], [2, 3], [0, 7],[1,2]] #Cada item de la lista es una fila del dataframe\n",
    "compras = pd.DataFrame(data_list, \n",
    "                       columns = ['manzanas','naranjas'])\n",
    "compras\n"
   ]
  },
  {
   "cell_type": "code",
   "execution_count": null,
   "metadata": {},
   "outputs": [],
   "source": [
    "# El constructor enumera las filas pero podemos ponerle nombres\n",
    "# En un dataframe las filas se llaman index\n",
    "compras = pd.DataFrame(data, index=['June', 'Robert', 'Lily', 'David'])\n",
    "compras"
   ]
  },
  {
   "cell_type": "code",
   "execution_count": null,
   "metadata": {},
   "outputs": [],
   "source": [
    "# Podemos ubicar los datos de un cliente con el nombre del index\n",
    "compras.loc['Robert',:] #los dos puntos le dice a python que traiga todas las columnas"
   ]
  },
  {
   "cell_type": "code",
   "execution_count": null,
   "metadata": {},
   "outputs": [],
   "source": [
    "# Podemos ubicar los datos de un producto con el nombre de la columna\n",
    "compras.loc[:,'naranjas'] #los dos puntos le dice a python que traiga todas las filas"
   ]
  },
  {
   "cell_type": "code",
   "execution_count": null,
   "metadata": {},
   "outputs": [],
   "source": [
    "# Podemos acceder al valor de una celda \n",
    "compras.loc['David','manzanas']"
   ]
  },
  {
   "cell_type": "code",
   "execution_count": null,
   "metadata": {},
   "outputs": [],
   "source": [
    "# Con el método reset_index() podemos volver a enumerar las filas si nos arrepentimos de los nombres que pusimos\n",
    "compras = compras.reset_index(drop = True)\n",
    "print(compras)\n",
    "\n",
    "# Esto es útil si preferimos acceder a celdas con posiciones \n",
    "compras.iloc[0,0] #accede al valor de la primera celda en la matriz (recordar que en Python se cuenta desde cero)\n"
   ]
  },
  {
   "cell_type": "markdown",
   "metadata": {
    "tags": [
     "Ejercicio"
    ],
    "toc-hr-collapsed": true,
    "toc-nb-collapsed": true
   },
   "source": [
    "### EJERCICIO 3 - Análisis simple con numpy arrays\n",
    "\n",
    "Use la lista de alturas que construyó en el anterior ejercicio.\n",
    "\n",
    "1. Cree una nueva celda code abajo\n",
    "1. Convierta la lista en un numpy array y pongalo en una nueva variable\n",
    "2. Calcule el promedio y la desviación estandard\n",
    "3. Use el array heights original, y construya una nueva variable con un array que tenga las alturas mayores a un cierto valor de su preferencia. Es decir, use boolean index en el array heights original.\n",
    "4. Calcule el promedio de la nueva variable\n"
   ]
  },
  {
   "cell_type": "markdown",
   "metadata": {},
   "source": [
    "Numpy broadcasting\n",
    "https://numpy.org/doc/stable/user/basics.broadcasting.html\n",
    "\n",
    "<center><img src=\"np_broadcast_visual.png\" width = \"400\" height = '400'></center>"
   ]
  },
  {
   "cell_type": "markdown",
   "metadata": {
    "tags": [
     "Tema"
    ],
    "toc-hr-collapsed": true,
    "toc-nb-collapsed": true
   },
   "source": [
    "## 4. ITERAR: LOOPS FOR Y LOOPS WHILE\n",
    "\n",
    "En las secciones que vienen vamos a empezar a tomar provecho del poder de programar para que automatice tareas.\n",
    "\n",
    "Comecemos con acciones que se pueden repetir i.e. iterar. Las dos maneras básicas para iterar en un programa es con loops for y loops while. \n",
    "\n",
    "Los loops for repiten un mismo set de operaciones sobre los elementos de una colección de objetos, por ejemplo sobre cada fila (o columna) de un dataframe.\n",
    "\n",
    "Los loops while repiten un mismo set de operaciones hasta que se cumpla una condición.\n",
    "\n",
    "Abajo veremos algunos ejemplos para clarificar.\n"
   ]
  },
  {
   "cell_type": "code",
   "execution_count": null,
   "metadata": {
    "jupyter": {
     "outputs_hidden": false
    }
   },
   "outputs": [],
   "source": [
    "# Un loop for básico \n",
    "wordlist = ['hi', 'hello', 'bye']\n",
    "for word in wordlist:\n",
    "    print(word + '!')\n"
   ]
  },
  {
   "cell_type": "markdown",
   "metadata": {},
   "source": [
    "**IMPORTANTE INDENTACIÓN**: Note la indentación una vez entramos al for loop. Python usa esa indentación para saber cuales son los comandos a repetir. Todos los comandos al mismo nivel de indentación entran en el for loop.\n",
    "\n",
    "Vamos a ver que aplica para otros procedimientos como while loops, condicionales if, declaración de funciones, etc. Lo que hace único a Python es esta indentación. Python es mucho más fácil de leer, relativo a otros lenguajes de programación.\n",
    "\n",
    "Si no tiene una indentación consistente le aparece un error `IndentationError`. Afortunadamente, la mayoría de editores, incluyendo Jupyter, corrigen la indentación.\n"
   ]
  },
  {
   "cell_type": "code",
   "execution_count": null,
   "metadata": {
    "jupyter": {
     "outputs_hidden": false
    }
   },
   "outputs": [],
   "source": [
    "# Error de indentación: ¡Arreglelo!\n",
    "for word in wordlist:\n",
    "    new_word = word.capitalize()\n",
    "   print(new_word + '!') # Bad indent"
   ]
  },
  {
   "cell_type": "code",
   "execution_count": null,
   "metadata": {
    "jupyter": {
     "outputs_hidden": false
    }
   },
   "outputs": [],
   "source": [
    "# Sume los valores de la lista \n",
    "numlist = [1, 4, 77, 3]\n",
    "\n",
    "total = 0\n",
    "for num in numlist:\n",
    "    total = total + num\n",
    "    \n",
    "print(\"Sum is\", total)"
   ]
  },
  {
   "cell_type": "code",
   "execution_count": null,
   "metadata": {
    "jupyter": {
     "outputs_hidden": false
    }
   },
   "outputs": [],
   "source": [
    "# Es usual que necesitemos en la iteración los items e indices \n",
    "print(wordlist)\n",
    "for i, word in enumerate(wordlist):\n",
    "    print(i, word, wordlist[i])"
   ]
  },
  {
   "cell_type": "code",
   "execution_count": null,
   "metadata": {
    "jupyter": {
     "outputs_hidden": false
    }
   },
   "outputs": [],
   "source": [
    "# Los loops while son útiles cuando no sabes cuántos pasos necesitarás\n",
    "# y quieres parar tan pronto una condición se cumpla\n",
    "step = 0\n",
    "prod = 1\n",
    "while prod < 100:\n",
    "    step = step + 1\n",
    "    prod = prod * 2\n",
    "    print(step, prod)\n",
    "    \n",
    "print('Reached a product of', prod, 'at step number', step)"
   ]
  },
  {
   "cell_type": "markdown",
   "metadata": {
    "tags": [
     "Ejercicio"
    ]
   },
   "source": [
    "### EJERCICIO 4 - Varianza\n",
    "\n",
    "Ahora podemos calcular la varianza de las alturas que recolectamos antes.\n",
    "\n",
    "Como recordatorio, **la varianza muestral** es el promedio de las diferencias de cada observación de la media, elevado al cuadrado:\n",
    "\n",
    "### $variance = \\frac{\\Sigma{(x-mean)^2}}{n-1}$\n",
    "\n",
    "donde **mean** es el promedio de nuestras observaciones, **x** es cada observación individual, y **n** es el número de observaciones.\n",
    "\n",
    "Primero, cree una celda code abajo de esta.\n",
    "\n",
    "Segundo, calculemos el promedio:\n",
    "\n",
    "1. Cree una variable `total` para la suma de las alturas.\n",
    "2. Usando un loop `for`, agregue cada altura a `total`.\n",
    "3. Encuentre la media dividiéndola por el número de mediciones y guárdela como `mean`.\n",
    "\n",
    "\n",
    "__Nota__: Para obtener el número de items en una lista, use `len (the_list)`.\n",
    "\n",
    "Ahora usaremos otro loop para calcular la varianza:\n",
    "\n",
    "1. Cree una variable `sum_diffsq` para la suma de las diferencias al cuadrado.\n",
    "2. Haga un segundo bucle `for` sobre` alturas`.\n",
    "  - En cada paso, reste la altura de la media y llámela `diff`.\n",
    "  - Eleve `diff` al cuadrado y llámalo `diffsq`.\n",
    "  - Agregue `diffsq` a` sum_diffsq`.\n",
    "3. Divida `sum_diffsq` por` n-1` para obtener la varianza.\n",
    "4. Mostrar la varianza.\n",
    "\n",
    "__Nota__: Para elevar un número al cuadrado use `**`, eg. `5**2`.\n"
   ]
  },
  {
   "cell_type": "markdown",
   "metadata": {
    "tags": [
     "Tema"
    ],
    "toc-hr-collapsed": true,
    "toc-nb-collapsed": true
   },
   "source": [
    "## 5. CONDICIONAL IF\n",
    "\n",
    "A menudo queremos verificar si una condición es Verdadera y tomar una acción si es así, y otra acción si la condición es falsa. Podemos lograr esto en Python con una declaración if.\n",
    "\n",
    "__TIP:__ Puede usar cualquier expresión que devuelva un valor booleano (verdadero o falso) en una instrucción if.\n",
    "Los operadores booleanos comunes son ==, !=, <, <=, >, >=. También puede usar `is` y` is not` si desea\n",
    "comprobar si dos variables son idénticas en el sentido de que están almacenadas en la misma ubicación en la memoria.\n"
   ]
  },
  {
   "cell_type": "code",
   "execution_count": null,
   "metadata": {
    "jupyter": {
     "outputs_hidden": false
    }
   },
   "outputs": [],
   "source": [
    "# Un ejemplo básico del condicional if \n",
    "x = 3\n",
    "if x > 0:\n",
    "    print('x es positivo')\n",
    "elif x < 0:\n",
    "    print('x es negativo')\n",
    "else:\n",
    "    print('x es cero')"
   ]
  },
  {
   "cell_type": "code",
   "execution_count": null,
   "metadata": {
    "jupyter": {
     "outputs_hidden": false
    }
   },
   "outputs": [],
   "source": [
    "# Se pueden usar variables booleanas en condicionales if \n",
    "x = -1\n",
    "test = (x > 0)\n",
    "print(type(test)); print(test)\n",
    "\n",
    "if test:\n",
    "    print('Test fue verdadero')"
   ]
  },
  {
   "cell_type": "markdown",
   "metadata": {
    "tags": [
     "Tema"
    ],
    "toc-hr-collapsed": true,
    "toc-nb-collapsed": true
   },
   "source": [
    "## 6. FUNCIONES Y MODULOS\n",
    "\n",
    "Una forma de programar es escribir comandos, como los descritos anteriormente, y luego ejecutar ese archivo para generar sus resultados. Esto puede funcionar, pero si son muchas lineas puede ser cognitivamente difícil seguir la lógica de los programas escritos en este estilo. Además, no le permite reutilizar su código fácilmente, por ejemplo, ¿qué pasaría si quisiéramos ejecutar nuestro modelo de crecimiento logístico para varias opciones diferentes de parámetros iniciales?\n",
    "\n",
    "Podemos \"fragmentar\" el código en funciones y luego reunir estas funciones en módulos y eventualmente paquetes. A continuación discutiremos cómo crear funciones y módulos. Un tercer tipo común de \"fragmento\" en Python son las clases, pero no las cubriremos en este taller.\n"
   ]
  },
  {
   "cell_type": "code",
   "execution_count": null,
   "metadata": {
    "jupyter": {
     "outputs_hidden": false
    }
   },
   "outputs": [],
   "source": [
    "# Hemos usado funciones todo el tiempo en este tutorial \n",
    "x = 3.333333\n",
    "print(round(x, 2))\n",
    "print(np.sin(x))"
   ]
  },
  {
   "cell_type": "code",
   "execution_count": null,
   "metadata": {},
   "outputs": [],
   "source": [
    "# Es muy fácil escribir sus propias funciones\n",
    "def multiply(x,y):\n",
    "    '''\n",
    "    Descripcion general, de inputs y outputs\n",
    "    '''\n",
    "    return x*y"
   ]
  },
  {
   "cell_type": "code",
   "execution_count": null,
   "metadata": {
    "jupyter": {
     "outputs_hidden": false
    }
   },
   "outputs": [],
   "source": [
    "# Una vez que corre la función esta queda en memoria y puede usarla como cualquier otra\n",
    "print(type(multiply))\n",
    "print(multiply(4,3))"
   ]
  },
  {
   "cell_type": "code",
   "execution_count": null,
   "metadata": {},
   "outputs": [],
   "source": [
    "# Es útil incluir docstrings para describir qué hace sus función \n",
    "def say_hello(time, people):\n",
    "    '''\n",
    "    La función saluda. Útil para generar goodwill\n",
    "    '''\n",
    "    return 'Good ' + time + ', ' + people"
   ]
  },
  {
   "cell_type": "markdown",
   "metadata": {},
   "source": [
    "**Docstrings**: tipo especial de comentario que le dice qué hace una función. Puede verlos cuando solicita ayuda sobre una función."
   ]
  },
  {
   "cell_type": "code",
   "execution_count": null,
   "metadata": {
    "jupyter": {
     "outputs_hidden": false
    }
   },
   "outputs": [],
   "source": [
    "say_hello('afternoon', 'friends')"
   ]
  },
  {
   "cell_type": "code",
   "execution_count": null,
   "metadata": {
    "jupyter": {
     "outputs_hidden": false
    }
   },
   "outputs": [],
   "source": [
    "# Todos los argumentos deben estar presentes o la función genera un error\n",
    "say_hello('afternoon')"
   ]
  },
  {
   "cell_type": "code",
   "execution_count": null,
   "metadata": {},
   "outputs": [],
   "source": [
    "# Puede poner valores default a los argumentos\n",
    "def say_hello(time, people='friends'):\n",
    "    return 'Good ' + time + ', ' + people"
   ]
  },
  {
   "cell_type": "code",
   "execution_count": null,
   "metadata": {
    "jupyter": {
     "outputs_hidden": false
    }
   },
   "outputs": [],
   "source": [
    "say_hello('afternoon')"
   ]
  },
  {
   "cell_type": "code",
   "execution_count": null,
   "metadata": {
    "jupyter": {
     "outputs_hidden": false
    }
   },
   "outputs": [],
   "source": [
    "say_hello('afternoon', 'students')"
   ]
  },
  {
   "cell_type": "markdown",
   "metadata": {
    "tags": [
     "Ejercicio"
    ]
   },
   "source": [
    "### EJERCICIO 5 - Crear una función de varianza\n",
    "\n",
    "Finalmente, convirtamos nuestro cálculo de varianza en una función que podamos usar una y otra vez.\n",
    "\n",
    "Cree una celda code abajo y copie su código del Ejercicio 4 en el cuadro a continuación y haga lo siguiente:\n",
    "\n",
    "1. Convierta su código en una función llamada `Calculate_variance` que toma una lista de valores y devuelve su varianza.\n",
    "1. Escriba un docstring que describa lo que hace su función.\n",
    "1. En una celda posterior, llame a su función con diferentes conjuntos de números para asegurarse de que funciona.\n",
    "\n",
    "Cree otra celda code y haga lo siguiente\n",
    "1. Reescriba su función sacando la sección que calcula la media y ponga ese cálculo en otra función llamada `Calculate_mean`. Llame esa nueva función dentro de su función `Calculate_variance`.\n",
    "2. Asegúrese de que funcione correctamente con diferentes listas de datos.\n",
    "3. Dar un mensaje de error mejor cuando se pasa una lista vacía. Use la web para descubrir cómo generar excepciones en Python.\n"
   ]
  },
  {
   "cell_type": "code",
   "execution_count": null,
   "metadata": {},
   "outputs": [],
   "source": [
    "def calc_mean:\n",
    "    dksafldsf\n",
    "def calc_var:\n",
    "    aksaklfj\n",
    "    calc_mean()\\\n",
    "calc_var()"
   ]
  },
  {
   "cell_type": "markdown",
   "metadata": {
    "tags": [
     "Ejercicio"
    ]
   },
   "source": [
    "### EJERCICIO 6 - Poner las funciones `Calculate_mean` y` Calculate_variance` en un módulo\n",
    "\n",
    "Podemos poner nuestras funciones en módulos que podamos importar, tal como hemos estado haciendo con `numpy`. Es bastante simple hacer esto.\n",
    "\n",
    "1. Copie sus funciones en un nuevo archivo de texto llamado `stats.py` y guardelo en el mismo directorio de este notebook,.\n",
    "1. En una celda code, escriba `import stats` para importar el módulo. Escriba `stats` y presione tab para ver las  funciones disponibles en el módulo. Intente calcular la varianza de varias muestras de alturas (u otros números aleatorios) utilizando su módulo importado."
   ]
  },
  {
   "cell_type": "markdown",
   "metadata": {
    "tags": [
     "Tema"
    ]
   },
   "source": [
    "## 7. CARGAR, ARREGLAR, USAR, Y GUARDAR BASES DE DATOS \n",
    "\n",
    "El científico de datos obtiene y usa información proveniente de diferentes fuentes. Python puede reconocer diferentes formatos (csv, dta, RData, mat, json, sql, otros), cargar, y guardarlos en una variable. En esta sección usaremos `pandas dataframes` para ilustrar cómo trabajar con algunos de estos formatos. "
   ]
  },
  {
   "cell_type": "markdown",
   "metadata": {},
   "source": [
    "### 7.1 Cargar"
   ]
  },
  {
   "cell_type": "code",
   "execution_count": 3,
   "metadata": {
    "scrolled": true
   },
   "outputs": [],
   "source": [
    "# Para poder cargar algunos formatos, necesitamos algunos paquetes\n",
    "#!conda install pyreadr\n",
    "#!pip install pyreadr\n",
    "import numpy\n",
    "import pyreadr \n",
    "import json\n",
    "import pandas as pd #Ya lo cargamos arriba, no hay que hacerlo de nuevo, pero lo hacemos acá como estrategia pedagógica"
   ]
  },
  {
   "cell_type": "code",
   "execution_count": 21,
   "metadata": {},
   "outputs": [
    {
     "name": "stdout",
     "output_type": "stream",
     "text": [
      "<class 'pandas.core.frame.DataFrame'>\n"
     ]
    },
    {
     "data": {
      "text/html": [
       "<div>\n",
       "<style scoped>\n",
       "    .dataframe tbody tr th:only-of-type {\n",
       "        vertical-align: middle;\n",
       "    }\n",
       "\n",
       "    .dataframe tbody tr th {\n",
       "        vertical-align: top;\n",
       "    }\n",
       "\n",
       "    .dataframe thead th {\n",
       "        text-align: right;\n",
       "    }\n",
       "</style>\n",
       "<table border=\"1\" class=\"dataframe\">\n",
       "  <thead>\n",
       "    <tr style=\"text-align: right;\">\n",
       "      <th></th>\n",
       "      <th>Sex</th>\n",
       "      <th>GHE code</th>\n",
       "      <th>temp1</th>\n",
       "      <th>GHE cause</th>\n",
       "      <th>temp2</th>\n",
       "      <th>temp3</th>\n",
       "      <th>temp4</th>\n",
       "      <th>AFG</th>\n",
       "      <th>ALB</th>\n",
       "      <th>DZA</th>\n",
       "      <th>...</th>\n",
       "      <th>USA</th>\n",
       "      <th>URY</th>\n",
       "      <th>UZB</th>\n",
       "      <th>VUT</th>\n",
       "      <th>VEN</th>\n",
       "      <th>VNM</th>\n",
       "      <th>YEM</th>\n",
       "      <th>ZMB</th>\n",
       "      <th>ZWE</th>\n",
       "      <th>Unnamed: 190</th>\n",
       "    </tr>\n",
       "  </thead>\n",
       "  <tbody>\n",
       "    <tr>\n",
       "      <th>0</th>\n",
       "      <td>Persons</td>\n",
       "      <td>NaN</td>\n",
       "      <td>NaN</td>\n",
       "      <td>Population ('000) (2)</td>\n",
       "      <td>NaN</td>\n",
       "      <td>NaN</td>\n",
       "      <td>NaN</td>\n",
       "      <td>34,656</td>\n",
       "      <td>2,926</td>\n",
       "      <td>40,606</td>\n",
       "      <td>...</td>\n",
       "      <td>322,180</td>\n",
       "      <td>3,444</td>\n",
       "      <td>31,447</td>\n",
       "      <td>270</td>\n",
       "      <td>31,568</td>\n",
       "      <td>94,569</td>\n",
       "      <td>27,584</td>\n",
       "      <td>16,591</td>\n",
       "      <td>16,150</td>\n",
       "      <td>NaN</td>\n",
       "    </tr>\n",
       "    <tr>\n",
       "      <th>1</th>\n",
       "      <td>Persons</td>\n",
       "      <td>0.0</td>\n",
       "      <td>NaN</td>\n",
       "      <td>All Causes</td>\n",
       "      <td>NaN</td>\n",
       "      <td>NaN</td>\n",
       "      <td>NaN</td>\n",
       "      <td>248.2</td>\n",
       "      <td>26.1</td>\n",
       "      <td>190.3</td>\n",
       "      <td>...</td>\n",
       "      <td>2802.2</td>\n",
       "      <td>32.7</td>\n",
       "      <td>171.4</td>\n",
       "      <td>1.3</td>\n",
       "      <td>181.0</td>\n",
       "      <td>548.8</td>\n",
       "      <td>174.1</td>\n",
       "      <td>124.8</td>\n",
       "      <td>129.7</td>\n",
       "      <td>NaN</td>\n",
       "    </tr>\n",
       "    <tr>\n",
       "      <th>2</th>\n",
       "      <td>Persons</td>\n",
       "      <td>10.0</td>\n",
       "      <td>I.</td>\n",
       "      <td>Communicable, maternal, perinatal and nutritio...</td>\n",
       "      <td>NaN</td>\n",
       "      <td>NaN</td>\n",
       "      <td>NaN</td>\n",
       "      <td>90.3</td>\n",
       "      <td>0.8</td>\n",
       "      <td>28.2</td>\n",
       "      <td>...</td>\n",
       "      <td>144.6</td>\n",
       "      <td>2.5</td>\n",
       "      <td>17.7</td>\n",
       "      <td>0.2</td>\n",
       "      <td>20.4</td>\n",
       "      <td>62.8</td>\n",
       "      <td>50.0</td>\n",
       "      <td>75.6</td>\n",
       "      <td>70.9</td>\n",
       "      <td>NaN</td>\n",
       "    </tr>\n",
       "    <tr>\n",
       "      <th>3</th>\n",
       "      <td>Persons</td>\n",
       "      <td>20.0</td>\n",
       "      <td>NaN</td>\n",
       "      <td>A.</td>\n",
       "      <td>Infectious and parasitic diseases</td>\n",
       "      <td>NaN</td>\n",
       "      <td>NaN</td>\n",
       "      <td>29.7</td>\n",
       "      <td>0.1</td>\n",
       "      <td>6.6</td>\n",
       "      <td>...</td>\n",
       "      <td>56.3</td>\n",
       "      <td>0.8</td>\n",
       "      <td>5.1</td>\n",
       "      <td>0.1</td>\n",
       "      <td>7.6</td>\n",
       "      <td>32.0</td>\n",
       "      <td>14.6</td>\n",
       "      <td>46.4</td>\n",
       "      <td>41.7</td>\n",
       "      <td>NaN</td>\n",
       "    </tr>\n",
       "    <tr>\n",
       "      <th>4</th>\n",
       "      <td>Persons</td>\n",
       "      <td>30.0</td>\n",
       "      <td>NaN</td>\n",
       "      <td>NaN</td>\n",
       "      <td>1</td>\n",
       "      <td>Tuberculosis</td>\n",
       "      <td>NaN</td>\n",
       "      <td>11.6</td>\n",
       "      <td>0.0</td>\n",
       "      <td>3.1</td>\n",
       "      <td>...</td>\n",
       "      <td>0.6</td>\n",
       "      <td>0.1</td>\n",
       "      <td>1.9</td>\n",
       "      <td>0.0</td>\n",
       "      <td>0.8</td>\n",
       "      <td>12.7</td>\n",
       "      <td>1.9</td>\n",
       "      <td>4.8</td>\n",
       "      <td>1.2</td>\n",
       "      <td>NaN</td>\n",
       "    </tr>\n",
       "  </tbody>\n",
       "</table>\n",
       "<p>5 rows × 191 columns</p>\n",
       "</div>"
      ],
      "text/plain": [
       "       Sex  GHE code temp1                                          GHE cause  \\\n",
       "0  Persons       NaN   NaN                            Population ('000) (2)     \n",
       "1  Persons       0.0   NaN                                         All Causes   \n",
       "2  Persons      10.0    I.  Communicable, maternal, perinatal and nutritio...   \n",
       "3  Persons      20.0   NaN                                                 A.   \n",
       "4  Persons      30.0   NaN                                                NaN   \n",
       "\n",
       "                               temp2         temp3 temp4       AFG      ALB  \\\n",
       "0                                NaN           NaN   NaN   34,656    2,926    \n",
       "1                                NaN           NaN   NaN     248.2     26.1   \n",
       "2                                NaN           NaN   NaN      90.3      0.8   \n",
       "3  Infectious and parasitic diseases           NaN   NaN      29.7      0.1   \n",
       "4                                  1  Tuberculosis   NaN      11.6      0.0   \n",
       "\n",
       "        DZA  ...        USA      URY       UZB    VUT       VEN       VNM  \\\n",
       "0   40,606   ...   322,180    3,444    31,447    270    31,568    94,569    \n",
       "1     190.3  ...     2802.2     32.7     171.4    1.3     181.0     548.8   \n",
       "2      28.2  ...      144.6      2.5      17.7    0.2      20.4      62.8   \n",
       "3       6.6  ...       56.3      0.8       5.1    0.1       7.6      32.0   \n",
       "4       3.1  ...        0.6      0.1       1.9    0.0       0.8      12.7   \n",
       "\n",
       "        YEM       ZMB       ZWE Unnamed: 190  \n",
       "0   27,584    16,591    16,150           NaN  \n",
       "1     174.1     124.8     129.7          NaN  \n",
       "2      50.0      75.6      70.9          NaN  \n",
       "3      14.6      46.4      41.7          NaN  \n",
       "4       1.9       4.8       1.2          NaN  \n",
       "\n",
       "[5 rows x 191 columns]"
      ]
     },
     "execution_count": 21,
     "metadata": {},
     "output_type": "execute_result"
    }
   ],
   "source": [
    "# Para cargar bases de datos .csv\n",
    "data_csv = pd.read_csv('GHE2016_AllAges.csv') #Tasa de muerte en diferentes países por tipo de enfermedad\n",
    "print(type(data_csv))\n",
    "data_csv.head() #Es un desorden, luego veremos como arreglarla"
   ]
  },
  {
   "cell_type": "code",
   "execution_count": 4,
   "metadata": {},
   "outputs": [
    {
     "name": "stdout",
     "output_type": "stream",
     "text": [
      "odict_keys(['babynames'])\n",
      "\n",
      "\n",
      "year    float64\n",
      "sex      object\n",
      "name     object\n",
      "n         int32\n",
      "prop    float64\n",
      "dtype: object\n"
     ]
    },
    {
     "data": {
      "text/html": [
       "<div>\n",
       "<style scoped>\n",
       "    .dataframe tbody tr th:only-of-type {\n",
       "        vertical-align: middle;\n",
       "    }\n",
       "\n",
       "    .dataframe tbody tr th {\n",
       "        vertical-align: top;\n",
       "    }\n",
       "\n",
       "    .dataframe thead th {\n",
       "        text-align: right;\n",
       "    }\n",
       "</style>\n",
       "<table border=\"1\" class=\"dataframe\">\n",
       "  <thead>\n",
       "    <tr style=\"text-align: right;\">\n",
       "      <th></th>\n",
       "      <th>year</th>\n",
       "      <th>sex</th>\n",
       "      <th>name</th>\n",
       "      <th>n</th>\n",
       "      <th>prop</th>\n",
       "    </tr>\n",
       "  </thead>\n",
       "  <tbody>\n",
       "    <tr>\n",
       "      <th>0</th>\n",
       "      <td>1880.0</td>\n",
       "      <td>F</td>\n",
       "      <td>Mary</td>\n",
       "      <td>7065</td>\n",
       "      <td>0.072384</td>\n",
       "    </tr>\n",
       "    <tr>\n",
       "      <th>1</th>\n",
       "      <td>1880.0</td>\n",
       "      <td>F</td>\n",
       "      <td>Anna</td>\n",
       "      <td>2604</td>\n",
       "      <td>0.026679</td>\n",
       "    </tr>\n",
       "    <tr>\n",
       "      <th>2</th>\n",
       "      <td>1880.0</td>\n",
       "      <td>F</td>\n",
       "      <td>Emma</td>\n",
       "      <td>2003</td>\n",
       "      <td>0.020521</td>\n",
       "    </tr>\n",
       "    <tr>\n",
       "      <th>3</th>\n",
       "      <td>1880.0</td>\n",
       "      <td>F</td>\n",
       "      <td>Elizabeth</td>\n",
       "      <td>1939</td>\n",
       "      <td>0.019866</td>\n",
       "    </tr>\n",
       "    <tr>\n",
       "      <th>4</th>\n",
       "      <td>1880.0</td>\n",
       "      <td>F</td>\n",
       "      <td>Minnie</td>\n",
       "      <td>1746</td>\n",
       "      <td>0.017888</td>\n",
       "    </tr>\n",
       "    <tr>\n",
       "      <th>...</th>\n",
       "      <td>...</td>\n",
       "      <td>...</td>\n",
       "      <td>...</td>\n",
       "      <td>...</td>\n",
       "      <td>...</td>\n",
       "    </tr>\n",
       "    <tr>\n",
       "      <th>1924660</th>\n",
       "      <td>2017.0</td>\n",
       "      <td>M</td>\n",
       "      <td>Zykai</td>\n",
       "      <td>5</td>\n",
       "      <td>0.000003</td>\n",
       "    </tr>\n",
       "    <tr>\n",
       "      <th>1924661</th>\n",
       "      <td>2017.0</td>\n",
       "      <td>M</td>\n",
       "      <td>Zykeem</td>\n",
       "      <td>5</td>\n",
       "      <td>0.000003</td>\n",
       "    </tr>\n",
       "    <tr>\n",
       "      <th>1924662</th>\n",
       "      <td>2017.0</td>\n",
       "      <td>M</td>\n",
       "      <td>Zylin</td>\n",
       "      <td>5</td>\n",
       "      <td>0.000003</td>\n",
       "    </tr>\n",
       "    <tr>\n",
       "      <th>1924663</th>\n",
       "      <td>2017.0</td>\n",
       "      <td>M</td>\n",
       "      <td>Zylis</td>\n",
       "      <td>5</td>\n",
       "      <td>0.000003</td>\n",
       "    </tr>\n",
       "    <tr>\n",
       "      <th>1924664</th>\n",
       "      <td>2017.0</td>\n",
       "      <td>M</td>\n",
       "      <td>Zyrie</td>\n",
       "      <td>5</td>\n",
       "      <td>0.000003</td>\n",
       "    </tr>\n",
       "  </tbody>\n",
       "</table>\n",
       "<p>1924665 rows × 5 columns</p>\n",
       "</div>"
      ],
      "text/plain": [
       "           year sex       name     n      prop\n",
       "0        1880.0   F       Mary  7065  0.072384\n",
       "1        1880.0   F       Anna  2604  0.026679\n",
       "2        1880.0   F       Emma  2003  0.020521\n",
       "3        1880.0   F  Elizabeth  1939  0.019866\n",
       "4        1880.0   F     Minnie  1746  0.017888\n",
       "...         ...  ..        ...   ...       ...\n",
       "1924660  2017.0   M      Zykai     5  0.000003\n",
       "1924661  2017.0   M     Zykeem     5  0.000003\n",
       "1924662  2017.0   M      Zylin     5  0.000003\n",
       "1924663  2017.0   M      Zylis     5  0.000003\n",
       "1924664  2017.0   M      Zyrie     5  0.000003\n",
       "\n",
       "[1924665 rows x 5 columns]"
      ]
     },
     "execution_count": 4,
     "metadata": {},
     "output_type": "execute_result"
    }
   ],
   "source": [
    "# Para cargar bases de datos .RData\n",
    "result = pyreadr.read_r('babynames.RData') #diccionario\n",
    "print(result.keys()) # objetos en .RData (puede ser un workspace entero, con funciones y variables)\n",
    "data_R = result[\"babynames\"] #.RData tenía un dataframe llamado babynames\n",
    "print('\\n') #indica salto de linea; es como poner \"enter\" en el teclado\n",
    "print(data_R.dtypes) # nombre y tipo de datos de las columnas (i.e. variables)\n",
    "data_R"
   ]
  },
  {
   "cell_type": "code",
   "execution_count": null,
   "metadata": {},
   "outputs": [],
   "source": [
    "# Para cargar bases de datos de stata .dat\n",
    "data_stata = pd.read_stata('heus_mepssample.dta')\n",
    "itr = pd.read_stata('heus_mepssample.dta', iterator=True) #tiene, entre otras cosas, la descripción de las variables\n",
    "print(data_stata.dtypes) \n",
    "print('\\n')\n",
    "print(\"La variable ed_hs es: \" + itr.variable_labels()['ed_hs'])"
   ]
  },
  {
   "cell_type": "code",
   "execution_count": null,
   "metadata": {},
   "outputs": [],
   "source": [
    "# Para cargar bases de datos .json\n",
    "with open('black_mirror.json') as f: #Esto carga el archivo json como texto\n",
    "  data = json.load(f) #esto interpreta el texto en f (parse) y lo pone en un diccionario\n",
    "print(data.keys()) #Items del diccionario. Nota: Jupyterlab tiene un viewer para archivos json\n",
    "data_json = pd.DataFrame(data['_embedded']['episodes']) #episodios de black mirror en un dataframe\n",
    "print(data_json.dtypes) #columnas y tipos de datos. Cada fila es un episodio\n",
    "print('\\n')\n",
    "episode = 6\n",
    "print(data_json.loc[episode,'name']) \n",
    "print(data_json.loc[episode,'season']) \n",
    "print(data_json.loc[episode,'summary'])\n",
    "\n"
   ]
  },
  {
   "cell_type": "markdown",
   "metadata": {},
   "source": [
    "### 7.2 Arreglar\n",
    "\n",
    "Inspirado en el tutorial premiers de rstudio cloud"
   ]
  },
  {
   "cell_type": "code",
   "execution_count": 7,
   "metadata": {},
   "outputs": [],
   "source": [
    "# Mismos datos diferente organización\n",
    "tabla1 = pd.read_csv('For_Reshape_Tutorial.csv')\n",
    "tabla2 = pd.read_csv('For_Reshape_Tutorial_2.csv')\n",
    "tabla3 = pd.read_csv('For_Reshape_Tutorial_3.csv')\n",
    "tabla4a = pd.read_csv('For_Reshape_Tutorial_4a.csv') #casos\n",
    "tabla4b = pd.read_csv('For_Reshape_Tutorial_4b.csv') #población\n",
    "tabla5 = pd.read_csv('For_Reshape_Tutorial_5.csv')\n"
   ]
  },
  {
   "cell_type": "code",
   "execution_count": 8,
   "metadata": {},
   "outputs": [
    {
     "name": "stdout",
     "output_type": "stream",
     "text": [
      "country       object\n",
      "year           int64\n",
      "cases          int64\n",
      "population     int64\n",
      "dtype: object\n",
      "(filas, columnas): (6, 4)\n",
      "\n",
      "\n",
      "       country  year   cases  population\n",
      "0  Afghanistan  1999     745    19987071\n",
      "1  Afghanistan  2000    2666    20595360\n",
      "2       Brazil  1999   37737   172006362\n",
      "3       Brazil  2000   80488   174504898\n",
      "4        China  1999  212258  1272915272\n",
      "5        China  2000  213766  1280428583\n"
     ]
    }
   ],
   "source": [
    "# Veamos primero la tabla 1\n",
    "print(tabla1.dtypes)\n",
    "print(\"(filas, columnas): \" + str(tabla1.shape))\n",
    "print('\\n')\n",
    "print(tabla1) "
   ]
  },
  {
   "cell_type": "markdown",
   "metadata": {},
   "source": [
    "Algunas definiciones:\n",
    "* **Variable:** cantidad, calidad o propiedad que se puede medir.\n",
    "\n",
    "* **Valor**: valor de una variable. Puede cambiar de una medición a otra.\n",
    "\n",
    "* **Observación**: conjunto de mediciones que se realizan en condiciones similares (por lo general, se realizan todas las mediciones en una observación al mismo tiempo y en el mismo objeto). Una observación contendrá varios valores, cada uno asociado con una variable diferente. Una observación es un caso o punto de datos e.g. todas las medidas que un médico hace de un paciente en un momento determinado.\n"
   ]
  },
  {
   "cell_type": "markdown",
   "metadata": {
    "tags": [
     "Ejercicio"
    ]
   },
   "source": [
    "### EJERCICIO 7 - Identificar variables, valores, y observaciones\n",
    "\n",
    "En la tabla 1:\n",
    "- ¿qué son variables?\n",
    "- ¿qué son valores?\n",
    "- ¿qué son observaciones?"
   ]
  },
  {
   "cell_type": "code",
   "execution_count": 9,
   "metadata": {},
   "outputs": [
    {
     "data": {
      "text/html": [
       "<div>\n",
       "<style scoped>\n",
       "    .dataframe tbody tr th:only-of-type {\n",
       "        vertical-align: middle;\n",
       "    }\n",
       "\n",
       "    .dataframe tbody tr th {\n",
       "        vertical-align: top;\n",
       "    }\n",
       "\n",
       "    .dataframe thead th {\n",
       "        text-align: right;\n",
       "    }\n",
       "</style>\n",
       "<table border=\"1\" class=\"dataframe\">\n",
       "  <thead>\n",
       "    <tr style=\"text-align: right;\">\n",
       "      <th></th>\n",
       "      <th>country</th>\n",
       "      <th>year</th>\n",
       "      <th>type</th>\n",
       "      <th>count</th>\n",
       "    </tr>\n",
       "  </thead>\n",
       "  <tbody>\n",
       "    <tr>\n",
       "      <th>0</th>\n",
       "      <td>Afghanistan</td>\n",
       "      <td>1999</td>\n",
       "      <td>cases</td>\n",
       "      <td>745</td>\n",
       "    </tr>\n",
       "    <tr>\n",
       "      <th>1</th>\n",
       "      <td>Afghanistan</td>\n",
       "      <td>1999</td>\n",
       "      <td>population</td>\n",
       "      <td>19987071</td>\n",
       "    </tr>\n",
       "    <tr>\n",
       "      <th>2</th>\n",
       "      <td>Afghanistan</td>\n",
       "      <td>2000</td>\n",
       "      <td>cases</td>\n",
       "      <td>2666</td>\n",
       "    </tr>\n",
       "    <tr>\n",
       "      <th>3</th>\n",
       "      <td>Afghanistan</td>\n",
       "      <td>2000</td>\n",
       "      <td>population</td>\n",
       "      <td>20595360</td>\n",
       "    </tr>\n",
       "    <tr>\n",
       "      <th>4</th>\n",
       "      <td>Brazil</td>\n",
       "      <td>1999</td>\n",
       "      <td>cases</td>\n",
       "      <td>37737</td>\n",
       "    </tr>\n",
       "    <tr>\n",
       "      <th>5</th>\n",
       "      <td>Brazil</td>\n",
       "      <td>1999</td>\n",
       "      <td>population</td>\n",
       "      <td>172006362</td>\n",
       "    </tr>\n",
       "    <tr>\n",
       "      <th>6</th>\n",
       "      <td>Brazil</td>\n",
       "      <td>2000</td>\n",
       "      <td>cases</td>\n",
       "      <td>80488</td>\n",
       "    </tr>\n",
       "    <tr>\n",
       "      <th>7</th>\n",
       "      <td>Brazil</td>\n",
       "      <td>2000</td>\n",
       "      <td>population</td>\n",
       "      <td>174504898</td>\n",
       "    </tr>\n",
       "    <tr>\n",
       "      <th>8</th>\n",
       "      <td>China</td>\n",
       "      <td>1999</td>\n",
       "      <td>cases</td>\n",
       "      <td>212258</td>\n",
       "    </tr>\n",
       "    <tr>\n",
       "      <th>9</th>\n",
       "      <td>China</td>\n",
       "      <td>1999</td>\n",
       "      <td>population</td>\n",
       "      <td>1272915272</td>\n",
       "    </tr>\n",
       "    <tr>\n",
       "      <th>10</th>\n",
       "      <td>China</td>\n",
       "      <td>2000</td>\n",
       "      <td>cases</td>\n",
       "      <td>213766</td>\n",
       "    </tr>\n",
       "    <tr>\n",
       "      <th>11</th>\n",
       "      <td>China</td>\n",
       "      <td>2000</td>\n",
       "      <td>population</td>\n",
       "      <td>1280428583</td>\n",
       "    </tr>\n",
       "  </tbody>\n",
       "</table>\n",
       "</div>"
      ],
      "text/plain": [
       "        country  year        type       count\n",
       "0   Afghanistan  1999       cases         745\n",
       "1   Afghanistan  1999  population    19987071\n",
       "2   Afghanistan  2000       cases        2666\n",
       "3   Afghanistan  2000  population    20595360\n",
       "4        Brazil  1999       cases       37737\n",
       "5        Brazil  1999  population   172006362\n",
       "6        Brazil  2000       cases       80488\n",
       "7        Brazil  2000  population   174504898\n",
       "8         China  1999       cases      212258\n",
       "9         China  1999  population  1272915272\n",
       "10        China  2000       cases      213766\n",
       "11        China  2000  population  1280428583"
      ]
     },
     "execution_count": 9,
     "metadata": {},
     "output_type": "execute_result"
    }
   ],
   "source": [
    "# Veamos las otras tablas\n",
    "tabla2"
   ]
  },
  {
   "cell_type": "code",
   "execution_count": 14,
   "metadata": {},
   "outputs": [
    {
     "data": {
      "text/html": [
       "<div>\n",
       "<style scoped>\n",
       "    .dataframe tbody tr th:only-of-type {\n",
       "        vertical-align: middle;\n",
       "    }\n",
       "\n",
       "    .dataframe tbody tr th {\n",
       "        vertical-align: top;\n",
       "    }\n",
       "\n",
       "    .dataframe thead th {\n",
       "        text-align: right;\n",
       "    }\n",
       "</style>\n",
       "<table border=\"1\" class=\"dataframe\">\n",
       "  <thead>\n",
       "    <tr style=\"text-align: right;\">\n",
       "      <th></th>\n",
       "      <th>country</th>\n",
       "      <th>year</th>\n",
       "      <th>rate</th>\n",
       "    </tr>\n",
       "  </thead>\n",
       "  <tbody>\n",
       "    <tr>\n",
       "      <th>0</th>\n",
       "      <td>Afghanistan</td>\n",
       "      <td>1999</td>\n",
       "      <td>745/19987071</td>\n",
       "    </tr>\n",
       "    <tr>\n",
       "      <th>1</th>\n",
       "      <td>Afghanistan</td>\n",
       "      <td>2000</td>\n",
       "      <td>2666/20595360</td>\n",
       "    </tr>\n",
       "    <tr>\n",
       "      <th>2</th>\n",
       "      <td>Brazil</td>\n",
       "      <td>1999</td>\n",
       "      <td>37737/172006362</td>\n",
       "    </tr>\n",
       "    <tr>\n",
       "      <th>3</th>\n",
       "      <td>Brazil</td>\n",
       "      <td>2000</td>\n",
       "      <td>80488/174504898</td>\n",
       "    </tr>\n",
       "    <tr>\n",
       "      <th>4</th>\n",
       "      <td>China</td>\n",
       "      <td>1999</td>\n",
       "      <td>212258/1272915272</td>\n",
       "    </tr>\n",
       "    <tr>\n",
       "      <th>5</th>\n",
       "      <td>China</td>\n",
       "      <td>2000</td>\n",
       "      <td>213766/1280428583</td>\n",
       "    </tr>\n",
       "  </tbody>\n",
       "</table>\n",
       "</div>"
      ],
      "text/plain": [
       "       country  year               rate\n",
       "0  Afghanistan  1999       745/19987071\n",
       "1  Afghanistan  2000      2666/20595360\n",
       "2       Brazil  1999    37737/172006362\n",
       "3       Brazil  2000    80488/174504898\n",
       "4        China  1999  212258/1272915272\n",
       "5        China  2000  213766/1280428583"
      ]
     },
     "execution_count": 14,
     "metadata": {},
     "output_type": "execute_result"
    }
   ],
   "source": [
    "tabla3"
   ]
  },
  {
   "cell_type": "code",
   "execution_count": 15,
   "metadata": {},
   "outputs": [
    {
     "data": {
      "text/html": [
       "<div>\n",
       "<style scoped>\n",
       "    .dataframe tbody tr th:only-of-type {\n",
       "        vertical-align: middle;\n",
       "    }\n",
       "\n",
       "    .dataframe tbody tr th {\n",
       "        vertical-align: top;\n",
       "    }\n",
       "\n",
       "    .dataframe thead th {\n",
       "        text-align: right;\n",
       "    }\n",
       "</style>\n",
       "<table border=\"1\" class=\"dataframe\">\n",
       "  <thead>\n",
       "    <tr style=\"text-align: right;\">\n",
       "      <th></th>\n",
       "      <th>country</th>\n",
       "      <th>1999</th>\n",
       "      <th>2000</th>\n",
       "    </tr>\n",
       "  </thead>\n",
       "  <tbody>\n",
       "    <tr>\n",
       "      <th>0</th>\n",
       "      <td>Afghanistan</td>\n",
       "      <td>745</td>\n",
       "      <td>2666</td>\n",
       "    </tr>\n",
       "    <tr>\n",
       "      <th>1</th>\n",
       "      <td>Brazil</td>\n",
       "      <td>37737</td>\n",
       "      <td>80488</td>\n",
       "    </tr>\n",
       "    <tr>\n",
       "      <th>2</th>\n",
       "      <td>China</td>\n",
       "      <td>212258</td>\n",
       "      <td>213766</td>\n",
       "    </tr>\n",
       "  </tbody>\n",
       "</table>\n",
       "</div>"
      ],
      "text/plain": [
       "       country    1999    2000\n",
       "0  Afghanistan     745    2666\n",
       "1       Brazil   37737   80488\n",
       "2        China  212258  213766"
      ]
     },
     "execution_count": 15,
     "metadata": {},
     "output_type": "execute_result"
    }
   ],
   "source": [
    "tabla4a"
   ]
  },
  {
   "cell_type": "code",
   "execution_count": 16,
   "metadata": {},
   "outputs": [
    {
     "data": {
      "text/html": [
       "<div>\n",
       "<style scoped>\n",
       "    .dataframe tbody tr th:only-of-type {\n",
       "        vertical-align: middle;\n",
       "    }\n",
       "\n",
       "    .dataframe tbody tr th {\n",
       "        vertical-align: top;\n",
       "    }\n",
       "\n",
       "    .dataframe thead th {\n",
       "        text-align: right;\n",
       "    }\n",
       "</style>\n",
       "<table border=\"1\" class=\"dataframe\">\n",
       "  <thead>\n",
       "    <tr style=\"text-align: right;\">\n",
       "      <th></th>\n",
       "      <th>country</th>\n",
       "      <th>1999</th>\n",
       "      <th>2000</th>\n",
       "    </tr>\n",
       "  </thead>\n",
       "  <tbody>\n",
       "    <tr>\n",
       "      <th>0</th>\n",
       "      <td>Afghanistan</td>\n",
       "      <td>19987071</td>\n",
       "      <td>20595360</td>\n",
       "    </tr>\n",
       "    <tr>\n",
       "      <th>1</th>\n",
       "      <td>Brazil</td>\n",
       "      <td>172006362</td>\n",
       "      <td>174504898</td>\n",
       "    </tr>\n",
       "    <tr>\n",
       "      <th>2</th>\n",
       "      <td>China</td>\n",
       "      <td>1272915272</td>\n",
       "      <td>1280428583</td>\n",
       "    </tr>\n",
       "  </tbody>\n",
       "</table>\n",
       "</div>"
      ],
      "text/plain": [
       "       country        1999        2000\n",
       "0  Afghanistan    19987071    20595360\n",
       "1       Brazil   172006362   174504898\n",
       "2        China  1272915272  1280428583"
      ]
     },
     "execution_count": 16,
     "metadata": {},
     "output_type": "execute_result"
    }
   ],
   "source": [
    "tabla4b"
   ]
  },
  {
   "cell_type": "code",
   "execution_count": 17,
   "metadata": {},
   "outputs": [
    {
     "data": {
      "text/html": [
       "<div>\n",
       "<style scoped>\n",
       "    .dataframe tbody tr th:only-of-type {\n",
       "        vertical-align: middle;\n",
       "    }\n",
       "\n",
       "    .dataframe tbody tr th {\n",
       "        vertical-align: top;\n",
       "    }\n",
       "\n",
       "    .dataframe thead th {\n",
       "        text-align: right;\n",
       "    }\n",
       "</style>\n",
       "<table border=\"1\" class=\"dataframe\">\n",
       "  <thead>\n",
       "    <tr style=\"text-align: right;\">\n",
       "      <th></th>\n",
       "      <th>country</th>\n",
       "      <th>century</th>\n",
       "      <th>year</th>\n",
       "      <th>rate</th>\n",
       "    </tr>\n",
       "  </thead>\n",
       "  <tbody>\n",
       "    <tr>\n",
       "      <th>0</th>\n",
       "      <td>Afghanistan</td>\n",
       "      <td>19</td>\n",
       "      <td>99</td>\n",
       "      <td>745/19987071</td>\n",
       "    </tr>\n",
       "    <tr>\n",
       "      <th>1</th>\n",
       "      <td>Afghanistan</td>\n",
       "      <td>20</td>\n",
       "      <td>0</td>\n",
       "      <td>2666/20595360</td>\n",
       "    </tr>\n",
       "    <tr>\n",
       "      <th>2</th>\n",
       "      <td>Brazil</td>\n",
       "      <td>19</td>\n",
       "      <td>99</td>\n",
       "      <td>37737/172006362</td>\n",
       "    </tr>\n",
       "    <tr>\n",
       "      <th>3</th>\n",
       "      <td>Brazil</td>\n",
       "      <td>20</td>\n",
       "      <td>0</td>\n",
       "      <td>80488/174504898</td>\n",
       "    </tr>\n",
       "    <tr>\n",
       "      <th>4</th>\n",
       "      <td>China</td>\n",
       "      <td>19</td>\n",
       "      <td>99</td>\n",
       "      <td>212258/1272915272</td>\n",
       "    </tr>\n",
       "    <tr>\n",
       "      <th>5</th>\n",
       "      <td>China</td>\n",
       "      <td>20</td>\n",
       "      <td>0</td>\n",
       "      <td>213766/128042858</td>\n",
       "    </tr>\n",
       "  </tbody>\n",
       "</table>\n",
       "</div>"
      ],
      "text/plain": [
       "       country  century  year               rate\n",
       "0  Afghanistan       19    99       745/19987071\n",
       "1  Afghanistan       20     0      2666/20595360\n",
       "2       Brazil       19    99    37737/172006362\n",
       "3       Brazil       20     0    80488/174504898\n",
       "4        China       19    99  212258/1272915272\n",
       "5        China       20     0   213766/128042858"
      ]
     },
     "execution_count": 17,
     "metadata": {},
     "output_type": "execute_result"
    }
   ],
   "source": [
    "tabla5"
   ]
  },
  {
   "cell_type": "markdown",
   "metadata": {},
   "source": [
    "Todas las tablas tienen la misma información, sin embargo algunas veces preferimos una organización sobre otra. Imaginemos que nos dieron la tabla 2 pero nos interesa el formato de la tabla 1. ¿Cómo la transformamos?"
   ]
  },
  {
   "cell_type": "code",
   "execution_count": 18,
   "metadata": {},
   "outputs": [
    {
     "data": {
      "text/html": [
       "<div>\n",
       "<style scoped>\n",
       "    .dataframe tbody tr th:only-of-type {\n",
       "        vertical-align: middle;\n",
       "    }\n",
       "\n",
       "    .dataframe tbody tr th {\n",
       "        vertical-align: top;\n",
       "    }\n",
       "\n",
       "    .dataframe thead th {\n",
       "        text-align: right;\n",
       "    }\n",
       "</style>\n",
       "<table border=\"1\" class=\"dataframe\">\n",
       "  <thead>\n",
       "    <tr style=\"text-align: right;\">\n",
       "      <th></th>\n",
       "      <th>country</th>\n",
       "      <th>year</th>\n",
       "      <th>cases</th>\n",
       "      <th>population</th>\n",
       "    </tr>\n",
       "  </thead>\n",
       "  <tbody>\n",
       "    <tr>\n",
       "      <th>0</th>\n",
       "      <td>Afghanistan</td>\n",
       "      <td>1999</td>\n",
       "      <td>745</td>\n",
       "      <td>19987071</td>\n",
       "    </tr>\n",
       "    <tr>\n",
       "      <th>1</th>\n",
       "      <td>Afghanistan</td>\n",
       "      <td>2000</td>\n",
       "      <td>2666</td>\n",
       "      <td>20595360</td>\n",
       "    </tr>\n",
       "    <tr>\n",
       "      <th>2</th>\n",
       "      <td>Brazil</td>\n",
       "      <td>1999</td>\n",
       "      <td>37737</td>\n",
       "      <td>172006362</td>\n",
       "    </tr>\n",
       "    <tr>\n",
       "      <th>3</th>\n",
       "      <td>Brazil</td>\n",
       "      <td>2000</td>\n",
       "      <td>80488</td>\n",
       "      <td>174504898</td>\n",
       "    </tr>\n",
       "    <tr>\n",
       "      <th>4</th>\n",
       "      <td>China</td>\n",
       "      <td>1999</td>\n",
       "      <td>212258</td>\n",
       "      <td>1272915272</td>\n",
       "    </tr>\n",
       "    <tr>\n",
       "      <th>5</th>\n",
       "      <td>China</td>\n",
       "      <td>2000</td>\n",
       "      <td>213766</td>\n",
       "      <td>1280428583</td>\n",
       "    </tr>\n",
       "  </tbody>\n",
       "</table>\n",
       "</div>"
      ],
      "text/plain": [
       "       country  year   cases  population\n",
       "0  Afghanistan  1999     745    19987071\n",
       "1  Afghanistan  2000    2666    20595360\n",
       "2       Brazil  1999   37737   172006362\n",
       "3       Brazil  2000   80488   174504898\n",
       "4        China  1999  212258  1272915272\n",
       "5        China  2000  213766  1280428583"
      ]
     },
     "execution_count": 18,
     "metadata": {},
     "output_type": "execute_result"
    }
   ],
   "source": [
    "# Queremos que la tabla 2 se vea como la tabla 1\n",
    "# Problema: en la tabla 2, cases y population están en la columna type\n",
    "# Objetivo: ir de formato largo a ancho: extender la columna type en dos nuevas columnas cases y population\n",
    "# Solución: pd.pivot_table()\n",
    "\n",
    "tabla2_wide = pd.pivot_table(tabla2, index = ['country', 'year'], columns = ['type'], values = ['count']).reset_index()\n",
    "tabla2_wide.columns = ['country','year', 'cases','population']\n",
    "tabla2_wide #en formato wide (ancho)"
   ]
  },
  {
   "cell_type": "code",
   "execution_count": 20,
   "metadata": {},
   "outputs": [
    {
     "data": {
      "text/html": [
       "<div>\n",
       "<style scoped>\n",
       "    .dataframe tbody tr th:only-of-type {\n",
       "        vertical-align: middle;\n",
       "    }\n",
       "\n",
       "    .dataframe tbody tr th {\n",
       "        vertical-align: top;\n",
       "    }\n",
       "\n",
       "    .dataframe thead th {\n",
       "        text-align: right;\n",
       "    }\n",
       "</style>\n",
       "<table border=\"1\" class=\"dataframe\">\n",
       "  <thead>\n",
       "    <tr style=\"text-align: right;\">\n",
       "      <th></th>\n",
       "      <th>country</th>\n",
       "      <th>year</th>\n",
       "      <th>cases</th>\n",
       "      <th>population</th>\n",
       "    </tr>\n",
       "  </thead>\n",
       "  <tbody>\n",
       "    <tr>\n",
       "      <th>0</th>\n",
       "      <td>Afghanistan</td>\n",
       "      <td>1999</td>\n",
       "      <td>745</td>\n",
       "      <td>19987071</td>\n",
       "    </tr>\n",
       "    <tr>\n",
       "      <th>1</th>\n",
       "      <td>Afghanistan</td>\n",
       "      <td>2000</td>\n",
       "      <td>2666</td>\n",
       "      <td>20595360</td>\n",
       "    </tr>\n",
       "    <tr>\n",
       "      <th>2</th>\n",
       "      <td>Brazil</td>\n",
       "      <td>1999</td>\n",
       "      <td>37737</td>\n",
       "      <td>172006362</td>\n",
       "    </tr>\n",
       "    <tr>\n",
       "      <th>3</th>\n",
       "      <td>Brazil</td>\n",
       "      <td>2000</td>\n",
       "      <td>80488</td>\n",
       "      <td>174504898</td>\n",
       "    </tr>\n",
       "    <tr>\n",
       "      <th>4</th>\n",
       "      <td>China</td>\n",
       "      <td>1999</td>\n",
       "      <td>212258</td>\n",
       "      <td>1272915272</td>\n",
       "    </tr>\n",
       "    <tr>\n",
       "      <th>5</th>\n",
       "      <td>China</td>\n",
       "      <td>2000</td>\n",
       "      <td>213766</td>\n",
       "      <td>1280428583</td>\n",
       "    </tr>\n",
       "  </tbody>\n",
       "</table>\n",
       "</div>"
      ],
      "text/plain": [
       "       country  year   cases  population\n",
       "0  Afghanistan  1999     745    19987071\n",
       "1  Afghanistan  2000    2666    20595360\n",
       "2       Brazil  1999   37737   172006362\n",
       "3       Brazil  2000   80488   174504898\n",
       "4        China  1999  212258  1272915272\n",
       "5        China  2000  213766  1280428583"
      ]
     },
     "execution_count": 20,
     "metadata": {},
     "output_type": "execute_result"
    }
   ],
   "source": [
    "# Para comparar con la obtenida en la anterior celda\n",
    "tabla1"
   ]
  },
  {
   "cell_type": "code",
   "execution_count": null,
   "metadata": {},
   "outputs": [],
   "source": [
    "# También puede ocurrir el problema opuesto: hay columnas separadas que quiero tener en una\n",
    "# Es decir, queremos que la tabla 1 se vea como la tabla 2\n",
    "# Problema: en la tabla 1, cases y population están en columnas diferentes\n",
    "# Objetivo: ir de formato ancho a largo: colapsar columnas cases y population en una sola\n",
    "# Solución: pd.melt()\n",
    "\n",
    "tabla1_long = pd.melt(tabla1, id_vars = ['country', 'year'], value_vars = ['cases','population'], \n",
    "                     var_name = 'type', value_name = 'count').reset_index(drop=True)\n",
    "tabla1_long = tabla1_long.sort_values(by = ['country', 'year'], ascending = True)\n",
    "tabla1_long #en formato long (largo)"
   ]
  },
  {
   "cell_type": "code",
   "execution_count": 32,
   "metadata": {},
   "outputs": [
    {
     "data": {
      "text/html": [
       "<div>\n",
       "<style scoped>\n",
       "    .dataframe tbody tr th:only-of-type {\n",
       "        vertical-align: middle;\n",
       "    }\n",
       "\n",
       "    .dataframe tbody tr th {\n",
       "        vertical-align: top;\n",
       "    }\n",
       "\n",
       "    .dataframe thead th {\n",
       "        text-align: right;\n",
       "    }\n",
       "</style>\n",
       "<table border=\"1\" class=\"dataframe\">\n",
       "  <thead>\n",
       "    <tr style=\"text-align: right;\">\n",
       "      <th></th>\n",
       "      <th>country</th>\n",
       "      <th>year</th>\n",
       "      <th>type</th>\n",
       "      <th>count</th>\n",
       "    </tr>\n",
       "  </thead>\n",
       "  <tbody>\n",
       "    <tr>\n",
       "      <th>0</th>\n",
       "      <td>Afghanistan</td>\n",
       "      <td>1999</td>\n",
       "      <td>cases</td>\n",
       "      <td>745</td>\n",
       "    </tr>\n",
       "    <tr>\n",
       "      <th>1</th>\n",
       "      <td>Afghanistan</td>\n",
       "      <td>1999</td>\n",
       "      <td>population</td>\n",
       "      <td>19987071</td>\n",
       "    </tr>\n",
       "    <tr>\n",
       "      <th>2</th>\n",
       "      <td>Afghanistan</td>\n",
       "      <td>2000</td>\n",
       "      <td>cases</td>\n",
       "      <td>2666</td>\n",
       "    </tr>\n",
       "    <tr>\n",
       "      <th>3</th>\n",
       "      <td>Afghanistan</td>\n",
       "      <td>2000</td>\n",
       "      <td>population</td>\n",
       "      <td>20595360</td>\n",
       "    </tr>\n",
       "    <tr>\n",
       "      <th>4</th>\n",
       "      <td>Brazil</td>\n",
       "      <td>1999</td>\n",
       "      <td>cases</td>\n",
       "      <td>37737</td>\n",
       "    </tr>\n",
       "    <tr>\n",
       "      <th>5</th>\n",
       "      <td>Brazil</td>\n",
       "      <td>1999</td>\n",
       "      <td>population</td>\n",
       "      <td>172006362</td>\n",
       "    </tr>\n",
       "    <tr>\n",
       "      <th>6</th>\n",
       "      <td>Brazil</td>\n",
       "      <td>2000</td>\n",
       "      <td>cases</td>\n",
       "      <td>80488</td>\n",
       "    </tr>\n",
       "    <tr>\n",
       "      <th>7</th>\n",
       "      <td>Brazil</td>\n",
       "      <td>2000</td>\n",
       "      <td>population</td>\n",
       "      <td>174504898</td>\n",
       "    </tr>\n",
       "    <tr>\n",
       "      <th>8</th>\n",
       "      <td>China</td>\n",
       "      <td>1999</td>\n",
       "      <td>cases</td>\n",
       "      <td>212258</td>\n",
       "    </tr>\n",
       "    <tr>\n",
       "      <th>9</th>\n",
       "      <td>China</td>\n",
       "      <td>1999</td>\n",
       "      <td>population</td>\n",
       "      <td>1272915272</td>\n",
       "    </tr>\n",
       "    <tr>\n",
       "      <th>10</th>\n",
       "      <td>China</td>\n",
       "      <td>2000</td>\n",
       "      <td>cases</td>\n",
       "      <td>213766</td>\n",
       "    </tr>\n",
       "    <tr>\n",
       "      <th>11</th>\n",
       "      <td>China</td>\n",
       "      <td>2000</td>\n",
       "      <td>population</td>\n",
       "      <td>1280428583</td>\n",
       "    </tr>\n",
       "  </tbody>\n",
       "</table>\n",
       "</div>"
      ],
      "text/plain": [
       "        country  year        type       count\n",
       "0   Afghanistan  1999       cases         745\n",
       "1   Afghanistan  1999  population    19987071\n",
       "2   Afghanistan  2000       cases        2666\n",
       "3   Afghanistan  2000  population    20595360\n",
       "4        Brazil  1999       cases       37737\n",
       "5        Brazil  1999  population   172006362\n",
       "6        Brazil  2000       cases       80488\n",
       "7        Brazil  2000  population   174504898\n",
       "8         China  1999       cases      212258\n",
       "9         China  1999  population  1272915272\n",
       "10        China  2000       cases      213766\n",
       "11        China  2000  population  1280428583"
      ]
     },
     "execution_count": 32,
     "metadata": {},
     "output_type": "execute_result"
    }
   ],
   "source": [
    "# Para comparar con la obtenida en la anterior celda\n",
    "tabla2\n"
   ]
  },
  {
   "cell_type": "markdown",
   "metadata": {
    "tags": [
     "Ejercicio"
    ]
   },
   "source": [
    "### EJERCICIO 8 - Arreglar una tabla\n",
    "En la base de datos GHE2016_AllAges.csv cada país tiene una columna. Imaginé que a usted le interesa usar país como una variable. Esto quiere decir que el formato original no es el apropiado. Tiene que ponerla en formato long i.e. recoger varias columnas y ponerlas en una sola. Para hacerlo debe hacer lo siguiente:\n",
    "\n",
    "* Cargue la base de datos en una variable llamada `data_raw`\n",
    "* Cree una variable llamada `columnas_data_raw` con el nombre de las columnas de `data_raw`. TIP: obtenga el nombre de las columnas de `data_raw` con el método .columns\n",
    "* Use pd.melt para crear una nueva base de datos llamada `data_long`, donde todos los paises estén en una sola columna/variable llamada `country`. TIP: los nombres de los paises estan `columnas_data_raw`, desde el item 7 en adelante; uselos para el parametro value_vars de pd.melt.\n",
    "* ¿Qué son las columnas temp3 y temp4? Renombre estas columnas TIP: busque en internet el método .rename; funciona asi: data_long = data_long.rename(columns={\"temp3\":\"nuevo_nombre1\", \"temp4\":\"nuevo_nombre2\"})\n"
   ]
  },
  {
   "cell_type": "markdown",
   "metadata": {},
   "source": [
    "### 7.3 Usar\n",
    "\n",
    "Python tiene muchas funciones y métodos para analizar datos. En esta sección veremos como obtener estadísticas descriptivas (inspirada en R studio cloud premiers). Análisis y usos más elaborados de las bases de datos, por ejemplo regresiones, se verán en otro tutorial.\n",
    "\n",
    "Usaremos una base de datos de R llamada babynames. Tiene la frecuencia (n) y proporción (prop) de diferentes nombres (name) masculinos y femeninos (sex) durante el periodo (1880 - 2017) (year) en Estados Unidos. \n",
    "\n",
    "P.S. Algunas comparaciones con R https://pandas.pydata.org/docs/getting_started/comparison/comparison_with_r.html"
   ]
  },
  {
   "cell_type": "code",
   "execution_count": 35,
   "metadata": {},
   "outputs": [
    {
     "name": "stdout",
     "output_type": "stream",
     "text": [
      "           year sex       name     n      prop\n",
      "0        1880.0   F       Mary  7065  0.072384\n",
      "1        1880.0   F       Anna  2604  0.026679\n",
      "2        1880.0   F       Emma  2003  0.020521\n",
      "3        1880.0   F  Elizabeth  1939  0.019866\n",
      "4        1880.0   F     Minnie  1746  0.017888\n",
      "...         ...  ..        ...   ...       ...\n",
      "1924660  2017.0   M      Zykai     5  0.000003\n",
      "1924661  2017.0   M     Zykeem     5  0.000003\n",
      "1924662  2017.0   M      Zylin     5  0.000003\n",
      "1924663  2017.0   M      Zylis     5  0.000003\n",
      "1924664  2017.0   M      Zyrie     5  0.000003\n",
      "\n",
      "[1924665 rows x 5 columns]\n",
      "\n",
      "\n",
      "               year             n          prop\n",
      "count  1.924665e+06  1.924665e+06  1.924665e+06\n",
      "mean   1.974851e+03  1.808733e+02  1.362963e-04\n",
      "std    3.402948e+01  1.533337e+03  1.151693e-03\n",
      "min    1.880000e+03  5.000000e+00  2.260000e-06\n",
      "25%    1.951000e+03  7.000000e+00  3.870000e-06\n",
      "50%    1.985000e+03  1.200000e+01  7.300000e-06\n",
      "75%    2.003000e+03  3.200000e+01  2.288000e-05\n",
      "max    2.017000e+03  9.968600e+04  8.154561e-02\n",
      "\n",
      "\n",
      "Cantidad de nombres diferentes: 97310\n"
     ]
    }
   ],
   "source": [
    "# Cargar la data (no olvidar importar pyreadr)\n",
    "babynames = pyreadr.read_r('babynames.RData')[\"babynames\"] #diccionario\n",
    "print(babynames)\n",
    "print('\\n')\n",
    "print(babynames.describe())\n",
    "print('\\n')\n",
    "print(\"Cantidad de nombres diferentes: \" + str(len(babynames['name'].unique()))) #.drop_duplicates() deja los items únicos\n"
   ]
  },
  {
   "cell_type": "code",
   "execution_count": 43,
   "metadata": {},
   "outputs": [
    {
     "name": "stdout",
     "output_type": "stream",
     "text": [
      "           year sex      name     n      prop\n",
      "1499     1880.0   M  Santiago    12  0.000101\n",
      "3522     1881.0   M  Santiago    10  0.000092\n",
      "7904     1883.0   M  Santiago     7  0.000062\n",
      "10064    1884.0   M  Santiago     8  0.000065\n",
      "12212    1885.0   M  Santiago    12  0.000103\n",
      "...         ...  ..       ...   ...       ...\n",
      "1778978  2013.0   M  Santiago  3028  0.001501\n",
      "1812186  2014.0   M  Santiago  3423  0.001674\n",
      "1845319  2015.0   M  Santiago  3216  0.001578\n",
      "1878139  2016.0   M  Santiago  3708  0.001838\n",
      "1910597  2017.0   M  Santiago  4188  0.002133\n",
      "\n",
      "[133 rows x 5 columns]\n"
     ]
    },
    {
     "data": {
      "text/plain": [
       "56898"
      ]
     },
     "execution_count": 43,
     "metadata": {},
     "output_type": "execute_result"
    }
   ],
   "source": [
    "# Contemos cuantas veces aparece el nombre Santiago de hombre\n",
    "# Solución .query() sirve para filtrar la base de datos.\n",
    "name = babynames.query(\"(name == 'Santiago') & (sex == 'M')\") #primero filtremos. Note como empezamos con doble comillas, para poder usar comillas sencillas dentro\n",
    "print(name)\n",
    "name['n'].sum() #sumemos la columna de frecuencias "
   ]
  },
  {
   "cell_type": "code",
   "execution_count": 44,
   "metadata": {},
   "outputs": [
    {
     "name": "stdout",
     "output_type": "stream",
     "text": [
      "En promedio el nombre aparece por año: 428\n",
      "La desviación estandar atraves de los años: 856\n",
      "El mínimo número de veces del nombre en un año: 5\n",
      "El máximo número de veces del nombre en un año: 4188\n"
     ]
    }
   ],
   "source": [
    "# Ahora saquemos otras estadisticas como el max, min, mean, std de Santiago\n",
    "name = babynames.query(\"(name == 'Santiago') & (sex == 'M')\")\n",
    "print(\"En promedio el nombre aparece por año: \" + str(round(name['n'].mean())))\n",
    "print(\"La desviación estandar atraves de los años: \" + str(round(name['n'].std())))\n",
    "print(\"El mínimo número de veces del nombre en un año: \" + str(round(name['n'].min())))\n",
    "print(\"El máximo número de veces del nombre en un año: \" + str(round(name['n'].max())))"
   ]
  },
  {
   "cell_type": "code",
   "execution_count": 47,
   "metadata": {},
   "outputs": [
    {
     "name": "stdout",
     "output_type": "stream",
     "text": [
      "name\n",
      "James          37322.0\n",
      "John           37069.0\n",
      "Robert         34890.0\n",
      "Michael        31528.0\n",
      "William        29729.0\n",
      "David          26169.0\n",
      "Joseph         18866.0\n",
      "Richard        18573.0\n",
      "Charles        17290.0\n",
      "Thomas         16703.0\n",
      "Christopher    14653.0\n",
      "Daniel         13821.0\n",
      "Matthew        11525.0\n",
      "Kevin          11007.0\n",
      "Brian          10777.0\n",
      "George         10610.0\n",
      "Anthony        10382.0\n",
      "Donald         10225.0\n",
      "Paul           10049.0\n",
      "Mark            9782.0\n",
      "Name: n, dtype: float64\n",
      "\n",
      "\n",
      "name\n",
      "Mary         29878.0\n",
      "Jennifer     14663.0\n",
      "Elizabeth    11809.0\n",
      "Patricia     11729.0\n",
      "Ashley       10681.0\n",
      "Linda        10524.0\n",
      "Barbara      10392.0\n",
      "Kimberly      9825.0\n",
      "Madison       9581.0\n",
      "Margaret      9034.0\n",
      "Lisa          8465.0\n",
      "Susan         8126.0\n",
      "Michelle      8093.0\n",
      "Dorothy       8022.0\n",
      "Sarah         7782.0\n",
      "Sandra        7662.0\n",
      "Jessica       7572.0\n",
      "Karen         7467.0\n",
      "Helen         7379.0\n",
      "Nancy         7261.0\n",
      "Name: n, dtype: float64\n",
      "\n",
      "\n",
      "      year sex       n      prop\n",
      "0   1880.0   F   90993  0.932258\n",
      "1   1880.0   M  110491  0.933202\n",
      "2   1881.0   F   91953  0.930180\n",
      "3   1881.0   M  100743  0.930377\n",
      "4   1882.0   F  107847  0.932166\n",
      "5   1882.0   M  113686  0.931615\n",
      "6   1883.0   F  112319  0.935532\n",
      "7   1883.0   M  104627  0.930207\n",
      "8   1884.0   F  129020  0.937741\n",
      "9   1884.0   M  114442  0.932408\n",
      "10  1885.0   F  133055  0.937350\n",
      "11  1885.0   M  107799  0.929742\n",
      "12  1886.0   F  144533  0.940143\n",
      "13  1886.0   M  110784  0.930636\n",
      "14  1887.0   F  145981  0.939255\n",
      "15  1887.0   M  101413  0.927730\n",
      "16  1888.0   F  178622  0.942869\n",
      "17  1888.0   M  120851  0.930297\n",
      "18  1889.0   F  178366  0.942642\n",
      "19  1889.0   M  110580  0.928995\n"
     ]
    }
   ],
   "source": [
    "# Saquemos estadisticas de todos los nombres.\n",
    "# Solución .groupby parte la base datos por grupos existentes en variables/columnas\n",
    "\n",
    "# hombres\n",
    "baby_filter = babynames.query(\"(sex == 'M')\")\n",
    "names_mean = round(baby_filter.groupby(['name']).mean()) #luego de groupby podemos usar funciones como mean, sum, std, etc.\n",
    "print(names_mean['n'].sort_values(ascending = False).head(20)) #top 20\n",
    "print('\\n')\n",
    "\n",
    "# mujeres\n",
    "baby_filter = babynames.query(\"(sex == 'F')\")\n",
    "names_mean = round(baby_filter.groupby(['name']).mean())\n",
    "print(names_mean['n'].sort_values(ascending = False).head(20)) #top 20\n",
    "print('\\n')\n",
    "\n",
    "# total por año y genero\n",
    "names_mean = babynames.groupby(['year','sex']).sum().reset_index()\n",
    "print(names_mean.head(20)) \n"
   ]
  },
  {
   "cell_type": "code",
   "execution_count": 50,
   "metadata": {},
   "outputs": [
    {
     "data": {
      "image/png": "[encoded data removed]",
      "text/plain": [
       "<Figure size 640x480 with 1 Axes>"
      ]
     },
     "metadata": {},
     "output_type": "display_data"
    },
    {
     "data": {
      "text/plain": [
       "<ggplot: (8750873682655)>"
      ]
     },
     "execution_count": 50,
     "metadata": {},
     "output_type": "execute_result"
    }
   ],
   "source": [
    "# Graficas con ggplot via plotnine\n",
    "#!pip install plotnine\n",
    "import plotnine as p9\n",
    "from plotnine import ggplot, geom_line, aes, stat_smooth, facet_wrap, themes\n",
    "\n",
    "names_mean = babynames.groupby(['year','sex']).sum().reset_index()\n",
    "p1 = (ggplot(names_mean, aes('year', 'n', color='sex'))\n",
    " + geom_line() \n",
    " + themes.theme_xkcd() #many themes e.g. theme_classic()\n",
    ")\n",
    "\n",
    "p1"
   ]
  },
  {
   "cell_type": "code",
   "execution_count": 52,
   "metadata": {},
   "outputs": [
    {
     "data": {
      "image/png": "[encoded data removed]",
      "text/plain": [
       "<Figure size 648x432 with 1 Axes>"
      ]
     },
     "metadata": {
      "needs_background": "light"
     },
     "output_type": "display_data"
    }
   ],
   "source": [
    "# Graficas con matplotlib\n",
    "import matplotlib\n",
    "from matplotlib import pyplot as plt\n",
    "\n",
    "fig1 = plt.figure(figsize = [9,6]) #inicialización\n",
    "idx = names_mean['sex'] == 'F'\n",
    "x = names_mean.loc[idx,'year']\n",
    "y = names_mean.loc[idx,'n']\n",
    "plt.plot(x, y, color = 'red', label = 'F')\n",
    "\n",
    "idx = names_mean['sex'] == 'M'\n",
    "x = names_mean.loc[idx,'year']\n",
    "y = names_mean.loc[idx,'n']\n",
    "plt.plot(x, y, color = 'cyan', label = 'M')\n",
    "\n",
    "plt.legend()\n",
    "plt.xlabel('Year')\n",
    "plt.ylabel('Number of names');"
   ]
  },
  {
   "cell_type": "markdown",
   "metadata": {
    "tags": [
     "Ejercicio"
    ]
   },
   "source": [
    "### EJERCICIO 9 - Uso de base de datos\n",
    "\n",
    "Con el método .query, filtre tres enfermedades presentes en la base de datos GHE2016_AllAges.csv. Importe la base como un dataframe de pandas.\n",
    "\n",
    "Imprima para cada enfermedad las primeras 30 filas. Tip: use el método .head()\n",
    "\n",
    "Use la version `data_long` que hizo en el ejercicio 8."
   ]
  },
  {
   "cell_type": "markdown",
   "metadata": {},
   "source": [
    "### 7.4 Guardar\n",
    "\n",
    "Es usual que partes de nuestro código tarden tiempo, minutos o incluso horas. Puede ser buena idea guardar el output de esos procesos para que la próxima vez tan solo se cargue la información. En esta sección, aprenderemos cómo guardar output en Python."
   ]
  },
  {
   "cell_type": "code",
   "execution_count": null,
   "metadata": {},
   "outputs": [],
   "source": [
    "# Guardar en formato csv\n",
    "data_long.to_csv('GHE2016_AllAges_long.csv')"
   ]
  },
  {
   "cell_type": "code",
   "execution_count": null,
   "metadata": {},
   "outputs": [],
   "source": [
    "# Guardar en formato pickle (de python)\n",
    "data_long.to_pickle('GHE2016_AllAges_long.pkl')"
   ]
  },
  {
   "cell_type": "code",
   "execution_count": null,
   "metadata": {},
   "outputs": [],
   "source": [
    "# Guardar en formato dat (de Stata)\n",
    "# Si tiene un nombre de columna no aceptado por el formato, puede renombrar columnas asi\n",
    "# data_long = data_long.rename({'People(x1000)':'People_x_1000'}) \n",
    "data_long.to_stata('GHE2016_AllAges_long.dat')"
   ]
  },
  {
   "cell_type": "code",
   "execution_count": null,
   "metadata": {},
   "outputs": [],
   "source": [
    "# Guardar en formato excel \n",
    "data_long.to_excel('GHE2016_AllAges_long.xlsx')"
   ]
  },
  {
   "cell_type": "code",
   "execution_count": null,
   "metadata": {},
   "outputs": [],
   "source": [
    "# Guardar imagenes\n",
    "ggplot.save(p1, filename = 'p1_ggplot.pdf')\n",
    "\n",
    "fig1.savefig('p1_matplotlib.pdf')"
   ]
  },
  {
   "cell_type": "markdown",
   "metadata": {
    "tags": [
     "Ejercicio"
    ]
   },
   "source": [
    "### EJERCICIO 10 - Haga una gráfica y guardela \n",
    "\n",
    "Gráfique la evolución a través de los años del nombre Mary para mujer en la base `babynames`. Guarde la gráfica en un archivo que se llame `mi_primera_figura.png`. Utilicé matplotlib.\n"
   ]
  },
  {
   "cell_type": "code",
   "execution_count": null,
   "metadata": {},
   "outputs": [],
   "source": []
  }
 ],
 "metadata": {
  "kernelspec": {
   "display_name": "Python 3",
   "language": "python",
   "name": "python3"
  },
  "language_info": {
   "codemirror_mode": {
    "name": "ipython",
    "version": 3
   },
   "file_extension": ".py",
   "mimetype": "text/x-python",
   "name": "python",
   "nbconvert_exporter": "python",
   "pygments_lexer": "ipython3",
   "version": "3.8.5"
  },
  "toc-showtags": true
 },
 "nbformat": 4,
 "nbformat_minor": 4
}
