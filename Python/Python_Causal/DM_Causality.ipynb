{
 "cells": [
  {
   "cell_type": "code",
   "execution_count": null,
   "id": "ed070482-11fe-48f9-82da-886ed6c8d9ed",
   "metadata": {},
   "outputs": [],
   "source": [
    "#Tables and matrices\n",
    "import numpy as np\n",
    "import pandas as pd\n",
    "\n",
    "#Stats\n",
    "import scipy.stats as st\n",
    "from scipy.optimize import fmin\n",
    "from scipy import integrate\n",
    "from scipy.stats.mstats import mquantiles\n",
    "import statsmodels.formula.api as smf\n",
    "import statsmodels.api as sm \n",
    "from statsmodels.stats.diagnostic import het_breuschpagan #Heteroskedasticity test\n",
    "from statsmodels.stats.diagnostic import het_white #Heteroskedasticity test\n",
    "from sklearn.metrics import confusion_matrix\n",
    "\n",
    "#Probabilistic programs\n",
    "#!pip install numpy mkl #if you are in an intel machine i.e. in mac M# chips no\n",
    "#!pip install pymc\n",
    "#!pip install pytensor\n",
    "import pymc as pm\n",
    "import pytensor.tensor as pt\n",
    "#import aesara.tensor as at\n",
    "print('Running on PyMC v{}'.format(pm.__version__))\n",
    "\n",
    "\n",
    "#Graphs \n",
    "#IMPORTANT: properly install ipywidgets and nodejs for interactive graphs\n",
    "#If you are in jupyterlab, activate the widget extension (it should be in the latest versions)\n",
    "import seaborn as sns\n",
    "import matplotlib.pyplot as plt\n",
    "from matplotlib import cm\n",
    "from matplotlib.gridspec import GridSpec\n",
    "from matplotlib import animation, rc\n",
    "from IPython.display import display, HTML, Markdown\n",
    "import ipywidgets as widgets\n",
    "from ipywidgets import interact, interactive, fixed, HBox, VBox, Layout\n",
    "from mpl_toolkits.mplot3d import axes3d\n",
    "import arviz as az"
   ]
  },
  {
   "cell_type": "markdown",
   "id": "20e6d893-ef3d-450e-8223-1c946ee33579",
   "metadata": {},
   "source": [
    "# Causal Regression"
   ]
  },
  {
   "cell_type": "markdown",
   "id": "ace9abca-ed73-4f8f-99cd-fea1ff4b9d7d",
   "metadata": {},
   "source": [
    "Textbooks by Matheus Facure Alves:\n",
    "\n",
    "* Causal Inference for The Brave and True. https://matheusfacure.github.io/python-causality-handbook/landing-page.html\n",
    "\n",
    "* Causal Inference in Python: Applying Causal Inference in the Tech Industry https://github.com/matheusfacure/causal-inference-in-python-code/tree/main "
   ]
  },
  {
   "cell_type": "markdown",
   "id": "b7ab9327-3a40-4ec3-bc2d-0ad16885bbba",
   "metadata": {
    "slideshow": {
     "slide_type": "slide"
    }
   },
   "source": [
    "## Instrumental variables"
   ]
  },
  {
   "cell_type": "code",
   "execution_count": null,
   "id": "af51f87c-5f65-4721-84d5-f4a07d22ab9f",
   "metadata": {},
   "outputs": [],
   "source": []
  },
  {
   "cell_type": "markdown",
   "id": "864597f0-b085-4db0-8da4-fcb9c451ac1d",
   "metadata": {},
   "source": [
    "## Regression discontinuity"
   ]
  },
  {
   "cell_type": "markdown",
   "id": "0ce34ff2-5db6-431b-aef3-67df146078e5",
   "metadata": {},
   "source": [
    "Red receive a treatment blues do not. We want to determine if the jump is significant around the cutoff (we assume that around it groups are similar i.e. contrafactuals). \n",
    "\n",
    "<img src=\"img/RegDis4.png\" width=\"600\"/>\n",
    "\n",
    "Examples: \n",
    "* Provide a lower interest rate after an income threshold and check default rates of the clients before and after the cutoff.\n",
    "* Give insurance discounts before and after an age and check a health outcome\n",
    "* Provide worker incentives after a sales cutoff and check productivity\n"
   ]
  },
  {
   "cell_type": "code",
   "execution_count": null,
   "id": "9ea43a8f-eea7-40c4-9153-49d0142cbeba",
   "metadata": {},
   "outputs": [],
   "source": []
  },
  {
   "cell_type": "markdown",
   "id": "ed88aa60-1402-4658-8bc9-fd76ca1fae99",
   "metadata": {},
   "source": [
    "## Differences in Differences"
   ]
  },
  {
   "cell_type": "code",
   "execution_count": null,
   "id": "162a1834-b8e9-4e68-8a4c-c0efcec5801f",
   "metadata": {},
   "outputs": [],
   "source": []
  },
  {
   "cell_type": "markdown",
   "id": "19d8f559-6593-4c51-8553-ffd96a7006ef",
   "metadata": {},
   "source": [
    "# Trou Normand \n",
    "Bayesian Causal Regressions"
   ]
  },
  {
   "cell_type": "code",
   "execution_count": null,
   "id": "192636d3-a28b-4f3e-b98b-dfaae2feab94",
   "metadata": {},
   "outputs": [],
   "source": [
    "https://www.pymc-labs.com/blog-posts/causal-analysis-with-pymc-answering-what-if-with-the-new-do-operator/\n",
    "\n",
    "https://causalpy.readthedocs.io/\n",
    "\n"
   ]
  },
  {
   "cell_type": "code",
   "execution_count": null,
   "id": "8e2cbed1-39bc-4708-a98d-acd914091aad",
   "metadata": {},
   "outputs": [],
   "source": []
  }
 ],
 "metadata": {
  "kernelspec": {
   "display_name": "Python 3 (ipykernel)",
   "language": "python",
   "name": "python3"
  },
  "language_info": {
   "codemirror_mode": {
    "name": "ipython",
    "version": 3
   },
   "file_extension": ".py",
   "mimetype": "text/x-python",
   "name": "python",
   "nbconvert_exporter": "python",
   "pygments_lexer": "ipython3",
   "version": "3.11.7"
  }
 },
 "nbformat": 4,
 "nbformat_minor": 5
}
