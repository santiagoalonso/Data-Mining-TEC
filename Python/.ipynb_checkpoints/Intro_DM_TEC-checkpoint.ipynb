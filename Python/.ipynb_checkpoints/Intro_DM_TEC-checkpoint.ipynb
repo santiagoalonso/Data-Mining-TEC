{
 "cells": [
  {
   "cell_type": "code",
   "execution_count": 1,
   "id": "cf373909",
   "metadata": {},
   "outputs": [
    {
     "data": {
      "text/html": [
       "<table style=\"text-align:center\"><tr><td colspan=\"4\" style=\"border-bottom: 1px solid black\"></td></tr>\n",
       "<tr><td style=\"text-align:left\"></td><td colspan=\"3\"><em>Dependent variable: wage</em></td></tr><tr><td style=\"text-align:left\"></td><tr><td></td><td colspan=\"1\">Biased Unconditional</td><td colspan=\"1\">Biased</td><td colspan=\"1\">Unbiased Conditional</td></tr><tr><td style=\"text-align:left\"></td><td>(1)</td><td>(2)</td><td>(3)</td></tr>\n",
       "<tr><td colspan=\"4\" style=\"border-bottom: 1px solid black\"></td></tr>\n",
       "\n",
       "<tr><td style=\"text-align:left\">Intercept</td><td>1.958<sup>***</sup></td><td>0.176<sup>***</sup></td><td>0.988<sup>***</sup></td></tr>\n",
       "<tr><td style=\"text-align:left\"></td><td>(0.060)</td><td>(0.020)</td><td>(0.017)</td></tr>\n",
       "<tr><td style=\"text-align:left\">ability</td><td></td><td></td><td>2.018<sup>***</sup></td></tr>\n",
       "<tr><td style=\"text-align:left\"></td><td></td><td></td><td>(0.022)</td></tr>\n",
       "<tr><td style=\"text-align:left\">female</td><td>-2.939<sup>***</sup></td><td>0.642<sup>***</sup></td><td>-0.999<sup>***</sup></td></tr>\n",
       "<tr><td style=\"text-align:left\"></td><td>(0.086)</td><td>(0.030)</td><td>(0.028)</td></tr>\n",
       "<tr><td style=\"text-align:left\">occupation</td><td></td><td>1.811<sup>***</sup></td><td>1.001<sup>***</sup></td></tr>\n",
       "<tr><td style=\"text-align:left\"></td><td></td><td>(0.006)</td><td>(0.010)</td></tr>\n",
       "\n",
       "<td colspan=\"4\" style=\"border-bottom: 1px solid black\"></td></tr>\n",
       "<tr><td style=\"text-align: left\">Observations</td><td>10000</td><td>10000</td><td>10000</td></tr><tr><td style=\"text-align: left\">R<sup>2</sup></td><td>0.105</td><td>0.911</td><td>0.952</td></tr><tr><td style=\"text-align: left\">Adjusted R<sup>2</sup></td><td>0.105</td><td>0.911</td><td>0.952</td></tr><tr><td style=\"text-align: left\">Residual Std. Error</td><td>4.298 (df=9998)</td><td>1.352 (df=9997)</td><td>0.999 (df=9996)</td></tr><tr><td style=\"text-align: left\">F Statistic</td><td>1168.454<sup>***</sup> (df=1; 9998)</td><td>51458.146<sup>***</sup> (df=2; 9997)</td><td>65553.300<sup>***</sup> (df=3; 9996)</td></tr>\n",
       "<tr><td colspan=\"4\" style=\"border-bottom: 1px solid black\"></td></tr><tr><td style=\"text-align: left\">Note:</td><td colspan=\"3\" style=\"text-align: right\"><sup>*</sup>p&lt;0.1; <sup>**</sup>p&lt;0.05; <sup>***</sup>p&lt;0.01</td></tr></table>"
      ],
      "text/plain": [
       "<stargazer.stargazer.Stargazer at 0x15ae3fe10>"
      ]
     },
     "execution_count": 1,
     "metadata": {},
     "output_type": "execute_result"
    }
   ],
   "source": [
    "import numpy as np \n",
    "import pandas as pd \n",
    "import statsmodels.api as sm \n",
    "import statsmodels.formula.api as smf \n",
    "from itertools import combinations \n",
    "import plotnine as p\n",
    "from stargazer.stargazer import Stargazer #I also have the .py in the folder (in case it fails to install or run)\n",
    "\n",
    "\n",
    "tb = pd.DataFrame({\n",
    "    'female': np.random.binomial(1, .5, size=10000),\n",
    "    'ability': np.random.normal(size=10000)})\n",
    "tb['discrimination'] = tb.female.copy()\n",
    "tb['occupation'] = 1 + 2*tb['ability'] + 0*tb['female'] - 2*tb['discrimination'] + np.random.normal(size=10000)\n",
    "tb['wage'] = 1 - 1*tb['discrimination'] + 1*tb['occupation'] + 2*tb['ability'] + np.random.normal(size=10000) \n",
    "\n",
    "\n",
    "\n",
    "lm_1 = sm.OLS.from_formula('wage ~ female', data=tb).fit()\n",
    "lm_2 = sm.OLS.from_formula('wage ~ female + occupation', data=tb).fit()\n",
    "lm_3 = sm.OLS.from_formula('wage ~ female + occupation + ability', data=tb).fit()\n",
    "\n",
    "\n",
    "st = Stargazer((lm_1,lm_2,lm_3))\n",
    "st.custom_columns([\"Biased Unconditional\", \"Biased\", \"Unbiased Conditional\"], [1, 1, 1])\n",
    "st"
   ]
  },
  {
   "cell_type": "code",
   "execution_count": null,
   "id": "a5d10b65",
   "metadata": {},
   "outputs": [],
   "source": []
  }
 ],
 "metadata": {
  "kernelspec": {
   "display_name": "Python 3 (ipykernel)",
   "language": "python",
   "name": "python3"
  },
  "language_info": {
   "codemirror_mode": {
    "name": "ipython",
    "version": 3
   },
   "file_extension": ".py",
   "mimetype": "text/x-python",
   "name": "python",
   "nbconvert_exporter": "python",
   "pygments_lexer": "ipython3",
   "version": "3.11.0"
  }
 },
 "nbformat": 4,
 "nbformat_minor": 5
}
