{
 "cells": [
  {
   "cell_type": "code",
   "execution_count": 3,
   "id": "641549c0",
   "metadata": {},
   "outputs": [],
   "source": [
    "#Matrices\n",
    "import numpy as np \n",
    "import pandas as pd \n",
    "\n",
    "#Stats\n",
    "import scipy\n",
    "import statsmodels.api as sm \n",
    "import statsmodels.formula.api as smf \n",
    "from itertools import combinations \n",
    "\n",
    "#Plotting\n",
    "import matplotlib.pyplot as plt\n",
    "import seaborn as sns\n",
    "import plotnine as p\n",
    "\n",
    "\n",
    "#Misc\n",
    "from stargazer.stargazer import Stargazer #I also have the .py in the folder (in case it fails to install or run)\n",
    "\n",
    "\n"
   ]
  },
  {
   "cell_type": "markdown",
   "id": "5c7c2f05",
   "metadata": {},
   "source": [
    "# DAG GOOGLE"
   ]
  },
  {
   "cell_type": "code",
   "execution_count": null,
   "id": "3db106b0",
   "metadata": {},
   "outputs": [],
   "source": [
    "tb = pd.DataFrame({\n",
    "    'female': np.random.binomial(1, .5, size=10000),\n",
    "    'ability': np.random.normal(size=10000)})\n",
    "tb['discrimination'] = tb.female.copy()\n",
    "tb['occupation'] = 1 + 2*tb['ability'] + 0*tb['female'] - 2*tb['discrimination'] + np.random.normal(size=10000)\n",
    "tb['wage'] = 1 - 1*tb['discrimination'] + 1*tb['occupation'] + 2*tb['ability'] + np.random.normal(size=10000) \n",
    "\n",
    "\n",
    "\n",
    "lm_1 = sm.OLS.from_formula('wage ~ female', data=tb).fit()\n",
    "lm_2 = sm.OLS.from_formula('wage ~ female + occupation', data=tb).fit()\n",
    "lm_3 = sm.OLS.from_formula('wage ~ female + occupation + ability', data=tb).fit()\n",
    "\n",
    "\n",
    "st = Stargazer((lm_1,lm_2,lm_3))\n",
    "st.custom_columns([\"Biased Unconditional\", \"Biased\", \"Unbiased Conditional\"], [1, 1, 1])\n",
    "st"
   ]
  },
  {
   "cell_type": "markdown",
   "id": "04b614ad",
   "metadata": {},
   "source": [
    "# Binomial probs"
   ]
  },
  {
   "cell_type": "code",
   "execution_count": 7,
   "id": "c90fa488",
   "metadata": {},
   "outputs": [
    {
     "data": {
      "text/plain": [
       "0.2050781249999999"
      ]
     },
     "execution_count": 7,
     "metadata": {},
     "output_type": "execute_result"
    }
   ],
   "source": [
    "scipy.stats.binom.pmf(4, n = 10, p = 0.5)"
   ]
  },
  {
   "cell_type": "markdown",
   "id": "890becde",
   "metadata": {},
   "source": [
    "# Normal probs"
   ]
  },
  {
   "cell_type": "code",
   "execution_count": null,
   "id": "7f45689a",
   "metadata": {},
   "outputs": [],
   "source": []
  },
  {
   "cell_type": "markdown",
   "id": "4f23406d",
   "metadata": {},
   "source": []
  }
 ],
 "metadata": {
  "kernelspec": {
   "display_name": "Python 3 (ipykernel)",
   "language": "python",
   "name": "python3"
  },
  "language_info": {
   "codemirror_mode": {
    "name": "ipython",
    "version": 3
   },
   "file_extension": ".py",
   "mimetype": "text/x-python",
   "name": "python",
   "nbconvert_exporter": "python",
   "pygments_lexer": "ipython3",
   "version": "3.11.0"
  }
 },
 "nbformat": 4,
 "nbformat_minor": 5
}
