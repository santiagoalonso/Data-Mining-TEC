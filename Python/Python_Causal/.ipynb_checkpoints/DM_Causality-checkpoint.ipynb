{
 "cells": [
  {
   "cell_type": "code",
   "execution_count": 30,
   "id": "ed070482-11fe-48f9-82da-886ed6c8d9ed",
   "metadata": {},
   "outputs": [
    {
     "name": "stdout",
     "output_type": "stream",
     "text": [
      "Running on PyMC v5.10.3\n"
     ]
    }
   ],
   "source": [
    "#Tables and matrices\n",
    "import numpy as np\n",
    "import pandas as pd\n",
    "\n",
    "#Stats\n",
    "import scipy.stats as st\n",
    "from scipy.optimize import fmin\n",
    "from scipy import integrate\n",
    "from scipy.stats.mstats import mquantiles\n",
    "import statsmodels.formula.api as smf\n",
    "import statsmodels.api as sm \n",
    "from statsmodels.stats.diagnostic import het_breuschpagan #Heteroskedasticity test\n",
    "from statsmodels.stats.diagnostic import het_white #Heteroskedasticity test\n",
    "from sklearn.metrics import confusion_matrix\n",
    "from linearmodels import IV2SLS\n",
    "\n",
    "#Probabilistic programs\n",
    "#!pip install numpy mkl #if you are in an intel machine i.e. in mac M# chips no\n",
    "#!pip install pymc\n",
    "#!pip install pytensor\n",
    "import pymc as pm\n",
    "import pytensor.tensor as pt\n",
    "#import aesara.tensor as at\n",
    "print('Running on PyMC v{}'.format(pm.__version__))\n",
    "\n",
    "\n",
    "#Graphs \n",
    "#IMPORTANT: properly install ipywidgets and nodejs for interactive graphs\n",
    "#If you are in jupyterlab, activate the widget extension (it should be in the latest versions)\n",
    "import seaborn as sns\n",
    "import matplotlib.pyplot as plt\n",
    "from matplotlib import cm\n",
    "from matplotlib.gridspec import GridSpec\n",
    "from matplotlib import animation, rc\n",
    "import matplotlib.ticker as plticker\n",
    "from IPython.display import display, HTML, Markdown\n",
    "import ipywidgets as widgets\n",
    "from ipywidgets import interact, interactive, fixed, HBox, VBox, Layout\n",
    "from mpl_toolkits.mplot3d import axes3d\n",
    "import arviz as az"
   ]
  },
  {
   "cell_type": "markdown",
   "id": "20e6d893-ef3d-450e-8223-1c946ee33579",
   "metadata": {},
   "source": [
    "# Causal Regression"
   ]
  },
  {
   "cell_type": "markdown",
   "id": "ace9abca-ed73-4f8f-99cd-fea1ff4b9d7d",
   "metadata": {},
   "source": [
    "Textbooks by Matheus Facure Alves:\n",
    "\n",
    "* Causal Inference for The Brave and True. https://matheusfacure.github.io/python-causality-handbook/landing-page.html\n",
    "\n",
    "* Causal Inference in Python: Applying Causal Inference in the Tech Industry https://github.com/matheusfacure/causal-inference-in-python-code/tree/main "
   ]
  },
  {
   "cell_type": "markdown",
   "id": "b7ab9327-3a40-4ec3-bc2d-0ad16885bbba",
   "metadata": {
    "slideshow": {
     "slide_type": "slide"
    }
   },
   "source": [
    "## Instrumental variables"
   ]
  },
  {
   "cell_type": "markdown",
   "id": "6f10eb23-ea22-4746-a31f-1be171f7e1f5",
   "metadata": {},
   "source": [
    "Bank: prime credit card to its customers. \n",
    "\n",
    "Question: how much the prime card increases customers’ purchase volume (PV).\n",
    "\n",
    "Instrument:  P prime credit card (prime_eligible) to 10,000 custome.sa 50% chance of being eligible and 50% of being in the controlT the bank can’t force customers to choose the card, making this an experiment with non-compliance\n",
    "Data:ion on the customer’s age, income, and cr. Purchase volume (pv) Tn on the true effect of the primpvan PV,.)G and which group a custome (prime_elegible). Acceptance of prime card (prime_card)riCd that the complia (categ).to understand:"
   ]
  },
  {
   "cell_type": "code",
   "execution_count": 3,
   "id": "af51f87c-5f65-4721-84d5-f4a07d22ab9f",
   "metadata": {},
   "outputs": [
    {
     "data": {
      "text/html": [
       "<div>\n",
       "<style scoped>\n",
       "    .dataframe tbody tr th:only-of-type {\n",
       "        vertical-align: middle;\n",
       "    }\n",
       "\n",
       "    .dataframe tbody tr th {\n",
       "        vertical-align: top;\n",
       "    }\n",
       "\n",
       "    .dataframe thead th {\n",
       "        text-align: right;\n",
       "    }\n",
       "</style>\n",
       "<table border=\"1\" class=\"dataframe\">\n",
       "  <thead>\n",
       "    <tr style=\"text-align: right;\">\n",
       "      <th></th>\n",
       "      <th>age</th>\n",
       "      <th>income</th>\n",
       "      <th>credit_score</th>\n",
       "      <th>prime_elegible</th>\n",
       "      <th>prime_card</th>\n",
       "      <th>pv</th>\n",
       "      <th>tau</th>\n",
       "      <th>categ</th>\n",
       "    </tr>\n",
       "  </thead>\n",
       "  <tbody>\n",
       "    <tr>\n",
       "      <th>0</th>\n",
       "      <td>37.7</td>\n",
       "      <td>9687.0</td>\n",
       "      <td>822.0</td>\n",
       "      <td>0</td>\n",
       "      <td>0</td>\n",
       "      <td>4913.79</td>\n",
       "      <td>700.0</td>\n",
       "      <td>complier</td>\n",
       "    </tr>\n",
       "    <tr>\n",
       "      <th>1</th>\n",
       "      <td>46.0</td>\n",
       "      <td>13731.0</td>\n",
       "      <td>190.0</td>\n",
       "      <td>0</td>\n",
       "      <td>0</td>\n",
       "      <td>5637.66</td>\n",
       "      <td>200.0</td>\n",
       "      <td>never-taker</td>\n",
       "    </tr>\n",
       "    <tr>\n",
       "      <th>2</th>\n",
       "      <td>43.1</td>\n",
       "      <td>2839.0</td>\n",
       "      <td>214.0</td>\n",
       "      <td>1</td>\n",
       "      <td>1</td>\n",
       "      <td>2410.45</td>\n",
       "      <td>700.0</td>\n",
       "      <td>complier</td>\n",
       "    </tr>\n",
       "    <tr>\n",
       "      <th>3</th>\n",
       "      <td>36.0</td>\n",
       "      <td>1206.0</td>\n",
       "      <td>318.0</td>\n",
       "      <td>1</td>\n",
       "      <td>1</td>\n",
       "      <td>1363.06</td>\n",
       "      <td>700.0</td>\n",
       "      <td>complier</td>\n",
       "    </tr>\n",
       "    <tr>\n",
       "      <th>4</th>\n",
       "      <td>39.7</td>\n",
       "      <td>4095.0</td>\n",
       "      <td>430.0</td>\n",
       "      <td>0</td>\n",
       "      <td>0</td>\n",
       "      <td>2189.80</td>\n",
       "      <td>700.0</td>\n",
       "      <td>complier</td>\n",
       "    </tr>\n",
       "  </tbody>\n",
       "</table>\n",
       "</div>"
      ],
      "text/plain": [
       "    age   income  credit_score  prime_elegible  prime_card       pv    tau  \\\n",
       "0  37.7   9687.0         822.0               0           0  4913.79  700.0   \n",
       "1  46.0  13731.0         190.0               0           0  5637.66  200.0   \n",
       "2  43.1   2839.0         214.0               1           1  2410.45  700.0   \n",
       "3  36.0   1206.0         318.0               1           1  1363.06  700.0   \n",
       "4  39.7   4095.0         430.0               0           0  2189.80  700.0   \n",
       "\n",
       "         categ  \n",
       "0     complier  \n",
       "1  never-taker  \n",
       "2     complier  \n",
       "3     complier  \n",
       "4     complier  "
      ]
     },
     "execution_count": 3,
     "metadata": {},
     "output_type": "execute_result"
    }
   ],
   "source": [
    "df = pd.read_csv(\"prime_card.csv\")\n",
    "df.head()"
   ]
  },
  {
   "cell_type": "code",
   "execution_count": 4,
   "id": "6a6cc192-d958-4e3a-9421-cc3583728c65",
   "metadata": {},
   "outputs": [
    {
     "data": {
      "text/html": [
       "<table class=\"simpletable\">\n",
       "<tr>\n",
       "       <td></td>         <th>coef</th>     <th>std err</th>      <th>t</th>      <th>P>|t|</th>  <th>[0.025</th>    <th>0.975]</th>  \n",
       "</tr>\n",
       "<tr>\n",
       "  <th>Intercept</th>  <td> 2534.4947</td> <td>   19.239</td> <td>  131.740</td> <td> 0.000</td> <td> 2496.783</td> <td> 2572.206</td>\n",
       "</tr>\n",
       "<tr>\n",
       "  <th>prime_card</th> <td>  588.1388</td> <td>   41.676</td> <td>   14.112</td> <td> 0.000</td> <td>  506.446</td> <td>  669.831</td>\n",
       "</tr>\n",
       "</table>"
      ],
      "text/latex": [
       "\\begin{center}\n",
       "\\begin{tabular}{lcccccc}\n",
       "\\toprule\n",
       "                     & \\textbf{coef} & \\textbf{std err} & \\textbf{t} & \\textbf{P$> |$t$|$} & \\textbf{[0.025} & \\textbf{0.975]}  \\\\\n",
       "\\midrule\n",
       "\\textbf{Intercept}   &    2534.4947  &       19.239     &   131.740  &         0.000        &     2496.783    &     2572.206     \\\\\n",
       "\\textbf{prime\\_card} &     588.1388  &       41.676     &    14.112  &         0.000        &      506.446    &      669.831     \\\\\n",
       "\\bottomrule\n",
       "\\end{tabular}\n",
       "\\end{center}"
      ],
      "text/plain": [
       "<class 'statsmodels.iolib.table.SimpleTable'>"
      ]
     },
     "execution_count": 4,
     "metadata": {},
     "output_type": "execute_result"
    }
   ],
   "source": [
    "m = smf.ols(\"pv~prime_card\", data=df).fit()\n",
    "m.summary().tables[1]"
   ]
  },
  {
   "cell_type": "markdown",
   "id": "ff11bb0f-3ff6-4a46-980c-73d912316687",
   "metadata": {},
   "source": [
    "Is prime_card endogenous? Yes. Compliance is not imposed, costumers accepted or not i.e. self selection bias. Those who accepted may also a priori had higher purchase volume (pv)."
   ]
  },
  {
   "cell_type": "markdown",
   "id": "87300626-b4b9-4231-9bc9-ab643a5180c0",
   "metadata": {},
   "source": [
    "Two stage least squares logic (2SLS)"
   ]
  },
  {
   "cell_type": "markdown",
   "id": "132c5e85-c7a2-4dd0-ad38-b7364567a078",
   "metadata": {},
   "source": [
    "<img src=\"img/IV_11.png\" width=\"400\"/>"
   ]
  },
  {
   "cell_type": "code",
   "execution_count": 5,
   "id": "150959d4-4b89-46b4-a4f6-612b314ff701",
   "metadata": {},
   "outputs": [
    {
     "name": "stdout",
     "output_type": "stream",
     "text": [
      "                          IV-2SLS Estimation Summary                          \n",
      "==============================================================================\n",
      "Dep. Variable:                     pv   R-squared:                      0.0179\n",
      "Estimator:                    IV-2SLS   Adj. R-squared:                 0.0178\n",
      "No. Observations:               10000   F-statistic:                    88.548\n",
      "Date:                Sun, Feb 25 2024   P-value (F-stat)                0.0000\n",
      "Time:                        18:14:36   Distribution:                  chi2(1)\n",
      "Cov. Estimator:                robust                                         \n",
      "                                                                              \n",
      "==============================================================================\n",
      "                             Parameter Estimates                              \n",
      "==============================================================================\n",
      "            Parameter  Std. Err.     T-stat    P-value    Lower CI    Upper CI\n",
      "------------------------------------------------------------------------------\n",
      "Intercept      2498.4     23.955     104.29     0.0000      2451.4      2545.3\n",
      "prime_card     757.70     80.521     9.4100     0.0000      599.88      915.51\n",
      "==============================================================================\n"
     ]
    }
   ],
   "source": [
    "formula = 'pv ~ 1 + [prime_card ~ prime_elegible]' #put inside square brackets the first stage\n",
    "iv_model = IV2SLS.from_formula(formula, df).fit(cov_type=\"robust\")\n",
    "print(iv_model.summary.tables[0])\n",
    "print(iv_model.summary.tables[1])"
   ]
  },
  {
   "cell_type": "markdown",
   "id": "05cb2533-fc47-4858-900e-73a0103f5cef",
   "metadata": {},
   "source": [
    "Compare with the regular OLS. Estimate is higher with 2SLS. If the instrument is good, trust the IV estimate more, it is less biased."
   ]
  },
  {
   "cell_type": "code",
   "execution_count": 6,
   "id": "996c13aa-63c6-4c82-b64c-aab5b3f1b3b5",
   "metadata": {},
   "outputs": [
    {
     "name": "stdout",
     "output_type": "stream",
     "text": [
      "                          IV-2SLS Estimation Summary                          \n",
      "==============================================================================\n",
      "Dep. Variable:                     pv   R-squared:                      0.9581\n",
      "Estimator:                    IV-2SLS   Adj. R-squared:                 0.9581\n",
      "No. Observations:               10000   F-statistic:                 2.238e+05\n",
      "Date:                Sun, Feb 25 2024   P-value (F-stat)                0.0000\n",
      "Time:                        18:14:37   Distribution:                  chi2(3)\n",
      "Cov. Estimator:                robust                                         \n",
      "                                                                              \n",
      "==============================================================================\n",
      "                             Parameter Estimates                              \n",
      "==============================================================================\n",
      "            Parameter  Std. Err.     T-stat    P-value    Lower CI    Upper CI\n",
      "------------------------------------------------------------------------------\n",
      "Intercept      210.62     37.615     5.5992     0.0000      136.89      284.34\n",
      "income         0.3998     0.0009     469.77     0.0000      0.3981      0.4015\n",
      "age            9.7444     0.8848     11.013     0.0000      8.0102      11.479\n",
      "prime_card     693.12     12.283     56.429     0.0000      669.05      717.19\n",
      "==============================================================================\n"
     ]
    }
   ],
   "source": [
    "# Additional controls (outside square brackets) and instruments (inside square brackets)\n",
    "formula = '''pv ~ 1 \n",
    "+ [prime_card ~ prime_elegible + credit_score]\n",
    "+ income + age'''\n",
    "iv_model = IV2SLS.from_formula(formula, df).fit(cov_type=\"robust\")\n",
    "print(iv_model.summary.tables[0])\n",
    "print(iv_model.summary.tables[1])"
   ]
  },
  {
   "cell_type": "markdown",
   "id": "864597f0-b085-4db0-8da4-fcb9c451ac1d",
   "metadata": {},
   "source": [
    "## Regression discontinuity"
   ]
  },
  {
   "cell_type": "markdown",
   "id": "0ce34ff2-5db6-431b-aef3-67df146078e5",
   "metadata": {},
   "source": [
    "Red receive a treatment blues do not. We want to determine if the jump is significant around the cutoff (we assume that around the cutoff, groups are similar i.e. contrafactuals). That is, we look for LATE (local average treatment effect i.e. effect at threshold in the compliers).\n",
    "\n",
    "<img src=\"img/RegDis4.png\" width=\"600\"/>\n",
    "\n",
    "Examples: \n",
    "* Provide a lower interest rate after an income threshold and check default rates of the clients before and after the cutoff.\n",
    "* Give insurance discounts before and after an age and check a health outcome\n",
    "* Provide worker incentives after a sales cutoff and check productivity\n"
   ]
  },
  {
   "cell_type": "markdown",
   "id": "74d1d9df-b0dc-467c-b53b-001ee4a5ce09",
   "metadata": {},
   "source": [
    "In the next example, after some balance in the account, 5000 USD, the bank client can receive a prime card. We want to see if there is a significant jump in purchasing volume pv at 5000 USD."
   ]
  },
  {
   "cell_type": "code",
   "execution_count": 7,
   "id": "526868b8-f4ae-42b8-ab86-b3ffc8b7adb3",
   "metadata": {},
   "outputs": [
    {
     "data": {
      "text/html": [
       "<div>\n",
       "<style scoped>\n",
       "    .dataframe tbody tr th:only-of-type {\n",
       "        vertical-align: middle;\n",
       "    }\n",
       "\n",
       "    .dataframe tbody tr th {\n",
       "        vertical-align: top;\n",
       "    }\n",
       "\n",
       "    .dataframe thead th {\n",
       "        text-align: right;\n",
       "    }\n",
       "</style>\n",
       "<table border=\"1\" class=\"dataframe\">\n",
       "  <thead>\n",
       "    <tr style=\"text-align: right;\">\n",
       "      <th></th>\n",
       "      <th>balance</th>\n",
       "      <th>prime_card</th>\n",
       "      <th>pv</th>\n",
       "      <th>tau</th>\n",
       "      <th>categ</th>\n",
       "    </tr>\n",
       "  </thead>\n",
       "  <tbody>\n",
       "    <tr>\n",
       "      <th>0</th>\n",
       "      <td>12100.0</td>\n",
       "      <td>1</td>\n",
       "      <td>356.472</td>\n",
       "      <td>300.0</td>\n",
       "      <td>always-takers</td>\n",
       "    </tr>\n",
       "    <tr>\n",
       "      <th>1</th>\n",
       "      <td>4400.0</td>\n",
       "      <td>1</td>\n",
       "      <td>268.172</td>\n",
       "      <td>300.0</td>\n",
       "      <td>always-takers</td>\n",
       "    </tr>\n",
       "    <tr>\n",
       "      <th>2</th>\n",
       "      <td>4600.0</td>\n",
       "      <td>1</td>\n",
       "      <td>668.896</td>\n",
       "      <td>300.0</td>\n",
       "      <td>always-takers</td>\n",
       "    </tr>\n",
       "    <tr>\n",
       "      <th>3</th>\n",
       "      <td>3500.0</td>\n",
       "      <td>1</td>\n",
       "      <td>428.094</td>\n",
       "      <td>300.0</td>\n",
       "      <td>always-takers</td>\n",
       "    </tr>\n",
       "    <tr>\n",
       "      <th>4</th>\n",
       "      <td>12700.0</td>\n",
       "      <td>1</td>\n",
       "      <td>1619.793</td>\n",
       "      <td>700.0</td>\n",
       "      <td>complier</td>\n",
       "    </tr>\n",
       "  </tbody>\n",
       "</table>\n",
       "</div>"
      ],
      "text/plain": [
       "   balance  prime_card        pv    tau          categ\n",
       "0  12100.0           1   356.472  300.0  always-takers\n",
       "1   4400.0           1   268.172  300.0  always-takers\n",
       "2   4600.0           1   668.896  300.0  always-takers\n",
       "3   3500.0           1   428.094  300.0  always-takers\n",
       "4  12700.0           1  1619.793  700.0       complier"
      ]
     },
     "execution_count": 7,
     "metadata": {},
     "output_type": "execute_result"
    }
   ],
   "source": [
    "#Data with discontinuity\n",
    "df_dd = pd.read_csv(\"prime_card_discontinuity.csv\")\n",
    "df_dd.head()"
   ]
  },
  {
   "cell_type": "code",
   "execution_count": 8,
   "id": "9ea43a8f-eea7-40c4-9153-49d0142cbeba",
   "metadata": {},
   "outputs": [
    {
     "data": {
      "text/html": [
       "<table class=\"simpletable\">\n",
       "<caption>OLS Regression Results</caption>\n",
       "<tr>\n",
       "  <th>Dep. Variable:</th>           <td>pv</td>        <th>  R-squared:         </th>  <td>   0.268</td>  \n",
       "</tr>\n",
       "<tr>\n",
       "  <th>Model:</th>                   <td>OLS</td>       <th>  Adj. R-squared:    </th>  <td>   0.268</td>  \n",
       "</tr>\n",
       "<tr>\n",
       "  <th>Method:</th>             <td>Least Squares</td>  <th>  F-statistic:       </th>  <td>   2982.</td>  \n",
       "</tr>\n",
       "<tr>\n",
       "  <th>Date:</th>             <td>Sun, 25 Feb 2024</td> <th>  Prob (F-statistic):</th>   <td>  0.00</td>   \n",
       "</tr>\n",
       "<tr>\n",
       "  <th>Time:</th>                 <td>18:14:43</td>     <th>  Log-Likelihood:    </th> <td>-1.4864e+05</td>\n",
       "</tr>\n",
       "<tr>\n",
       "  <th>No. Observations:</th>      <td> 20000</td>      <th>  AIC:               </th>  <td>2.973e+05</td> \n",
       "</tr>\n",
       "<tr>\n",
       "  <th>Df Residuals:</th>          <td> 19996</td>      <th>  BIC:               </th>  <td>2.973e+05</td> \n",
       "</tr>\n",
       "<tr>\n",
       "  <th>Df Model:</th>              <td>     3</td>      <th>                     </th>      <td> </td>     \n",
       "</tr>\n",
       "<tr>\n",
       "  <th>Covariance Type:</th>         <td>HC3</td>       <th>                     </th>      <td> </td>     \n",
       "</tr>\n",
       "</table>\n",
       "<table class=\"simpletable\">\n",
       "<tr>\n",
       "                 <td></td>                   <th>coef</th>     <th>std err</th>      <th>z</th>      <th>P>|z|</th>  <th>[0.025</th>    <th>0.975]</th>  \n",
       "</tr>\n",
       "<tr>\n",
       "  <th>Intercept</th>                      <td>  559.2980</td> <td>    6.547</td> <td>   85.427</td> <td> 0.000</td> <td>  546.466</td> <td>  572.130</td>\n",
       "</tr>\n",
       "<tr>\n",
       "  <th>I(balance > 0)[T.True]</th>         <td>  261.0699</td> <td>    9.046</td> <td>   28.862</td> <td> 0.000</td> <td>  243.341</td> <td>  278.799</td>\n",
       "</tr>\n",
       "<tr>\n",
       "  <th>balance</th>                        <td>    0.0616</td> <td>    0.004</td> <td>   15.855</td> <td> 0.000</td> <td>    0.054</td> <td>    0.069</td>\n",
       "</tr>\n",
       "<tr>\n",
       "  <th>balance:I(balance > 0)[T.True]</th> <td>   -0.0187</td> <td>    0.004</td> <td>   -4.441</td> <td> 0.000</td> <td>   -0.027</td> <td>   -0.010</td>\n",
       "</tr>\n",
       "</table>\n",
       "<table class=\"simpletable\">\n",
       "<tr>\n",
       "  <th>Omnibus:</th>       <td>679.147</td> <th>  Durbin-Watson:     </th> <td>   2.008</td>\n",
       "</tr>\n",
       "<tr>\n",
       "  <th>Prob(Omnibus):</th> <td> 0.000</td>  <th>  Jarque-Bera (JB):  </th> <td> 372.862</td>\n",
       "</tr>\n",
       "<tr>\n",
       "  <th>Skew:</th>          <td> 0.165</td>  <th>  Prob(JB):          </th> <td>1.08e-81</td>\n",
       "</tr>\n",
       "<tr>\n",
       "  <th>Kurtosis:</th>      <td> 2.418</td>  <th>  Cond. No.          </th> <td>2.00e+04</td>\n",
       "</tr>\n",
       "</table><br/><br/>Notes:<br/>[1] Standard Errors are heteroscedasticity robust (HC3)<br/>[2] The condition number is large,  2e+04. This might indicate that there are<br/>strong multicollinearity or other numerical problems."
      ],
      "text/latex": [
       "\\begin{center}\n",
       "\\begin{tabular}{lclc}\n",
       "\\toprule\n",
       "\\textbf{Dep. Variable:}                   &        pv        & \\textbf{  R-squared:         } &      0.268   \\\\\n",
       "\\textbf{Model:}                           &       OLS        & \\textbf{  Adj. R-squared:    } &      0.268   \\\\\n",
       "\\textbf{Method:}                          &  Least Squares   & \\textbf{  F-statistic:       } &      2982.   \\\\\n",
       "\\textbf{Date:}                            & Sun, 25 Feb 2024 & \\textbf{  Prob (F-statistic):} &      0.00    \\\\\n",
       "\\textbf{Time:}                            &     18:14:43     & \\textbf{  Log-Likelihood:    } & -1.4864e+05  \\\\\n",
       "\\textbf{No. Observations:}                &       20000      & \\textbf{  AIC:               } &  2.973e+05   \\\\\n",
       "\\textbf{Df Residuals:}                    &       19996      & \\textbf{  BIC:               } &  2.973e+05   \\\\\n",
       "\\textbf{Df Model:}                        &           3      & \\textbf{                     } &              \\\\\n",
       "\\textbf{Covariance Type:}                 &       HC3        & \\textbf{                     } &              \\\\\n",
       "\\bottomrule\n",
       "\\end{tabular}\n",
       "\\begin{tabular}{lcccccc}\n",
       "                                          & \\textbf{coef} & \\textbf{std err} & \\textbf{z} & \\textbf{P$> |$z$|$} & \\textbf{[0.025} & \\textbf{0.975]}  \\\\\n",
       "\\midrule\n",
       "\\textbf{Intercept}                        &     559.2980  &        6.547     &    85.427  &         0.000        &      546.466    &      572.130     \\\\\n",
       "\\textbf{I(balance $>$ 0)[T.True]}         &     261.0699  &        9.046     &    28.862  &         0.000        &      243.341    &      278.799     \\\\\n",
       "\\textbf{balance}                          &       0.0616  &        0.004     &    15.855  &         0.000        &        0.054    &        0.069     \\\\\n",
       "\\textbf{balance:I(balance $>$ 0)[T.True]} &      -0.0187  &        0.004     &    -4.441  &         0.000        &       -0.027    &       -0.010     \\\\\n",
       "\\bottomrule\n",
       "\\end{tabular}\n",
       "\\begin{tabular}{lclc}\n",
       "\\textbf{Omnibus:}       & 679.147 & \\textbf{  Durbin-Watson:     } &    2.008  \\\\\n",
       "\\textbf{Prob(Omnibus):} &   0.000 & \\textbf{  Jarque-Bera (JB):  } &  372.862  \\\\\n",
       "\\textbf{Skew:}          &   0.165 & \\textbf{  Prob(JB):          } & 1.08e-81  \\\\\n",
       "\\textbf{Kurtosis:}      &   2.418 & \\textbf{  Cond. No.          } & 2.00e+04  \\\\\n",
       "\\bottomrule\n",
       "\\end{tabular}\n",
       "%\\caption{OLS Regression Results}\n",
       "\\end{center}\n",
       "\n",
       "Notes: \\newline\n",
       " [1] Standard Errors are heteroscedasticity robust (HC3) \\newline\n",
       " [2] The condition number is large,  2e+04. This might indicate that there are \\newline\n",
       " strong multicollinearity or other numerical problems."
      ],
      "text/plain": [
       "<class 'statsmodels.iolib.summary.Summary'>\n",
       "\"\"\"\n",
       "                            OLS Regression Results                            \n",
       "==============================================================================\n",
       "Dep. Variable:                     pv   R-squared:                       0.268\n",
       "Model:                            OLS   Adj. R-squared:                  0.268\n",
       "Method:                 Least Squares   F-statistic:                     2982.\n",
       "Date:                Sun, 25 Feb 2024   Prob (F-statistic):               0.00\n",
       "Time:                        18:14:43   Log-Likelihood:            -1.4864e+05\n",
       "No. Observations:               20000   AIC:                         2.973e+05\n",
       "Df Residuals:                   19996   BIC:                         2.973e+05\n",
       "Df Model:                           3                                         \n",
       "Covariance Type:                  HC3                                         \n",
       "==================================================================================================\n",
       "                                     coef    std err          z      P>|z|      [0.025      0.975]\n",
       "--------------------------------------------------------------------------------------------------\n",
       "Intercept                        559.2980      6.547     85.427      0.000     546.466     572.130\n",
       "I(balance > 0)[T.True]           261.0699      9.046     28.862      0.000     243.341     278.799\n",
       "balance                            0.0616      0.004     15.855      0.000       0.054       0.069\n",
       "balance:I(balance > 0)[T.True]    -0.0187      0.004     -4.441      0.000      -0.027      -0.010\n",
       "==============================================================================\n",
       "Omnibus:                      679.147   Durbin-Watson:                   2.008\n",
       "Prob(Omnibus):                  0.000   Jarque-Bera (JB):              372.862\n",
       "Skew:                           0.165   Prob(JB):                     1.08e-81\n",
       "Kurtosis:                       2.418   Cond. No.                     2.00e+04\n",
       "==============================================================================\n",
       "\n",
       "Notes:\n",
       "[1] Standard Errors are heteroscedasticity robust (HC3)\n",
       "[2] The condition number is large,  2e+04. This might indicate that there are\n",
       "strong multicollinearity or other numerical problems.\n",
       "\"\"\""
      ]
     },
     "execution_count": 8,
     "metadata": {},
     "output_type": "execute_result"
    }
   ],
   "source": [
    "m = smf.ols(f\"pv~balance*I(balance>0)\", #I(balance>0) because we substract 5000 below i.e. zero is 5000\n",
    "            df_dd.assign(balance = lambda d: d[\"balance\"] - 5000)).fit(cov_type=\"HC3\")\n",
    "m.summary() #I(balance>0) estimate tell us if the dep. variable jump is significant"
   ]
  },
  {
   "cell_type": "code",
   "execution_count": 9,
   "id": "3c19c358-0194-409c-b1fa-d3758a404801",
   "metadata": {},
   "outputs": [
    {
     "data": {
      "image/png": "[encoded data removed]",
      "text/plain": [
       "<Figure size 800x400 with 1 Axes>"
      ]
     },
     "metadata": {},
     "output_type": "display_data"
    }
   ],
   "source": [
    "plt_df = df_dd.round({\"balance\": -2}).assign(size=1).groupby(\"balance\").agg({\"pv\":\"mean\", \"size\": \"sum\"}).reset_index()\n",
    "\n",
    "plt.figure(figsize=(8,4))\n",
    "sns.scatterplot(data=plt_df, y=\"pv\", x=\"balance\", size=\"size\", color=\"C5\")\n",
    "plt.plot(plt_df.query(\"balance<5000\")[\"balance\"], m.predict(plt_df.query(\"balance<5000\").assign(balance = lambda d: d[\"balance\"] - 5000)), color=\"C0\", lw=2, label=\"regression\")\n",
    "plt.plot(plt_df.query(\"balance>5000\")[\"balance\"], m.predict(plt_df.query(\"balance>5000\").assign(balance = lambda d: d[\"balance\"] - 5000)), color=\"C0\", lw=2)\n",
    "plt.legend(fontsize=14);"
   ]
  },
  {
   "cell_type": "code",
   "execution_count": 10,
   "id": "d45a8b81-e0e1-4fa7-b7a4-4e6965d3acc8",
   "metadata": {},
   "outputs": [
    {
     "name": "stdout",
     "output_type": "stream",
     "text": [
      "LATE is local average treatment effect i.e. effect for COMPLIERS at threshold \n",
      "Estimated LATE of prime_card on pv:\n",
      " 732.8534752298918 \n",
      "Real effect (we know it because it is a pedagogical / simulated exercise):\n",
      " 700.0\n"
     ]
    }
   ],
   "source": [
    "def rdd_iv(data, y, t, r, cutoff):\n",
    "    \n",
    "    centered_df = data.assign(**{r: data[r]-cutoff})\n",
    "    \n",
    "    compliance = smf.ols(f\"{t}~{r}*I({r}>0)\", centered_df).fit()\n",
    "    itte = smf.ols(f\"{y}~{r}*I({r}>0)\", centered_df).fit() #intention to treat effect\n",
    "    \n",
    "    param = f\"I({r} > 0)[T.True]\"\n",
    "    #The return is the formula of the LATE (local average treatment effect i.e. effect for COMPLIERS at threshold)\n",
    "    #It is the itte divided by proportion of compliers. \n",
    "    #If % of compliers is 1, LATE is the jump.\n",
    "    #If % of compliers is 0.5, the LATE is two times the jump: itte/(1/2) = 2*itte\n",
    "    #The latter is unintuitive but there is a proof. \n",
    "    #And it makes sense. To observe a fixed jump, and say only half complied,\n",
    "    #then that jump, on average, came from only half the sample, the other half\n",
    "    #in the itte contributed zero on average, so the compliers contributed twice the mean value\n",
    "    #to get the observed itte (remember the itte includes non-compliers i.e. intention to treat)\n",
    "    return itte.params[param]/compliance.params[param] \n",
    "\n",
    "\n",
    "print(\"LATE is local average treatment effect i.e. effect for COMPLIERS at threshold\",\n",
    "      \"\\nEstimated LATE of prime_card on pv:\\n\",\n",
    "      rdd_iv(df_dd, y=\"pv\", t=\"prime_card\", r=\"balance\", cutoff=5000),\n",
    "     \"\\nReal effect (we know it because it is a pedagogical / simulated exercise):\\n\",\n",
    "     (df_dd\n",
    "      .round({\"balance\":-2}) # round to nearest hundred\n",
    "      .query(\"balance==5000 & categ=='complier'\")[\"tau\"].mean()))"
   ]
  },
  {
   "cell_type": "markdown",
   "id": "8c292bfe-af91-4278-a162-30afc33a5dff",
   "metadata": {},
   "source": [
    "## Differences in Differences\n",
    "\n",
    "<img src=\"img/DandD.png\" width=\"400\"/>\n"
   ]
  },
  {
   "cell_type": "markdown",
   "id": "23846791-a01e-493b-9bd1-221e79d3633a",
   "metadata": {},
   "source": [
    "Yes parallel trends\n",
    "\n",
    "<img src=\"img/DandD2.png\" width=\"400\"/>\n",
    "\n",
    "No parallel trends\n",
    "\n",
    "<img src=\"img/DandD4.png\" width=\"400\"/>"
   ]
  },
  {
   "cell_type": "markdown",
   "id": "75ac9bf7-e7dc-4cea-b9ac-a2d3836abc6c",
   "metadata": {},
   "source": [
    "Assumptions:\n",
    "\n",
    "* No anticipation\n",
    "* Strict exogeneity (parallel trends)\n",
    "* No time varying confounders (it is doable, but other course)\n",
    "* No feedback (past outcome don’t affect current treatment)\n",
    "* No carryover and no lagged dependent variable (past treatment don’t affect current outcome)"
   ]
  },
  {
   "cell_type": "markdown",
   "id": "7d09014d-82e1-493f-b2d3-5b29d7106fa0",
   "metadata": {},
   "source": [
    "Marketing campaign: Billboards \n",
    "\n",
    "Question: Are billboards effective in increasing app downloads?\n",
    "\n",
    "Design: Billboards in some regions, nothing in others.\n",
    "\n",
    "Data: panel (regions measured repeatedly at various times)\n"
   ]
  },
  {
   "cell_type": "code",
   "execution_count": 12,
   "id": "27c47018-c702-4d2a-bbf3-e98a01d66b8e",
   "metadata": {},
   "outputs": [
    {
     "data": {
      "text/html": [
       "<div>\n",
       "<style scoped>\n",
       "    .dataframe tbody tr th:only-of-type {\n",
       "        vertical-align: middle;\n",
       "    }\n",
       "\n",
       "    .dataframe tbody tr th {\n",
       "        vertical-align: top;\n",
       "    }\n",
       "\n",
       "    .dataframe thead th {\n",
       "        text-align: right;\n",
       "    }\n",
       "</style>\n",
       "<table border=\"1\" class=\"dataframe\">\n",
       "  <thead>\n",
       "    <tr style=\"text-align: right;\">\n",
       "      <th></th>\n",
       "      <th>date</th>\n",
       "      <th>city</th>\n",
       "      <th>region</th>\n",
       "      <th>treated</th>\n",
       "      <th>tau</th>\n",
       "      <th>downloads</th>\n",
       "      <th>post</th>\n",
       "    </tr>\n",
       "  </thead>\n",
       "  <tbody>\n",
       "    <tr>\n",
       "      <th>0</th>\n",
       "      <td>2021-05-01</td>\n",
       "      <td>5</td>\n",
       "      <td>S</td>\n",
       "      <td>0</td>\n",
       "      <td>0.0</td>\n",
       "      <td>51.0</td>\n",
       "      <td>0</td>\n",
       "    </tr>\n",
       "    <tr>\n",
       "      <th>1</th>\n",
       "      <td>2021-05-02</td>\n",
       "      <td>5</td>\n",
       "      <td>S</td>\n",
       "      <td>0</td>\n",
       "      <td>0.0</td>\n",
       "      <td>51.0</td>\n",
       "      <td>0</td>\n",
       "    </tr>\n",
       "    <tr>\n",
       "      <th>2</th>\n",
       "      <td>2021-05-03</td>\n",
       "      <td>5</td>\n",
       "      <td>S</td>\n",
       "      <td>0</td>\n",
       "      <td>0.0</td>\n",
       "      <td>51.0</td>\n",
       "      <td>0</td>\n",
       "    </tr>\n",
       "    <tr>\n",
       "      <th>3</th>\n",
       "      <td>2021-05-04</td>\n",
       "      <td>5</td>\n",
       "      <td>S</td>\n",
       "      <td>0</td>\n",
       "      <td>0.0</td>\n",
       "      <td>50.0</td>\n",
       "      <td>0</td>\n",
       "    </tr>\n",
       "    <tr>\n",
       "      <th>4</th>\n",
       "      <td>2021-05-05</td>\n",
       "      <td>5</td>\n",
       "      <td>S</td>\n",
       "      <td>0</td>\n",
       "      <td>0.0</td>\n",
       "      <td>49.0</td>\n",
       "      <td>0</td>\n",
       "    </tr>\n",
       "  </tbody>\n",
       "</table>\n",
       "</div>"
      ],
      "text/plain": [
       "        date  city region  treated  tau  downloads  post\n",
       "0 2021-05-01     5      S        0  0.0       51.0     0\n",
       "1 2021-05-02     5      S        0  0.0       51.0     0\n",
       "2 2021-05-03     5      S        0  0.0       51.0     0\n",
       "3 2021-05-04     5      S        0  0.0       50.0     0\n",
       "4 2021-05-05     5      S        0  0.0       49.0     0"
      ]
     },
     "execution_count": 12,
     "metadata": {},
     "output_type": "execute_result"
    }
   ],
   "source": [
    "mkt_data = (pd.read_csv(\"short_offline_mkt_south.csv\")\n",
    "            .astype({\"date\":\"datetime64[ns]\"}))\n",
    "\n",
    "mkt_data.head() "
   ]
  },
  {
   "cell_type": "code",
   "execution_count": 14,
   "id": "350f1896-1e16-40f5-8157-5c615a5ad20f",
   "metadata": {},
   "outputs": [
    {
     "name": "stdout",
     "output_type": "stream",
     "text": [
      "w: 0 pre control; 1 post treat\n"
     ]
    },
    {
     "data": {
      "text/html": [
       "<div>\n",
       "<style scoped>\n",
       "    .dataframe tbody tr th:only-of-type {\n",
       "        vertical-align: middle;\n",
       "    }\n",
       "\n",
       "    .dataframe tbody tr th {\n",
       "        vertical-align: top;\n",
       "    }\n",
       "\n",
       "    .dataframe thead tr th {\n",
       "        text-align: left;\n",
       "    }\n",
       "\n",
       "    .dataframe thead tr:last-of-type th {\n",
       "        text-align: right;\n",
       "    }\n",
       "</style>\n",
       "<table border=\"1\" class=\"dataframe\">\n",
       "  <thead>\n",
       "    <tr>\n",
       "      <th></th>\n",
       "      <th colspan=\"2\" halign=\"left\">date</th>\n",
       "    </tr>\n",
       "    <tr>\n",
       "      <th></th>\n",
       "      <th>min</th>\n",
       "      <th>max</th>\n",
       "    </tr>\n",
       "    <tr>\n",
       "      <th>w</th>\n",
       "      <th></th>\n",
       "      <th></th>\n",
       "    </tr>\n",
       "  </thead>\n",
       "  <tbody>\n",
       "    <tr>\n",
       "      <th>0</th>\n",
       "      <td>2021-05-01</td>\n",
       "      <td>2021-06-01</td>\n",
       "    </tr>\n",
       "    <tr>\n",
       "      <th>1</th>\n",
       "      <td>2021-05-15</td>\n",
       "      <td>2021-06-01</td>\n",
       "    </tr>\n",
       "  </tbody>\n",
       "</table>\n",
       "</div>"
      ],
      "text/plain": [
       "        date           \n",
       "         min        max\n",
       "w                      \n",
       "0 2021-05-01 2021-06-01\n",
       "1 2021-05-15 2021-06-01"
      ]
     },
     "execution_count": 14,
     "metadata": {},
     "output_type": "execute_result"
    }
   ],
   "source": [
    "print(\"w: 0 pre control; 1 post treat\")\n",
    "print(\"pre-intervention period: 2021-05-01 to 2021-05-15\")\n",
    "print(\"post-intervention period: 2021-05-15 to 2021-06-01\")\n",
    "(mkt_data\n",
    "         .assign(w = lambda d: d[\"treated\"]*d[\"post\"])\n",
    "         .groupby([\"w\"])\n",
    "         .agg({\"date\":[min, max]}))"
   ]
  },
  {
   "cell_type": "code",
   "execution_count": 22,
   "id": "d919e1a9-aa34-4b24-89ee-ce3082a7042e",
   "metadata": {},
   "outputs": [
    {
     "name": "stdout",
     "output_type": "stream",
     "text": [
      "MultiIndex([(0, 0),\n",
      "            (0, 1),\n",
      "            (1, 0),\n",
      "            (1, 1)],\n",
      "           names=['treated', 'post'])\n",
      "The downloads effect seems stronger in treatment: \n"
     ]
    },
    {
     "data": {
      "text/plain": [
       "0.692"
      ]
     },
     "execution_count": 22,
     "metadata": {},
     "output_type": "execute_result"
    }
   ],
   "source": [
    "#Raw diff in diff\n",
    "did_data = (mkt_data\n",
    "            .groupby([\"treated\", \"post\"])\n",
    "            .agg({\"downloads\":\"mean\", \"date\": \"min\"}))\n",
    "print(did_data.index)\n",
    "control_pre = did_data.loc[(0,0),\"downloads\"]\n",
    "control_post = did_data.loc[(0,1),\"downloads\"]\n",
    "treat_pre = did_data.loc[(1,0),\"downloads\"]\n",
    "treat_post = did_data.loc[(1,1),\"downloads\"]\n",
    "print(\"The downloads average treatment effect seems stronger in treatment: \")\n",
    "np.round((treat_post-treat_pre) - (control_post - control_pre), 3)"
   ]
  },
  {
   "cell_type": "code",
   "execution_count": 23,
   "id": "d3828f15-2784-43e3-9196-777a33236cd0",
   "metadata": {},
   "outputs": [
    {
     "data": {
      "text/html": [
       "<div>\n",
       "<style scoped>\n",
       "    .dataframe tbody tr th:only-of-type {\n",
       "        vertical-align: middle;\n",
       "    }\n",
       "\n",
       "    .dataframe tbody tr th {\n",
       "        vertical-align: top;\n",
       "    }\n",
       "\n",
       "    .dataframe thead th {\n",
       "        text-align: right;\n",
       "    }\n",
       "</style>\n",
       "<table border=\"1\" class=\"dataframe\">\n",
       "  <thead>\n",
       "    <tr style=\"text-align: right;\">\n",
       "      <th></th>\n",
       "      <th>city</th>\n",
       "      <th>post</th>\n",
       "      <th>downloads</th>\n",
       "      <th>date</th>\n",
       "      <th>treated</th>\n",
       "    </tr>\n",
       "  </thead>\n",
       "  <tbody>\n",
       "    <tr>\n",
       "      <th>0</th>\n",
       "      <td>5</td>\n",
       "      <td>0</td>\n",
       "      <td>50.642857</td>\n",
       "      <td>2021-05-01</td>\n",
       "      <td>0</td>\n",
       "    </tr>\n",
       "    <tr>\n",
       "      <th>1</th>\n",
       "      <td>5</td>\n",
       "      <td>1</td>\n",
       "      <td>50.166667</td>\n",
       "      <td>2021-05-15</td>\n",
       "      <td>0</td>\n",
       "    </tr>\n",
       "    <tr>\n",
       "      <th>2</th>\n",
       "      <td>15</td>\n",
       "      <td>0</td>\n",
       "      <td>49.142857</td>\n",
       "      <td>2021-05-01</td>\n",
       "      <td>0</td>\n",
       "    </tr>\n",
       "    <tr>\n",
       "      <th>3</th>\n",
       "      <td>15</td>\n",
       "      <td>1</td>\n",
       "      <td>49.166667</td>\n",
       "      <td>2021-05-15</td>\n",
       "      <td>0</td>\n",
       "    </tr>\n",
       "    <tr>\n",
       "      <th>4</th>\n",
       "      <td>20</td>\n",
       "      <td>0</td>\n",
       "      <td>48.785714</td>\n",
       "      <td>2021-05-01</td>\n",
       "      <td>0</td>\n",
       "    </tr>\n",
       "  </tbody>\n",
       "</table>\n",
       "</div>"
      ],
      "text/plain": [
       "   city  post  downloads       date  treated\n",
       "0     5     0  50.642857 2021-05-01        0\n",
       "1     5     1  50.166667 2021-05-15        0\n",
       "2    15     0  49.142857 2021-05-01        0\n",
       "3    15     1  49.166667 2021-05-15        0\n",
       "4    20     0  48.785714 2021-05-01        0"
      ]
     },
     "execution_count": 23,
     "metadata": {},
     "output_type": "execute_result"
    }
   ],
   "source": [
    "#With OLS\n",
    "did_data = (mkt_data\n",
    "            .groupby([\"city\", \"post\"])\n",
    "            .agg({\"downloads\":\"mean\", \"date\": \"min\", \"treated\": \"max\"})\n",
    "            .reset_index())\n",
    "\n",
    "did_data.head()"
   ]
  },
  {
   "cell_type": "code",
   "execution_count": 29,
   "id": "59bea1d6-16aa-4195-a140-5da8a9976e5c",
   "metadata": {},
   "outputs": [
    {
     "data": {
      "text/plain": [
       "0.6917359536407071"
      ]
     },
     "execution_count": 29,
     "metadata": {},
     "output_type": "execute_result"
    }
   ],
   "source": [
    "#The interaction is the diff in diff\n",
    "smf.ols('downloads ~ treated*post', data=did_data).fit().params[\"treated:post\"]"
   ]
  },
  {
   "cell_type": "code",
   "execution_count": 28,
   "id": "1a7a35c8-4ec3-4cf2-80c3-549fccec94c3",
   "metadata": {},
   "outputs": [
    {
     "data": {
      "text/plain": [
       "0.691735953640718"
      ]
     },
     "execution_count": 28,
     "metadata": {},
     "output_type": "execute_result"
    }
   ],
   "source": [
    "#Now with fixed effects\n",
    "m = smf.ols('downloads ~ treated:post + C(city) + C(post)',\n",
    "            data=did_data).fit()\n",
    "\n",
    "m.params[\"treated:post\"]"
   ]
  },
  {
   "cell_type": "code",
   "execution_count": 37,
   "id": "3d1453cb-17dc-43eb-871b-5a48319fdc11",
   "metadata": {},
   "outputs": [
    {
     "data": {
      "image/png": "[encoded data removed]",
      "text/plain": [
       "<Figure size 600x400 with 1 Axes>"
      ]
     },
     "metadata": {},
     "output_type": "display_data"
    }
   ],
   "source": [
    "fig, (ax1) = plt.subplots(1,1, figsize=(6, 4), sharex=True)\n",
    "sns.lineplot(data=mkt_data.astype({\"date\":\"str\"}),\n",
    "             x=\"date\", y=\"downloads\", hue=\"treated\", ax=ax1)\n",
    "\n",
    "loc = plticker.MultipleLocator(base=2.0)\n",
    "ax1.vlines(\"2021-05-15\", mkt_data[\"downloads\"].min(),\n",
    "           mkt_data[\"downloads\"].max(), color=\"black\", ls=\"dashed\", label=\"Interv.\")\n",
    "ax1.set_title(\"Outcome Over Time\\nparallel trends pre treatment?\")\n",
    "\n",
    "plt.xticks(rotation = 50);"
   ]
  },
  {
   "cell_type": "code",
   "execution_count": 41,
   "id": "eb8aa1c4-456c-4957-af84-f351d50681c2",
   "metadata": {},
   "outputs": [
    {
     "name": "stdout",
     "output_type": "stream",
     "text": [
      "ATT: 0.691735953640718\n",
      "0    0.138188\n",
      "1    1.245284\n",
      "Name: treated:post, dtype: float64\n",
      "\n",
      "cities\n"
     ]
    },
    {
     "data": {
      "text/plain": [
       "array([  5,  15,  20,  22,  28,  29,  30,  31,  36,  39,  41,  43,  47,\n",
       "        48,  49,  58,  59,  63,  71,  76,  78,  83,  87,  99, 100, 102,\n",
       "       107, 110, 111, 127, 137, 146, 151, 153, 159, 163, 168, 173, 175,\n",
       "       177, 179, 183, 186, 187, 189, 190, 192, 193, 195, 196, 197],\n",
       "      dtype=int64)"
      ]
     },
     "execution_count": 41,
     "metadata": {},
     "output_type": "execute_result"
    }
   ],
   "source": [
    "#Now with clustered standard errors i.e. estimate uncertainty depends on the city\n",
    "m = smf.ols(\n",
    "    'downloads ~ treated:post + C(city) + C(date)', data=did_data\n",
    ").fit(cov_type='cluster', cov_kwds={'groups': did_data['city']})\n",
    "\n",
    "print(\"ATT:\", m.params[\"treated:post\"])\n",
    "print(m.conf_int().loc[\"treated:post\"])\n",
    "print(\"\\ncities\")\n",
    "did_data.city.unique()\n"
   ]
  },
  {
   "cell_type": "markdown",
   "id": "19d8f559-6593-4c51-8553-ffd96a7006ef",
   "metadata": {},
   "source": [
    "# Bayesian Causal Regressions\n",
    "https://www.pymc-labs.com/blog-posts/causal-analysis-with-pymc-answering-what-if-with-the-new-do-operator/\n",
    "\n",
    "https://causalpy.readthedocs.io/"
   ]
  },
  {
   "cell_type": "code",
   "execution_count": null,
   "id": "192636d3-a28b-4f3e-b98b-dfaae2feab94",
   "metadata": {},
   "outputs": [],
   "source": [
    "\n",
    "\n"
   ]
  },
  {
   "cell_type": "code",
   "execution_count": null,
   "id": "8e2cbed1-39bc-4708-a98d-acd914091aad",
   "metadata": {},
   "outputs": [],
   "source": []
  }
 ],
 "metadata": {
  "kernelspec": {
   "display_name": "Python 3 (ipykernel)",
   "language": "python",
   "name": "python3"
  },
  "language_info": {
   "codemirror_mode": {
    "name": "ipython",
    "version": 3
   },
   "file_extension": ".py",
   "mimetype": "text/x-python",
   "name": "python",
   "nbconvert_exporter": "python",
   "pygments_lexer": "ipython3",
   "version": "3.11.7"
  }
 },
 "nbformat": 4,
 "nbformat_minor": 5
}
