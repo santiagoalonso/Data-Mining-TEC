{
 "cells": [
  {
   "cell_type": "code",
   "execution_count": 296,
   "id": "d0913d01",
   "metadata": {},
   "outputs": [],
   "source": [
    "#Arrays and containers\n",
    "import numpy as np\n",
    "import pandas as pd\n",
    "\n",
    "#Plotting\n",
    "import matplotlib.pyplot as plt\n",
    "from matplotlib.gridspec import GridSpec\n",
    "import seaborn as sns\n",
    "import plotnine as p9\n",
    "from plotnine import ggplot, aes, coord_flip, geom_point, geom_line, geom_col, geom_linerange, geom_errorbarh\n",
    "from plotnine import geom_density, geom_histogram, geom_bar, scale_x_reverse, scale_y_reverse, facet_grid"
   ]
  },
  {
   "cell_type": "code",
   "execution_count": 2,
   "id": "3f523ef4",
   "metadata": {},
   "outputs": [],
   "source": [
    "def annotate_axes(fig):\n",
    "    for i, ax in enumerate(fig.axes):\n",
    "        ax.text(0.5, 0.5, \"ax%d\" % (i+1), va=\"center\", ha=\"center\")\n",
    "        ax.tick_params(labelbottom=False, labelleft=False)\n"
   ]
  },
  {
   "cell_type": "markdown",
   "id": "ebbe20a7",
   "metadata": {},
   "source": [
    "# Matplotlib\n",
    "\n",
    "[Based on lectures.scientific-python.org](https://lectures.scientific-python.org/intro/matplotlib)\n",
    "[... and Matplotlib documentations](https://matplotlib.org/)\n"
   ]
  },
  {
   "cell_type": "markdown",
   "id": "ee77bf0b",
   "metadata": {},
   "source": [
    "## Basic"
   ]
  },
  {
   "cell_type": "code",
   "execution_count": null,
   "id": "f121c885",
   "metadata": {},
   "outputs": [],
   "source": [
    "X = np.linspace(-np.pi, np.pi, 256)\n",
    "C, S = np.cos(X), np.sin(X)\n",
    "plt.plot(X, C, label = 'Cosine($\\\\theta$)') #We can use latex expressions surrounded by money signs ($) \n",
    "plt.plot(X, S, label = 'Sine($\\\\theta$)')\n",
    "plt.legend(loc='upper left')\n",
    "plt.title(\"My basic plot\")\n",
    "plt.xlabel(\"Radians $\\\\theta$\") \n",
    "plt.ylabel(\"Value trig. function\");\n",
    "\n",
    "plt.show()\n",
    "\n"
   ]
  },
  {
   "cell_type": "code",
   "execution_count": null,
   "id": "2674a8f4",
   "metadata": {},
   "outputs": [],
   "source": [
    "#Costumize\n",
    "# Create a figure of size 8x6 inches, 80 dots per inch\n",
    "plt.figure(figsize=(8, 6), dpi=80)\n",
    "\n",
    "# Create a new subplot from a grid of 1x1\n",
    "plt.subplot(1, 1, 1)\n",
    "\n",
    "X = np.linspace(-np.pi, np.pi, 256)\n",
    "C, S = np.cos(X), np.sin(X)\n",
    "\n",
    "# Plot cosine with a blue dashed line of width 4 (pixels)\n",
    "plt.plot(X, C, color=\"blue\", linewidth=4.0, linestyle=\"--\")\n",
    "\n",
    "# Plot sine with a green continuous line of width 1 (pixels)\n",
    "plt.plot(X, S, color=\"green\", linewidth=1.0, linestyle=\"-\")\n",
    "\n",
    "# Set x limits\n",
    "plt.xlim(-4.0, 4.0)\n",
    "\n",
    "# Set x ticks\n",
    "plt.xticks(np.linspace(-4, 4, 9))\n",
    "\n",
    "# Set y limits\n",
    "plt.ylim(-1, 1.05)\n",
    "\n",
    "# Set y ticks\n",
    "plt.yticks([-1, 0, +1], [r'$-1$', r'$0$', r'$+1$']) #You can change the position and labels of the ticks\n",
    "\n",
    "\n",
    "#Change splines\n",
    "# By default, spines are the lines surrounding the figure. \n",
    "# We can move them. Comment this and the lines below in or out to check the behavior.\n",
    "ax = plt.gca()  # gca stands for 'get current axis' i.e. the figure currently active\n",
    "ax.spines['right'].set_color('none') \n",
    "ax.spines['top'].set_color('none')\n",
    "ax.xaxis.set_ticks_position('bottom')\n",
    "ax.spines['bottom'].set_position(('data',0))\n",
    "ax.yaxis.set_ticks_position('left')\n",
    "ax.spines['left'].set_position(('data',0))\n",
    "\n",
    "#Annotate\n",
    "t = 2 * np.pi / 3\n",
    "plt.plot([t, t], [0, np.cos(t)], color='blue', linewidth=2.5, linestyle=\"--\")\n",
    "plt.scatter([t, ], [np.cos(t), ], 50, color='blue')\n",
    "\n",
    "plt.annotate(r'$cos(\\frac{2\\pi}{3})=-\\frac{1}{2}$',\n",
    "             xy=(t, np.cos(t)), xycoords='data',\n",
    "             xytext=(-90, -50), textcoords='offset points', fontsize=16,\n",
    "             arrowprops=dict(arrowstyle=\"->\", connectionstyle=\"arc3,rad=.2\"))\n",
    "\n",
    "plt.plot([t, t],[0, np.sin(t)], color='red', linewidth=2.5, linestyle=\"--\")\n",
    "plt.scatter([t, ],[np.sin(t), ], 50, color='red')\n",
    "\n",
    "plt.annotate(r'$sin(\\frac{2\\pi}{3})=\\frac{\\sqrt{3}}{2}$',\n",
    "             xy=(t, np.sin(t)), xycoords='data',\n",
    "             xytext=(+10, +30), textcoords='offset points', fontsize=16,\n",
    "             arrowprops=dict(arrowstyle=\"->\", connectionstyle=\"arc3,rad=.2\"))\n",
    "\n",
    "\n",
    "# Save figure using 72 dots per inch\n",
    "# plt.savefig(\"exercise_2.png\", dpi=72)\n",
    "\n",
    "# Show result on screen\n",
    "plt.show()"
   ]
  },
  {
   "cell_type": "markdown",
   "id": "6cb2a2a7",
   "metadata": {},
   "source": [
    "## Subplots"
   ]
  },
  {
   "cell_type": "code",
   "execution_count": null,
   "id": "941556d0",
   "metadata": {},
   "outputs": [],
   "source": [
    "fig = plt.figure()\n",
    "fig.suptitle(\"Controlling subplot sizes with width_ratios and height_ratios\") #sizes can be controlled manually, check https://matplotlib.org/stable/gallery/userdemo/demo_gridspec03.html#gridspec-demo\n",
    "\n",
    "gs = GridSpec(2, 2, width_ratios=[1, 2], height_ratios=[4, 1]) #creates the specifications of grid to put plots. \n",
    "ax1 = fig.add_subplot(gs[0]) #this executes the grid specifications\n",
    "ax2 = fig.add_subplot(gs[1])\n",
    "ax3 = fig.add_subplot(gs[2])\n",
    "ax4 = fig.add_subplot(gs[3])\n",
    "\n",
    "#annotate_axes(fig)\n",
    "x = np.linspace(0,10)\n",
    "y = x\n",
    "ax1.plot(x,y, color = 'green');\n",
    "x = np.linspace(0,10)\n",
    "y = x**2\n",
    "ax4.plot(x,y, color = 'red');\n",
    "ax4.set_ylim(0,50) #some axis routines have a different syntax (i.e. not .ylim)"
   ]
  },
  {
   "cell_type": "markdown",
   "id": "e230266d",
   "metadata": {},
   "source": [
    "## Exercise (load + clean + bar plot)\n",
    "### First matplotlib plot\n",
    "\n",
    "1) Load movies.csv and name it \"movies\" \n",
    "2) Print movies head\n",
    "3) Print movies variable types\n",
    "4) Print movies dimensions with the routine .shape\n",
    "4) Clean the variable Weekend gross. Drop from each entry the sign '$' and transform the string values to integer values. Use a for loop and the routine split.\n",
    "5) Print movies variable types again\n",
    "6) With matplotlib, plot an horizontal barplot. Name the axis and write the units. \n",
    "7) Save the figure as png and pdf."
   ]
  },
  {
   "cell_type": "markdown",
   "id": "2ee88ca0",
   "metadata": {},
   "source": [
    "## Exercise (load + clean + horizontally stacked bar plot)\n",
    "### A simple plot can be hard in matplotlib\n",
    "\n",
    "1) Load income_by_age.csv and name it income_age\n",
    "2) Erase the column \"year\" from the database\n",
    "3) Print income_age head\n",
    "4) Print income_age variable types\n",
    "5) Print income_age dimensions with the routine .shape\n",
    "6) Go from a long format to a wide format. Use the routine .pivot. Place the resulting table in a new variable called age_race. Print it.\n",
    "7) Reset the index with the routine .reset_index(inplace=True). Print age_race again\n",
    "8) With matplotlib, plot horizontal stacked bars. That is, do in the same figure a barplot of the median income for each age (x-axis) and race.  \n",
    "One way to do it:  \n",
    "[matplotlib horizontal stacked bars](https://matplotlib.org/stable/gallery/lines_bars_and_markers/barchart.html)\n",
    "\n",
    "\n",
    "\n"
   ]
  },
  {
   "cell_type": "markdown",
   "id": "0d26d897",
   "metadata": {},
   "source": [
    "# Seaborn = Matplotlib + Pandas + Stats\n",
    "\n",
    "[Based on seaborn docs](https://seaborn.pydata.org/tutorial)"
   ]
  },
  {
   "cell_type": "code",
   "execution_count": null,
   "id": "6d0bcc76",
   "metadata": {},
   "outputs": [],
   "source": [
    "#The same horizontally stacked bars are easier in other more expressive packages.\n",
    "#Seaborn is an excellent alternative\n",
    "file = \"Claus_Wilke_Book_Fund_Data_Viz/data/csv_files/income_by_age.csv\"\n",
    "income_age = pd.read_csv(file)\n",
    "plt.figure(figsize=(10,5))\n",
    "sns.barplot(income_age, x=\"age\", y=\"median_income\", hue=\"race\") \n",
    "plt.xlabel('Age')\n",
    "plt.ylabel('Median income')\n",
    "plt.ylim(0,105000);"
   ]
  },
  {
   "cell_type": "code",
   "execution_count": null,
   "id": "65197093",
   "metadata": {},
   "outputs": [],
   "source": [
    "# Apply the default theme\n",
    "sns.set_theme()\n",
    "\n",
    "# Load an example dataset\n",
    "tips = pd.read_csv(\"tips.csv\")\n",
    "print(tips)\n",
    "\n",
    "# Create a visualization\n",
    "sns.relplot( #plot type\n",
    "    data=tips, #data to use\n",
    "    x=\"total_bill\", y=\"tip\", col=\"time\", #col is for column; so two columns: Dinner and Lunch\n",
    "    hue=\"smoker\", style=\"smoker\", size=\"size\", \n",
    ");"
   ]
  },
  {
   "cell_type": "code",
   "execution_count": null,
   "id": "cbd6e79e",
   "metadata": {},
   "outputs": [],
   "source": [
    "#Seaborn can visualize standard stats, like OLS (do not expect the coeficients and stuff; that later)\n",
    "sns.lmplot(data=tips, x=\"total_bill\", y=\"tip\", col=\"time\", hue=\"smoker\");"
   ]
  },
  {
   "cell_type": "code",
   "execution_count": null,
   "id": "9d4885bc",
   "metadata": {},
   "outputs": [],
   "source": [
    "sns.displot(data=tips, x=\"total_bill\", col=\"time\", kde=True);"
   ]
  },
  {
   "cell_type": "code",
   "execution_count": null,
   "id": "b96faa24",
   "metadata": {},
   "outputs": [],
   "source": [
    "sns.displot(data=tips, kind=\"ecdf\", x=\"total_bill\", col=\"time\", hue=\"smoker\", rug=True);"
   ]
  },
  {
   "cell_type": "code",
   "execution_count": null,
   "id": "82e4cd6d",
   "metadata": {},
   "outputs": [],
   "source": [
    "sns.catplot(data=tips, kind=\"swarm\", x=\"day\", y=\"total_bill\", hue=\"smoker\");"
   ]
  },
  {
   "cell_type": "code",
   "execution_count": null,
   "id": "b356cc5a",
   "metadata": {},
   "outputs": [],
   "source": [
    "sns.catplot(data=tips, kind=\"violin\", x=\"day\", y=\"total_bill\", hue=\"smoker\", split=True);"
   ]
  },
  {
   "cell_type": "code",
   "execution_count": null,
   "id": "fc767af5",
   "metadata": {},
   "outputs": [],
   "source": [
    "sns.catplot(data=tips, kind=\"bar\", x=\"day\", y=\"total_bill\", hue=\"smoker\");"
   ]
  },
  {
   "cell_type": "code",
   "execution_count": null,
   "id": "d30cc26f",
   "metadata": {},
   "outputs": [],
   "source": [
    "sns.jointplot(data=tips, x=\"total_bill\", y=\"tip\", hue=\"smoker\");"
   ]
  },
  {
   "cell_type": "code",
   "execution_count": null,
   "id": "9ed610df",
   "metadata": {},
   "outputs": [],
   "source": [
    "sns.pairplot(data=tips, hue=\"smoker\");"
   ]
  },
  {
   "cell_type": "code",
   "execution_count": null,
   "id": "3402186d",
   "metadata": {},
   "outputs": [],
   "source": [
    "g = sns.PairGrid(tips, hue=\"smoker\", corner=True) #put the info in an object\n",
    "g.map_lower(sns.kdeplot, hue=None, levels=5, color=\".2\")\n",
    "g.map_lower(sns.scatterplot, marker=\"+\")\n",
    "g.map_diag(sns.histplot, element=\"step\", linewidth=0, kde=True)\n",
    "g.add_legend(frameon=True)\n",
    "g.legend.set_bbox_to_anchor((.61, .6))"
   ]
  },
  {
   "cell_type": "markdown",
   "id": "46dafc62",
   "metadata": {},
   "source": [
    "<img src=\"plot_types_seaborn.png\">"
   ]
  },
  {
   "cell_type": "markdown",
   "id": "8b899b84",
   "metadata": {},
   "source": [
    "## Exercise (load + clean + heatmap)\n",
    "Elaborated charts with relatively few lines of code\n",
    "\n",
    "1) Load the data set Internet_user.csv and put it in a variable called Internet\n",
    "2) print the name of the columns of Internet\n",
    "3) print the dimensions of Internet with the routine .shape\n",
    "4) Make a new data called Internet_R with only these countries:\n",
    "  Iceland, Norway, Japan, France, United States, Mexico, Argentina, Colombia, Kenya, China.\n",
    "  Use the routine filter. Important: the parameter items in filter only works on names of rows or columns. Thus, temporarily, make the country code the index, and then use .reset_index(drop=True)\n",
    "5) Print Internet_R head and confirm it has the same number of rows and the countries you asked for.\n",
    "6) Make a new reduced data called Internet_hm, with only the years i.e. drop the remaining columns\n",
    "7) Rename the index of Internet_hm with the country names\n",
    "8) Rename the axis of Internet_hm with the routine .rename_axis(). Call the columns axis year; the index axis country\n",
    "8) Make a heatmap with seaborn with Internet_hm. Save the figure as png and pdf."
   ]
  },
  {
   "cell_type": "markdown",
   "id": "2a80e4c0",
   "metadata": {},
   "source": [
    "# Grammar of graphics"
   ]
  },
  {
   "cell_type": "markdown",
   "id": "ba43a6c1",
   "metadata": {},
   "source": [
    "### ggplot \n",
    "As implemented in P9"
   ]
  },
  {
   "cell_type": "code",
   "execution_count": 3,
   "id": "abb5fdd1",
   "metadata": {},
   "outputs": [
    {
     "data": {
      "text/html": [
       "<div>\n",
       "<style scoped>\n",
       "    .dataframe tbody tr th:only-of-type {\n",
       "        vertical-align: middle;\n",
       "    }\n",
       "\n",
       "    .dataframe tbody tr th {\n",
       "        vertical-align: top;\n",
       "    }\n",
       "\n",
       "    .dataframe thead th {\n",
       "        text-align: right;\n",
       "    }\n",
       "</style>\n",
       "<table border=\"1\" class=\"dataframe\">\n",
       "  <thead>\n",
       "    <tr style=\"text-align: right;\">\n",
       "      <th></th>\n",
       "      <th>letter</th>\n",
       "      <th>pos</th>\n",
       "      <th>num_of_letters</th>\n",
       "    </tr>\n",
       "  </thead>\n",
       "  <tbody>\n",
       "    <tr>\n",
       "      <th>0</th>\n",
       "      <td>Alpha</td>\n",
       "      <td>1</td>\n",
       "      <td>5</td>\n",
       "    </tr>\n",
       "    <tr>\n",
       "      <th>1</th>\n",
       "      <td>Beta</td>\n",
       "      <td>2</td>\n",
       "      <td>4</td>\n",
       "    </tr>\n",
       "    <tr>\n",
       "      <th>2</th>\n",
       "      <td>Delta</td>\n",
       "      <td>3</td>\n",
       "      <td>5</td>\n",
       "    </tr>\n",
       "    <tr>\n",
       "      <th>3</th>\n",
       "      <td>Gamma</td>\n",
       "      <td>4</td>\n",
       "      <td>5</td>\n",
       "    </tr>\n",
       "  </tbody>\n",
       "</table>\n",
       "</div>"
      ],
      "text/plain": [
       "  letter  pos  num_of_letters\n",
       "0  Alpha    1               5\n",
       "1   Beta    2               4\n",
       "2  Delta    3               5\n",
       "3  Gamma    4               5"
      ]
     },
     "execution_count": 3,
     "metadata": {},
     "output_type": "execute_result"
    }
   ],
   "source": [
    "#A simple example from p9 documentation\n",
    "df = pd.DataFrame({\n",
    "    'letter': ['Alpha', 'Beta', 'Delta', 'Gamma'],\n",
    "    'pos': [1, 2, 3, 4],\n",
    "    'num_of_letters': [5, 4, 5, 5]\n",
    "}) #silly dataset\n",
    "\n",
    "df"
   ]
  },
  {
   "cell_type": "code",
   "execution_count": 4,
   "id": "05789aab",
   "metadata": {},
   "outputs": [
    {
     "data": {
      "image/png": "[encoded data removed]",
      "text/plain": [
       "<Figure size 640x480 with 1 Axes>"
      ]
     },
     "metadata": {
      "image/png": {
       "height": 480,
       "width": 640
      }
     },
     "output_type": "display_data"
    },
    {
     "data": {
      "text/plain": [
       "<Figure Size: (640 x 480)>"
      ]
     },
     "execution_count": 4,
     "metadata": {},
     "output_type": "execute_result"
    }
   ],
   "source": [
    "#This is a nice simple example to see the logic of ggplot grammar of graphics\n",
    "p = (ggplot(df) #indicate the data to use\n",
    " + geom_col(aes(x='letter', y='pos')) #geom 1 (first layer)\n",
    " + geom_line(aes(x='letter', y='num_of_letters'), group=1) #geom 2 (second layer)\n",
    " + p9.labs(title='Greek Letter Analysis', x = 'Letter', y = 'Position') #misc\n",
    ")\n",
    "p"
   ]
  },
  {
   "cell_type": "code",
   "execution_count": 5,
   "id": "14a0056d",
   "metadata": {},
   "outputs": [
    {
     "data": {
      "text/html": [
       "<div>\n",
       "<style scoped>\n",
       "    .dataframe tbody tr th:only-of-type {\n",
       "        vertical-align: middle;\n",
       "    }\n",
       "\n",
       "    .dataframe tbody tr th {\n",
       "        vertical-align: top;\n",
       "    }\n",
       "\n",
       "    .dataframe thead th {\n",
       "        text-align: right;\n",
       "    }\n",
       "</style>\n",
       "<table border=\"1\" class=\"dataframe\">\n",
       "  <thead>\n",
       "    <tr style=\"text-align: right;\">\n",
       "      <th></th>\n",
       "      <th>company</th>\n",
       "      <th>bean_origin_detailed</th>\n",
       "      <th>REF</th>\n",
       "      <th>review_date</th>\n",
       "      <th>cocoa_percent</th>\n",
       "      <th>location</th>\n",
       "      <th>rating</th>\n",
       "      <th>bean_type</th>\n",
       "      <th>bean_origin</th>\n",
       "    </tr>\n",
       "  </thead>\n",
       "  <tbody>\n",
       "    <tr>\n",
       "      <th>0</th>\n",
       "      <td>Acalli</td>\n",
       "      <td>Chulucanas, El Platanal</td>\n",
       "      <td>1462</td>\n",
       "      <td>2015</td>\n",
       "      <td>70%</td>\n",
       "      <td>U.S.A.</td>\n",
       "      <td>3.75</td>\n",
       "      <td>NaN</td>\n",
       "      <td>Peru</td>\n",
       "    </tr>\n",
       "    <tr>\n",
       "      <th>1</th>\n",
       "      <td>Acalli</td>\n",
       "      <td>Tumbes, Norandino</td>\n",
       "      <td>1470</td>\n",
       "      <td>2015</td>\n",
       "      <td>70%</td>\n",
       "      <td>U.S.A.</td>\n",
       "      <td>3.75</td>\n",
       "      <td>Criollo</td>\n",
       "      <td>Peru</td>\n",
       "    </tr>\n",
       "    <tr>\n",
       "      <th>2</th>\n",
       "      <td>Akesson's (Pralus)</td>\n",
       "      <td>Bali (west), Sukrama Family, Melaya area</td>\n",
       "      <td>636</td>\n",
       "      <td>2011</td>\n",
       "      <td>75%</td>\n",
       "      <td>Switzerland</td>\n",
       "      <td>3.75</td>\n",
       "      <td>Trinitario</td>\n",
       "      <td>Indonesia</td>\n",
       "    </tr>\n",
       "    <tr>\n",
       "      <th>3</th>\n",
       "      <td>Akesson's (Pralus)</td>\n",
       "      <td>Madagascar, Ambolikapiky P.</td>\n",
       "      <td>502</td>\n",
       "      <td>2010</td>\n",
       "      <td>75%</td>\n",
       "      <td>Switzerland</td>\n",
       "      <td>2.75</td>\n",
       "      <td>Criollo</td>\n",
       "      <td>Madagascar</td>\n",
       "    </tr>\n",
       "    <tr>\n",
       "      <th>4</th>\n",
       "      <td>Akesson's (Pralus)</td>\n",
       "      <td>Monte Alegre, D. Badero</td>\n",
       "      <td>508</td>\n",
       "      <td>2010</td>\n",
       "      <td>75%</td>\n",
       "      <td>Switzerland</td>\n",
       "      <td>2.75</td>\n",
       "      <td>Forastero</td>\n",
       "      <td>Brazil</td>\n",
       "    </tr>\n",
       "    <tr>\n",
       "      <th>...</th>\n",
       "      <td>...</td>\n",
       "      <td>...</td>\n",
       "      <td>...</td>\n",
       "      <td>...</td>\n",
       "      <td>...</td>\n",
       "      <td>...</td>\n",
       "      <td>...</td>\n",
       "      <td>...</td>\n",
       "      <td>...</td>\n",
       "    </tr>\n",
       "    <tr>\n",
       "      <th>1005</th>\n",
       "      <td>Zotter</td>\n",
       "      <td>Peru</td>\n",
       "      <td>647</td>\n",
       "      <td>2011</td>\n",
       "      <td>70%</td>\n",
       "      <td>Austria</td>\n",
       "      <td>3.75</td>\n",
       "      <td>NaN</td>\n",
       "      <td>Peru</td>\n",
       "    </tr>\n",
       "    <tr>\n",
       "      <th>1006</th>\n",
       "      <td>Zotter</td>\n",
       "      <td>Congo</td>\n",
       "      <td>749</td>\n",
       "      <td>2011</td>\n",
       "      <td>65%</td>\n",
       "      <td>Austria</td>\n",
       "      <td>3.00</td>\n",
       "      <td>Forastero</td>\n",
       "      <td>Congo</td>\n",
       "    </tr>\n",
       "    <tr>\n",
       "      <th>1007</th>\n",
       "      <td>Zotter</td>\n",
       "      <td>Kerala State</td>\n",
       "      <td>749</td>\n",
       "      <td>2011</td>\n",
       "      <td>65%</td>\n",
       "      <td>Austria</td>\n",
       "      <td>3.50</td>\n",
       "      <td>Forastero</td>\n",
       "      <td>India</td>\n",
       "    </tr>\n",
       "    <tr>\n",
       "      <th>1008</th>\n",
       "      <td>Zotter</td>\n",
       "      <td>Kerala State</td>\n",
       "      <td>781</td>\n",
       "      <td>2011</td>\n",
       "      <td>62%</td>\n",
       "      <td>Austria</td>\n",
       "      <td>3.25</td>\n",
       "      <td>NaN</td>\n",
       "      <td>India</td>\n",
       "    </tr>\n",
       "    <tr>\n",
       "      <th>1009</th>\n",
       "      <td>Zotter</td>\n",
       "      <td>Brazil, Mitzi Blue</td>\n",
       "      <td>486</td>\n",
       "      <td>2010</td>\n",
       "      <td>65%</td>\n",
       "      <td>Austria</td>\n",
       "      <td>3.00</td>\n",
       "      <td>NaN</td>\n",
       "      <td>Brazil</td>\n",
       "    </tr>\n",
       "  </tbody>\n",
       "</table>\n",
       "<p>1010 rows × 9 columns</p>\n",
       "</div>"
      ],
      "text/plain": [
       "                 company                      bean_origin_detailed   REF  \\\n",
       "0                 Acalli                   Chulucanas, El Platanal  1462   \n",
       "1                 Acalli                         Tumbes, Norandino  1470   \n",
       "2     Akesson's (Pralus)  Bali (west), Sukrama Family, Melaya area   636   \n",
       "3     Akesson's (Pralus)               Madagascar, Ambolikapiky P.   502   \n",
       "4     Akesson's (Pralus)                   Monte Alegre, D. Badero   508   \n",
       "...                  ...                                       ...   ...   \n",
       "1005              Zotter                                      Peru   647   \n",
       "1006              Zotter                                     Congo   749   \n",
       "1007              Zotter                              Kerala State   749   \n",
       "1008              Zotter                              Kerala State   781   \n",
       "1009              Zotter                        Brazil, Mitzi Blue   486   \n",
       "\n",
       "      review_date cocoa_percent     location  rating   bean_type bean_origin  \n",
       "0            2015           70%       U.S.A.    3.75         NaN        Peru  \n",
       "1            2015           70%       U.S.A.    3.75     Criollo        Peru  \n",
       "2            2011           75%  Switzerland    3.75  Trinitario   Indonesia  \n",
       "3            2010           75%  Switzerland    2.75     Criollo  Madagascar  \n",
       "4            2010           75%  Switzerland    2.75   Forastero      Brazil  \n",
       "...           ...           ...          ...     ...         ...         ...  \n",
       "1005         2011           70%      Austria    3.75         NaN        Peru  \n",
       "1006         2011           65%      Austria    3.00   Forastero       Congo  \n",
       "1007         2011           65%      Austria    3.50   Forastero       India  \n",
       "1008         2011           62%      Austria    3.25         NaN       India  \n",
       "1009         2010           65%      Austria    3.00         NaN      Brazil  \n",
       "\n",
       "[1010 rows x 9 columns]"
      ]
     },
     "execution_count": 5,
     "metadata": {},
     "output_type": "execute_result"
    }
   ],
   "source": [
    "#Forest plot. See an example in google images\n",
    "#Plan: we want to tell ggplot to paint dots and confidence intervals\n",
    "#That is, at least two layers.\n",
    "\n",
    "#Load data set\n",
    "file = \"Claus_Wilke_Book_Fund_Data_Viz/data/csv_files/cacao.csv\"\n",
    "chocolate = pd.read_csv(file)\n",
    "countries = np.array(['Switzerland', 'Canada', 'Austria', 'U.S.A.', 'Belgium', 'Peru'])\n",
    "boolean = \"\"\n",
    "for c in countries:\n",
    "    boolean = boolean + c + \"|\"\n",
    "chocolate_R = chocolate[chocolate[\"location\"].str.contains(boolean[0:-1])].reset_index(drop=True)\n",
    "chocolate_R"
   ]
  },
  {
   "cell_type": "code",
   "execution_count": 66,
   "id": "160e4e00",
   "metadata": {},
   "outputs": [],
   "source": [
    "Cho_Stats = chocolate_R.groupby(['location']).agg({'rating': ['mean', 'std']}).reset_index(drop=True)\n",
    "Cho_Stats.insert(0, 'location', list(chocolate_R.groupby(['location']).indices.keys()))\n",
    "Cho_Stats.columns = ['location', 'mean_rating', 'std_rating']\n",
    "Cho_Stats.insert(Cho_Stats.shape[1], 'error_left', Cho_Stats.loc[:,'mean_rating'] - Cho_Stats.loc[:,'std_rating'])\n",
    "Cho_Stats.insert(Cho_Stats.shape[1], 'error_right', Cho_Stats.loc[:,'mean_rating'] + Cho_Stats.loc[:,'std_rating'])\n",
    "Cho_Stats.columns = ['location', 'mean_rating', 'std_rating', 'error_left', 'error_right']\n",
    "p = ggplot(Cho_Stats, aes(y = \"location\")) + p9.theme_classic()\n",
    "#p"
   ]
  },
  {
   "cell_type": "code",
   "execution_count": 69,
   "id": "383da24a",
   "metadata": {},
   "outputs": [
    {
     "data": {
      "image/png": "[encoded data removed]",
      "text/plain": [
       "<Figure size 640x480 with 1 Axes>"
      ]
     },
     "metadata": {
      "image/png": {
       "height": 480,
       "width": 640
      }
     },
     "output_type": "display_data"
    },
    {
     "data": {
      "text/plain": [
       "<Figure Size: (640 x 480)>"
      ]
     },
     "execution_count": 69,
     "metadata": {},
     "output_type": "execute_result"
    }
   ],
   "source": [
    "p = (p +  \n",
    "     geom_point(aes(x=\"mean_rating\"), shape=\"o\", size=3) + \n",
    "     geom_errorbarh(aes(xmin=\"error_left\", xmax=\"error_right\", y = 'location')) +\n",
    "     p9.labs(title = \"Chocolate Ratings\", x = 'Rating', y = 'Country')\n",
    "    ) \n",
    "p"
   ]
  },
  {
   "cell_type": "code",
   "execution_count": 292,
   "id": "49f08545",
   "metadata": {},
   "outputs": [],
   "source": [
    "#Age pyramid (see Figure 7.10 https://clauswilke.com/dataviz/histograms-density-plots.html)\n",
    "#This one is more complicated. \n",
    "#But think it again in terms of layers.\n",
    "#We need to layers/geoms: one for the female histogram, another for the male histogram\n",
    "\n",
    "#First let's build the histograms. \n",
    "#One problem is that the native geom_histogram only gives us positive counts\n",
    "#Another problem is that flipping only one scale of a geom (0 to 50 towards negative) is hard \n",
    "#So we need to build our histograms to feed as data\n",
    "\n",
    "h = np.histogram(titanic_male, bins=10)\n",
    "bin_edges = h[1]\n",
    "bin_width = np.diff(h[1])[0]\n",
    "h = np.array([(h[1] + bin_width/2)[0:-1], h[0]]).transpose()\n",
    "df_m = pd.DataFrame(h, columns = ['Age_center', 'Counts'])\n",
    "\n",
    "h = np.histogram(titanic_female, bins = bin_edges)\n",
    "h = np.array([(h[1] + np.diff(h[1])[0]/2)[0:-1], -h[0]]).transpose()\n",
    "df_f = pd.DataFrame(h, columns = ['Age_center', 'Counts'])"
   ]
  },
  {
   "cell_type": "code",
   "execution_count": 295,
   "id": "2897bf0e",
   "metadata": {},
   "outputs": [
    {
     "data": {
      "image/png": "[encoded data removed]",
      "text/plain": [
       "<Figure size 640x480 with 1 Axes>"
      ]
     },
     "metadata": {
      "image/png": {
       "height": 480,
       "width": 640
      }
     },
     "output_type": "display_data"
    },
    {
     "data": {
      "text/plain": [
       "<Figure Size: (640 x 480)>"
      ]
     },
     "execution_count": 295,
     "metadata": {},
     "output_type": "execute_result"
    }
   ],
   "source": [
    "breaks = np.sort(np.append(np.linspace(-130, 130, df_m.shape[0]), 0))\n",
    "labels = list(np.array(np.array(np.abs(breaks),dtype=int), dtype = str))\n",
    "(ggplot() +\n",
    " geom_bar(df_f, aes(x='Age_center', y = 'Counts'), stat = \"identity\", fill = 'blue', width = 0.98*bin_width) +\n",
    " geom_bar(df_m, aes(x='Age_center', y = 'Counts'), stat = \"identity\", fill = 'red', width = 0.98*bin_width) +\n",
    " coord_flip() + p9.scale_y_continuous(breaks = breaks, labels = labels, limits = [-130,130]) +\n",
    " p9.labs(x = 'Age (Years)') + p9.theme_classic()\n",
    ")"
   ]
  },
  {
   "cell_type": "markdown",
   "id": "610d692f",
   "metadata": {},
   "source": [
    "## Exercise (Densities + Faceting)\n",
    "Learn to plot on the same chart or on different panels.\n",
    "\n",
    "1) Load titanic_all.csv data\n",
    "2) Drop unnecesary columns \"name\", \"class\", \"survived\"\n",
    "3) Remove NaN\n",
    "4) Plot, with plotnine, age densities with geom_density: for male, for female. Use facet_grid. Change the defaul theme to one of your preference\n",
    "5) Do not use facet_grid. Both distributions in the same chart. Fill each sex distribution with color and make it slightly transparent. Change the plot labels and put a title of your liking. Do the same for the legend."
   ]
  },
  {
   "cell_type": "code",
   "execution_count": null,
   "id": "aa7f462b",
   "metadata": {},
   "outputs": [],
   "source": []
  }
 ],
 "metadata": {
  "kernelspec": {
   "display_name": "Python 3 (ipykernel)",
   "language": "python",
   "name": "python3"
  },
  "language_info": {
   "codemirror_mode": {
    "name": "ipython",
    "version": 3
   },
   "file_extension": ".py",
   "mimetype": "text/x-python",
   "name": "python",
   "nbconvert_exporter": "python",
   "pygments_lexer": "ipython3",
   "version": "3.11.0"
  }
 },
 "nbformat": 4,
 "nbformat_minor": 5
}
