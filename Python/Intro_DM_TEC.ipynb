{
 "cells": [
  {
   "cell_type": "code",
   "execution_count": 3,
   "id": "641549c0",
   "metadata": {},
   "outputs": [],
   "source": [
    "#Matrices\n",
    "import numpy as np \n",
    "import pandas as pd \n",
    "\n",
    "#Stats\n",
    "import scipy\n",
    "import statsmodels.api as sm \n",
    "import statsmodels.formula.api as smf \n",
    "from itertools import combinations \n",
    "\n",
    "#Plotting\n",
    "import matplotlib.pyplot as plt\n",
    "import seaborn as sns\n",
    "import plotnine as p\n",
    "\n",
    "\n",
    "#Misc\n",
    "#!pip install stargazer\n",
    "from stargazer.stargazer import Stargazer #I also have the .py in the folder (in case it fails to install or run)\n",
    "\n",
    "\n"
   ]
  },
  {
   "cell_type": "markdown",
   "id": "5c7c2f05",
   "metadata": {},
   "source": [
    "# DAG GOOGLE"
   ]
  },
  {
   "cell_type": "code",
   "execution_count": 4,
   "id": "4d42ce11",
   "metadata": {},
   "outputs": [
    {
     "data": {
      "text/html": [
       "<table style=\"text-align:center\"><tr><td colspan=\"4\" style=\"border-bottom: 1px solid black\"></td></tr>\n",
       "<tr><td style=\"text-align:left\"></td><td colspan=\"3\"><em>Dependent variable: wage</em></td></tr><tr><td style=\"text-align:left\"></td><tr><td></td><td colspan=\"1\">Biased Unconditional</td><td colspan=\"1\">Biased</td><td colspan=\"1\">Unbiased Conditional</td></tr><tr><td style=\"text-align:left\"></td><td>(1)</td><td>(2)</td><td>(3)</td></tr>\n",
       "<tr><td colspan=\"4\" style=\"border-bottom: 1px solid black\"></td></tr>\n",
       "\n",
       "<tr><td style=\"text-align:left\">Intercept</td><td>1.969<sup>***</sup></td><td>0.222<sup>***</sup></td><td>1.017<sup>***</sup></td></tr>\n",
       "<tr><td style=\"text-align:left\"></td><td>(0.061)</td><td>(0.020)</td><td>(0.017)</td></tr>\n",
       "<tr><td style=\"text-align:left\">ability</td><td></td><td></td><td>1.989<sup>***</sup></td></tr>\n",
       "<tr><td style=\"text-align:left\"></td><td></td><td></td><td>(0.022)</td></tr>\n",
       "<tr><td style=\"text-align:left\">female</td><td>-2.990<sup>***</sup></td><td>0.570<sup>***</sup></td><td>-1.020<sup>***</sup></td></tr>\n",
       "<tr><td style=\"text-align:left\"></td><td>(0.085)</td><td>(0.029)</td><td>(0.028)</td></tr>\n",
       "<tr><td style=\"text-align:left\">occupation</td><td></td><td>1.801<sup>***</sup></td><td>1.004<sup>***</sup></td></tr>\n",
       "<tr><td style=\"text-align:left\"></td><td></td><td>(0.006)</td><td>(0.010)</td></tr>\n",
       "\n",
       "<td colspan=\"4\" style=\"border-bottom: 1px solid black\"></td></tr>\n",
       "<tr><td style=\"text-align: left\">Observations</td><td>10000</td><td>10000</td><td>10000</td></tr><tr><td style=\"text-align: left\">R<sup>2</sup></td><td>0.109</td><td>0.912</td><td>0.951</td></tr><tr><td style=\"text-align: left\">Adjusted R<sup>2</sup></td><td>0.109</td><td>0.912</td><td>0.951</td></tr><tr><td style=\"text-align: left\">Residual Std. Error</td><td>4.273 (df=9998)</td><td>1.342 (df=9997)</td><td>0.997 (df=9996)</td></tr><tr><td style=\"text-align: left\">F Statistic</td><td>1224.166<sup>***</sup> (df=1; 9998)</td><td>51916.983<sup>***</sup> (df=2; 9997)</td><td>65327.114<sup>***</sup> (df=3; 9996)</td></tr>\n",
       "<tr><td colspan=\"4\" style=\"border-bottom: 1px solid black\"></td></tr><tr><td style=\"text-align: left\">Note:</td><td colspan=\"3\" style=\"text-align: right\"><sup>*</sup>p&lt;0.1; <sup>**</sup>p&lt;0.05; <sup>***</sup>p&lt;0.01</td></tr></table>"
      ],
      "text/plain": [
       "<stargazer.stargazer.Stargazer at 0x2022c1af090>"
      ]
     },
     "execution_count": 4,
     "metadata": {},
     "output_type": "execute_result"
    }
   ],
   "source": [
    "tb = pd.DataFrame({\n",
    "    'female': np.random.binomial(1, .5, size=10000),\n",
    "    'ability': np.random.normal(size=10000)})\n",
    "tb['discrimination'] = tb.female.copy()\n",
    "tb['occupation'] = 1 + 2*tb['ability'] + 0*tb['female'] - 2*tb['discrimination'] + np.random.normal(size=10000)\n",
    "tb['wage'] = 1 - 1*tb['discrimination'] + 1*tb['occupation'] + 2*tb['ability'] + np.random.normal(size=10000) \n",
    "\n",
    "\n",
    "\n",
    "lm_1 = sm.OLS.from_formula('wage ~ female', data=tb).fit()\n",
    "lm_2 = sm.OLS.from_formula('wage ~ female + occupation', data=tb).fit()\n",
    "lm_3 = sm.OLS.from_formula('wage ~ female + occupation + ability', data=tb).fit()\n",
    "\n",
    "\n",
    "st = Stargazer((lm_1,lm_2,lm_3))\n",
    "st.custom_columns([\"Biased Unconditional\", \"Biased\", \"Unbiased Conditional\"], [1, 1, 1])\n",
    "st"
   ]
  },
  {
   "cell_type": "markdown",
   "id": "4367b523",
   "metadata": {},
   "source": [
    "# Binomial probs"
   ]
  },
  {
   "cell_type": "code",
   "execution_count": null,
   "id": "076d9203",
   "metadata": {},
   "outputs": [],
   "source": [
    "scipy.stats.norm.cdf?"
   ]
  },
  {
   "cell_type": "markdown",
   "id": "76b30b7f",
   "metadata": {},
   "source": [
    "# Normal probs"
   ]
  },
  {
   "cell_type": "code",
   "execution_count": null,
   "id": "507561aa",
   "metadata": {},
   "outputs": [],
   "source": [
    "mean_p = 450\n",
    "std_p = 100\n",
    "population = np.random.normal(loc = mean_p, scale = std_p, size = 10000) #population of all stores\n",
    "sample = np.array([485, 562, 415, 860, 426, 474, 662, 380, 515, 721]) #my stores\n",
    "sns.kdeplot(population);\n",
    "x = np.ones(50)*sample.mean()\n",
    "y = np.linspace(0, 0.004, 50)\n",
    "plt.plot(x, y, 'r', label = 'Data mean');\n",
    "plt.title(\"Prob. of mean data assuming pop. dist: \" + \n",
    "          str(np.round(1-scipy.stats.norm.cdf(sample.mean(), loc = mean_p, scale = std_p),4)))\n",
    "plt.legend();\n",
    "\n"
   ]
  },
  {
   "cell_type": "code",
   "execution_count": 47,
   "id": "ed1ed148",
   "metadata": {},
   "outputs": [
    {
     "data": {
      "text/plain": [
       "array([-0.37228132,  5.37228132])"
      ]
     },
     "execution_count": 47,
     "metadata": {},
     "output_type": "execute_result"
    }
   ],
   "source": [
    "matrix = np.array([[1,2],[3,4]])\n",
    "np.linalg.eigvals(matrix)"
   ]
  },
  {
   "cell_type": "code",
   "execution_count": null,
   "id": "ea7b96d3",
   "metadata": {},
   "outputs": [],
   "source": []
  }
 ],
 "metadata": {
  "kernelspec": {
   "display_name": "Python 3 (ipykernel)",
   "language": "python",
   "name": "python3"
  },
  "language_info": {
   "codemirror_mode": {
    "name": "ipython",
    "version": 3
   },
   "file_extension": ".py",
   "mimetype": "text/x-python",
   "name": "python",
   "nbconvert_exporter": "python",
   "pygments_lexer": "ipython3",
   "version": "3.11.8"
  }
 },
 "nbformat": 4,
 "nbformat_minor": 5
}
