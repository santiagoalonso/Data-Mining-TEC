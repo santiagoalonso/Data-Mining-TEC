{
 "cells": [
  {
   "cell_type": "code",
   "execution_count": 1,
   "id": "c6ef2b77-22da-4c96-b4d4-46cc400062e0",
   "metadata": {},
   "outputs": [
    {
     "name": "stderr",
     "output_type": "stream",
     "text": [
      "WARNING (pytensor.tensor.blas): Using NumPy C-API based implementation for BLAS functions.\n"
     ]
    },
    {
     "name": "stdout",
     "output_type": "stream",
     "text": [
      "Running on PyMC v5.10.3\n"
     ]
    }
   ],
   "source": [
    "#Tables and matrices\n",
    "import numpy as np\n",
    "import pandas as pd\n",
    "\n",
    "#Stats\n",
    "import scipy.stats as st\n",
    "from scipy.optimize import fmin\n",
    "from scipy import integrate\n",
    "from scipy.stats.mstats import mquantiles\n",
    "import statsmodels.formula.api as smf\n",
    "import statsmodels.api as sm \n",
    "from statsmodels.stats.diagnostic import het_breuschpagan #Heteroskedasticity test\n",
    "from statsmodels.stats.diagnostic import het_white #Heteroskedasticity test\n",
    "\n",
    "#Probabilistic programs\n",
    "#!pip install numpy mkl #if you are in an intel machine i.e. in mac M# chips no\n",
    "#!pip install pymc\n",
    "#!pip install pytensor\n",
    "import pymc as pm\n",
    "import pytensor.tensor as pt\n",
    "#import aesara.tensor as at\n",
    "print('Running on PyMC v{}'.format(pm.__version__))\n",
    "\n",
    "\n",
    "#Graphs \n",
    "#IMPORTANT: properly install ipywidgets and nodejs for interactive graphs\n",
    "#If you are in jupyterlab, activate the widget extension (it should be in the latest versions)\n",
    "import seaborn as sns\n",
    "import matplotlib.pyplot as plt\n",
    "from matplotlib import cm\n",
    "from matplotlib.gridspec import GridSpec\n",
    "from matplotlib import animation, rc\n",
    "from IPython.display import display, HTML, Markdown\n",
    "import ipywidgets as widgets\n",
    "from ipywidgets import interact, interactive, fixed, HBox, VBox, Layout\n",
    "from mpl_toolkits.mplot3d import axes3d\n",
    "import arviz as az"
   ]
  },
  {
   "cell_type": "code",
   "execution_count": 2,
   "id": "b8636983-217d-4ba9-ac6c-bca644628cf8",
   "metadata": {},
   "outputs": [],
   "source": [
    "def f(k,robust = False): #Esta función tiene comandos para la regresión y para gráficas.\n",
    "    #k: heterosdactity parameter...larger more heteroscedasticity\n",
    "    f, axes = plt.subplots(1, 2, figsize=(12, 4))\n",
    "    #Noise here depends on the level of the variable X\n",
    "    Y_noise = np.random.normal(loc = 0, scale = X_data**k, size = n)\n",
    "    Y = pd.DataFrame({\"X\": X_data, \"Y\": Y_raw + Y_noise})\n",
    "    \n",
    "    # Regressin\n",
    "    model = smf.ols(formula='Y ~ X', data = Y)\n",
    "    if robust == True:\n",
    "        results = model.fit(cov_type='HC3') #robust standard errors (to heteroskedasticity)\n",
    "    else:\n",
    "        results = model.fit() \n",
    "    residuals = results.resid\n",
    "    Y['predictions'] = results.predict(Y['X'])\n",
    "    white_test = het_white(residuals,  model.exog)\n",
    "    bp_test = het_breuschpagan(residuals, model.exog)\n",
    "    \n",
    "    \n",
    "    #Gráficas\n",
    "    sns.scatterplot(x = 'X', y='Y', data=Y, color = 'black', ax = axes[0])\n",
    "    axes[0].set_title(\"Heteroskedasticity \\n Variance in y depends on x level\")\n",
    "    axes[0].plot(Y['X'], Y['predictions'], color = 'red')\n",
    "    axes[1].axis('off')\n",
    "    const = str(round(results.params[0],3))\n",
    "    slope = str(round(results.params[1],3))\n",
    "    axes[1].text(0, 0.5, 'Truth: Intercept: 1.370; Coef. X: 2.097 \\nRegres: Intercept: ' + const + '; Coef. X: ' + slope,\n",
    "        color='black', fontsize=15)\n",
    "    \n",
    "    #Output\n",
    "    plt.show()\n",
    "    print(results.summary()) \n",
    "    print(\"Durbin Watson measures autocorrelation of residuals. Close to 2 is good, zero autocorrelations\")\n",
    "    print(\"Jarque Bera is a test of normality of the residuals for large samples (n>2000). Large values and p<0.05 not normal\")\n",
    "    labels = ['LM-Statistic','LM-Test p-value', 'F-Statistic', 'F-Test p-value']\n",
    "    print(\"Breusch Pagan test (p<0.05 there is Heteroskedasticity): \", dict(zip(labels[2:4], bp_test[2:4]))) # p<0.05 hay heterocedasticidad\n",
    "    print(\"White test (p<0.05 there is Heteroskedasticity): \", dict(zip(labels[2:4], white_test[2:4]))) # p<0.05 hay heterocedasticidad\n",
    "    \n",
    "    plt.figure()\n",
    "    fig =  sm.graphics.plot_regress_exog(results, \"X\")\n",
    "    fig.tight_layout(pad=1.0)\n",
    "    \n"
   ]
  },
  {
   "cell_type": "markdown",
   "id": "d40c97b7-9e6d-490e-945f-aeb1ef2c8c61",
   "metadata": {},
   "source": [
    "# Residuals and heteroskedasticity visualization.\n",
    "\n",
    "It can bias the estimates as shown below. Change k and use robust std. error. Note how the normality, autocorrelation, and heteroskedasticity tests change. Also, the residuals visualizations."
   ]
  },
  {
   "cell_type": "code",
   "execution_count": 3,
   "id": "bba669fa-12b6-476f-a203-0e809ec0467c",
   "metadata": {
    "scrolled": true
   },
   "outputs": [
    {
     "data": {
      "application/vnd.jupyter.widget-view+json": {
       "model_id": "9fa3f0ef7aeb4a639f4cf5039e6a42d7",
       "version_major": 2,
       "version_minor": 0
      },
      "text/plain": [
       "interactive(children=(FloatSlider(value=1.25, description='k', max=3.0, step=0.2), Checkbox(value=False, descr…"
      ]
     },
     "metadata": {},
     "output_type": "display_data"
    }
   ],
   "source": [
    "n = 2000\n",
    "X_data = np.linspace(1,100, n)\n",
    "Y_raw = 1.37 + 2.097 * X_data #The underlying truth ... the majority of the times is unknown...here for pedagogical reasons we do know it\n",
    "\n",
    "interact(f, k = widgets.FloatSlider(min=0, max=3, step=.2, value=1.25), \n",
    "         robust = widgets.Checkbox(value = False, description = 'Robust std. err.')); #Larger k more heteroskedasticity\n"
   ]
  },
  {
   "cell_type": "markdown",
   "id": "73ff9c50-afa9-46fa-abc1-ac78054a5129",
   "metadata": {},
   "source": [
    "# Running regressions in Python (and R to some extent)"
   ]
  },
  {
   "cell_type": "code",
   "execution_count": 18,
   "id": "c9f3a8fb-7126-487e-acc0-c52b55a48d5e",
   "metadata": {},
   "outputs": [],
   "source": [
    "#Load data\n",
    "#SOURCE: Harvard Business Publishing (SMU557)\n",
    "#\"Amazon: Facing low costumer satisfaction in Singapore\"\n",
    "#By: Marcus Ang Teck and Chen Yongchang, Singapore Management University\n",
    "amazon = pd.read_csv(\"Amazon_Satisfaction_Singapore.csv\")\n",
    "amazon_var_dictionary = pd.read_csv(\"Amazon_Satisfaction_Singapore_Var_Dictionary.csv\") #Description of variables\n",
    "\n",
    "#Filter for only Amazon\n",
    "amazon_r = amazon.query(\"company_v=='AMAZON'\")\n",
    "\n",
    "#Rename columns for something more informative\n",
    "cols = [\"ID\", #Consumer\n",
    "        \"Company\", #Seller name\n",
    "        \"Prod_Quality\", #Overall Product Quality 1 Very low, 10 Very High\n",
    "        \"Service_Quality\", #Overall Service Quality \n",
    "        \"Price_Value\", #Price given quality 1 Very poor price,  10 Very good price\n",
    "        \"Satisfaction\", #Customer Satisfaction 1 Very dissatisfied, 10 Very satisfied\n",
    "        \"Repurchase\", #Likelihood to Repurchase 1 Very unlikely, 10 Very likely\n",
    "        \"Recommend\", #Likelihood to recommend\n",
    "        \"Recommend_Site\", #Recommended ecommerce site to family and friends in the last 3 months  0 No, 1 Yes\n",
    "        \"Satisfaction_With\", #Overall experiences SATISFACTION with (INSERT NAME) 1 Very dissatisfied, 10 Very satisfied\n",
    "        \"Variety_Prods\", #Variety of products that interests me\n",
    "        \"Variety_Prods_Needs\", #Variety of products that meet my needs\n",
    "        \"Ease_Navigation\", #Ease of navigating the website or app\n",
    "        \"Ease_Prods_Needs\", #Ease of finding the products you need\n",
    "        \"Availability_Prods\", #Availability of products\n",
    "        \"Discounts\", #Attractiveness of promotions and discounts offered\n",
    "        \"Info_Prods\", #Sufficiency of Product information\n",
    "        \"Ease_Comparing\", #Ease of comparing products\n",
    "        \"Ease_Special_Needs\", #Ease of indicating special requests\n",
    "        \"Ease_Cart\", #Ease of managing your shopping cart\n",
    "        \"Ease_Check_Out\", #Check-out and payment process\n",
    "        \"Security\", #Security of website\n",
    "        \"Delivery\", #Clarity and usefulness of information on your delivery methods and fees\n",
    "        \"Delivery_Range\", #Range of delivery options\n",
    "        \"Order_Tracking\", #Ease of tracking your order\n",
    "        \"Delivery_Time\", #Time taken to receive the product\n",
    "        \"Fidelity_Prods\", #Products you received were as described on the website\n",
    "        \"Feedback\", #Availability of feedback channels\n",
    "        \"Return_Policies\", #Return and exchange policies\n",
    "        \"Channel_Pref\", #Method Used most frequently to shop at (INSERT NAME) 1 Mobile App, 2 Website (Using PC), 3 Website (Using a mobile device)\n",
    "        \"Pay_Pref\", #Method of payment do you prefer most for shopping online at (INSERT NAME) 1 Credit Cards, 2 PayPal, 3 E-nets, 4 AXS machines, 5 Cash upon delivery, 6 Others\n",
    "        \"Pay_Pref_Other\", #Method of payment do you prefer most for shopping online at (INSERT NAME) Other specify\n",
    "        \"Read_Reviews\", #Read the reviews during shopping experience 1 Yes 2 No\n",
    "        \"Interacted_Seller\", #Interacted directly with the seller during shopping experience\n",
    "        \"Satisfaction_Reviews\", #Satisfaction with the product reviews 1 Very dissatisfied, 10 Very satisfied\n",
    "        \"Satisfaction_Channels_Seller\", #Satisfaction with the channels available to communicate with the seller(s)\n",
    "        \"No_Purchases_6m\", #No. of times purchased in the last 6 months\n",
    "        \"Amount_Spent_3m\", #Average amount spent per visit last 3 months\n",
    "        \"Shop_Behavior\", #General Shopping Behavior: Usually make most purchases on physical store or an online store 1 Physical store, 2 Online store 3 Equal for both physical store &  online store\n",
    "        \"Age\", #Age\n",
    "        \"Race\", #Race of the respondent 1 Chinese, 2 Malay, 3 Indian, 4 Eurasian, 5 Others\n",
    "        \"Employment\", #Employment status of the respondent 1 Working full-time, 2 Working part-time, 3 Homemaker, 4 Retired, 5 Student, 6 Unemployed\n",
    "        \"Income_Personal\", #Monthly Personal Income \"1\tUnder SGD 2K; 2 SGD 2K - Under SGD 3K; 3 SGD 3K - Under SGD 4K; 4\tSGD 4K - Under SGD 6K; 5\tSGD 6K - Under SGD 8K: 6\tSGD 8K - Under SGD 10K; 7\tSGD 10K - Under SGD 15K; 8\tSGD 15K - Under SGD 20K; 9\tSGD 20K or over\"\n",
    "        \"Income_House\", #Monthly Household Income\n",
    "        \"Ed\", #Education Qualification \"1\tNone; 2\tPSLE & below; 3\tGCE N Level; 4\tGCE O Level; 5\tGCE A Level / Post-Secondary; 6\tITE / Vocational Institute; 7\tPolytechnic Diploma / Professional Cert; 8\tUniversity Degree; 9\tUniversity Post-Graduate Degree\"\n",
    "        \"No_Children\", #No. of children dependent for financial support\n",
    "        \"Marital\", #Marital Status \"1\tSingle; 2\tMarried; 3\tDivorced; 4\tWidowed; 5\tSeparated;6\tDomestic Partnership\"\n",
    "        \"Gender\", #Gender \"1\tMale; 2\tFemale\"\n",
    "        \"House_Type\", #Housetype according to respondent \"1\tHDB 1-2 room; 2\tHDB 3 room; 3\tHDB 4 room; 4\tHDB 5 room / Executive Flat; 5\tCondo / Ptd Apartment; 6\tLanded Property\"\n",
    "        \"Date_Interview\", #Date of Interview\n",
    "       ]\n"
   ]
  },
  {
   "cell_type": "code",
   "execution_count": 16,
   "id": "7363eb07-bb63-45d6-bb90-8bba713accbd",
   "metadata": {},
   "outputs": [
    {
     "data": {
      "text/plain": [
       "Index(['uid', 'company_v', 'poverq', 'soverq', 'pq', 'satis', 'repur',\n",
       "       'recomm', 'Q19', 'VN_1009_Q20A', 'VN_1009_TP01', 'VN_1009_TP02',\n",
       "       'VN_1009_TP03', 'VN_1009_TP04', 'VN_1009_TP05', 'VN_1009_TP06',\n",
       "       'VN_1009_TP07', 'VN_1009_TP08', 'VN_1009_TP09', 'VN_1009_TP10',\n",
       "       'VN_1009_TP11', 'VN_1009_TP12', 'VN_1009_TP13', 'VN_1009_TP14',\n",
       "       'VN_1009_TP15', 'VN_1009_TP16', 'VN_1009_TP17', 'VN_1009_TP18',\n",
       "       'VN_1009_TP19', 'VN_1009_TP20', 'VN_1009_TP21', 'VN_1009_TP21_6specify',\n",
       "       'VN_1009_TP24_1', 'VN_1009_TP24_2', 'VN_1009_TP22', 'VN_1009_TP23',\n",
       "       'Q9C_P', 'Q9D', 'VN_1009_TP25A', 'age', 'race', 'work', 'pincome',\n",
       "       'income', 'educat', 'childsupp', 'marital', 'gender', 'house', 'DOI'],\n",
       "      dtype='object')"
      ]
     },
     "execution_count": 16,
     "metadata": {},
     "output_type": "execute_result"
    }
   ],
   "source": [
    "amazon_r.columns"
   ]
  },
  {
   "cell_type": "code",
   "execution_count": null,
   "id": "20110508-1cd4-41d8-88f2-526ad999c062",
   "metadata": {},
   "outputs": [],
   "source": []
  }
 ],
 "metadata": {
  "kernelspec": {
   "display_name": "Python 3 (ipykernel)",
   "language": "python",
   "name": "python3"
  },
  "language_info": {
   "codemirror_mode": {
    "name": "ipython",
    "version": 3
   },
   "file_extension": ".py",
   "mimetype": "text/x-python",
   "name": "python",
   "nbconvert_exporter": "python",
   "pygments_lexer": "ipython3",
   "version": "3.11.7"
  }
 },
 "nbformat": 4,
 "nbformat_minor": 5
}
