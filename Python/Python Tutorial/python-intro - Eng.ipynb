{
 "cells": [
  {
   "cell_type": "markdown",
   "metadata": {},
   "source": [
    "# Introducción Python "
   ]
  },
  {
   "cell_type": "markdown",
   "metadata": {},
   "source": [
    "Authors : Cindee Madison, Thomas Kluyver (https://bids.github.io/2016-01-14-berkeley/python/00-python-intro.html)\n",
    "\n",
    "Translations and extensions by: Santiago Alonso\n",
    "\n",
    "We will work in the cloud. In Google Colab.\n",
    "\n",
    "\n",
    "For local use, install Anaconda.\n",
    "\n"
   ]
  },
  {
   "cell_type": "markdown",
   "metadata": {},
   "source": [
    "Some practicing exercise:\n",
    "* https://horstmann.com/codecheck/python-questions.html"
   ]
  },
  {
   "cell_type": "markdown",
   "metadata": {
    "tags": [
     "Tema"
    ]
   },
   "source": [
    "## 1. VARIABLES \n",
    "\n",
    "The most basic component of any programming language are \"things\", also called variables or (in special cases) objects.\n",
    "\n",
    "The most common basic \"things\" in Python are: \n",
    "- integer\n",
    "- float \n",
    "- strings \n",
    "- booleans \n",
    "- Otros (e.g. pandas dataframes, numpy array). \n",
    "\n",
    "We'll meet many of these as we go through the lesson.\n"
   ]
  },
  {
   "cell_type": "markdown",
   "metadata": {},
   "source": [
    "__TIP:__ To run the code in a cell quickly, press Shift-Enter.\n",
    "\n",
    "__TIP:__ To quickly create a new cell below an existing one, go to a cell and type b. "
   ]
  },
  {
   "cell_type": "code",
   "execution_count": null,
   "metadata": {},
   "outputs": [],
   "source": [
    "# A \"thing\" (integer)\n",
    "2"
   ]
  },
  {
   "cell_type": "code",
   "execution_count": null,
   "metadata": {},
   "outputs": [],
   "source": [
    "# Use print to show multiple things in the same cell\n",
    "# Note that you can use single or double quotes for strings\n",
    "print(2)\n",
    "print(\"hola mundo\")\n",
    "print('hola mundo')"
   ]
  },
  {
   "cell_type": "code",
   "execution_count": null,
   "metadata": {},
   "outputs": [],
   "source": [
    "# Things can be stored as variables\n",
    "a = 2\n",
    "b = 'hello'\n",
    "c = True  # This is case sensitive\n",
    "print(a, b, c)"
   ]
  },
  {
   "cell_type": "code",
   "execution_count": null,
   "metadata": {
    "collapsed": false,
    "jupyter": {
     "outputs_hidden": false
    }
   },
   "outputs": [],
   "source": [
    "# The type function tells us the type of thing we have\n",
    "print(type(a))\n",
    "print(type(b))\n",
    "print(type(c))"
   ]
  },
  {
   "cell_type": "markdown",
   "metadata": {
    "tags": [
     "Ejercicio"
    ]
   },
   "source": [
    "### <span style=\"color:purple\">Now you</span>\n",
    "Make three variables, with names and types of your preference. To do it, create a code cell below this one."
   ]
  },
  {
   "cell_type": "markdown",
   "metadata": {
    "tags": [
     "Tema"
    ]
   },
   "source": [
    "## 2. Commands that operate on things\n",
    "Just storing data in variables isn't much use to us. Right away, we'd like to start performing operations and manipulations on data and variables.\n",
    "\n",
    "There are three very common means of performing an operation on a thing."
   ]
  },
  {
   "cell_type": "markdown",
   "metadata": {},
   "source": [
    "### 2.1 Use an operator\n",
    "All of the basic math operators work like you think they should for numbers. They can also do some useful operations on other things, like strings. There are also boolean operators that compare quantities and give back a bool variable as a result.\n"
   ]
  },
  {
   "cell_type": "code",
   "execution_count": null,
   "metadata": {
    "collapsed": false,
    "jupyter": {
     "outputs_hidden": false
    }
   },
   "outputs": [],
   "source": [
    "# Standard math operators work as expected on numbers\n",
    "a = 2\n",
    "b = 3\n",
    "print(a + b)\n",
    "print(a * b)\n",
    "print(a ** b)  # a to the power of b (a^b does something completely different!)\n",
    "print(a / b)   # Careful with dividing integers if you use Python 2"
   ]
  },
  {
   "cell_type": "code",
   "execution_count": null,
   "metadata": {
    "collapsed": false,
    "jupyter": {
     "outputs_hidden": false
    }
   },
   "outputs": [],
   "source": [
    "# There are also operators for strings\n",
    "print('hello' + 'world')\n",
    "print('hello' * 3)\n",
    "#print('hello' / 3)  # You can't do this!"
   ]
  },
  {
   "cell_type": "code",
   "execution_count": null,
   "metadata": {
    "collapsed": false,
    "jupyter": {
     "outputs_hidden": false
    }
   },
   "outputs": [],
   "source": [
    "# Boolean operators compare two things\n",
    "a = (1 > 3)\n",
    "b = (3 == 3)\n",
    "c = 'vaca' == 'Vaca' \n",
    "d = 'vaca' == 'vaca'\n",
    "print(a)\n",
    "print(b)\n",
    "print(c)\n",
    "print(d)\n",
    "print(a or b)\n",
    "print(a and b)"
   ]
  },
  {
   "cell_type": "markdown",
   "metadata": {},
   "source": [
    "### 2.2 Functions\n",
    "\n",
    "Group of instructions that transform an input"
   ]
  },
  {
   "cell_type": "code",
   "execution_count": null,
   "metadata": {
    "collapsed": false,
    "jupyter": {
     "outputs_hidden": false
    }
   },
   "outputs": [],
   "source": [
    "# There are thousands of functions that operate on things\n",
    "print(type(3))\n",
    "print(len('hello'))\n",
    "print(round(3.3))\n"
   ]
  },
  {
   "cell_type": "markdown",
   "metadata": {},
   "source": [
    "__TIP:__ To find out what a function does, you can type it's name and then a question mark to get a pop up help window. Or, to see what arguments it takes, you can type its name, an open parenthesis, and hit tab"
   ]
  },
  {
   "cell_type": "code",
   "execution_count": null,
   "metadata": {
    "collapsed": false,
    "jupyter": {
     "outputs_hidden": false
    }
   },
   "outputs": [],
   "source": [
    "round?\n",
    "round(3.14159, 2)"
   ]
  },
  {
   "cell_type": "markdown",
   "metadata": {},
   "source": [
    "__TIP:__ Many useful functions are not in the Python built in library, but are in external scientific packages. These need to be imported into your Python notebook (or program) before they can be used. Probably the most important of these are numpy and matplotlib."
   ]
  },
  {
   "cell_type": "code",
   "execution_count": null,
   "metadata": {
    "collapsed": false,
    "jupyter": {
     "outputs_hidden": false
    }
   },
   "outputs": [],
   "source": [
    "# Many useful functions are in external packages \n",
    "# Let's meet numpy y pandas\n",
    "import numpy as np  #We put an alias to numpy, \"np\", para acortar cuando lo usamos\n",
    "import pandas as pd"
   ]
  },
  {
   "cell_type": "code",
   "execution_count": null,
   "metadata": {
    "collapsed": false,
    "jupyter": {
     "outputs_hidden": false
    }
   },
   "outputs": [],
   "source": [
    "# To see what's in a package, type the name, a period, then hit tab\n",
    "# Also, go to forums like stackoverflow when you have doubts or see execution errors\n",
    "# pd?\n",
    "# pd."
   ]
  },
  {
   "cell_type": "code",
   "execution_count": null,
   "metadata": {
    "collapsed": false,
    "jupyter": {
     "outputs_hidden": false
    }
   },
   "outputs": [],
   "source": [
    "# Some examples of numpy functions and \"things\" \n",
    "print(np.sqrt(4))\n",
    "print(np.pi)  # Not a function, just a variable\n",
    "print(np.sin(np.pi))"
   ]
  },
  {
   "cell_type": "markdown",
   "metadata": {},
   "source": [
    "### 2.3 Methods\n",
    "Before we get any farther into the Python language, we have to say a word about \"objects\". We will not be teaching object oriented programming in this workshop, but you will encounter objects throughout Python (in fact, even seemingly simple things like ints and strings are actually objects in Python).\n",
    "\n",
    "In the simplest terms, you can think of an object as a small bundled \"thing\" that contains within itself both data and functions that operate on that data. For example, strings in Python are objects that contain a set of characters and also various functions that operate on the set of characters. When bundled in an object, these functions are called \"methods\".\n",
    "\n",
    "Instead of the \"normal\" `function(arguments)` syntax, methods are called using the syntax `variable.method(arguments)`."
   ]
  },
  {
   "cell_type": "code",
   "execution_count": null,
   "metadata": {
    "collapsed": false,
    "jupyter": {
     "outputs_hidden": false
    }
   },
   "outputs": [],
   "source": [
    "# A string is actually an object \n",
    "a = 'hola, mundo'\n",
    "print(type(a))"
   ]
  },
  {
   "cell_type": "code",
   "execution_count": null,
   "metadata": {
    "collapsed": false,
    "jupyter": {
     "outputs_hidden": false
    },
    "scrolled": true
   },
   "outputs": [],
   "source": [
    "# Objects have bundled methods. \n",
    "#a. \n",
    "print(a.capitalize())\n",
    "print(a.replace('l', 'X'))"
   ]
  },
  {
   "cell_type": "markdown",
   "metadata": {
    "tags": [
     "Ejercicio"
    ]
   },
   "source": [
    "### EXERCISE 1 - Conversion\n",
    "\n",
    "Throughout this lesson, we will successively build towards a program that will calculate the variance of some measurements, in this case Height in Metres. The first thing we want to do is convert from an antiquated measurement system.\n",
    "\n",
    "1. Create a code cell below this one and do the following.\n",
    "1. Create a variable called `inches_in_metre` that indicates how many inches there is in a metre.\n",
    "1. Create a variable `inches` with any number of inches.\n",
    "1. Convert inches to metres and save the result in a variable called `metres` \n",
    "1. Print `metres`"
   ]
  },
  {
   "cell_type": "markdown",
   "metadata": {
    "tags": [
     "Tema"
    ]
   },
   "source": [
    "## 3. Object collections\n",
    "\n",
    "While it is interesting to explore your own height, in science we work with larger slightly more complex datasets. In this example, we are interested in the characteristics and distribution of heights. Python provides us with a number of objects to handle collections of things.\n",
    "\n",
    "Probably 99% of your work in scientific Python will use one of four types of collections: `lists`, `tuples`, `dictionaries`, `numpy arrays`, `pandas dataframes`. We'll look quickly at each of these and what they can do for you.\n"
   ]
  },
  {
   "cell_type": "markdown",
   "metadata": {},
   "source": [
    "### 3.1 Lists\n",
    "\n",
    "Lists are probably the handiest and most flexible type of container.\n",
    "\n",
    "Lists are declared with square brackets [].\n",
    "\n",
    "Individual elements of a list can be selected using the syntax a[ind]."
   ]
  },
  {
   "cell_type": "code",
   "execution_count": null,
   "metadata": {
    "collapsed": false,
    "jupyter": {
     "outputs_hidden": false
    }
   },
   "outputs": [],
   "source": [
    "# Lists are created with square bracket syntax\n",
    "a = ['blueberry', 'strawberry', 'pineapple']\n",
    "print(a, type(a))"
   ]
  },
  {
   "cell_type": "code",
   "execution_count": null,
   "metadata": {
    "collapsed": false,
    "jupyter": {
     "outputs_hidden": false
    }
   },
   "outputs": [],
   "source": [
    "# Lists (and all collections) are also indexed with square brackets\n",
    "# NOTE: The first index is zero, not one\n",
    "print(a[0])\n",
    "print(a[1])\n",
    "print(a[2])"
   ]
  },
  {
   "cell_type": "code",
   "execution_count": null,
   "metadata": {
    "collapsed": false,
    "jupyter": {
     "outputs_hidden": false
    }
   },
   "outputs": [],
   "source": [
    "## You can also count from the end of the list\n",
    "print('last item is:', a[-1])\n",
    "print('second to last item is:', a[-2])"
   ]
  },
  {
   "cell_type": "code",
   "execution_count": null,
   "metadata": {
    "collapsed": false,
    "jupyter": {
     "outputs_hidden": false
    }
   },
   "outputs": [],
   "source": [
    "# you can access multiple items from a list by slicing, using a colon between indexes\n",
    "# NOTE: The end value is not inclusive\n",
    "print('a =', a)\n",
    "print('get first two:', a[0:2])"
   ]
  },
  {
   "cell_type": "code",
   "execution_count": null,
   "metadata": {
    "collapsed": false,
    "jupyter": {
     "outputs_hidden": false
    }
   },
   "outputs": [],
   "source": [
    "# You can leave off the start or end if desired\n",
    "print(a[:2])\n",
    "print(a[2:])\n",
    "print(a[:])\n",
    "print(a[:-1])"
   ]
  },
  {
   "cell_type": "code",
   "execution_count": null,
   "metadata": {
    "collapsed": false,
    "jupyter": {
     "outputs_hidden": false
    }
   },
   "outputs": [],
   "source": [
    "# Lists are objects, like everything else, and have methods such as append\n",
    "a.append('banana')\n",
    "print(a)\n",
    "\n",
    "a.append([1,2])\n",
    "print(a)\n",
    "\n",
    "a.pop()\n",
    "print(a)"
   ]
  },
  {
   "cell_type": "markdown",
   "metadata": {},
   "source": [
    "__PRECAUCIÓN:__ A 'gotcha' for some new Python users is that many collections, including lists, actually store pointers to data, not the data itself.\n",
    "\n",
    "Remember when we set b=a and then changed a?\n",
    "\n",
    "What happens when we do this in a list?\n",
    "\n",
    "HELP: look into the copy module\n"
   ]
  },
  {
   "cell_type": "code",
   "execution_count": null,
   "metadata": {
    "collapsed": false,
    "jupyter": {
     "outputs_hidden": false
    }
   },
   "outputs": [],
   "source": [
    "#Int, float, strings, are inmutable\n",
    "a = 1\n",
    "b = a\n",
    "print('original b', b)\n",
    "a = 2\n",
    "print('What is b after changing a?', b)\n",
    "\n",
    "#Lists are mutable\n",
    "a = [1, 2, 3]\n",
    "b = a\n",
    "print('original b', b)\n",
    "a[0] = 42\n",
    "print('What is b after changing a?', b) # I changed a and this also change b!!!\n",
    "\n",
    "#How to copy mutables? see the module copy\n",
    "import copy\n",
    "a = [1,2,3]\n",
    "b = copy.deepcopy(a)\n",
    "print('original b', b)\n",
    "a[0] = 42\n",
    "print('What is b after changing a?', b) \n"
   ]
  },
  {
   "cell_type": "markdown",
   "metadata": {},
   "source": [
    "### EXERCISE 2 - Store a bunch of heights (in metres) in a list\n",
    "1. Ask five people around you for their heights (in metres).\n",
    "1. Store these in a list called `heights`.\n",
    "1. Append your own height, calculated above in the variable metres, to the list.\n",
    "1. Get the first height from the list and print it.\n",
    "**Bonus**\n",
    "Extract the last value in two different ways: first, by using the index for the last item in the list, and second, presuming that you do not know how long the list is.\n",
    "HINT: len() can be used to find the length of a collection\n"
   ]
  },
  {
   "cell_type": "markdown",
   "metadata": {},
   "source": [
    "### 3.2 Tuples\n",
    "We won't say a whole lot about tuples except to mention that they basically work just like lists, with two major exceptions:\n",
    "\n",
    "1. You declare tuples using () instead of []\n",
    "1. Once you make a tuple, you can't change what's in it (referred to as immutable)\n",
    "\n",
    "You'll see tuples come up throughout the Python language, and over time you'll develop a feel for when to use them.\n",
    "\n",
    "In general, they're often used instead of lists:\n",
    "\n",
    "1. to group items when the position in the collection is critical, such as coord = (x,y)\n",
    "1. when you want to make prevent accidental modification of the items, e.g. shape = (12,23)"
   ]
  },
  {
   "cell_type": "code",
   "execution_count": null,
   "metadata": {
    "collapsed": false,
    "jupyter": {
     "outputs_hidden": false
    }
   },
   "outputs": [],
   "source": [
    "xy = (23, 45)\n",
    "print(xy[0])\n",
    "xy[0] = \"this won't work with a tuple\""
   ]
  },
  {
   "cell_type": "markdown",
   "metadata": {},
   "source": [
    "### Anatomy of a traceback error\n",
    "Traceback errors are raised when you try to do something with code it isn't meant to do. It is also meant to be informative, but like many things, it is not always as informative as we would like.\n",
    "\n",
    "Looking at our error:\n",
    "\n",
    "1. The command you tried to run raise a TypeError. \n",
    "1. This suggests you are using a variable in a way that its Type doesnt support. `tuples` son inmutables\n",
    "1. In Jupyter, the arrow ----> points to the line where the error occurred, In this case on line 3 of your code form the above line.\n",
    "Learning how to read a traceback error is an important skill to develop, and helps you know how to ask questions about what has gone wrong in your code (many errors and their solutions can be found in Google, and Stackoverflow)\n"
   ]
  },
  {
   "cell_type": "markdown",
   "metadata": {},
   "source": [
    "### 3.3 Dictionaries\n",
    "\n",
    "Dictionaries are the collection to use when you want to store and retrieve things by their names (or some other kind of key) instead of by their position in the collection. A good example is a set of model parameters, each of which has a name and a value. \n",
    "\n",
    "Dictionaries are declared using {}."
   ]
  },
  {
   "cell_type": "code",
   "execution_count": null,
   "metadata": {
    "collapsed": false,
    "jupyter": {
     "outputs_hidden": false
    }
   },
   "outputs": [],
   "source": [
    "# Make a dictionary of model parameters \n",
    "# key:value\n",
    "convertors = {'inches_in_feet' : 12,\n",
    "              'inches_in_metre' : 39}\n",
    "\n",
    "print(convertors)\n",
    "print(convertors['inches_in_feet'])"
   ]
  },
  {
   "cell_type": "code",
   "execution_count": null,
   "metadata": {
    "collapsed": false,
    "jupyter": {
     "outputs_hidden": false
    }
   },
   "outputs": [],
   "source": [
    "## Add a new key:value pair\n",
    "convertors['metres_in_mile'] = 1609.34\n",
    "print(convertors)"
   ]
  },
  {
   "cell_type": "code",
   "execution_count": null,
   "metadata": {
    "collapsed": false,
    "jupyter": {
     "outputs_hidden": false
    }
   },
   "outputs": [],
   "source": [
    "# Raise a KEY error\n",
    "print(convertors['blueberry'])"
   ]
  },
  {
   "cell_type": "markdown",
   "metadata": {},
   "source": [
    "### 3.4 Numpy arrays (ndarrays)\n",
    "\n",
    "Even though numpy arrays (often written as ndarrays, for n-dimensional arrays) are not part of the core Python libraries, they are so useful in scientific Python that we'll include them here in the core lesson. Numpy arrays are collections of things, all of which must be the same type, that work similarly to lists (as we've described them so far). The most important are:\n",
    "\n",
    "1. You can easily perform elementwise operations (and matrix algebra) on arrays\n",
    "1. Arrays can be n-dimensional\n",
    "1. There is no equivalent to append, although arrays can be concatenated\n",
    "1. Arrays can be created from existing collections such as lists, or instantiated \"from scratch\" in a few useful ways.\n",
    "\n",
    "When getting started with scientific Python, you will probably want to try to use ndarrays whenever possible, saving the other types of collections for those cases when you have a specific reason to use them.\n"
   ]
  },
  {
   "cell_type": "code",
   "execution_count": null,
   "metadata": {
    "collapsed": false,
    "jupyter": {
     "outputs_hidden": false
    }
   },
   "outputs": [],
   "source": [
    "# We need to import the numpy library to have access to it \n",
    "# We can also create an alias for a library, this is something you will commonly see with numpy\n",
    "\n",
    "import numpy as np"
   ]
  },
  {
   "cell_type": "code",
   "execution_count": null,
   "metadata": {
    "collapsed": false,
    "jupyter": {
     "outputs_hidden": false
    }
   },
   "outputs": [],
   "source": [
    "# Make an array from a list\n",
    "alist = [2, 3, 4]\n",
    "blist = [5, 6, 7]\n",
    "a = np.array(alist)\n",
    "b = np.array(blist)\n",
    "print(a, type(a))\n",
    "print(b, type(b))"
   ]
  },
  {
   "cell_type": "code",
   "execution_count": null,
   "metadata": {
    "collapsed": false,
    "jupyter": {
     "outputs_hidden": false
    }
   },
   "outputs": [],
   "source": [
    "# Do arithmetic on arrays\n",
    "print(a**2)\n",
    "print(np.sin(a))\n",
    "print(a * b)\n",
    "print(a.dot(b), np.dot(a, b))"
   ]
  },
  {
   "cell_type": "code",
   "execution_count": null,
   "metadata": {
    "collapsed": false,
    "jupyter": {
     "outputs_hidden": false
    }
   },
   "outputs": [],
   "source": [
    "# Boolean operators work on arrays too, and they return boolean arrays\n",
    "print(a > 2)\n",
    "print(b == 6)\n",
    "\n",
    "c = a > 2\n",
    "print(c)\n",
    "print(type(c))\n",
    "print(c.dtype)"
   ]
  },
  {
   "cell_type": "code",
   "execution_count": null,
   "metadata": {
    "collapsed": false,
    "jupyter": {
     "outputs_hidden": false
    }
   },
   "outputs": [],
   "source": [
    "# Indexing arrays\n",
    "print(a[0:2])\n",
    "\n",
    "c = np.random.rand(3,3)\n",
    "print(c)\n",
    "print('\\n')\n",
    "print(c[1,1])\n",
    "print(c[1:3,0:2])\n",
    "\n",
    "c[0,:] = a\n",
    "print('\\n')\n",
    "print(c)"
   ]
  },
  {
   "cell_type": "code",
   "execution_count": null,
   "metadata": {
    "collapsed": false,
    "jupyter": {
     "outputs_hidden": false
    }
   },
   "outputs": [],
   "source": [
    "# Arrays can also be indexed with other boolean arrays\n",
    "print(a)\n",
    "print(b)\n",
    "print(a > 2)\n",
    "print(a[a > 2])\n",
    "print(b[a > 2])\n",
    "\n",
    "b[a == 3] = 77\n",
    "print(b)"
   ]
  },
  {
   "cell_type": "code",
   "execution_count": null,
   "metadata": {
    "collapsed": false,
    "jupyter": {
     "outputs_hidden": false
    }
   },
   "outputs": [],
   "source": [
    "# ndarrays have attributes in addition to methods\n",
    "#c.\n",
    "print(c.shape)\n",
    "print(c.prod())"
   ]
  },
  {
   "cell_type": "code",
   "execution_count": null,
   "metadata": {
    "collapsed": false,
    "jupyter": {
     "outputs_hidden": false
    }
   },
   "outputs": [],
   "source": [
    "# There are handy ways to make arrays full of ones and zeros\n",
    "print(np.zeros(5), '\\n')\n",
    "print(np.ones(5), '\\n')\n",
    "print(np.identity(5), '\\n')"
   ]
  },
  {
   "cell_type": "code",
   "execution_count": null,
   "metadata": {
    "collapsed": false,
    "jupyter": {
     "outputs_hidden": false
    }
   },
   "outputs": [],
   "source": [
    "# You can also easily make arrays of number sequences\n",
    "print(np.arange(0, 10, 2))"
   ]
  },
  {
   "cell_type": "markdown",
   "metadata": {},
   "source": [
    "### 3.5 Pandas dataframes\n",
    "\n",
    "Dataframes are similar to numpy arrays; they are actually build on numpy array, and they can be also thought as matrices with columns that gather variables of the same type (e.g one column can be names, another income, etx).\n",
    "\n",
    "At the same time, dataframes and numpy ndarray differ. For example, Python processes numpy arrays faster. However, dataframes have many useful functions and methods not present in numpy arrays. That's why we learn, and use, both.\n"
   ]
  },
  {
   "cell_type": "code",
   "execution_count": null,
   "metadata": {},
   "outputs": [],
   "source": [
    "# Let's import the module pandas with the alias pd.\n",
    "# If you imported the module before, you don't need to import it twice.\n",
    "import pandas as pd"
   ]
  },
  {
   "cell_type": "code",
   "execution_count": null,
   "metadata": {},
   "outputs": [],
   "source": [
    "# Building dataframes from dictionaries.\n",
    "data = {\n",
    "    'apples': [3, 2, 0, 1], \n",
    "    'oranges': [0, 3, 7, 2]\n",
    "}\n",
    "purchases = pd.DataFrame(data) #Each key is a column in the dataframe, and each value of the key is a row.\n",
    "purchases\n"
   ]
  },
  {
   "cell_type": "code",
   "execution_count": null,
   "metadata": {},
   "outputs": [],
   "source": [
    "# Building dataframes from numpy array\n",
    "data_numpy_array = np.array([[3, 2, 0, 1], [0, 3, 7, 2]])\n",
    "purchases = pd.DataFrame(np.transpose(data_numpy_array), \n",
    "                       columns = ['apples','oranges'])\n",
    "purchases\n"
   ]
  },
  {
   "cell_type": "code",
   "execution_count": null,
   "metadata": {},
   "outputs": [],
   "source": [
    "# Building dataframes from a list\n",
    "data_list = [[3, 0], [2, 3], [0, 7],[1,2]] #Cada item de la lista es una fila del dataframe\n",
    "purchases = pd.DataFrame(data_list, \n",
    "                       columns = ['apples','oranges'])\n",
    "purchases\n"
   ]
  },
  {
   "cell_type": "code",
   "execution_count": null,
   "metadata": {},
   "outputs": [],
   "source": [
    "# The constructor pd.DataFrame enumarates the rows. We can change them to strings\n",
    "# Rows are called index\n",
    "purchases = pd.DataFrame(data, index=['June', 'Robert', 'Lily', 'David'])\n",
    "purchases"
   ]
  },
  {
   "cell_type": "code",
   "execution_count": null,
   "metadata": {},
   "outputs": [],
   "source": [
    "# We can use the index name to locate values in a column (cell values)\n",
    "purchases.loc['Robert',:] "
   ]
  },
  {
   "cell_type": "code",
   "execution_count": null,
   "metadata": {},
   "outputs": [],
   "source": [
    "# We can use the column name to locate values iin a row (cell values)\n",
    "purchases.loc[:,'oranges'] "
   ]
  },
  {
   "cell_type": "code",
   "execution_count": null,
   "metadata": {},
   "outputs": [],
   "source": [
    "# We can access individual values\n",
    "purchases.loc['David','apples']"
   ]
  },
  {
   "cell_type": "code",
   "execution_count": null,
   "metadata": {},
   "outputs": [],
   "source": [
    "# with the method reset_index() we can enumarate again the rows and drop the names\n",
    "purchases = purchases.reset_index(drop = True)\n",
    "print(purchases)\n",
    "\n",
    "# This is useful to access cells by their coordinates\n",
    "purchases.iloc[0,0]\n"
   ]
  },
  {
   "cell_type": "markdown",
   "metadata": {
    "tags": [
     "Ejercicio"
    ],
    "toc-hr-collapsed": true,
    "toc-nb-collapsed": true
   },
   "source": [
    "### EJERCICIO 3 - Análisis simple con numpy arrays\n",
    "\n",
    "Revisit your list of heights\n",
    "\n",
    "1. Create a new cell code below\n",
    "1. turn the list of heights into a numpy array\n",
    "1. calculate the mean and standard deviation\n",
    "1. create a mask of all heights greater than a certain value (your choice)\n",
    "1. find the mean of the masked heights\n",
    "\n"
   ]
  },
  {
   "cell_type": "code",
   "execution_count": null,
   "metadata": {},
   "outputs": [],
   "source": []
  },
  {
   "cell_type": "markdown",
   "metadata": {},
   "source": [
    "Numpy broadcasting\n",
    "https://numpy.org/doc/stable/user/basics.broadcasting.html\n",
    "\n",
    "<center><img src=\"np_broadcast_visual.png\" width = \"400\" height = '400'></center>"
   ]
  },
  {
   "cell_type": "markdown",
   "metadata": {
    "tags": [
     "Tema"
    ],
    "toc-hr-collapsed": true,
    "toc-nb-collapsed": true
   },
   "source": [
    "## 4. ITERAR: LOOPS FOR Y LOOPS WHILE\n",
    "\n",
    "So far, everything that we've done could, in principle, be done by hand calculation. In this section and the next, we really start to take advantage of the power of programming languages to do things for us automatically.\n",
    "\n",
    "We start here with ways to repeat yourself. The two most common ways of doing this are known as for loops and while loops. For loops in Python are useful when you want to cycle over all of the items in a collection (such as all of the elements of an array), and while loops are useful when you want to cycle for an indefinite amount of time until some condition is met.\n",
    "\n",
    "The basic examples below will work for looping over lists, tuples, and arrays. Looping over dictionaries is a bit different, since there is a key and a value for each item in a dictionary. Have a look at the Python docs for more information.\n"
   ]
  },
  {
   "cell_type": "code",
   "execution_count": null,
   "metadata": {
    "collapsed": false,
    "jupyter": {
     "outputs_hidden": false
    }
   },
   "outputs": [],
   "source": [
    "# A basic for loop - don't forget the white space!\n",
    "wordlist = ['hi', 'hello', 'bye']\n",
    "for word in wordlist:\n",
    "    print(word + '!')\n"
   ]
  },
  {
   "cell_type": "markdown",
   "metadata": {},
   "source": [
    "**Note on indentation**: Notice the indentation once we enter the for loop. Every idented statement after the for loop declaration is part of the for loop. This rule holds true for while loops, if statements, functions, etc. Required identation is one of the reasons Python is such a beautiful language to read.\n",
    "\n",
    "If you do not have consistent indentation you will get an `IndentationError`. Fortunately, most code editors will ensure your indentation is correction.\n",
    "\n",
    "NOTE In Python the default is to use four (4) spaces for each indentation, most editros can be configured to follow this guide.\n"
   ]
  },
  {
   "cell_type": "code",
   "execution_count": null,
   "metadata": {
    "collapsed": false,
    "jupyter": {
     "outputs_hidden": false
    }
   },
   "outputs": [],
   "source": [
    "# Indentation error: Fix it!\n",
    "for word in wordlist:\n",
    "    new_word = word.capitalize()\n",
    "   print(new_word + '!') # Bad indent"
   ]
  },
  {
   "cell_type": "code",
   "execution_count": null,
   "metadata": {
    "collapsed": false,
    "jupyter": {
     "outputs_hidden": false
    }
   },
   "outputs": [],
   "source": [
    "# Sum all of the values in a collection using a for loop\n",
    "numlist = [1, 4, 77, 3]\n",
    "\n",
    "total = 0\n",
    "for num in numlist:\n",
    "    total = total + num\n",
    "    \n",
    "print(\"Sum is\", total)"
   ]
  },
  {
   "cell_type": "code",
   "execution_count": null,
   "metadata": {
    "collapsed": false,
    "jupyter": {
     "outputs_hidden": false
    }
   },
   "outputs": [],
   "source": [
    "# Often we want to loop over the indexes of a collection, not just the items\n",
    "print(wordlist)\n",
    "for i, word in enumerate(wordlist):\n",
    "    print(i, word, wordlist[i])"
   ]
  },
  {
   "cell_type": "code",
   "execution_count": null,
   "metadata": {
    "collapsed": false,
    "jupyter": {
     "outputs_hidden": false
    }
   },
   "outputs": [],
   "source": [
    "# While loops are useful when you don't know how many steps you will need,\n",
    "# and want to stop once a certain condition is met.\n",
    "step = 0\n",
    "prod = 1\n",
    "while prod < 100:\n",
    "    step = step + 1\n",
    "    prod = prod * 2\n",
    "    print(step, prod)\n",
    "    \n",
    "print('Reached a product of', prod, 'at step number', step)"
   ]
  },
  {
   "cell_type": "markdown",
   "metadata": {
    "tags": [
     "Ejercicio"
    ]
   },
   "source": [
    "### EXERCISE 4 - Variance\n",
    "\n",
    "We can now calculate the variance of the heights we collected before.\n",
    "\n",
    "As a reminder, **sample variance* is the calculated from the sum of squared differences of each observation from the mean:\n",
    "\n",
    "### $variance = \\frac{\\Sigma{(x-mean)^2}}{n-1}$\n",
    "\n",
    "where mean is the mean of our observations, x is each individual observation, and n is the number of observations.\n",
    "\n",
    "First, we need to calculate the mean:\n",
    "\n",
    "1. Create a variable total for the sum of the heights.\n",
    "2. Using a for loop, add each height to total.\n",
    "3. Find the mean by dividing this by the number of measurements, and store it as mean.\n",
    "__Note__: To get the number of things in a list, use len(the_list).\n",
    "\n",
    "Now we'll use another loop to calculate the variance:\n",
    "\n",
    "1. Create a variable sum_diffsq for the sum of squared differences.\n",
    "1. Make a second for loop over heights.\n",
    "    * At each step, subtract the height from the mean and call it diff.\n",
    "    * Square this and call it diffsq.\n",
    "    * Add diffsq on to sum_diffsq.\n",
    "1. Divide diffsq by n-1 to get the variance.\n",
    "1. Display the variance.\n",
    "\n",
    "__Note__: To square a number in Python, use **, eg. 5**2.\n",
    "\n",
    "Bonus\n",
    "\n",
    "Test whether variance is larger than 0.01, and print out a line that says \"variance more than 0.01: \" followed by the answer (either True or False).\n"
   ]
  },
  {
   "cell_type": "code",
   "execution_count": null,
   "metadata": {},
   "outputs": [],
   "source": []
  },
  {
   "cell_type": "markdown",
   "metadata": {
    "tags": [
     "Tema"
    ],
    "toc-hr-collapsed": true,
    "toc-nb-collapsed": true
   },
   "source": [
    "## 5. CONDITIONAL IF\n",
    "\n",
    "Often we want to check if a condition is True and take one action if it is, and another action if the condition is False. We can achieve this in Python with an if statement.\n",
    "\n",
    "__TIP__: You can use any expression that returns a boolean value (True or False) in an if statement. Common boolean operators are ==, !=, <, <=, >, >=. You can also use `is` and `is not` if you want to check if two variables are identical in the sense that they are stored in the same location in memory.\n",
    "\n"
   ]
  },
  {
   "cell_type": "code",
   "execution_count": null,
   "metadata": {
    "collapsed": false,
    "jupyter": {
     "outputs_hidden": false
    }
   },
   "outputs": [],
   "source": [
    "# A simple if statement\n",
    "x = 3\n",
    "if x > 0:\n",
    "    print('x is positive')\n",
    "elif x < 0:\n",
    "    print('x is negative')\n",
    "else:\n",
    "    print('x is zero')"
   ]
  },
  {
   "cell_type": "code",
   "execution_count": null,
   "metadata": {
    "collapsed": false,
    "jupyter": {
     "outputs_hidden": false
    }
   },
   "outputs": [],
   "source": [
    "# If statements can rely on boolean variables\n",
    "x = -1\n",
    "test = (x > 0)\n",
    "print(type(test)); print(test)\n",
    "\n",
    "if test:\n",
    "    print('Test was true')"
   ]
  },
  {
   "cell_type": "markdown",
   "metadata": {
    "tags": [
     "Tema"
    ],
    "toc-hr-collapsed": true,
    "toc-nb-collapsed": true
   },
   "source": [
    "## 6. FUNCTIONS & MODULES\n",
    "\n",
    "One way to write a program is to simply string together commands, like the ones described above, in a long file, and then to run that file to generate your results. This may work, but it can be cognitively difficult to follow the logic of programs written in this style. Also, it does not allow you to reuse your code easily - for example, what if we wanted to run our logistic growth model for several different choices of initial parameters?\n",
    "\n",
    "The most important ways to \"chunk\" code into more manageable pieces is to create functions and then to gather these functions into modules, and eventually packages. Below we will discuss how to create functions and modules. A third common type of \"chunk\" in Python is classes, but we will not be covering object-oriented programming in this workshop.\n"
   ]
  },
  {
   "cell_type": "code",
   "execution_count": null,
   "metadata": {
    "collapsed": false,
    "jupyter": {
     "outputs_hidden": false
    }
   },
   "outputs": [],
   "source": [
    "# We've been using functions all day\n",
    "x = 3.333333\n",
    "print(round(x, 2))\n",
    "print(np.sin(x))"
   ]
  },
  {
   "cell_type": "code",
   "execution_count": null,
   "metadata": {},
   "outputs": [],
   "source": [
    "# It's very easy to write your own functions\n",
    "def multiply(x, y):\n",
    "    return x*y"
   ]
  },
  {
   "cell_type": "code",
   "execution_count": null,
   "metadata": {
    "collapsed": false,
    "jupyter": {
     "outputs_hidden": false
    }
   },
   "outputs": [],
   "source": [
    "# Once a function is \"run\" and saved in memory, it's available just like any other function\n",
    "print(type(multiply))\n",
    "print(multiply(4, 3))"
   ]
  },
  {
   "cell_type": "code",
   "execution_count": null,
   "metadata": {},
   "outputs": [],
   "source": [
    "# It's useful to include docstrings to describe what your function does, inputs, and outputs\n",
    "def say_hello(time, people):\n",
    "    '''\n",
    "    Function says a greeting. Useful for engendering goodwill\n",
    "    '''\n",
    "    return 'Good ' + time + ', ' + people"
   ]
  },
  {
   "cell_type": "markdown",
   "metadata": {},
   "source": [
    "**Docstrings**: A docstring is a special type of comment that tells you what a function does. You can see them when you ask for help about a function"
   ]
  },
  {
   "cell_type": "code",
   "execution_count": null,
   "metadata": {
    "collapsed": false,
    "jupyter": {
     "outputs_hidden": false
    }
   },
   "outputs": [],
   "source": [
    "say_hello('afternoon', 'friends')"
   ]
  },
  {
   "cell_type": "code",
   "execution_count": null,
   "metadata": {
    "collapsed": false,
    "jupyter": {
     "outputs_hidden": false
    }
   },
   "outputs": [],
   "source": [
    "# All arguments must be present, or the function will return an error\n",
    "say_hello('afternoon')"
   ]
  },
  {
   "cell_type": "code",
   "execution_count": null,
   "metadata": {},
   "outputs": [],
   "source": [
    "# Keyword arguments can be used to make some arguments optional by giving them a default value\n",
    "# All mandatory arguments must come first, in order; parameters with default values at the end\n",
    "def say_hello(time, people='friends'):\n",
    "    return 'Good ' + time + ', ' + people"
   ]
  },
  {
   "cell_type": "code",
   "execution_count": null,
   "metadata": {
    "collapsed": false,
    "jupyter": {
     "outputs_hidden": false
    }
   },
   "outputs": [],
   "source": [
    "say_hello('afternoon')"
   ]
  },
  {
   "cell_type": "code",
   "execution_count": null,
   "metadata": {
    "collapsed": false,
    "jupyter": {
     "outputs_hidden": false
    }
   },
   "outputs": [],
   "source": [
    "say_hello('afternoon', 'students')"
   ]
  },
  {
   "cell_type": "markdown",
   "metadata": {
    "tags": [
     "Ejercicio"
    ]
   },
   "source": [
    "### EJERCICIO 5 - Crear una función de varianza\n",
    "\n",
    "Finally, let's turn our variance calculation into a function that we can use over and over again. Copy your code from Exercise 4 into the box below, and do the following:\n",
    "\n",
    "1. Turn your code into a function called `calculate_variance` that takes a list of values and returns their variance.\n",
    "2. Write a nice docstring describing what your function does.\n",
    "3. In a subsequent cell, call your function with different sets of numbers to make sure it works.\n",
    "\n",
    "Create another code cell and do the following:\n",
    "\n",
    "1. Refactor your function by pulling out the section that calculates the mean into another function called `calculate_mean`, and calling that inside your `calculate_variance` function.\n",
    "1. Make sure it can works properly when all the data are integers as well.\n",
    "1. Give a better error message when it's passed an empty list. Use the web to find out how to raise exceptions in Python."
   ]
  },
  {
   "cell_type": "markdown",
   "metadata": {
    "tags": [
     "Ejercicio"
    ]
   },
   "source": [
    "### EJERCICIO 6 - Put `Calculate_mean` & ` Calculate_variance` in a module\n",
    "\n",
    "We can make our functions more easily reusable by placing them into modules that we can import, just like we have been doing with `numpy`. It's pretty simple to do this.\n",
    "\n",
    "1. Copy your function(s) into a new text file, in the same directory as this notebook, called `stats.py`.\n",
    "1. In the cell below, type `import stats` to import the module. \n",
    "1. Type `stats`. and hit tab to see the available functions in the module. \n",
    "1. Try calculating the variance of a number of samples of heights (or other random numbers) using your imported module.\n",
    "\n"
   ]
  },
  {
   "cell_type": "code",
   "execution_count": null,
   "metadata": {},
   "outputs": [],
   "source": []
  },
  {
   "cell_type": "markdown",
   "metadata": {
    "tags": [
     "Tema"
    ]
   },
   "source": [
    "## 7. LOAD, ARRANGE, USE, AND SAVE DATA \n",
    "\n",
    "Data scientists obtain and use information from many sources. Python can manage many formats (csv, dta, RData, mat, json, sql, etc). In this section we will use `pandas dataframes`. "
   ]
  },
  {
   "cell_type": "markdown",
   "metadata": {},
   "source": [
    "### 7.1 LOAD"
   ]
  },
  {
   "cell_type": "code",
   "execution_count": 1,
   "metadata": {
    "scrolled": true
   },
   "outputs": [],
   "source": [
    "import numpy #already loaded, here for pedagogical reasons\n",
    "import json\n",
    "import pandas as pd #already loaded, here for pedagogical reasons"
   ]
  },
  {
   "cell_type": "code",
   "execution_count": null,
   "metadata": {},
   "outputs": [],
   "source": [
    "# To load a .csv file\n",
    "data_csv = pd.read_csv('GHE2016_AllAges.csv') #Death rate by country and disease type\n",
    "print(type(data_csv))\n",
    "data_csv.head() #It's on wide format; later we will see how to put it in long format"
   ]
  },
  {
   "cell_type": "code",
   "execution_count": 3,
   "metadata": {},
   "outputs": [
    {
     "name": "stdout",
     "output_type": "stream",
     "text": [
      "Unnamed: 0      int64\n",
      "year            int64\n",
      "sex            object\n",
      "name           object\n",
      "n               int64\n",
      "prop          float64\n",
      "dtype: object\n"
     ]
    },
    {
     "data": {
      "text/html": [
       "<div>\n",
       "<style scoped>\n",
       "    .dataframe tbody tr th:only-of-type {\n",
       "        vertical-align: middle;\n",
       "    }\n",
       "\n",
       "    .dataframe tbody tr th {\n",
       "        vertical-align: top;\n",
       "    }\n",
       "\n",
       "    .dataframe thead th {\n",
       "        text-align: right;\n",
       "    }\n",
       "</style>\n",
       "<table border=\"1\" class=\"dataframe\">\n",
       "  <thead>\n",
       "    <tr style=\"text-align: right;\">\n",
       "      <th></th>\n",
       "      <th>Unnamed: 0</th>\n",
       "      <th>year</th>\n",
       "      <th>sex</th>\n",
       "      <th>name</th>\n",
       "      <th>n</th>\n",
       "      <th>prop</th>\n",
       "    </tr>\n",
       "  </thead>\n",
       "  <tbody>\n",
       "    <tr>\n",
       "      <th>0</th>\n",
       "      <td>1</td>\n",
       "      <td>1880</td>\n",
       "      <td>F</td>\n",
       "      <td>Mary</td>\n",
       "      <td>7065</td>\n",
       "      <td>0.072384</td>\n",
       "    </tr>\n",
       "    <tr>\n",
       "      <th>1</th>\n",
       "      <td>2</td>\n",
       "      <td>1880</td>\n",
       "      <td>F</td>\n",
       "      <td>Anna</td>\n",
       "      <td>2604</td>\n",
       "      <td>0.026679</td>\n",
       "    </tr>\n",
       "    <tr>\n",
       "      <th>2</th>\n",
       "      <td>3</td>\n",
       "      <td>1880</td>\n",
       "      <td>F</td>\n",
       "      <td>Emma</td>\n",
       "      <td>2003</td>\n",
       "      <td>0.020521</td>\n",
       "    </tr>\n",
       "    <tr>\n",
       "      <th>3</th>\n",
       "      <td>4</td>\n",
       "      <td>1880</td>\n",
       "      <td>F</td>\n",
       "      <td>Elizabeth</td>\n",
       "      <td>1939</td>\n",
       "      <td>0.019866</td>\n",
       "    </tr>\n",
       "    <tr>\n",
       "      <th>4</th>\n",
       "      <td>5</td>\n",
       "      <td>1880</td>\n",
       "      <td>F</td>\n",
       "      <td>Minnie</td>\n",
       "      <td>1746</td>\n",
       "      <td>0.017888</td>\n",
       "    </tr>\n",
       "    <tr>\n",
       "      <th>...</th>\n",
       "      <td>...</td>\n",
       "      <td>...</td>\n",
       "      <td>...</td>\n",
       "      <td>...</td>\n",
       "      <td>...</td>\n",
       "      <td>...</td>\n",
       "    </tr>\n",
       "    <tr>\n",
       "      <th>1924660</th>\n",
       "      <td>1924661</td>\n",
       "      <td>2017</td>\n",
       "      <td>M</td>\n",
       "      <td>Zykai</td>\n",
       "      <td>5</td>\n",
       "      <td>0.000003</td>\n",
       "    </tr>\n",
       "    <tr>\n",
       "      <th>1924661</th>\n",
       "      <td>1924662</td>\n",
       "      <td>2017</td>\n",
       "      <td>M</td>\n",
       "      <td>Zykeem</td>\n",
       "      <td>5</td>\n",
       "      <td>0.000003</td>\n",
       "    </tr>\n",
       "    <tr>\n",
       "      <th>1924662</th>\n",
       "      <td>1924663</td>\n",
       "      <td>2017</td>\n",
       "      <td>M</td>\n",
       "      <td>Zylin</td>\n",
       "      <td>5</td>\n",
       "      <td>0.000003</td>\n",
       "    </tr>\n",
       "    <tr>\n",
       "      <th>1924663</th>\n",
       "      <td>1924664</td>\n",
       "      <td>2017</td>\n",
       "      <td>M</td>\n",
       "      <td>Zylis</td>\n",
       "      <td>5</td>\n",
       "      <td>0.000003</td>\n",
       "    </tr>\n",
       "    <tr>\n",
       "      <th>1924664</th>\n",
       "      <td>1924665</td>\n",
       "      <td>2017</td>\n",
       "      <td>M</td>\n",
       "      <td>Zyrie</td>\n",
       "      <td>5</td>\n",
       "      <td>0.000003</td>\n",
       "    </tr>\n",
       "  </tbody>\n",
       "</table>\n",
       "<p>1924665 rows × 6 columns</p>\n",
       "</div>"
      ],
      "text/plain": [
       "         Unnamed: 0  year sex       name     n      prop\n",
       "0                 1  1880   F       Mary  7065  0.072384\n",
       "1                 2  1880   F       Anna  2604  0.026679\n",
       "2                 3  1880   F       Emma  2003  0.020521\n",
       "3                 4  1880   F  Elizabeth  1939  0.019866\n",
       "4                 5  1880   F     Minnie  1746  0.017888\n",
       "...             ...   ...  ..        ...   ...       ...\n",
       "1924660     1924661  2017   M      Zykai     5  0.000003\n",
       "1924661     1924662  2017   M     Zykeem     5  0.000003\n",
       "1924662     1924663  2017   M      Zylin     5  0.000003\n",
       "1924663     1924664  2017   M      Zylis     5  0.000003\n",
       "1924664     1924665  2017   M      Zyrie     5  0.000003\n",
       "\n",
       "[1924665 rows x 6 columns]"
      ]
     },
     "execution_count": 3,
     "metadata": {},
     "output_type": "execute_result"
    }
   ],
   "source": [
    "babynames = pd.read_csv('babynames.csv') \n",
    "print(babynames.dtypes) #name and data type of each column (i.e. variables)\n",
    "babynames"
   ]
  },
  {
   "cell_type": "code",
   "execution_count": null,
   "metadata": {},
   "outputs": [],
   "source": [
    "# To load an stata .dat file\n",
    "data_stata = pd.read_stata('heus_mepssample.dta')\n",
    "itr = pd.read_stata('heus_mepssample.dta', iterator=True) #has the description of the variables\n",
    "print(data_stata.dtypes) \n",
    "print('\\n')\n",
    "print(\"La variable ed_hs es: \" + itr.variable_labels()['ed_hs'])"
   ]
  },
  {
   "cell_type": "code",
   "execution_count": null,
   "metadata": {},
   "outputs": [],
   "source": [
    "# To load a .json file\n",
    "with open('black_mirror.json') as f: \n",
    "    data = json.load(f) #parses f (the json file in text form) and puts it in a dictionary\n",
    "print(data.keys()) #Dictionary keys\n",
    "data_json = pd.DataFrame(data['_embedded']['episodes']) #black mirror episodes in a pandas data frame\n",
    "print(data_json.dtypes) #columns and data types. Each row is an episod\n",
    "print('\\n')\n",
    "episode = 6\n",
    "print(data_json.loc[episode,'name']) \n",
    "print(data_json.loc[episode,'season']) \n",
    "print(data_json.loc[episode,'summary'])\n",
    "\n"
   ]
  },
  {
   "cell_type": "markdown",
   "metadata": {},
   "source": [
    "### 7.2 Arrange\n",
    "\n",
    "Based on the tutorial premiers for rstudio cloud"
   ]
  },
  {
   "cell_type": "code",
   "execution_count": null,
   "metadata": {},
   "outputs": [],
   "source": [
    "# Same data, different arrangement\n",
    "tabla1 = pd.read_csv('For_Reshape_Tutorial.csv')\n",
    "tabla2 = pd.read_csv('For_Reshape_Tutorial_2.csv')\n",
    "tabla3 = pd.read_csv('For_Reshape_Tutorial_3.csv')\n",
    "tabla4a = pd.read_csv('For_Reshape_Tutorial_4a.csv') #casos\n",
    "tabla4b = pd.read_csv('For_Reshape_Tutorial_4b.csv') #población\n",
    "tabla5 = pd.read_csv('For_Reshape_Tutorial_5.csv')\n"
   ]
  },
  {
   "cell_type": "code",
   "execution_count": null,
   "metadata": {},
   "outputs": [],
   "source": [
    "# Let's see table 1\n",
    "print(tabla1.dtypes)\n",
    "print(\"(rows, columns): \" + str(tabla1.shape))\n",
    "print('\\n')\n",
    "print(tabla1) "
   ]
  },
  {
   "cell_type": "markdown",
   "metadata": {},
   "source": [
    "Some definitions:\n",
    "* **Variable:** Measurable/describable property.\n",
    "\n",
    "* **Value**: value of a variable (e.g. the variable `age` can take different values).\n",
    "\n",
    "* **Observation**: set of values from different variables (e.g. the age, SES, gender of an individual)\n"
   ]
  },
  {
   "cell_type": "markdown",
   "metadata": {
    "tags": [
     "Ejercicio"
    ]
   },
   "source": [
    "### EXERCISE 7 - Identify variables, values, and observations\n",
    "\n",
    "In tabla 1:\n",
    "- What are variables? \n",
    "- What are values? \n",
    "- What are observations?"
   ]
  },
  {
   "cell_type": "code",
   "execution_count": null,
   "metadata": {},
   "outputs": [],
   "source": [
    "# Let's see other tables\n",
    "tabla2"
   ]
  },
  {
   "cell_type": "code",
   "execution_count": null,
   "metadata": {},
   "outputs": [],
   "source": [
    "tabla3"
   ]
  },
  {
   "cell_type": "code",
   "execution_count": null,
   "metadata": {},
   "outputs": [],
   "source": [
    "tabla4a"
   ]
  },
  {
   "cell_type": "code",
   "execution_count": null,
   "metadata": {},
   "outputs": [],
   "source": [
    "tabla4b"
   ]
  },
  {
   "cell_type": "code",
   "execution_count": null,
   "metadata": {},
   "outputs": [],
   "source": [
    "tabla5"
   ]
  },
  {
   "cell_type": "markdown",
   "metadata": {},
   "source": [
    "All tables have the same information, however some times we want them in an specific arrangement. For instance, let's imagine we want tabla 2 but arranged as tabla 1 (and assume we do not have tabla 1). How can we rearrange tabla 2?"
   ]
  },
  {
   "cell_type": "code",
   "execution_count": null,
   "metadata": {},
   "outputs": [],
   "source": [
    "# We want tabla 2 to look as tabla 1\n",
    "# Problem: in tabla 2, cases y population are in the column \"type\"\n",
    "# Objective: go from long to wide format: extend the columna type into two new columns cases & population\n",
    "# Solution: pd.pivot_table()\n",
    "\n",
    "tabla2_wide = pd.pivot_table(tabla2, index = ['country', 'year'], columns = ['type'], values = ['count']).reset_index()\n",
    "tabla2_wide.columns = ['country','year', 'cases','population']\n",
    "tabla2_wide #en formato wide (ancho)"
   ]
  },
  {
   "cell_type": "code",
   "execution_count": null,
   "metadata": {},
   "outputs": [],
   "source": [
    "# Para comparar con la obtenida en la anterior celda\n",
    "tabla1"
   ]
  },
  {
   "cell_type": "code",
   "execution_count": null,
   "metadata": {},
   "outputs": [],
   "source": [
    "# Now the opposite problem: there are some columns that I want to collapse into one\n",
    "# That is, we want tabla 1 to look like tabla 2\n",
    "# Problem: in tabla 1, cases y population are in different columns\n",
    "# Objective: go from wide to long: colapse the columns cases & population into one\n",
    "# Solución: pd.melt()\n",
    "\n",
    "tabla1_long = pd.melt(tabla1, id_vars = ['country', 'year'], value_vars = ['cases','population'], \n",
    "                     var_name = 'type', value_name = 'count').reset_index(drop=True)\n",
    "tabla1_long = tabla1_long.sort_values(by = ['country', 'year'], ascending = True)\n",
    "tabla1_long #en formato long (largo)"
   ]
  },
  {
   "cell_type": "code",
   "execution_count": null,
   "metadata": {},
   "outputs": [],
   "source": [
    "# Para comparar con la obtenida en la anterior celda\n",
    "tabla2\n"
   ]
  },
  {
   "cell_type": "markdown",
   "metadata": {
    "tags": [
     "Ejercicio"
    ]
   },
   "source": [
    "### EXERCISE 8 - Arrange a table\n",
    "\n",
    "In the database GHE2016_AllAges.csv each country has a column. We are interested in using country as a variable, thus we need to change the arrangement of the database. This means that we are interested in using a long format i.e. collapse many columns (countries) into one. Do the following:\n",
    "\n",
    "* Load the database into a python variable called `data_raw`\n",
    "* Create a python variable called `columnas_data_raw` with the names of the columns of `data_raw`. TIP: use the method .columns\n",
    "* Use pd.melt to create a new python variable called `data_long`. In `data_long` place all countries in a single column called `country`. TIP: the names of the countries are in `columnas_data_raw`, from the index 7 onward\n",
    "* What are the columns temp3 y temp4? Rename these columns TIP: use the method .rename.\n"
   ]
  },
  {
   "cell_type": "markdown",
   "metadata": {},
   "source": [
    "### 7.3 Use\n",
    "Python has many libraries to analize data. In this section we will obtain descriptive stats.\n",
    "\n",
    "We will use an R database called `babynames`. It has the frequency (n) and proportion (prop) of different names (name) by gender (sex) during a long period (1880-2017)(year) in the United States.\n",
    "\n",
    "This section is inspired by Rstudio cloud premiers. P.S. Some comparisons with R https://pandas.pydata.org/docs/getting_started/comparison/comparison_with_r.html"
   ]
  },
  {
   "cell_type": "code",
   "execution_count": null,
   "metadata": {},
   "outputs": [],
   "source": [
    "#Do not forget to run previous code cells\n",
    "print(babynames.describe())\n",
    "print(\"Amount of different names: \" + str(len(babynames['name'].unique()))) \n"
   ]
  },
  {
   "cell_type": "code",
   "execution_count": null,
   "metadata": {},
   "outputs": [],
   "source": [
    "# Let's count how many times your name appears\n",
    "# .query() filters row values.\n",
    "name = babynames.query(\"(name == 'Santiago') & (sex == 'M')\") #Note how we use \"\" to be able to use '' inside\n",
    "print(name)\n",
    "name['n'].sum() "
   ]
  },
  {
   "cell_type": "code",
   "execution_count": null,
   "metadata": {},
   "outputs": [],
   "source": [
    "# Now some descriptive stats like max, min, mean, std \n",
    "name = babynames.query(\"(name == 'Santiago') & (sex == 'M')\")\n",
    "print(\"On average, the name appears each year: \" + str(round(name['n'].mean())))\n",
    "print(\"The standard deviation across years: \" + str(round(name['n'].std())))\n",
    "print(\"The min. number of times the name appears in a year: \" + str(round(name['n'].min())))\n",
    "print(\"The max. number of times the name appears in a year: \" + str(round(name['n'].max())))"
   ]
  },
  {
   "cell_type": "code",
   "execution_count": null,
   "metadata": {},
   "outputs": [],
   "source": [
    "# Let's compute descriptive stats for all names\n",
    "# .groupby breaks the data base in groups by the desired variables/column\n",
    "\n",
    "# men\n",
    "baby_filter = babynames.query(\"(sex == 'M')\")\n",
    "names_mean = round(baby_filter.groupby(['name']).mean()) #sum, std, etc.\n",
    "print(names_mean['n'].sort_values(ascending = False).head(20)) #top 20\n",
    "print('\\n')\n",
    "\n",
    "# women\n",
    "baby_filter = babynames.query(\"(sex == 'F')\")\n",
    "names_mean = round(baby_filter.groupby(['name']).mean())\n",
    "print(names_mean['n'].sort_values(ascending = False).head(20)) #top 20\n",
    "print('\\n')\n",
    "\n",
    "# total by year and gender\n",
    "names_mean = babynames.groupby(['year','sex']).sum().reset_index()\n",
    "print(names_mean.head(20)) \n"
   ]
  },
  {
   "cell_type": "code",
   "execution_count": null,
   "metadata": {},
   "outputs": [],
   "source": [
    "# Graphs with ggplot via plotnine\n",
    "#!pip install plotnine\n",
    "import plotnine as p9\n",
    "from plotnine import ggplot, geom_line, aes, stat_smooth, facet_wrap, themes\n",
    "\n",
    "names_mean = babynames.groupby(['year','sex']).sum().reset_index()\n",
    "p1 = (ggplot(names_mean, aes('year', 'n', color='sex'))\n",
    " + geom_line() \n",
    " + themes.theme_xkcd() #many themes e.g. theme_classic()\n",
    ")\n",
    "\n",
    "p1"
   ]
  },
  {
   "cell_type": "code",
   "execution_count": null,
   "metadata": {},
   "outputs": [],
   "source": [
    "# Graphs with matplotlib\n",
    "import matplotlib\n",
    "from matplotlib import pyplot as plt\n",
    "\n",
    "fig1 = plt.figure(figsize = [9,6]) #initialize a blank canvas\n",
    "idx = names_mean['sex'] == 'F'\n",
    "x = names_mean.loc[idx,'year']\n",
    "y = names_mean.loc[idx,'n']\n",
    "plt.plot(x, y, color = 'red', label = 'F')\n",
    "\n",
    "idx = names_mean['sex'] == 'M'\n",
    "x = names_mean.loc[idx,'year']\n",
    "y = names_mean.loc[idx,'n']\n",
    "plt.plot(x, y, color = 'cyan', label = 'M')\n",
    "\n",
    "plt.legend()\n",
    "plt.xlabel('Year')\n",
    "plt.ylabel('Number of names');"
   ]
  },
  {
   "cell_type": "markdown",
   "metadata": {
    "tags": [
     "Ejercicio"
    ]
   },
   "source": [
    "### EXERCISE 9 - Usage of databases\n",
    "\n",
    "With the method .query(), filter three diseases in the database GHE2016_AllAges.csv. Import the database as a pandas dataframe\n",
    "\n",
    "Print the first 30 rows for each disease. Tip: use .head()\n",
    "\n",
    "Use the version `data_long` (from exercise 8)"
   ]
  },
  {
   "cell_type": "markdown",
   "metadata": {},
   "source": [
    "### 7.4 Save\n",
    "\n",
    "Some times a code could take hours or even days. In such cases, it is a good idea to save the output so that the next time you just load them."
   ]
  },
  {
   "cell_type": "code",
   "execution_count": null,
   "metadata": {},
   "outputs": [],
   "source": [
    "# Save in csv\n",
    "data_long.to_csv('GHE2016_AllAges_long.csv')"
   ]
  },
  {
   "cell_type": "code",
   "execution_count": null,
   "metadata": {},
   "outputs": [],
   "source": [
    "# Save in pickle (python format)\n",
    "data_long.to_pickle('GHE2016_AllAges_long.pkl')"
   ]
  },
  {
   "cell_type": "code",
   "execution_count": null,
   "metadata": {},
   "outputs": [],
   "source": [
    "# Save in .dat (Stata)\n",
    "# You can rename columns before saving:\n",
    "# data_long = data_long.rename({'People(x1000)':'People_x_1000'}) \n",
    "data_long.to_stata('GHE2016_AllAges_long.dat')"
   ]
  },
  {
   "cell_type": "code",
   "execution_count": null,
   "metadata": {},
   "outputs": [],
   "source": [
    "# Save in excel \n",
    "data_long.to_excel('GHE2016_AllAges_long.xlsx')"
   ]
  },
  {
   "cell_type": "code",
   "execution_count": null,
   "metadata": {},
   "outputs": [],
   "source": [
    "# Save images\n",
    "ggplot.save(p1, filename = 'p1_ggplot.pdf')\n",
    "\n",
    "fig1.savefig('p1_matplotlib.pdf')"
   ]
  },
  {
   "cell_type": "markdown",
   "metadata": {
    "tags": [
     "Ejercicio"
    ]
   },
   "source": [
    "### EXERCISE 10 - Make a graph and save it\n",
    "\n",
    "Graph the evolution across years of the name Mary for women in the data `babynames`.\n",
    "\n",
    "Save the graph in `mi_primera_figura.png`. Use matplotlib.\n"
   ]
  },
  {
   "cell_type": "markdown",
   "metadata": {},
   "source": [
    "# 8. Polars\n",
    "\n",
    "[Based on Polars documentation](https://docs.pola.rs/user-guide/)"
   ]
  },
  {
   "cell_type": "code",
   "execution_count": 22,
   "metadata": {},
   "outputs": [],
   "source": [
    "import polars as pl\n",
    "import numpy as np\n",
    "from datetime import datetime"
   ]
  },
  {
   "cell_type": "markdown",
   "metadata": {},
   "source": [
    "### Build data frame"
   ]
  },
  {
   "cell_type": "code",
   "execution_count": 6,
   "metadata": {},
   "outputs": [
    {
     "name": "stdout",
     "output_type": "stream",
     "text": [
      "shape: (3, 3)\n",
      "┌─────────┬─────────────────────┬───────┐\n",
      "│ integer ┆ date                ┆ float │\n",
      "│ ---     ┆ ---                 ┆ ---   │\n",
      "│ i64     ┆ datetime[μs]        ┆ f64   │\n",
      "╞═════════╪═════════════════════╪═══════╡\n",
      "│ 1       ┆ 2022-01-01 00:00:00 ┆ 4.0   │\n",
      "│ 2       ┆ 2022-01-02 00:00:00 ┆ 5.0   │\n",
      "│ 3       ┆ 2022-01-03 00:00:00 ┆ 6.0   │\n",
      "└─────────┴─────────────────────┴───────┘\n"
     ]
    }
   ],
   "source": [
    "df = pl.DataFrame(\n",
    "    {\n",
    "        \"integer\": [1, 2, 3],\n",
    "        \"date\": [\n",
    "            datetime(2022, 1, 1),\n",
    "            datetime(2022, 1, 2),\n",
    "            datetime(2022, 1, 3),\n",
    "        ],\n",
    "        \"float\": [4.0, 5.0, 6.0],\n",
    "    }\n",
    ")\n",
    "\n",
    "print(df)"
   ]
  },
  {
   "cell_type": "markdown",
   "metadata": {},
   "source": [
    "### Save and load data"
   ]
  },
  {
   "cell_type": "code",
   "execution_count": 8,
   "metadata": {},
   "outputs": [
    {
     "name": "stdout",
     "output_type": "stream",
     "text": [
      "shape: (3, 3)\n",
      "┌─────────┬────────────────────────────┬───────┐\n",
      "│ integer ┆ date                       ┆ float │\n",
      "│ ---     ┆ ---                        ┆ ---   │\n",
      "│ i64     ┆ str                        ┆ f64   │\n",
      "╞═════════╪════════════════════════════╪═══════╡\n",
      "│ 1       ┆ 2022-01-01T00:00:00.000000 ┆ 4.0   │\n",
      "│ 2       ┆ 2022-01-02T00:00:00.000000 ┆ 5.0   │\n",
      "│ 3       ┆ 2022-01-03T00:00:00.000000 ┆ 6.0   │\n",
      "└─────────┴────────────────────────────┴───────┘\n"
     ]
    }
   ],
   "source": [
    "df.write_csv(\"output.csv\")\n",
    "df_csv = pl.read_csv(\"output.csv\")\n",
    "print(df_csv)"
   ]
  },
  {
   "cell_type": "markdown",
   "metadata": {},
   "source": [
    "# Use"
   ]
  },
  {
   "cell_type": "code",
   "execution_count": 9,
   "metadata": {},
   "outputs": [
    {
     "data": {
      "text/html": [
       "<div><style>\n",
       ".dataframe > thead > tr,\n",
       ".dataframe > tbody > tr {\n",
       "  text-align: right;\n",
       "  white-space: pre-wrap;\n",
       "}\n",
       "</style>\n",
       "<small>shape: (3, 3)</small><table border=\"1\" class=\"dataframe\"><thead><tr><th>integer</th><th>date</th><th>float</th></tr><tr><td>i64</td><td>datetime[μs]</td><td>f64</td></tr></thead><tbody><tr><td>1</td><td>2022-01-01 00:00:00</td><td>4.0</td></tr><tr><td>2</td><td>2022-01-02 00:00:00</td><td>5.0</td></tr><tr><td>3</td><td>2022-01-03 00:00:00</td><td>6.0</td></tr></tbody></table></div>"
      ],
      "text/plain": [
       "shape: (3, 3)\n",
       "┌─────────┬─────────────────────┬───────┐\n",
       "│ integer ┆ date                ┆ float │\n",
       "│ ---     ┆ ---                 ┆ ---   │\n",
       "│ i64     ┆ datetime[μs]        ┆ f64   │\n",
       "╞═════════╪═════════════════════╪═══════╡\n",
       "│ 1       ┆ 2022-01-01 00:00:00 ┆ 4.0   │\n",
       "│ 2       ┆ 2022-01-02 00:00:00 ┆ 5.0   │\n",
       "│ 3       ┆ 2022-01-03 00:00:00 ┆ 6.0   │\n",
       "└─────────┴─────────────────────┴───────┘"
      ]
     },
     "execution_count": 9,
     "metadata": {},
     "output_type": "execute_result"
    }
   ],
   "source": [
    "df.select(pl.col(\"*\")) # * is for all columns"
   ]
  },
  {
   "cell_type": "code",
   "execution_count": 10,
   "metadata": {},
   "outputs": [
    {
     "data": {
      "text/html": [
       "<div><style>\n",
       ".dataframe > thead > tr,\n",
       ".dataframe > tbody > tr {\n",
       "  text-align: right;\n",
       "  white-space: pre-wrap;\n",
       "}\n",
       "</style>\n",
       "<small>shape: (3, 2)</small><table border=\"1\" class=\"dataframe\"><thead><tr><th>integer</th><th>date</th></tr><tr><td>i64</td><td>datetime[μs]</td></tr></thead><tbody><tr><td>1</td><td>2022-01-01 00:00:00</td></tr><tr><td>2</td><td>2022-01-02 00:00:00</td></tr><tr><td>3</td><td>2022-01-03 00:00:00</td></tr></tbody></table></div>"
      ],
      "text/plain": [
       "shape: (3, 2)\n",
       "┌─────────┬─────────────────────┐\n",
       "│ integer ┆ date                │\n",
       "│ ---     ┆ ---                 │\n",
       "│ i64     ┆ datetime[μs]        │\n",
       "╞═════════╪═════════════════════╡\n",
       "│ 1       ┆ 2022-01-01 00:00:00 │\n",
       "│ 2       ┆ 2022-01-02 00:00:00 │\n",
       "│ 3       ┆ 2022-01-03 00:00:00 │\n",
       "└─────────┴─────────────────────┘"
      ]
     },
     "execution_count": 10,
     "metadata": {},
     "output_type": "execute_result"
    }
   ],
   "source": [
    "df.select(pl.col(\"integer\", \"date\")) #Specific columns"
   ]
  },
  {
   "cell_type": "code",
   "execution_count": 11,
   "metadata": {},
   "outputs": [
    {
     "data": {
      "text/html": [
       "<div><style>\n",
       ".dataframe > thead > tr,\n",
       ".dataframe > tbody > tr {\n",
       "  text-align: right;\n",
       "  white-space: pre-wrap;\n",
       "}\n",
       "</style>\n",
       "<small>shape: (3, 2)</small><table border=\"1\" class=\"dataframe\"><thead><tr><th>integer</th><th>date</th></tr><tr><td>i64</td><td>datetime[μs]</td></tr></thead><tbody><tr><td>1</td><td>2022-01-01 00:00:00</td></tr><tr><td>2</td><td>2022-01-02 00:00:00</td></tr><tr><td>3</td><td>2022-01-03 00:00:00</td></tr></tbody></table></div>"
      ],
      "text/plain": [
       "shape: (3, 2)\n",
       "┌─────────┬─────────────────────┐\n",
       "│ integer ┆ date                │\n",
       "│ ---     ┆ ---                 │\n",
       "│ i64     ┆ datetime[μs]        │\n",
       "╞═════════╪═════════════════════╡\n",
       "│ 1       ┆ 2022-01-01 00:00:00 │\n",
       "│ 2       ┆ 2022-01-02 00:00:00 │\n",
       "│ 3       ┆ 2022-01-03 00:00:00 │\n",
       "└─────────┴─────────────────────┘"
      ]
     },
     "execution_count": 11,
     "metadata": {},
     "output_type": "execute_result"
    }
   ],
   "source": [
    "df.select(pl.exclude(\"float\"))"
   ]
  },
  {
   "cell_type": "code",
   "execution_count": 13,
   "metadata": {},
   "outputs": [
    {
     "data": {
      "text/html": [
       "<div><style>\n",
       ".dataframe > thead > tr,\n",
       ".dataframe > tbody > tr {\n",
       "  text-align: right;\n",
       "  white-space: pre-wrap;\n",
       "}\n",
       "</style>\n",
       "<small>shape: (2, 3)</small><table border=\"1\" class=\"dataframe\"><thead><tr><th>integer</th><th>date</th><th>float</th></tr><tr><td>i64</td><td>datetime[μs]</td><td>f64</td></tr></thead><tbody><tr><td>2</td><td>2022-01-02 00:00:00</td><td>5.0</td></tr><tr><td>3</td><td>2022-01-03 00:00:00</td><td>6.0</td></tr></tbody></table></div>"
      ],
      "text/plain": [
       "shape: (2, 3)\n",
       "┌─────────┬─────────────────────┬───────┐\n",
       "│ integer ┆ date                ┆ float │\n",
       "│ ---     ┆ ---                 ┆ ---   │\n",
       "│ i64     ┆ datetime[μs]        ┆ f64   │\n",
       "╞═════════╪═════════════════════╪═══════╡\n",
       "│ 2       ┆ 2022-01-02 00:00:00 ┆ 5.0   │\n",
       "│ 3       ┆ 2022-01-03 00:00:00 ┆ 6.0   │\n",
       "└─────────┴─────────────────────┴───────┘"
      ]
     },
     "execution_count": 13,
     "metadata": {},
     "output_type": "execute_result"
    }
   ],
   "source": [
    "#Filter\n",
    "df.filter((pl.col(\"integer\") >= 2) & (pl.col(\"float\").is_not_nan()))"
   ]
  },
  {
   "cell_type": "code",
   "execution_count": 15,
   "metadata": {},
   "outputs": [
    {
     "data": {
      "text/html": [
       "<div><style>\n",
       ".dataframe > thead > tr,\n",
       ".dataframe > tbody > tr {\n",
       "  text-align: right;\n",
       "  white-space: pre-wrap;\n",
       "}\n",
       "</style>\n",
       "<small>shape: (3, 5)</small><table border=\"1\" class=\"dataframe\"><thead><tr><th>integer</th><th>date</th><th>float</th><th>Sum_Column_Integer</th><th>Integer_Plus_Float</th></tr><tr><td>i64</td><td>datetime[μs]</td><td>f64</td><td>i64</td><td>f64</td></tr></thead><tbody><tr><td>1</td><td>2022-01-01 00:00:00</td><td>4.0</td><td>6</td><td>5.0</td></tr><tr><td>2</td><td>2022-01-02 00:00:00</td><td>5.0</td><td>6</td><td>7.0</td></tr><tr><td>3</td><td>2022-01-03 00:00:00</td><td>6.0</td><td>6</td><td>9.0</td></tr></tbody></table></div>"
      ],
      "text/plain": [
       "shape: (3, 5)\n",
       "┌─────────┬─────────────────────┬───────┬────────────────────┬────────────────────┐\n",
       "│ integer ┆ date                ┆ float ┆ Sum_Column_Integer ┆ Integer_Plus_Float │\n",
       "│ ---     ┆ ---                 ┆ ---   ┆ ---                ┆ ---                │\n",
       "│ i64     ┆ datetime[μs]        ┆ f64   ┆ i64                ┆ f64                │\n",
       "╞═════════╪═════════════════════╪═══════╪════════════════════╪════════════════════╡\n",
       "│ 1       ┆ 2022-01-01 00:00:00 ┆ 4.0   ┆ 6                  ┆ 5.0                │\n",
       "│ 2       ┆ 2022-01-02 00:00:00 ┆ 5.0   ┆ 6                  ┆ 7.0                │\n",
       "│ 3       ┆ 2022-01-03 00:00:00 ┆ 6.0   ┆ 6                  ┆ 9.0                │\n",
       "└─────────┴─────────────────────┴───────┴────────────────────┴────────────────────┘"
      ]
     },
     "execution_count": 15,
     "metadata": {},
     "output_type": "execute_result"
    }
   ],
   "source": [
    "#Create columns\n",
    "df.with_columns(pl.col(\"integer\").sum().alias(\"Sum_Column_Integer\"), (pl.col(\"integer\") + pl.col(\"float\")).alias(\"Integer_Plus_Float\"))\n",
    "\n"
   ]
  },
  {
   "cell_type": "code",
   "execution_count": 20,
   "metadata": {},
   "outputs": [
    {
     "name": "stdout",
     "output_type": "stream",
     "text": [
      "shape: (8, 2)\n",
      "┌─────┬─────┐\n",
      "│ x   ┆ y   │\n",
      "│ --- ┆ --- │\n",
      "│ i64 ┆ str │\n",
      "╞═════╪═════╡\n",
      "│ 0   ┆ A   │\n",
      "│ 1   ┆ A   │\n",
      "│ 2   ┆ A   │\n",
      "│ 3   ┆ B   │\n",
      "│ 4   ┆ B   │\n",
      "│ 5   ┆ C   │\n",
      "│ 6   ┆ X   │\n",
      "│ 7   ┆ X   │\n",
      "└─────┴─────┘\n",
      "shape: (4, 2)\n",
      "┌─────┬───────┐\n",
      "│ y   ┆ count │\n",
      "│ --- ┆ ---   │\n",
      "│ str ┆ u32   │\n",
      "╞═════╪═══════╡\n",
      "│ A   ┆ 3     │\n",
      "│ B   ┆ 2     │\n",
      "│ C   ┆ 1     │\n",
      "│ X   ┆ 2     │\n",
      "└─────┴───────┘\n",
      "shape: (4, 3)\n",
      "┌─────┬───────┬─────┐\n",
      "│ y   ┆ count ┆ sum │\n",
      "│ --- ┆ ---   ┆ --- │\n",
      "│ str ┆ u32   ┆ i64 │\n",
      "╞═════╪═══════╪═════╡\n",
      "│ A   ┆ 3     ┆ 3   │\n",
      "│ B   ┆ 2     ┆ 7   │\n",
      "│ C   ┆ 1     ┆ 5   │\n",
      "│ X   ┆ 2     ┆ 13  │\n",
      "└─────┴───────┴─────┘\n"
     ]
    }
   ],
   "source": [
    "#Group by\n",
    "df2 = pl.DataFrame(\n",
    "    {\n",
    "        \"x\": range(8),\n",
    "        \"y\": [\"A\", \"A\", \"A\", \"B\", \"B\", \"C\", \"X\", \"X\"],\n",
    "    }\n",
    ")\n",
    "print(df2)\n",
    "print(df2.group_by(\"y\", maintain_order=True).count())\n",
    "print(df2.group_by(\"y\", maintain_order=True).agg(\n",
    "    pl.col(\"x\").count().alias(\"count\"),\n",
    "    pl.col(\"x\").sum().alias(\"sum\"),\n",
    "))"
   ]
  },
  {
   "cell_type": "code",
   "execution_count": 37,
   "metadata": {},
   "outputs": [
    {
     "name": "stdout",
     "output_type": "stream",
     "text": [
      "shape: (8, 4)\n",
      "┌─────┬──────────┬───────┬─────┐\n",
      "│ a   ┆ b        ┆ d     ┆ y   │\n",
      "│ --- ┆ ---      ┆ ---   ┆ --- │\n",
      "│ i64 ┆ f64      ┆ f64   ┆ str │\n",
      "╞═════╪══════════╪═══════╪═════╡\n",
      "│ 0   ┆ 0.197025 ┆ 1.0   ┆ A   │\n",
      "│ 1   ┆ 0.690501 ┆ 2.0   ┆ A   │\n",
      "│ 2   ┆ 0.815058 ┆ NaN   ┆ A   │\n",
      "│ 3   ┆ 0.580804 ┆ NaN   ┆ B   │\n",
      "│ 4   ┆ 0.25513  ┆ 0.0   ┆ B   │\n",
      "│ 5   ┆ 0.601945 ┆ -5.0  ┆ C   │\n",
      "│ 6   ┆ 0.984781 ┆ -42.0 ┆ X   │\n",
      "│ 7   ┆ 0.106888 ┆ null  ┆ X   │\n",
      "└─────┴──────────┴───────┴─────┘\n"
     ]
    }
   ],
   "source": [
    "#Join dataframes\n",
    "df = pl.DataFrame(\n",
    "    {\n",
    "        \"a\": range(8),\n",
    "        \"b\": np.random.rand(8),\n",
    "        \"d\": [1, 2.0, float(\"nan\"), float(\"nan\"), 0, -5, -42, None],\n",
    "    }\n",
    ")\n",
    "\n",
    "df2 = pl.DataFrame(\n",
    "    {\n",
    "        \"x\": range(8),\n",
    "        \"y\": [\"A\", \"A\", \"A\", \"B\", \"B\", \"C\", \"X\", \"X\"],\n",
    "    }\n",
    ")\n",
    "joined = df.join(df2, left_on=\"a\", right_on=\"x\") #left_on and right_on have the same info. Join combines that same info into one columns\n",
    "print(joined)"
   ]
  },
  {
   "cell_type": "code",
   "execution_count": 38,
   "metadata": {},
   "outputs": [
    {
     "name": "stdout",
     "output_type": "stream",
     "text": [
      "shape: (8, 5)\n",
      "┌─────┬──────────┬───────┬─────┬─────┐\n",
      "│ a   ┆ b        ┆ d     ┆ x   ┆ y   │\n",
      "│ --- ┆ ---      ┆ ---   ┆ --- ┆ --- │\n",
      "│ i64 ┆ f64      ┆ f64   ┆ i64 ┆ str │\n",
      "╞═════╪══════════╪═══════╪═════╪═════╡\n",
      "│ 0   ┆ 0.197025 ┆ 1.0   ┆ 0   ┆ A   │\n",
      "│ 1   ┆ 0.690501 ┆ 2.0   ┆ 1   ┆ A   │\n",
      "│ 2   ┆ 0.815058 ┆ NaN   ┆ 2   ┆ A   │\n",
      "│ 3   ┆ 0.580804 ┆ NaN   ┆ 3   ┆ B   │\n",
      "│ 4   ┆ 0.25513  ┆ 0.0   ┆ 4   ┆ B   │\n",
      "│ 5   ┆ 0.601945 ┆ -5.0  ┆ 5   ┆ C   │\n",
      "│ 6   ┆ 0.984781 ┆ -42.0 ┆ 6   ┆ X   │\n",
      "│ 7   ┆ 0.106888 ┆ null  ┆ 7   ┆ X   │\n",
      "└─────┴──────────┴───────┴─────┴─────┘\n"
     ]
    }
   ],
   "source": [
    "#Concat dataframes\n",
    "stacked = df.hstack(df2)\n",
    "print(stacked)"
   ]
  },
  {
   "cell_type": "code",
   "execution_count": 39,
   "metadata": {},
   "outputs": [
    {
     "name": "stdout",
     "output_type": "stream",
     "text": [
      "shape: (3, 2)\n",
      "┌──────────┬──────────┐\n",
      "│ a_log    ┆ b_log    │\n",
      "│ ---      ┆ ---      │\n",
      "│ f64      ┆ f64      │\n",
      "╞══════════╪══════════╡\n",
      "│ 0.0      ┆ 1.386294 │\n",
      "│ 0.693147 ┆ 1.609438 │\n",
      "│ 1.098612 ┆ 1.791759 │\n",
      "└──────────┴──────────┘\n"
     ]
    }
   ],
   "source": [
    "#Supports numpy functions\n",
    "df = pl.DataFrame({\"a\": [1, 2, 3], \"b\": [4, 5, 6]})\n",
    "\n",
    "out = df.select(np.log(pl.all()).name.suffix(\"_log\"))\n",
    "print(out)"
   ]
  },
  {
   "cell_type": "code",
   "execution_count": 40,
   "metadata": {},
   "outputs": [
    {
     "name": "stdout",
     "output_type": "stream",
     "text": [
      "shape: (5, 3)\n",
      "┌─────┬─────┬─────┐\n",
      "│ foo ┆ N   ┆ bar │\n",
      "│ --- ┆ --- ┆ --- │\n",
      "│ str ┆ i64 ┆ str │\n",
      "╞═════╪═════╪═════╡\n",
      "│ A   ┆ 1   ┆ k   │\n",
      "│ A   ┆ 2   ┆ l   │\n",
      "│ B   ┆ 2   ┆ m   │\n",
      "│ B   ┆ 4   ┆ n   │\n",
      "│ C   ┆ 2   ┆ o   │\n",
      "└─────┴─────┴─────┘\n",
      "shape: (3, 6)\n",
      "┌─────┬──────┬──────┬──────┬──────┬──────┐\n",
      "│ foo ┆ k    ┆ l    ┆ m    ┆ n    ┆ o    │\n",
      "│ --- ┆ ---  ┆ ---  ┆ ---  ┆ ---  ┆ ---  │\n",
      "│ str ┆ i64  ┆ i64  ┆ i64  ┆ i64  ┆ i64  │\n",
      "╞═════╪══════╪══════╪══════╪══════╪══════╡\n",
      "│ A   ┆ 1    ┆ 2    ┆ null ┆ null ┆ null │\n",
      "│ B   ┆ null ┆ null ┆ 2    ┆ 4    ┆ null │\n",
      "│ C   ┆ null ┆ null ┆ null ┆ null ┆ 2    │\n",
      "└─────┴──────┴──────┴──────┴──────┴──────┘\n"
     ]
    }
   ],
   "source": [
    "#Pivot\n",
    "df = pl.DataFrame(\n",
    "    {\n",
    "        \"foo\": [\"A\", \"A\", \"B\", \"B\", \"C\"],\n",
    "        \"N\": [1, 2, 2, 4, 2],\n",
    "        \"bar\": [\"k\", \"l\", \"m\", \"n\", \"o\"],\n",
    "    }\n",
    ")\n",
    "print(df)\n",
    "\n",
    "out = df.pivot(index=\"foo\", columns=\"bar\", values=\"N\", aggregate_function=\"first\")\n",
    "print(out)"
   ]
  },
  {
   "cell_type": "code",
   "execution_count": 41,
   "metadata": {},
   "outputs": [
    {
     "name": "stdout",
     "output_type": "stream",
     "text": [
      "shape: (3, 4)\n",
      "┌─────┬─────┬─────┬─────┐\n",
      "│ A   ┆ B   ┆ C   ┆ D   │\n",
      "│ --- ┆ --- ┆ --- ┆ --- │\n",
      "│ str ┆ i64 ┆ i64 ┆ i64 │\n",
      "╞═════╪═════╪═════╪═════╡\n",
      "│ a   ┆ 1   ┆ 10  ┆ 2   │\n",
      "│ b   ┆ 3   ┆ 11  ┆ 4   │\n",
      "│ a   ┆ 5   ┆ 12  ┆ 6   │\n",
      "└─────┴─────┴─────┴─────┘\n",
      "shape: (6, 4)\n",
      "┌─────┬─────┬──────────┬───────┐\n",
      "│ A   ┆ B   ┆ variable ┆ value │\n",
      "│ --- ┆ --- ┆ ---      ┆ ---   │\n",
      "│ str ┆ i64 ┆ str      ┆ i64   │\n",
      "╞═════╪═════╪══════════╪═══════╡\n",
      "│ a   ┆ 1   ┆ C        ┆ 10    │\n",
      "│ b   ┆ 3   ┆ C        ┆ 11    │\n",
      "│ a   ┆ 5   ┆ C        ┆ 12    │\n",
      "│ a   ┆ 1   ┆ D        ┆ 2     │\n",
      "│ b   ┆ 3   ┆ D        ┆ 4     │\n",
      "│ a   ┆ 5   ┆ D        ┆ 6     │\n",
      "└─────┴─────┴──────────┴───────┘\n"
     ]
    }
   ],
   "source": [
    "#Melt\n",
    "df = pl.DataFrame(\n",
    "    {\n",
    "        \"A\": [\"a\", \"b\", \"a\"],\n",
    "        \"B\": [1, 3, 5],\n",
    "        \"C\": [10, 11, 12],\n",
    "        \"D\": [2, 4, 6],\n",
    "    }\n",
    ")\n",
    "print(df)\n",
    "\n",
    "out = df.melt(id_vars=[\"A\", \"B\"], value_vars=[\"C\", \"D\"])\n",
    "print(out)"
   ]
  },
  {
   "cell_type": "code",
   "execution_count": 46,
   "metadata": {},
   "outputs": [
    {
     "name": "stdout",
     "output_type": "stream",
     "text": [
      "shape: (100, 2)\n",
      "┌────────────┬────────┐\n",
      "│ Date       ┆ Close  │\n",
      "│ ---        ┆ ---    │\n",
      "│ date       ┆ f64    │\n",
      "╞════════════╪════════╡\n",
      "│ 1981-02-23 ┆ 24.62  │\n",
      "│ 1981-05-06 ┆ 27.38  │\n",
      "│ 1981-05-18 ┆ 28.0   │\n",
      "│ 1981-09-25 ┆ 14.25  │\n",
      "│ …          ┆ …      │\n",
      "│ 2012-12-04 ┆ 575.85 │\n",
      "│ 2013-07-05 ┆ 417.42 │\n",
      "│ 2013-11-07 ┆ 512.49 │\n",
      "│ 2014-02-25 ┆ 522.06 │\n",
      "└────────────┴────────┘\n",
      "shape: (100, 3)\n",
      "┌────────────┬────────┬──────┐\n",
      "│ Date       ┆ Close  ┆ year │\n",
      "│ ---        ┆ ---    ┆ ---  │\n",
      "│ date       ┆ f64    ┆ i32  │\n",
      "╞════════════╪════════╪══════╡\n",
      "│ 1981-02-23 ┆ 24.62  ┆ 1981 │\n",
      "│ 1981-05-06 ┆ 27.38  ┆ 1981 │\n",
      "│ 1981-05-18 ┆ 28.0   ┆ 1981 │\n",
      "│ 1981-09-25 ┆ 14.25  ┆ 1981 │\n",
      "│ …          ┆ …      ┆ …    │\n",
      "│ 2012-12-04 ┆ 575.85 ┆ 2012 │\n",
      "│ 2013-07-05 ┆ 417.42 ┆ 2013 │\n",
      "│ 2013-11-07 ┆ 512.49 ┆ 2013 │\n",
      "│ 2014-02-25 ┆ 522.06 ┆ 2014 │\n",
      "└────────────┴────────┴──────┘\n"
     ]
    }
   ],
   "source": [
    "#Other functionalites (time series)\n",
    "df = pl.read_csv(\"apple_stock.csv\", try_parse_dates=False)\n",
    "df = df.with_columns(pl.col(\"Date\").str.to_date(\"%Y-%m-%d\")) #Parses strings to dates\n",
    "df_with_year = df.with_columns(pl.col(\"Date\").dt.year().alias(\"year\")) #.dt pulls the year\n",
    "print(df)\n",
    "print(df_with_year)\n"
   ]
  },
  {
   "cell_type": "code",
   "execution_count": 47,
   "metadata": {},
   "outputs": [
    {
     "name": "stdout",
     "output_type": "stream",
     "text": [
      "shape: (1, 2)\n",
      "┌────────────┬───────┐\n",
      "│ Date       ┆ Close │\n",
      "│ ---        ┆ ---   │\n",
      "│ date       ┆ f64   │\n",
      "╞════════════╪═══════╡\n",
      "│ 1995-10-16 ┆ 36.13 │\n",
      "└────────────┴───────┘\n"
     ]
    }
   ],
   "source": [
    "filtered_df = df.filter(\n",
    "    pl.col(\"Date\") == datetime(1995, 10, 16),\n",
    ")\n",
    "print(filtered_df)"
   ]
  },
  {
   "cell_type": "code",
   "execution_count": 48,
   "metadata": {},
   "outputs": [
    {
     "name": "stdout",
     "output_type": "stream",
     "text": [
      "shape: (2, 2)\n",
      "┌────────────┬───────┐\n",
      "│ Date       ┆ Close │\n",
      "│ ---        ┆ ---   │\n",
      "│ date       ┆ f64   │\n",
      "╞════════════╪═══════╡\n",
      "│ 1995-07-06 ┆ 47.0  │\n",
      "│ 1995-10-16 ┆ 36.13 │\n",
      "└────────────┴───────┘\n"
     ]
    }
   ],
   "source": [
    "filtered_range_df = df.filter(\n",
    "    pl.col(\"Date\").is_between(datetime(1995, 7, 1), datetime(1995, 11, 1)),\n",
    ")\n",
    "print(filtered_range_df)"
   ]
  },
  {
   "cell_type": "code",
   "execution_count": 49,
   "metadata": {},
   "outputs": [
    {
     "name": "stdout",
     "output_type": "stream",
     "text": [
      "shape: (100, 2)\n",
      "┌────────────┬────────┐\n",
      "│ Date       ┆ Close  │\n",
      "│ ---        ┆ ---    │\n",
      "│ date       ┆ f64    │\n",
      "╞════════════╪════════╡\n",
      "│ 1981-02-23 ┆ 24.62  │\n",
      "│ 1981-05-06 ┆ 27.38  │\n",
      "│ 1981-05-18 ┆ 28.0   │\n",
      "│ 1981-09-25 ┆ 14.25  │\n",
      "│ …          ┆ …      │\n",
      "│ 2012-12-04 ┆ 575.85 │\n",
      "│ 2013-07-05 ┆ 417.42 │\n",
      "│ 2013-11-07 ┆ 512.49 │\n",
      "│ 2014-02-25 ┆ 522.06 │\n",
      "└────────────┴────────┘\n"
     ]
    }
   ],
   "source": [
    "df_sort = df.sort(\"Date\")\n",
    "print(df_sort)"
   ]
  },
  {
   "cell_type": "code",
   "execution_count": 52,
   "metadata": {},
   "outputs": [
    {
     "name": "stdout",
     "output_type": "stream",
     "text": [
      "shape: (34, 3)\n",
      "┌────────────┬───────────┬──────┐\n",
      "│ Date       ┆ Close     ┆ year │\n",
      "│ ---        ┆ ---       ┆ ---  │\n",
      "│ date       ┆ f64       ┆ i32  │\n",
      "╞════════════╪═══════════╪══════╡\n",
      "│ 1981-01-01 ┆ 23.5625   ┆ 1981 │\n",
      "│ 1982-01-01 ┆ 11.0      ┆ 1982 │\n",
      "│ 1983-01-01 ┆ 30.543333 ┆ 1983 │\n",
      "│ 1984-01-01 ┆ 27.583333 ┆ 1984 │\n",
      "│ …          ┆ …         ┆ …    │\n",
      "│ 2011-01-01 ┆ 368.225   ┆ 2011 │\n",
      "│ 2012-01-01 ┆ 560.965   ┆ 2012 │\n",
      "│ 2013-01-01 ┆ 464.955   ┆ 2013 │\n",
      "│ 2014-01-01 ┆ 522.06    ┆ 2014 │\n",
      "└────────────┴───────────┴──────┘\n"
     ]
    }
   ],
   "source": [
    "#Average per time period\n",
    "annual_average_df = df_sort.group_by_dynamic(\"Date\", every=\"1y\").agg(pl.col(\"Close\").mean())#df has to be sorted!!\n",
    "df_with_year = annual_average_df.with_columns(pl.col(\"Date\").dt.year().alias(\"year\"))\n",
    "print(df_with_year)"
   ]
  },
  {
   "cell_type": "code",
   "execution_count": null,
   "metadata": {},
   "outputs": [],
   "source": []
  }
 ],
 "metadata": {
  "kernelspec": {
   "display_name": "Python 3 (ipykernel)",
   "language": "python",
   "name": "python3"
  },
  "language_info": {
   "codemirror_mode": {
    "name": "ipython",
    "version": 3
   },
   "file_extension": ".py",
   "mimetype": "text/x-python",
   "name": "python",
   "nbconvert_exporter": "python",
   "pygments_lexer": "ipython3",
   "version": "3.11.7"
  },
  "toc-showtags": true
 },
 "nbformat": 4,
 "nbformat_minor": 4
}
