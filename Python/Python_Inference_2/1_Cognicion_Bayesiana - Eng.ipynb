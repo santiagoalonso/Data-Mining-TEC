{
 "cells": [
  {
   "cell_type": "code",
   "execution_count": 1,
   "metadata": {
    "slideshow": {
     "slide_type": "skip"
    }
   },
   "outputs": [],
   "source": [
    "#Tables and matrices\n",
    "import numpy as np\n",
    "import pandas as pd\n",
    "\n",
    "#Stats \n",
    "import scipy.stats as st\n",
    "\n",
    "#Graphs\n",
    "import seaborn as sns\n",
    "import matplotlib.pyplot as plt\n"
   ]
  },
  {
   "cell_type": "markdown",
   "metadata": {
    "slideshow": {
     "slide_type": "slide"
    }
   },
   "source": [
    "# Bayesian Cognition\n"
   ]
  },
  {
   "cell_type": "markdown",
   "metadata": {
    "slideshow": {
     "slide_type": "fragment"
    }
   },
   "source": [
    "Santiago Alonso-Díaz, PhD\n",
    "\n",
    "Universidad Javeriana"
   ]
  },
  {
   "cell_type": "markdown",
   "metadata": {
    "slideshow": {
     "slide_type": "slide"
    }
   },
   "source": [
    "# Posteriors, priors, & likelihoods"
   ]
  },
  {
   "cell_type": "markdown",
   "metadata": {
    "slideshow": {
     "slide_type": "subslide"
    }
   },
   "source": [
    "\n",
    " \n",
    "| Prior (beliefs)  | <font size = '20'>   <pre>  </pre> </font>  | Likelihood (data) |   \n",
    "|:---:|---|:---:|\n",
    "| <img src=\"img/1_CB/Bayes1.png\" width = \"300\" height = '300'> |  |  <img src=\"img/1_CB/Bayes2.jpg\" width = \"300\" height = '300'>  |  \n",
    "\n"
   ]
  },
  {
   "cell_type": "markdown",
   "metadata": {
    "slideshow": {
     "slide_type": "subslide"
    }
   },
   "source": [
    "\n",
    "| Prior (beliefs)  | <font size = '20'>   <pre>  </pre> </font>  | Likelihood (data) |   \n",
    "|:---:|---|:---:|\n",
    "| <img src=\"img/1_CB/Bayes3.jpg\" width = \"300\" height = '300'> |  |  <img src=\"img/1_CB/Bayes4.png\" width = \"300\" height = '300'>  |  \n"
   ]
  },
  {
   "cell_type": "markdown",
   "metadata": {
    "slideshow": {
     "slide_type": "subslide"
    }
   },
   "source": [
    "### ¿Extraterrestrial? ¿Likelihood? ¿Prior?\n",
    "\n",
    "<center><img src=\"img/1_CB/Bayes5.jpg\" width = \"400\" height = '400'></center> \n"
   ]
  },
  {
   "cell_type": "markdown",
   "metadata": {
    "slideshow": {
     "slide_type": "subslide"
    }
   },
   "source": [
    "\n",
    "Bayes found how to combine priors y likelihoods\n",
    "\n",
    "\n",
    "$$ Posterior = \\frac{Prior \\times Likelihood}{Marginal} $$"
   ]
  },
  {
   "cell_type": "markdown",
   "metadata": {
    "slideshow": {
     "slide_type": "fragment"
    }
   },
   "source": [
    "Same formula, different \"names\"\n",
    "\n",
    "$$ Belief_{t+1} = \\frac{Belief_t \\times Likelihood}{Marginal} $$"
   ]
  },
  {
   "cell_type": "markdown",
   "metadata": {
    "slideshow": {
     "slide_type": "fragment"
    }
   },
   "source": [
    "Same formula expanded\n",
    "\n",
    "\n",
    "$$ p(Hypothesis|Data) = \\frac{p(Hypothesis) \\times p(Data|Hypothesis)}{p(Data)} $$"
   ]
  },
  {
   "cell_type": "markdown",
   "metadata": {
    "slideshow": {
     "slide_type": "slide"
    }
   },
   "source": [
    "# Theorem's proof"
   ]
  },
  {
   "cell_type": "markdown",
   "metadata": {
    "slideshow": {
     "slide_type": "subslide"
    }
   },
   "source": [
    "<center><img src=\"img/1_CB/Bayes6.svg\" width = \"600\" height = '600'></center> \n"
   ]
  },
  {
   "cell_type": "markdown",
   "metadata": {
    "slideshow": {
     "slide_type": "subslide"
    }
   },
   "source": [
    "<center><img src=\"img/1_CB/Bayes7.svg\" width = \"600\" height = '600'></center> \n"
   ]
  },
  {
   "cell_type": "markdown",
   "metadata": {
    "slideshow": {
     "slide_type": "subslide"
    }
   },
   "source": [
    "<center><img src=\"img/1_CB/Bayes8.svg\" width = \"600\" height = '600'></center> \n"
   ]
  },
  {
   "cell_type": "markdown",
   "metadata": {
    "slideshow": {
     "slide_type": "slide"
    }
   },
   "source": [
    "# Visualization of posteriors, priors, y likelihoods"
   ]
  },
  {
   "cell_type": "markdown",
   "metadata": {
    "slideshow": {
     "slide_type": "subslide"
    }
   },
   "source": [
    "## Hipotheses space (events)\n",
    "<center><img src=\"img/1_CB/Bayes9.svg\" width = \"400\" height = '400'></center> \n"
   ]
  },
  {
   "cell_type": "markdown",
   "metadata": {
    "slideshow": {
     "slide_type": "subslide"
    }
   },
   "source": [
    "## Hipotheses space (events)\n",
    "<center><img src=\"img/1_CB/Bayes10.svg\" width = \"400\" height = '400'></center> \n"
   ]
  },
  {
   "cell_type": "markdown",
   "metadata": {
    "slideshow": {
     "slide_type": "subslide"
    }
   },
   "source": [
    "## Priors\n",
    "<center><img src=\"img/1_CB/Bayes11.svg\" width = \"600\" height = '600'></center> \n"
   ]
  },
  {
   "cell_type": "markdown",
   "metadata": {
    "slideshow": {
     "slide_type": "subslide"
    }
   },
   "source": [
    "## Data\n",
    "### Marginal: overall probability of the data, across all priors (gray divided by the hypotheses space area)\n",
    "\n",
    "\n",
    "<center><img src=\"img/1_CB/Bayes12.svg\" width = \"550\" height = '550'></center> \n"
   ]
  },
  {
   "cell_type": "markdown",
   "metadata": {
    "slideshow": {
     "slide_type": "subslide"
    }
   },
   "source": [
    "## Likelihoods\n",
    "<center><img src=\"img/1_CB/Bayes13.svg\" width = \"550\" height = '550'></center> \n"
   ]
  },
  {
   "cell_type": "markdown",
   "metadata": {
    "slideshow": {
     "slide_type": "subslide"
    }
   },
   "source": [
    "<center><img src=\"img/1_CB/Bayes14.svg\" width = \"550\" height = '550'></center> \n"
   ]
  },
  {
   "cell_type": "markdown",
   "metadata": {
    "slideshow": {
     "slide_type": "subslide"
    }
   },
   "source": [
    "\n",
    "<center><img src=\"img/1_CB/Bayes15.svg\" width = \"550\" height = '550'></center> \n"
   ]
  },
  {
   "cell_type": "markdown",
   "metadata": {
    "slideshow": {
     "slide_type": "subslide"
    }
   },
   "source": [
    "## Posterior\n",
    "\n",
    "<center><img src=\"img/1_CB/Bayes16.svg\" width = \"550\" height = '550'></center> \n"
   ]
  },
  {
   "cell_type": "markdown",
   "metadata": {
    "jp-MarkdownHeadingCollapsed": true,
    "slideshow": {
     "slide_type": "subslide"
    }
   },
   "source": [
    "## Posterior vs. likelihood\n",
    "<center><img src=\"img/1_CB/Bayes17.svg\" width = \"700\" height = '700'></center> "
   ]
  },
  {
   "cell_type": "markdown",
   "metadata": {
    "slideshow": {
     "slide_type": "slide"
    }
   },
   "source": [
    "# Bayesian Cognition: \n",
    "### Combina data and beliefs with Bayes' Theorem\n",
    "\n",
    "An initial example from social psychology (Jara-Ettinger, et al, 2016)"
   ]
  },
  {
   "cell_type": "markdown",
   "metadata": {
    "slideshow": {
     "slide_type": "subslide"
    }
   },
   "source": [
    "<p style = \"font-size: 25px\">¿What does <span style=\"color:blue\"> <b>little-blue</b></span> prefer? </p>\n",
    "\n",
    "<center><img src=\"img/1_CB/Bayes18.svg\" width = \"300\" height = '300'></center> "
   ]
  },
  {
   "cell_type": "markdown",
   "metadata": {
    "slideshow": {
     "slide_type": "subslide"
    }
   },
   "source": [
    "<p style = \"font-size: 25px\">¿What does <span style=\"color:blue\"> <b>little-blue</b></span> prefer? </p>\n",
    "\n",
    "<center><img src=\"img/1_CB/Bayes19.svg\" width = \"550\" height = '300'></center> "
   ]
  },
  {
   "cell_type": "markdown",
   "metadata": {
    "slideshow": {
     "slide_type": "subslide"
    }
   },
   "source": [
    "<p style = \"font-size: 25px\"><span style=\"color:blue\"> <b>Little-blues</b></span> asked for help. Is he lazy? </p>\n",
    "\n",
    "<center><img src=\"img/1_CB/Bayes20.svg\" width = \"350\" height = '350'></center> "
   ]
  },
  {
   "cell_type": "markdown",
   "metadata": {
    "slideshow": {
     "slide_type": "subslide"
    }
   },
   "source": [
    "<p style = \"font-size: 25px\">Who is meaner?<span style=\"color:green\"> <b>green</b></span>? <span style=\"color:red\"> <b>red</b></span>? </p>\n",
    "\n",
    "<center><img src=\"img/1_CB/Bayes21.svg\" width = \"300\" height = '300'></center> "
   ]
  },
  {
   "cell_type": "markdown",
   "metadata": {
    "slideshow": {
     "slide_type": "subslide"
    }
   },
   "source": [
    "<p style = \"font-size: 25px\">We can infer latent mental states of <span style=\"color:blue\"> <b>little-blue</b></span> (e.g. preferences) with Bayes's theorem </p>\n",
    "\n",
    "\n",
    "$$ p(Preference|Action) \\propto p(Action|Preference)p(Preference)$$"
   ]
  },
  {
   "cell_type": "markdown",
   "metadata": {
    "slideshow": {
     "slide_type": "subslide"
    }
   },
   "source": [
    "<p style = \"font-size: 25px\">For example, let's use a normal likelihood (over actions) and uniform prior (over preferences) </p>\n",
    "<br>\n",
    "<center><img src=\"img/1_CB/Bayes22.svg\" width = \"600\" height = '300'></center> "
   ]
  },
  {
   "cell_type": "markdown",
   "metadata": {
    "slideshow": {
     "slide_type": "subslide"
    }
   },
   "source": [
    "<center><img src=\"img/1_CB/Bayes23.svg\" width = \"600\" height = '300'></center> "
   ]
  },
  {
   "cell_type": "markdown",
   "metadata": {
    "slideshow": {
     "slide_type": "subslide"
    }
   },
   "source": [
    "<center><img src=\"img/1_CB/Bayes24.svg\" width = \"600\" height = '300'></center> "
   ]
  },
  {
   "cell_type": "markdown",
   "metadata": {
    "slideshow": {
     "slide_type": "subslide"
    }
   },
   "source": [
    "<center><img src=\"img/1_CB/Bayes25.svg\" width = \"600\" height = '300'></center> "
   ]
  },
  {
   "cell_type": "markdown",
   "metadata": {
    "slideshow": {
     "slide_type": "subslide"
    }
   },
   "source": [
    "<center><img src=\"img/1_CB/Bayes26.svg\" width = \"600\" height = '300'></center> "
   ]
  },
  {
   "cell_type": "markdown",
   "metadata": {
    "slideshow": {
     "slide_type": "slide"
    }
   },
   "source": [
    "# Two ways to obtain the posterior distribution\n",
    "### Mathematical analyses\n",
    "### Simulations (e.g. MCMC)"
   ]
  },
  {
   "cell_type": "markdown",
   "metadata": {
    "slideshow": {
     "slide_type": "slide"
    }
   },
   "source": [
    "# Form 1: Mathematical analyses. \n",
    "### Case: Likelihood & prior are normal"
   ]
  },
  {
   "cell_type": "markdown",
   "metadata": {
    "slideshow": {
     "slide_type": "subslide"
    }
   },
   "source": [
    "Description of the problem:\n",
    "1. One observation X, to justify an hypothesis `H`.\n",
    "2. How much do we believe in `H` given the observation X?"
   ]
  },
  {
   "cell_type": "markdown",
   "metadata": {
    "slideshow": {
     "slide_type": "subslide"
    }
   },
   "source": [
    "The solution, in natural language: \n",
    "\n",
    "Belief in H is proportional to the probability that X happens, given that H is true, weighted by my prior belief in H"
   ]
  },
  {
   "cell_type": "markdown",
   "metadata": {
    "slideshow": {
     "slide_type": "subslide"
    }
   },
   "source": [
    "In Bayes's terms: \n",
    "\\begin{equation}\n",
    "Posterior \\propto Likelihood \\times Prior \\\\ \n",
    "p(H|X) \\propto p(X|H) \\times p(H)\n",
    "\\end{equation}"
   ]
  },
  {
   "cell_type": "markdown",
   "metadata": {
    "slideshow": {
     "slide_type": "subslide"
    }
   },
   "source": [
    "Replacing by our proposed normal and likelihood:\n",
    "<br><br>\n",
    "\\begin{equation}\n",
    "p(H|X) \\propto Normal(X|\\mu=H,  \\sigma^2) \\times Normal(H|\\mu=H_0, \\sigma^2_0)\n",
    "\\end{equation}\n",
    "<br><br>\n",
    "<p style = 'font-size: 18px'> Note: we know $H_0$, $\\sigma^2_0$, y $\\sigma^2$. </p>"
   ]
  },
  {
   "cell_type": "markdown",
   "metadata": {
    "slideshow": {
     "slide_type": "subslide"
    }
   },
   "source": [
    "Let's now see the analytical solution to the problem with normal distributions"
   ]
  },
  {
   "cell_type": "markdown",
   "metadata": {
    "slideshow": {
     "slide_type": "subslide"
    }
   },
   "source": [
    "This is the formula of a normal density of a variable x with mean $\\mu$ and standard deviation $\\sigma$\n",
    "<br>\n",
    "\\begin{equation}\n",
    "\\frac{1}{\\sqrt{2\\pi \\sigma^2}} e^{\\frac{-(x-\\mu)^2}{2\\sigma^2}}\n",
    "\\end{equation}\n"
   ]
  },
  {
   "cell_type": "markdown",
   "metadata": {
    "slideshow": {
     "slide_type": "subslide"
    }
   },
   "source": [
    "We multiply two normals (likelihood and prior):\n",
    "<br> <br> \n",
    "\\begin{equation}\n",
    "p(H|X) \\propto Normal(X|\\mu=H,  \\sigma^2) \\times Normal(H|\\mu=H_0, \\sigma^2_0)\n",
    "\\end{equation}\n",
    "<br>\n",
    "\n",
    "Let's plug-in the formulas of the normals:\n",
    "\\begin{equation}\n",
    "p(H|X) \\propto \\frac{1}{\\sqrt{2\\pi \\sigma^2}} e^{\\frac{-(x-H)^2}{2\\sigma^2}} \\times \\frac{1}{\\sqrt{2\\pi \\sigma^2_0}} e^{\\frac{-(H-H_0)^2}{2\\sigma^2_0}} \n",
    "\\end{equation}  "
   ]
  },
  {
   "cell_type": "markdown",
   "metadata": {
    "slideshow": {
     "slide_type": "subslide"
    }
   },
   "source": [
    "After some algebra ...\n",
    "\\begin{equation}\n",
    "p(H|X) = \\frac{1}{\\sqrt{2\\pi \\sigma^2_1}} e^{\\frac{-(\\mu-\\mu_1)^2}{2\\sigma^2_1}} \n",
    "\\end{equation} \n",
    "\n",
    "Where\n",
    "\\begin{equation}\n",
    "\\sigma^2_1 \\;\\; = \\;\\; \\left( \\frac{1}{\\sigma^2} \\;\\;+\\;\\;  \\frac{1}{\\sigma^2_0}\\right)^{-1} \\\\\n",
    "\\mu_1 = \\frac{\\mu_0\\sigma^{-2}_0 + X\\sigma^{-2}}{\\sigma^{-2}+\\sigma^{-2}_0} \n",
    "\\end{equation} \n",
    "\n",
    "<p style = 'font-size:16px'> Note: when X are n independent observations, we divide $\\sigma^2$ by n, and X is the sample mean $\\overline{X}$ </p>"
   ]
  },
  {
   "cell_type": "markdown",
   "metadata": {
    "slideshow": {
     "slide_type": "subslide"
    }
   },
   "source": [
    "In natural language:\n",
    "\n",
    "Our belief in H has a gaussian probability, \n",
    "\n",
    "\\begin{equation}\n",
    "p(H|X) \\sim Normal(\\mu_1, \\sigma^2_1)\n",
    "\\end{equation} \n",
    "\n",
    "The posterior mean $\\mu_1 $ depends on $\\mu_0$ (mean of the prior) and $\\overline{X}$ (mean of the data), weighted and scaled by the prior and likelihood precisions ($\\sigma^{-2}_0$ y $\\sigma^{-2}$).\n",
    "\n",
    "\\begin{equation}\n",
    "\\frac{\\frac{\\mu_0}{\\sigma^{2}_0} + \\frac{\\overline{X}}{\\frac{\\sigma^{2}}{n}}}{\\frac{1}{\\frac{\\sigma^{2}}{n}}+\\frac{1}{\\sigma^{2}_0}} \n",
    "\\end{equation} \n",
    "\n",
    "The posterior variance $\\sigma^2_1 $ depends on the standard deviations of the likelihood and prior \n",
    "\n",
    "\\begin{equation}\n",
    "\\left( \\frac{1}{\\frac{\\sigma^2}{n}} \\;\\;+\\;\\;  \\frac{1}{\\sigma^2_0}\\right)^{-1}\n",
    "\\end{equation} \n",
    " "
   ]
  },
  {
   "cell_type": "code",
   "execution_count": 20,
   "metadata": {},
   "outputs": [
    {
     "name": "stdout",
     "output_type": "stream",
     "text": [
      "181.97793561160714 88.14875437190933\n"
     ]
    }
   ],
   "source": [
    "xpuj = np.random.normal(loc=180, scale=20, size = 30) #Population sample\n",
    "n = xpuj.shape[0]\n",
    "mu0 = 60\n",
    "sigma0 = 20\n",
    "sigma = 200\n",
    "x_bar = xpuj.mean()\n",
    "mu1 = (mu0/sigma0**(2) + x_bar/(sigma**(2)/n))/(1/(sigma**2/n) + 1/(sigma0**2))\n",
    "print(x_bar, mu1)"
   ]
  },
  {
   "cell_type": "markdown",
   "metadata": {
    "slideshow": {
     "slide_type": "slide"
    }
   },
   "source": [
    "# Form 2: Simulations (MCMC) "
   ]
  },
  {
   "cell_type": "markdown",
   "metadata": {
    "slideshow": {
     "slide_type": "subslide"
    }
   },
   "source": [
    "Rejection sampling:  <br> Indirectly draw samples from p(x) (gray) with a simpler distribution $M q (x)$, higher than p(x) (white). N are iterations (not final samples, as some are rejected).\n",
    "<center><img src=\"img/1_CB/Bayes27.png\" width = \"600\" height = '300'></center> \n",
    "\n",
    "Fuente: Andrieu, et al, (2003)"
   ]
  },
  {
   "cell_type": "markdown",
   "metadata": {
    "slideshow": {
     "slide_type": "subslide"
    }
   },
   "source": [
    "In simple words: only accept highly probable samples of p(x), relative to Mq(x).\n",
    "\n",
    "<center><img src=\"img/1_CB/Bayes27b.png\" width = \"600\" height = '300'></center> "
   ]
  },
  {
   "cell_type": "code",
   "execution_count": 2,
   "metadata": {
    "slideshow": {
     "slide_type": "subslide"
    }
   },
   "outputs": [],
   "source": [
    "#From Agustinus Kristiadi's blog (https://wiseodd.github.io/techblog/2015/10/21/rejection-sampling/)\n",
    "\n",
    "def p(x): \n",
    "    #Target distribution (the one we want to draw samples from)\n",
    "    #Proportional to p(x) i.e. the integral from -inf,inf is not 1.\n",
    "    \n",
    "    return st.norm.pdf(x, loc=30, scale=10) + st.norm.pdf(x, loc=80, scale=20)\n",
    "\n",
    "def q(x): \n",
    "    #Simpler distribution that we know how to draw samples from.\n",
    "    return st.norm.pdf(x, loc=info_q[0], scale=info_q[1])\n",
    "\n",
    "\n",
    "def rejection_sampling(iter=1000):\n",
    "    #The sampling algorithm\n",
    "    samples = []\n",
    "    for i in range(iter):\n",
    "        x_proposed = np.random.normal(info_q[0], info_q[1]) \n",
    "        u = np.random.uniform(0, M*q(x_proposed))\n",
    "\n",
    "        if u <= p(x_proposed):\n",
    "            samples.append(x_proposed)\n",
    "\n",
    "    return np.array(samples)"
   ]
  },
  {
   "cell_type": "code",
   "execution_count": 34,
   "metadata": {
    "slideshow": {
     "slide_type": "subslide"
    }
   },
   "outputs": [
    {
     "data": {
      "image/png": "[encoded data removed]",
      "text/plain": [
       "<Figure size 720x432 with 1 Axes>"
      ]
     },
     "metadata": {
      "needs_background": "light"
     },
     "output_type": "display_data"
    },
    {
     "data": {
      "text/plain": [
       "<Figure size 432x288 with 0 Axes>"
      ]
     },
     "metadata": {},
     "output_type": "display_data"
    },
    {
     "data": {
      "image/png": "[encoded data removed]",
      "text/plain": [
       "<Figure size 691.2x345.6 with 1 Axes>"
      ]
     },
     "metadata": {
      "needs_background": "light"
     },
     "output_type": "display_data"
    }
   ],
   "source": [
    "# Graphs\n",
    "info_q = [50,30]\n",
    "x = np.arange(-50, 151)\n",
    "M = max(p(x) / q(x)) #Makes sure that Mq > p\n",
    "\n",
    "fig, ax = plt.subplots(1,1, figsize=(10,6))\n",
    "ax.plot(x, p(x), label = 'p: the one we want to sample from') \n",
    "ax.plot(x, M*q(x), label = 'Mq: the one we know how to sample')\n",
    "ax.set_ylim([0,0.065])\n",
    "ax.legend(loc='upper left')\n",
    "\n",
    "plt.figure()\n",
    "s = rejection_sampling(iter=10000)\n",
    "sns.displot(s,kde=True, height=4.8, aspect=2)\n",
    "plt.title('Algorithm samples')\n",
    "plt.tight_layout()\n",
    "plt.show()"
   ]
  },
  {
   "cell_type": "markdown",
   "metadata": {
    "slideshow": {
     "slide_type": "subslide"
    }
   },
   "source": [
    "MCMC sampling with Metropolis Hastings: <br> Draw samples from p(x) through a simpler distribution q(x) (red) that can move. The movements are Markov-like: they only depend on the current position.\n",
    "\n",
    "<center><img src=\"img/1_CB/Bayes28.svg\" width = \"325\" height = '300'></center> \n",
    "\n"
   ]
  },
  {
   "cell_type": "markdown",
   "metadata": {
    "slideshow": {
     "slide_type": "subslide"
    }
   },
   "source": [
    "Metropolis Hastings approximates arbitary distributions. Here we see a bimodal target with examples of proposal distributions q(x) with different standard deviations $\\sigma$.\n",
    "\n",
    "<center><img src=\"img/1_CB/Bayes29.png\" width = \"325\" height = '300'></center> \n",
    "\n",
    "Fuente: Andrieu, et al, (2003)\n",
    "\n"
   ]
  },
  {
   "cell_type": "markdown",
   "metadata": {
    "slideshow": {
     "slide_type": "subslide"
    }
   },
   "source": [
    "Luckily, there are many packages that implement popular sampling algorithms: \n",
    "\n",
    "* PyMC (Python)\n",
    "* Edward (Python)\n",
    "* Stan (Python, R, Julia, Stata, Matlab)\n",
    "* JAGS (Python, R)\n",
    "\n"
   ]
  },
  {
   "cell_type": "markdown",
   "metadata": {
    "slideshow": {
     "slide_type": "slide"
    }
   },
   "source": [
    "# Bayesian Cognition: Samplers"
   ]
  },
  {
   "cell_type": "markdown",
   "metadata": {
    "slideshow": {
     "slide_type": "subslide"
    }
   },
   "source": [
    "A bayesian sampler (e.g. via MCMC) can explain classic behavioral biases\n",
    "<center><img src=\"img/1_CB/Bayes30.png\" width = \"550\" height = '300'></center> \n",
    "\n",
    "Fuente: Sanborn & Chater (2016)"
   ]
  },
  {
   "cell_type": "markdown",
   "metadata": {
    "slideshow": {
     "slide_type": "subslide"
    }
   },
   "source": [
    "For example, the algorithm may not explore the whole hipothesis space (and make mistakes, be biased)\n",
    "\n",
    "<center><img src=\"img/1_CB/Bayes31.svg\" width = \"750\" height = '300'></center> \n",
    "\n",
    "Fuente: Sanborn & Chater (2016)"
   ]
  },
  {
   "cell_type": "markdown",
   "metadata": {
    "slideshow": {
     "slide_type": "subslide"
    }
   },
   "source": [
    "For example, the algorithm may not explore the whole hipothesis space (and make mistakes, be biased)\n",
    "\n",
    "<center><img src=\"img/1_CB/Bayes32.png\" width = \"450\" height = '300'></center> \n",
    "\n",
    "Fuente: Sanborn & Chater (2016)"
   ]
  },
  {
   "cell_type": "markdown",
   "metadata": {
    "slideshow": {
     "slide_type": "subslide"
    }
   },
   "source": [
    "Let's explore an example that, in principle, can be explain by the cognition-as-sampler theory\n"
   ]
  },
  {
   "cell_type": "markdown",
   "metadata": {
    "slideshow": {
     "slide_type": "subslide"
    }
   },
   "source": [
    "Half of you close your eyes. \n",
    "\n",
    "The other half write a quick estimate of the following multiplication. You only have few seconds."
   ]
  },
  {
   "cell_type": "markdown",
   "metadata": {
    "slideshow": {
     "slide_type": "fragment"
    }
   },
   "source": [
    "$$ 8 \\times 7\\times 6\\times 5\\times 4\\times 3\\times 2\\times 1 $$"
   ]
  },
  {
   "cell_type": "markdown",
   "metadata": {
    "slideshow": {
     "slide_type": "subslide"
    }
   },
   "source": [
    "Open your eyes. \n",
    "\n",
    "Now you do the following multiplication and write the result in a piece of paper. You only have a few seconds.\n"
   ]
  },
  {
   "cell_type": "markdown",
   "metadata": {
    "slideshow": {
     "slide_type": "fragment"
    }
   },
   "source": [
    "$$ 1 \\times 2\\times 3\\times 4\\times 5\\times 6\\times 7\\times 8 $$"
   ]
  },
  {
   "cell_type": "markdown",
   "metadata": {
    "slideshow": {
     "slide_type": "subslide"
    }
   },
   "source": [
    "The difference in the multiplication results is due to anchoring effects. \n",
    "\n",
    "Anchoring matters. For example, in economics anchoring effects *''...challenge the central premise of welfare economics that choices reveal true preferences...''*  (Ariely, et al, 2003)(pp. 102)\n",
    "\n",
    "<center><img src=\"img/1_CB/Bayes33.png\" width = \"500\" height = '300'></center> "
   ]
  },
  {
   "cell_type": "markdown",
   "metadata": {
    "slideshow": {
     "slide_type": "subslide"
    }
   },
   "source": [
    "How to explain anchoring effects? It is hard, but this is a Bayesian-Sampler hypothesis (Lieder, Griffiths, Goodman, 2012):\n",
    "\n",
    "They occur because the sampler starts drawing estimates from the anchor; only after many iterations it starts to drop. \n",
    "\n",
    "<center><img src=\"img/1_CB/Bayes34.png\" width = \"600\" height = '300'></center> "
   ]
  },
  {
   "cell_type": "markdown",
   "metadata": {
    "slideshow": {
     "slide_type": "slide"
    }
   },
   "source": [
    "# Optimal vs Descriptive \n",
    "(Tauber, Navarro, Perfors, & Steyvers, 2017)"
   ]
  },
  {
   "cell_type": "markdown",
   "metadata": {
    "slideshow": {
     "slide_type": "subslide"
    }
   },
   "source": [
    "An optimal agent updates its beliefs with Bayes's rule, using the appropriate priors, likelihoods, and hypotheses \n",
    "\n",
    "$$p(belief|data)\\propto{p(data|belief)p(belief)}$$\n",
    "\n",
    "However, we can also describe a non-optimal agent with alternative priors, likelihoods, and hypotheses\n",
    "\n",
    "<center><img src=\"img/1_CB/TTB.png\" width = \"400\" height = '400'></center>"
   ]
  },
  {
   "cell_type": "markdown",
   "metadata": {
    "slideshow": {
     "slide_type": "subslide"
    }
   },
   "source": [
    "# What make a model Bayesian-optimal? "
   ]
  },
  {
   "cell_type": "markdown",
   "metadata": {
    "slideshow": {
     "slide_type": "subslide"
    }
   },
   "source": [
    "* Appropriate priors\n",
    "* Appropriate likelihoods\n",
    "* Appropriate hipotheses space"
   ]
  },
  {
   "cell_type": "markdown",
   "metadata": {
    "slideshow": {
     "slide_type": "subslide"
    }
   },
   "source": [
    "Example: Gambler's fallacy. \n",
    "\n",
    "All these models are Bayesians, but which one describes a real human? Which one is optimal? Is the human one optimal? \n",
    "\n",
    "<center><img src=\"img/1_CB/Tauber1.png\" width = \"900\" height = '900'></center>"
   ]
  },
  {
   "cell_type": "markdown",
   "metadata": {
    "slideshow": {
     "slide_type": "subslide"
    }
   },
   "source": [
    "Bayesian-optimal: **appropriate** hypotheses, priors, and likelihoods.\n",
    "* e.g. tossing fair coins: uniform prior + independent likelihood\n",
    "\n",
    "Bayesian-descriptive: **alternative** hypotheses, priors, and likelihoods.\n",
    "\n",
    "* e.g. tossing fair coins: biased prior + hot-hand likelihood"
   ]
  },
  {
   "cell_type": "markdown",
   "metadata": {
    "slideshow": {
     "slide_type": "subslide"
    }
   },
   "source": [
    "# Why would we want Bayesian descriptions?\n",
    "\n",
    ">\"To build a Bayesian model, the researcher is forced to specify what form the mental representation might take (the hypothesis space), what biases the learner brings to the problem (the prior), and the rules by which the learner can be influenced by data (the likelihood) ... (in exp 1) people’s behavior systematically deviates from the normative standard set by the optimal Bayesian model, those deviations turn out to be interesting in a way that is naturally captured by the descriptive Bayesian model\" Tauber, et al, 2017, pp. 414, 421"
   ]
  },
  {
   "cell_type": "markdown",
   "metadata": {
    "slideshow": {
     "slide_type": "subslide"
    }
   },
   "source": [
    "# Why are we still interested in optimal Bayesian models?\n",
    "\n",
    "> \"Bayesian methods have proven successful in building computational theories for **perception\n",
    "and sensorimotor control**, and psychophysics is providing a growing body of evidence that human\n",
    "perceptual computations are ‘Bayes’ optimal’. This leads to the ‘Bayesian coding hypothesis’: that the brain represents sensory information probabilistically, in the form of probability distributions\" Knill & Pouget, 2004, pp. 712"
   ]
  },
  {
   "cell_type": "markdown",
   "metadata": {
    "slideshow": {
     "slide_type": "slide"
    }
   },
   "source": [
    "# Conclusions"
   ]
  },
  {
   "cell_type": "markdown",
   "metadata": {},
   "source": [
    "Why Bayesian cognition?\n",
    "\n",
    "It is an ambiguous/uncertain world. The brain has to infer the probability of different hypotheses.\n",
    "\n",
    "<center><img src=\"img/1_CB/Bayes35.png\" width = \"450\" height = '300'></center> "
   ]
  },
  {
   "cell_type": "code",
   "execution_count": 5,
   "metadata": {
    "slideshow": {
     "slide_type": "skip"
    }
   },
   "outputs": [
    {
     "name": "stdout",
     "output_type": "stream",
     "text": [
      "[NbConvertApp] Converting notebook 1_Cognicion_Bayesiana.ipynb to slides\n",
      "[NbConvertApp] Writing 357668 bytes to 1_Cognicion_Bayesiana.slides.html\n"
     ]
    }
   ],
   "source": [
    "!jupyter nbconvert --to slides --SlidesExporter.reveal_theme='solarized' --SlidesExporter.reveal_transition='none' 1_Cognicion_Bayesiana.ipynb #Saves slide"
   ]
  },
  {
   "cell_type": "markdown",
   "metadata": {
    "slideshow": {
     "slide_type": "skip"
    }
   },
   "source": [
    "\n",
    "Para salvar las diapositivas a PDF (en Chrome), correr nbconvert para que abra las diapositivas en un servidor local (la transition y el theme son opcionales):\n",
    "\n",
    "!jupyter nbconvert --to slides --SlidesExporter.reveal_theme='solarized' --SlidesExporter.reveal_transition='convex' nombre_de_mi_notebook.ipynb --post serve\n",
    "\n",
    "Luego, a la dirección añadirle ?print-pdf después del .html:\n",
    "\n",
    "http://127.0.0.1:8000/nombre_de_mi_notebook.slides.html?print-pdf\n",
    "\n",
    "Y luego, imprimir y darle salvar como pdf"
   ]
  },
  {
   "cell_type": "code",
   "execution_count": null,
   "metadata": {
    "slideshow": {
     "slide_type": "skip"
    }
   },
   "outputs": [
    {
     "name": "stdout",
     "output_type": "stream",
     "text": [
      "[NbConvertApp] Converting notebook 1_Cognicion_Bayesiana.ipynb to slides\n",
      "[NbConvertApp] Writing 357670 bytes to 1_Cognicion_Bayesiana.slides.html\n",
      "[NbConvertApp] Redirecting reveal.js requests to https://cdnjs.cloudflare.com/ajax/libs/reveal.js/3.5.0\n",
      "Serving your slides at http://127.0.0.1:8000/1_Cognicion_Bayesiana.slides.html\n",
      "Use Control-C to stop this server\n"
     ]
    }
   ],
   "source": [
    "#Para salvar a pdf\n",
    "!jupyter nbconvert --to slides --SlidesExporter.reveal_theme='solarized' --SlidesExporter.reveal_transition='convex' 1_Cognicion_Bayesiana.ipynb --post serve"
   ]
  },
  {
   "cell_type": "code",
   "execution_count": null,
   "metadata": {},
   "outputs": [],
   "source": []
  }
 ],
 "metadata": {
  "celltoolbar": "Slideshow",
  "kernelspec": {
   "display_name": "Python 3 (ipykernel)",
   "language": "python",
   "name": "python3"
  },
  "language_info": {
   "codemirror_mode": {
    "name": "ipython",
    "version": 3
   },
   "file_extension": ".py",
   "mimetype": "text/x-python",
   "name": "python",
   "nbconvert_exporter": "python",
   "pygments_lexer": "ipython3",
   "version": "3.11.7"
  },
  "rise": {
   "chalkboard": {
    "color": [
     "rgb(250, 0, 0)",
     "rgb(0, 250, 250)"
    ]
   },
   "enable_chalkboard": true,
   "scroll": true,
   "theme": "simple",
   "transition": "none"
  }
 },
 "nbformat": 4,
 "nbformat_minor": 4
}
