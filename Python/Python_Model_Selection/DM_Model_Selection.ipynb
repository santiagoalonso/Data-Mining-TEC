{
 "cells": [
  {
   "cell_type": "code",
   "execution_count": 31,
   "id": "85b9583b-d808-4bdd-b805-b049b5c6d81f",
   "metadata": {
    "editable": true,
    "slideshow": {
     "slide_type": ""
    },
    "tags": []
   },
   "outputs": [
    {
     "name": "stdout",
     "output_type": "stream",
     "text": [
      "Running on PyMC v5.10.3\n"
     ]
    }
   ],
   "source": [
    "#Tables and matrices\n",
    "import numpy as np\n",
    "import pandas as pd\n",
    "\n",
    "#Stats\n",
    "import scipy.stats as st\n",
    "from scipy.optimize import fmin\n",
    "from scipy import integrate\n",
    "from scipy.stats.mstats import mquantiles\n",
    "from sklearn import linear_model\n",
    "from sklearn.model_selection import train_test_split\n",
    "from sklearn.metrics import accuracy_score\n",
    "#from sklearn.preprocessing import OneHotEncoder\n",
    "from patsy import dmatrix\n",
    "from mlxtend.feature_selection import SequentialFeatureSelector\n",
    "\n",
    "#Probabilistic programs\n",
    "#!pip install numpy mkl #if you are in an intel machine i.e. in mac M# chips no\n",
    "#!pip install pymc\n",
    "#!pip install pytensor\n",
    "import pymc as pm\n",
    "import pytensor.tensor as pt\n",
    "#import aesara.tensor as at\n",
    "print('Running on PyMC v{}'.format(pm.__version__))\n",
    "\n",
    "\n",
    "#Graphs \n",
    "#IMPORTANT: properly install ipywidgets and nodejs for interactive graphs\n",
    "#If you are in jupyterlab, activate the widget extension (it should be in the latest versions)\n",
    "import seaborn as sns\n",
    "import matplotlib.pyplot as plt\n",
    "from matplotlib import cm\n",
    "from matplotlib.gridspec import GridSpec\n",
    "from matplotlib import animation, rc\n",
    "from IPython.display import display, HTML, Markdown\n",
    "import ipywidgets as widgets\n",
    "from ipywidgets import interact, interactive, fixed, HBox, VBox, Layout\n",
    "from mpl_toolkits.mplot3d import axes3d\n",
    "import arviz as az"
   ]
  },
  {
   "cell_type": "markdown",
   "id": "31db0363-0791-4bef-abe1-a6e93393409d",
   "metadata": {},
   "source": [
    "# Forward selection"
   ]
  },
  {
   "cell_type": "code",
   "execution_count": 83,
   "id": "e3de939c-c1b2-4e8a-829d-c9bdba002390",
   "metadata": {},
   "outputs": [
    {
     "name": "stdout",
     "output_type": "stream",
     "text": [
      "['Intercept', 'C(League, levels=League_l)[T.A]', 'C(Division, levels=Div_l)[T.W]', 'C(NewLeague, levels=League_l)[T.A]']\n",
      "(263, 20)\n"
     ]
    },
    {
     "data": {
      "text/plain": [
       "League [1_American]        float64\n",
       "Division [1_West]          float64\n",
       "New_League [1_American]    float64\n",
       "AtBat                        int64\n",
       "Hits                         int64\n",
       "HmRun                        int64\n",
       "Runs                         int64\n",
       "RBI                          int64\n",
       "Walks                        int64\n",
       "Years                        int64\n",
       "CAtBat                       int64\n",
       "CHits                        int64\n",
       "CHmRun                       int64\n",
       "CRuns                        int64\n",
       "CRBI                         int64\n",
       "CWalks                       int64\n",
       "PutOuts                      int64\n",
       "Assists                      int64\n",
       "Errors                       int64\n",
       "Salary                     float64\n",
       "dtype: object"
      ]
     },
     "execution_count": 83,
     "metadata": {},
     "output_type": "execute_result"
    }
   ],
   "source": [
    "#We want to predict the salary of a baseball player\n",
    "#Load data\n",
    "Hitters = pd.read_csv(\"Hitters.csv\")\n",
    "Hitters = Hitters.dropna().reset_index(drop=True)\n",
    "\n",
    "#Dummy coding of categorical data\n",
    "League_l = ['N','A'] #first element will be the reference 0, second 1, and so on\n",
    "Div_l = ['E', 'W']\n",
    "dm = dmatrix(\"~ 1 + C(League, levels=League_l) + C(Division, levels=Div_l) + C(NewLeague, levels=League_l)\", \n",
    "             Hitters) #Dummy coding of categorical variables\n",
    "print(dm.design_info.column_names) #to change manually to more readable names\n",
    "\n",
    "#Concatenate dummy coded variables with non-categorical variables\n",
    "non_cat_cols = np.append(np.array(Hitters.columns[0:13]), Hitters.columns[15:19])\n",
    "Hitters_d = pd.concat([pd.DataFrame(dm, columns=[\"Intercept\", \"League [1_American]\", \"Division [1_West]\", \"New_League [1_American]\"]), \n",
    "                       Hitters.loc[:, non_cat_cols]], axis = 1)\n",
    "Hitters_d.drop(columns=['Intercept'], inplace = True)\n",
    "print(Hitters_d.shape)\n",
    "Hitters_d.dtypes"
   ]
  },
  {
   "cell_type": "code",
   "execution_count": 76,
   "id": "c7397e0b-54af-4bf7-808e-e2e1fe55189a",
   "metadata": {},
   "outputs": [],
   "source": [
    "sfs = SequentialFeatureSelector(linear_model.LinearRegression(),\n",
    "                                k_features=3, #k<features in data, see documentation\n",
    "                                forward=True,\n",
    "                                scoring='r2', #goodness measure\n",
    "                                cv=None #Cross validation\n",
    "                               )\n",
    "X = Hitters_d.loc[:, Hitters_d.columns[0:20]]\n",
    "y = Hitters_d.loc[:, \"Salary\"]\n",
    "selected_features = sfs.fit(X, y)"
   ]
  },
  {
   "cell_type": "code",
   "execution_count": 81,
   "id": "29209fcf-9e24-4f05-be48-cd0cdb0cf965",
   "metadata": {},
   "outputs": [
    {
     "data": {
      "text/plain": [
       "('League [1_American]', 'Division [1_West]', 'Salary')"
      ]
     },
     "execution_count": 81,
     "metadata": {},
     "output_type": "execute_result"
    }
   ],
   "source": [
    "selected_features.k_feature_names_"
   ]
  },
  {
   "cell_type": "code",
   "execution_count": 82,
   "id": "1448f7ec-2bec-49e4-a5a6-ac8bdfbcd709",
   "metadata": {},
   "outputs": [
    {
     "data": {
      "text/plain": [
       "{1: {'feature_idx': (19,),\n",
       "  'cv_scores': array([1.]),\n",
       "  'avg_score': 1.0,\n",
       "  'feature_names': ('Salary',)},\n",
       " 2: {'feature_idx': (0, 19),\n",
       "  'cv_scores': array([1.]),\n",
       "  'avg_score': 1.0,\n",
       "  'feature_names': ('League [1_American]', 'Salary')},\n",
       " 3: {'feature_idx': (0, 1, 19),\n",
       "  'cv_scores': array([1.]),\n",
       "  'avg_score': 1.0,\n",
       "  'feature_names': ('League [1_American]', 'Division [1_West]', 'Salary')}}"
      ]
     },
     "execution_count": 82,
     "metadata": {},
     "output_type": "execute_result"
    }
   ],
   "source": [
    "selected_features.subsets_"
   ]
  },
  {
   "cell_type": "code",
   "execution_count": null,
   "id": "acb18978-eb7e-4516-a187-ff4e818e2804",
   "metadata": {},
   "outputs": [],
   "source": []
  }
 ],
 "metadata": {
  "kernelspec": {
   "display_name": "Python 3 (ipykernel)",
   "language": "python",
   "name": "python3"
  },
  "language_info": {
   "codemirror_mode": {
    "name": "ipython",
    "version": 3
   },
   "file_extension": ".py",
   "mimetype": "text/x-python",
   "name": "python",
   "nbconvert_exporter": "python",
   "pygments_lexer": "ipython3",
   "version": "3.11.7"
  }
 },
 "nbformat": 4,
 "nbformat_minor": 5
}
